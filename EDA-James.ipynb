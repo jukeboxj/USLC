{
 "cells": [
  {
   "cell_type": "code",
   "execution_count": 3,
   "metadata": {},
   "outputs": [],
   "source": [
    "# import required libraries\n",
    "# pandas:Data framework library for Python\n",
    "# sklearn: Library to perform machine learning tasks\n",
    "import pandas as pd\n",
    "import numpy as np\n",
    "import scipy\n",
    "import scipy.stats as st\n",
    "import sklearn \n",
    "import sklearn.datasets\n",
    "import sklearn.metrics as metrics \n",
    "from sklearn.linear_model import LogisticRegression\n",
    "from sklearn.cross_validation import StratifiedKFold\n",
    "from sklearn.svm import SVC\n",
    "from sklearn.grid_search import GridSearchCV\n",
    "from sklearn.metrics import classification_report\n",
    "from sklearn.cross_validation import train_test_split\n",
    "from sklearn.preprocessing import label_binarize\n",
    "from sklearn.feature_selection import mutual_info_classif\n",
    "from scipy import stats"
   ]
  },
  {
   "cell_type": "code",
   "execution_count": 133,
   "metadata": {
    "collapsed": true
   },
   "outputs": [],
   "source": [
    "from datetime import datetime"
   ]
  },
  {
   "cell_type": "code",
   "execution_count": 783,
   "metadata": {},
   "outputs": [],
   "source": [
    "Data_2017 = pd.read_excel(\"PERM_Disclosure_Data_FY17.xlsx\")"
   ]
  },
  {
   "cell_type": "code",
   "execution_count": 784,
   "metadata": {},
   "outputs": [],
   "source": [
    "Data_2015 = pd.read_excel(\"PERM_Disclosure_Data_FY15_Q4.xlsx\")"
   ]
  },
  {
   "cell_type": "code",
   "execution_count": 785,
   "metadata": {},
   "outputs": [],
   "source": [
    "Data_2016 = pd.read_excel(\"PERM_Data_FY16.xlsx\")"
   ]
  },
  {
   "cell_type": "code",
   "execution_count": 349,
   "metadata": {},
   "outputs": [],
   "source": [
    "#pd.to_datetime(Data_2015['RI_LOCAL_ETHNIC_PAPER_FROM'].iloc[2][:10], format='%Y-%m-%d')\n",
    "#datetime.strptime(Data_2015['RI_LOCAL_ETHNIC_PAPER_FROM'].iloc[2][:10], '%m%Y')\n",
    "\n",
    "Data_2015['RI_LOCAL_ETHNIC_PAPER_FROM'] = np.where(Data_2015['RI_LOCAL_ETHNIC_PAPER_FROM'].isnull(), pd.NaT, Data_2015['RI_LOCAL_ETHNIC_PAPER_FROM'])"
   ]
  },
  {
   "cell_type": "markdown",
   "metadata": {},
   "source": [
    "RI_EMPLOYEE_REFERRAL_PROG_FROM            object\n",
    "RI_CAMPUS_PLACEMENT_FROM                  object"
   ]
  },
  {
   "cell_type": "code",
   "execution_count": 793,
   "metadata": {},
   "outputs": [],
   "source": [
    "Data_2015.at[8809, 'RI_LOCAL_ETHNIC_PAPER_FROM'] = datetime.strptime('10/22/2014', '%m/%d/%Y')\n",
    "Data_2015.at[29257, 'RI_LOCAL_ETHNIC_PAPER_FROM'] = datetime.strptime('10/06/2014', '%m/%d/%Y')\n",
    "Data_2015.at[86322, 'RI_LOCAL_ETHNIC_PAPER_FROM'] = datetime.strptime('03/09/2015', '%m/%d/%Y')\n",
    "Data_2015['RI_LOCAL_ETHNIC_PAPER_FROM'] = pandas.to_datetime(Data_2015['RI_LOCAL_ETHNIC_PAPER_FROM'])\n",
    "Data_2015['RECR_INFO_SWA_JOB_ORDER_START'] = pandas.to_datetime(Data_2015['RECR_INFO_SWA_JOB_ORDER_START'])\n",
    "Data_2015.at[6306, 'RECR_INFO_SWA_JOB_ORDER_END'] = datetime.strptime('05/26/2014', '%m/%d/%Y')\n",
    "Data_2015.at[8602, 'RECR_INFO_SWA_JOB_ORDER_END'] = datetime.strptime('11/08/2014', '%m/%d/%Y')\n",
    "Data_2015.at[12210, 'RECR_INFO_SWA_JOB_ORDER_END'] = datetime.strptime('05/25/2014', '%m/%d/%Y')\n",
    "Data_2015.at[35208, 'RECR_INFO_SWA_JOB_ORDER_END'] = datetime.strptime('08/30/2013', '%m/%d/%Y')\n",
    "Data_2015.at[41211, 'RECR_INFO_SWA_JOB_ORDER_END'] = datetime.strptime('03/25/2014', '%m/%d/%Y')\n",
    "Data_2015.at[79773, 'RECR_INFO_SWA_JOB_ORDER_END'] = datetime.strptime('05/19/2014', '%m/%d/%Y')\n",
    "Data_2015.at[80176, 'RECR_INFO_SWA_JOB_ORDER_END'] = datetime.strptime('06/14/2015', '%m/%d/%Y')\n",
    "Data_2015.at[80177, 'RECR_INFO_SWA_JOB_ORDER_END'] = datetime.strptime('06/14/2015', '%m/%d/%Y')\n",
    "Data_2015.at[83651, 'RECR_INFO_SWA_JOB_ORDER_END'] = datetime.strptime('05/26/2013', '%m/%d/%Y')\n",
    "Data_2015['RECR_INFO_SWA_JOB_ORDER_END'] = pandas.to_datetime(Data_2015['RECR_INFO_SWA_JOB_ORDER_END'])\n",
    "Data_2015.at[76114, 'RI_EMPLOYER_WEB_POST_FROM'] = datetime.strptime('04/22/2014', '%m/%d/%Y')\n",
    "Data_2015.at[89154, 'RI_EMPLOYER_WEB_POST_FROM'] = datetime.strptime('05/01/2015', '%m/%d/%Y')\n",
    "Data_2015['RI_EMPLOYER_WEB_POST_FROM'] = pandas.to_datetime(Data_2015['RI_EMPLOYER_WEB_POST_FROM'])\n",
    "Data_2015.at[29489, 'RECR_INFO_PRO_ORG_ADVERT_FROM'] = datetime.strptime('01/01/2013', '%m/%d/%Y')\n",
    "Data_2015['RECR_INFO_PRO_ORG_ADVERT_FROM'] = pandas.to_datetime(Data_2015['RECR_INFO_PRO_ORG_ADVERT_FROM'])\n",
    "Data_2015.at[26192, 'RI_JOB_SEARCH_WEBSITE_FROM'] = datetime.strptime('01/13/2014', '%m/%d/%Y')\n",
    "Data_2015.at[70342, 'RI_JOB_SEARCH_WEBSITE_FROM'] = datetime.strptime('05/02/2014', '%m/%d/%Y')\n",
    "Data_2015.at[83733, 'RI_JOB_SEARCH_WEBSITE_FROM'] = datetime.strptime('11/15/2011', '%m/%d/%Y')\n",
    "Data_2015['RI_JOB_SEARCH_WEBSITE_FROM'] = pandas.to_datetime(Data_2015['RI_JOB_SEARCH_WEBSITE_FROM'])\n",
    "Data_2015.at[24138, 'RI_EMPLOYEE_REFERRAL_PROG_FROM'] = datetime.strptime('12/23/2014', '%m/%d/%Y')\n",
    "Data_2015.at[38262, 'RI_EMPLOYEE_REFERRAL_PROG_FROM'] = datetime.strptime('06/04/2014', '%m/%d/%Y')\n",
    "Data_2015.at[47808, 'RI_EMPLOYEE_REFERRAL_PROG_FROM'] = datetime.strptime('06/25/2014', '%m/%d/%Y')\n",
    "Data_2015['RI_EMPLOYEE_REFERRAL_PROG_FROM'] = pandas.to_datetime(Data_2015['RI_EMPLOYEE_REFERRAL_PROG_FROM'])\n",
    "Data_2015.at[14771, 'RI_CAMPUS_PLACEMENT_FROM'] = datetime.strptime('04/01/2013', '%m/%d/%Y')\n",
    "Data_2015.at[49525, 'RI_CAMPUS_PLACEMENT_FROM'] = datetime.strptime('05/02/2013', '%m/%d/%Y')\n",
    "Data_2015.at[73061, 'RI_CAMPUS_PLACEMENT_FROM'] = datetime.strptime('09/23/2014', '%m/%d/%Y')\n",
    "Data_2015['RI_CAMPUS_PLACEMENT_FROM'] = pandas.to_datetime(Data_2015['RI_CAMPUS_PLACEMENT_FROM'])"
   ]
  },
  {
   "cell_type": "code",
   "execution_count": 746,
   "metadata": {
    "scrolled": true
   },
   "outputs": [],
   "source": []
  },
  {
   "cell_type": "code",
   "execution_count": 744,
   "metadata": {
    "collapsed": true
   },
   "outputs": [],
   "source": [
    "\n"
   ]
  },
  {
   "cell_type": "markdown",
   "metadata": {},
   "source": [
    "#used to check for messed up dates\n",
    "for i, row in Data_2015.iterrows():\n",
    "    #if i > 29489:\n",
    "    print(i)\n",
    "    print(row['RI_CAMPUS_PLACEMENT_FROM'])\n",
    "    ifor_val = pd.to_datetime(row['RI_CAMPUS_PLACEMENT_FROM'])\n",
    "    Data_2015.set_value(i,'RI_CAMPUS_PLACEMENT_FROM',ifor_val)"
   ]
  },
  {
   "cell_type": "code",
   "execution_count": 749,
   "metadata": {},
   "outputs": [],
   "source": [
    "nm15 = list(Data_2015.columns.values)\n",
    "nm16 = list(Data_2016.columns.values)\n",
    "nm17 = list(Data_2017.columns.values)"
   ]
  },
  {
   "cell_type": "code",
   "execution_count": 786,
   "metadata": {
    "collapsed": true
   },
   "outputs": [],
   "source": [
    "#Change the column names so they match between years\n",
    "Data_2016=Data_2016.rename(columns = {'FW_INFO_REL_OCCUP_EXPERIENCE':'FW_INFO_REL_OCCUP_EXP'})\n",
    "Data_2015=Data_2015.rename(columns = {'JI_FOREIGN_WORKER_LIVE_ON_PREMISES':'JI_FW_LIVE_ON_PREMISES'})\n",
    "Data_2015=Data_2015.rename(columns = {'REC_INFO_BARG_REP_NOTIFIED':'RECR_INFO_BARG_REP_NOTIFIED'})\n",
    "Data_2015=Data_2015.rename(columns = {'JI_OFFERED_TO_SEC_J_FOREIGN_WORKER':'JI_OFFERED_TO_SEC_J_FW'})\n",
    "Data_2017=Data_2017.rename(columns = {'PW_JOB_TITLE_9089':'PW_Job_Title_9089'})"
   ]
  },
  {
   "cell_type": "code",
   "execution_count": 799,
   "metadata": {},
   "outputs": [],
   "source": [
    "frames = [Data_2015, Data_2016, Data_2017]\n",
    "\n",
    "data = pd.concat(frames)"
   ]
  },
  {
   "cell_type": "code",
   "execution_count": 800,
   "metadata": {},
   "outputs": [],
   "source": [
    "data = data.drop_duplicates()"
   ]
  },
  {
   "cell_type": "code",
   "execution_count": 855,
   "metadata": {
    "collapsed": true
   },
   "outputs": [
    {
     "data": {
      "text/plain": [
       "CASE_NUMBER                               object\n",
       "DECISION_DATE                     datetime64[ns]\n",
       "CASE_STATUS                               object\n",
       "CASE_RECEIVED_DATE                datetime64[ns]\n",
       "REFILE                                    object\n",
       "ORIG_FILE_DATE                    datetime64[ns]\n",
       "ORIG_CASE_NO                              object\n",
       "SCHD_A_SHEEPHERDER                        object\n",
       "EMPLOYER_NAME                             object\n",
       "EMPLOYER_ADDRESS_1                        object\n",
       "EMPLOYER_ADDRESS_2                        object\n",
       "EMPLOYER_CITY                             object\n",
       "EMPLOYER_STATE                            object\n",
       "EMPLOYER_COUNTRY                          object\n",
       "EMPLOYER_POSTAL_CODE                      object\n",
       "EMPLOYER_PHONE                            object\n",
       "EMPLOYER_PHONE_EXT                        object\n",
       "EMPLOYER_NUM_EMPLOYEES                   float64\n",
       "EMPLOYER_YR_ESTAB                        float64\n",
       "FW_OWNERSHIP_INTEREST                     object\n",
       "AGENT_FIRM_NAME                           object\n",
       "AGENT_CITY                                object\n",
       "AGENT_STATE                               object\n",
       "PW_TRACK_NUM                              object\n",
       "PW_SOC_CODE                               object\n",
       "PW_SOC_TITLE                              object\n",
       "PW_LEVEL_9089                             object\n",
       "PW_AMOUNT_9089                            object\n",
       "PW_UNIT_OF_PAY_9089                       object\n",
       "PW_SOURCE_NAME_9089                       object\n",
       "                                       ...      \n",
       "RI_LOCAL_ETHNIC_PAPER_FROM        datetime64[ns]\n",
       "RI_LOCAL_ETHNIC_PAPER_TO          datetime64[ns]\n",
       "RECR_INFO_RADIO_TV_AD_FROM        datetime64[ns]\n",
       "RECR_INFO_RADIO_TV_AD_TO          datetime64[ns]\n",
       "RECR_INFO_EMPLOYER_REC_PAYMENT            object\n",
       "RECR_INFO_BARG_REP_NOTIFIED               object\n",
       "RI_POSTED_NOTICE_AT_WORKSITE              object\n",
       "RI_LAYOFF_IN_PAST_SIX_MONTHS              object\n",
       "RI_US_WORKERS_CONSIDERED                  object\n",
       "FOREIGN_WORKER_INFO_CITY                  object\n",
       "FOREIGN_WORKER_INFO_STATE                 object\n",
       "FW_INFO_POSTAL_CODE                       object\n",
       "COUNTRY_OF_CITIZENSHIP                    object\n",
       "FW_INFO_BIRTH_COUNTRY                     object\n",
       "CLASS_OF_ADMISSION                        object\n",
       "FOREIGN_WORKER_INFO_EDUCATION             object\n",
       "FW_INFO_EDUCATION_OTHER                   object\n",
       "FOREIGN_WORKER_INFO_MAJOR                 object\n",
       "FW_INFO_YR_REL_EDU_COMPLETED             float64\n",
       "FOREIGN_WORKER_INFO_INST                  object\n",
       "FW_INFO_TRAINING_COMP                     object\n",
       "FW_INFO_REQ_EXPERIENCE                    object\n",
       "FW_INFO_ALT_EDU_EXPERIENCE                object\n",
       "FW_INFO_REL_OCCUP_EXP                     object\n",
       "PREPARER_INFO_EMP_COMPLETED               object\n",
       "PREPARER_INFO_TITLE                       object\n",
       "EMPLOYER_DECL_INFO_TITLE                  object\n",
       "NAICS_US_CODE                             object\n",
       "NAICS_US_TITLE                            object\n",
       "PW_Job_Title_9089                         object\n",
       "Length: 125, dtype: object"
      ]
     },
     "execution_count": 855,
     "metadata": {},
     "output_type": "execute_result"
    }
   ],
   "source": [
    "data.dtypes"
   ]
  },
  {
   "cell_type": "markdown",
   "metadata": {},
   "source": [
    "## General EDA"
   ]
  },
  {
   "cell_type": "code",
   "execution_count": 778,
   "metadata": {},
   "outputs": [
    {
     "data": {
      "text/plain": [
       "214756"
      ]
     },
     "execution_count": 778,
     "metadata": {},
     "output_type": "execute_result"
    }
   ],
   "source": [
    "data.CASE_NUMBER.unique().size"
   ]
  },
  {
   "cell_type": "code",
   "execution_count": 71,
   "metadata": {},
   "outputs": [
    {
     "data": {
      "text/plain": [
       "array(['Certified-Expired', 'Certified', 'Denied', 'Withdrawn'], dtype=object)"
      ]
     },
     "execution_count": 71,
     "metadata": {},
     "output_type": "execute_result"
    }
   ],
   "source": [
    "data.CASE_STATUS.unique()"
   ]
  },
  {
   "cell_type": "code",
   "execution_count": 802,
   "metadata": {},
   "outputs": [
    {
     "data": {
      "text/plain": [
       "Certified            45.399285\n",
       "Certified-Expired    44.879625\n",
       "Denied                5.696443\n",
       "Withdrawn             4.024647\n",
       "Name: CASE_STATUS, dtype: float64"
      ]
     },
     "execution_count": 802,
     "metadata": {},
     "output_type": "execute_result"
    }
   ],
   "source": [
    "(data['CASE_STATUS'].value_counts(dropna=False) / data['CASE_STATUS'].value_counts(dropna=False).sum()) * 100"
   ]
  },
  {
   "cell_type": "code",
   "execution_count": 803,
   "metadata": {},
   "outputs": [
    {
     "data": {
      "text/plain": [
       "N      61.091669\n",
       "NaN    38.830670\n",
       "Y       0.077661\n",
       "Name: REFILE, dtype: float64"
      ]
     },
     "execution_count": 803,
     "metadata": {},
     "output_type": "execute_result"
    }
   ],
   "source": [
    "(data['REFILE'].value_counts(dropna=False) / data['REFILE'].value_counts(dropna=False).sum()) * 100\n",
    "#small percentage of refile, no need"
   ]
  },
  {
   "cell_type": "code",
   "execution_count": 804,
   "metadata": {},
   "outputs": [
    {
     "data": {
      "text/plain": [
       "N      99.991691\n",
       "NaN     0.008309\n",
       "Name: SCHD_A_SHEEPHERDER, dtype: float64"
      ]
     },
     "execution_count": 804,
     "metadata": {},
     "output_type": "execute_result"
    }
   ],
   "source": [
    "(data['SCHD_A_SHEEPHERDER'].value_counts(dropna=False) / data['SCHD_A_SHEEPHERDER'].value_counts(dropna=False).sum()) * 100"
   ]
  },
  {
   "cell_type": "code",
   "execution_count": 805,
   "metadata": {},
   "outputs": [
    {
     "data": {
      "text/plain": [
       "312791"
      ]
     },
     "execution_count": 805,
     "metadata": {},
     "output_type": "execute_result"
    }
   ],
   "source": [
    "data['EMPLOYER_NUM_EMPLOYEES'].count()"
   ]
  },
  {
   "cell_type": "code",
   "execution_count": 806,
   "metadata": {},
   "outputs": [
    {
     "data": {
      "text/plain": [
       "N      99.457649\n",
       "Y       0.486422\n",
       "NaN     0.055929\n",
       "Name: FW_OWNERSHIP_INTEREST, dtype: float64"
      ]
     },
     "execution_count": 806,
     "metadata": {},
     "output_type": "execute_result"
    }
   ],
   "source": [
    "(data['FW_OWNERSHIP_INTEREST'].value_counts(dropna=False) / data['FW_OWNERSHIP_INTEREST'].value_counts(dropna=False).sum()) * 100"
   ]
  },
  {
   "cell_type": "code",
   "execution_count": 807,
   "metadata": {},
   "outputs": [
    {
     "data": {
      "text/plain": [
       "12.370566623241652"
      ]
     },
     "execution_count": 807,
     "metadata": {},
     "output_type": "execute_result"
    }
   ],
   "source": [
    "data['AGENT_FIRM_NAME'].isnull().sum() / 341585 * 100"
   ]
  },
  {
   "cell_type": "code",
   "execution_count": 808,
   "metadata": {},
   "outputs": [
    {
     "data": {
      "text/plain": [
       "Y      99.980185\n",
       "N       0.015660\n",
       "NaN     0.004155\n",
       "Name: JI_OFFERED_TO_SEC_J_FW, dtype: float64"
      ]
     },
     "execution_count": 808,
     "metadata": {},
     "output_type": "execute_result"
    }
   ],
   "source": [
    "(data['JI_OFFERED_TO_SEC_J_FW'].value_counts(dropna=False) / data['JI_OFFERED_TO_SEC_J_FW'].value_counts(dropna=False).sum()) * 100"
   ]
  },
  {
   "cell_type": "code",
   "execution_count": 809,
   "metadata": {},
   "outputs": [
    {
     "data": {
      "text/plain": [
       "N      99.803130\n",
       "Y       0.137425\n",
       "NaN     0.059444\n",
       "Name: JI_FW_LIVE_ON_PREMISES, dtype: float64"
      ]
     },
     "execution_count": 809,
     "metadata": {},
     "output_type": "execute_result"
    }
   ],
   "source": [
    "(data['JI_FW_LIVE_ON_PREMISES'].value_counts(dropna=False) / data['JI_FW_LIVE_ON_PREMISES'].value_counts(dropna=False).sum()) * 100"
   ]
  },
  {
   "cell_type": "code",
   "execution_count": 810,
   "metadata": {},
   "outputs": [
    {
     "data": {
      "text/plain": [
       "N      99.86641\n",
       "Y       0.07862\n",
       "NaN     0.05497\n",
       "Name: JI_LIVE_IN_DOMESTIC_SERVICE, dtype: float64"
      ]
     },
     "execution_count": 810,
     "metadata": {},
     "output_type": "execute_result"
    }
   ],
   "source": [
    "(data['JI_LIVE_IN_DOMESTIC_SERVICE'].value_counts(dropna=False) / data['JI_LIVE_IN_DOMESTIC_SERVICE'].value_counts(dropna=False).sum()) * 100"
   ]
  },
  {
   "cell_type": "code",
   "execution_count": 811,
   "metadata": {},
   "outputs": [
    {
     "data": {
      "text/plain": [
       "NaN    98.966433\n",
       "A       0.909245\n",
       "Y       0.078301\n",
       "N       0.046022\n",
       "Name: JI_LIVE_IN_DOM_SVC_CONTRACT, dtype: float64"
      ]
     },
     "execution_count": 811,
     "metadata": {},
     "output_type": "execute_result"
    }
   ],
   "source": [
    "(data['JI_LIVE_IN_DOM_SVC_CONTRACT'].value_counts(dropna=False) / data['JI_LIVE_IN_DOM_SVC_CONTRACT'].value_counts(dropna=False).sum()) * 100"
   ]
  },
  {
   "cell_type": "code",
   "execution_count": 813,
   "metadata": {},
   "outputs": [
    {
     "data": {
      "text/plain": [
       "N      99.985938\n",
       "NaN     0.009907\n",
       "Y       0.004155\n",
       "Name: RECR_INFO_EMPLOYER_REC_PAYMENT, dtype: float64"
      ]
     },
     "execution_count": 813,
     "metadata": {},
     "output_type": "execute_result"
    }
   ],
   "source": [
    "(data['RECR_INFO_EMPLOYER_REC_PAYMENT'].value_counts(dropna=False) / data['RECR_INFO_EMPLOYER_REC_PAYMENT'].value_counts(dropna=False).sum()) * 100"
   ]
  },
  {
   "cell_type": "code",
   "execution_count": 814,
   "metadata": {},
   "outputs": [
    {
     "data": {
      "text/plain": [
       "N      96.258194\n",
       "Y       3.727105\n",
       "NaN     0.014701\n",
       "Name: RI_LAYOFF_IN_PAST_SIX_MONTHS, dtype: float64"
      ]
     },
     "execution_count": 814,
     "metadata": {},
     "output_type": "execute_result"
    }
   ],
   "source": [
    "(data['RI_LAYOFF_IN_PAST_SIX_MONTHS'].value_counts(dropna=False) / data['RI_LAYOFF_IN_PAST_SIX_MONTHS'].value_counts(dropna=False).sum()) * 100"
   ]
  },
  {
   "cell_type": "code",
   "execution_count": 815,
   "metadata": {},
   "outputs": [
    {
     "data": {
      "text/plain": [
       "NaN    93.128090\n",
       "Y       3.447780\n",
       "A       3.367881\n",
       "N       0.056249\n",
       "Name: RI_US_WORKERS_CONSIDERED, dtype: float64"
      ]
     },
     "execution_count": 815,
     "metadata": {},
     "output_type": "execute_result"
    }
   ],
   "source": [
    "(data['RI_US_WORKERS_CONSIDERED'].value_counts(dropna=False) / data['RI_US_WORKERS_CONSIDERED'].value_counts(dropna=False).sum()) * 100"
   ]
  },
  {
   "cell_type": "code",
   "execution_count": 816,
   "metadata": {},
   "outputs": [
    {
     "data": {
      "text/plain": [
       "NaN    97.007002\n",
       "N       2.667971\n",
       "Y       0.325027\n",
       "Name: RI_COLL_TCH_BASIC_PROCESS, dtype: float64"
      ]
     },
     "execution_count": 816,
     "metadata": {},
     "output_type": "execute_result"
    }
   ],
   "source": [
    "(data['RI_COLL_TCH_BASIC_PROCESS'].value_counts(dropna=False) / data['RI_COLL_TCH_BASIC_PROCESS'].value_counts(dropna=False).sum()) * 100"
   ]
  },
  {
   "cell_type": "markdown",
   "metadata": {},
   "source": [
    "## Education: required and of FW"
   ]
  },
  {
   "cell_type": "code",
   "execution_count": 817,
   "metadata": {},
   "outputs": [],
   "source": [
    "job_info = (data['JOB_INFO_EDUCATION'].value_counts(dropna=False) / data['JOB_INFO_EDUCATION'].value_counts(dropna=False).sum()) * 100"
   ]
  },
  {
   "cell_type": "code",
   "execution_count": 818,
   "metadata": {},
   "outputs": [],
   "source": [
    "tmp_pivot = pd.pivot_table(pd.DataFrame(job_info).reset_index(), columns = ['index'])"
   ]
  },
  {
   "cell_type": "code",
   "execution_count": 819,
   "metadata": {},
   "outputs": [],
   "source": [
    "tmp_pivot = tmp_pivot.reset_index()\n",
    "del tmp_pivot['index']"
   ]
  },
  {
   "cell_type": "code",
   "execution_count": 820,
   "metadata": {},
   "outputs": [
    {
     "data": {
      "image/png": "[encoded data removed]",
      "text/plain": [
       "<matplotlib.figure.Figure at 0x1a836234a8>"
      ]
     },
     "metadata": {},
     "output_type": "display_data"
    }
   ],
   "source": [
    "%matplotlib inline\n",
    "import matplotlib.pyplot as plt\n",
    "#ind_code_det = ind_code_det.set_index('Name')\n",
    "tmp_pivot.plot.bar(stacked=True)\n",
    "plt.xlabel(\"\")\n",
    "plt.savefig('Education degree mins.png')"
   ]
  },
  {
   "cell_type": "code",
   "execution_count": 821,
   "metadata": {},
   "outputs": [],
   "source": [
    "fw_info = (data['FOREIGN_WORKER_INFO_EDUCATION'].value_counts(dropna=False) / data['FOREIGN_WORKER_INFO_EDUCATION'].value_counts(dropna=False).sum()) * 100"
   ]
  },
  {
   "cell_type": "code",
   "execution_count": 822,
   "metadata": {},
   "outputs": [
    {
     "data": {
      "text/plain": [
       "Master's       42.759119\n",
       "Bachelor's     36.784309\n",
       "None            8.170420\n",
       "Doctorate       4.965532\n",
       "Other           4.241012\n",
       "High School     2.057226\n",
       "Associate's     0.957823\n",
       "NaN             0.064558\n",
       "Name: FOREIGN_WORKER_INFO_EDUCATION, dtype: float64"
      ]
     },
     "execution_count": 822,
     "metadata": {},
     "output_type": "execute_result"
    }
   ],
   "source": [
    "fw_info"
   ]
  },
  {
   "cell_type": "code",
   "execution_count": 823,
   "metadata": {},
   "outputs": [
    {
     "data": {
      "image/png": "[encoded data removed]",
      "text/plain": [
       "<matplotlib.figure.Figure at 0x1ac1e97400>"
      ]
     },
     "metadata": {},
     "output_type": "display_data"
    }
   ],
   "source": [
    "tmp_pivot2 = pd.pivot_table(pd.DataFrame(fw_info).reset_index(), columns = ['index'])\n",
    "tmp_pivot2 = tmp_pivot2.reset_index()\n",
    "del tmp_pivot2['index']\n",
    "%matplotlib inline\n",
    "import matplotlib.pyplot as plt\n",
    "#ind_code_det = ind_code_det.set_index('Name')\n",
    "tmp_pivot2.plot.bar(stacked=True)\n",
    "plt.xlabel(\"\")\n",
    "plt.savefig('Education degree of FW.png')"
   ]
  },
  {
   "cell_type": "markdown",
   "metadata": {},
   "source": [
    "## Prevailing wage and pay"
   ]
  },
  {
   "cell_type": "code",
   "execution_count": 824,
   "metadata": {
    "collapsed": true
   },
   "outputs": [],
   "source": [
    "tmp_wage = (data['PW_LEVEL_9089'].value_counts(dropna=False) / data['PW_LEVEL_9089'].value_counts(dropna=False).sum()) * 100\n",
    "#Level I entry\n",
    "#LEvel II qualified\n",
    "#Level III experienced\n",
    "#LEvel IV fully qualified"
   ]
  },
  {
   "cell_type": "code",
   "execution_count": 825,
   "metadata": {},
   "outputs": [
    {
     "data": {
      "text/plain": [
       "<matplotlib.axes._subplots.AxesSubplot at 0x1a149b6b38>"
      ]
     },
     "execution_count": 825,
     "metadata": {},
     "output_type": "execute_result"
    },
    {
     "data": {
      "image/png": "[encoded data removed]",
      "text/plain": [
       "<matplotlib.figure.Figure at 0x1a22b4e710>"
      ]
     },
     "metadata": {},
     "output_type": "display_data"
    }
   ],
   "source": [
    "%matplotlib inline\n",
    "import matplotlib.pyplot as plt\n",
    "#ind_code_det = ind_code_det.set_index('Name')\n",
    "tmp_wage.plot.barh()\n",
    "#plt.savefig('Industries.png')"
   ]
  },
  {
   "cell_type": "code",
   "execution_count": 826,
   "metadata": {},
   "outputs": [
    {
     "data": {
      "text/plain": [
       "Year         96.412877\n",
       "Hour          3.085360\n",
       "NaN           0.401090\n",
       "Week          0.057847\n",
       "Month         0.034197\n",
       "Bi-Weekly     0.008629\n",
       "Name: WAGE_OFFER_UNIT_OF_PAY_9089, dtype: float64"
      ]
     },
     "execution_count": 826,
     "metadata": {},
     "output_type": "execute_result"
    }
   ],
   "source": [
    "(data['WAGE_OFFER_UNIT_OF_PAY_9089'].value_counts(dropna=False) / data['WAGE_OFFER_UNIT_OF_PAY_9089'].value_counts(dropna=False).sum()) * 100"
   ]
  },
  {
   "cell_type": "code",
   "execution_count": 856,
   "metadata": {},
   "outputs": [],
   "source": [
    "#For wages that have a to and from, Im just gonna take the average\n",
    "data_wage = data[['WAGE_OFFER_UNIT_OF_PAY_9089','WAGE_OFFER_FROM_9089','WAGE_OFFER_TO_9089','CASE_STATUS']]\n",
    "#cleaning up the wages\n",
    "#pd.to_numeric(data_wage['WAGE_OFFER_FROM_9089'])\n",
    "data_wage['WAGE_OFFER_FROM_9089'] = data_wage['WAGE_OFFER_FROM_9089'].apply(lambda word: str(word).replace(\"#\", \"\"))\n",
    "data_wage['WAGE_OFFER_FROM_9089'] = data_wage['WAGE_OFFER_FROM_9089'].apply(lambda word: str(word).replace(\",\", \"\"))\n",
    "data_wage['WAGE_OFFER_FROM_9089'] = data_wage['WAGE_OFFER_FROM_9089'].replace({\"nan\": np.NaN})\n",
    "data_wage['WAGE_OFFER_FROM_9089'] = pd.to_numeric(data_wage['WAGE_OFFER_FROM_9089'])\n",
    "data_wage['WAGE_OFFER_TO_9089'] = data_wage['WAGE_OFFER_TO_9089'].apply(lambda word: str(word).replace(\"#\", \"\"))\n",
    "data_wage['WAGE_OFFER_TO_9089'] = data_wage['WAGE_OFFER_TO_9089'].apply(lambda word: str(word).replace(\",\", \"\"))\n",
    "data_wage['WAGE_OFFER_TO_9089'] = data_wage['WAGE_OFFER_TO_9089'].replace({\"nan\": np.NaN})\n",
    "data_wage['WAGE_OFFER_TO_9089'] = pd.to_numeric(data_wage['WAGE_OFFER_TO_9089'])"
   ]
  },
  {
   "cell_type": "code",
   "execution_count": 857,
   "metadata": {},
   "outputs": [],
   "source": [
    "#Getting average wage for to - from\n",
    "data_wage['Avg_Wage'] = np.where(pd.isnull(data_wage['WAGE_OFFER_TO_9089']) == True,data_wage['WAGE_OFFER_FROM_9089'], ((data_wage['WAGE_OFFER_TO_9089']+ data_wage['WAGE_OFFER_FROM_9089']) / 2)) "
   ]
  },
  {
   "cell_type": "code",
   "execution_count": 858,
   "metadata": {},
   "outputs": [],
   "source": [
    "data_wage.WAGE_OFFER_UNIT_OF_PAY_9089.fillna('None', inplace=True)"
   ]
  },
  {
   "cell_type": "code",
   "execution_count": 859,
   "metadata": {},
   "outputs": [],
   "source": [
    "data_wage['WAGE_OFFER_UNIT_OF_PAY_9089'] = data_wage['WAGE_OFFER_UNIT_OF_PAY_9089'].astype('str') "
   ]
  },
  {
   "cell_type": "code",
   "execution_count": 860,
   "metadata": {},
   "outputs": [],
   "source": [
    "data_wage['unit'] = data_wage['WAGE_OFFER_UNIT_OF_PAY_9089']\n",
    "data_wage['unit'] = data_wage['unit'].replace({\"Hour\": 2080, \"Week\":52,\"Month\":12,\"Bi-Weekly\":26,\"Year\":1,\"None\":np.NaN})\n",
    "data_wage['unit'] = pd.to_numeric(data_wage['unit'])"
   ]
  },
  {
   "cell_type": "code",
   "execution_count": 861,
   "metadata": {},
   "outputs": [],
   "source": [
    "data_wage['Year_wage'] = data_wage['Avg_Wage'] * data_wage['unit']"
   ]
  },
  {
   "cell_type": "code",
   "execution_count": 867,
   "metadata": {
    "collapsed": true
   },
   "outputs": [],
   "source": [
    "prev_wage = data[['CASE_NUMBER','PW_AMOUNT_9089','PW_UNIT_OF_PAY_9089']]"
   ]
  },
  {
   "cell_type": "code",
   "execution_count": 869,
   "metadata": {},
   "outputs": [],
   "source": [
    "prev_wage['PW_AMOUNT_9089'] = prev_wage['PW_AMOUNT_9089'].apply(lambda word: str(word).replace(\"#\", \"\"))\n",
    "prev_wage['PW_AMOUNT_9089'] = prev_wage['PW_AMOUNT_9089'].apply(lambda word: str(word).replace(\",\", \"\"))\n",
    "prev_wage['PW_AMOUNT_9089'] = prev_wage['PW_AMOUNT_9089'].replace({\"nan\": np.NaN})\n",
    "prev_wage['PW_AMOUNT_9089'] = pd.to_numeric(prev_wage['PW_AMOUNT_9089'])"
   ]
  },
  {
   "cell_type": "code",
   "execution_count": 870,
   "metadata": {
    "collapsed": true
   },
   "outputs": [],
   "source": [
    "prev_wage['unit'] = prev_wage['PW_UNIT_OF_PAY_9089']\n",
    "prev_wage['unit'] = prev_wage['unit'].replace({\"Hour\": 2080, \"Week\":52,\"Month\":12,\"Bi-Weekly\":26,\"Year\":1,\"None\":np.NaN})\n",
    "prev_wage['unit'] = pd.to_numeric(data_wage['unit'])"
   ]
  },
  {
   "cell_type": "code",
   "execution_count": 871,
   "metadata": {
    "collapsed": true
   },
   "outputs": [],
   "source": [
    "prev_wage['Year_wage'] = prev_wage['PW_AMOUNT_9089'] * prev_wage['unit']"
   ]
  },
  {
   "cell_type": "code",
   "execution_count": 862,
   "metadata": {},
   "outputs": [],
   "source": [
    "def is_outlier(points, thresh=3.5):\n",
    "    \"\"\"\n",
    "    Returns a boolean array with True if points are outliers and False \n",
    "    otherwise.\n",
    "\n",
    "    Parameters:\n",
    "    -----------\n",
    "        points : An numobservations by numdimensions array of observations\n",
    "        thresh : The modified z-score to use as a threshold. Observations with\n",
    "            a modified z-score (based on the median absolute deviation) greater\n",
    "            than this value will be classified as outliers.\n",
    "\n",
    "    Returns:\n",
    "    --------\n",
    "        mask : A numobservations-length boolean array.\n",
    "\n",
    "    References:\n",
    "    ----------\n",
    "        Boris Iglewicz and David Hoaglin (1993), \"Volume 16: How to Detect and\n",
    "        Handle Outliers\", The ASQC Basic References in Quality Control:\n",
    "        Statistical Techniques, Edward F. Mykytka, Ph.D., Editor. \n",
    "    \"\"\"\n",
    "    if len(points.shape) == 1:\n",
    "        points = points[:,None]\n",
    "    median = np.median(points, axis=0)\n",
    "    diff = np.sum((points - median)**2, axis=-1)\n",
    "    diff = np.sqrt(diff)\n",
    "    med_abs_deviation = np.median(diff)\n",
    "\n",
    "    modified_z_score = 0.6745 * diff / med_abs_deviation\n",
    "\n",
    "    return modified_z_score > thresh"
   ]
  },
  {
   "cell_type": "code",
   "execution_count": 863,
   "metadata": {},
   "outputs": [],
   "source": [
    "dolas = np.asarray(list(data_wage['Year_wage'].dropna()))\n",
    "filtered = dolas[~is_outlier(dolas)]"
   ]
  },
  {
   "cell_type": "code",
   "execution_count": 626,
   "metadata": {},
   "outputs": [
    {
     "data": {
      "text/plain": [
       "(340280,)"
      ]
     },
     "execution_count": 626,
     "metadata": {},
     "output_type": "execute_result"
    }
   ],
   "source": [
    "dolas.shape"
   ]
  },
  {
   "cell_type": "code",
   "execution_count": 625,
   "metadata": {},
   "outputs": [
    {
     "data": {
      "text/plain": [
       "(335941,)"
      ]
     },
     "execution_count": 625,
     "metadata": {},
     "output_type": "execute_result"
    }
   ],
   "source": [
    "filtered.shape"
   ]
  },
  {
   "cell_type": "code",
   "execution_count": 864,
   "metadata": {
    "collapsed": true
   },
   "outputs": [],
   "source": [
    "\n",
    "def to_percent(y, position):\n",
    "    # Ignore the passed in position. This has the effect of scaling the default\n",
    "    # tick locations.\n",
    "    s = str(np.round(( y / 335941) * 100))\n",
    "\n",
    "    # The percent symbol needs escaping in latex\n",
    "    if matplotlib.rcParams['text.usetex'] is True:\n",
    "        return s + r'$\\%$'\n",
    "    else:\n",
    "        return s + '%'\n",
    "\n",
    "# Create the formatter using the function to_percent. This multiplies all the\n",
    "# default labels by 100, making them all percentages\n",
    "\n",
    "\n",
    "# Set the formatter\n"
   ]
  },
  {
   "cell_type": "code",
   "execution_count": 865,
   "metadata": {
    "collapsed": true
   },
   "outputs": [],
   "source": [
    "import matplotlib\n",
    "from numpy.random import randn\n",
    "import matplotlib.pyplot as plt\n",
    "def getHistogram(title):\n",
    "    plt.hist(filtered)\n",
    "    plt.title(title)\n",
    "    plt.xlabel(\"Yearly wage\")\n",
    "    plt.ylabel(\"Frequency\")\n",
    "    formatter = FuncFormatter(to_percent)\n",
    "    plt.gca().yaxis.set_major_formatter(formatter)\n",
    "    fig = plt.gcf()"
   ]
  },
  {
   "cell_type": "code",
   "execution_count": 866,
   "metadata": {},
   "outputs": [
    {
     "data": {
      "image/png": "[encoded data removed]",
      "text/plain": [
       "<matplotlib.figure.Figure at 0x1ac1fa3080>"
      ]
     },
     "metadata": {},
     "output_type": "display_data"
    }
   ],
   "source": [
    "getHistogram(\"Wages\")"
   ]
  },
  {
   "cell_type": "markdown",
   "metadata": {},
   "source": [
    "## Country of Applicant"
   ]
  },
  {
   "cell_type": "code",
   "execution_count": 829,
   "metadata": {},
   "outputs": [],
   "source": [
    "tmp_ctry = (data['COUNTRY_OF_CITIZENSHIP'].value_counts(dropna=False) / data['COUNTRY_OF_CITIZENSHIP'].value_counts(dropna=False).sum()) * 100"
   ]
  },
  {
   "cell_type": "code",
   "execution_count": 830,
   "metadata": {},
   "outputs": [
    {
     "data": {
      "image/png": "[encoded data removed]",
      "text/plain": [
       "<matplotlib.figure.Figure at 0x1ad722ebe0>"
      ]
     },
     "metadata": {},
     "output_type": "display_data"
    }
   ],
   "source": [
    "%matplotlib inline\n",
    "import matplotlib.pyplot as plt\n",
    "#ind_code_det = ind_code_det.set_index('Name')\n",
    "tmp_ctry.head(n=10).plot.barh()\n",
    "plt.tight_layout()\n",
    "plt.savefig(\"Country.png\")"
   ]
  },
  {
   "cell_type": "code",
   "execution_count": 164,
   "metadata": {
    "scrolled": true
   },
   "outputs": [
    {
     "data": {
      "text/plain": [
       "NaN                                                                                                     96.784988\n",
       "MD                                                                                                       0.318515\n",
       "Medical Degree                                                                                           0.316759\n",
       "M.D.                                                                                                     0.241521\n",
       "Medical Degree or foreign equivalent                                                                     0.091924\n",
       "Medical degree                                                                                           0.091632\n",
       "Doctor of Medicine                                                                                       0.055330\n",
       "Juris Doctor                                                                                             0.052403\n",
       "Medical Degree (MD)                                                                                      0.050646\n",
       "MEDICAL DEGREE                                                                                           0.046255\n",
       "M.D. or D.O.                                                                                             0.041571\n",
       "Medical Degree (M.D.)                                                                                    0.038936\n",
       "DDS or DMD                                                                                               0.033374\n",
       "M.D. or foreign equivalent                                                                               0.033081\n",
       "MD or DO                                                                                                 0.032203\n",
       "Medical Doctor                                                                                           0.031617\n",
       "JD                                                                                                       0.030446\n",
       "M.D. Degree                                                                                              0.030154\n",
       "M.D. (Doctor of Medicine)                                                                                0.029861\n",
       "DVM                                                                                                      0.025470\n",
       "MEDICAL DEGREE OR EQUIVALENT                                                                             0.020493\n",
       "MD, DO                                                                                                   0.020200\n",
       "Doctor of Pharmacy                                                                                       0.019614\n",
       "Bachelor's Degree or equivalent in education,training and/or experience                                  0.019614\n",
       "Doctor of Medicine (MD)                                                                                  0.019029\n",
       "M.D., D.O. or foreign equivalent                                                                         0.018736\n",
       "DDS                                                                                                      0.018443\n",
       "First Professional Medical Degree                                                                        0.017565\n",
       "Doctor of Dental Surgery                                                                                 0.014345\n",
       "See H.14                                                                                                 0.014052\n",
       "                                                                                                          ...    \n",
       "LL. M. (ABA approved U.S. law school                                                                     0.000293\n",
       "Doctor (DDS or DMD)                                                                                      0.000293\n",
       "See H-14                                                                                                 0.000293\n",
       "Continued in H.14                                                                                        0.000293\n",
       "Pharm. D.                                                                                                0.000293\n",
       "Medical degree (MD)                                                                                      0.000293\n",
       "Three years of College Education                                                                         0.000293\n",
       "ABD by date of hire                                                                                      0.000293\n",
       "LL.M. or J.D.                                                                                            0.000293\n",
       "Juris Doctor (J.D.) or foreign equivalent                                                                0.000293\n",
       "Bachelor's and Master's                                                                                  0.000293\n",
       "JD, or Master of Laws                                                                                    0.000293\n",
       "Doctor of Medicine, Doctor of Osteopathic Medicine, or FDE                                               0.000293\n",
       "Doctorate                                                                                                0.000293\n",
       "Doctor of Pharmacy Degree or BS Pharmacy with 5-years exp.                                               0.000293\n",
       "Two (2) years of academic study                                                                          0.000293\n",
       "D.D.S (Doctor of Dental Surgery) or D.M.D (Doctor of Dental Medicine)                                    0.000293\n",
       "LLM from an accredited US law school                                                                     0.000293\n",
       "LICENSED IN COSMETOLOGY                                                                                  0.000293\n",
       "-------------                                                                                            0.000293\n",
       "Juris Doctor or LLM                                                                                      0.000293\n",
       "Doctorate of Optometry (O.D.)                                                                            0.000293\n",
       "JD, LLM or related                                                                                       0.000293\n",
       "Bachelors degree or equiv. in a CS or quantitative field (Will accept 3 or 4 year degree as equiv.)      0.000293\n",
       "BS/Emp will accept 2 yrs work exp as sr/lead func cons part of SAP impl team on int'l proj to satisf     0.000293\n",
       "Juris Doctor in Law                                                                                      0.000293\n",
       "DOCTOR OF MEDICAL SCIENCE                                                                                0.000293\n",
       "2 years of college (or foreign equivalent)                                                               0.000293\n",
       "JD/LL.M.                                                                                                 0.000293\n",
       "DDS/ DMD                                                                                                 0.000293\n",
       "Name: JOB_INFO_EDUCATION_OTHER, Length: 1433, dtype: float64"
      ]
     },
     "execution_count": 164,
     "metadata": {},
     "output_type": "execute_result"
    }
   ],
   "source": [
    "(data['JOB_INFO_EDUCATION_OTHER'].value_counts(dropna=False) / data['JOB_INFO_EDUCATION_OTHER'].value_counts(dropna=False).sum()) * 100"
   ]
  },
  {
   "cell_type": "code",
   "execution_count": 831,
   "metadata": {},
   "outputs": [
    {
     "data": {
      "text/plain": [
       "Y      56.041445\n",
       "N      43.952802\n",
       "NaN     0.005753\n",
       "Name: JOB_INFO_EXPERIENCE, dtype: float64"
      ]
     },
     "execution_count": 831,
     "metadata": {},
     "output_type": "execute_result"
    }
   ],
   "source": [
    "(data['JOB_INFO_EXPERIENCE'].value_counts(dropna=False) / data['JOB_INFO_EXPERIENCE'].value_counts(dropna=False).sum()) * 100"
   ]
  },
  {
   "cell_type": "code",
   "execution_count": 832,
   "metadata": {
    "collapsed": true
   },
   "outputs": [
    {
     "data": {
      "text/plain": [
       "NaN       43.916688\n",
       " 24.0     15.418812\n",
       " 12.0     13.641550\n",
       " 60.0     13.411762\n",
       " 36.0      6.133009\n",
       " 6.0       3.059793\n",
       " 48.0      1.175147\n",
       " 72.0      0.757757\n",
       " 84.0      0.546506\n",
       " 96.0      0.503041\n",
       " 3.0       0.384472\n",
       " 120.0     0.324388\n",
       " 18.0      0.156921\n",
       " 0.0       0.086930\n",
       " 1.0       0.086610\n",
       " 2.0       0.072548\n",
       " 9.0       0.050496\n",
       " 108.0     0.042506\n",
       " 4.0       0.042506\n",
       " 5.0       0.032599\n",
       " 144.0     0.030681\n",
       " 10.0      0.025568\n",
       " 180.0     0.017258\n",
       " 30.0      0.016938\n",
       " 8.0       0.009268\n",
       " 20.0      0.007351\n",
       " 156.0     0.004794\n",
       " 15.0      0.004474\n",
       " 42.0      0.004155\n",
       " 240.0     0.003835\n",
       " 27.0      0.003835\n",
       " 132.0     0.003516\n",
       " 168.0     0.003196\n",
       " 23.0      0.002876\n",
       " 22.0      0.002237\n",
       " 13.0      0.002237\n",
       " 25.0      0.001918\n",
       " 16.0      0.001918\n",
       " 21.0      0.000959\n",
       " 33.0      0.000959\n",
       " 11.0      0.000959\n",
       " 26.0      0.000639\n",
       " 14.0      0.000639\n",
       " 45.0      0.000639\n",
       " 85.0      0.000639\n",
       " 50.0      0.000639\n",
       " 39.0      0.000320\n",
       " 47.0      0.000320\n",
       " 19.0      0.000320\n",
       " 40.0      0.000320\n",
       " 244.0     0.000320\n",
       " 192.0     0.000320\n",
       " 35.0      0.000320\n",
       " 80.0      0.000320\n",
       " 34.0      0.000320\n",
       " 66.0      0.000320\n",
       " 44.0      0.000320\n",
       " 7.0       0.000320\n",
       "Name: JOB_INFO_EXPERIENCE_NUM_MONTHS, dtype: float64"
      ]
     },
     "execution_count": 832,
     "metadata": {},
     "output_type": "execute_result"
    }
   ],
   "source": [
    "(data['JOB_INFO_EXPERIENCE_NUM_MONTHS'].value_counts(dropna=False) / data['JOB_INFO_EXPERIENCE_NUM_MONTHS'].value_counts(dropna=False).sum()) * 100"
   ]
  },
  {
   "cell_type": "code",
   "execution_count": 252,
   "metadata": {
    "scrolled": true
   },
   "outputs": [
    {
     "data": {
      "text/plain": [
       "Custom Computer Programming Services                                                     20.334324\n",
       "Computer Systems Design Services                                                          9.592342\n",
       "Software Publishers                                                                       4.203639\n",
       "Colleges, Universities, and Professional Schools                                          3.133042\n",
       "Poultry Processing                                                                        2.806915\n",
       "Other Computer Related Services                                                           2.614283\n",
       "Semiconductor and Other Electronic Component Manufacturing                                2.532313\n",
       "Computer Systems Design and Related Services                                              2.500695\n",
       "Engineering Services                                                                      2.097575\n",
       "Electronic Computer Manufacturing                                                         2.029363\n",
       "Electronic Shopping                                                                       1.719631\n",
       "Full-Service Restaurants                                                                  1.416924\n",
       "Web Search Portals                                                                        1.341394\n",
       "Investment Banking and Securities Dealing                                                 1.159887\n",
       "General Medical and Surgical Hospitals                                                    1.107191\n",
       "Semiconductor and Related Device Manufacturing                                            1.052154\n",
       "Elementary and Secondary Schools                                                          1.049226\n",
       "Limited-Service Restaurants                                                               0.973111\n",
       "Offices of Physicians (except Mental Health Specialists)                                  0.944714\n",
       "Research and Development in the Physical, Engineering, and Life Sciences                  0.825856\n",
       "Radio and Television Broadcasting and Wireless Communications Equipment Manufacturing     0.786042\n",
       "Administrative Management and General Management Consulting Services                      0.776381\n",
       "Management Consulting Services                                                            0.692361\n",
       "Offices of Certified Public Accountants                                                   0.619172\n",
       "Janitorial Services                                                                       0.616830\n",
       "Financial Transactions Processing, Reserve, and Clearinghouse Activities                  0.555938\n",
       "Commercial Banking                                                                        0.548912\n",
       "Management, Scientific, and Technical Consulting Services                                 0.548326\n",
       "Data Processing, Hosting, and Related Services                                            0.502364\n",
       "Accounting, Tax Preparation, Bookkeeping, and Payroll Services                            0.427126\n",
       "                                                                                           ...    \n",
       "Specialized Freight Trucking                                                              0.000293\n",
       "Fiber, Yarn, and Thread Mills                                                             0.000293\n",
       "Household Furniture (except Wood and Metal) Manufacturing                                 0.000293\n",
       "Petroleum and Coal Products Manufacturing                                                 0.000293\n",
       "Aluminum Sheet, Plate, and Foil Manufacturing                                             0.000293\n",
       "Forging and Stamping                                                                      0.000293\n",
       "Solid Waste Combustors and Incinerators                                                   0.000293\n",
       "Nonfolding Sanitary Food Container Manufacturing                                          0.000293\n",
       "Foundries                                                                                 0.000293\n",
       "Uranium-Radium-Vanadium Ore Mining                                                        0.000293\n",
       "Fabricated Metal Product Manufacturing                                                    0.000293\n",
       "Tire Retreading                                                                           0.000293\n",
       "Softwood Veneer and Plywood Manufacturing                                                 0.000293\n",
       "Plate Work Manufacturing                                                                  0.000293\n",
       "Merchant Wholesalers, Nondurable Goods                                                    0.000293\n",
       "Mixed Mode Transit Systems                                                                0.000293\n",
       "Industrial Pattern Manufacturing                                                          0.000293\n",
       "Special Needs Transportation                                                              0.000293\n",
       "Other Chemical and Fertilizer Mineral Mining                                              0.000293\n",
       "Port and Harbor Operations                                                                0.000293\n",
       "Community Food Services                                                                   0.000293\n",
       "Aluminum Foundries (except Die-Casting)                                                   0.000293\n",
       "Canvas and Related Product Mills                                                          0.000293\n",
       "Soybean Processing                                                                        0.000293\n",
       "Metal Household Furniture Manufacturing                                                   0.000293\n",
       "Wiring Device Manufacturing                                                               0.000293\n",
       "Beverage and Tobacco Product Manufacturing                                                0.000293\n",
       "Oilseed and Grain Farming                                                                 0.000293\n",
       "Fishing                                                                                   0.000293\n",
       "Real Estate and Rental and Leasing                                                        0.000293\n",
       "Name: NAICS_US_TITLE, Length: 1462, dtype: float64"
      ]
     },
     "execution_count": 252,
     "metadata": {},
     "output_type": "execute_result"
    }
   ],
   "source": [
    "(data['NAICS_US_TITLE'].value_counts(dropna=False) / data['NAICS_US_TITLE'].value_counts(dropna=False).sum()) * 100"
   ]
  },
  {
   "cell_type": "code",
   "execution_count": 833,
   "metadata": {},
   "outputs": [],
   "source": [
    "(data['NAICS_US_CODE'].value_counts(dropna=False) / data['NAICS_US_CODE'].value_counts(dropna=False).sum()) * 100\n",
    "\n",
    "#the first 2 numbers are the industry (there are 92), so gonna truncate it\n",
    "ind_code = data['NAICS_US_CODE'].apply(lambda word: str(word).replace(\"-\", \"\"))\n",
    "    \n",
    "\n",
    "ind_code = ind_code.apply(lambda num: num[:2])\n",
    "ind_code.value_counts()\n",
    "#counts for each industry\n",
    "ind_code = pd.DataFrame(ind_code.value_counts())\n",
    "ind_code = ind_code.reset_index()\n",
    "ind_code.columns = ['sector code','count']"
   ]
  },
  {
   "cell_type": "code",
   "execution_count": 834,
   "metadata": {},
   "outputs": [],
   "source": [
    "ind_code.at[22,'sector code'] = -99\n",
    "#df.at['C', 'x'] = 10"
   ]
  },
  {
   "cell_type": "code",
   "execution_count": 835,
   "metadata": {},
   "outputs": [],
   "source": [
    "naics_codes = pd.read_excel(\"NAICS sector codes.xlsx\")"
   ]
  },
  {
   "cell_type": "code",
   "execution_count": 836,
   "metadata": {},
   "outputs": [],
   "source": [
    "ind_code['sector code'] = pandas.to_numeric(ind_code['sector code'])\n",
    "naics_codes['Sector'] = pandas.to_numeric(naics_codes['Sector'])"
   ]
  },
  {
   "cell_type": "code",
   "execution_count": 837,
   "metadata": {},
   "outputs": [],
   "source": [
    "ind_code_det = ind_code.merge(naics_codes, how =\"left\", left_on = \"sector code\", right_on = \"Sector\")\n",
    "ind_code_det = ind_code_det[['Name','count']]"
   ]
  },
  {
   "cell_type": "code",
   "execution_count": 839,
   "metadata": {},
   "outputs": [
    {
     "data": {
      "image/png": "[encoded data removed]",
      "text/plain": [
       "<matplotlib.figure.Figure at 0x1ad6bfbf28>"
      ]
     },
     "metadata": {},
     "output_type": "display_data"
    }
   ],
   "source": [
    "%matplotlib inline\n",
    "import matplotlib.pyplot as plt\n",
    "ind_code_det = ind_code_det.set_index('Name')\n",
    "ind_code_det.plot.bar()\n",
    "#plt.tight_layout()\n",
    "plt.savefig('Industries.png')"
   ]
  },
  {
   "cell_type": "code",
   "execution_count": 840,
   "metadata": {},
   "outputs": [
    {
     "data": {
      "text/plain": [
       "Y      86.376028\n",
       "N      13.616621\n",
       "NaN     0.007351\n",
       "Name: RECR_INFO_PROFESSIONAL_OCC, dtype: float64"
      ]
     },
     "execution_count": 840,
     "metadata": {},
     "output_type": "execute_result"
    }
   ],
   "source": [
    "#Is this for profession, not college / uni professor\n",
    "(data['RECR_INFO_PROFESSIONAL_OCC'].value_counts(dropna=False) / data['RECR_INFO_PROFESSIONAL_OCC'].value_counts(dropna=False).sum()) * 100"
   ]
  },
  {
   "cell_type": "code",
   "execution_count": 841,
   "metadata": {},
   "outputs": [
    {
     "data": {
      "text/plain": [
       "N      97.379649\n",
       "Y       2.607248\n",
       "NaN     0.013103\n",
       "Name: RECR_INFO_COLL_UNIV_TEACHER, dtype: float64"
      ]
     },
     "execution_count": 841,
     "metadata": {},
     "output_type": "execute_result"
    }
   ],
   "source": [
    "#Is this for college / uni professor\n",
    "(data['RECR_INFO_COLL_UNIV_TEACHER'].value_counts(dropna=False) / data['RECR_INFO_COLL_UNIV_TEACHER'].value_counts(dropna=False).sum()) * 100"
   ]
  },
  {
   "cell_type": "code",
   "execution_count": 842,
   "metadata": {},
   "outputs": [
    {
     "data": {
      "text/plain": [
       "NaN    97.003806\n",
       "Y       2.457039\n",
       "N       0.539155\n",
       "Name: RECR_INFO_COLL_TEACH_COMP_PROC, dtype: float64"
      ]
     },
     "execution_count": 842,
     "metadata": {},
     "output_type": "execute_result"
    }
   ],
   "source": [
    "(data['RECR_INFO_COLL_TEACH_COMP_PROC'].value_counts(dropna=False) / data['RECR_INFO_COLL_TEACH_COMP_PROC'].value_counts(dropna=False).sum()) * 100"
   ]
  },
  {
   "cell_type": "code",
   "execution_count": 843,
   "metadata": {},
   "outputs": [
    {
     "data": {
      "text/plain": [
       "Y      89.380531\n",
       "N      10.539251\n",
       "NaN     0.080218\n",
       "Name: JOB_INFO_FOREIGN_ED, dtype: float64"
      ]
     },
     "execution_count": 843,
     "metadata": {},
     "output_type": "execute_result"
    }
   ],
   "source": [
    "(data['JOB_INFO_FOREIGN_ED'].value_counts(dropna=False) / data['JOB_INFO_FOREIGN_ED'].value_counts(dropna=False).sum()) * 100\n",
    "#since there are 10% no, would be interesting to see if the nos experiences for the other people would still be accepted"
   ]
  },
  {
   "cell_type": "markdown",
   "metadata": {},
   "source": [
    "## VISA informaiton"
   ]
  },
  {
   "cell_type": "code",
   "execution_count": 844,
   "metadata": {
    "scrolled": true
   },
   "outputs": [
    {
     "data": {
      "text/plain": [
       "H-1B          71.812449\n",
       "NaN            6.901313\n",
       "L-1            6.109998\n",
       "F-1            5.055977\n",
       "Not in USA     3.282550\n",
       "TN             1.368501\n",
       "E-2            1.244819\n",
       "B-2            0.940885\n",
       "EWI            0.392142\n",
       "Parolee        0.324707\n",
       "J-1            0.315439\n",
       "F-2            0.308408\n",
       "E-3            0.278686\n",
       "O-1            0.239376\n",
       "H-4            0.203581\n",
       "B-1            0.169385\n",
       "L-2            0.157879\n",
       "E-1            0.153405\n",
       "H-2B           0.139023\n",
       "H-1B1          0.116971\n",
       "TPS            0.081177\n",
       "P-1            0.060084\n",
       "H-2A           0.046661\n",
       "A1/A2          0.046022\n",
       "J-2            0.037392\n",
       "R-1            0.031001\n",
       "G-4            0.029722\n",
       "I              0.023650\n",
       "P-3            0.014701\n",
       "VWT            0.014701\n",
       "G-5            0.013423\n",
       "H-3            0.012145\n",
       "H-1A           0.010547\n",
       "C-1            0.009268\n",
       "M-1            0.008949\n",
       "A-3            0.007031\n",
       "O-2            0.006072\n",
       "TD             0.004474\n",
       "VWB            0.003835\n",
       "G-1            0.003516\n",
       "O-3            0.003516\n",
       "R-2            0.003196\n",
       "C-3            0.003196\n",
       "M-2            0.001598\n",
       "D-1            0.001598\n",
       "P-4            0.001598\n",
       "Q              0.001278\n",
       "P-2            0.000959\n",
       "N              0.000639\n",
       "V-1            0.000639\n",
       "T-1            0.000639\n",
       "V-2            0.000639\n",
       "K-1            0.000320\n",
       "U-1            0.000320\n",
       "Name: CLASS_OF_ADMISSION, dtype: float64"
      ]
     },
     "execution_count": 844,
     "metadata": {},
     "output_type": "execute_result"
    }
   ],
   "source": [
    "#what was their previous class of admission\n",
    "(data['CLASS_OF_ADMISSION'].value_counts(dropna=False) / data['CLASS_OF_ADMISSION'].value_counts(dropna=False).sum()) * 100"
   ]
  },
  {
   "cell_type": "code",
   "execution_count": 845,
   "metadata": {},
   "outputs": [
    {
     "data": {
      "text/html": [
       "<div>\n",
       "<style>\n",
       "    .dataframe thead tr:only-child th {\n",
       "        text-align: right;\n",
       "    }\n",
       "\n",
       "    .dataframe thead th {\n",
       "        text-align: left;\n",
       "    }\n",
       "\n",
       "    .dataframe tbody tr th {\n",
       "        vertical-align: top;\n",
       "    }\n",
       "</style>\n",
       "<table border=\"1\" class=\"dataframe\">\n",
       "  <thead>\n",
       "    <tr style=\"text-align: right;\">\n",
       "      <th></th>\n",
       "      <th>CASE_NUMBER</th>\n",
       "      <th>CLASS_OF_ADMISSION</th>\n",
       "      <th>H1B_VISA</th>\n",
       "      <th>Other_Visa</th>\n",
       "      <th>No_US_Visa</th>\n",
       "    </tr>\n",
       "  </thead>\n",
       "  <tbody>\n",
       "    <tr>\n",
       "      <th>0</th>\n",
       "      <td>A-14220-96665</td>\n",
       "      <td>H-1B</td>\n",
       "      <td>1</td>\n",
       "      <td>0</td>\n",
       "      <td>0</td>\n",
       "    </tr>\n",
       "    <tr>\n",
       "      <th>1</th>\n",
       "      <td>A-14220-96720</td>\n",
       "      <td>H-1B</td>\n",
       "      <td>1</td>\n",
       "      <td>0</td>\n",
       "      <td>0</td>\n",
       "    </tr>\n",
       "    <tr>\n",
       "      <th>2</th>\n",
       "      <td>A-14203-91167</td>\n",
       "      <td>L-1</td>\n",
       "      <td>0</td>\n",
       "      <td>1</td>\n",
       "      <td>0</td>\n",
       "    </tr>\n",
       "    <tr>\n",
       "      <th>3</th>\n",
       "      <td>A-14206-92509</td>\n",
       "      <td>H-1B</td>\n",
       "      <td>1</td>\n",
       "      <td>0</td>\n",
       "      <td>0</td>\n",
       "    </tr>\n",
       "    <tr>\n",
       "      <th>4</th>\n",
       "      <td>A-14202-90786</td>\n",
       "      <td>H-1B</td>\n",
       "      <td>1</td>\n",
       "      <td>0</td>\n",
       "      <td>0</td>\n",
       "    </tr>\n",
       "    <tr>\n",
       "      <th>5</th>\n",
       "      <td>A-14202-90819</td>\n",
       "      <td>H-1B</td>\n",
       "      <td>1</td>\n",
       "      <td>0</td>\n",
       "      <td>0</td>\n",
       "    </tr>\n",
       "    <tr>\n",
       "      <th>6</th>\n",
       "      <td>A-14202-90920</td>\n",
       "      <td>H-1B</td>\n",
       "      <td>1</td>\n",
       "      <td>0</td>\n",
       "      <td>0</td>\n",
       "    </tr>\n",
       "    <tr>\n",
       "      <th>7</th>\n",
       "      <td>A-14220-96712</td>\n",
       "      <td>H-1B</td>\n",
       "      <td>1</td>\n",
       "      <td>0</td>\n",
       "      <td>0</td>\n",
       "    </tr>\n",
       "    <tr>\n",
       "      <th>8</th>\n",
       "      <td>A-14226-98150</td>\n",
       "      <td>H-1B</td>\n",
       "      <td>1</td>\n",
       "      <td>0</td>\n",
       "      <td>0</td>\n",
       "    </tr>\n",
       "    <tr>\n",
       "      <th>9</th>\n",
       "      <td>A-14226-98245</td>\n",
       "      <td>None</td>\n",
       "      <td>0</td>\n",
       "      <td>0</td>\n",
       "      <td>1</td>\n",
       "    </tr>\n",
       "    <tr>\n",
       "      <th>10</th>\n",
       "      <td>A-14224-97486</td>\n",
       "      <td>H-1B</td>\n",
       "      <td>1</td>\n",
       "      <td>0</td>\n",
       "      <td>0</td>\n",
       "    </tr>\n",
       "    <tr>\n",
       "      <th>11</th>\n",
       "      <td>A-14224-97503</td>\n",
       "      <td>H-1B</td>\n",
       "      <td>1</td>\n",
       "      <td>0</td>\n",
       "      <td>0</td>\n",
       "    </tr>\n",
       "    <tr>\n",
       "      <th>12</th>\n",
       "      <td>A-14218-95841</td>\n",
       "      <td>H-1B</td>\n",
       "      <td>1</td>\n",
       "      <td>0</td>\n",
       "      <td>0</td>\n",
       "    </tr>\n",
       "    <tr>\n",
       "      <th>13</th>\n",
       "      <td>A-14218-95919</td>\n",
       "      <td>H-1B</td>\n",
       "      <td>1</td>\n",
       "      <td>0</td>\n",
       "      <td>0</td>\n",
       "    </tr>\n",
       "    <tr>\n",
       "      <th>14</th>\n",
       "      <td>A-14233-00479</td>\n",
       "      <td>H-1B</td>\n",
       "      <td>1</td>\n",
       "      <td>0</td>\n",
       "      <td>0</td>\n",
       "    </tr>\n",
       "    <tr>\n",
       "      <th>15</th>\n",
       "      <td>A-14233-00480</td>\n",
       "      <td>H-1B</td>\n",
       "      <td>1</td>\n",
       "      <td>0</td>\n",
       "      <td>0</td>\n",
       "    </tr>\n",
       "    <tr>\n",
       "      <th>16</th>\n",
       "      <td>A-14233-00487</td>\n",
       "      <td>J-1</td>\n",
       "      <td>0</td>\n",
       "      <td>1</td>\n",
       "      <td>0</td>\n",
       "    </tr>\n",
       "    <tr>\n",
       "      <th>17</th>\n",
       "      <td>A-14233-00533</td>\n",
       "      <td>H-1B</td>\n",
       "      <td>1</td>\n",
       "      <td>0</td>\n",
       "      <td>0</td>\n",
       "    </tr>\n",
       "    <tr>\n",
       "      <th>18</th>\n",
       "      <td>A-14233-00565</td>\n",
       "      <td>L-1</td>\n",
       "      <td>0</td>\n",
       "      <td>1</td>\n",
       "      <td>0</td>\n",
       "    </tr>\n",
       "    <tr>\n",
       "      <th>19</th>\n",
       "      <td>A-14238-01616</td>\n",
       "      <td>H-1B</td>\n",
       "      <td>1</td>\n",
       "      <td>0</td>\n",
       "      <td>0</td>\n",
       "    </tr>\n",
       "    <tr>\n",
       "      <th>20</th>\n",
       "      <td>A-14238-01636</td>\n",
       "      <td>F-1</td>\n",
       "      <td>0</td>\n",
       "      <td>1</td>\n",
       "      <td>0</td>\n",
       "    </tr>\n",
       "    <tr>\n",
       "      <th>21</th>\n",
       "      <td>A-14245-03117</td>\n",
       "      <td>H-1B</td>\n",
       "      <td>1</td>\n",
       "      <td>0</td>\n",
       "      <td>0</td>\n",
       "    </tr>\n",
       "    <tr>\n",
       "      <th>22</th>\n",
       "      <td>A-14245-03216</td>\n",
       "      <td>H-1B</td>\n",
       "      <td>1</td>\n",
       "      <td>0</td>\n",
       "      <td>0</td>\n",
       "    </tr>\n",
       "    <tr>\n",
       "      <th>23</th>\n",
       "      <td>A-14245-03304</td>\n",
       "      <td>H-1B</td>\n",
       "      <td>1</td>\n",
       "      <td>0</td>\n",
       "      <td>0</td>\n",
       "    </tr>\n",
       "    <tr>\n",
       "      <th>24</th>\n",
       "      <td>A-14246-03493</td>\n",
       "      <td>H-1B</td>\n",
       "      <td>1</td>\n",
       "      <td>0</td>\n",
       "      <td>0</td>\n",
       "    </tr>\n",
       "    <tr>\n",
       "      <th>25</th>\n",
       "      <td>A-14246-03533</td>\n",
       "      <td>H-1B</td>\n",
       "      <td>1</td>\n",
       "      <td>0</td>\n",
       "      <td>0</td>\n",
       "    </tr>\n",
       "    <tr>\n",
       "      <th>26</th>\n",
       "      <td>A-14246-03571</td>\n",
       "      <td>H-1B</td>\n",
       "      <td>1</td>\n",
       "      <td>0</td>\n",
       "      <td>0</td>\n",
       "    </tr>\n",
       "    <tr>\n",
       "      <th>27</th>\n",
       "      <td>A-14198-89632</td>\n",
       "      <td>H-1B</td>\n",
       "      <td>1</td>\n",
       "      <td>0</td>\n",
       "      <td>0</td>\n",
       "    </tr>\n",
       "    <tr>\n",
       "      <th>28</th>\n",
       "      <td>A-14198-89806</td>\n",
       "      <td>H-1B</td>\n",
       "      <td>1</td>\n",
       "      <td>0</td>\n",
       "      <td>0</td>\n",
       "    </tr>\n",
       "    <tr>\n",
       "      <th>29</th>\n",
       "      <td>A-14202-90634</td>\n",
       "      <td>H-1B</td>\n",
       "      <td>1</td>\n",
       "      <td>0</td>\n",
       "      <td>0</td>\n",
       "    </tr>\n",
       "    <tr>\n",
       "      <th>...</th>\n",
       "      <td>...</td>\n",
       "      <td>...</td>\n",
       "      <td>...</td>\n",
       "      <td>...</td>\n",
       "      <td>...</td>\n",
       "    </tr>\n",
       "    <tr>\n",
       "      <th>97573</th>\n",
       "      <td>A-17041-01782</td>\n",
       "      <td>F-2</td>\n",
       "      <td>0</td>\n",
       "      <td>1</td>\n",
       "      <td>0</td>\n",
       "    </tr>\n",
       "    <tr>\n",
       "      <th>97574</th>\n",
       "      <td>A-17040-01185</td>\n",
       "      <td>Not in USA</td>\n",
       "      <td>0</td>\n",
       "      <td>0</td>\n",
       "      <td>1</td>\n",
       "    </tr>\n",
       "    <tr>\n",
       "      <th>97575</th>\n",
       "      <td>A-17040-01445</td>\n",
       "      <td>O-1</td>\n",
       "      <td>0</td>\n",
       "      <td>1</td>\n",
       "      <td>0</td>\n",
       "    </tr>\n",
       "    <tr>\n",
       "      <th>97576</th>\n",
       "      <td>A-16328-74343</td>\n",
       "      <td>J-1</td>\n",
       "      <td>0</td>\n",
       "      <td>1</td>\n",
       "      <td>0</td>\n",
       "    </tr>\n",
       "    <tr>\n",
       "      <th>97577</th>\n",
       "      <td>A-17039-01010</td>\n",
       "      <td>H-1B</td>\n",
       "      <td>1</td>\n",
       "      <td>0</td>\n",
       "      <td>0</td>\n",
       "    </tr>\n",
       "    <tr>\n",
       "      <th>97578</th>\n",
       "      <td>A-17039-00894</td>\n",
       "      <td>F-2</td>\n",
       "      <td>0</td>\n",
       "      <td>1</td>\n",
       "      <td>0</td>\n",
       "    </tr>\n",
       "    <tr>\n",
       "      <th>97579</th>\n",
       "      <td>A-17033-98552</td>\n",
       "      <td>None</td>\n",
       "      <td>0</td>\n",
       "      <td>0</td>\n",
       "      <td>1</td>\n",
       "    </tr>\n",
       "    <tr>\n",
       "      <th>97580</th>\n",
       "      <td>A-17038-00048</td>\n",
       "      <td>B-2</td>\n",
       "      <td>0</td>\n",
       "      <td>1</td>\n",
       "      <td>0</td>\n",
       "    </tr>\n",
       "    <tr>\n",
       "      <th>97581</th>\n",
       "      <td>A-17032-97797</td>\n",
       "      <td>None</td>\n",
       "      <td>0</td>\n",
       "      <td>0</td>\n",
       "      <td>1</td>\n",
       "    </tr>\n",
       "    <tr>\n",
       "      <th>97582</th>\n",
       "      <td>A-17018-92542</td>\n",
       "      <td>H-1B</td>\n",
       "      <td>1</td>\n",
       "      <td>0</td>\n",
       "      <td>0</td>\n",
       "    </tr>\n",
       "    <tr>\n",
       "      <th>97583</th>\n",
       "      <td>A-17038-00447</td>\n",
       "      <td>None</td>\n",
       "      <td>0</td>\n",
       "      <td>0</td>\n",
       "      <td>1</td>\n",
       "    </tr>\n",
       "    <tr>\n",
       "      <th>97584</th>\n",
       "      <td>A-16331-74510</td>\n",
       "      <td>P-3</td>\n",
       "      <td>0</td>\n",
       "      <td>1</td>\n",
       "      <td>0</td>\n",
       "    </tr>\n",
       "    <tr>\n",
       "      <th>97585</th>\n",
       "      <td>A-16285-60706</td>\n",
       "      <td>B-2</td>\n",
       "      <td>0</td>\n",
       "      <td>1</td>\n",
       "      <td>0</td>\n",
       "    </tr>\n",
       "    <tr>\n",
       "      <th>97586</th>\n",
       "      <td>A-16364-85874</td>\n",
       "      <td>H-1B</td>\n",
       "      <td>1</td>\n",
       "      <td>0</td>\n",
       "      <td>0</td>\n",
       "    </tr>\n",
       "    <tr>\n",
       "      <th>97587</th>\n",
       "      <td>A-17030-96974</td>\n",
       "      <td>H-1B</td>\n",
       "      <td>1</td>\n",
       "      <td>0</td>\n",
       "      <td>0</td>\n",
       "    </tr>\n",
       "    <tr>\n",
       "      <th>97588</th>\n",
       "      <td>A-17024-94531</td>\n",
       "      <td>F-1</td>\n",
       "      <td>0</td>\n",
       "      <td>1</td>\n",
       "      <td>0</td>\n",
       "    </tr>\n",
       "    <tr>\n",
       "      <th>97589</th>\n",
       "      <td>A-17006-88117</td>\n",
       "      <td>B-2</td>\n",
       "      <td>0</td>\n",
       "      <td>1</td>\n",
       "      <td>0</td>\n",
       "    </tr>\n",
       "    <tr>\n",
       "      <th>97590</th>\n",
       "      <td>A-16320-71558</td>\n",
       "      <td>H-1B</td>\n",
       "      <td>1</td>\n",
       "      <td>0</td>\n",
       "      <td>0</td>\n",
       "    </tr>\n",
       "    <tr>\n",
       "      <th>97591</th>\n",
       "      <td>A-16342-78005</td>\n",
       "      <td>H-1B</td>\n",
       "      <td>1</td>\n",
       "      <td>0</td>\n",
       "      <td>0</td>\n",
       "    </tr>\n",
       "    <tr>\n",
       "      <th>97592</th>\n",
       "      <td>A-16320-71290</td>\n",
       "      <td>H-1B</td>\n",
       "      <td>1</td>\n",
       "      <td>0</td>\n",
       "      <td>0</td>\n",
       "    </tr>\n",
       "    <tr>\n",
       "      <th>97593</th>\n",
       "      <td>A-16314-69768</td>\n",
       "      <td>H-1B</td>\n",
       "      <td>1</td>\n",
       "      <td>0</td>\n",
       "      <td>0</td>\n",
       "    </tr>\n",
       "    <tr>\n",
       "      <th>97594</th>\n",
       "      <td>A-16309-68645</td>\n",
       "      <td>H-1B</td>\n",
       "      <td>1</td>\n",
       "      <td>0</td>\n",
       "      <td>0</td>\n",
       "    </tr>\n",
       "    <tr>\n",
       "      <th>97595</th>\n",
       "      <td>A-16119-03184</td>\n",
       "      <td>E-2</td>\n",
       "      <td>0</td>\n",
       "      <td>1</td>\n",
       "      <td>0</td>\n",
       "    </tr>\n",
       "    <tr>\n",
       "      <th>97596</th>\n",
       "      <td>A-16249-49588</td>\n",
       "      <td>H-1B</td>\n",
       "      <td>1</td>\n",
       "      <td>0</td>\n",
       "      <td>0</td>\n",
       "    </tr>\n",
       "    <tr>\n",
       "      <th>97597</th>\n",
       "      <td>A-16211-37304</td>\n",
       "      <td>F-1</td>\n",
       "      <td>0</td>\n",
       "      <td>1</td>\n",
       "      <td>0</td>\n",
       "    </tr>\n",
       "    <tr>\n",
       "      <th>97598</th>\n",
       "      <td>A-16252-50679</td>\n",
       "      <td>E-2</td>\n",
       "      <td>0</td>\n",
       "      <td>1</td>\n",
       "      <td>0</td>\n",
       "    </tr>\n",
       "    <tr>\n",
       "      <th>97599</th>\n",
       "      <td>A-17264-89554</td>\n",
       "      <td>H-1B</td>\n",
       "      <td>1</td>\n",
       "      <td>0</td>\n",
       "      <td>0</td>\n",
       "    </tr>\n",
       "    <tr>\n",
       "      <th>97600</th>\n",
       "      <td>A-17264-89549</td>\n",
       "      <td>H-1B</td>\n",
       "      <td>1</td>\n",
       "      <td>0</td>\n",
       "      <td>0</td>\n",
       "    </tr>\n",
       "    <tr>\n",
       "      <th>97601</th>\n",
       "      <td>A-17264-89484</td>\n",
       "      <td>H-1B</td>\n",
       "      <td>1</td>\n",
       "      <td>0</td>\n",
       "      <td>0</td>\n",
       "    </tr>\n",
       "    <tr>\n",
       "      <th>97602</th>\n",
       "      <td>A-17258-87753</td>\n",
       "      <td>R-1</td>\n",
       "      <td>0</td>\n",
       "      <td>1</td>\n",
       "      <td>0</td>\n",
       "    </tr>\n",
       "  </tbody>\n",
       "</table>\n",
       "<p>312897 rows × 5 columns</p>\n",
       "</div>"
      ],
      "text/plain": [
       "         CASE_NUMBER CLASS_OF_ADMISSION  H1B_VISA  Other_Visa  No_US_Visa\n",
       "0      A-14220-96665               H-1B         1           0           0\n",
       "1      A-14220-96720               H-1B         1           0           0\n",
       "2      A-14203-91167                L-1         0           1           0\n",
       "3      A-14206-92509               H-1B         1           0           0\n",
       "4      A-14202-90786               H-1B         1           0           0\n",
       "5      A-14202-90819               H-1B         1           0           0\n",
       "6      A-14202-90920               H-1B         1           0           0\n",
       "7      A-14220-96712               H-1B         1           0           0\n",
       "8      A-14226-98150               H-1B         1           0           0\n",
       "9      A-14226-98245               None         0           0           1\n",
       "10     A-14224-97486               H-1B         1           0           0\n",
       "11     A-14224-97503               H-1B         1           0           0\n",
       "12     A-14218-95841               H-1B         1           0           0\n",
       "13     A-14218-95919               H-1B         1           0           0\n",
       "14     A-14233-00479               H-1B         1           0           0\n",
       "15     A-14233-00480               H-1B         1           0           0\n",
       "16     A-14233-00487                J-1         0           1           0\n",
       "17     A-14233-00533               H-1B         1           0           0\n",
       "18     A-14233-00565                L-1         0           1           0\n",
       "19     A-14238-01616               H-1B         1           0           0\n",
       "20     A-14238-01636                F-1         0           1           0\n",
       "21     A-14245-03117               H-1B         1           0           0\n",
       "22     A-14245-03216               H-1B         1           0           0\n",
       "23     A-14245-03304               H-1B         1           0           0\n",
       "24     A-14246-03493               H-1B         1           0           0\n",
       "25     A-14246-03533               H-1B         1           0           0\n",
       "26     A-14246-03571               H-1B         1           0           0\n",
       "27     A-14198-89632               H-1B         1           0           0\n",
       "28     A-14198-89806               H-1B         1           0           0\n",
       "29     A-14202-90634               H-1B         1           0           0\n",
       "...              ...                ...       ...         ...         ...\n",
       "97573  A-17041-01782                F-2         0           1           0\n",
       "97574  A-17040-01185         Not in USA         0           0           1\n",
       "97575  A-17040-01445                O-1         0           1           0\n",
       "97576  A-16328-74343                J-1         0           1           0\n",
       "97577  A-17039-01010               H-1B         1           0           0\n",
       "97578  A-17039-00894                F-2         0           1           0\n",
       "97579  A-17033-98552               None         0           0           1\n",
       "97580  A-17038-00048                B-2         0           1           0\n",
       "97581  A-17032-97797               None         0           0           1\n",
       "97582  A-17018-92542               H-1B         1           0           0\n",
       "97583  A-17038-00447               None         0           0           1\n",
       "97584  A-16331-74510                P-3         0           1           0\n",
       "97585  A-16285-60706                B-2         0           1           0\n",
       "97586  A-16364-85874               H-1B         1           0           0\n",
       "97587  A-17030-96974               H-1B         1           0           0\n",
       "97588  A-17024-94531                F-1         0           1           0\n",
       "97589  A-17006-88117                B-2         0           1           0\n",
       "97590  A-16320-71558               H-1B         1           0           0\n",
       "97591  A-16342-78005               H-1B         1           0           0\n",
       "97592  A-16320-71290               H-1B         1           0           0\n",
       "97593  A-16314-69768               H-1B         1           0           0\n",
       "97594  A-16309-68645               H-1B         1           0           0\n",
       "97595  A-16119-03184                E-2         0           1           0\n",
       "97596  A-16249-49588               H-1B         1           0           0\n",
       "97597  A-16211-37304                F-1         0           1           0\n",
       "97598  A-16252-50679                E-2         0           1           0\n",
       "97599  A-17264-89554               H-1B         1           0           0\n",
       "97600  A-17264-89549               H-1B         1           0           0\n",
       "97601  A-17264-89484               H-1B         1           0           0\n",
       "97602  A-17258-87753                R-1         0           1           0\n",
       "\n",
       "[312897 rows x 5 columns]"
      ]
     },
     "execution_count": 845,
     "metadata": {},
     "output_type": "execute_result"
    }
   ],
   "source": [
    "#making the VISA column into booleans, if have H1B, if have other, if have none\n",
    "visa_info = pd.DataFrame(data[['CASE_NUMBER','CLASS_OF_ADMISSION']])\n",
    "visa_info['CLASS_OF_ADMISSION'] = np.where(visa_info['CLASS_OF_ADMISSION'].isnull(), \"None\", visa_info['CLASS_OF_ADMISSION'])\n",
    "visa_info['H1B_VISA'] = np.where(visa_info['CLASS_OF_ADMISSION'] == \"H-1B\", 1, 0)\n",
    "tmp = np.isin(visa_info['CLASS_OF_ADMISSION'], ['H-1B','None','Not in USA','Parolee'])\n",
    "visa_info['Other_Visa'] = np.where(tmp , 0, 1)\n",
    "tmp = np.isin(visa_info['CLASS_OF_ADMISSION'], ['None','Not in USA','Parolee'])\n",
    "visa_info['No_US_Visa'] = np.where(tmp , 1, 0)\n",
    "#visa_info['No_US_Visa'] = np.where(visa_info['CLASS_OF_ADMISSION']  in ['H-1B','NaN','Not in USA','Parolee'] , 1, 0)\n",
    "visa_info"
   ]
  },
  {
   "cell_type": "code",
   "execution_count": 846,
   "metadata": {},
   "outputs": [
    {
     "data": {
      "image/png": "[encoded data removed]",
      "text/plain": [
       "<matplotlib.figure.Figure at 0x1a7ea45940>"
      ]
     },
     "metadata": {},
     "output_type": "display_data"
    }
   ],
   "source": [
    "tmp_visa = pd.DataFrame(visa_info[['H1B_VISA','Other_Visa','No_US_Visa']].sum())\n",
    "%matplotlib inline\n",
    "import matplotlib.pyplot as plt\n",
    "tmp_visa.plot(kind = 'barh')\n",
    "plt.savefig(\"Visa.png\")"
   ]
  },
  {
   "cell_type": "code",
   "execution_count": 847,
   "metadata": {},
   "outputs": [
    {
     "data": {
      "text/plain": [
       "Y      98.427278\n",
       "A       1.488349\n",
       "N       0.049537\n",
       "NaN     0.034836\n",
       "Name: RI_POSTED_NOTICE_AT_WORKSITE, dtype: float64"
      ]
     },
     "execution_count": 847,
     "metadata": {},
     "output_type": "execute_result"
    }
   ],
   "source": [
    "#this is a requirement now I believe\n",
    "(data['RI_POSTED_NOTICE_AT_WORKSITE'].value_counts(dropna=False) / data['RI_POSTED_NOTICE_AT_WORKSITE'].value_counts(dropna=False).sum()) * 100"
   ]
  },
  {
   "cell_type": "markdown",
   "metadata": {},
   "source": [
    "## Education comparison"
   ]
  },
  {
   "cell_type": "code",
   "execution_count": 848,
   "metadata": {},
   "outputs": [
    {
     "data": {
      "text/plain": [
       "Master's       42.759119\n",
       "Bachelor's     36.784309\n",
       "None            8.170420\n",
       "Doctorate       4.965532\n",
       "Other           4.241012\n",
       "High School     2.057226\n",
       "Associate's     0.957823\n",
       "NaN             0.064558\n",
       "Name: FOREIGN_WORKER_INFO_EDUCATION, dtype: float64"
      ]
     },
     "execution_count": 848,
     "metadata": {},
     "output_type": "execute_result"
    }
   ],
   "source": [
    "(data['FOREIGN_WORKER_INFO_EDUCATION'].value_counts(dropna=False) / data['FOREIGN_WORKER_INFO_EDUCATION'].value_counts(dropna=False).sum()) * 100\n",
    "#standardized, just like JOB_INFO_EDUCATION, going to combine the two columns to check if they have same or above degrees "
   ]
  },
  {
   "cell_type": "markdown",
   "metadata": {},
   "source": [
    "Should probably redo this excluding the Other and Nulls (and maybe none?)"
   ]
  },
  {
   "cell_type": "code",
   "execution_count": 849,
   "metadata": {
    "collapsed": true
   },
   "outputs": [],
   "source": [
    "same_edu = np.where(data['JOB_INFO_EDUCATION'] == data ['FOREIGN_WORKER_INFO_EDUCATION'], 1 , 0 )"
   ]
  },
  {
   "cell_type": "code",
   "execution_count": 850,
   "metadata": {},
   "outputs": [],
   "source": [
    "mapping = {\"Master's\" : 4, \"Bachelor's\": 3, \"None\":0, \"Doctorate\":5 , \"Other\": np.NaN, \"High School\":1, \"Associate's\":2, \"NaN\":np.NaN}\n",
    "\n",
    "edu = data[['CASE_NUMBER','JOB_INFO_EDUCATION','FOREIGN_WORKER_INFO_EDUCATION']]\n",
    "edu = edu.replace({'FOREIGN_WORKER_INFO_EDUCATION': mapping, 'JOB_INFO_EDUCATION': mapping})"
   ]
  },
  {
   "cell_type": "code",
   "execution_count": 851,
   "metadata": {},
   "outputs": [],
   "source": [
    "edu['Higher education'] = np.where(edu['FOREIGN_WORKER_INFO_EDUCATION'] > edu['JOB_INFO_EDUCATION'], 1,0)"
   ]
  },
  {
   "cell_type": "code",
   "execution_count": 852,
   "metadata": {
    "collapsed": true
   },
   "outputs": [],
   "source": [
    "edu['Lower education'] = np.where(edu['FOREIGN_WORKER_INFO_EDUCATION'] < edu['JOB_INFO_EDUCATION'], 1,0)"
   ]
  },
  {
   "cell_type": "code",
   "execution_count": 511,
   "metadata": {},
   "outputs": [],
   "source": [
    "mapping = {4.0: \"Master's\"  , 3:\"Bachelor's\",0: \"None\", 5:\"Doctorate\" , -1:\"Other\" , 1:\"High School\", 2:\"Associate's\", -1:\"Null\"}\n",
    "\n",
    "edu = edu.replace({'FOREIGN_WORKER_INFO_EDUCATION': mapping, 'JOB_INFO_EDUCATION': mapping})"
   ]
  },
  {
   "cell_type": "code",
   "execution_count": 512,
   "metadata": {},
   "outputs": [],
   "source": [
    "edu[\"Transition\"] = edu.JOB_INFO_EDUCATION.astype(str) + \" to \" + edu.FOREIGN_WORKER_INFO_EDUCATION.astype(str)"
   ]
  },
  {
   "cell_type": "code",
   "execution_count": 514,
   "metadata": {
    "collapsed": true
   },
   "outputs": [
    {
     "data": {
      "text/html": [
       "<div>\n",
       "<style>\n",
       "    .dataframe thead tr:only-child th {\n",
       "        text-align: right;\n",
       "    }\n",
       "\n",
       "    .dataframe thead th {\n",
       "        text-align: left;\n",
       "    }\n",
       "\n",
       "    .dataframe tbody tr th {\n",
       "        vertical-align: top;\n",
       "    }\n",
       "</style>\n",
       "<table border=\"1\" class=\"dataframe\">\n",
       "  <thead>\n",
       "    <tr style=\"text-align: right;\">\n",
       "      <th></th>\n",
       "      <th>Transition</th>\n",
       "    </tr>\n",
       "    <tr>\n",
       "      <th>Transition</th>\n",
       "      <th></th>\n",
       "    </tr>\n",
       "  </thead>\n",
       "  <tbody>\n",
       "    <tr>\n",
       "      <th>Bachelor's to Master's</th>\n",
       "      <td>29596</td>\n",
       "    </tr>\n",
       "    <tr>\n",
       "      <th>Master's to Bachelor's</th>\n",
       "      <td>25157</td>\n",
       "    </tr>\n",
       "    <tr>\n",
       "      <th>Master's to Doctorate</th>\n",
       "      <td>4948</td>\n",
       "    </tr>\n",
       "    <tr>\n",
       "      <th>Bachelor's to NaN</th>\n",
       "      <td>3358</td>\n",
       "    </tr>\n",
       "    <tr>\n",
       "      <th>None to Bachelor's</th>\n",
       "      <td>2760</td>\n",
       "    </tr>\n",
       "    <tr>\n",
       "      <th>None to High School</th>\n",
       "      <td>2333</td>\n",
       "    </tr>\n",
       "    <tr>\n",
       "      <th>Bachelor's to None</th>\n",
       "      <td>1185</td>\n",
       "    </tr>\n",
       "    <tr>\n",
       "      <th>None to Associate's</th>\n",
       "      <td>1070</td>\n",
       "    </tr>\n",
       "    <tr>\n",
       "      <th>None to NaN</th>\n",
       "      <td>960</td>\n",
       "    </tr>\n",
       "    <tr>\n",
       "      <th>Bachelor's to Doctorate</th>\n",
       "      <td>768</td>\n",
       "    </tr>\n",
       "    <tr>\n",
       "      <th>Associate's to Bachelor's</th>\n",
       "      <td>662</td>\n",
       "    </tr>\n",
       "    <tr>\n",
       "      <th>High School to Bachelor's</th>\n",
       "      <td>660</td>\n",
       "    </tr>\n",
       "    <tr>\n",
       "      <th>NaN to Bachelor's</th>\n",
       "      <td>502</td>\n",
       "    </tr>\n",
       "    <tr>\n",
       "      <th>None to Master's</th>\n",
       "      <td>443</td>\n",
       "    </tr>\n",
       "    <tr>\n",
       "      <th>Bachelor's to Associate's</th>\n",
       "      <td>365</td>\n",
       "    </tr>\n",
       "    <tr>\n",
       "      <th>High School to Associate's</th>\n",
       "      <td>318</td>\n",
       "    </tr>\n",
       "    <tr>\n",
       "      <th>NaN to Doctorate</th>\n",
       "      <td>304</td>\n",
       "    </tr>\n",
       "    <tr>\n",
       "      <th>Master's to NaN</th>\n",
       "      <td>279</td>\n",
       "    </tr>\n",
       "    <tr>\n",
       "      <th>NaN to Master's</th>\n",
       "      <td>263</td>\n",
       "    </tr>\n",
       "    <tr>\n",
       "      <th>High School to NaN</th>\n",
       "      <td>212</td>\n",
       "    </tr>\n",
       "    <tr>\n",
       "      <th>Bachelor's to High School</th>\n",
       "      <td>171</td>\n",
       "    </tr>\n",
       "    <tr>\n",
       "      <th>NaN to High School</th>\n",
       "      <td>100</td>\n",
       "    </tr>\n",
       "    <tr>\n",
       "      <th>Associate's to NaN</th>\n",
       "      <td>82</td>\n",
       "    </tr>\n",
       "    <tr>\n",
       "      <th>Associate's to Master's</th>\n",
       "      <td>63</td>\n",
       "    </tr>\n",
       "    <tr>\n",
       "      <th>Doctorate to Master's</th>\n",
       "      <td>61</td>\n",
       "    </tr>\n",
       "    <tr>\n",
       "      <th>Doctorate to NaN</th>\n",
       "      <td>59</td>\n",
       "    </tr>\n",
       "    <tr>\n",
       "      <th>High School to Master's</th>\n",
       "      <td>59</td>\n",
       "    </tr>\n",
       "    <tr>\n",
       "      <th>NaN to Associate's</th>\n",
       "      <td>30</td>\n",
       "    </tr>\n",
       "    <tr>\n",
       "      <th>Master's to None</th>\n",
       "      <td>27</td>\n",
       "    </tr>\n",
       "    <tr>\n",
       "      <th>NaN to None</th>\n",
       "      <td>17</td>\n",
       "    </tr>\n",
       "    <tr>\n",
       "      <th>None to Doctorate</th>\n",
       "      <td>12</td>\n",
       "    </tr>\n",
       "    <tr>\n",
       "      <th>Associate's to High School</th>\n",
       "      <td>12</td>\n",
       "    </tr>\n",
       "    <tr>\n",
       "      <th>Associate's to None</th>\n",
       "      <td>8</td>\n",
       "    </tr>\n",
       "    <tr>\n",
       "      <th>High School to None</th>\n",
       "      <td>7</td>\n",
       "    </tr>\n",
       "    <tr>\n",
       "      <th>Doctorate to Bachelor's</th>\n",
       "      <td>6</td>\n",
       "    </tr>\n",
       "    <tr>\n",
       "      <th>Associate's to Doctorate</th>\n",
       "      <td>6</td>\n",
       "    </tr>\n",
       "    <tr>\n",
       "      <th>Master's to Associate's</th>\n",
       "      <td>4</td>\n",
       "    </tr>\n",
       "    <tr>\n",
       "      <th>Master's to High School</th>\n",
       "      <td>2</td>\n",
       "    </tr>\n",
       "  </tbody>\n",
       "</table>\n",
       "</div>"
      ],
      "text/plain": [
       "                            Transition\n",
       "Transition                            \n",
       "Bachelor's to Master's           29596\n",
       "Master's to Bachelor's           25157\n",
       "Master's to Doctorate             4948\n",
       "Bachelor's to NaN                 3358\n",
       "None to Bachelor's                2760\n",
       "None to High School               2333\n",
       "Bachelor's to None                1185\n",
       "None to Associate's               1070\n",
       "None to NaN                        960\n",
       "Bachelor's to Doctorate            768\n",
       "Associate's to Bachelor's          662\n",
       "High School to Bachelor's          660\n",
       "NaN to Bachelor's                  502\n",
       "None to Master's                   443\n",
       "Bachelor's to Associate's          365\n",
       "High School to Associate's         318\n",
       "NaN to Doctorate                   304\n",
       "Master's to NaN                    279\n",
       "NaN to Master's                    263\n",
       "High School to NaN                 212\n",
       "Bachelor's to High School          171\n",
       "NaN to High School                 100\n",
       "Associate's to NaN                  82\n",
       "Associate's to Master's             63\n",
       "Doctorate to Master's               61\n",
       "Doctorate to NaN                    59\n",
       "High School to Master's             59\n",
       "NaN to Associate's                  30\n",
       "Master's to None                    27\n",
       "NaN to None                         17\n",
       "None to Doctorate                   12\n",
       "Associate's to High School          12\n",
       "Associate's to None                  8\n",
       "High School to None                  7\n",
       "Doctorate to Bachelor's              6\n",
       "Associate's to Doctorate             6\n",
       "Master's to Associate's              4\n",
       "Master's to High School              2"
      ]
     },
     "execution_count": 514,
     "metadata": {},
     "output_type": "execute_result"
    }
   ],
   "source": [
    "#edu[['Higher education','Lower education']].sum()\n",
    "ed = edu.loc[(edu['Lower education']  == 1.0) | (edu['Higher education'] == 1.0)]\n",
    "ed = ed.loc[(~ed['FOREIGN_WORKER_INFO_EDUCATION'].isin(['Null','Other','None']) ) |(~ed['JOB_INFO_EDUCATION'].isin(['Null','Other','None']) ) ]\n",
    "ed = ed.loc[(pd.notnull(ed['FOREIGN_WORKER_INFO_EDUCATION'])  ) |(pd.notnull(ed['JOB_INFO_EDUCATION'])) ]\n",
    "\n",
    "pd.DataFrame(ed.groupby(['Transition'])['Transition'].count().sort_values(ascending=False))\n",
    "#341585"
   ]
  },
  {
   "cell_type": "code",
   "execution_count": 361,
   "metadata": {},
   "outputs": [
    {
     "data": {
      "text/plain": [
       "Int64Index([2015, 2015, 2014, 2015, 2015, 2014, 2015, 2015, 2015, 2015,\n",
       "            ...\n",
       "            2016, 2016, 2016, 2016, 2016, 2016, 2016, 2016, 2016, 2016],\n",
       "           dtype='int64', name='DECISION_DATE', length=341585)"
      ]
     },
     "execution_count": 361,
     "metadata": {},
     "output_type": "execute_result"
    }
   ],
   "source": [
    "#Getting decision date year\n",
    "pd.DatetimeIndex(data['DECISION_DATE']).year"
   ]
  },
  {
   "cell_type": "code",
   "execution_count": 363,
   "metadata": {},
   "outputs": [
    {
     "data": {
      "text/plain": [
       "array([1, 1, 1, ..., 1, 1, 0])"
      ]
     },
     "execution_count": 363,
     "metadata": {},
     "output_type": "execute_result"
    }
   ],
   "source": [
    "#Getting agent firm boolean\n",
    "np.where(pd.isnull(data['AGENT_FIRM_NAME']), 0, 1)"
   ]
  },
  {
   "cell_type": "markdown",
   "metadata": {},
   "source": [
    "## Dealing with the recruitment date fields"
   ]
  },
  {
   "cell_type": "code",
   "execution_count": 105,
   "metadata": {
    "collapsed": true
   },
   "outputs": [],
   "source": [
    "recr_dates = data[[\"RECR_INFO_SWA_JOB_ORDER_START\",\"RECR_INFO_SWA_JOB_ORDER_END\",\"RECR_INFO_FIRST_AD_START\",\"RECR_INFO_SECOND_AD_START\",\"RECR_INFO_JOB_FAIR_FROM\",\"RECR_INFO_JOB_FAIR_TO\",\"RECR_INFO_ON_CAMPUS_RECR_FROM\",\"RECR_INFO_ON_CAMPUS_RECR_TO\",\"RI_EMPLOYER_WEB_POST_FROM\",\"RI_EMPLOYER_WEB_POST_TO\",\"RECR_INFO_PRO_ORG_ADVERT_FROM\",\"RECR_INFO_PRO_ORG_ADVERT_TO\",\"RI_JOB_SEARCH_WEBSITE_FROM\",\"RI_JOB_SEARCH_WEBSITE_TO\",\"RI_PVT_EMPLOYMENT_FIRM_FROM\",\"RI_PVT_EMPLOYMENT_FIRM_TO\",\"RI_EMPLOYEE_REFERRAL_PROG_FROM\",\"RI_EMPLOYEE_REFERRAL_PROG_TO\",\"RI_CAMPUS_PLACEMENT_FROM\",\"RI_CAMPUS_PLACEMENT_TO\",\"RI_LOCAL_ETHNIC_PAPER_FROM\",\"RI_LOCAL_ETHNIC_PAPER_TO\",\"RECR_INFO_RADIO_TV_AD_FROM\",\"RECR_INFO_RADIO_TV_AD_TO\"]]"
   ]
  },
  {
   "cell_type": "code",
   "execution_count": 108,
   "metadata": {},
   "outputs": [
    {
     "data": {
      "text/html": [
       "<div>\n",
       "<style>\n",
       "    .dataframe thead tr:only-child th {\n",
       "        text-align: right;\n",
       "    }\n",
       "\n",
       "    .dataframe thead th {\n",
       "        text-align: left;\n",
       "    }\n",
       "\n",
       "    .dataframe tbody tr th {\n",
       "        vertical-align: top;\n",
       "    }\n",
       "</style>\n",
       "<table border=\"1\" class=\"dataframe\">\n",
       "  <thead>\n",
       "    <tr style=\"text-align: right;\">\n",
       "      <th></th>\n",
       "      <th>RECR_INFO_SWA_JOB_ORDER_START</th>\n",
       "      <th>RECR_INFO_SWA_JOB_ORDER_END</th>\n",
       "      <th>RECR_INFO_FIRST_AD_START</th>\n",
       "      <th>RECR_INFO_SECOND_AD_START</th>\n",
       "      <th>RECR_INFO_JOB_FAIR_FROM</th>\n",
       "      <th>RECR_INFO_JOB_FAIR_TO</th>\n",
       "      <th>RECR_INFO_ON_CAMPUS_RECR_FROM</th>\n",
       "      <th>RECR_INFO_ON_CAMPUS_RECR_TO</th>\n",
       "      <th>RI_EMPLOYER_WEB_POST_FROM</th>\n",
       "      <th>RI_EMPLOYER_WEB_POST_TO</th>\n",
       "      <th>...</th>\n",
       "      <th>RI_PVT_EMPLOYMENT_FIRM_FROM</th>\n",
       "      <th>RI_PVT_EMPLOYMENT_FIRM_TO</th>\n",
       "      <th>RI_EMPLOYEE_REFERRAL_PROG_FROM</th>\n",
       "      <th>RI_EMPLOYEE_REFERRAL_PROG_TO</th>\n",
       "      <th>RI_CAMPUS_PLACEMENT_FROM</th>\n",
       "      <th>RI_CAMPUS_PLACEMENT_TO</th>\n",
       "      <th>RI_LOCAL_ETHNIC_PAPER_FROM</th>\n",
       "      <th>RI_LOCAL_ETHNIC_PAPER_TO</th>\n",
       "      <th>RECR_INFO_RADIO_TV_AD_FROM</th>\n",
       "      <th>RECR_INFO_RADIO_TV_AD_TO</th>\n",
       "    </tr>\n",
       "  </thead>\n",
       "  <tbody>\n",
       "    <tr>\n",
       "      <th>0</th>\n",
       "      <td>2014-05-15 00:00:00</td>\n",
       "      <td>2014-06-27 00:00:00</td>\n",
       "      <td>2014-05-25</td>\n",
       "      <td>2014-06-01</td>\n",
       "      <td>NaT</td>\n",
       "      <td>NaT</td>\n",
       "      <td>NaT</td>\n",
       "      <td>NaT</td>\n",
       "      <td>2014-05-15 00:00:00</td>\n",
       "      <td>2014-06-27</td>\n",
       "      <td>...</td>\n",
       "      <td>NaT</td>\n",
       "      <td>NaT</td>\n",
       "      <td>NaN</td>\n",
       "      <td>NaT</td>\n",
       "      <td>2014-05-23 00:00:00</td>\n",
       "      <td>2014-06-27</td>\n",
       "      <td>NaN</td>\n",
       "      <td>NaT</td>\n",
       "      <td>NaT</td>\n",
       "      <td>NaT</td>\n",
       "    </tr>\n",
       "    <tr>\n",
       "      <th>1</th>\n",
       "      <td>2014-05-29 00:00:00</td>\n",
       "      <td>2014-07-03 00:00:00</td>\n",
       "      <td>2014-06-01</td>\n",
       "      <td>2014-06-08</td>\n",
       "      <td>NaT</td>\n",
       "      <td>NaT</td>\n",
       "      <td>NaT</td>\n",
       "      <td>NaT</td>\n",
       "      <td>2014-05-30 00:00:00</td>\n",
       "      <td>2014-06-27</td>\n",
       "      <td>...</td>\n",
       "      <td>NaT</td>\n",
       "      <td>NaT</td>\n",
       "      <td>NaN</td>\n",
       "      <td>NaT</td>\n",
       "      <td>NaN</td>\n",
       "      <td>NaT</td>\n",
       "      <td>2014-06-04 00:00:00</td>\n",
       "      <td>2014-06-04</td>\n",
       "      <td>NaT</td>\n",
       "      <td>NaT</td>\n",
       "    </tr>\n",
       "    <tr>\n",
       "      <th>2</th>\n",
       "      <td>2014-03-10 00:00:00</td>\n",
       "      <td>2014-04-11 00:00:00</td>\n",
       "      <td>2014-03-23</td>\n",
       "      <td>2014-03-30</td>\n",
       "      <td>NaT</td>\n",
       "      <td>NaT</td>\n",
       "      <td>NaT</td>\n",
       "      <td>NaT</td>\n",
       "      <td>NaN</td>\n",
       "      <td>NaT</td>\n",
       "      <td>...</td>\n",
       "      <td>NaT</td>\n",
       "      <td>NaT</td>\n",
       "      <td>NaN</td>\n",
       "      <td>NaT</td>\n",
       "      <td>NaN</td>\n",
       "      <td>NaT</td>\n",
       "      <td>2014-03-26 00:00:00</td>\n",
       "      <td>2014-03-26</td>\n",
       "      <td>NaT</td>\n",
       "      <td>NaT</td>\n",
       "    </tr>\n",
       "    <tr>\n",
       "      <th>3</th>\n",
       "      <td>2014-06-05 00:00:00</td>\n",
       "      <td>2014-07-07 00:00:00</td>\n",
       "      <td>2014-06-08</td>\n",
       "      <td>2014-06-15</td>\n",
       "      <td>NaT</td>\n",
       "      <td>NaT</td>\n",
       "      <td>NaT</td>\n",
       "      <td>NaT</td>\n",
       "      <td>NaN</td>\n",
       "      <td>NaT</td>\n",
       "      <td>...</td>\n",
       "      <td>NaT</td>\n",
       "      <td>NaT</td>\n",
       "      <td>NaN</td>\n",
       "      <td>NaT</td>\n",
       "      <td>NaN</td>\n",
       "      <td>NaT</td>\n",
       "      <td>2014-06-13 00:00:00</td>\n",
       "      <td>2014-06-13</td>\n",
       "      <td>NaT</td>\n",
       "      <td>NaT</td>\n",
       "    </tr>\n",
       "    <tr>\n",
       "      <th>4</th>\n",
       "      <td>2014-04-01 00:00:00</td>\n",
       "      <td>2014-05-06 00:00:00</td>\n",
       "      <td>2014-04-27</td>\n",
       "      <td>2014-05-04</td>\n",
       "      <td>NaT</td>\n",
       "      <td>NaT</td>\n",
       "      <td>NaT</td>\n",
       "      <td>NaT</td>\n",
       "      <td>2014-04-22 00:00:00</td>\n",
       "      <td>2014-06-26</td>\n",
       "      <td>...</td>\n",
       "      <td>NaT</td>\n",
       "      <td>NaT</td>\n",
       "      <td>2014-06-16 00:00:00</td>\n",
       "      <td>2014-07-03</td>\n",
       "      <td>NaN</td>\n",
       "      <td>NaT</td>\n",
       "      <td>NaN</td>\n",
       "      <td>NaT</td>\n",
       "      <td>NaT</td>\n",
       "      <td>NaT</td>\n",
       "    </tr>\n",
       "    <tr>\n",
       "      <th>5</th>\n",
       "      <td>2014-05-22 00:00:00</td>\n",
       "      <td>2014-06-24 00:00:00</td>\n",
       "      <td>2014-02-02</td>\n",
       "      <td>2014-02-09</td>\n",
       "      <td>NaT</td>\n",
       "      <td>NaT</td>\n",
       "      <td>NaT</td>\n",
       "      <td>NaT</td>\n",
       "      <td>NaN</td>\n",
       "      <td>NaT</td>\n",
       "      <td>...</td>\n",
       "      <td>NaT</td>\n",
       "      <td>NaT</td>\n",
       "      <td>NaN</td>\n",
       "      <td>NaT</td>\n",
       "      <td>NaN</td>\n",
       "      <td>NaT</td>\n",
       "      <td>2014-02-03 00:00:00</td>\n",
       "      <td>2014-02-03</td>\n",
       "      <td>NaT</td>\n",
       "      <td>NaT</td>\n",
       "    </tr>\n",
       "    <tr>\n",
       "      <th>6</th>\n",
       "      <td>2014-05-17 00:00:00</td>\n",
       "      <td>2014-06-21 00:00:00</td>\n",
       "      <td>2014-06-01</td>\n",
       "      <td>2014-06-08</td>\n",
       "      <td>NaT</td>\n",
       "      <td>NaT</td>\n",
       "      <td>NaT</td>\n",
       "      <td>NaT</td>\n",
       "      <td>2014-05-14 00:00:00</td>\n",
       "      <td>2014-06-17</td>\n",
       "      <td>...</td>\n",
       "      <td>NaT</td>\n",
       "      <td>NaT</td>\n",
       "      <td>2014-05-12 00:00:00</td>\n",
       "      <td>2014-06-16</td>\n",
       "      <td>NaN</td>\n",
       "      <td>NaT</td>\n",
       "      <td>NaN</td>\n",
       "      <td>NaT</td>\n",
       "      <td>NaT</td>\n",
       "      <td>NaT</td>\n",
       "    </tr>\n",
       "    <tr>\n",
       "      <th>7</th>\n",
       "      <td>2014-02-20 00:00:00</td>\n",
       "      <td>2014-03-22 00:00:00</td>\n",
       "      <td>2014-06-08</td>\n",
       "      <td>2014-06-15</td>\n",
       "      <td>NaT</td>\n",
       "      <td>NaT</td>\n",
       "      <td>NaT</td>\n",
       "      <td>NaT</td>\n",
       "      <td>2014-06-05 00:00:00</td>\n",
       "      <td>2014-07-09</td>\n",
       "      <td>...</td>\n",
       "      <td>NaT</td>\n",
       "      <td>NaT</td>\n",
       "      <td>NaN</td>\n",
       "      <td>NaT</td>\n",
       "      <td>NaN</td>\n",
       "      <td>NaT</td>\n",
       "      <td>2014-06-08 00:00:00</td>\n",
       "      <td>2014-06-08</td>\n",
       "      <td>NaT</td>\n",
       "      <td>NaT</td>\n",
       "    </tr>\n",
       "    <tr>\n",
       "      <th>8</th>\n",
       "      <td>2014-06-13 00:00:00</td>\n",
       "      <td>2014-07-15 00:00:00</td>\n",
       "      <td>2014-06-15</td>\n",
       "      <td>2014-06-22</td>\n",
       "      <td>NaT</td>\n",
       "      <td>NaT</td>\n",
       "      <td>NaT</td>\n",
       "      <td>NaT</td>\n",
       "      <td>2014-06-16 00:00:00</td>\n",
       "      <td>2014-07-16</td>\n",
       "      <td>...</td>\n",
       "      <td>NaT</td>\n",
       "      <td>NaT</td>\n",
       "      <td>NaN</td>\n",
       "      <td>NaT</td>\n",
       "      <td>NaN</td>\n",
       "      <td>NaT</td>\n",
       "      <td>2014-08-21 00:00:00</td>\n",
       "      <td>2014-08-21</td>\n",
       "      <td>NaT</td>\n",
       "      <td>NaT</td>\n",
       "    </tr>\n",
       "    <tr>\n",
       "      <th>9</th>\n",
       "      <td>2014-05-15 00:00:00</td>\n",
       "      <td>2014-06-16 00:00:00</td>\n",
       "      <td>2014-06-15</td>\n",
       "      <td>2014-06-22</td>\n",
       "      <td>NaT</td>\n",
       "      <td>NaT</td>\n",
       "      <td>NaT</td>\n",
       "      <td>NaT</td>\n",
       "      <td>NaN</td>\n",
       "      <td>NaT</td>\n",
       "      <td>...</td>\n",
       "      <td>NaT</td>\n",
       "      <td>NaT</td>\n",
       "      <td>NaN</td>\n",
       "      <td>NaT</td>\n",
       "      <td>NaN</td>\n",
       "      <td>NaT</td>\n",
       "      <td>2014-06-19 00:00:00</td>\n",
       "      <td>2014-06-19</td>\n",
       "      <td>NaT</td>\n",
       "      <td>NaT</td>\n",
       "    </tr>\n",
       "  </tbody>\n",
       "</table>\n",
       "<p>10 rows × 24 columns</p>\n",
       "</div>"
      ],
      "text/plain": [
       "  RECR_INFO_SWA_JOB_ORDER_START RECR_INFO_SWA_JOB_ORDER_END  \\\n",
       "0           2014-05-15 00:00:00         2014-06-27 00:00:00   \n",
       "1           2014-05-29 00:00:00         2014-07-03 00:00:00   \n",
       "2           2014-03-10 00:00:00         2014-04-11 00:00:00   \n",
       "3           2014-06-05 00:00:00         2014-07-07 00:00:00   \n",
       "4           2014-04-01 00:00:00         2014-05-06 00:00:00   \n",
       "5           2014-05-22 00:00:00         2014-06-24 00:00:00   \n",
       "6           2014-05-17 00:00:00         2014-06-21 00:00:00   \n",
       "7           2014-02-20 00:00:00         2014-03-22 00:00:00   \n",
       "8           2014-06-13 00:00:00         2014-07-15 00:00:00   \n",
       "9           2014-05-15 00:00:00         2014-06-16 00:00:00   \n",
       "\n",
       "  RECR_INFO_FIRST_AD_START RECR_INFO_SECOND_AD_START RECR_INFO_JOB_FAIR_FROM  \\\n",
       "0               2014-05-25                2014-06-01                     NaT   \n",
       "1               2014-06-01                2014-06-08                     NaT   \n",
       "2               2014-03-23                2014-03-30                     NaT   \n",
       "3               2014-06-08                2014-06-15                     NaT   \n",
       "4               2014-04-27                2014-05-04                     NaT   \n",
       "5               2014-02-02                2014-02-09                     NaT   \n",
       "6               2014-06-01                2014-06-08                     NaT   \n",
       "7               2014-06-08                2014-06-15                     NaT   \n",
       "8               2014-06-15                2014-06-22                     NaT   \n",
       "9               2014-06-15                2014-06-22                     NaT   \n",
       "\n",
       "  RECR_INFO_JOB_FAIR_TO RECR_INFO_ON_CAMPUS_RECR_FROM  \\\n",
       "0                   NaT                           NaT   \n",
       "1                   NaT                           NaT   \n",
       "2                   NaT                           NaT   \n",
       "3                   NaT                           NaT   \n",
       "4                   NaT                           NaT   \n",
       "5                   NaT                           NaT   \n",
       "6                   NaT                           NaT   \n",
       "7                   NaT                           NaT   \n",
       "8                   NaT                           NaT   \n",
       "9                   NaT                           NaT   \n",
       "\n",
       "  RECR_INFO_ON_CAMPUS_RECR_TO RI_EMPLOYER_WEB_POST_FROM  \\\n",
       "0                         NaT       2014-05-15 00:00:00   \n",
       "1                         NaT       2014-05-30 00:00:00   \n",
       "2                         NaT                       NaN   \n",
       "3                         NaT                       NaN   \n",
       "4                         NaT       2014-04-22 00:00:00   \n",
       "5                         NaT                       NaN   \n",
       "6                         NaT       2014-05-14 00:00:00   \n",
       "7                         NaT       2014-06-05 00:00:00   \n",
       "8                         NaT       2014-06-16 00:00:00   \n",
       "9                         NaT                       NaN   \n",
       "\n",
       "  RI_EMPLOYER_WEB_POST_TO           ...             \\\n",
       "0              2014-06-27           ...              \n",
       "1              2014-06-27           ...              \n",
       "2                     NaT           ...              \n",
       "3                     NaT           ...              \n",
       "4              2014-06-26           ...              \n",
       "5                     NaT           ...              \n",
       "6              2014-06-17           ...              \n",
       "7              2014-07-09           ...              \n",
       "8              2014-07-16           ...              \n",
       "9                     NaT           ...              \n",
       "\n",
       "  RI_PVT_EMPLOYMENT_FIRM_FROM RI_PVT_EMPLOYMENT_FIRM_TO  \\\n",
       "0                         NaT                       NaT   \n",
       "1                         NaT                       NaT   \n",
       "2                         NaT                       NaT   \n",
       "3                         NaT                       NaT   \n",
       "4                         NaT                       NaT   \n",
       "5                         NaT                       NaT   \n",
       "6                         NaT                       NaT   \n",
       "7                         NaT                       NaT   \n",
       "8                         NaT                       NaT   \n",
       "9                         NaT                       NaT   \n",
       "\n",
       "  RI_EMPLOYEE_REFERRAL_PROG_FROM RI_EMPLOYEE_REFERRAL_PROG_TO  \\\n",
       "0                            NaN                          NaT   \n",
       "1                            NaN                          NaT   \n",
       "2                            NaN                          NaT   \n",
       "3                            NaN                          NaT   \n",
       "4            2014-06-16 00:00:00                   2014-07-03   \n",
       "5                            NaN                          NaT   \n",
       "6            2014-05-12 00:00:00                   2014-06-16   \n",
       "7                            NaN                          NaT   \n",
       "8                            NaN                          NaT   \n",
       "9                            NaN                          NaT   \n",
       "\n",
       "  RI_CAMPUS_PLACEMENT_FROM RI_CAMPUS_PLACEMENT_TO RI_LOCAL_ETHNIC_PAPER_FROM  \\\n",
       "0      2014-05-23 00:00:00             2014-06-27                        NaN   \n",
       "1                      NaN                    NaT        2014-06-04 00:00:00   \n",
       "2                      NaN                    NaT        2014-03-26 00:00:00   \n",
       "3                      NaN                    NaT        2014-06-13 00:00:00   \n",
       "4                      NaN                    NaT                        NaN   \n",
       "5                      NaN                    NaT        2014-02-03 00:00:00   \n",
       "6                      NaN                    NaT                        NaN   \n",
       "7                      NaN                    NaT        2014-06-08 00:00:00   \n",
       "8                      NaN                    NaT        2014-08-21 00:00:00   \n",
       "9                      NaN                    NaT        2014-06-19 00:00:00   \n",
       "\n",
       "  RI_LOCAL_ETHNIC_PAPER_TO RECR_INFO_RADIO_TV_AD_FROM RECR_INFO_RADIO_TV_AD_TO  \n",
       "0                      NaT                        NaT                      NaT  \n",
       "1               2014-06-04                        NaT                      NaT  \n",
       "2               2014-03-26                        NaT                      NaT  \n",
       "3               2014-06-13                        NaT                      NaT  \n",
       "4                      NaT                        NaT                      NaT  \n",
       "5               2014-02-03                        NaT                      NaT  \n",
       "6                      NaT                        NaT                      NaT  \n",
       "7               2014-06-08                        NaT                      NaT  \n",
       "8               2014-08-21                        NaT                      NaT  \n",
       "9               2014-06-19                        NaT                      NaT  \n",
       "\n",
       "[10 rows x 24 columns]"
      ]
     },
     "execution_count": 108,
     "metadata": {},
     "output_type": "execute_result"
    }
   ],
   "source": [
    "recr_dates.head(n=10)"
   ]
  },
  {
   "cell_type": "code",
   "execution_count": 313,
   "metadata": {
    "collapsed": true
   },
   "outputs": [],
   "source": [
    "import datetime as dt"
   ]
  },
  {
   "cell_type": "code",
   "execution_count": 288,
   "metadata": {},
   "outputs": [
    {
     "data": {
      "text/plain": [
       "Timestamp('2014-07-03 00:00:00')"
      ]
     },
     "execution_count": 288,
     "metadata": {},
     "output_type": "execute_result"
    }
   ],
   "source": [
    "#recr_dates['RECR_INFO_SWA_JOB_ORDER_START'] = pd.to_datetime(recr_dates['RECR_INFO_SWA_JOB_ORDER_START'])\n",
    "#recr_dates['RECR_INFO_SWA_JOB_ORDER_START'] = pd.to_datetime(recr_dates['RECR_INFO_SWA_JOB_ORDER_START'], errors='ignore')#\n",
    "#recr_dates['RI_EMPLOYEE_REFERRAL_PROG_TO']\n",
    "tmp = recr_dates['RI_EMPLOYEE_REFERRAL_PROG_TO'][4]\n",
    "tmp.iloc[0]\n",
    "#datetime.strptime(tmp.iloc[0], \"%Y-%m-%d\")"
   ]
  },
  {
   "cell_type": "code",
   "execution_count": 304,
   "metadata": {},
   "outputs": [
    {
     "data": {
      "text/plain": [
       "datetime64[ns]    1\n",
       "dtype: int64"
      ]
     },
     "execution_count": 304,
     "metadata": {},
     "output_type": "execute_result"
    }
   ],
   "source": [
    "tmp = pd.DataFrame(recr_dates['RI_EMPLOYEE_REFERRAL_PROG_TO'])\n",
    "tmp.dtypes.value_counts()"
   ]
  },
  {
   "cell_type": "code",
   "execution_count": 305,
   "metadata": {},
   "outputs": [
    {
     "name": "stderr",
     "output_type": "stream",
     "text": [
      "/anaconda3/envs/py36/lib/python3.6/site-packages/ipykernel_launcher.py:1: SettingWithCopyWarning: \n",
      "A value is trying to be set on a copy of a slice from a DataFrame.\n",
      "Try using .loc[row_indexer,col_indexer] = value instead\n",
      "\n",
      "See the caveats in the documentation: http://pandas.pydata.org/pandas-docs/stable/indexing.html#indexing-view-versus-copy\n",
      "  \"\"\"Entry point for launching an IPython kernel.\n"
     ]
    }
   ],
   "source": [
    "recr_dates['RECR_INFO_SWA_JOB_ORDER_START'] = np.where(recr_dates['RECR_INFO_SWA_JOB_ORDER_START'].isnull(), pd.NaT, recr_dates['RECR_INFO_SWA_JOB_ORDER_START'])"
   ]
  },
  {
   "cell_type": "code",
   "execution_count": 307,
   "metadata": {},
   "outputs": [
    {
     "name": "stderr",
     "output_type": "stream",
     "text": [
      "/anaconda3/envs/py36/lib/python3.6/site-packages/ipykernel_launcher.py:1: SettingWithCopyWarning: \n",
      "A value is trying to be set on a copy of a slice from a DataFrame.\n",
      "Try using .loc[row_indexer,col_indexer] = value instead\n",
      "\n",
      "See the caveats in the documentation: http://pandas.pydata.org/pandas-docs/stable/indexing.html#indexing-view-versus-copy\n",
      "  \"\"\"Entry point for launching an IPython kernel.\n"
     ]
    }
   ],
   "source": [
    "recr_dates['RECR_INFO_SWA_JOB_ORDER_END'] = np.where(recr_dates['RECR_INFO_SWA_JOB_ORDER_END'].isnull(), pd.NaT, recr_dates['RECR_INFO_SWA_JOB_ORDER_END'])"
   ]
  },
  {
   "cell_type": "code",
   "execution_count": 325,
   "metadata": {},
   "outputs": [
    {
     "name": "stdout",
     "output_type": "stream",
     "text": [
      "No\n"
     ]
    }
   ],
   "source": [
    "if isinstance(type(recr_dates['RECR_INFO_SWA_JOB_ORDER_START'].iloc[1]), pd.Timestamp):\n",
    "    #isinstance(now, datetime.datetime)\n",
    "    print(\"Yes\")\n",
    "else:\n",
    "    print(\"No\")"
   ]
  },
  {
   "cell_type": "code",
   "execution_count": 143,
   "metadata": {
    "collapsed": true
   },
   "outputs": [
    {
     "data": {
      "text/plain": [
       "0 days      2049\n",
       "1 days       123\n",
       "2 days        53\n",
       "30 days       19\n",
       "4 days        15\n",
       "3 days        14\n",
       "5 days        11\n",
       "21 days       10\n",
       "29 days        7\n",
       "31 days        6\n",
       "14 days        6\n",
       "47 days        5\n",
       "35 days        5\n",
       "25 days        5\n",
       "42 days        5\n",
       "60 days        4\n",
       "41 days        4\n",
       "15 days        3\n",
       "27 days        3\n",
       "7 days         3\n",
       "33 days        2\n",
       "160 days       2\n",
       "8 days         2\n",
       "44 days        2\n",
       "54 days        2\n",
       "19 days        2\n",
       "6 days         2\n",
       "13 days        2\n",
       "32 days        2\n",
       "197 days       2\n",
       "151 days       2\n",
       "519 days       2\n",
       "20 days        2\n",
       "73 days        2\n",
       "16 days        1\n",
       "52 days        1\n",
       "11 days        1\n",
       "70 days        1\n",
       "17 days        1\n",
       "68 days        1\n",
       "86 days        1\n",
       "dtype: int64"
      ]
     },
     "execution_count": 143,
     "metadata": {},
     "output_type": "execute_result"
    }
   ],
   "source": [
    "(recr_dates[\"RECR_INFO_JOB_FAIR_TO\"] - recr_dates[\"RECR_INFO_JOB_FAIR_FROM\"]).value_counts()"
   ]
  },
  {
   "cell_type": "code",
   "execution_count": 308,
   "metadata": {
    "scrolled": true
   },
   "outputs": [
    {
     "data": {
      "text/plain": [
       "RECR_INFO_SWA_JOB_ORDER_START             object\n",
       "RECR_INFO_SWA_JOB_ORDER_END               object\n",
       "RECR_INFO_FIRST_AD_START          datetime64[ns]\n",
       "RECR_INFO_SECOND_AD_START         datetime64[ns]\n",
       "RECR_INFO_JOB_FAIR_FROM           datetime64[ns]\n",
       "RECR_INFO_JOB_FAIR_TO             datetime64[ns]\n",
       "RECR_INFO_ON_CAMPUS_RECR_FROM     datetime64[ns]\n",
       "RECR_INFO_ON_CAMPUS_RECR_TO       datetime64[ns]\n",
       "RI_EMPLOYER_WEB_POST_FROM                 object\n",
       "RI_EMPLOYER_WEB_POST_TO           datetime64[ns]\n",
       "RECR_INFO_PRO_ORG_ADVERT_FROM             object\n",
       "RECR_INFO_PRO_ORG_ADVERT_TO       datetime64[ns]\n",
       "RI_JOB_SEARCH_WEBSITE_FROM                object\n",
       "RI_JOB_SEARCH_WEBSITE_TO          datetime64[ns]\n",
       "RI_PVT_EMPLOYMENT_FIRM_FROM       datetime64[ns]\n",
       "RI_PVT_EMPLOYMENT_FIRM_TO         datetime64[ns]\n",
       "RI_EMPLOYEE_REFERRAL_PROG_FROM            object\n",
       "RI_EMPLOYEE_REFERRAL_PROG_TO      datetime64[ns]\n",
       "RI_CAMPUS_PLACEMENT_FROM                  object\n",
       "RI_CAMPUS_PLACEMENT_TO            datetime64[ns]\n",
       "RI_LOCAL_ETHNIC_PAPER_FROM                object\n",
       "RI_LOCAL_ETHNIC_PAPER_TO          datetime64[ns]\n",
       "RECR_INFO_RADIO_TV_AD_FROM        datetime64[ns]\n",
       "RECR_INFO_RADIO_TV_AD_TO          datetime64[ns]\n",
       "dtype: object"
      ]
     },
     "execution_count": 308,
     "metadata": {},
     "output_type": "execute_result"
    }
   ],
   "source": [
    "recr_dates.dtypes"
   ]
  },
  {
   "cell_type": "code",
   "execution_count": 352,
   "metadata": {
    "collapsed": true
   },
   "outputs": [],
   "source": [
    "#GOing to try and just do a full count of how many recruitments options they tried\n",
    "recr_count = recr_dates[[\"RECR_INFO_SWA_JOB_ORDER_START\",\"RECR_INFO_FIRST_AD_START\",\"RECR_INFO_SECOND_AD_START\",\"RECR_INFO_JOB_FAIR_FROM\", \"RECR_INFO_ON_CAMPUS_RECR_FROM\",\"RI_EMPLOYER_WEB_POST_FROM\",\"RECR_INFO_PRO_ORG_ADVERT_FROM\",\"RI_JOB_SEARCH_WEBSITE_FROM\",\"RI_PVT_EMPLOYMENT_FIRM_FROM\",\"RI_EMPLOYEE_REFERRAL_PROG_FROM\",\"RI_CAMPUS_PLACEMENT_FROM\",\"RI_LOCAL_ETHNIC_PAPER_FROM\",\"RECR_INFO_RADIO_TV_AD_FROM\"]]"
   ]
  },
  {
   "cell_type": "code",
   "execution_count": 353,
   "metadata": {},
   "outputs": [
    {
     "data": {
      "text/html": [
       "<div>\n",
       "<style>\n",
       "    .dataframe thead tr:only-child th {\n",
       "        text-align: right;\n",
       "    }\n",
       "\n",
       "    .dataframe thead th {\n",
       "        text-align: left;\n",
       "    }\n",
       "\n",
       "    .dataframe tbody tr th {\n",
       "        vertical-align: top;\n",
       "    }\n",
       "</style>\n",
       "<table border=\"1\" class=\"dataframe\">\n",
       "  <thead>\n",
       "    <tr style=\"text-align: right;\">\n",
       "      <th></th>\n",
       "      <th>RECR_INFO_SWA_JOB_ORDER_START</th>\n",
       "      <th>RECR_INFO_FIRST_AD_START</th>\n",
       "      <th>RECR_INFO_SECOND_AD_START</th>\n",
       "      <th>RECR_INFO_JOB_FAIR_FROM</th>\n",
       "      <th>RECR_INFO_ON_CAMPUS_RECR_FROM</th>\n",
       "      <th>RI_EMPLOYER_WEB_POST_FROM</th>\n",
       "      <th>RECR_INFO_PRO_ORG_ADVERT_FROM</th>\n",
       "      <th>RI_JOB_SEARCH_WEBSITE_FROM</th>\n",
       "      <th>RI_PVT_EMPLOYMENT_FIRM_FROM</th>\n",
       "      <th>RI_EMPLOYEE_REFERRAL_PROG_FROM</th>\n",
       "      <th>RI_CAMPUS_PLACEMENT_FROM</th>\n",
       "      <th>RI_LOCAL_ETHNIC_PAPER_FROM</th>\n",
       "      <th>RECR_INFO_RADIO_TV_AD_FROM</th>\n",
       "    </tr>\n",
       "  </thead>\n",
       "  <tbody>\n",
       "    <tr>\n",
       "      <th>0</th>\n",
       "      <td>2014-05-15 00:00:00</td>\n",
       "      <td>2014-05-25</td>\n",
       "      <td>2014-06-01</td>\n",
       "      <td>NaT</td>\n",
       "      <td>NaT</td>\n",
       "      <td>2014-05-15 00:00:00</td>\n",
       "      <td>NaN</td>\n",
       "      <td>2014-05-16 00:00:00</td>\n",
       "      <td>NaT</td>\n",
       "      <td>NaN</td>\n",
       "      <td>2014-05-23 00:00:00</td>\n",
       "      <td>NaN</td>\n",
       "      <td>NaT</td>\n",
       "    </tr>\n",
       "    <tr>\n",
       "      <th>1</th>\n",
       "      <td>2014-05-29 00:00:00</td>\n",
       "      <td>2014-06-01</td>\n",
       "      <td>2014-06-08</td>\n",
       "      <td>NaT</td>\n",
       "      <td>NaT</td>\n",
       "      <td>2014-05-30 00:00:00</td>\n",
       "      <td>NaN</td>\n",
       "      <td>2014-05-29 00:00:00</td>\n",
       "      <td>NaT</td>\n",
       "      <td>NaN</td>\n",
       "      <td>NaN</td>\n",
       "      <td>2014-06-04 00:00:00</td>\n",
       "      <td>NaT</td>\n",
       "    </tr>\n",
       "    <tr>\n",
       "      <th>2</th>\n",
       "      <td>2014-03-10 00:00:00</td>\n",
       "      <td>2014-03-23</td>\n",
       "      <td>2014-03-30</td>\n",
       "      <td>NaT</td>\n",
       "      <td>NaT</td>\n",
       "      <td>NaN</td>\n",
       "      <td>2014-03-21 00:00:00</td>\n",
       "      <td>2014-03-21 00:00:00</td>\n",
       "      <td>NaT</td>\n",
       "      <td>NaN</td>\n",
       "      <td>NaN</td>\n",
       "      <td>2014-03-26 00:00:00</td>\n",
       "      <td>NaT</td>\n",
       "    </tr>\n",
       "    <tr>\n",
       "      <th>3</th>\n",
       "      <td>2014-06-05 00:00:00</td>\n",
       "      <td>2014-06-08</td>\n",
       "      <td>2014-06-15</td>\n",
       "      <td>NaT</td>\n",
       "      <td>NaT</td>\n",
       "      <td>NaN</td>\n",
       "      <td>2014-07-01 00:00:00</td>\n",
       "      <td>2014-06-11 00:00:00</td>\n",
       "      <td>NaT</td>\n",
       "      <td>NaN</td>\n",
       "      <td>NaN</td>\n",
       "      <td>2014-06-13 00:00:00</td>\n",
       "      <td>NaT</td>\n",
       "    </tr>\n",
       "    <tr>\n",
       "      <th>4</th>\n",
       "      <td>2014-04-01 00:00:00</td>\n",
       "      <td>2014-04-27</td>\n",
       "      <td>2014-05-04</td>\n",
       "      <td>NaT</td>\n",
       "      <td>NaT</td>\n",
       "      <td>2014-04-22 00:00:00</td>\n",
       "      <td>NaN</td>\n",
       "      <td>2014-04-27 00:00:00</td>\n",
       "      <td>NaT</td>\n",
       "      <td>2014-06-16 00:00:00</td>\n",
       "      <td>NaN</td>\n",
       "      <td>NaN</td>\n",
       "      <td>NaT</td>\n",
       "    </tr>\n",
       "    <tr>\n",
       "      <th>5</th>\n",
       "      <td>2014-05-22 00:00:00</td>\n",
       "      <td>2014-02-02</td>\n",
       "      <td>2014-02-09</td>\n",
       "      <td>NaT</td>\n",
       "      <td>NaT</td>\n",
       "      <td>NaN</td>\n",
       "      <td>2014-03-01 00:00:00</td>\n",
       "      <td>2014-05-22 00:00:00</td>\n",
       "      <td>NaT</td>\n",
       "      <td>NaN</td>\n",
       "      <td>NaN</td>\n",
       "      <td>2014-02-03 00:00:00</td>\n",
       "      <td>NaT</td>\n",
       "    </tr>\n",
       "    <tr>\n",
       "      <th>6</th>\n",
       "      <td>2014-05-17 00:00:00</td>\n",
       "      <td>2014-06-01</td>\n",
       "      <td>2014-06-08</td>\n",
       "      <td>NaT</td>\n",
       "      <td>NaT</td>\n",
       "      <td>2014-05-14 00:00:00</td>\n",
       "      <td>NaN</td>\n",
       "      <td>2014-05-13 00:00:00</td>\n",
       "      <td>NaT</td>\n",
       "      <td>2014-05-12 00:00:00</td>\n",
       "      <td>NaN</td>\n",
       "      <td>NaN</td>\n",
       "      <td>NaT</td>\n",
       "    </tr>\n",
       "    <tr>\n",
       "      <th>7</th>\n",
       "      <td>2014-02-20 00:00:00</td>\n",
       "      <td>2014-06-08</td>\n",
       "      <td>2014-06-15</td>\n",
       "      <td>NaT</td>\n",
       "      <td>NaT</td>\n",
       "      <td>2014-06-05 00:00:00</td>\n",
       "      <td>NaN</td>\n",
       "      <td>2014-06-08 00:00:00</td>\n",
       "      <td>NaT</td>\n",
       "      <td>NaN</td>\n",
       "      <td>NaN</td>\n",
       "      <td>2014-06-08 00:00:00</td>\n",
       "      <td>NaT</td>\n",
       "    </tr>\n",
       "    <tr>\n",
       "      <th>8</th>\n",
       "      <td>2014-06-13 00:00:00</td>\n",
       "      <td>2014-06-15</td>\n",
       "      <td>2014-06-22</td>\n",
       "      <td>NaT</td>\n",
       "      <td>NaT</td>\n",
       "      <td>2014-06-16 00:00:00</td>\n",
       "      <td>NaN</td>\n",
       "      <td>2014-06-16 00:00:00</td>\n",
       "      <td>NaT</td>\n",
       "      <td>NaN</td>\n",
       "      <td>NaN</td>\n",
       "      <td>2014-08-21 00:00:00</td>\n",
       "      <td>NaT</td>\n",
       "    </tr>\n",
       "    <tr>\n",
       "      <th>9</th>\n",
       "      <td>2014-05-15 00:00:00</td>\n",
       "      <td>2014-06-15</td>\n",
       "      <td>2014-06-22</td>\n",
       "      <td>NaT</td>\n",
       "      <td>NaT</td>\n",
       "      <td>NaN</td>\n",
       "      <td>2014-06-16 00:00:00</td>\n",
       "      <td>2014-06-16 00:00:00</td>\n",
       "      <td>NaT</td>\n",
       "      <td>NaN</td>\n",
       "      <td>NaN</td>\n",
       "      <td>2014-06-19 00:00:00</td>\n",
       "      <td>NaT</td>\n",
       "    </tr>\n",
       "  </tbody>\n",
       "</table>\n",
       "</div>"
      ],
      "text/plain": [
       "  RECR_INFO_SWA_JOB_ORDER_START RECR_INFO_FIRST_AD_START  \\\n",
       "0           2014-05-15 00:00:00               2014-05-25   \n",
       "1           2014-05-29 00:00:00               2014-06-01   \n",
       "2           2014-03-10 00:00:00               2014-03-23   \n",
       "3           2014-06-05 00:00:00               2014-06-08   \n",
       "4           2014-04-01 00:00:00               2014-04-27   \n",
       "5           2014-05-22 00:00:00               2014-02-02   \n",
       "6           2014-05-17 00:00:00               2014-06-01   \n",
       "7           2014-02-20 00:00:00               2014-06-08   \n",
       "8           2014-06-13 00:00:00               2014-06-15   \n",
       "9           2014-05-15 00:00:00               2014-06-15   \n",
       "\n",
       "  RECR_INFO_SECOND_AD_START RECR_INFO_JOB_FAIR_FROM  \\\n",
       "0                2014-06-01                     NaT   \n",
       "1                2014-06-08                     NaT   \n",
       "2                2014-03-30                     NaT   \n",
       "3                2014-06-15                     NaT   \n",
       "4                2014-05-04                     NaT   \n",
       "5                2014-02-09                     NaT   \n",
       "6                2014-06-08                     NaT   \n",
       "7                2014-06-15                     NaT   \n",
       "8                2014-06-22                     NaT   \n",
       "9                2014-06-22                     NaT   \n",
       "\n",
       "  RECR_INFO_ON_CAMPUS_RECR_FROM RI_EMPLOYER_WEB_POST_FROM  \\\n",
       "0                           NaT       2014-05-15 00:00:00   \n",
       "1                           NaT       2014-05-30 00:00:00   \n",
       "2                           NaT                       NaN   \n",
       "3                           NaT                       NaN   \n",
       "4                           NaT       2014-04-22 00:00:00   \n",
       "5                           NaT                       NaN   \n",
       "6                           NaT       2014-05-14 00:00:00   \n",
       "7                           NaT       2014-06-05 00:00:00   \n",
       "8                           NaT       2014-06-16 00:00:00   \n",
       "9                           NaT                       NaN   \n",
       "\n",
       "  RECR_INFO_PRO_ORG_ADVERT_FROM RI_JOB_SEARCH_WEBSITE_FROM  \\\n",
       "0                           NaN        2014-05-16 00:00:00   \n",
       "1                           NaN        2014-05-29 00:00:00   \n",
       "2           2014-03-21 00:00:00        2014-03-21 00:00:00   \n",
       "3           2014-07-01 00:00:00        2014-06-11 00:00:00   \n",
       "4                           NaN        2014-04-27 00:00:00   \n",
       "5           2014-03-01 00:00:00        2014-05-22 00:00:00   \n",
       "6                           NaN        2014-05-13 00:00:00   \n",
       "7                           NaN        2014-06-08 00:00:00   \n",
       "8                           NaN        2014-06-16 00:00:00   \n",
       "9           2014-06-16 00:00:00        2014-06-16 00:00:00   \n",
       "\n",
       "  RI_PVT_EMPLOYMENT_FIRM_FROM RI_EMPLOYEE_REFERRAL_PROG_FROM  \\\n",
       "0                         NaT                            NaN   \n",
       "1                         NaT                            NaN   \n",
       "2                         NaT                            NaN   \n",
       "3                         NaT                            NaN   \n",
       "4                         NaT            2014-06-16 00:00:00   \n",
       "5                         NaT                            NaN   \n",
       "6                         NaT            2014-05-12 00:00:00   \n",
       "7                         NaT                            NaN   \n",
       "8                         NaT                            NaN   \n",
       "9                         NaT                            NaN   \n",
       "\n",
       "  RI_CAMPUS_PLACEMENT_FROM RI_LOCAL_ETHNIC_PAPER_FROM  \\\n",
       "0      2014-05-23 00:00:00                        NaN   \n",
       "1                      NaN        2014-06-04 00:00:00   \n",
       "2                      NaN        2014-03-26 00:00:00   \n",
       "3                      NaN        2014-06-13 00:00:00   \n",
       "4                      NaN                        NaN   \n",
       "5                      NaN        2014-02-03 00:00:00   \n",
       "6                      NaN                        NaN   \n",
       "7                      NaN        2014-06-08 00:00:00   \n",
       "8                      NaN        2014-08-21 00:00:00   \n",
       "9                      NaN        2014-06-19 00:00:00   \n",
       "\n",
       "  RECR_INFO_RADIO_TV_AD_FROM  \n",
       "0                        NaT  \n",
       "1                        NaT  \n",
       "2                        NaT  \n",
       "3                        NaT  \n",
       "4                        NaT  \n",
       "5                        NaT  \n",
       "6                        NaT  \n",
       "7                        NaT  \n",
       "8                        NaT  \n",
       "9                        NaT  "
      ]
     },
     "execution_count": 353,
     "metadata": {},
     "output_type": "execute_result"
    }
   ],
   "source": [
    "recr_count.head(n=10)"
   ]
  },
  {
   "cell_type": "code",
   "execution_count": 356,
   "metadata": {},
   "outputs": [
    {
     "name": "stderr",
     "output_type": "stream",
     "text": [
      "/anaconda3/envs/py36/lib/python3.6/site-packages/ipykernel_launcher.py:1: SettingWithCopyWarning: \n",
      "A value is trying to be set on a copy of a slice from a DataFrame.\n",
      "Try using .loc[row_indexer,col_indexer] = value instead\n",
      "\n",
      "See the caveats in the documentation: http://pandas.pydata.org/pandas-docs/stable/indexing.html#indexing-view-versus-copy\n",
      "  \"\"\"Entry point for launching an IPython kernel.\n"
     ]
    }
   ],
   "source": [
    "recr_count['Recr_Trials'] = recr_count.count(axis = 1)"
   ]
  },
  {
   "cell_type": "markdown",
   "metadata": {},
   "source": [
    "## Final data"
   ]
  },
  {
   "cell_type": "code",
   "execution_count": 760,
   "metadata": {
    "collapsed": true
   },
   "outputs": [],
   "source": [
    "data_fin = data[['CASE_NUMBER','CASE_STATUS']]"
   ]
  },
  {
   "cell_type": "code",
   "execution_count": 444,
   "metadata": {},
   "outputs": [
    {
     "data": {
      "text/plain": [
       "CASE_STATUS  LAWYER\n",
       "Certified    0          39876\n",
       "             1         264626\n",
       "Denied       0           3174\n",
       "             1          17857\n",
       "Withdrawn    0           2111\n",
       "             1          13941\n",
       "Name: CASE_STATUS, dtype: int64"
      ]
     },
     "execution_count": 444,
     "metadata": {},
     "output_type": "execute_result"
    }
   ],
   "source": [
    "data_fin.groupby(['CASE_STATUS','LAWYER'])['CASE_STATUS'].count()"
   ]
  },
  {
   "cell_type": "code",
   "execution_count": 447,
   "metadata": {},
   "outputs": [
    {
     "data": {
      "text/plain": [
       "LAWYER\n",
       "0     45161\n",
       "1    296424\n",
       "Name: CASE_NUMBER, dtype: int64"
      ]
     },
     "execution_count": 447,
     "metadata": {},
     "output_type": "execute_result"
    }
   ],
   "source": [
    " data_fin.groupby(['LAWYER'])['CASE_NUMBER'].count() "
   ]
  },
  {
   "cell_type": "code",
   "execution_count": 761,
   "metadata": {},
   "outputs": [
    {
     "name": "stderr",
     "output_type": "stream",
     "text": [
      "/anaconda3/envs/py36/lib/python3.6/site-packages/ipykernel_launcher.py:1: SettingWithCopyWarning: \n",
      "A value is trying to be set on a copy of a slice from a DataFrame.\n",
      "Try using .loc[row_indexer,col_indexer] = value instead\n",
      "\n",
      "See the caveats in the documentation: http://pandas.pydata.org/pandas-docs/stable/indexing.html#indexing-view-versus-copy\n",
      "  \"\"\"Entry point for launching an IPython kernel.\n"
     ]
    }
   ],
   "source": [
    "data_fin['CASE_STATUS'] = pd.DataFrame(np.where(data['CASE_STATUS'] == 'Certified-Expired' , 'Certified', data['CASE_STATUS']))"
   ]
  },
  {
   "cell_type": "code",
   "execution_count": 763,
   "metadata": {},
   "outputs": [
    {
     "name": "stderr",
     "output_type": "stream",
     "text": [
      "/anaconda3/envs/py36/lib/python3.6/site-packages/ipykernel_launcher.py:1: SettingWithCopyWarning: \n",
      "A value is trying to be set on a copy of a slice from a DataFrame.\n",
      "Try using .loc[row_indexer,col_indexer] = value instead\n",
      "\n",
      "See the caveats in the documentation: http://pandas.pydata.org/pandas-docs/stable/indexing.html#indexing-view-versus-copy\n",
      "  \"\"\"Entry point for launching an IPython kernel.\n"
     ]
    }
   ],
   "source": [
    "data_fin['DEC_YEAR'] = pd.DatetimeIndex(data['DECISION_DATE']).year"
   ]
  },
  {
   "cell_type": "code",
   "execution_count": 764,
   "metadata": {},
   "outputs": [
    {
     "name": "stderr",
     "output_type": "stream",
     "text": [
      "/anaconda3/envs/py36/lib/python3.6/site-packages/ipykernel_launcher.py:1: SettingWithCopyWarning: \n",
      "A value is trying to be set on a copy of a slice from a DataFrame.\n",
      "Try using .loc[row_indexer,col_indexer] = value instead\n",
      "\n",
      "See the caveats in the documentation: http://pandas.pydata.org/pandas-docs/stable/indexing.html#indexing-view-versus-copy\n",
      "  \"\"\"Entry point for launching an IPython kernel.\n"
     ]
    }
   ],
   "source": [
    "data_fin['LAWYER'] = np.where(pd.isnull(data['AGENT_FIRM_NAME']), 0, 1)"
   ]
  },
  {
   "cell_type": "code",
   "execution_count": 382,
   "metadata": {},
   "outputs": [],
   "source": [
    "#data_fin['RECR_TRIALS'] = recr_count.count(axis = 1)"
   ]
  },
  {
   "cell_type": "code",
   "execution_count": 765,
   "metadata": {},
   "outputs": [
    {
     "name": "stderr",
     "output_type": "stream",
     "text": [
      "/anaconda3/envs/py36/lib/python3.6/site-packages/ipykernel_launcher.py:1: SettingWithCopyWarning: \n",
      "A value is trying to be set on a copy of a slice from a DataFrame.\n",
      "Try using .loc[row_indexer,col_indexer] = value instead\n",
      "\n",
      "See the caveats in the documentation: http://pandas.pydata.org/pandas-docs/stable/indexing.html#indexing-view-versus-copy\n",
      "  \"\"\"Entry point for launching an IPython kernel.\n"
     ]
    }
   ],
   "source": [
    "data_fin['HIGHER_EDU'] =  np.where(edu['FOREIGN_WORKER_INFO_EDUCATION'] > edu['JOB_INFO_EDUCATION'], 1,0)"
   ]
  },
  {
   "cell_type": "code",
   "execution_count": 767,
   "metadata": {},
   "outputs": [
    {
     "name": "stderr",
     "output_type": "stream",
     "text": [
      "/anaconda3/envs/py36/lib/python3.6/site-packages/ipykernel_launcher.py:1: SettingWithCopyWarning: \n",
      "A value is trying to be set on a copy of a slice from a DataFrame.\n",
      "Try using .loc[row_indexer,col_indexer] = value instead\n",
      "\n",
      "See the caveats in the documentation: http://pandas.pydata.org/pandas-docs/stable/indexing.html#indexing-view-versus-copy\n",
      "  \"\"\"Entry point for launching an IPython kernel.\n"
     ]
    }
   ],
   "source": [
    "data_fin['SAME_EDU'] = np.where(data['JOB_INFO_EDUCATION'] == data ['FOREIGN_WORKER_INFO_EDUCATION'], 1 , 0 )"
   ]
  },
  {
   "cell_type": "code",
   "execution_count": 768,
   "metadata": {},
   "outputs": [
    {
     "data": {
      "text/plain": [
       "(341585, 6)"
      ]
     },
     "execution_count": 768,
     "metadata": {},
     "output_type": "execute_result"
    }
   ],
   "source": [
    "data_fin.shape"
   ]
  },
  {
   "cell_type": "code",
   "execution_count": 771,
   "metadata": {},
   "outputs": [
    {
     "data": {
      "text/plain": [
       "(341585, 5)"
      ]
     },
     "execution_count": 771,
     "metadata": {},
     "output_type": "execute_result"
    }
   ],
   "source": [
    "visa_info.shape"
   ]
  },
  {
   "cell_type": "code",
   "execution_count": 776,
   "metadata": {},
   "outputs": [
    {
     "data": {
      "text/plain": [
       "(341585, 125)"
      ]
     },
     "execution_count": 776,
     "metadata": {},
     "output_type": "execute_result"
    }
   ],
   "source": [
    "data.shape"
   ]
  },
  {
   "cell_type": "code",
   "execution_count": 777,
   "metadata": {},
   "outputs": [
    {
     "data": {
      "text/plain": [
       "(215294, 125)"
      ]
     },
     "execution_count": 777,
     "metadata": {},
     "output_type": "execute_result"
    }
   ],
   "source": [
    "data.drop_duplicates().shape"
   ]
  },
  {
   "cell_type": "code",
   "execution_count": 779,
   "metadata": {},
   "outputs": [
    {
     "data": {
      "text/plain": [
       "<bound method DataFrame.duplicated of           CASE_NUMBER CASE_STATUS  DEC_YEAR  LAWYER  HIGHER_EDU  SAME_EDU\n",
       "0       A-14220-96665   Certified      2015       1           0         0\n",
       "1       A-14220-96720   Certified      2015       1           0         1\n",
       "2       A-14203-91167   Certified      2014       1           0         1\n",
       "3       A-14206-92509   Certified      2015       1           0         1\n",
       "4       A-14202-90786   Certified      2015       1           1         0\n",
       "5       A-14202-90819   Certified      2014       1           0         1\n",
       "6       A-14202-90920   Certified      2015       1           0         1\n",
       "7       A-14220-96712   Certified      2015       1           0         1\n",
       "8       A-14226-98150   Certified      2015       1           0         1\n",
       "9       A-14226-98245   Certified      2015       1           0         1\n",
       "10      A-14224-97486   Certified      2015       1           0         1\n",
       "11      A-14224-97503   Certified      2015       1           0         1\n",
       "12      A-14218-95841   Certified      2015       1           0         1\n",
       "13      A-14218-95919   Certified      2015       1           0         1\n",
       "14      A-14233-00479   Certified      2015       0           0         1\n",
       "15      A-14233-00480   Certified      2015       1           0         1\n",
       "16      A-14233-00487   Certified      2015       1           0         1\n",
       "17      A-14233-00533   Certified      2015       1           0         1\n",
       "18      A-14233-00565   Certified      2015       1           0         1\n",
       "19      A-14238-01616   Certified      2015       1           0         1\n",
       "20      A-14238-01636   Certified      2015       1           0         1\n",
       "21      A-14245-03117   Certified      2015       1           0         1\n",
       "22      A-14245-03216   Certified      2015       1           0         1\n",
       "23      A-14245-03304   Certified      2015       1           0         1\n",
       "24      A-14246-03493   Certified      2015       1           0         1\n",
       "25      A-14246-03533   Certified      2015       1           0         1\n",
       "26      A-14246-03571   Certified      2015       1           0         1\n",
       "27      A-14198-89632   Certified      2015       1           0         1\n",
       "28      A-14198-89806   Certified      2015       0           0         1\n",
       "29      A-14202-90634   Certified      2014       0           1         0\n",
       "...               ...         ...       ...     ...         ...       ...\n",
       "126113  A-16027-65808   Certified      2016       1           0         1\n",
       "126114  A-16033-68034   Certified      2016       0           0         1\n",
       "126115  A-16076-85322   Certified      2016       1           0         1\n",
       "126116  A-16189-30291   Withdrawn      2016       1           0         1\n",
       "126117  A-16194-31825   Certified      2016       1           0         1\n",
       "126118  A-16190-30647   Withdrawn      2016       1           0         1\n",
       "126119  A-16190-30660   Certified      2016       1           0         1\n",
       "126120  A-16188-29623   Certified      2016       0           0         1\n",
       "126121  A-16188-29675   Certified      2016       0           0         1\n",
       "126122  A-16274-57949   Certified      2016       1           0         1\n",
       "126123  A-16208-35959   Certified      2016       1           0         1\n",
       "126124  A-15307-35492   Certified      2016       1           0         1\n",
       "126125  A-15226-08541   Certified      2016       1           0         1\n",
       "126126  A-16270-56243   Certified      2016       1           0         1\n",
       "126127  A-16034-68774   Certified      2016       1           0         1\n",
       "126128  A-16057-77595   Certified      2016       1           1         0\n",
       "126129  A-16057-77601   Certified      2016       1           1         0\n",
       "126130  A-16057-77632   Certified      2016       1           1         0\n",
       "126131  A-16209-36556   Certified      2016       1           0         1\n",
       "126132  A-16209-36557   Certified      2016       1           0         1\n",
       "126133  A-16209-36558   Certified      2016       1           0         1\n",
       "126134  A-16209-36589   Certified      2016       1           0         1\n",
       "126135  A-16209-36592   Certified      2016       1           0         1\n",
       "126136  A-16209-36593   Certified      2016       1           0         1\n",
       "126137  A-16209-36596   Certified      2016       1           0         1\n",
       "126138  A-16209-36597   Certified      2016       1           0         1\n",
       "126139  A-16209-36598   Certified      2016       1           0         1\n",
       "126140  A-16054-75755   Certified      2016       1           0         1\n",
       "126141  A-16038-70210   Certified      2016       1           0         1\n",
       "126142  A-16270-56339   Certified      2016       0           0         1\n",
       "\n",
       "[341585 rows x 6 columns]>"
      ]
     },
     "execution_count": 779,
     "metadata": {},
     "output_type": "execute_result"
    }
   ],
   "source": [
    "data_fin.duplicated"
   ]
  },
  {
   "cell_type": "code",
   "execution_count": 772,
   "metadata": {},
   "outputs": [
    {
     "data": {
      "text/html": [
       "<div>\n",
       "<style>\n",
       "    .dataframe thead tr:only-child th {\n",
       "        text-align: right;\n",
       "    }\n",
       "\n",
       "    .dataframe thead th {\n",
       "        text-align: left;\n",
       "    }\n",
       "\n",
       "    .dataframe tbody tr th {\n",
       "        vertical-align: top;\n",
       "    }\n",
       "</style>\n",
       "<table border=\"1\" class=\"dataframe\">\n",
       "  <thead>\n",
       "    <tr style=\"text-align: right;\">\n",
       "      <th></th>\n",
       "      <th>CASE_NUMBER</th>\n",
       "      <th>CASE_STATUS</th>\n",
       "      <th>DEC_YEAR</th>\n",
       "      <th>LAWYER</th>\n",
       "      <th>HIGHER_EDU</th>\n",
       "      <th>SAME_EDU</th>\n",
       "      <th>CLASS_OF_ADMISSION</th>\n",
       "      <th>H1B_VISA</th>\n",
       "      <th>Other_Visa</th>\n",
       "      <th>No_US_Visa</th>\n",
       "    </tr>\n",
       "  </thead>\n",
       "  <tbody>\n",
       "    <tr>\n",
       "      <th>0</th>\n",
       "      <td>A-14220-96665</td>\n",
       "      <td>Certified</td>\n",
       "      <td>2015</td>\n",
       "      <td>1</td>\n",
       "      <td>0</td>\n",
       "      <td>0</td>\n",
       "      <td>H-1B</td>\n",
       "      <td>1</td>\n",
       "      <td>0</td>\n",
       "      <td>0</td>\n",
       "    </tr>\n",
       "    <tr>\n",
       "      <th>1</th>\n",
       "      <td>A-14220-96720</td>\n",
       "      <td>Certified</td>\n",
       "      <td>2015</td>\n",
       "      <td>1</td>\n",
       "      <td>0</td>\n",
       "      <td>1</td>\n",
       "      <td>H-1B</td>\n",
       "      <td>1</td>\n",
       "      <td>0</td>\n",
       "      <td>0</td>\n",
       "    </tr>\n",
       "    <tr>\n",
       "      <th>2</th>\n",
       "      <td>A-14203-91167</td>\n",
       "      <td>Certified</td>\n",
       "      <td>2014</td>\n",
       "      <td>1</td>\n",
       "      <td>0</td>\n",
       "      <td>1</td>\n",
       "      <td>L-1</td>\n",
       "      <td>0</td>\n",
       "      <td>1</td>\n",
       "      <td>0</td>\n",
       "    </tr>\n",
       "    <tr>\n",
       "      <th>3</th>\n",
       "      <td>A-14206-92509</td>\n",
       "      <td>Certified</td>\n",
       "      <td>2015</td>\n",
       "      <td>1</td>\n",
       "      <td>0</td>\n",
       "      <td>1</td>\n",
       "      <td>H-1B</td>\n",
       "      <td>1</td>\n",
       "      <td>0</td>\n",
       "      <td>0</td>\n",
       "    </tr>\n",
       "    <tr>\n",
       "      <th>4</th>\n",
       "      <td>A-14202-90786</td>\n",
       "      <td>Certified</td>\n",
       "      <td>2015</td>\n",
       "      <td>1</td>\n",
       "      <td>1</td>\n",
       "      <td>0</td>\n",
       "      <td>H-1B</td>\n",
       "      <td>1</td>\n",
       "      <td>0</td>\n",
       "      <td>0</td>\n",
       "    </tr>\n",
       "    <tr>\n",
       "      <th>5</th>\n",
       "      <td>A-14202-90819</td>\n",
       "      <td>Certified</td>\n",
       "      <td>2014</td>\n",
       "      <td>1</td>\n",
       "      <td>0</td>\n",
       "      <td>1</td>\n",
       "      <td>H-1B</td>\n",
       "      <td>1</td>\n",
       "      <td>0</td>\n",
       "      <td>0</td>\n",
       "    </tr>\n",
       "    <tr>\n",
       "      <th>6</th>\n",
       "      <td>A-14202-90920</td>\n",
       "      <td>Certified</td>\n",
       "      <td>2015</td>\n",
       "      <td>1</td>\n",
       "      <td>0</td>\n",
       "      <td>1</td>\n",
       "      <td>H-1B</td>\n",
       "      <td>1</td>\n",
       "      <td>0</td>\n",
       "      <td>0</td>\n",
       "    </tr>\n",
       "    <tr>\n",
       "      <th>7</th>\n",
       "      <td>A-14220-96712</td>\n",
       "      <td>Certified</td>\n",
       "      <td>2015</td>\n",
       "      <td>1</td>\n",
       "      <td>0</td>\n",
       "      <td>1</td>\n",
       "      <td>H-1B</td>\n",
       "      <td>1</td>\n",
       "      <td>0</td>\n",
       "      <td>0</td>\n",
       "    </tr>\n",
       "    <tr>\n",
       "      <th>8</th>\n",
       "      <td>A-14226-98150</td>\n",
       "      <td>Certified</td>\n",
       "      <td>2015</td>\n",
       "      <td>1</td>\n",
       "      <td>0</td>\n",
       "      <td>1</td>\n",
       "      <td>H-1B</td>\n",
       "      <td>1</td>\n",
       "      <td>0</td>\n",
       "      <td>0</td>\n",
       "    </tr>\n",
       "    <tr>\n",
       "      <th>9</th>\n",
       "      <td>A-14226-98245</td>\n",
       "      <td>Certified</td>\n",
       "      <td>2015</td>\n",
       "      <td>1</td>\n",
       "      <td>0</td>\n",
       "      <td>1</td>\n",
       "      <td>None</td>\n",
       "      <td>0</td>\n",
       "      <td>0</td>\n",
       "      <td>1</td>\n",
       "    </tr>\n",
       "    <tr>\n",
       "      <th>10</th>\n",
       "      <td>A-14224-97486</td>\n",
       "      <td>Certified</td>\n",
       "      <td>2015</td>\n",
       "      <td>1</td>\n",
       "      <td>0</td>\n",
       "      <td>1</td>\n",
       "      <td>H-1B</td>\n",
       "      <td>1</td>\n",
       "      <td>0</td>\n",
       "      <td>0</td>\n",
       "    </tr>\n",
       "    <tr>\n",
       "      <th>11</th>\n",
       "      <td>A-14224-97503</td>\n",
       "      <td>Certified</td>\n",
       "      <td>2015</td>\n",
       "      <td>1</td>\n",
       "      <td>0</td>\n",
       "      <td>1</td>\n",
       "      <td>H-1B</td>\n",
       "      <td>1</td>\n",
       "      <td>0</td>\n",
       "      <td>0</td>\n",
       "    </tr>\n",
       "    <tr>\n",
       "      <th>12</th>\n",
       "      <td>A-14218-95841</td>\n",
       "      <td>Certified</td>\n",
       "      <td>2015</td>\n",
       "      <td>1</td>\n",
       "      <td>0</td>\n",
       "      <td>1</td>\n",
       "      <td>H-1B</td>\n",
       "      <td>1</td>\n",
       "      <td>0</td>\n",
       "      <td>0</td>\n",
       "    </tr>\n",
       "    <tr>\n",
       "      <th>13</th>\n",
       "      <td>A-14218-95919</td>\n",
       "      <td>Certified</td>\n",
       "      <td>2015</td>\n",
       "      <td>1</td>\n",
       "      <td>0</td>\n",
       "      <td>1</td>\n",
       "      <td>H-1B</td>\n",
       "      <td>1</td>\n",
       "      <td>0</td>\n",
       "      <td>0</td>\n",
       "    </tr>\n",
       "    <tr>\n",
       "      <th>14</th>\n",
       "      <td>A-14233-00479</td>\n",
       "      <td>Certified</td>\n",
       "      <td>2015</td>\n",
       "      <td>0</td>\n",
       "      <td>0</td>\n",
       "      <td>1</td>\n",
       "      <td>H-1B</td>\n",
       "      <td>1</td>\n",
       "      <td>0</td>\n",
       "      <td>0</td>\n",
       "    </tr>\n",
       "    <tr>\n",
       "      <th>15</th>\n",
       "      <td>A-14233-00480</td>\n",
       "      <td>Certified</td>\n",
       "      <td>2015</td>\n",
       "      <td>1</td>\n",
       "      <td>0</td>\n",
       "      <td>1</td>\n",
       "      <td>H-1B</td>\n",
       "      <td>1</td>\n",
       "      <td>0</td>\n",
       "      <td>0</td>\n",
       "    </tr>\n",
       "    <tr>\n",
       "      <th>16</th>\n",
       "      <td>A-14233-00487</td>\n",
       "      <td>Certified</td>\n",
       "      <td>2015</td>\n",
       "      <td>1</td>\n",
       "      <td>0</td>\n",
       "      <td>1</td>\n",
       "      <td>J-1</td>\n",
       "      <td>0</td>\n",
       "      <td>1</td>\n",
       "      <td>0</td>\n",
       "    </tr>\n",
       "    <tr>\n",
       "      <th>17</th>\n",
       "      <td>A-14233-00533</td>\n",
       "      <td>Certified</td>\n",
       "      <td>2015</td>\n",
       "      <td>1</td>\n",
       "      <td>0</td>\n",
       "      <td>1</td>\n",
       "      <td>H-1B</td>\n",
       "      <td>1</td>\n",
       "      <td>0</td>\n",
       "      <td>0</td>\n",
       "    </tr>\n",
       "    <tr>\n",
       "      <th>18</th>\n",
       "      <td>A-14233-00565</td>\n",
       "      <td>Certified</td>\n",
       "      <td>2015</td>\n",
       "      <td>1</td>\n",
       "      <td>0</td>\n",
       "      <td>1</td>\n",
       "      <td>L-1</td>\n",
       "      <td>0</td>\n",
       "      <td>1</td>\n",
       "      <td>0</td>\n",
       "    </tr>\n",
       "    <tr>\n",
       "      <th>19</th>\n",
       "      <td>A-14238-01616</td>\n",
       "      <td>Certified</td>\n",
       "      <td>2015</td>\n",
       "      <td>1</td>\n",
       "      <td>0</td>\n",
       "      <td>1</td>\n",
       "      <td>H-1B</td>\n",
       "      <td>1</td>\n",
       "      <td>0</td>\n",
       "      <td>0</td>\n",
       "    </tr>\n",
       "    <tr>\n",
       "      <th>20</th>\n",
       "      <td>A-14238-01636</td>\n",
       "      <td>Certified</td>\n",
       "      <td>2015</td>\n",
       "      <td>1</td>\n",
       "      <td>0</td>\n",
       "      <td>1</td>\n",
       "      <td>F-1</td>\n",
       "      <td>0</td>\n",
       "      <td>1</td>\n",
       "      <td>0</td>\n",
       "    </tr>\n",
       "    <tr>\n",
       "      <th>21</th>\n",
       "      <td>A-14245-03117</td>\n",
       "      <td>Certified</td>\n",
       "      <td>2015</td>\n",
       "      <td>1</td>\n",
       "      <td>0</td>\n",
       "      <td>1</td>\n",
       "      <td>H-1B</td>\n",
       "      <td>1</td>\n",
       "      <td>0</td>\n",
       "      <td>0</td>\n",
       "    </tr>\n",
       "    <tr>\n",
       "      <th>22</th>\n",
       "      <td>A-14245-03216</td>\n",
       "      <td>Certified</td>\n",
       "      <td>2015</td>\n",
       "      <td>1</td>\n",
       "      <td>0</td>\n",
       "      <td>1</td>\n",
       "      <td>H-1B</td>\n",
       "      <td>1</td>\n",
       "      <td>0</td>\n",
       "      <td>0</td>\n",
       "    </tr>\n",
       "    <tr>\n",
       "      <th>23</th>\n",
       "      <td>A-14245-03304</td>\n",
       "      <td>Certified</td>\n",
       "      <td>2015</td>\n",
       "      <td>1</td>\n",
       "      <td>0</td>\n",
       "      <td>1</td>\n",
       "      <td>H-1B</td>\n",
       "      <td>1</td>\n",
       "      <td>0</td>\n",
       "      <td>0</td>\n",
       "    </tr>\n",
       "    <tr>\n",
       "      <th>24</th>\n",
       "      <td>A-14246-03493</td>\n",
       "      <td>Certified</td>\n",
       "      <td>2015</td>\n",
       "      <td>1</td>\n",
       "      <td>0</td>\n",
       "      <td>1</td>\n",
       "      <td>H-1B</td>\n",
       "      <td>1</td>\n",
       "      <td>0</td>\n",
       "      <td>0</td>\n",
       "    </tr>\n",
       "    <tr>\n",
       "      <th>25</th>\n",
       "      <td>A-14246-03533</td>\n",
       "      <td>Certified</td>\n",
       "      <td>2015</td>\n",
       "      <td>1</td>\n",
       "      <td>0</td>\n",
       "      <td>1</td>\n",
       "      <td>H-1B</td>\n",
       "      <td>1</td>\n",
       "      <td>0</td>\n",
       "      <td>0</td>\n",
       "    </tr>\n",
       "    <tr>\n",
       "      <th>26</th>\n",
       "      <td>A-14246-03571</td>\n",
       "      <td>Certified</td>\n",
       "      <td>2015</td>\n",
       "      <td>1</td>\n",
       "      <td>0</td>\n",
       "      <td>1</td>\n",
       "      <td>H-1B</td>\n",
       "      <td>1</td>\n",
       "      <td>0</td>\n",
       "      <td>0</td>\n",
       "    </tr>\n",
       "    <tr>\n",
       "      <th>27</th>\n",
       "      <td>A-14198-89632</td>\n",
       "      <td>Certified</td>\n",
       "      <td>2015</td>\n",
       "      <td>1</td>\n",
       "      <td>0</td>\n",
       "      <td>1</td>\n",
       "      <td>H-1B</td>\n",
       "      <td>1</td>\n",
       "      <td>0</td>\n",
       "      <td>0</td>\n",
       "    </tr>\n",
       "    <tr>\n",
       "      <th>28</th>\n",
       "      <td>A-14198-89806</td>\n",
       "      <td>Certified</td>\n",
       "      <td>2015</td>\n",
       "      <td>0</td>\n",
       "      <td>0</td>\n",
       "      <td>1</td>\n",
       "      <td>H-1B</td>\n",
       "      <td>1</td>\n",
       "      <td>0</td>\n",
       "      <td>0</td>\n",
       "    </tr>\n",
       "    <tr>\n",
       "      <th>29</th>\n",
       "      <td>A-14202-90634</td>\n",
       "      <td>Certified</td>\n",
       "      <td>2014</td>\n",
       "      <td>0</td>\n",
       "      <td>1</td>\n",
       "      <td>0</td>\n",
       "      <td>H-1B</td>\n",
       "      <td>1</td>\n",
       "      <td>0</td>\n",
       "      <td>0</td>\n",
       "    </tr>\n",
       "    <tr>\n",
       "      <th>...</th>\n",
       "      <td>...</td>\n",
       "      <td>...</td>\n",
       "      <td>...</td>\n",
       "      <td>...</td>\n",
       "      <td>...</td>\n",
       "      <td>...</td>\n",
       "      <td>...</td>\n",
       "      <td>...</td>\n",
       "      <td>...</td>\n",
       "      <td>...</td>\n",
       "    </tr>\n",
       "    <tr>\n",
       "      <th>343552</th>\n",
       "      <td>A-16027-65808</td>\n",
       "      <td>Certified</td>\n",
       "      <td>2016</td>\n",
       "      <td>1</td>\n",
       "      <td>0</td>\n",
       "      <td>1</td>\n",
       "      <td>B-2</td>\n",
       "      <td>0</td>\n",
       "      <td>1</td>\n",
       "      <td>0</td>\n",
       "    </tr>\n",
       "    <tr>\n",
       "      <th>343554</th>\n",
       "      <td>A-16033-68034</td>\n",
       "      <td>Certified</td>\n",
       "      <td>2016</td>\n",
       "      <td>0</td>\n",
       "      <td>0</td>\n",
       "      <td>1</td>\n",
       "      <td>None</td>\n",
       "      <td>0</td>\n",
       "      <td>0</td>\n",
       "      <td>1</td>\n",
       "    </tr>\n",
       "    <tr>\n",
       "      <th>343556</th>\n",
       "      <td>A-16076-85322</td>\n",
       "      <td>Certified</td>\n",
       "      <td>2016</td>\n",
       "      <td>1</td>\n",
       "      <td>0</td>\n",
       "      <td>1</td>\n",
       "      <td>None</td>\n",
       "      <td>0</td>\n",
       "      <td>0</td>\n",
       "      <td>1</td>\n",
       "    </tr>\n",
       "    <tr>\n",
       "      <th>343558</th>\n",
       "      <td>A-16189-30291</td>\n",
       "      <td>Withdrawn</td>\n",
       "      <td>2016</td>\n",
       "      <td>1</td>\n",
       "      <td>0</td>\n",
       "      <td>1</td>\n",
       "      <td>Not in USA</td>\n",
       "      <td>0</td>\n",
       "      <td>0</td>\n",
       "      <td>1</td>\n",
       "    </tr>\n",
       "    <tr>\n",
       "      <th>343560</th>\n",
       "      <td>A-16194-31825</td>\n",
       "      <td>Certified</td>\n",
       "      <td>2016</td>\n",
       "      <td>1</td>\n",
       "      <td>0</td>\n",
       "      <td>1</td>\n",
       "      <td>Not in USA</td>\n",
       "      <td>0</td>\n",
       "      <td>0</td>\n",
       "      <td>1</td>\n",
       "    </tr>\n",
       "    <tr>\n",
       "      <th>343562</th>\n",
       "      <td>A-16190-30647</td>\n",
       "      <td>Withdrawn</td>\n",
       "      <td>2016</td>\n",
       "      <td>1</td>\n",
       "      <td>0</td>\n",
       "      <td>1</td>\n",
       "      <td>Not in USA</td>\n",
       "      <td>0</td>\n",
       "      <td>0</td>\n",
       "      <td>1</td>\n",
       "    </tr>\n",
       "    <tr>\n",
       "      <th>343564</th>\n",
       "      <td>A-16190-30660</td>\n",
       "      <td>Certified</td>\n",
       "      <td>2016</td>\n",
       "      <td>1</td>\n",
       "      <td>0</td>\n",
       "      <td>1</td>\n",
       "      <td>Not in USA</td>\n",
       "      <td>0</td>\n",
       "      <td>0</td>\n",
       "      <td>1</td>\n",
       "    </tr>\n",
       "    <tr>\n",
       "      <th>343566</th>\n",
       "      <td>A-16188-29623</td>\n",
       "      <td>Certified</td>\n",
       "      <td>2016</td>\n",
       "      <td>0</td>\n",
       "      <td>0</td>\n",
       "      <td>1</td>\n",
       "      <td>None</td>\n",
       "      <td>0</td>\n",
       "      <td>0</td>\n",
       "      <td>1</td>\n",
       "    </tr>\n",
       "    <tr>\n",
       "      <th>343568</th>\n",
       "      <td>A-16188-29675</td>\n",
       "      <td>Certified</td>\n",
       "      <td>2016</td>\n",
       "      <td>0</td>\n",
       "      <td>0</td>\n",
       "      <td>1</td>\n",
       "      <td>None</td>\n",
       "      <td>0</td>\n",
       "      <td>0</td>\n",
       "      <td>1</td>\n",
       "    </tr>\n",
       "    <tr>\n",
       "      <th>343570</th>\n",
       "      <td>A-16274-57949</td>\n",
       "      <td>Certified</td>\n",
       "      <td>2016</td>\n",
       "      <td>1</td>\n",
       "      <td>0</td>\n",
       "      <td>1</td>\n",
       "      <td>F-1</td>\n",
       "      <td>0</td>\n",
       "      <td>1</td>\n",
       "      <td>0</td>\n",
       "    </tr>\n",
       "    <tr>\n",
       "      <th>343572</th>\n",
       "      <td>A-16208-35959</td>\n",
       "      <td>Certified</td>\n",
       "      <td>2016</td>\n",
       "      <td>1</td>\n",
       "      <td>0</td>\n",
       "      <td>1</td>\n",
       "      <td>B-2</td>\n",
       "      <td>0</td>\n",
       "      <td>1</td>\n",
       "      <td>0</td>\n",
       "    </tr>\n",
       "    <tr>\n",
       "      <th>343574</th>\n",
       "      <td>A-15307-35492</td>\n",
       "      <td>Certified</td>\n",
       "      <td>2016</td>\n",
       "      <td>1</td>\n",
       "      <td>0</td>\n",
       "      <td>1</td>\n",
       "      <td>F-1</td>\n",
       "      <td>0</td>\n",
       "      <td>1</td>\n",
       "      <td>0</td>\n",
       "    </tr>\n",
       "    <tr>\n",
       "      <th>343576</th>\n",
       "      <td>A-15226-08541</td>\n",
       "      <td>Certified</td>\n",
       "      <td>2016</td>\n",
       "      <td>1</td>\n",
       "      <td>0</td>\n",
       "      <td>1</td>\n",
       "      <td>EWI</td>\n",
       "      <td>0</td>\n",
       "      <td>1</td>\n",
       "      <td>0</td>\n",
       "    </tr>\n",
       "    <tr>\n",
       "      <th>343578</th>\n",
       "      <td>A-16270-56243</td>\n",
       "      <td>Certified</td>\n",
       "      <td>2016</td>\n",
       "      <td>1</td>\n",
       "      <td>0</td>\n",
       "      <td>1</td>\n",
       "      <td>E-2</td>\n",
       "      <td>0</td>\n",
       "      <td>1</td>\n",
       "      <td>0</td>\n",
       "    </tr>\n",
       "    <tr>\n",
       "      <th>343580</th>\n",
       "      <td>A-16034-68774</td>\n",
       "      <td>Certified</td>\n",
       "      <td>2016</td>\n",
       "      <td>1</td>\n",
       "      <td>0</td>\n",
       "      <td>1</td>\n",
       "      <td>None</td>\n",
       "      <td>0</td>\n",
       "      <td>0</td>\n",
       "      <td>1</td>\n",
       "    </tr>\n",
       "    <tr>\n",
       "      <th>343582</th>\n",
       "      <td>A-16057-77595</td>\n",
       "      <td>Certified</td>\n",
       "      <td>2016</td>\n",
       "      <td>1</td>\n",
       "      <td>1</td>\n",
       "      <td>0</td>\n",
       "      <td>F-1</td>\n",
       "      <td>0</td>\n",
       "      <td>1</td>\n",
       "      <td>0</td>\n",
       "    </tr>\n",
       "    <tr>\n",
       "      <th>343584</th>\n",
       "      <td>A-16057-77601</td>\n",
       "      <td>Certified</td>\n",
       "      <td>2016</td>\n",
       "      <td>1</td>\n",
       "      <td>1</td>\n",
       "      <td>0</td>\n",
       "      <td>None</td>\n",
       "      <td>0</td>\n",
       "      <td>0</td>\n",
       "      <td>1</td>\n",
       "    </tr>\n",
       "    <tr>\n",
       "      <th>343586</th>\n",
       "      <td>A-16057-77632</td>\n",
       "      <td>Certified</td>\n",
       "      <td>2016</td>\n",
       "      <td>1</td>\n",
       "      <td>1</td>\n",
       "      <td>0</td>\n",
       "      <td>None</td>\n",
       "      <td>0</td>\n",
       "      <td>0</td>\n",
       "      <td>1</td>\n",
       "    </tr>\n",
       "    <tr>\n",
       "      <th>343588</th>\n",
       "      <td>A-16209-36556</td>\n",
       "      <td>Certified</td>\n",
       "      <td>2016</td>\n",
       "      <td>1</td>\n",
       "      <td>0</td>\n",
       "      <td>1</td>\n",
       "      <td>F-2</td>\n",
       "      <td>0</td>\n",
       "      <td>1</td>\n",
       "      <td>0</td>\n",
       "    </tr>\n",
       "    <tr>\n",
       "      <th>343590</th>\n",
       "      <td>A-16209-36557</td>\n",
       "      <td>Certified</td>\n",
       "      <td>2016</td>\n",
       "      <td>1</td>\n",
       "      <td>0</td>\n",
       "      <td>1</td>\n",
       "      <td>B-2</td>\n",
       "      <td>0</td>\n",
       "      <td>1</td>\n",
       "      <td>0</td>\n",
       "    </tr>\n",
       "    <tr>\n",
       "      <th>343592</th>\n",
       "      <td>A-16209-36558</td>\n",
       "      <td>Certified</td>\n",
       "      <td>2016</td>\n",
       "      <td>1</td>\n",
       "      <td>0</td>\n",
       "      <td>1</td>\n",
       "      <td>E-2</td>\n",
       "      <td>0</td>\n",
       "      <td>1</td>\n",
       "      <td>0</td>\n",
       "    </tr>\n",
       "    <tr>\n",
       "      <th>343594</th>\n",
       "      <td>A-16209-36589</td>\n",
       "      <td>Certified</td>\n",
       "      <td>2016</td>\n",
       "      <td>1</td>\n",
       "      <td>0</td>\n",
       "      <td>1</td>\n",
       "      <td>None</td>\n",
       "      <td>0</td>\n",
       "      <td>0</td>\n",
       "      <td>1</td>\n",
       "    </tr>\n",
       "    <tr>\n",
       "      <th>343596</th>\n",
       "      <td>A-16209-36592</td>\n",
       "      <td>Certified</td>\n",
       "      <td>2016</td>\n",
       "      <td>1</td>\n",
       "      <td>0</td>\n",
       "      <td>1</td>\n",
       "      <td>None</td>\n",
       "      <td>0</td>\n",
       "      <td>0</td>\n",
       "      <td>1</td>\n",
       "    </tr>\n",
       "    <tr>\n",
       "      <th>343598</th>\n",
       "      <td>A-16209-36593</td>\n",
       "      <td>Certified</td>\n",
       "      <td>2016</td>\n",
       "      <td>1</td>\n",
       "      <td>0</td>\n",
       "      <td>1</td>\n",
       "      <td>F-1</td>\n",
       "      <td>0</td>\n",
       "      <td>1</td>\n",
       "      <td>0</td>\n",
       "    </tr>\n",
       "    <tr>\n",
       "      <th>343600</th>\n",
       "      <td>A-16209-36596</td>\n",
       "      <td>Certified</td>\n",
       "      <td>2016</td>\n",
       "      <td>1</td>\n",
       "      <td>0</td>\n",
       "      <td>1</td>\n",
       "      <td>F-1</td>\n",
       "      <td>0</td>\n",
       "      <td>1</td>\n",
       "      <td>0</td>\n",
       "    </tr>\n",
       "    <tr>\n",
       "      <th>343602</th>\n",
       "      <td>A-16209-36597</td>\n",
       "      <td>Certified</td>\n",
       "      <td>2016</td>\n",
       "      <td>1</td>\n",
       "      <td>0</td>\n",
       "      <td>1</td>\n",
       "      <td>None</td>\n",
       "      <td>0</td>\n",
       "      <td>0</td>\n",
       "      <td>1</td>\n",
       "    </tr>\n",
       "    <tr>\n",
       "      <th>343604</th>\n",
       "      <td>A-16209-36598</td>\n",
       "      <td>Certified</td>\n",
       "      <td>2016</td>\n",
       "      <td>1</td>\n",
       "      <td>0</td>\n",
       "      <td>1</td>\n",
       "      <td>F-1</td>\n",
       "      <td>0</td>\n",
       "      <td>1</td>\n",
       "      <td>0</td>\n",
       "    </tr>\n",
       "    <tr>\n",
       "      <th>343606</th>\n",
       "      <td>A-16054-75755</td>\n",
       "      <td>Certified</td>\n",
       "      <td>2016</td>\n",
       "      <td>1</td>\n",
       "      <td>0</td>\n",
       "      <td>1</td>\n",
       "      <td>None</td>\n",
       "      <td>0</td>\n",
       "      <td>0</td>\n",
       "      <td>1</td>\n",
       "    </tr>\n",
       "    <tr>\n",
       "      <th>343608</th>\n",
       "      <td>A-16038-70210</td>\n",
       "      <td>Certified</td>\n",
       "      <td>2016</td>\n",
       "      <td>1</td>\n",
       "      <td>0</td>\n",
       "      <td>1</td>\n",
       "      <td>None</td>\n",
       "      <td>0</td>\n",
       "      <td>0</td>\n",
       "      <td>1</td>\n",
       "    </tr>\n",
       "    <tr>\n",
       "      <th>343610</th>\n",
       "      <td>A-16270-56339</td>\n",
       "      <td>Certified</td>\n",
       "      <td>2016</td>\n",
       "      <td>0</td>\n",
       "      <td>0</td>\n",
       "      <td>1</td>\n",
       "      <td>None</td>\n",
       "      <td>0</td>\n",
       "      <td>0</td>\n",
       "      <td>1</td>\n",
       "    </tr>\n",
       "  </tbody>\n",
       "</table>\n",
       "<p>215271 rows × 10 columns</p>\n",
       "</div>"
      ],
      "text/plain": [
       "          CASE_NUMBER CASE_STATUS  DEC_YEAR  LAWYER  HIGHER_EDU  SAME_EDU  \\\n",
       "0       A-14220-96665   Certified      2015       1           0         0   \n",
       "1       A-14220-96720   Certified      2015       1           0         1   \n",
       "2       A-14203-91167   Certified      2014       1           0         1   \n",
       "3       A-14206-92509   Certified      2015       1           0         1   \n",
       "4       A-14202-90786   Certified      2015       1           1         0   \n",
       "5       A-14202-90819   Certified      2014       1           0         1   \n",
       "6       A-14202-90920   Certified      2015       1           0         1   \n",
       "7       A-14220-96712   Certified      2015       1           0         1   \n",
       "8       A-14226-98150   Certified      2015       1           0         1   \n",
       "9       A-14226-98245   Certified      2015       1           0         1   \n",
       "10      A-14224-97486   Certified      2015       1           0         1   \n",
       "11      A-14224-97503   Certified      2015       1           0         1   \n",
       "12      A-14218-95841   Certified      2015       1           0         1   \n",
       "13      A-14218-95919   Certified      2015       1           0         1   \n",
       "14      A-14233-00479   Certified      2015       0           0         1   \n",
       "15      A-14233-00480   Certified      2015       1           0         1   \n",
       "16      A-14233-00487   Certified      2015       1           0         1   \n",
       "17      A-14233-00533   Certified      2015       1           0         1   \n",
       "18      A-14233-00565   Certified      2015       1           0         1   \n",
       "19      A-14238-01616   Certified      2015       1           0         1   \n",
       "20      A-14238-01636   Certified      2015       1           0         1   \n",
       "21      A-14245-03117   Certified      2015       1           0         1   \n",
       "22      A-14245-03216   Certified      2015       1           0         1   \n",
       "23      A-14245-03304   Certified      2015       1           0         1   \n",
       "24      A-14246-03493   Certified      2015       1           0         1   \n",
       "25      A-14246-03533   Certified      2015       1           0         1   \n",
       "26      A-14246-03571   Certified      2015       1           0         1   \n",
       "27      A-14198-89632   Certified      2015       1           0         1   \n",
       "28      A-14198-89806   Certified      2015       0           0         1   \n",
       "29      A-14202-90634   Certified      2014       0           1         0   \n",
       "...               ...         ...       ...     ...         ...       ...   \n",
       "343552  A-16027-65808   Certified      2016       1           0         1   \n",
       "343554  A-16033-68034   Certified      2016       0           0         1   \n",
       "343556  A-16076-85322   Certified      2016       1           0         1   \n",
       "343558  A-16189-30291   Withdrawn      2016       1           0         1   \n",
       "343560  A-16194-31825   Certified      2016       1           0         1   \n",
       "343562  A-16190-30647   Withdrawn      2016       1           0         1   \n",
       "343564  A-16190-30660   Certified      2016       1           0         1   \n",
       "343566  A-16188-29623   Certified      2016       0           0         1   \n",
       "343568  A-16188-29675   Certified      2016       0           0         1   \n",
       "343570  A-16274-57949   Certified      2016       1           0         1   \n",
       "343572  A-16208-35959   Certified      2016       1           0         1   \n",
       "343574  A-15307-35492   Certified      2016       1           0         1   \n",
       "343576  A-15226-08541   Certified      2016       1           0         1   \n",
       "343578  A-16270-56243   Certified      2016       1           0         1   \n",
       "343580  A-16034-68774   Certified      2016       1           0         1   \n",
       "343582  A-16057-77595   Certified      2016       1           1         0   \n",
       "343584  A-16057-77601   Certified      2016       1           1         0   \n",
       "343586  A-16057-77632   Certified      2016       1           1         0   \n",
       "343588  A-16209-36556   Certified      2016       1           0         1   \n",
       "343590  A-16209-36557   Certified      2016       1           0         1   \n",
       "343592  A-16209-36558   Certified      2016       1           0         1   \n",
       "343594  A-16209-36589   Certified      2016       1           0         1   \n",
       "343596  A-16209-36592   Certified      2016       1           0         1   \n",
       "343598  A-16209-36593   Certified      2016       1           0         1   \n",
       "343600  A-16209-36596   Certified      2016       1           0         1   \n",
       "343602  A-16209-36597   Certified      2016       1           0         1   \n",
       "343604  A-16209-36598   Certified      2016       1           0         1   \n",
       "343606  A-16054-75755   Certified      2016       1           0         1   \n",
       "343608  A-16038-70210   Certified      2016       1           0         1   \n",
       "343610  A-16270-56339   Certified      2016       0           0         1   \n",
       "\n",
       "       CLASS_OF_ADMISSION  H1B_VISA  Other_Visa  No_US_Visa  \n",
       "0                    H-1B         1           0           0  \n",
       "1                    H-1B         1           0           0  \n",
       "2                     L-1         0           1           0  \n",
       "3                    H-1B         1           0           0  \n",
       "4                    H-1B         1           0           0  \n",
       "5                    H-1B         1           0           0  \n",
       "6                    H-1B         1           0           0  \n",
       "7                    H-1B         1           0           0  \n",
       "8                    H-1B         1           0           0  \n",
       "9                    None         0           0           1  \n",
       "10                   H-1B         1           0           0  \n",
       "11                   H-1B         1           0           0  \n",
       "12                   H-1B         1           0           0  \n",
       "13                   H-1B         1           0           0  \n",
       "14                   H-1B         1           0           0  \n",
       "15                   H-1B         1           0           0  \n",
       "16                    J-1         0           1           0  \n",
       "17                   H-1B         1           0           0  \n",
       "18                    L-1         0           1           0  \n",
       "19                   H-1B         1           0           0  \n",
       "20                    F-1         0           1           0  \n",
       "21                   H-1B         1           0           0  \n",
       "22                   H-1B         1           0           0  \n",
       "23                   H-1B         1           0           0  \n",
       "24                   H-1B         1           0           0  \n",
       "25                   H-1B         1           0           0  \n",
       "26                   H-1B         1           0           0  \n",
       "27                   H-1B         1           0           0  \n",
       "28                   H-1B         1           0           0  \n",
       "29                   H-1B         1           0           0  \n",
       "...                   ...       ...         ...         ...  \n",
       "343552                B-2         0           1           0  \n",
       "343554               None         0           0           1  \n",
       "343556               None         0           0           1  \n",
       "343558         Not in USA         0           0           1  \n",
       "343560         Not in USA         0           0           1  \n",
       "343562         Not in USA         0           0           1  \n",
       "343564         Not in USA         0           0           1  \n",
       "343566               None         0           0           1  \n",
       "343568               None         0           0           1  \n",
       "343570                F-1         0           1           0  \n",
       "343572                B-2         0           1           0  \n",
       "343574                F-1         0           1           0  \n",
       "343576                EWI         0           1           0  \n",
       "343578                E-2         0           1           0  \n",
       "343580               None         0           0           1  \n",
       "343582                F-1         0           1           0  \n",
       "343584               None         0           0           1  \n",
       "343586               None         0           0           1  \n",
       "343588                F-2         0           1           0  \n",
       "343590                B-2         0           1           0  \n",
       "343592                E-2         0           1           0  \n",
       "343594               None         0           0           1  \n",
       "343596               None         0           0           1  \n",
       "343598                F-1         0           1           0  \n",
       "343600                F-1         0           1           0  \n",
       "343602               None         0           0           1  \n",
       "343604                F-1         0           1           0  \n",
       "343606               None         0           0           1  \n",
       "343608               None         0           0           1  \n",
       "343610               None         0           0           1  \n",
       "\n",
       "[215271 rows x 10 columns]"
      ]
     },
     "execution_count": 772,
     "metadata": {},
     "output_type": "execute_result"
    }
   ],
   "source": [
    "data_fin.merge(visa_info, how=\"left\", left_on = \"CASE_NUMBER\", right_on = \"CASE_NUMBER\").drop_duplicates()"
   ]
  },
  {
   "cell_type": "code",
   "execution_count": null,
   "metadata": {
    "collapsed": true
   },
   "outputs": [],
   "source": []
  }
 ],
 "metadata": {
  "kernelspec": {
   "display_name": "Python 3",
   "language": "python",
   "name": "python3"
  },
  "language_info": {
   "codemirror_mode": {
    "name": "ipython",
    "version": 3
   },
   "file_extension": ".py",
   "mimetype": "text/x-python",
   "name": "python",
   "nbconvert_exporter": "python",
   "pygments_lexer": "ipython3",
   "version": "3.6.3"
  }
 },
 "nbformat": 4,
 "nbformat_minor": 2
}
