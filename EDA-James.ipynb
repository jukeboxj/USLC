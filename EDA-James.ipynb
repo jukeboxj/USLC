{
 "cells": [
  {
   "cell_type": "code",
   "execution_count": 1,
   "metadata": {
    "collapsed": false,
    "deletable": true,
    "editable": true
   },
   "outputs": [
    {
     "name": "stderr",
     "output_type": "stream",
     "text": [
      "/Users/James/anaconda3/lib/python3.5/site-packages/sklearn/cross_validation.py:41: DeprecationWarning: This module was deprecated in version 0.18 in favor of the model_selection module into which all the refactored classes and functions are moved. Also note that the interface of the new CV iterators are different from that of this module. This module will be removed in 0.20.\n",
      "  \"This module will be removed in 0.20.\", DeprecationWarning)\n",
      "/Users/James/anaconda3/lib/python3.5/site-packages/sklearn/grid_search.py:42: DeprecationWarning: This module was deprecated in version 0.18 in favor of the model_selection module into which all the refactored classes and functions are moved. This module will be removed in 0.20.\n",
      "  DeprecationWarning)\n"
     ]
    }
   ],
   "source": [
    "# import required libraries\n",
    "# pandas:Data framework library for Python\n",
    "# sklearn: Library to perform machine learning tasks\n",
    "import pandas as pd\n",
    "import numpy as np\n",
    "import scipy\n",
    "import scipy.stats as st\n",
    "import sklearn \n",
    "import sklearn.datasets\n",
    "import sklearn.metrics as metrics \n",
    "from sklearn.linear_model import LogisticRegression\n",
    "from sklearn.cross_validation import StratifiedKFold\n",
    "from sklearn.svm import SVC\n",
    "from sklearn.grid_search import GridSearchCV\n",
    "from sklearn.metrics import classification_report\n",
    "from sklearn.cross_validation import train_test_split\n",
    "from sklearn.preprocessing import label_binarize\n",
    "from sklearn.feature_selection import mutual_info_classif\n",
    "from scipy import stats"
   ]
  },
  {
   "cell_type": "code",
   "execution_count": 2,
   "metadata": {
    "collapsed": true,
    "deletable": true,
    "editable": true
   },
   "outputs": [],
   "source": [
    "from datetime import datetime"
   ]
  },
  {
   "cell_type": "code",
   "execution_count": 3,
   "metadata": {
    "collapsed": true,
    "deletable": true,
    "editable": true
   },
   "outputs": [],
   "source": [
    "Data_2017 = pd.read_excel(\"Data/PERM_Disclosure_Data_FY17.xlsx\")"
   ]
  },
  {
   "cell_type": "code",
   "execution_count": 4,
   "metadata": {
    "collapsed": true,
    "deletable": true,
    "editable": true
   },
   "outputs": [],
   "source": [
    "Data_2015 = pd.read_excel(\"Data/PERM_Disclosure_Data_FY15_Q4.xlsx\", converters= {'RI_LOCAL_ETHNIC_PAPER_FROM': str})"
   ]
  },
  {
   "cell_type": "code",
   "execution_count": 6,
   "metadata": {
    "collapsed": false,
    "deletable": true,
    "editable": true
   },
   "outputs": [],
   "source": [
    "Data_2016 = pd.read_excel(\"Data/PERM_Disclosure_Data_FY16.xlsx\")"
   ]
  },
  {
   "cell_type": "code",
   "execution_count": 7,
   "metadata": {
    "collapsed": true,
    "deletable": true,
    "editable": true
   },
   "outputs": [],
   "source": [
    "#pd.to_datetime(Data_2015['RI_LOCAL_ETHNIC_PAPER_FROM'].iloc[2][:10], format='%Y-%m-%d')\n",
    "#datetime.strptime(Data_2015['RI_LOCAL_ETHNIC_PAPER_FROM'].iloc[2][:10], '%m%Y')\n",
    "\n",
    "Data_2015['RI_LOCAL_ETHNIC_PAPER_FROM'] = np.where(Data_2015['RI_LOCAL_ETHNIC_PAPER_FROM'].isnull(), pd.NaT, Data_2015['RI_LOCAL_ETHNIC_PAPER_FROM'])"
   ]
  },
  {
   "cell_type": "code",
   "execution_count": 8,
   "metadata": {
    "collapsed": false,
    "deletable": true,
    "editable": true
   },
   "outputs": [
    {
     "ename": "OutOfBoundsDatetime",
     "evalue": "Out of bounds nanosecond timestamp: 1014-10-22 00:00:00",
     "output_type": "error",
     "traceback": [
      "\u001b[0;31m---------------------------------------------------------------------------\u001b[0m",
      "\u001b[0;31mTypeError\u001b[0m                                 Traceback (most recent call last)",
      "\u001b[0;32m/Users/James/anaconda3/lib/python3.5/site-packages/pandas/core/tools/datetimes.py\u001b[0m in \u001b[0;36m_convert_listlike\u001b[0;34m(arg, box, format, name, tz)\u001b[0m\n\u001b[1;32m    443\u001b[0m             \u001b[0;32mtry\u001b[0m\u001b[0;34m:\u001b[0m\u001b[0;34m\u001b[0m\u001b[0m\n\u001b[0;32m--> 444\u001b[0;31m                 \u001b[0mvalues\u001b[0m\u001b[0;34m,\u001b[0m \u001b[0mtz\u001b[0m \u001b[0;34m=\u001b[0m \u001b[0mtslib\u001b[0m\u001b[0;34m.\u001b[0m\u001b[0mdatetime_to_datetime64\u001b[0m\u001b[0;34m(\u001b[0m\u001b[0marg\u001b[0m\u001b[0;34m)\u001b[0m\u001b[0;34m\u001b[0m\u001b[0m\n\u001b[0m\u001b[1;32m    445\u001b[0m                 \u001b[0;32mreturn\u001b[0m \u001b[0mDatetimeIndex\u001b[0m\u001b[0;34m.\u001b[0m\u001b[0m_simple_new\u001b[0m\u001b[0;34m(\u001b[0m\u001b[0mvalues\u001b[0m\u001b[0;34m,\u001b[0m \u001b[0mname\u001b[0m\u001b[0;34m=\u001b[0m\u001b[0mname\u001b[0m\u001b[0;34m,\u001b[0m \u001b[0mtz\u001b[0m\u001b[0;34m=\u001b[0m\u001b[0mtz\u001b[0m\u001b[0;34m)\u001b[0m\u001b[0;34m\u001b[0m\u001b[0m\n",
      "\u001b[0;32mpandas/_libs/tslib.pyx\u001b[0m in \u001b[0;36mpandas._libs.tslib.datetime_to_datetime64 (pandas/_libs/tslib.c:33275)\u001b[0;34m()\u001b[0m\n",
      "\u001b[0;31mTypeError\u001b[0m: Unrecognized value type: <class 'str'>",
      "\nDuring handling of the above exception, another exception occurred:\n",
      "\u001b[0;31mOutOfBoundsDatetime\u001b[0m                       Traceback (most recent call last)",
      "\u001b[0;32m<ipython-input-8-c4ef5e7d69a2>\u001b[0m in \u001b[0;36m<module>\u001b[0;34m()\u001b[0m\n\u001b[0;32m----> 1\u001b[0;31m \u001b[0mData_2015\u001b[0m\u001b[0;34m[\u001b[0m\u001b[0;34m'RI_LOCAL_ETHNIC_PAPER_FROM'\u001b[0m\u001b[0;34m]\u001b[0m  \u001b[0;34m=\u001b[0m \u001b[0mpd\u001b[0m\u001b[0;34m.\u001b[0m\u001b[0mto_datetime\u001b[0m\u001b[0;34m(\u001b[0m\u001b[0mData_2015\u001b[0m\u001b[0;34m[\u001b[0m\u001b[0;34m'RI_LOCAL_ETHNIC_PAPER_FROM'\u001b[0m\u001b[0;34m]\u001b[0m \u001b[0;34m)\u001b[0m\u001b[0;34m\u001b[0m\u001b[0m\n\u001b[0m",
      "\u001b[0;32m/Users/James/anaconda3/lib/python3.5/site-packages/pandas/core/tools/datetimes.py\u001b[0m in \u001b[0;36mto_datetime\u001b[0;34m(arg, errors, dayfirst, yearfirst, utc, box, format, exact, unit, infer_datetime_format, origin)\u001b[0m\n\u001b[1;32m    507\u001b[0m     \u001b[0;32melif\u001b[0m \u001b[0misinstance\u001b[0m\u001b[0;34m(\u001b[0m\u001b[0marg\u001b[0m\u001b[0;34m,\u001b[0m \u001b[0mABCSeries\u001b[0m\u001b[0;34m)\u001b[0m\u001b[0;34m:\u001b[0m\u001b[0;34m\u001b[0m\u001b[0m\n\u001b[1;32m    508\u001b[0m         \u001b[0;32mfrom\u001b[0m \u001b[0mpandas\u001b[0m \u001b[0;32mimport\u001b[0m \u001b[0mSeries\u001b[0m\u001b[0;34m\u001b[0m\u001b[0m\n\u001b[0;32m--> 509\u001b[0;31m         \u001b[0mvalues\u001b[0m \u001b[0;34m=\u001b[0m \u001b[0m_convert_listlike\u001b[0m\u001b[0;34m(\u001b[0m\u001b[0marg\u001b[0m\u001b[0;34m.\u001b[0m\u001b[0m_values\u001b[0m\u001b[0;34m,\u001b[0m \u001b[0;32mFalse\u001b[0m\u001b[0;34m,\u001b[0m \u001b[0mformat\u001b[0m\u001b[0;34m)\u001b[0m\u001b[0;34m\u001b[0m\u001b[0m\n\u001b[0m\u001b[1;32m    510\u001b[0m         \u001b[0mresult\u001b[0m \u001b[0;34m=\u001b[0m \u001b[0mSeries\u001b[0m\u001b[0;34m(\u001b[0m\u001b[0mvalues\u001b[0m\u001b[0;34m,\u001b[0m \u001b[0mindex\u001b[0m\u001b[0;34m=\u001b[0m\u001b[0marg\u001b[0m\u001b[0;34m.\u001b[0m\u001b[0mindex\u001b[0m\u001b[0;34m,\u001b[0m \u001b[0mname\u001b[0m\u001b[0;34m=\u001b[0m\u001b[0marg\u001b[0m\u001b[0;34m.\u001b[0m\u001b[0mname\u001b[0m\u001b[0;34m)\u001b[0m\u001b[0;34m\u001b[0m\u001b[0m\n\u001b[1;32m    511\u001b[0m     \u001b[0;32melif\u001b[0m \u001b[0misinstance\u001b[0m\u001b[0;34m(\u001b[0m\u001b[0marg\u001b[0m\u001b[0;34m,\u001b[0m \u001b[0;34m(\u001b[0m\u001b[0mABCDataFrame\u001b[0m\u001b[0;34m,\u001b[0m \u001b[0mMutableMapping\u001b[0m\u001b[0;34m)\u001b[0m\u001b[0;34m)\u001b[0m\u001b[0;34m:\u001b[0m\u001b[0;34m\u001b[0m\u001b[0m\n",
      "\u001b[0;32m/Users/James/anaconda3/lib/python3.5/site-packages/pandas/core/tools/datetimes.py\u001b[0m in \u001b[0;36m_convert_listlike\u001b[0;34m(arg, box, format, name, tz)\u001b[0m\n\u001b[1;32m    445\u001b[0m                 \u001b[0;32mreturn\u001b[0m \u001b[0mDatetimeIndex\u001b[0m\u001b[0;34m.\u001b[0m\u001b[0m_simple_new\u001b[0m\u001b[0;34m(\u001b[0m\u001b[0mvalues\u001b[0m\u001b[0;34m,\u001b[0m \u001b[0mname\u001b[0m\u001b[0;34m=\u001b[0m\u001b[0mname\u001b[0m\u001b[0;34m,\u001b[0m \u001b[0mtz\u001b[0m\u001b[0;34m=\u001b[0m\u001b[0mtz\u001b[0m\u001b[0;34m)\u001b[0m\u001b[0;34m\u001b[0m\u001b[0m\n\u001b[1;32m    446\u001b[0m             \u001b[0;32mexcept\u001b[0m \u001b[0;34m(\u001b[0m\u001b[0mValueError\u001b[0m\u001b[0;34m,\u001b[0m \u001b[0mTypeError\u001b[0m\u001b[0;34m)\u001b[0m\u001b[0;34m:\u001b[0m\u001b[0;34m\u001b[0m\u001b[0m\n\u001b[0;32m--> 447\u001b[0;31m                 \u001b[0;32mraise\u001b[0m \u001b[0me\u001b[0m\u001b[0;34m\u001b[0m\u001b[0m\n\u001b[0m\u001b[1;32m    448\u001b[0m \u001b[0;34m\u001b[0m\u001b[0m\n\u001b[1;32m    449\u001b[0m     \u001b[0;32mif\u001b[0m \u001b[0marg\u001b[0m \u001b[0;32mis\u001b[0m \u001b[0;32mNone\u001b[0m\u001b[0;34m:\u001b[0m\u001b[0;34m\u001b[0m\u001b[0m\n",
      "\u001b[0;32m/Users/James/anaconda3/lib/python3.5/site-packages/pandas/core/tools/datetimes.py\u001b[0m in \u001b[0;36m_convert_listlike\u001b[0;34m(arg, box, format, name, tz)\u001b[0m\n\u001b[1;32m    433\u001b[0m                     \u001b[0mdayfirst\u001b[0m\u001b[0;34m=\u001b[0m\u001b[0mdayfirst\u001b[0m\u001b[0;34m,\u001b[0m\u001b[0;34m\u001b[0m\u001b[0m\n\u001b[1;32m    434\u001b[0m                     \u001b[0myearfirst\u001b[0m\u001b[0;34m=\u001b[0m\u001b[0myearfirst\u001b[0m\u001b[0;34m,\u001b[0m\u001b[0;34m\u001b[0m\u001b[0m\n\u001b[0;32m--> 435\u001b[0;31m                     \u001b[0mrequire_iso8601\u001b[0m\u001b[0;34m=\u001b[0m\u001b[0mrequire_iso8601\u001b[0m\u001b[0;34m\u001b[0m\u001b[0m\n\u001b[0m\u001b[1;32m    436\u001b[0m                 )\n\u001b[1;32m    437\u001b[0m \u001b[0;34m\u001b[0m\u001b[0m\n",
      "\u001b[0;32mpandas/_libs/tslib.pyx\u001b[0m in \u001b[0;36mpandas._libs.tslib.array_to_datetime (pandas/_libs/tslib.c:46617)\u001b[0;34m()\u001b[0m\n",
      "\u001b[0;32mpandas/_libs/tslib.pyx\u001b[0m in \u001b[0;36mpandas._libs.tslib.array_to_datetime (pandas/_libs/tslib.c:45511)\u001b[0;34m()\u001b[0m\n",
      "\u001b[0;32mpandas/_libs/tslib.pyx\u001b[0m in \u001b[0;36mpandas._libs.tslib.array_to_datetime (pandas/_libs/tslib.c:44978)\u001b[0;34m()\u001b[0m\n",
      "\u001b[0;32mpandas/_libs/tslib.pyx\u001b[0m in \u001b[0;36mpandas._libs.tslib.array_to_datetime (pandas/_libs/tslib.c:44859)\u001b[0;34m()\u001b[0m\n",
      "\u001b[0;32mpandas/_libs/tslib.pyx\u001b[0m in \u001b[0;36mpandas._libs.tslib.convert_to_tsobject (pandas/_libs/tslib.c:28598)\u001b[0;34m()\u001b[0m\n",
      "\u001b[0;32mpandas/_libs/tslib.pyx\u001b[0m in \u001b[0;36mpandas._libs.tslib._check_dts_bounds (pandas/_libs/tslib.c:32752)\u001b[0;34m()\u001b[0m\n",
      "\u001b[0;31mOutOfBoundsDatetime\u001b[0m: Out of bounds nanosecond timestamp: 1014-10-22 00:00:00"
     ]
    }
   ],
   "source": [
    "Data_2015['RI_LOCAL_ETHNIC_PAPER_FROM']  = pd.to_datetime(Data_2015['RI_LOCAL_ETHNIC_PAPER_FROM'] )"
   ]
  },
  {
   "cell_type": "code",
   "execution_count": null,
   "metadata": {
    "collapsed": false,
    "deletable": true,
    "editable": true
   },
   "outputs": [],
   "source": [
    "Data_2015.dtypes"
   ]
  },
  {
   "cell_type": "code",
   "execution_count": 9,
   "metadata": {
    "collapsed": true,
    "deletable": true,
    "editable": true
   },
   "outputs": [],
   "source": [
    "nm15 = list(Data_2015.columns.values)\n",
    "nm16 = list(Data_2016.columns.values)\n",
    "nm17 = list(Data_2017.columns.values)"
   ]
  },
  {
   "cell_type": "code",
   "execution_count": 10,
   "metadata": {
    "collapsed": true,
    "deletable": true,
    "editable": true
   },
   "outputs": [],
   "source": [
    "#Change the column names so they match between years\n",
    "Data_2016=Data_2016.rename(columns = {'FW_INFO_REL_OCCUP_EXPERIENCE':'FW_INFO_REL_OCCUP_EXP'})\n",
    "Data_2015=Data_2015.rename(columns = {'JI_FOREIGN_WORKER_LIVE_ON_PREMISES':'JI_FW_LIVE_ON_PREMISES'})\n",
    "Data_2015=Data_2015.rename(columns = {'REC_INFO_BARG_REP_NOTIFIED':'RECR_INFO_BARG_REP_NOTIFIED'})\n",
    "Data_2015=Data_2015.rename(columns = {'JI_OFFERED_TO_SEC_J_FOREIGN_WORKER':'JI_OFFERED_TO_SEC_J_FW'})\n",
    "Data_2017=Data_2017.rename(columns = {'PW_JOB_TITLE_9089':'PW_Job_Title_9089'})"
   ]
  },
  {
   "cell_type": "code",
   "execution_count": 11,
   "metadata": {
    "collapsed": true,
    "deletable": true,
    "editable": true
   },
   "outputs": [],
   "source": [
    "frames = [Data_2015, Data_2016, Data_2016]\n",
    "\n",
    "data = pd.concat(frames)"
   ]
  },
  {
   "cell_type": "code",
   "execution_count": 12,
   "metadata": {
    "collapsed": false,
    "deletable": true,
    "editable": true
   },
   "outputs": [
    {
     "data": {
      "text/plain": [
       "(341585, 125)"
      ]
     },
     "execution_count": 12,
     "metadata": {},
     "output_type": "execute_result"
    }
   ],
   "source": [
    "data.shape\n",
    "#number of rows, cols"
   ]
  },
  {
   "cell_type": "markdown",
   "metadata": {
    "deletable": true,
    "editable": true
   },
   "source": [
    "## General EDA"
   ]
  },
  {
   "cell_type": "code",
   "execution_count": 13,
   "metadata": {
    "collapsed": false,
    "deletable": true,
    "editable": true
   },
   "outputs": [
    {
     "data": {
      "text/plain": [
       "array(['Certified-Expired', 'Certified', 'Denied', 'Withdrawn'], dtype=object)"
      ]
     },
     "execution_count": 13,
     "metadata": {},
     "output_type": "execute_result"
    }
   ],
   "source": [
    "data.CASE_STATUS.unique()"
   ]
  },
  {
   "cell_type": "code",
   "execution_count": 16,
   "metadata": {
    "collapsed": false,
    "deletable": true,
    "editable": true
   },
   "outputs": [],
   "source": [
    "jobStat = (data['CASE_STATUS'].value_counts(dropna=False) / data['CASE_STATUS'].value_counts(dropna=False).sum())"
   ]
  },
  {
   "cell_type": "code",
   "execution_count": 17,
   "metadata": {
    "collapsed": false,
    "deletable": true,
    "editable": true
   },
   "outputs": [
    {
     "data": {
      "text/plain": [
       "<matplotlib.axes._subplots.AxesSubplot at 0x1a341e2668>"
      ]
     },
     "execution_count": 17,
     "metadata": {},
     "output_type": "execute_result"
    },
    {
     "data": {
      "image/png": "[encoded data removed]",
      "text/plain": [
       "<matplotlib.figure.Figure at 0x1a34211e10>"
      ]
     },
     "metadata": {},
     "output_type": "display_data"
    }
   ],
   "source": [
    "%matplotlib inline\n",
    "import matplotlib.pyplot as plt\n",
    "#ind_code_det = ind_code_det.set_index('Name')\n",
    "jobStat.plot.barh()\n",
    "#plt.savefig('Industries.png')"
   ]
  },
  {
   "cell_type": "code",
   "execution_count": 31,
   "metadata": {
    "collapsed": false
   },
   "outputs": [],
   "source": [
    "newdata = data.loc[data['CASE_STATUS'].isin(['Denied','Certified'])]"
   ]
  },
  {
   "cell_type": "code",
   "execution_count": 32,
   "metadata": {
    "collapsed": false
   },
   "outputs": [
    {
     "data": {
      "text/plain": [
       "array(['Certified', 'Denied'], dtype=object)"
      ]
     },
     "execution_count": 32,
     "metadata": {},
     "output_type": "execute_result"
    }
   ],
   "source": [
    "newdata.CASE_STATUS.unique()"
   ]
  },
  {
   "cell_type": "code",
   "execution_count": 33,
   "metadata": {
    "collapsed": false,
    "deletable": true,
    "editable": true
   },
   "outputs": [
    {
     "data": {
      "text/plain": [
       "<matplotlib.axes._subplots.AxesSubplot at 0x1a3421c860>"
      ]
     },
     "execution_count": 33,
     "metadata": {},
     "output_type": "execute_result"
    },
    {
     "data": {
      "image/png": "[encoded data removed]",
      "text/plain": [
       "<matplotlib.figure.Figure at 0x1a3417be80>"
      ]
     },
     "metadata": {},
     "output_type": "display_data"
    }
   ],
   "source": [
    "jobStat = (newdata['CASE_STATUS'].value_counts(dropna=False) / newdata['CASE_STATUS'].value_counts(dropna=False).sum())\n",
    "%matplotlib inline\n",
    "import matplotlib.pyplot as plt\n",
    "#ind_code_det = ind_code_det.set_index('Name')\n",
    "jobStat.plot.barh()\n",
    "#plt.savefig('Industries.png')"
   ]
  },
  {
   "cell_type": "code",
   "execution_count": 35,
   "metadata": {
    "collapsed": true
   },
   "outputs": [],
   "source": [
    "import folium"
   ]
  },
  {
   "cell_type": "code",
   "execution_count": 36,
   "metadata": {
    "collapsed": false
   },
   "outputs": [
    {
     "data": {
      "text/plain": [
       "<folium.features.CircleMarker at 0x1a16c33780>"
      ]
     },
     "execution_count": 36,
     "metadata": {},
     "output_type": "execute_result"
    }
   ],
   "source": [
    "folium_map = folium.Map(location=[40.738, -73.98],\n",
    "                        zoom_start=13,\n",
    "                        tiles=\"CartoDB dark_matter\")\n",
    "marker = folium.CircleMarker(location=[40.738, -73.98])\n",
    "marker.add_to(folium_map)"
   ]
  },
  {
   "cell_type": "code",
   "execution_count": 37,
   "metadata": {
    "collapsed": true
   },
   "outputs": [],
   "source": [
    "folium_map.save(\"my_map.html\")"
   ]
  },
  {
   "cell_type": "code",
   "execution_count": 148,
   "metadata": {
    "collapsed": false,
    "deletable": true,
    "editable": true
   },
   "outputs": [
    {
     "data": {
      "text/plain": [
       "NaN    71.137199\n",
       "N      28.821816\n",
       "Y       0.040985\n",
       "Name: REFILE, dtype: float64"
      ]
     },
     "execution_count": 148,
     "metadata": {},
     "output_type": "execute_result"
    }
   ],
   "source": [
    "(data['REFILE'].value_counts(dropna=False) / data['REFILE'].value_counts(dropna=False).sum()) * 100\n",
    "#small percentage of refile, no need"
   ]
  },
  {
   "cell_type": "code",
   "execution_count": 150,
   "metadata": {
    "collapsed": false,
    "deletable": true,
    "editable": true
   },
   "outputs": [
    {
     "data": {
      "text/plain": [
       "N      99.990046\n",
       "NaN     0.009954\n",
       "Name: SCHD_A_SHEEPHERDER, dtype: float64"
      ]
     },
     "execution_count": 150,
     "metadata": {},
     "output_type": "execute_result"
    }
   ],
   "source": [
    "(data['SCHD_A_SHEEPHERDER'].value_counts(dropna=False) / data['SCHD_A_SHEEPHERDER'].value_counts(dropna=False).sum()) * 100"
   ]
  },
  {
   "cell_type": "code",
   "execution_count": 92,
   "metadata": {
    "collapsed": false,
    "deletable": true,
    "editable": true
   },
   "outputs": [
    {
     "data": {
      "text/plain": [
       "341462"
      ]
     },
     "execution_count": 92,
     "metadata": {},
     "output_type": "execute_result"
    }
   ],
   "source": [
    "data['EMPLOYER_NUM_EMPLOYEES'].count()"
   ]
  },
  {
   "cell_type": "code",
   "execution_count": 151,
   "metadata": {
    "collapsed": false,
    "deletable": true,
    "editable": true
   },
   "outputs": [
    {
     "data": {
      "text/plain": [
       "N      99.418007\n",
       "Y       0.488019\n",
       "NaN     0.093974\n",
       "Name: FW_OWNERSHIP_INTEREST, dtype: float64"
      ]
     },
     "execution_count": 151,
     "metadata": {},
     "output_type": "execute_result"
    }
   ],
   "source": [
    "(data['FW_OWNERSHIP_INTEREST'].value_counts(dropna=False) / data['FW_OWNERSHIP_INTEREST'].value_counts(dropna=False).sum()) * 100"
   ]
  },
  {
   "cell_type": "code",
   "execution_count": 406,
   "metadata": {
    "collapsed": false,
    "deletable": true,
    "editable": true
   },
   "outputs": [
    {
     "data": {
      "text/plain": [
       "13.221013803299325"
      ]
     },
     "execution_count": 406,
     "metadata": {},
     "output_type": "execute_result"
    }
   ],
   "source": [
    "data['AGENT_FIRM_NAME'].isnull().sum() / 341585 * 100"
   ]
  },
  {
   "cell_type": "code",
   "execution_count": 152,
   "metadata": {
    "collapsed": false,
    "deletable": true,
    "editable": true
   },
   "outputs": [
    {
     "data": {
      "text/plain": [
       "Y      99.981264\n",
       "N       0.013759\n",
       "NaN     0.004977\n",
       "Name: JI_OFFERED_TO_SEC_J_FW, dtype: float64"
      ]
     },
     "execution_count": 152,
     "metadata": {},
     "output_type": "execute_result"
    }
   ],
   "source": [
    "(data['JI_OFFERED_TO_SEC_J_FW'].value_counts(dropna=False) / data['JI_OFFERED_TO_SEC_J_FW'].value_counts(dropna=False).sum()) * 100"
   ]
  },
  {
   "cell_type": "code",
   "execution_count": 153,
   "metadata": {
    "collapsed": false,
    "deletable": true,
    "editable": true
   },
   "outputs": [
    {
     "data": {
      "text/plain": [
       "N      99.770189\n",
       "Y       0.136130\n",
       "NaN     0.093681\n",
       "Name: JI_FW_LIVE_ON_PREMISES, dtype: float64"
      ]
     },
     "execution_count": 153,
     "metadata": {},
     "output_type": "execute_result"
    }
   ],
   "source": [
    "(data['JI_FW_LIVE_ON_PREMISES'].value_counts(dropna=False) / data['JI_FW_LIVE_ON_PREMISES'].value_counts(dropna=False).sum()) * 100"
   ]
  },
  {
   "cell_type": "code",
   "execution_count": 154,
   "metadata": {
    "collapsed": false,
    "deletable": true,
    "editable": true
   },
   "outputs": [
    {
     "data": {
      "text/plain": [
       "N      99.828740\n",
       "NaN     0.094852\n",
       "Y       0.076409\n",
       "Name: JI_LIVE_IN_DOMESTIC_SERVICE, dtype: float64"
      ]
     },
     "execution_count": 154,
     "metadata": {},
     "output_type": "execute_result"
    }
   ],
   "source": [
    "(data['JI_LIVE_IN_DOMESTIC_SERVICE'].value_counts(dropna=False) / data['JI_LIVE_IN_DOMESTIC_SERVICE'].value_counts(dropna=False).sum()) * 100"
   ]
  },
  {
   "cell_type": "code",
   "execution_count": 155,
   "metadata": {
    "collapsed": false,
    "deletable": true,
    "editable": true
   },
   "outputs": [
    {
     "data": {
      "text/plain": [
       "NaN    98.919156\n",
       "A       0.926856\n",
       "Y       0.076994\n",
       "N       0.076994\n",
       "Name: JI_LIVE_IN_DOM_SVC_CONTRACT, dtype: float64"
      ]
     },
     "execution_count": 155,
     "metadata": {},
     "output_type": "execute_result"
    }
   ],
   "source": [
    "(data['JI_LIVE_IN_DOM_SVC_CONTRACT'].value_counts(dropna=False) / data['JI_LIVE_IN_DOM_SVC_CONTRACT'].value_counts(dropna=False).sum()) * 100"
   ]
  },
  {
   "cell_type": "code",
   "execution_count": null,
   "metadata": {
    "collapsed": true,
    "deletable": true,
    "editable": true
   },
   "outputs": [],
   "source": [
    "RI_LAYOFF_IN_PAST_SIX_MONTHS"
   ]
  },
  {
   "cell_type": "code",
   "execution_count": 156,
   "metadata": {
    "collapsed": false,
    "deletable": true,
    "editable": true
   },
   "outputs": [
    {
     "data": {
      "text/plain": [
       "N      99.983606\n",
       "NaN     0.009661\n",
       "Y       0.006733\n",
       "Name: RECR_INFO_EMPLOYER_REC_PAYMENT, dtype: float64"
      ]
     },
     "execution_count": 156,
     "metadata": {},
     "output_type": "execute_result"
    }
   ],
   "source": [
    "(data['RECR_INFO_EMPLOYER_REC_PAYMENT'].value_counts(dropna=False) / data['RECR_INFO_EMPLOYER_REC_PAYMENT'].value_counts(dropna=False).sum()) * 100"
   ]
  },
  {
   "cell_type": "code",
   "execution_count": 157,
   "metadata": {
    "collapsed": false,
    "deletable": true,
    "editable": true
   },
   "outputs": [
    {
     "data": {
      "text/plain": [
       "N      95.902338\n",
       "Y       4.082146\n",
       "NaN     0.015516\n",
       "Name: RI_LAYOFF_IN_PAST_SIX_MONTHS, dtype: float64"
      ]
     },
     "execution_count": 157,
     "metadata": {},
     "output_type": "execute_result"
    }
   ],
   "source": [
    "(data['RI_LAYOFF_IN_PAST_SIX_MONTHS'].value_counts(dropna=False) / data['RI_LAYOFF_IN_PAST_SIX_MONTHS'].value_counts(dropna=False).sum()) * 100"
   ]
  },
  {
   "cell_type": "code",
   "execution_count": 158,
   "metadata": {
    "collapsed": false,
    "deletable": true,
    "editable": true
   },
   "outputs": [
    {
     "data": {
      "text/plain": [
       "NaN    92.426482\n",
       "Y       3.790565\n",
       "A       3.698933\n",
       "N       0.084020\n",
       "Name: RI_US_WORKERS_CONSIDERED, dtype: float64"
      ]
     },
     "execution_count": 158,
     "metadata": {},
     "output_type": "execute_result"
    }
   ],
   "source": [
    "(data['RI_US_WORKERS_CONSIDERED'].value_counts(dropna=False) / data['RI_US_WORKERS_CONSIDERED'].value_counts(dropna=False).sum()) * 100"
   ]
  },
  {
   "cell_type": "code",
   "execution_count": 159,
   "metadata": {
    "collapsed": false,
    "deletable": true,
    "editable": true
   },
   "outputs": [
    {
     "data": {
      "text/plain": [
       "NaN    96.971178\n",
       "N       2.690106\n",
       "Y       0.338715\n",
       "Name: RI_COLL_TCH_BASIC_PROCESS, dtype: float64"
      ]
     },
     "execution_count": 159,
     "metadata": {},
     "output_type": "execute_result"
    }
   ],
   "source": [
    "(data['RI_COLL_TCH_BASIC_PROCESS'].value_counts(dropna=False) / data['RI_COLL_TCH_BASIC_PROCESS'].value_counts(dropna=False).sum()) * 100"
   ]
  },
  {
   "cell_type": "markdown",
   "metadata": {
    "deletable": true,
    "editable": true
   },
   "source": [
    "## Education: required and of FW"
   ]
  },
  {
   "cell_type": "code",
   "execution_count": 411,
   "metadata": {
    "collapsed": true,
    "deletable": true,
    "editable": true
   },
   "outputs": [],
   "source": [
    "job_info = (data['JOB_INFO_EDUCATION'].value_counts(dropna=False) / data['JOB_INFO_EDUCATION'].value_counts(dropna=False).sum()) * 100"
   ]
  },
  {
   "cell_type": "code",
   "execution_count": 421,
   "metadata": {
    "collapsed": true,
    "deletable": true,
    "editable": true
   },
   "outputs": [],
   "source": [
    "tmp_pivot = pd.pivot_table(pd.DataFrame(job_info).reset_index(), columns = ['index'])"
   ]
  },
  {
   "cell_type": "code",
   "execution_count": 527,
   "metadata": {
    "collapsed": true,
    "deletable": true,
    "editable": true
   },
   "outputs": [],
   "source": [
    "tmp_pivot = tmp_pivot.reset_index()\n",
    "del tmp_pivot['index']"
   ]
  },
  {
   "cell_type": "code",
   "execution_count": 529,
   "metadata": {
    "collapsed": false,
    "deletable": true,
    "editable": true
   },
   "outputs": [
    {
     "data": {
      "image/png": "[encoded data removed]",
      "text/plain": [
       "<matplotlib.figure.Figure at 0x1a772d7cc0>"
      ]
     },
     "metadata": {},
     "output_type": "display_data"
    }
   ],
   "source": [
    "%matplotlib inline\n",
    "import matplotlib.pyplot as plt\n",
    "#ind_code_det = ind_code_det.set_index('Name')\n",
    "tmp_pivot.plot.bar(stacked=True)\n",
    "plt.xlabel(\"\")\n",
    "plt.savefig('Education degree mins.png')"
   ]
  },
  {
   "cell_type": "code",
   "execution_count": 530,
   "metadata": {
    "collapsed": true,
    "deletable": true,
    "editable": true
   },
   "outputs": [],
   "source": [
    "fw_info = (data['FOREIGN_WORKER_INFO_EDUCATION'].value_counts(dropna=False) / data['FOREIGN_WORKER_INFO_EDUCATION'].value_counts(dropna=False).sum()) * 100"
   ]
  },
  {
   "cell_type": "code",
   "execution_count": 533,
   "metadata": {
    "collapsed": false,
    "deletable": true,
    "editable": true
   },
   "outputs": [
    {
     "data": {
      "text/plain": [
       "Master's       43.118697\n",
       "Bachelor's     36.756005\n",
       "None            7.813868\n",
       "Doctorate       5.100048\n",
       "Other           4.283268\n",
       "High School     1.857517\n",
       "Associate's     0.965206\n",
       "NaN             0.105391\n",
       "Name: FOREIGN_WORKER_INFO_EDUCATION, dtype: float64"
      ]
     },
     "execution_count": 533,
     "metadata": {},
     "output_type": "execute_result"
    }
   ],
   "source": [
    "fw_info"
   ]
  },
  {
   "cell_type": "code",
   "execution_count": 534,
   "metadata": {
    "collapsed": false,
    "deletable": true,
    "editable": true
   },
   "outputs": [
    {
     "data": {
      "image/png": "[encoded data removed]",
      "text/plain": [
       "<matplotlib.figure.Figure at 0x1a84510b00>"
      ]
     },
     "metadata": {},
     "output_type": "display_data"
    }
   ],
   "source": [
    "tmp_pivot2 = pd.pivot_table(pd.DataFrame(fw_info).reset_index(), columns = ['index'])\n",
    "tmp_pivot2 = tmp_pivot2.reset_index()\n",
    "del tmp_pivot2['index']\n",
    "%matplotlib inline\n",
    "import matplotlib.pyplot as plt\n",
    "#ind_code_det = ind_code_det.set_index('Name')\n",
    "tmp_pivot2.plot.bar(stacked=True)\n",
    "plt.xlabel(\"\")\n",
    "plt.savefig('Education degree of FW.png')"
   ]
  },
  {
   "cell_type": "markdown",
   "metadata": {
    "deletable": true,
    "editable": true
   },
   "source": [
    "## Prevailing wage and pay"
   ]
  },
  {
   "cell_type": "code",
   "execution_count": null,
   "metadata": {
    "collapsed": true,
    "deletable": true,
    "editable": true
   },
   "outputs": [],
   "source": [
    "tmp_wage = (data['PW_LEVEL_9089'].value_counts(dropna=False) / data['PW_LEVEL_9089'].value_counts(dropna=False).sum()) * 100\n",
    "#Level I entry\n",
    "#LEvel II qualified\n",
    "#Level III experienced\n",
    "#LEvel IV fully qualified"
   ]
  },
  {
   "cell_type": "code",
   "execution_count": 424,
   "metadata": {
    "collapsed": false,
    "deletable": true,
    "editable": true
   },
   "outputs": [
    {
     "data": {
      "text/plain": [
       "<matplotlib.axes._subplots.AxesSubplot at 0x1a83406eb8>"
      ]
     },
     "execution_count": 424,
     "metadata": {},
     "output_type": "execute_result"
    },
    {
     "data": {
      "image/png": "[encoded data removed]",
      "text/plain": [
       "<matplotlib.figure.Figure at 0x1a76d56d68>"
      ]
     },
     "metadata": {},
     "output_type": "display_data"
    }
   ],
   "source": [
    "%matplotlib inline\n",
    "import matplotlib.pyplot as plt\n",
    "#ind_code_det = ind_code_det.set_index('Name')\n",
    "tmp_wage.plot.barh()\n",
    "#plt.savefig('Industries.png')"
   ]
  },
  {
   "cell_type": "code",
   "execution_count": 535,
   "metadata": {
    "collapsed": false,
    "deletable": true,
    "editable": true
   },
   "outputs": [
    {
     "data": {
      "text/plain": [
       "Year         96.366644\n",
       "Hour          3.150607\n",
       "NaN           0.377651\n",
       "Week          0.058551\n",
       "Month         0.036887\n",
       "Bi-Weekly     0.009661\n",
       "Name: WAGE_OFFER_UNIT_OF_PAY_9089, dtype: float64"
      ]
     },
     "execution_count": 535,
     "metadata": {},
     "output_type": "execute_result"
    }
   ],
   "source": [
    "(data['WAGE_OFFER_UNIT_OF_PAY_9089'].value_counts(dropna=False) / data['WAGE_OFFER_UNIT_OF_PAY_9089'].value_counts(dropna=False).sum()) * 100"
   ]
  },
  {
   "cell_type": "code",
   "execution_count": 559,
   "metadata": {
    "collapsed": false,
    "deletable": true,
    "editable": true
   },
   "outputs": [
    {
     "name": "stderr",
     "output_type": "stream",
     "text": [
      "/anaconda3/envs/py36/lib/python3.6/site-packages/ipykernel_launcher.py:3: SettingWithCopyWarning: \n",
      "A value is trying to be set on a copy of a slice from a DataFrame.\n",
      "Try using .loc[row_indexer,col_indexer] = value instead\n",
      "\n",
      "See the caveats in the documentation: http://pandas.pydata.org/pandas-docs/stable/indexing.html#indexing-view-versus-copy\n",
      "  This is separate from the ipykernel package so we can avoid doing imports until\n",
      "/anaconda3/envs/py36/lib/python3.6/site-packages/ipykernel_launcher.py:4: SettingWithCopyWarning: \n",
      "A value is trying to be set on a copy of a slice from a DataFrame.\n",
      "Try using .loc[row_indexer,col_indexer] = value instead\n",
      "\n",
      "See the caveats in the documentation: http://pandas.pydata.org/pandas-docs/stable/indexing.html#indexing-view-versus-copy\n",
      "  after removing the cwd from sys.path.\n",
      "/anaconda3/envs/py36/lib/python3.6/site-packages/ipykernel_launcher.py:5: SettingWithCopyWarning: \n",
      "A value is trying to be set on a copy of a slice from a DataFrame.\n",
      "Try using .loc[row_indexer,col_indexer] = value instead\n",
      "\n",
      "See the caveats in the documentation: http://pandas.pydata.org/pandas-docs/stable/indexing.html#indexing-view-versus-copy\n",
      "  \"\"\"\n",
      "/anaconda3/envs/py36/lib/python3.6/site-packages/ipykernel_launcher.py:6: SettingWithCopyWarning: \n",
      "A value is trying to be set on a copy of a slice from a DataFrame.\n",
      "Try using .loc[row_indexer,col_indexer] = value instead\n",
      "\n",
      "See the caveats in the documentation: http://pandas.pydata.org/pandas-docs/stable/indexing.html#indexing-view-versus-copy\n",
      "  \n",
      "/anaconda3/envs/py36/lib/python3.6/site-packages/ipykernel_launcher.py:7: SettingWithCopyWarning: \n",
      "A value is trying to be set on a copy of a slice from a DataFrame.\n",
      "Try using .loc[row_indexer,col_indexer] = value instead\n",
      "\n",
      "See the caveats in the documentation: http://pandas.pydata.org/pandas-docs/stable/indexing.html#indexing-view-versus-copy\n",
      "  import sys\n",
      "/anaconda3/envs/py36/lib/python3.6/site-packages/ipykernel_launcher.py:8: SettingWithCopyWarning: \n",
      "A value is trying to be set on a copy of a slice from a DataFrame.\n",
      "Try using .loc[row_indexer,col_indexer] = value instead\n",
      "\n",
      "See the caveats in the documentation: http://pandas.pydata.org/pandas-docs/stable/indexing.html#indexing-view-versus-copy\n",
      "  \n"
     ]
    }
   ],
   "source": [
    "#For wages that have a to and from, Im just gonna take the average\n",
    "data_wage = data[['WAGE_OFFER_UNIT_OF_PAY_9089','WAGE_OFFER_FROM_9089','WAGE_OFFER_TO_9089','CASE_STATUS']]\n",
    "#cleaning up the wages\n",
    "#pd.to_numeric(data_wage['WAGE_OFFER_FROM_9089'])\n",
    "data_wage['WAGE_OFFER_FROM_9089'] = data_wage['WAGE_OFFER_FROM_9089'].apply(lambda word: str(word).replace(\"#\", \"\"))\n",
    "data_wage['WAGE_OFFER_FROM_9089'] = data_wage['WAGE_OFFER_FROM_9089'].replace({\"nan\": np.NaN})\n",
    "data_wage['WAGE_OFFER_FROM_9089'] = pd.to_numeric(data_wage['WAGE_OFFER_FROM_9089'])\n",
    "data_wage['WAGE_OFFER_TO_9089'] = data_wage['WAGE_OFFER_TO_9089'].apply(lambda word: str(word).replace(\"#\", \"\"))\n",
    "data_wage['WAGE_OFFER_TO_9089'] = data_wage['WAGE_OFFER_TO_9089'].replace({\"nan\": np.NaN})\n",
    "data_wage['WAGE_OFFER_TO_9089'] = pd.to_numeric(data_wage['WAGE_OFFER_TO_9089'])"
   ]
  },
  {
   "cell_type": "code",
   "execution_count": 560,
   "metadata": {
    "collapsed": false,
    "deletable": true,
    "editable": true
   },
   "outputs": [
    {
     "name": "stderr",
     "output_type": "stream",
     "text": [
      "/anaconda3/envs/py36/lib/python3.6/site-packages/ipykernel_launcher.py:2: SettingWithCopyWarning: \n",
      "A value is trying to be set on a copy of a slice from a DataFrame.\n",
      "Try using .loc[row_indexer,col_indexer] = value instead\n",
      "\n",
      "See the caveats in the documentation: http://pandas.pydata.org/pandas-docs/stable/indexing.html#indexing-view-versus-copy\n",
      "  \n"
     ]
    }
   ],
   "source": [
    "#Getting average wage for to - from\n",
    "data_wage['Avg_Wage'] = np.where(pd.isnull(data_wage['WAGE_OFFER_TO_9089']) == True, ((data_wage['WAGE_OFFER_TO_9089']+ data_wage['WAGE_OFFER_FROM_9089']) / 2),data_wage['WAGE_OFFER_FROM_9089']) "
   ]
  },
  {
   "cell_type": "code",
   "execution_count": 562,
   "metadata": {
    "collapsed": true,
    "deletable": true,
    "editable": true
   },
   "outputs": [],
   "source": [
    "def get_y_wage(df):\n",
    "    if df['WAGE_OFFER_UNIT_OF_PAY_9089'] == 'Hour':\n",
    "        df['Year_wage'] = df['Avg_Wage'] * 52 * 40\n",
    "    elif df['WAGE_OFFER_UNIT_OF_PAY_9089'] == 'Week':\n",
    "        df['Year_wage'] = df['Avg_Wage'] * 52 \n",
    "    elif df['WAGE_OFFER_UNIT_OF_PAY_9089'] == 'Month':\n",
    "        df['Year_wage'] = df['Avg_Wage'] * 12\n",
    "    elif df['WAGE_OFFER_UNIT_OF_PAY_9089'] == 'Bi-Weekly':\n",
    "        df['Year_wage'] = df['Avg_Wage'] * 26 \n",
    "    elif  df['WAGE_OFFER_UNIT_OF_PAY_9089'] == 'Year':\n",
    "        df['Year_wage'] = df['Avg_Wage'] \n",
    "    else:\n",
    "        df['Year_wage'] = np.NaN"
   ]
  },
  {
   "cell_type": "code",
   "execution_count": 563,
   "metadata": {
    "collapsed": false,
    "deletable": true,
    "editable": true
   },
   "outputs": [
    {
     "ename": "ValueError",
     "evalue": "The truth value of a Series is ambiguous. Use a.empty, a.bool(), a.item(), a.any() or a.all().",
     "output_type": "error",
     "traceback": [
      "\u001b[0;31m---------------------------------------------------------------------------\u001b[0m",
      "\u001b[0;31mValueError\u001b[0m                                Traceback (most recent call last)",
      "\u001b[0;32m<ipython-input-563-72d151fec984>\u001b[0m in \u001b[0;36m<module>\u001b[0;34m()\u001b[0m\n\u001b[0;32m----> 1\u001b[0;31m \u001b[0mget_y_wage\u001b[0m\u001b[0;34m(\u001b[0m\u001b[0mdata_wage\u001b[0m\u001b[0;34m)\u001b[0m\u001b[0;34m\u001b[0m\u001b[0m\n\u001b[0m",
      "\u001b[0;32m<ipython-input-562-fe5a7fdfe89d>\u001b[0m in \u001b[0;36mget_y_wage\u001b[0;34m(df)\u001b[0m\n\u001b[1;32m      1\u001b[0m \u001b[0;32mdef\u001b[0m \u001b[0mget_y_wage\u001b[0m\u001b[0;34m(\u001b[0m\u001b[0mdf\u001b[0m\u001b[0;34m)\u001b[0m\u001b[0;34m:\u001b[0m\u001b[0;34m\u001b[0m\u001b[0m\n\u001b[0;32m----> 2\u001b[0;31m     \u001b[0;32mif\u001b[0m \u001b[0mdf\u001b[0m\u001b[0;34m[\u001b[0m\u001b[0;34m'WAGE_OFFER_UNIT_OF_PAY_9089'\u001b[0m\u001b[0;34m]\u001b[0m \u001b[0;34m==\u001b[0m \u001b[0;34m'Hour'\u001b[0m\u001b[0;34m:\u001b[0m\u001b[0;34m\u001b[0m\u001b[0m\n\u001b[0m\u001b[1;32m      3\u001b[0m         \u001b[0mdf\u001b[0m\u001b[0;34m[\u001b[0m\u001b[0;34m'Year_wage'\u001b[0m\u001b[0;34m]\u001b[0m \u001b[0;34m=\u001b[0m \u001b[0mdf\u001b[0m\u001b[0;34m[\u001b[0m\u001b[0;34m'Avg_Wage'\u001b[0m\u001b[0;34m]\u001b[0m \u001b[0;34m*\u001b[0m \u001b[0;36m52\u001b[0m \u001b[0;34m*\u001b[0m \u001b[0;36m40\u001b[0m\u001b[0;34m\u001b[0m\u001b[0m\n\u001b[1;32m      4\u001b[0m     \u001b[0;32melif\u001b[0m \u001b[0mdf\u001b[0m\u001b[0;34m[\u001b[0m\u001b[0;34m'WAGE_OFFER_UNIT_OF_PAY_9089'\u001b[0m\u001b[0;34m]\u001b[0m \u001b[0;34m==\u001b[0m \u001b[0;34m'Week'\u001b[0m\u001b[0;34m:\u001b[0m\u001b[0;34m\u001b[0m\u001b[0m\n\u001b[1;32m      5\u001b[0m         \u001b[0mdf\u001b[0m\u001b[0;34m[\u001b[0m\u001b[0;34m'Year_wage'\u001b[0m\u001b[0;34m]\u001b[0m \u001b[0;34m=\u001b[0m \u001b[0mdf\u001b[0m\u001b[0;34m[\u001b[0m\u001b[0;34m'Avg_Wage'\u001b[0m\u001b[0;34m]\u001b[0m \u001b[0;34m*\u001b[0m \u001b[0;36m52\u001b[0m\u001b[0;34m\u001b[0m\u001b[0m\n",
      "\u001b[0;32m/anaconda3/envs/py36/lib/python3.6/site-packages/pandas/core/generic.py\u001b[0m in \u001b[0;36m__nonzero__\u001b[0;34m(self)\u001b[0m\n\u001b[1;32m    953\u001b[0m         raise ValueError(\"The truth value of a {0} is ambiguous. \"\n\u001b[1;32m    954\u001b[0m                          \u001b[0;34m\"Use a.empty, a.bool(), a.item(), a.any() or a.all().\"\u001b[0m\u001b[0;34m\u001b[0m\u001b[0m\n\u001b[0;32m--> 955\u001b[0;31m                          .format(self.__class__.__name__))\n\u001b[0m\u001b[1;32m    956\u001b[0m \u001b[0;34m\u001b[0m\u001b[0m\n\u001b[1;32m    957\u001b[0m     \u001b[0m__bool__\u001b[0m \u001b[0;34m=\u001b[0m \u001b[0m__nonzero__\u001b[0m\u001b[0;34m\u001b[0m\u001b[0m\n",
      "\u001b[0;31mValueError\u001b[0m: The truth value of a Series is ambiguous. Use a.empty, a.bool(), a.item(), a.any() or a.all()."
     ]
    }
   ],
   "source": [
    "get_y_wage(data_wage)"
   ]
  },
  {
   "cell_type": "code",
   "execution_count": null,
   "metadata": {
    "collapsed": true,
    "deletable": true,
    "editable": true
   },
   "outputs": [],
   "source": [
    "def getHistogram(title):\n",
    "    plt.hist(list(weight_dict.values()))\n",
    "    plt.title(title)\n",
    "    plt.xlabel(\"Value\")\n",
    "    plt.ylabel(\"Frequency\")\n",
    "    fig = plt.gcf()"
   ]
  },
  {
   "cell_type": "markdown",
   "metadata": {
    "deletable": true,
    "editable": true
   },
   "source": [
    "## Country of Applicant"
   ]
  },
  {
   "cell_type": "code",
   "execution_count": 425,
   "metadata": {
    "collapsed": true,
    "deletable": true,
    "editable": true
   },
   "outputs": [],
   "source": [
    "tmp_ctry = (data['COUNTRY_OF_CITIZENSHIP'].value_counts(dropna=False) / data['COUNTRY_OF_CITIZENSHIP'].value_counts(dropna=False).sum()) * 100"
   ]
  },
  {
   "cell_type": "code",
   "execution_count": 468,
   "metadata": {
    "collapsed": false,
    "deletable": true,
    "editable": true
   },
   "outputs": [
    {
     "data": {
      "image/png": "[encoded data removed]",
      "text/plain": [
       "<matplotlib.figure.Figure at 0x1a833a4940>"
      ]
     },
     "metadata": {},
     "output_type": "display_data"
    }
   ],
   "source": [
    "%matplotlib inline\n",
    "import matplotlib.pyplot as plt\n",
    "#ind_code_det = ind_code_det.set_index('Name')\n",
    "tmp_ctry.head(n=10).plot.barh()\n",
    "plt.tight_layout()\n",
    "plt.savefig(\"Country.png\")"
   ]
  },
  {
   "cell_type": "code",
   "execution_count": 164,
   "metadata": {
    "collapsed": false,
    "deletable": true,
    "editable": true,
    "scrolled": true
   },
   "outputs": [
    {
     "data": {
      "text/plain": [
       "NaN                                                                                                     96.784988\n",
       "MD                                                                                                       0.318515\n",
       "Medical Degree                                                                                           0.316759\n",
       "M.D.                                                                                                     0.241521\n",
       "Medical Degree or foreign equivalent                                                                     0.091924\n",
       "Medical degree                                                                                           0.091632\n",
       "Doctor of Medicine                                                                                       0.055330\n",
       "Juris Doctor                                                                                             0.052403\n",
       "Medical Degree (MD)                                                                                      0.050646\n",
       "MEDICAL DEGREE                                                                                           0.046255\n",
       "M.D. or D.O.                                                                                             0.041571\n",
       "Medical Degree (M.D.)                                                                                    0.038936\n",
       "DDS or DMD                                                                                               0.033374\n",
       "M.D. or foreign equivalent                                                                               0.033081\n",
       "MD or DO                                                                                                 0.032203\n",
       "Medical Doctor                                                                                           0.031617\n",
       "JD                                                                                                       0.030446\n",
       "M.D. Degree                                                                                              0.030154\n",
       "M.D. (Doctor of Medicine)                                                                                0.029861\n",
       "DVM                                                                                                      0.025470\n",
       "MEDICAL DEGREE OR EQUIVALENT                                                                             0.020493\n",
       "MD, DO                                                                                                   0.020200\n",
       "Doctor of Pharmacy                                                                                       0.019614\n",
       "Bachelor's Degree or equivalent in education,training and/or experience                                  0.019614\n",
       "Doctor of Medicine (MD)                                                                                  0.019029\n",
       "M.D., D.O. or foreign equivalent                                                                         0.018736\n",
       "DDS                                                                                                      0.018443\n",
       "First Professional Medical Degree                                                                        0.017565\n",
       "Doctor of Dental Surgery                                                                                 0.014345\n",
       "See H.14                                                                                                 0.014052\n",
       "                                                                                                          ...    \n",
       "LL. M. (ABA approved U.S. law school                                                                     0.000293\n",
       "Doctor (DDS or DMD)                                                                                      0.000293\n",
       "See H-14                                                                                                 0.000293\n",
       "Continued in H.14                                                                                        0.000293\n",
       "Pharm. D.                                                                                                0.000293\n",
       "Medical degree (MD)                                                                                      0.000293\n",
       "Three years of College Education                                                                         0.000293\n",
       "ABD by date of hire                                                                                      0.000293\n",
       "LL.M. or J.D.                                                                                            0.000293\n",
       "Juris Doctor (J.D.) or foreign equivalent                                                                0.000293\n",
       "Bachelor's and Master's                                                                                  0.000293\n",
       "JD, or Master of Laws                                                                                    0.000293\n",
       "Doctor of Medicine, Doctor of Osteopathic Medicine, or FDE                                               0.000293\n",
       "Doctorate                                                                                                0.000293\n",
       "Doctor of Pharmacy Degree or BS Pharmacy with 5-years exp.                                               0.000293\n",
       "Two (2) years of academic study                                                                          0.000293\n",
       "D.D.S (Doctor of Dental Surgery) or D.M.D (Doctor of Dental Medicine)                                    0.000293\n",
       "LLM from an accredited US law school                                                                     0.000293\n",
       "LICENSED IN COSMETOLOGY                                                                                  0.000293\n",
       "-------------                                                                                            0.000293\n",
       "Juris Doctor or LLM                                                                                      0.000293\n",
       "Doctorate of Optometry (O.D.)                                                                            0.000293\n",
       "JD, LLM or related                                                                                       0.000293\n",
       "Bachelors degree or equiv. in a CS or quantitative field (Will accept 3 or 4 year degree as equiv.)      0.000293\n",
       "BS/Emp will accept 2 yrs work exp as sr/lead func cons part of SAP impl team on int'l proj to satisf     0.000293\n",
       "Juris Doctor in Law                                                                                      0.000293\n",
       "DOCTOR OF MEDICAL SCIENCE                                                                                0.000293\n",
       "2 years of college (or foreign equivalent)                                                               0.000293\n",
       "JD/LL.M.                                                                                                 0.000293\n",
       "DDS/ DMD                                                                                                 0.000293\n",
       "Name: JOB_INFO_EDUCATION_OTHER, Length: 1433, dtype: float64"
      ]
     },
     "execution_count": 164,
     "metadata": {},
     "output_type": "execute_result"
    }
   ],
   "source": [
    "(data['JOB_INFO_EDUCATION_OTHER'].value_counts(dropna=False) / data['JOB_INFO_EDUCATION_OTHER'].value_counts(dropna=False).sum()) * 100"
   ]
  },
  {
   "cell_type": "code",
   "execution_count": 165,
   "metadata": {
    "collapsed": false,
    "deletable": true,
    "editable": true
   },
   "outputs": [
    {
     "data": {
      "text/plain": [
       "Y      56.107265\n",
       "N      43.886880\n",
       "NaN     0.005855\n",
       "Name: JOB_INFO_EXPERIENCE, dtype: float64"
      ]
     },
     "execution_count": 165,
     "metadata": {},
     "output_type": "execute_result"
    }
   ],
   "source": [
    "(data['JOB_INFO_EXPERIENCE'].value_counts(dropna=False) / data['JOB_INFO_EXPERIENCE'].value_counts(dropna=False).sum()) * 100"
   ]
  },
  {
   "cell_type": "code",
   "execution_count": 166,
   "metadata": {
    "collapsed": true,
    "deletable": true,
    "editable": true
   },
   "outputs": [
    {
     "data": {
      "text/plain": [
       "NaN       43.848822\n",
       " 24.0     15.287557\n",
       " 60.0     13.563827\n",
       " 12.0     13.420671\n",
       " 36.0      6.195530\n",
       " 6.0       3.176662\n",
       " 48.0      1.166620\n",
       " 72.0      0.807705\n",
       " 84.0      0.569404\n",
       " 96.0      0.522271\n",
       " 3.0       0.388190\n",
       " 120.0     0.328762\n",
       " 18.0      0.138179\n",
       " 2.0       0.089290\n",
       " 0.0       0.086948\n",
       " 1.0       0.079629\n",
       " 9.0       0.055916\n",
       " 108.0     0.049182\n",
       " 4.0       0.045084\n",
       " 144.0     0.034545\n",
       " 5.0       0.030739\n",
       " 10.0      0.022835\n",
       " 30.0      0.019614\n",
       " 180.0     0.015809\n",
       " 8.0       0.007319\n",
       " 156.0     0.005855\n",
       " 20.0      0.004977\n",
       " 23.0      0.004099\n",
       " 27.0      0.004099\n",
       " 42.0      0.004099\n",
       " 132.0     0.003806\n",
       " 240.0     0.003220\n",
       " 168.0     0.003220\n",
       " 15.0      0.002928\n",
       " 25.0      0.001757\n",
       " 16.0      0.001464\n",
       " 22.0      0.001464\n",
       " 13.0      0.001171\n",
       " 33.0      0.001171\n",
       " 11.0      0.000586\n",
       " 21.0      0.000586\n",
       " 192.0     0.000586\n",
       " 26.0      0.000586\n",
       " 244.0     0.000586\n",
       " 80.0      0.000586\n",
       " 66.0      0.000586\n",
       " 45.0      0.000293\n",
       " 7.0       0.000293\n",
       " 40.0      0.000293\n",
       " 14.0      0.000293\n",
       " 19.0      0.000293\n",
       "Name: JOB_INFO_EXPERIENCE_NUM_MONTHS, dtype: float64"
      ]
     },
     "execution_count": 166,
     "metadata": {},
     "output_type": "execute_result"
    }
   ],
   "source": [
    "(data['JOB_INFO_EXPERIENCE_NUM_MONTHS'].value_counts(dropna=False) / data['JOB_INFO_EXPERIENCE_NUM_MONTHS'].value_counts(dropna=False).sum()) * 100"
   ]
  },
  {
   "cell_type": "code",
   "execution_count": 252,
   "metadata": {
    "collapsed": false,
    "deletable": true,
    "editable": true,
    "scrolled": true
   },
   "outputs": [
    {
     "data": {
      "text/plain": [
       "Custom Computer Programming Services                                                     20.334324\n",
       "Computer Systems Design Services                                                          9.592342\n",
       "Software Publishers                                                                       4.203639\n",
       "Colleges, Universities, and Professional Schools                                          3.133042\n",
       "Poultry Processing                                                                        2.806915\n",
       "Other Computer Related Services                                                           2.614283\n",
       "Semiconductor and Other Electronic Component Manufacturing                                2.532313\n",
       "Computer Systems Design and Related Services                                              2.500695\n",
       "Engineering Services                                                                      2.097575\n",
       "Electronic Computer Manufacturing                                                         2.029363\n",
       "Electronic Shopping                                                                       1.719631\n",
       "Full-Service Restaurants                                                                  1.416924\n",
       "Web Search Portals                                                                        1.341394\n",
       "Investment Banking and Securities Dealing                                                 1.159887\n",
       "General Medical and Surgical Hospitals                                                    1.107191\n",
       "Semiconductor and Related Device Manufacturing                                            1.052154\n",
       "Elementary and Secondary Schools                                                          1.049226\n",
       "Limited-Service Restaurants                                                               0.973111\n",
       "Offices of Physicians (except Mental Health Specialists)                                  0.944714\n",
       "Research and Development in the Physical, Engineering, and Life Sciences                  0.825856\n",
       "Radio and Television Broadcasting and Wireless Communications Equipment Manufacturing     0.786042\n",
       "Administrative Management and General Management Consulting Services                      0.776381\n",
       "Management Consulting Services                                                            0.692361\n",
       "Offices of Certified Public Accountants                                                   0.619172\n",
       "Janitorial Services                                                                       0.616830\n",
       "Financial Transactions Processing, Reserve, and Clearinghouse Activities                  0.555938\n",
       "Commercial Banking                                                                        0.548912\n",
       "Management, Scientific, and Technical Consulting Services                                 0.548326\n",
       "Data Processing, Hosting, and Related Services                                            0.502364\n",
       "Accounting, Tax Preparation, Bookkeeping, and Payroll Services                            0.427126\n",
       "                                                                                           ...    \n",
       "Specialized Freight Trucking                                                              0.000293\n",
       "Fiber, Yarn, and Thread Mills                                                             0.000293\n",
       "Household Furniture (except Wood and Metal) Manufacturing                                 0.000293\n",
       "Petroleum and Coal Products Manufacturing                                                 0.000293\n",
       "Aluminum Sheet, Plate, and Foil Manufacturing                                             0.000293\n",
       "Forging and Stamping                                                                      0.000293\n",
       "Solid Waste Combustors and Incinerators                                                   0.000293\n",
       "Nonfolding Sanitary Food Container Manufacturing                                          0.000293\n",
       "Foundries                                                                                 0.000293\n",
       "Uranium-Radium-Vanadium Ore Mining                                                        0.000293\n",
       "Fabricated Metal Product Manufacturing                                                    0.000293\n",
       "Tire Retreading                                                                           0.000293\n",
       "Softwood Veneer and Plywood Manufacturing                                                 0.000293\n",
       "Plate Work Manufacturing                                                                  0.000293\n",
       "Merchant Wholesalers, Nondurable Goods                                                    0.000293\n",
       "Mixed Mode Transit Systems                                                                0.000293\n",
       "Industrial Pattern Manufacturing                                                          0.000293\n",
       "Special Needs Transportation                                                              0.000293\n",
       "Other Chemical and Fertilizer Mineral Mining                                              0.000293\n",
       "Port and Harbor Operations                                                                0.000293\n",
       "Community Food Services                                                                   0.000293\n",
       "Aluminum Foundries (except Die-Casting)                                                   0.000293\n",
       "Canvas and Related Product Mills                                                          0.000293\n",
       "Soybean Processing                                                                        0.000293\n",
       "Metal Household Furniture Manufacturing                                                   0.000293\n",
       "Wiring Device Manufacturing                                                               0.000293\n",
       "Beverage and Tobacco Product Manufacturing                                                0.000293\n",
       "Oilseed and Grain Farming                                                                 0.000293\n",
       "Fishing                                                                                   0.000293\n",
       "Real Estate and Rental and Leasing                                                        0.000293\n",
       "Name: NAICS_US_TITLE, Length: 1462, dtype: float64"
      ]
     },
     "execution_count": 252,
     "metadata": {},
     "output_type": "execute_result"
    }
   ],
   "source": [
    "(data['NAICS_US_TITLE'].value_counts(dropna=False) / data['NAICS_US_TITLE'].value_counts(dropna=False).sum()) * 100"
   ]
  },
  {
   "cell_type": "code",
   "execution_count": 207,
   "metadata": {
    "collapsed": true,
    "deletable": true,
    "editable": true
   },
   "outputs": [],
   "source": [
    "(data['NAICS_US_CODE'].value_counts(dropna=False) / data['NAICS_US_CODE'].value_counts(dropna=False).sum()) * 100\n",
    "\n",
    "#the first 2 numbers are the industry (there are 92), so gonna truncate it\n",
    "ind_code = data['NAICS_US_CODE'].apply(lambda word: str(word).replace(\"-\", \"\"))\n",
    "    \n",
    "\n",
    "ind_code = ind_code.apply(lambda num: num[:2])\n",
    "ind_code.value_counts()\n",
    "#counts for each industry\n",
    "ind_code = pd.DataFrame(ind_code.value_counts())\n",
    "ind_code = ind_code.reset_index()\n",
    "ind_code.columns = ['sector code','count']"
   ]
  },
  {
   "cell_type": "code",
   "execution_count": 212,
   "metadata": {
    "collapsed": true,
    "deletable": true,
    "editable": true
   },
   "outputs": [],
   "source": [
    "ind_code.at[22,'sector code'] = -99\n",
    "#df.at['C', 'x'] = 10"
   ]
  },
  {
   "cell_type": "code",
   "execution_count": 196,
   "metadata": {
    "collapsed": false,
    "deletable": true,
    "editable": true
   },
   "outputs": [
    {
     "data": {
      "text/plain": [
       "pandas.core.frame.DataFrame"
      ]
     },
     "execution_count": 196,
     "metadata": {},
     "output_type": "execute_result"
    }
   ],
   "source": [
    "naics_codes = pd.read_excel(\"NAICS sector codes.xlsx\")"
   ]
  },
  {
   "cell_type": "code",
   "execution_count": 217,
   "metadata": {
    "collapsed": true,
    "deletable": true,
    "editable": true
   },
   "outputs": [],
   "source": [
    "ind_code['sector code'] = pandas.to_numeric(ind_code['sector code'])\n",
    "naics_codes['Sector'] = pandas.to_numeric(naics_codes['Sector'])"
   ]
  },
  {
   "cell_type": "code",
   "execution_count": 226,
   "metadata": {
    "collapsed": true,
    "deletable": true,
    "editable": true
   },
   "outputs": [],
   "source": [
    "ind_code_det = ind_code.merge(naics_codes, how =\"left\", left_on = \"sector code\", right_on = \"Sector\")\n",
    "ind_code_det = ind_code_det[['Name','count']]"
   ]
  },
  {
   "cell_type": "code",
   "execution_count": 474,
   "metadata": {
    "collapsed": false,
    "deletable": true,
    "editable": true
   },
   "outputs": [
    {
     "data": {
      "image/png": "[encoded data removed]",
      "text/plain": [
       "<matplotlib.figure.Figure at 0x1a76d8f470>"
      ]
     },
     "metadata": {},
     "output_type": "display_data"
    }
   ],
   "source": [
    "%matplotlib inline\n",
    "import matplotlib.pyplot as plt\n",
    "#ind_code_det = ind_code_det.set_index('Name')\n",
    "ind_code_det.plot.bar()\n",
    "#plt.tight_layout()\n",
    "plt.savefig('Industries.png')"
   ]
  },
  {
   "cell_type": "code",
   "execution_count": 254,
   "metadata": {
    "collapsed": false,
    "deletable": true,
    "editable": true
   },
   "outputs": [
    {
     "data": {
      "text/plain": [
       "Y      86.794795\n",
       "N      13.197008\n",
       "NaN     0.008197\n",
       "Name: RECR_INFO_PROFESSIONAL_OCC, dtype: float64"
      ]
     },
     "execution_count": 254,
     "metadata": {},
     "output_type": "execute_result"
    }
   ],
   "source": [
    "#Is this for profession, not college / uni professor\n",
    "(data['RECR_INFO_PROFESSIONAL_OCC'].value_counts(dropna=False) / data['RECR_INFO_PROFESSIONAL_OCC'].value_counts(dropna=False).sum()) * 100"
   ]
  },
  {
   "cell_type": "code",
   "execution_count": 255,
   "metadata": {
    "collapsed": false,
    "deletable": true,
    "editable": true
   },
   "outputs": [
    {
     "data": {
      "text/plain": [
       "N      97.366395\n",
       "Y       2.618967\n",
       "NaN     0.014638\n",
       "Name: RECR_INFO_COLL_UNIV_TEACHER, dtype: float64"
      ]
     },
     "execution_count": 255,
     "metadata": {},
     "output_type": "execute_result"
    }
   ],
   "source": [
    "#Is this for college / uni professor\n",
    "(data['RECR_INFO_COLL_UNIV_TEACHER'].value_counts(dropna=False) / data['RECR_INFO_COLL_UNIV_TEACHER'].value_counts(dropna=False).sum()) * 100"
   ]
  },
  {
   "cell_type": "code",
   "execution_count": 160,
   "metadata": {
    "collapsed": false,
    "deletable": true,
    "editable": true
   },
   "outputs": [
    {
     "data": {
      "text/plain": [
       "NaN    96.967958\n",
       "Y       2.464101\n",
       "N       0.567941\n",
       "Name: RECR_INFO_COLL_TEACH_COMP_PROC, dtype: float64"
      ]
     },
     "execution_count": 160,
     "metadata": {},
     "output_type": "execute_result"
    }
   ],
   "source": [
    "(data['RECR_INFO_COLL_TEACH_COMP_PROC'].value_counts(dropna=False) / data['RECR_INFO_COLL_TEACH_COMP_PROC'].value_counts(dropna=False).sum()) * 100"
   ]
  },
  {
   "cell_type": "code",
   "execution_count": 238,
   "metadata": {
    "collapsed": false,
    "deletable": true,
    "editable": true
   },
   "outputs": [
    {
     "data": {
      "text/plain": [
       "Y      89.549600\n",
       "N      10.353499\n",
       "NaN     0.096901\n",
       "Name: JOB_INFO_FOREIGN_ED, dtype: float64"
      ]
     },
     "execution_count": 238,
     "metadata": {},
     "output_type": "execute_result"
    }
   ],
   "source": [
    "(data['JOB_INFO_FOREIGN_ED'].value_counts(dropna=False) / data['JOB_INFO_FOREIGN_ED'].value_counts(dropna=False).sum()) * 100\n",
    "#since there are 10% no, would be interesting to see if the nos experiences for the other people would still be accepted"
   ]
  },
  {
   "cell_type": "code",
   "execution_count": 240,
   "metadata": {
    "collapsed": false,
    "deletable": true,
    "editable": true,
    "scrolled": true
   },
   "outputs": [
    {
     "data": {
      "text/plain": [
       "H-1B          72.545047\n",
       "NaN            6.816166\n",
       "L-1            6.169475\n",
       "F-1            4.784461\n",
       "Not in USA     3.243995\n",
       "TN             1.230440\n",
       "E-2            1.215510\n",
       "B-2            0.865085\n",
       "EWI            0.398437\n",
       "Parolee        0.355402\n",
       "F-2            0.294802\n",
       "J-1            0.282799\n",
       "E-3            0.266405\n",
       "O-1            0.230689\n",
       "H-4            0.176237\n",
       "B-1            0.159258\n",
       "L-2            0.158379\n",
       "E-1            0.141400\n",
       "H-1B1          0.121200\n",
       "H-2B           0.108611\n",
       "P-1            0.057087\n",
       "TPS            0.055916\n",
       "A1/A2          0.045962\n",
       "H-2A           0.043035\n",
       "R-1            0.033081\n",
       "J-2            0.032788\n",
       "G-4            0.027812\n",
       "I              0.025470\n",
       "G-5            0.015223\n",
       "VWT            0.014052\n",
       "P-3            0.010539\n",
       "H-3            0.010246\n",
       "H-1A           0.009368\n",
       "A-3            0.008197\n",
       "C-1            0.006441\n",
       "M-1            0.006148\n",
       "O-2            0.005855\n",
       "TD             0.004391\n",
       "O-3            0.004391\n",
       "C-3            0.003220\n",
       "G-1            0.003220\n",
       "VWB            0.002635\n",
       "D-1            0.002049\n",
       "R-2            0.002049\n",
       "Q              0.001757\n",
       "P-4            0.001464\n",
       "M-2            0.001171\n",
       "V-2            0.000878\n",
       "P-2            0.000586\n",
       "T-1            0.000586\n",
       "N              0.000293\n",
       "K-1            0.000293\n",
       "Name: CLASS_OF_ADMISSION, dtype: float64"
      ]
     },
     "execution_count": 240,
     "metadata": {},
     "output_type": "execute_result"
    }
   ],
   "source": [
    "#what was their previous class of admission\n",
    "(data['CLASS_OF_ADMISSION'].value_counts(dropna=False) / data['CLASS_OF_ADMISSION'].value_counts(dropna=False).sum()) * 100"
   ]
  },
  {
   "cell_type": "code",
   "execution_count": 401,
   "metadata": {
    "collapsed": true,
    "deletable": true,
    "editable": true
   },
   "outputs": [
    {
     "data": {
      "text/html": [
       "<div>\n",
       "<style>\n",
       "    .dataframe thead tr:only-child th {\n",
       "        text-align: right;\n",
       "    }\n",
       "\n",
       "    .dataframe thead th {\n",
       "        text-align: left;\n",
       "    }\n",
       "\n",
       "    .dataframe tbody tr th {\n",
       "        vertical-align: top;\n",
       "    }\n",
       "</style>\n",
       "<table border=\"1\" class=\"dataframe\">\n",
       "  <thead>\n",
       "    <tr style=\"text-align: right;\">\n",
       "      <th></th>\n",
       "      <th>CASE_NUMBER</th>\n",
       "      <th>CLASS_OF_ADMISSION</th>\n",
       "      <th>H1B_VISA</th>\n",
       "      <th>Other_Visa</th>\n",
       "      <th>No_US_Visa</th>\n",
       "    </tr>\n",
       "  </thead>\n",
       "  <tbody>\n",
       "    <tr>\n",
       "      <th>0</th>\n",
       "      <td>A-14220-96665</td>\n",
       "      <td>H-1B</td>\n",
       "      <td>1</td>\n",
       "      <td>0</td>\n",
       "      <td>0</td>\n",
       "    </tr>\n",
       "    <tr>\n",
       "      <th>1</th>\n",
       "      <td>A-14220-96720</td>\n",
       "      <td>H-1B</td>\n",
       "      <td>1</td>\n",
       "      <td>0</td>\n",
       "      <td>0</td>\n",
       "    </tr>\n",
       "    <tr>\n",
       "      <th>2</th>\n",
       "      <td>A-14203-91167</td>\n",
       "      <td>L-1</td>\n",
       "      <td>0</td>\n",
       "      <td>1</td>\n",
       "      <td>0</td>\n",
       "    </tr>\n",
       "    <tr>\n",
       "      <th>3</th>\n",
       "      <td>A-14206-92509</td>\n",
       "      <td>H-1B</td>\n",
       "      <td>1</td>\n",
       "      <td>0</td>\n",
       "      <td>0</td>\n",
       "    </tr>\n",
       "    <tr>\n",
       "      <th>4</th>\n",
       "      <td>A-14202-90786</td>\n",
       "      <td>H-1B</td>\n",
       "      <td>1</td>\n",
       "      <td>0</td>\n",
       "      <td>0</td>\n",
       "    </tr>\n",
       "    <tr>\n",
       "      <th>5</th>\n",
       "      <td>A-14202-90819</td>\n",
       "      <td>H-1B</td>\n",
       "      <td>1</td>\n",
       "      <td>0</td>\n",
       "      <td>0</td>\n",
       "    </tr>\n",
       "    <tr>\n",
       "      <th>6</th>\n",
       "      <td>A-14202-90920</td>\n",
       "      <td>H-1B</td>\n",
       "      <td>1</td>\n",
       "      <td>0</td>\n",
       "      <td>0</td>\n",
       "    </tr>\n",
       "    <tr>\n",
       "      <th>7</th>\n",
       "      <td>A-14220-96712</td>\n",
       "      <td>H-1B</td>\n",
       "      <td>1</td>\n",
       "      <td>0</td>\n",
       "      <td>0</td>\n",
       "    </tr>\n",
       "    <tr>\n",
       "      <th>8</th>\n",
       "      <td>A-14226-98150</td>\n",
       "      <td>H-1B</td>\n",
       "      <td>1</td>\n",
       "      <td>0</td>\n",
       "      <td>0</td>\n",
       "    </tr>\n",
       "    <tr>\n",
       "      <th>9</th>\n",
       "      <td>A-14226-98245</td>\n",
       "      <td>None</td>\n",
       "      <td>0</td>\n",
       "      <td>0</td>\n",
       "      <td>1</td>\n",
       "    </tr>\n",
       "    <tr>\n",
       "      <th>10</th>\n",
       "      <td>A-14224-97486</td>\n",
       "      <td>H-1B</td>\n",
       "      <td>1</td>\n",
       "      <td>0</td>\n",
       "      <td>0</td>\n",
       "    </tr>\n",
       "    <tr>\n",
       "      <th>11</th>\n",
       "      <td>A-14224-97503</td>\n",
       "      <td>H-1B</td>\n",
       "      <td>1</td>\n",
       "      <td>0</td>\n",
       "      <td>0</td>\n",
       "    </tr>\n",
       "    <tr>\n",
       "      <th>12</th>\n",
       "      <td>A-14218-95841</td>\n",
       "      <td>H-1B</td>\n",
       "      <td>1</td>\n",
       "      <td>0</td>\n",
       "      <td>0</td>\n",
       "    </tr>\n",
       "    <tr>\n",
       "      <th>13</th>\n",
       "      <td>A-14218-95919</td>\n",
       "      <td>H-1B</td>\n",
       "      <td>1</td>\n",
       "      <td>0</td>\n",
       "      <td>0</td>\n",
       "    </tr>\n",
       "    <tr>\n",
       "      <th>14</th>\n",
       "      <td>A-14233-00479</td>\n",
       "      <td>H-1B</td>\n",
       "      <td>1</td>\n",
       "      <td>0</td>\n",
       "      <td>0</td>\n",
       "    </tr>\n",
       "    <tr>\n",
       "      <th>15</th>\n",
       "      <td>A-14233-00480</td>\n",
       "      <td>H-1B</td>\n",
       "      <td>1</td>\n",
       "      <td>0</td>\n",
       "      <td>0</td>\n",
       "    </tr>\n",
       "    <tr>\n",
       "      <th>16</th>\n",
       "      <td>A-14233-00487</td>\n",
       "      <td>J-1</td>\n",
       "      <td>0</td>\n",
       "      <td>1</td>\n",
       "      <td>0</td>\n",
       "    </tr>\n",
       "    <tr>\n",
       "      <th>17</th>\n",
       "      <td>A-14233-00533</td>\n",
       "      <td>H-1B</td>\n",
       "      <td>1</td>\n",
       "      <td>0</td>\n",
       "      <td>0</td>\n",
       "    </tr>\n",
       "    <tr>\n",
       "      <th>18</th>\n",
       "      <td>A-14233-00565</td>\n",
       "      <td>L-1</td>\n",
       "      <td>0</td>\n",
       "      <td>1</td>\n",
       "      <td>0</td>\n",
       "    </tr>\n",
       "    <tr>\n",
       "      <th>19</th>\n",
       "      <td>A-14238-01616</td>\n",
       "      <td>H-1B</td>\n",
       "      <td>1</td>\n",
       "      <td>0</td>\n",
       "      <td>0</td>\n",
       "    </tr>\n",
       "    <tr>\n",
       "      <th>20</th>\n",
       "      <td>A-14238-01636</td>\n",
       "      <td>F-1</td>\n",
       "      <td>0</td>\n",
       "      <td>1</td>\n",
       "      <td>0</td>\n",
       "    </tr>\n",
       "    <tr>\n",
       "      <th>21</th>\n",
       "      <td>A-14245-03117</td>\n",
       "      <td>H-1B</td>\n",
       "      <td>1</td>\n",
       "      <td>0</td>\n",
       "      <td>0</td>\n",
       "    </tr>\n",
       "    <tr>\n",
       "      <th>22</th>\n",
       "      <td>A-14245-03216</td>\n",
       "      <td>H-1B</td>\n",
       "      <td>1</td>\n",
       "      <td>0</td>\n",
       "      <td>0</td>\n",
       "    </tr>\n",
       "    <tr>\n",
       "      <th>23</th>\n",
       "      <td>A-14245-03304</td>\n",
       "      <td>H-1B</td>\n",
       "      <td>1</td>\n",
       "      <td>0</td>\n",
       "      <td>0</td>\n",
       "    </tr>\n",
       "    <tr>\n",
       "      <th>24</th>\n",
       "      <td>A-14246-03493</td>\n",
       "      <td>H-1B</td>\n",
       "      <td>1</td>\n",
       "      <td>0</td>\n",
       "      <td>0</td>\n",
       "    </tr>\n",
       "    <tr>\n",
       "      <th>25</th>\n",
       "      <td>A-14246-03533</td>\n",
       "      <td>H-1B</td>\n",
       "      <td>1</td>\n",
       "      <td>0</td>\n",
       "      <td>0</td>\n",
       "    </tr>\n",
       "    <tr>\n",
       "      <th>26</th>\n",
       "      <td>A-14246-03571</td>\n",
       "      <td>H-1B</td>\n",
       "      <td>1</td>\n",
       "      <td>0</td>\n",
       "      <td>0</td>\n",
       "    </tr>\n",
       "    <tr>\n",
       "      <th>27</th>\n",
       "      <td>A-14198-89632</td>\n",
       "      <td>H-1B</td>\n",
       "      <td>1</td>\n",
       "      <td>0</td>\n",
       "      <td>0</td>\n",
       "    </tr>\n",
       "    <tr>\n",
       "      <th>28</th>\n",
       "      <td>A-14198-89806</td>\n",
       "      <td>H-1B</td>\n",
       "      <td>1</td>\n",
       "      <td>0</td>\n",
       "      <td>0</td>\n",
       "    </tr>\n",
       "    <tr>\n",
       "      <th>29</th>\n",
       "      <td>A-14202-90634</td>\n",
       "      <td>H-1B</td>\n",
       "      <td>1</td>\n",
       "      <td>0</td>\n",
       "      <td>0</td>\n",
       "    </tr>\n",
       "    <tr>\n",
       "      <th>...</th>\n",
       "      <td>...</td>\n",
       "      <td>...</td>\n",
       "      <td>...</td>\n",
       "      <td>...</td>\n",
       "      <td>...</td>\n",
       "    </tr>\n",
       "    <tr>\n",
       "      <th>126113</th>\n",
       "      <td>A-16027-65808</td>\n",
       "      <td>B-2</td>\n",
       "      <td>0</td>\n",
       "      <td>1</td>\n",
       "      <td>0</td>\n",
       "    </tr>\n",
       "    <tr>\n",
       "      <th>126114</th>\n",
       "      <td>A-16033-68034</td>\n",
       "      <td>None</td>\n",
       "      <td>0</td>\n",
       "      <td>0</td>\n",
       "      <td>1</td>\n",
       "    </tr>\n",
       "    <tr>\n",
       "      <th>126115</th>\n",
       "      <td>A-16076-85322</td>\n",
       "      <td>None</td>\n",
       "      <td>0</td>\n",
       "      <td>0</td>\n",
       "      <td>1</td>\n",
       "    </tr>\n",
       "    <tr>\n",
       "      <th>126116</th>\n",
       "      <td>A-16189-30291</td>\n",
       "      <td>Not in USA</td>\n",
       "      <td>0</td>\n",
       "      <td>0</td>\n",
       "      <td>1</td>\n",
       "    </tr>\n",
       "    <tr>\n",
       "      <th>126117</th>\n",
       "      <td>A-16194-31825</td>\n",
       "      <td>Not in USA</td>\n",
       "      <td>0</td>\n",
       "      <td>0</td>\n",
       "      <td>1</td>\n",
       "    </tr>\n",
       "    <tr>\n",
       "      <th>126118</th>\n",
       "      <td>A-16190-30647</td>\n",
       "      <td>Not in USA</td>\n",
       "      <td>0</td>\n",
       "      <td>0</td>\n",
       "      <td>1</td>\n",
       "    </tr>\n",
       "    <tr>\n",
       "      <th>126119</th>\n",
       "      <td>A-16190-30660</td>\n",
       "      <td>Not in USA</td>\n",
       "      <td>0</td>\n",
       "      <td>0</td>\n",
       "      <td>1</td>\n",
       "    </tr>\n",
       "    <tr>\n",
       "      <th>126120</th>\n",
       "      <td>A-16188-29623</td>\n",
       "      <td>None</td>\n",
       "      <td>0</td>\n",
       "      <td>0</td>\n",
       "      <td>1</td>\n",
       "    </tr>\n",
       "    <tr>\n",
       "      <th>126121</th>\n",
       "      <td>A-16188-29675</td>\n",
       "      <td>None</td>\n",
       "      <td>0</td>\n",
       "      <td>0</td>\n",
       "      <td>1</td>\n",
       "    </tr>\n",
       "    <tr>\n",
       "      <th>126122</th>\n",
       "      <td>A-16274-57949</td>\n",
       "      <td>F-1</td>\n",
       "      <td>0</td>\n",
       "      <td>1</td>\n",
       "      <td>0</td>\n",
       "    </tr>\n",
       "    <tr>\n",
       "      <th>126123</th>\n",
       "      <td>A-16208-35959</td>\n",
       "      <td>B-2</td>\n",
       "      <td>0</td>\n",
       "      <td>1</td>\n",
       "      <td>0</td>\n",
       "    </tr>\n",
       "    <tr>\n",
       "      <th>126124</th>\n",
       "      <td>A-15307-35492</td>\n",
       "      <td>F-1</td>\n",
       "      <td>0</td>\n",
       "      <td>1</td>\n",
       "      <td>0</td>\n",
       "    </tr>\n",
       "    <tr>\n",
       "      <th>126125</th>\n",
       "      <td>A-15226-08541</td>\n",
       "      <td>EWI</td>\n",
       "      <td>0</td>\n",
       "      <td>1</td>\n",
       "      <td>0</td>\n",
       "    </tr>\n",
       "    <tr>\n",
       "      <th>126126</th>\n",
       "      <td>A-16270-56243</td>\n",
       "      <td>E-2</td>\n",
       "      <td>0</td>\n",
       "      <td>1</td>\n",
       "      <td>0</td>\n",
       "    </tr>\n",
       "    <tr>\n",
       "      <th>126127</th>\n",
       "      <td>A-16034-68774</td>\n",
       "      <td>None</td>\n",
       "      <td>0</td>\n",
       "      <td>0</td>\n",
       "      <td>1</td>\n",
       "    </tr>\n",
       "    <tr>\n",
       "      <th>126128</th>\n",
       "      <td>A-16057-77595</td>\n",
       "      <td>F-1</td>\n",
       "      <td>0</td>\n",
       "      <td>1</td>\n",
       "      <td>0</td>\n",
       "    </tr>\n",
       "    <tr>\n",
       "      <th>126129</th>\n",
       "      <td>A-16057-77601</td>\n",
       "      <td>None</td>\n",
       "      <td>0</td>\n",
       "      <td>0</td>\n",
       "      <td>1</td>\n",
       "    </tr>\n",
       "    <tr>\n",
       "      <th>126130</th>\n",
       "      <td>A-16057-77632</td>\n",
       "      <td>None</td>\n",
       "      <td>0</td>\n",
       "      <td>0</td>\n",
       "      <td>1</td>\n",
       "    </tr>\n",
       "    <tr>\n",
       "      <th>126131</th>\n",
       "      <td>A-16209-36556</td>\n",
       "      <td>F-2</td>\n",
       "      <td>0</td>\n",
       "      <td>1</td>\n",
       "      <td>0</td>\n",
       "    </tr>\n",
       "    <tr>\n",
       "      <th>126132</th>\n",
       "      <td>A-16209-36557</td>\n",
       "      <td>B-2</td>\n",
       "      <td>0</td>\n",
       "      <td>1</td>\n",
       "      <td>0</td>\n",
       "    </tr>\n",
       "    <tr>\n",
       "      <th>126133</th>\n",
       "      <td>A-16209-36558</td>\n",
       "      <td>E-2</td>\n",
       "      <td>0</td>\n",
       "      <td>1</td>\n",
       "      <td>0</td>\n",
       "    </tr>\n",
       "    <tr>\n",
       "      <th>126134</th>\n",
       "      <td>A-16209-36589</td>\n",
       "      <td>None</td>\n",
       "      <td>0</td>\n",
       "      <td>0</td>\n",
       "      <td>1</td>\n",
       "    </tr>\n",
       "    <tr>\n",
       "      <th>126135</th>\n",
       "      <td>A-16209-36592</td>\n",
       "      <td>None</td>\n",
       "      <td>0</td>\n",
       "      <td>0</td>\n",
       "      <td>1</td>\n",
       "    </tr>\n",
       "    <tr>\n",
       "      <th>126136</th>\n",
       "      <td>A-16209-36593</td>\n",
       "      <td>F-1</td>\n",
       "      <td>0</td>\n",
       "      <td>1</td>\n",
       "      <td>0</td>\n",
       "    </tr>\n",
       "    <tr>\n",
       "      <th>126137</th>\n",
       "      <td>A-16209-36596</td>\n",
       "      <td>F-1</td>\n",
       "      <td>0</td>\n",
       "      <td>1</td>\n",
       "      <td>0</td>\n",
       "    </tr>\n",
       "    <tr>\n",
       "      <th>126138</th>\n",
       "      <td>A-16209-36597</td>\n",
       "      <td>None</td>\n",
       "      <td>0</td>\n",
       "      <td>0</td>\n",
       "      <td>1</td>\n",
       "    </tr>\n",
       "    <tr>\n",
       "      <th>126139</th>\n",
       "      <td>A-16209-36598</td>\n",
       "      <td>F-1</td>\n",
       "      <td>0</td>\n",
       "      <td>1</td>\n",
       "      <td>0</td>\n",
       "    </tr>\n",
       "    <tr>\n",
       "      <th>126140</th>\n",
       "      <td>A-16054-75755</td>\n",
       "      <td>None</td>\n",
       "      <td>0</td>\n",
       "      <td>0</td>\n",
       "      <td>1</td>\n",
       "    </tr>\n",
       "    <tr>\n",
       "      <th>126141</th>\n",
       "      <td>A-16038-70210</td>\n",
       "      <td>None</td>\n",
       "      <td>0</td>\n",
       "      <td>0</td>\n",
       "      <td>1</td>\n",
       "    </tr>\n",
       "    <tr>\n",
       "      <th>126142</th>\n",
       "      <td>A-16270-56339</td>\n",
       "      <td>None</td>\n",
       "      <td>0</td>\n",
       "      <td>0</td>\n",
       "      <td>1</td>\n",
       "    </tr>\n",
       "  </tbody>\n",
       "</table>\n",
       "<p>341585 rows × 5 columns</p>\n",
       "</div>"
      ],
      "text/plain": [
       "          CASE_NUMBER CLASS_OF_ADMISSION  H1B_VISA  Other_Visa  No_US_Visa\n",
       "0       A-14220-96665               H-1B         1           0           0\n",
       "1       A-14220-96720               H-1B         1           0           0\n",
       "2       A-14203-91167                L-1         0           1           0\n",
       "3       A-14206-92509               H-1B         1           0           0\n",
       "4       A-14202-90786               H-1B         1           0           0\n",
       "5       A-14202-90819               H-1B         1           0           0\n",
       "6       A-14202-90920               H-1B         1           0           0\n",
       "7       A-14220-96712               H-1B         1           0           0\n",
       "8       A-14226-98150               H-1B         1           0           0\n",
       "9       A-14226-98245               None         0           0           1\n",
       "10      A-14224-97486               H-1B         1           0           0\n",
       "11      A-14224-97503               H-1B         1           0           0\n",
       "12      A-14218-95841               H-1B         1           0           0\n",
       "13      A-14218-95919               H-1B         1           0           0\n",
       "14      A-14233-00479               H-1B         1           0           0\n",
       "15      A-14233-00480               H-1B         1           0           0\n",
       "16      A-14233-00487                J-1         0           1           0\n",
       "17      A-14233-00533               H-1B         1           0           0\n",
       "18      A-14233-00565                L-1         0           1           0\n",
       "19      A-14238-01616               H-1B         1           0           0\n",
       "20      A-14238-01636                F-1         0           1           0\n",
       "21      A-14245-03117               H-1B         1           0           0\n",
       "22      A-14245-03216               H-1B         1           0           0\n",
       "23      A-14245-03304               H-1B         1           0           0\n",
       "24      A-14246-03493               H-1B         1           0           0\n",
       "25      A-14246-03533               H-1B         1           0           0\n",
       "26      A-14246-03571               H-1B         1           0           0\n",
       "27      A-14198-89632               H-1B         1           0           0\n",
       "28      A-14198-89806               H-1B         1           0           0\n",
       "29      A-14202-90634               H-1B         1           0           0\n",
       "...               ...                ...       ...         ...         ...\n",
       "126113  A-16027-65808                B-2         0           1           0\n",
       "126114  A-16033-68034               None         0           0           1\n",
       "126115  A-16076-85322               None         0           0           1\n",
       "126116  A-16189-30291         Not in USA         0           0           1\n",
       "126117  A-16194-31825         Not in USA         0           0           1\n",
       "126118  A-16190-30647         Not in USA         0           0           1\n",
       "126119  A-16190-30660         Not in USA         0           0           1\n",
       "126120  A-16188-29623               None         0           0           1\n",
       "126121  A-16188-29675               None         0           0           1\n",
       "126122  A-16274-57949                F-1         0           1           0\n",
       "126123  A-16208-35959                B-2         0           1           0\n",
       "126124  A-15307-35492                F-1         0           1           0\n",
       "126125  A-15226-08541                EWI         0           1           0\n",
       "126126  A-16270-56243                E-2         0           1           0\n",
       "126127  A-16034-68774               None         0           0           1\n",
       "126128  A-16057-77595                F-1         0           1           0\n",
       "126129  A-16057-77601               None         0           0           1\n",
       "126130  A-16057-77632               None         0           0           1\n",
       "126131  A-16209-36556                F-2         0           1           0\n",
       "126132  A-16209-36557                B-2         0           1           0\n",
       "126133  A-16209-36558                E-2         0           1           0\n",
       "126134  A-16209-36589               None         0           0           1\n",
       "126135  A-16209-36592               None         0           0           1\n",
       "126136  A-16209-36593                F-1         0           1           0\n",
       "126137  A-16209-36596                F-1         0           1           0\n",
       "126138  A-16209-36597               None         0           0           1\n",
       "126139  A-16209-36598                F-1         0           1           0\n",
       "126140  A-16054-75755               None         0           0           1\n",
       "126141  A-16038-70210               None         0           0           1\n",
       "126142  A-16270-56339               None         0           0           1\n",
       "\n",
       "[341585 rows x 5 columns]"
      ]
     },
     "execution_count": 401,
     "metadata": {},
     "output_type": "execute_result"
    }
   ],
   "source": [
    "#making the VISA column into booleans, if have H1B, if have other, if have none\n",
    "visa_info = pd.DataFrame(data[['CASE_NUMBER','CLASS_OF_ADMISSION']])\n",
    "visa_info['CLASS_OF_ADMISSION'] = np.where(visa_info['CLASS_OF_ADMISSION'].isnull(), \"None\", visa_info['CLASS_OF_ADMISSION'])\n",
    "visa_info['H1B_VISA'] = np.where(visa_info['CLASS_OF_ADMISSION'] == \"H-1B\", 1, 0)\n",
    "tmp = np.isin(visa_info['CLASS_OF_ADMISSION'], ['H-1B','None','Not in USA','Parolee'])\n",
    "visa_info['Other_Visa'] = np.where(tmp , 0, 1)\n",
    "tmp = np.isin(visa_info['CLASS_OF_ADMISSION'], ['None','Not in USA','Parolee'])\n",
    "visa_info['No_US_Visa'] = np.where(tmp , 1, 0)\n",
    "#visa_info['No_US_Visa'] = np.where(visa_info['CLASS_OF_ADMISSION']  in ['H-1B','NaN','Not in USA','Parolee'] , 1, 0)\n",
    "visa_info"
   ]
  },
  {
   "cell_type": "code",
   "execution_count": 466,
   "metadata": {
    "collapsed": false,
    "deletable": true,
    "editable": true
   },
   "outputs": [
    {
     "data": {
      "image/png": "[encoded data removed]",
      "text/plain": [
       "<matplotlib.figure.Figure at 0x1a830e81d0>"
      ]
     },
     "metadata": {},
     "output_type": "display_data"
    }
   ],
   "source": [
    "tmp_visa = pd.DataFrame(visa_info[['H1B_VISA','Other_Visa','No_US_Visa']].sum())\n",
    "%matplotlib inline\n",
    "import matplotlib.pyplot as plt\n",
    "tmp_visa.plot(kind = 'barh')\n",
    "plt.savefig(\"Visa.png\")"
   ]
  },
  {
   "cell_type": "code",
   "execution_count": 253,
   "metadata": {
    "collapsed": false,
    "deletable": true,
    "editable": true
   },
   "outputs": [
    {
     "data": {
      "text/plain": [
       "Y      98.397471\n",
       "A       1.517631\n",
       "N       0.049475\n",
       "NaN     0.035423\n",
       "Name: RI_POSTED_NOTICE_AT_WORKSITE, dtype: float64"
      ]
     },
     "execution_count": 253,
     "metadata": {},
     "output_type": "execute_result"
    }
   ],
   "source": [
    "#this is a requirement now I believe\n",
    "(data['RI_POSTED_NOTICE_AT_WORKSITE'].value_counts(dropna=False) / data['RI_POSTED_NOTICE_AT_WORKSITE'].value_counts(dropna=False).sum()) * 100"
   ]
  },
  {
   "cell_type": "code",
   "execution_count": 241,
   "metadata": {
    "collapsed": false,
    "deletable": true,
    "editable": true
   },
   "outputs": [
    {
     "data": {
      "text/plain": [
       "Master's       43.118697\n",
       "Bachelor's     36.756005\n",
       "None            7.813868\n",
       "Doctorate       5.100048\n",
       "Other           4.283268\n",
       "High School     1.857517\n",
       "Associate's     0.965206\n",
       "NaN             0.105391\n",
       "Name: FOREIGN_WORKER_INFO_EDUCATION, dtype: float64"
      ]
     },
     "execution_count": 241,
     "metadata": {},
     "output_type": "execute_result"
    }
   ],
   "source": [
    "(data['FOREIGN_WORKER_INFO_EDUCATION'].value_counts(dropna=False) / data['FOREIGN_WORKER_INFO_EDUCATION'].value_counts(dropna=False).sum()) * 100\n",
    "#standardized, just like JOB_INFO_EDUCATION, going to combine the two columns to check if they have same or above degrees "
   ]
  },
  {
   "cell_type": "markdown",
   "metadata": {
    "deletable": true,
    "editable": true
   },
   "source": [
    "## Education comparison"
   ]
  },
  {
   "cell_type": "markdown",
   "metadata": {
    "deletable": true,
    "editable": true
   },
   "source": [
    "Should probably redo this excluding the Other and Nulls (and maybe none?)"
   ]
  },
  {
   "cell_type": "code",
   "execution_count": 242,
   "metadata": {
    "collapsed": true,
    "deletable": true,
    "editable": true
   },
   "outputs": [],
   "source": [
    "same_edu = np.where(data['JOB_INFO_EDUCATION'] == data ['FOREIGN_WORKER_INFO_EDUCATION'], 1 , 0 )"
   ]
  },
  {
   "cell_type": "code",
   "execution_count": 396,
   "metadata": {
    "collapsed": true,
    "deletable": true,
    "editable": true
   },
   "outputs": [],
   "source": [
    "mapping = {\"Master's\" : 4, \"Bachelor's\": 3, \"None\":0, \"Doctorate\":5 , \"Other\": - 1, \"High School\":1, \"Associate's\":2, \"NaN\":-1}\n",
    "\n",
    "edu = data[['CASE_NUMBER','JOB_INFO_EDUCATION','FOREIGN_WORKER_INFO_EDUCATION']]\n",
    "edu = edu.replace({'FOREIGN_WORKER_INFO_EDUCATION': mapping, 'JOB_INFO_EDUCATION': mapping})"
   ]
  },
  {
   "cell_type": "code",
   "execution_count": 397,
   "metadata": {
    "collapsed": true,
    "deletable": true,
    "editable": true
   },
   "outputs": [],
   "source": [
    "edu['Higher education'] = np.where(edu['FOREIGN_WORKER_INFO_EDUCATION'] > edu['JOB_INFO_EDUCATION'], 1,0)"
   ]
  },
  {
   "cell_type": "code",
   "execution_count": 486,
   "metadata": {
    "collapsed": true,
    "deletable": true,
    "editable": true
   },
   "outputs": [],
   "source": [
    "edu['Lower education'] = np.where(edu['FOREIGN_WORKER_INFO_EDUCATION'] < edu['JOB_INFO_EDUCATION'], 1,0)"
   ]
  },
  {
   "cell_type": "code",
   "execution_count": 511,
   "metadata": {
    "collapsed": true,
    "deletable": true,
    "editable": true
   },
   "outputs": [],
   "source": [
    "mapping = {4.0: \"Master's\"  , 3:\"Bachelor's\",0: \"None\", 5:\"Doctorate\" , -1:\"Other\" , 1:\"High School\", 2:\"Associate's\", -1:\"Null\"}\n",
    "\n",
    "edu = edu.replace({'FOREIGN_WORKER_INFO_EDUCATION': mapping, 'JOB_INFO_EDUCATION': mapping})"
   ]
  },
  {
   "cell_type": "code",
   "execution_count": 512,
   "metadata": {
    "collapsed": true,
    "deletable": true,
    "editable": true
   },
   "outputs": [],
   "source": [
    "edu[\"Transition\"] = edu.JOB_INFO_EDUCATION.astype(str) + \" to \" + edu.FOREIGN_WORKER_INFO_EDUCATION.astype(str)"
   ]
  },
  {
   "cell_type": "code",
   "execution_count": 514,
   "metadata": {
    "collapsed": false,
    "deletable": true,
    "editable": true
   },
   "outputs": [
    {
     "data": {
      "text/html": [
       "<div>\n",
       "<style>\n",
       "    .dataframe thead tr:only-child th {\n",
       "        text-align: right;\n",
       "    }\n",
       "\n",
       "    .dataframe thead th {\n",
       "        text-align: left;\n",
       "    }\n",
       "\n",
       "    .dataframe tbody tr th {\n",
       "        vertical-align: top;\n",
       "    }\n",
       "</style>\n",
       "<table border=\"1\" class=\"dataframe\">\n",
       "  <thead>\n",
       "    <tr style=\"text-align: right;\">\n",
       "      <th></th>\n",
       "      <th>Transition</th>\n",
       "    </tr>\n",
       "    <tr>\n",
       "      <th>Transition</th>\n",
       "      <th></th>\n",
       "    </tr>\n",
       "  </thead>\n",
       "  <tbody>\n",
       "    <tr>\n",
       "      <th>Bachelor's to Master's</th>\n",
       "      <td>29596</td>\n",
       "    </tr>\n",
       "    <tr>\n",
       "      <th>Master's to Bachelor's</th>\n",
       "      <td>25157</td>\n",
       "    </tr>\n",
       "    <tr>\n",
       "      <th>Master's to Doctorate</th>\n",
       "      <td>4948</td>\n",
       "    </tr>\n",
       "    <tr>\n",
       "      <th>Bachelor's to NaN</th>\n",
       "      <td>3358</td>\n",
       "    </tr>\n",
       "    <tr>\n",
       "      <th>None to Bachelor's</th>\n",
       "      <td>2760</td>\n",
       "    </tr>\n",
       "    <tr>\n",
       "      <th>None to High School</th>\n",
       "      <td>2333</td>\n",
       "    </tr>\n",
       "    <tr>\n",
       "      <th>Bachelor's to None</th>\n",
       "      <td>1185</td>\n",
       "    </tr>\n",
       "    <tr>\n",
       "      <th>None to Associate's</th>\n",
       "      <td>1070</td>\n",
       "    </tr>\n",
       "    <tr>\n",
       "      <th>None to NaN</th>\n",
       "      <td>960</td>\n",
       "    </tr>\n",
       "    <tr>\n",
       "      <th>Bachelor's to Doctorate</th>\n",
       "      <td>768</td>\n",
       "    </tr>\n",
       "    <tr>\n",
       "      <th>Associate's to Bachelor's</th>\n",
       "      <td>662</td>\n",
       "    </tr>\n",
       "    <tr>\n",
       "      <th>High School to Bachelor's</th>\n",
       "      <td>660</td>\n",
       "    </tr>\n",
       "    <tr>\n",
       "      <th>NaN to Bachelor's</th>\n",
       "      <td>502</td>\n",
       "    </tr>\n",
       "    <tr>\n",
       "      <th>None to Master's</th>\n",
       "      <td>443</td>\n",
       "    </tr>\n",
       "    <tr>\n",
       "      <th>Bachelor's to Associate's</th>\n",
       "      <td>365</td>\n",
       "    </tr>\n",
       "    <tr>\n",
       "      <th>High School to Associate's</th>\n",
       "      <td>318</td>\n",
       "    </tr>\n",
       "    <tr>\n",
       "      <th>NaN to Doctorate</th>\n",
       "      <td>304</td>\n",
       "    </tr>\n",
       "    <tr>\n",
       "      <th>Master's to NaN</th>\n",
       "      <td>279</td>\n",
       "    </tr>\n",
       "    <tr>\n",
       "      <th>NaN to Master's</th>\n",
       "      <td>263</td>\n",
       "    </tr>\n",
       "    <tr>\n",
       "      <th>High School to NaN</th>\n",
       "      <td>212</td>\n",
       "    </tr>\n",
       "    <tr>\n",
       "      <th>Bachelor's to High School</th>\n",
       "      <td>171</td>\n",
       "    </tr>\n",
       "    <tr>\n",
       "      <th>NaN to High School</th>\n",
       "      <td>100</td>\n",
       "    </tr>\n",
       "    <tr>\n",
       "      <th>Associate's to NaN</th>\n",
       "      <td>82</td>\n",
       "    </tr>\n",
       "    <tr>\n",
       "      <th>Associate's to Master's</th>\n",
       "      <td>63</td>\n",
       "    </tr>\n",
       "    <tr>\n",
       "      <th>Doctorate to Master's</th>\n",
       "      <td>61</td>\n",
       "    </tr>\n",
       "    <tr>\n",
       "      <th>Doctorate to NaN</th>\n",
       "      <td>59</td>\n",
       "    </tr>\n",
       "    <tr>\n",
       "      <th>High School to Master's</th>\n",
       "      <td>59</td>\n",
       "    </tr>\n",
       "    <tr>\n",
       "      <th>NaN to Associate's</th>\n",
       "      <td>30</td>\n",
       "    </tr>\n",
       "    <tr>\n",
       "      <th>Master's to None</th>\n",
       "      <td>27</td>\n",
       "    </tr>\n",
       "    <tr>\n",
       "      <th>NaN to None</th>\n",
       "      <td>17</td>\n",
       "    </tr>\n",
       "    <tr>\n",
       "      <th>None to Doctorate</th>\n",
       "      <td>12</td>\n",
       "    </tr>\n",
       "    <tr>\n",
       "      <th>Associate's to High School</th>\n",
       "      <td>12</td>\n",
       "    </tr>\n",
       "    <tr>\n",
       "      <th>Associate's to None</th>\n",
       "      <td>8</td>\n",
       "    </tr>\n",
       "    <tr>\n",
       "      <th>High School to None</th>\n",
       "      <td>7</td>\n",
       "    </tr>\n",
       "    <tr>\n",
       "      <th>Doctorate to Bachelor's</th>\n",
       "      <td>6</td>\n",
       "    </tr>\n",
       "    <tr>\n",
       "      <th>Associate's to Doctorate</th>\n",
       "      <td>6</td>\n",
       "    </tr>\n",
       "    <tr>\n",
       "      <th>Master's to Associate's</th>\n",
       "      <td>4</td>\n",
       "    </tr>\n",
       "    <tr>\n",
       "      <th>Master's to High School</th>\n",
       "      <td>2</td>\n",
       "    </tr>\n",
       "  </tbody>\n",
       "</table>\n",
       "</div>"
      ],
      "text/plain": [
       "                            Transition\n",
       "Transition                            \n",
       "Bachelor's to Master's           29596\n",
       "Master's to Bachelor's           25157\n",
       "Master's to Doctorate             4948\n",
       "Bachelor's to NaN                 3358\n",
       "None to Bachelor's                2760\n",
       "None to High School               2333\n",
       "Bachelor's to None                1185\n",
       "None to Associate's               1070\n",
       "None to NaN                        960\n",
       "Bachelor's to Doctorate            768\n",
       "Associate's to Bachelor's          662\n",
       "High School to Bachelor's          660\n",
       "NaN to Bachelor's                  502\n",
       "None to Master's                   443\n",
       "Bachelor's to Associate's          365\n",
       "High School to Associate's         318\n",
       "NaN to Doctorate                   304\n",
       "Master's to NaN                    279\n",
       "NaN to Master's                    263\n",
       "High School to NaN                 212\n",
       "Bachelor's to High School          171\n",
       "NaN to High School                 100\n",
       "Associate's to NaN                  82\n",
       "Associate's to Master's             63\n",
       "Doctorate to Master's               61\n",
       "Doctorate to NaN                    59\n",
       "High School to Master's             59\n",
       "NaN to Associate's                  30\n",
       "Master's to None                    27\n",
       "NaN to None                         17\n",
       "None to Doctorate                   12\n",
       "Associate's to High School          12\n",
       "Associate's to None                  8\n",
       "High School to None                  7\n",
       "Doctorate to Bachelor's              6\n",
       "Associate's to Doctorate             6\n",
       "Master's to Associate's              4\n",
       "Master's to High School              2"
      ]
     },
     "execution_count": 514,
     "metadata": {},
     "output_type": "execute_result"
    }
   ],
   "source": [
    "#edu[['Higher education','Lower education']].sum()\n",
    "ed = edu.loc[(edu['Lower education']  == 1.0) | (edu['Higher education'] == 1.0)]\n",
    "ed = ed.loc[(~ed['FOREIGN_WORKER_INFO_EDUCATION'].isin(['Null','Other','None']) ) |(~ed['JOB_INFO_EDUCATION'].isin(['Null','Other','None']) ) ]\n",
    "ed = ed.loc[(pd.notnull(ed['FOREIGN_WORKER_INFO_EDUCATION'])  ) |(pd.notnull(ed['JOB_INFO_EDUCATION'])) ]\n",
    "\n",
    "pd.DataFrame(ed.groupby(['Transition'])['Transition'].count().sort_values(ascending=False))\n",
    "#341585"
   ]
  },
  {
   "cell_type": "code",
   "execution_count": 361,
   "metadata": {
    "collapsed": false,
    "deletable": true,
    "editable": true
   },
   "outputs": [
    {
     "data": {
      "text/plain": [
       "Int64Index([2015, 2015, 2014, 2015, 2015, 2014, 2015, 2015, 2015, 2015,\n",
       "            ...\n",
       "            2016, 2016, 2016, 2016, 2016, 2016, 2016, 2016, 2016, 2016],\n",
       "           dtype='int64', name='DECISION_DATE', length=341585)"
      ]
     },
     "execution_count": 361,
     "metadata": {},
     "output_type": "execute_result"
    }
   ],
   "source": [
    "#Getting decision date year\n",
    "pd.DatetimeIndex(data['DECISION_DATE']).year"
   ]
  },
  {
   "cell_type": "code",
   "execution_count": 363,
   "metadata": {
    "collapsed": false,
    "deletable": true,
    "editable": true
   },
   "outputs": [
    {
     "data": {
      "text/plain": [
       "array([1, 1, 1, ..., 1, 1, 0])"
      ]
     },
     "execution_count": 363,
     "metadata": {},
     "output_type": "execute_result"
    }
   ],
   "source": [
    "#Getting agent firm boolean\n",
    "np.where(pd.isnull(data['AGENT_FIRM_NAME']), 0, 1)"
   ]
  },
  {
   "cell_type": "markdown",
   "metadata": {
    "deletable": true,
    "editable": true
   },
   "source": [
    "## Dealing with the recruitment date fields"
   ]
  },
  {
   "cell_type": "code",
   "execution_count": 105,
   "metadata": {
    "collapsed": true,
    "deletable": true,
    "editable": true
   },
   "outputs": [],
   "source": [
    "recr_dates = data[[\"RECR_INFO_SWA_JOB_ORDER_START\",\"RECR_INFO_SWA_JOB_ORDER_END\",\"RECR_INFO_FIRST_AD_START\",\"RECR_INFO_SECOND_AD_START\",\"RECR_INFO_JOB_FAIR_FROM\",\"RECR_INFO_JOB_FAIR_TO\",\"RECR_INFO_ON_CAMPUS_RECR_FROM\",\"RECR_INFO_ON_CAMPUS_RECR_TO\",\"RI_EMPLOYER_WEB_POST_FROM\",\"RI_EMPLOYER_WEB_POST_TO\",\"RECR_INFO_PRO_ORG_ADVERT_FROM\",\"RECR_INFO_PRO_ORG_ADVERT_TO\",\"RI_JOB_SEARCH_WEBSITE_FROM\",\"RI_JOB_SEARCH_WEBSITE_TO\",\"RI_PVT_EMPLOYMENT_FIRM_FROM\",\"RI_PVT_EMPLOYMENT_FIRM_TO\",\"RI_EMPLOYEE_REFERRAL_PROG_FROM\",\"RI_EMPLOYEE_REFERRAL_PROG_TO\",\"RI_CAMPUS_PLACEMENT_FROM\",\"RI_CAMPUS_PLACEMENT_TO\",\"RI_LOCAL_ETHNIC_PAPER_FROM\",\"RI_LOCAL_ETHNIC_PAPER_TO\",\"RECR_INFO_RADIO_TV_AD_FROM\",\"RECR_INFO_RADIO_TV_AD_TO\"]]"
   ]
  },
  {
   "cell_type": "code",
   "execution_count": 108,
   "metadata": {
    "collapsed": false,
    "deletable": true,
    "editable": true
   },
   "outputs": [
    {
     "data": {
      "text/html": [
       "<div>\n",
       "<style>\n",
       "    .dataframe thead tr:only-child th {\n",
       "        text-align: right;\n",
       "    }\n",
       "\n",
       "    .dataframe thead th {\n",
       "        text-align: left;\n",
       "    }\n",
       "\n",
       "    .dataframe tbody tr th {\n",
       "        vertical-align: top;\n",
       "    }\n",
       "</style>\n",
       "<table border=\"1\" class=\"dataframe\">\n",
       "  <thead>\n",
       "    <tr style=\"text-align: right;\">\n",
       "      <th></th>\n",
       "      <th>RECR_INFO_SWA_JOB_ORDER_START</th>\n",
       "      <th>RECR_INFO_SWA_JOB_ORDER_END</th>\n",
       "      <th>RECR_INFO_FIRST_AD_START</th>\n",
       "      <th>RECR_INFO_SECOND_AD_START</th>\n",
       "      <th>RECR_INFO_JOB_FAIR_FROM</th>\n",
       "      <th>RECR_INFO_JOB_FAIR_TO</th>\n",
       "      <th>RECR_INFO_ON_CAMPUS_RECR_FROM</th>\n",
       "      <th>RECR_INFO_ON_CAMPUS_RECR_TO</th>\n",
       "      <th>RI_EMPLOYER_WEB_POST_FROM</th>\n",
       "      <th>RI_EMPLOYER_WEB_POST_TO</th>\n",
       "      <th>...</th>\n",
       "      <th>RI_PVT_EMPLOYMENT_FIRM_FROM</th>\n",
       "      <th>RI_PVT_EMPLOYMENT_FIRM_TO</th>\n",
       "      <th>RI_EMPLOYEE_REFERRAL_PROG_FROM</th>\n",
       "      <th>RI_EMPLOYEE_REFERRAL_PROG_TO</th>\n",
       "      <th>RI_CAMPUS_PLACEMENT_FROM</th>\n",
       "      <th>RI_CAMPUS_PLACEMENT_TO</th>\n",
       "      <th>RI_LOCAL_ETHNIC_PAPER_FROM</th>\n",
       "      <th>RI_LOCAL_ETHNIC_PAPER_TO</th>\n",
       "      <th>RECR_INFO_RADIO_TV_AD_FROM</th>\n",
       "      <th>RECR_INFO_RADIO_TV_AD_TO</th>\n",
       "    </tr>\n",
       "  </thead>\n",
       "  <tbody>\n",
       "    <tr>\n",
       "      <th>0</th>\n",
       "      <td>2014-05-15 00:00:00</td>\n",
       "      <td>2014-06-27 00:00:00</td>\n",
       "      <td>2014-05-25</td>\n",
       "      <td>2014-06-01</td>\n",
       "      <td>NaT</td>\n",
       "      <td>NaT</td>\n",
       "      <td>NaT</td>\n",
       "      <td>NaT</td>\n",
       "      <td>2014-05-15 00:00:00</td>\n",
       "      <td>2014-06-27</td>\n",
       "      <td>...</td>\n",
       "      <td>NaT</td>\n",
       "      <td>NaT</td>\n",
       "      <td>NaN</td>\n",
       "      <td>NaT</td>\n",
       "      <td>2014-05-23 00:00:00</td>\n",
       "      <td>2014-06-27</td>\n",
       "      <td>NaN</td>\n",
       "      <td>NaT</td>\n",
       "      <td>NaT</td>\n",
       "      <td>NaT</td>\n",
       "    </tr>\n",
       "    <tr>\n",
       "      <th>1</th>\n",
       "      <td>2014-05-29 00:00:00</td>\n",
       "      <td>2014-07-03 00:00:00</td>\n",
       "      <td>2014-06-01</td>\n",
       "      <td>2014-06-08</td>\n",
       "      <td>NaT</td>\n",
       "      <td>NaT</td>\n",
       "      <td>NaT</td>\n",
       "      <td>NaT</td>\n",
       "      <td>2014-05-30 00:00:00</td>\n",
       "      <td>2014-06-27</td>\n",
       "      <td>...</td>\n",
       "      <td>NaT</td>\n",
       "      <td>NaT</td>\n",
       "      <td>NaN</td>\n",
       "      <td>NaT</td>\n",
       "      <td>NaN</td>\n",
       "      <td>NaT</td>\n",
       "      <td>2014-06-04 00:00:00</td>\n",
       "      <td>2014-06-04</td>\n",
       "      <td>NaT</td>\n",
       "      <td>NaT</td>\n",
       "    </tr>\n",
       "    <tr>\n",
       "      <th>2</th>\n",
       "      <td>2014-03-10 00:00:00</td>\n",
       "      <td>2014-04-11 00:00:00</td>\n",
       "      <td>2014-03-23</td>\n",
       "      <td>2014-03-30</td>\n",
       "      <td>NaT</td>\n",
       "      <td>NaT</td>\n",
       "      <td>NaT</td>\n",
       "      <td>NaT</td>\n",
       "      <td>NaN</td>\n",
       "      <td>NaT</td>\n",
       "      <td>...</td>\n",
       "      <td>NaT</td>\n",
       "      <td>NaT</td>\n",
       "      <td>NaN</td>\n",
       "      <td>NaT</td>\n",
       "      <td>NaN</td>\n",
       "      <td>NaT</td>\n",
       "      <td>2014-03-26 00:00:00</td>\n",
       "      <td>2014-03-26</td>\n",
       "      <td>NaT</td>\n",
       "      <td>NaT</td>\n",
       "    </tr>\n",
       "    <tr>\n",
       "      <th>3</th>\n",
       "      <td>2014-06-05 00:00:00</td>\n",
       "      <td>2014-07-07 00:00:00</td>\n",
       "      <td>2014-06-08</td>\n",
       "      <td>2014-06-15</td>\n",
       "      <td>NaT</td>\n",
       "      <td>NaT</td>\n",
       "      <td>NaT</td>\n",
       "      <td>NaT</td>\n",
       "      <td>NaN</td>\n",
       "      <td>NaT</td>\n",
       "      <td>...</td>\n",
       "      <td>NaT</td>\n",
       "      <td>NaT</td>\n",
       "      <td>NaN</td>\n",
       "      <td>NaT</td>\n",
       "      <td>NaN</td>\n",
       "      <td>NaT</td>\n",
       "      <td>2014-06-13 00:00:00</td>\n",
       "      <td>2014-06-13</td>\n",
       "      <td>NaT</td>\n",
       "      <td>NaT</td>\n",
       "    </tr>\n",
       "    <tr>\n",
       "      <th>4</th>\n",
       "      <td>2014-04-01 00:00:00</td>\n",
       "      <td>2014-05-06 00:00:00</td>\n",
       "      <td>2014-04-27</td>\n",
       "      <td>2014-05-04</td>\n",
       "      <td>NaT</td>\n",
       "      <td>NaT</td>\n",
       "      <td>NaT</td>\n",
       "      <td>NaT</td>\n",
       "      <td>2014-04-22 00:00:00</td>\n",
       "      <td>2014-06-26</td>\n",
       "      <td>...</td>\n",
       "      <td>NaT</td>\n",
       "      <td>NaT</td>\n",
       "      <td>2014-06-16 00:00:00</td>\n",
       "      <td>2014-07-03</td>\n",
       "      <td>NaN</td>\n",
       "      <td>NaT</td>\n",
       "      <td>NaN</td>\n",
       "      <td>NaT</td>\n",
       "      <td>NaT</td>\n",
       "      <td>NaT</td>\n",
       "    </tr>\n",
       "    <tr>\n",
       "      <th>5</th>\n",
       "      <td>2014-05-22 00:00:00</td>\n",
       "      <td>2014-06-24 00:00:00</td>\n",
       "      <td>2014-02-02</td>\n",
       "      <td>2014-02-09</td>\n",
       "      <td>NaT</td>\n",
       "      <td>NaT</td>\n",
       "      <td>NaT</td>\n",
       "      <td>NaT</td>\n",
       "      <td>NaN</td>\n",
       "      <td>NaT</td>\n",
       "      <td>...</td>\n",
       "      <td>NaT</td>\n",
       "      <td>NaT</td>\n",
       "      <td>NaN</td>\n",
       "      <td>NaT</td>\n",
       "      <td>NaN</td>\n",
       "      <td>NaT</td>\n",
       "      <td>2014-02-03 00:00:00</td>\n",
       "      <td>2014-02-03</td>\n",
       "      <td>NaT</td>\n",
       "      <td>NaT</td>\n",
       "    </tr>\n",
       "    <tr>\n",
       "      <th>6</th>\n",
       "      <td>2014-05-17 00:00:00</td>\n",
       "      <td>2014-06-21 00:00:00</td>\n",
       "      <td>2014-06-01</td>\n",
       "      <td>2014-06-08</td>\n",
       "      <td>NaT</td>\n",
       "      <td>NaT</td>\n",
       "      <td>NaT</td>\n",
       "      <td>NaT</td>\n",
       "      <td>2014-05-14 00:00:00</td>\n",
       "      <td>2014-06-17</td>\n",
       "      <td>...</td>\n",
       "      <td>NaT</td>\n",
       "      <td>NaT</td>\n",
       "      <td>2014-05-12 00:00:00</td>\n",
       "      <td>2014-06-16</td>\n",
       "      <td>NaN</td>\n",
       "      <td>NaT</td>\n",
       "      <td>NaN</td>\n",
       "      <td>NaT</td>\n",
       "      <td>NaT</td>\n",
       "      <td>NaT</td>\n",
       "    </tr>\n",
       "    <tr>\n",
       "      <th>7</th>\n",
       "      <td>2014-02-20 00:00:00</td>\n",
       "      <td>2014-03-22 00:00:00</td>\n",
       "      <td>2014-06-08</td>\n",
       "      <td>2014-06-15</td>\n",
       "      <td>NaT</td>\n",
       "      <td>NaT</td>\n",
       "      <td>NaT</td>\n",
       "      <td>NaT</td>\n",
       "      <td>2014-06-05 00:00:00</td>\n",
       "      <td>2014-07-09</td>\n",
       "      <td>...</td>\n",
       "      <td>NaT</td>\n",
       "      <td>NaT</td>\n",
       "      <td>NaN</td>\n",
       "      <td>NaT</td>\n",
       "      <td>NaN</td>\n",
       "      <td>NaT</td>\n",
       "      <td>2014-06-08 00:00:00</td>\n",
       "      <td>2014-06-08</td>\n",
       "      <td>NaT</td>\n",
       "      <td>NaT</td>\n",
       "    </tr>\n",
       "    <tr>\n",
       "      <th>8</th>\n",
       "      <td>2014-06-13 00:00:00</td>\n",
       "      <td>2014-07-15 00:00:00</td>\n",
       "      <td>2014-06-15</td>\n",
       "      <td>2014-06-22</td>\n",
       "      <td>NaT</td>\n",
       "      <td>NaT</td>\n",
       "      <td>NaT</td>\n",
       "      <td>NaT</td>\n",
       "      <td>2014-06-16 00:00:00</td>\n",
       "      <td>2014-07-16</td>\n",
       "      <td>...</td>\n",
       "      <td>NaT</td>\n",
       "      <td>NaT</td>\n",
       "      <td>NaN</td>\n",
       "      <td>NaT</td>\n",
       "      <td>NaN</td>\n",
       "      <td>NaT</td>\n",
       "      <td>2014-08-21 00:00:00</td>\n",
       "      <td>2014-08-21</td>\n",
       "      <td>NaT</td>\n",
       "      <td>NaT</td>\n",
       "    </tr>\n",
       "    <tr>\n",
       "      <th>9</th>\n",
       "      <td>2014-05-15 00:00:00</td>\n",
       "      <td>2014-06-16 00:00:00</td>\n",
       "      <td>2014-06-15</td>\n",
       "      <td>2014-06-22</td>\n",
       "      <td>NaT</td>\n",
       "      <td>NaT</td>\n",
       "      <td>NaT</td>\n",
       "      <td>NaT</td>\n",
       "      <td>NaN</td>\n",
       "      <td>NaT</td>\n",
       "      <td>...</td>\n",
       "      <td>NaT</td>\n",
       "      <td>NaT</td>\n",
       "      <td>NaN</td>\n",
       "      <td>NaT</td>\n",
       "      <td>NaN</td>\n",
       "      <td>NaT</td>\n",
       "      <td>2014-06-19 00:00:00</td>\n",
       "      <td>2014-06-19</td>\n",
       "      <td>NaT</td>\n",
       "      <td>NaT</td>\n",
       "    </tr>\n",
       "  </tbody>\n",
       "</table>\n",
       "<p>10 rows × 24 columns</p>\n",
       "</div>"
      ],
      "text/plain": [
       "  RECR_INFO_SWA_JOB_ORDER_START RECR_INFO_SWA_JOB_ORDER_END  \\\n",
       "0           2014-05-15 00:00:00         2014-06-27 00:00:00   \n",
       "1           2014-05-29 00:00:00         2014-07-03 00:00:00   \n",
       "2           2014-03-10 00:00:00         2014-04-11 00:00:00   \n",
       "3           2014-06-05 00:00:00         2014-07-07 00:00:00   \n",
       "4           2014-04-01 00:00:00         2014-05-06 00:00:00   \n",
       "5           2014-05-22 00:00:00         2014-06-24 00:00:00   \n",
       "6           2014-05-17 00:00:00         2014-06-21 00:00:00   \n",
       "7           2014-02-20 00:00:00         2014-03-22 00:00:00   \n",
       "8           2014-06-13 00:00:00         2014-07-15 00:00:00   \n",
       "9           2014-05-15 00:00:00         2014-06-16 00:00:00   \n",
       "\n",
       "  RECR_INFO_FIRST_AD_START RECR_INFO_SECOND_AD_START RECR_INFO_JOB_FAIR_FROM  \\\n",
       "0               2014-05-25                2014-06-01                     NaT   \n",
       "1               2014-06-01                2014-06-08                     NaT   \n",
       "2               2014-03-23                2014-03-30                     NaT   \n",
       "3               2014-06-08                2014-06-15                     NaT   \n",
       "4               2014-04-27                2014-05-04                     NaT   \n",
       "5               2014-02-02                2014-02-09                     NaT   \n",
       "6               2014-06-01                2014-06-08                     NaT   \n",
       "7               2014-06-08                2014-06-15                     NaT   \n",
       "8               2014-06-15                2014-06-22                     NaT   \n",
       "9               2014-06-15                2014-06-22                     NaT   \n",
       "\n",
       "  RECR_INFO_JOB_FAIR_TO RECR_INFO_ON_CAMPUS_RECR_FROM  \\\n",
       "0                   NaT                           NaT   \n",
       "1                   NaT                           NaT   \n",
       "2                   NaT                           NaT   \n",
       "3                   NaT                           NaT   \n",
       "4                   NaT                           NaT   \n",
       "5                   NaT                           NaT   \n",
       "6                   NaT                           NaT   \n",
       "7                   NaT                           NaT   \n",
       "8                   NaT                           NaT   \n",
       "9                   NaT                           NaT   \n",
       "\n",
       "  RECR_INFO_ON_CAMPUS_RECR_TO RI_EMPLOYER_WEB_POST_FROM  \\\n",
       "0                         NaT       2014-05-15 00:00:00   \n",
       "1                         NaT       2014-05-30 00:00:00   \n",
       "2                         NaT                       NaN   \n",
       "3                         NaT                       NaN   \n",
       "4                         NaT       2014-04-22 00:00:00   \n",
       "5                         NaT                       NaN   \n",
       "6                         NaT       2014-05-14 00:00:00   \n",
       "7                         NaT       2014-06-05 00:00:00   \n",
       "8                         NaT       2014-06-16 00:00:00   \n",
       "9                         NaT                       NaN   \n",
       "\n",
       "  RI_EMPLOYER_WEB_POST_TO           ...             \\\n",
       "0              2014-06-27           ...              \n",
       "1              2014-06-27           ...              \n",
       "2                     NaT           ...              \n",
       "3                     NaT           ...              \n",
       "4              2014-06-26           ...              \n",
       "5                     NaT           ...              \n",
       "6              2014-06-17           ...              \n",
       "7              2014-07-09           ...              \n",
       "8              2014-07-16           ...              \n",
       "9                     NaT           ...              \n",
       "\n",
       "  RI_PVT_EMPLOYMENT_FIRM_FROM RI_PVT_EMPLOYMENT_FIRM_TO  \\\n",
       "0                         NaT                       NaT   \n",
       "1                         NaT                       NaT   \n",
       "2                         NaT                       NaT   \n",
       "3                         NaT                       NaT   \n",
       "4                         NaT                       NaT   \n",
       "5                         NaT                       NaT   \n",
       "6                         NaT                       NaT   \n",
       "7                         NaT                       NaT   \n",
       "8                         NaT                       NaT   \n",
       "9                         NaT                       NaT   \n",
       "\n",
       "  RI_EMPLOYEE_REFERRAL_PROG_FROM RI_EMPLOYEE_REFERRAL_PROG_TO  \\\n",
       "0                            NaN                          NaT   \n",
       "1                            NaN                          NaT   \n",
       "2                            NaN                          NaT   \n",
       "3                            NaN                          NaT   \n",
       "4            2014-06-16 00:00:00                   2014-07-03   \n",
       "5                            NaN                          NaT   \n",
       "6            2014-05-12 00:00:00                   2014-06-16   \n",
       "7                            NaN                          NaT   \n",
       "8                            NaN                          NaT   \n",
       "9                            NaN                          NaT   \n",
       "\n",
       "  RI_CAMPUS_PLACEMENT_FROM RI_CAMPUS_PLACEMENT_TO RI_LOCAL_ETHNIC_PAPER_FROM  \\\n",
       "0      2014-05-23 00:00:00             2014-06-27                        NaN   \n",
       "1                      NaN                    NaT        2014-06-04 00:00:00   \n",
       "2                      NaN                    NaT        2014-03-26 00:00:00   \n",
       "3                      NaN                    NaT        2014-06-13 00:00:00   \n",
       "4                      NaN                    NaT                        NaN   \n",
       "5                      NaN                    NaT        2014-02-03 00:00:00   \n",
       "6                      NaN                    NaT                        NaN   \n",
       "7                      NaN                    NaT        2014-06-08 00:00:00   \n",
       "8                      NaN                    NaT        2014-08-21 00:00:00   \n",
       "9                      NaN                    NaT        2014-06-19 00:00:00   \n",
       "\n",
       "  RI_LOCAL_ETHNIC_PAPER_TO RECR_INFO_RADIO_TV_AD_FROM RECR_INFO_RADIO_TV_AD_TO  \n",
       "0                      NaT                        NaT                      NaT  \n",
       "1               2014-06-04                        NaT                      NaT  \n",
       "2               2014-03-26                        NaT                      NaT  \n",
       "3               2014-06-13                        NaT                      NaT  \n",
       "4                      NaT                        NaT                      NaT  \n",
       "5               2014-02-03                        NaT                      NaT  \n",
       "6                      NaT                        NaT                      NaT  \n",
       "7               2014-06-08                        NaT                      NaT  \n",
       "8               2014-08-21                        NaT                      NaT  \n",
       "9               2014-06-19                        NaT                      NaT  \n",
       "\n",
       "[10 rows x 24 columns]"
      ]
     },
     "execution_count": 108,
     "metadata": {},
     "output_type": "execute_result"
    }
   ],
   "source": [
    "recr_dates.head(n=10)"
   ]
  },
  {
   "cell_type": "code",
   "execution_count": 313,
   "metadata": {
    "collapsed": true,
    "deletable": true,
    "editable": true
   },
   "outputs": [],
   "source": [
    "import datetime as dt"
   ]
  },
  {
   "cell_type": "code",
   "execution_count": 288,
   "metadata": {
    "collapsed": false,
    "deletable": true,
    "editable": true
   },
   "outputs": [
    {
     "data": {
      "text/plain": [
       "Timestamp('2014-07-03 00:00:00')"
      ]
     },
     "execution_count": 288,
     "metadata": {},
     "output_type": "execute_result"
    }
   ],
   "source": [
    "#recr_dates['RECR_INFO_SWA_JOB_ORDER_START'] = pd.to_datetime(recr_dates['RECR_INFO_SWA_JOB_ORDER_START'])\n",
    "#recr_dates['RECR_INFO_SWA_JOB_ORDER_START'] = pd.to_datetime(recr_dates['RECR_INFO_SWA_JOB_ORDER_START'], errors='ignore')#\n",
    "#recr_dates['RI_EMPLOYEE_REFERRAL_PROG_TO']\n",
    "tmp = recr_dates['RI_EMPLOYEE_REFERRAL_PROG_TO'][4]\n",
    "tmp.iloc[0]\n",
    "#datetime.strptime(tmp.iloc[0], \"%Y-%m-%d\")"
   ]
  },
  {
   "cell_type": "code",
   "execution_count": 304,
   "metadata": {
    "collapsed": false,
    "deletable": true,
    "editable": true
   },
   "outputs": [
    {
     "data": {
      "text/plain": [
       "datetime64[ns]    1\n",
       "dtype: int64"
      ]
     },
     "execution_count": 304,
     "metadata": {},
     "output_type": "execute_result"
    }
   ],
   "source": [
    "tmp = pd.DataFrame(recr_dates['RI_EMPLOYEE_REFERRAL_PROG_TO'])\n",
    "tmp.dtypes.value_counts()"
   ]
  },
  {
   "cell_type": "code",
   "execution_count": 305,
   "metadata": {
    "collapsed": false,
    "deletable": true,
    "editable": true
   },
   "outputs": [
    {
     "name": "stderr",
     "output_type": "stream",
     "text": [
      "/anaconda3/envs/py36/lib/python3.6/site-packages/ipykernel_launcher.py:1: SettingWithCopyWarning: \n",
      "A value is trying to be set on a copy of a slice from a DataFrame.\n",
      "Try using .loc[row_indexer,col_indexer] = value instead\n",
      "\n",
      "See the caveats in the documentation: http://pandas.pydata.org/pandas-docs/stable/indexing.html#indexing-view-versus-copy\n",
      "  \"\"\"Entry point for launching an IPython kernel.\n"
     ]
    }
   ],
   "source": [
    "recr_dates['RECR_INFO_SWA_JOB_ORDER_START'] = np.where(recr_dates['RECR_INFO_SWA_JOB_ORDER_START'].isnull(), pd.NaT, recr_dates['RECR_INFO_SWA_JOB_ORDER_START'])"
   ]
  },
  {
   "cell_type": "code",
   "execution_count": 307,
   "metadata": {
    "collapsed": false,
    "deletable": true,
    "editable": true
   },
   "outputs": [
    {
     "name": "stderr",
     "output_type": "stream",
     "text": [
      "/anaconda3/envs/py36/lib/python3.6/site-packages/ipykernel_launcher.py:1: SettingWithCopyWarning: \n",
      "A value is trying to be set on a copy of a slice from a DataFrame.\n",
      "Try using .loc[row_indexer,col_indexer] = value instead\n",
      "\n",
      "See the caveats in the documentation: http://pandas.pydata.org/pandas-docs/stable/indexing.html#indexing-view-versus-copy\n",
      "  \"\"\"Entry point for launching an IPython kernel.\n"
     ]
    }
   ],
   "source": [
    "recr_dates['RECR_INFO_SWA_JOB_ORDER_END'] = np.where(recr_dates['RECR_INFO_SWA_JOB_ORDER_END'].isnull(), pd.NaT, recr_dates['RECR_INFO_SWA_JOB_ORDER_END'])"
   ]
  },
  {
   "cell_type": "code",
   "execution_count": 325,
   "metadata": {
    "collapsed": false,
    "deletable": true,
    "editable": true
   },
   "outputs": [
    {
     "name": "stdout",
     "output_type": "stream",
     "text": [
      "No\n"
     ]
    }
   ],
   "source": [
    "if isinstance(type(recr_dates['RECR_INFO_SWA_JOB_ORDER_START'].iloc[1]), pd.Timestamp):\n",
    "    #isinstance(now, datetime.datetime)\n",
    "    print(\"Yes\")\n",
    "else:\n",
    "    print(\"No\")"
   ]
  },
  {
   "cell_type": "code",
   "execution_count": 143,
   "metadata": {
    "collapsed": false,
    "deletable": true,
    "editable": true,
    "scrolled": true
   },
   "outputs": [
    {
     "data": {
      "text/plain": [
       "0 days      2049\n",
       "1 days       123\n",
       "2 days        53\n",
       "30 days       19\n",
       "4 days        15\n",
       "3 days        14\n",
       "5 days        11\n",
       "21 days       10\n",
       "29 days        7\n",
       "31 days        6\n",
       "14 days        6\n",
       "47 days        5\n",
       "35 days        5\n",
       "25 days        5\n",
       "42 days        5\n",
       "60 days        4\n",
       "41 days        4\n",
       "15 days        3\n",
       "27 days        3\n",
       "7 days         3\n",
       "33 days        2\n",
       "160 days       2\n",
       "8 days         2\n",
       "44 days        2\n",
       "54 days        2\n",
       "19 days        2\n",
       "6 days         2\n",
       "13 days        2\n",
       "32 days        2\n",
       "197 days       2\n",
       "151 days       2\n",
       "519 days       2\n",
       "20 days        2\n",
       "73 days        2\n",
       "16 days        1\n",
       "52 days        1\n",
       "11 days        1\n",
       "70 days        1\n",
       "17 days        1\n",
       "68 days        1\n",
       "86 days        1\n",
       "dtype: int64"
      ]
     },
     "execution_count": 143,
     "metadata": {},
     "output_type": "execute_result"
    }
   ],
   "source": [
    "(recr_dates[\"RECR_INFO_JOB_FAIR_TO\"] - recr_dates[\"RECR_INFO_JOB_FAIR_FROM\"]).value_counts()"
   ]
  },
  {
   "cell_type": "code",
   "execution_count": 308,
   "metadata": {
    "collapsed": false,
    "deletable": true,
    "editable": true,
    "scrolled": true
   },
   "outputs": [
    {
     "data": {
      "text/plain": [
       "RECR_INFO_SWA_JOB_ORDER_START             object\n",
       "RECR_INFO_SWA_JOB_ORDER_END               object\n",
       "RECR_INFO_FIRST_AD_START          datetime64[ns]\n",
       "RECR_INFO_SECOND_AD_START         datetime64[ns]\n",
       "RECR_INFO_JOB_FAIR_FROM           datetime64[ns]\n",
       "RECR_INFO_JOB_FAIR_TO             datetime64[ns]\n",
       "RECR_INFO_ON_CAMPUS_RECR_FROM     datetime64[ns]\n",
       "RECR_INFO_ON_CAMPUS_RECR_TO       datetime64[ns]\n",
       "RI_EMPLOYER_WEB_POST_FROM                 object\n",
       "RI_EMPLOYER_WEB_POST_TO           datetime64[ns]\n",
       "RECR_INFO_PRO_ORG_ADVERT_FROM             object\n",
       "RECR_INFO_PRO_ORG_ADVERT_TO       datetime64[ns]\n",
       "RI_JOB_SEARCH_WEBSITE_FROM                object\n",
       "RI_JOB_SEARCH_WEBSITE_TO          datetime64[ns]\n",
       "RI_PVT_EMPLOYMENT_FIRM_FROM       datetime64[ns]\n",
       "RI_PVT_EMPLOYMENT_FIRM_TO         datetime64[ns]\n",
       "RI_EMPLOYEE_REFERRAL_PROG_FROM            object\n",
       "RI_EMPLOYEE_REFERRAL_PROG_TO      datetime64[ns]\n",
       "RI_CAMPUS_PLACEMENT_FROM                  object\n",
       "RI_CAMPUS_PLACEMENT_TO            datetime64[ns]\n",
       "RI_LOCAL_ETHNIC_PAPER_FROM                object\n",
       "RI_LOCAL_ETHNIC_PAPER_TO          datetime64[ns]\n",
       "RECR_INFO_RADIO_TV_AD_FROM        datetime64[ns]\n",
       "RECR_INFO_RADIO_TV_AD_TO          datetime64[ns]\n",
       "dtype: object"
      ]
     },
     "execution_count": 308,
     "metadata": {},
     "output_type": "execute_result"
    }
   ],
   "source": [
    "recr_dates.dtypes"
   ]
  },
  {
   "cell_type": "code",
   "execution_count": 352,
   "metadata": {
    "collapsed": true,
    "deletable": true,
    "editable": true
   },
   "outputs": [],
   "source": [
    "#GOing to try and just do a full count of how many recruitments options they tried\n",
    "recr_count = recr_dates[[\"RECR_INFO_SWA_JOB_ORDER_START\",\"RECR_INFO_FIRST_AD_START\",\"RECR_INFO_SECOND_AD_START\",\"RECR_INFO_JOB_FAIR_FROM\", \"RECR_INFO_ON_CAMPUS_RECR_FROM\",\"RI_EMPLOYER_WEB_POST_FROM\",\"RECR_INFO_PRO_ORG_ADVERT_FROM\",\"RI_JOB_SEARCH_WEBSITE_FROM\",\"RI_PVT_EMPLOYMENT_FIRM_FROM\",\"RI_EMPLOYEE_REFERRAL_PROG_FROM\",\"RI_CAMPUS_PLACEMENT_FROM\",\"RI_LOCAL_ETHNIC_PAPER_FROM\",\"RECR_INFO_RADIO_TV_AD_FROM\"]]"
   ]
  },
  {
   "cell_type": "code",
   "execution_count": 353,
   "metadata": {
    "collapsed": false,
    "deletable": true,
    "editable": true
   },
   "outputs": [
    {
     "data": {
      "text/html": [
       "<div>\n",
       "<style>\n",
       "    .dataframe thead tr:only-child th {\n",
       "        text-align: right;\n",
       "    }\n",
       "\n",
       "    .dataframe thead th {\n",
       "        text-align: left;\n",
       "    }\n",
       "\n",
       "    .dataframe tbody tr th {\n",
       "        vertical-align: top;\n",
       "    }\n",
       "</style>\n",
       "<table border=\"1\" class=\"dataframe\">\n",
       "  <thead>\n",
       "    <tr style=\"text-align: right;\">\n",
       "      <th></th>\n",
       "      <th>RECR_INFO_SWA_JOB_ORDER_START</th>\n",
       "      <th>RECR_INFO_FIRST_AD_START</th>\n",
       "      <th>RECR_INFO_SECOND_AD_START</th>\n",
       "      <th>RECR_INFO_JOB_FAIR_FROM</th>\n",
       "      <th>RECR_INFO_ON_CAMPUS_RECR_FROM</th>\n",
       "      <th>RI_EMPLOYER_WEB_POST_FROM</th>\n",
       "      <th>RECR_INFO_PRO_ORG_ADVERT_FROM</th>\n",
       "      <th>RI_JOB_SEARCH_WEBSITE_FROM</th>\n",
       "      <th>RI_PVT_EMPLOYMENT_FIRM_FROM</th>\n",
       "      <th>RI_EMPLOYEE_REFERRAL_PROG_FROM</th>\n",
       "      <th>RI_CAMPUS_PLACEMENT_FROM</th>\n",
       "      <th>RI_LOCAL_ETHNIC_PAPER_FROM</th>\n",
       "      <th>RECR_INFO_RADIO_TV_AD_FROM</th>\n",
       "    </tr>\n",
       "  </thead>\n",
       "  <tbody>\n",
       "    <tr>\n",
       "      <th>0</th>\n",
       "      <td>2014-05-15 00:00:00</td>\n",
       "      <td>2014-05-25</td>\n",
       "      <td>2014-06-01</td>\n",
       "      <td>NaT</td>\n",
       "      <td>NaT</td>\n",
       "      <td>2014-05-15 00:00:00</td>\n",
       "      <td>NaN</td>\n",
       "      <td>2014-05-16 00:00:00</td>\n",
       "      <td>NaT</td>\n",
       "      <td>NaN</td>\n",
       "      <td>2014-05-23 00:00:00</td>\n",
       "      <td>NaN</td>\n",
       "      <td>NaT</td>\n",
       "    </tr>\n",
       "    <tr>\n",
       "      <th>1</th>\n",
       "      <td>2014-05-29 00:00:00</td>\n",
       "      <td>2014-06-01</td>\n",
       "      <td>2014-06-08</td>\n",
       "      <td>NaT</td>\n",
       "      <td>NaT</td>\n",
       "      <td>2014-05-30 00:00:00</td>\n",
       "      <td>NaN</td>\n",
       "      <td>2014-05-29 00:00:00</td>\n",
       "      <td>NaT</td>\n",
       "      <td>NaN</td>\n",
       "      <td>NaN</td>\n",
       "      <td>2014-06-04 00:00:00</td>\n",
       "      <td>NaT</td>\n",
       "    </tr>\n",
       "    <tr>\n",
       "      <th>2</th>\n",
       "      <td>2014-03-10 00:00:00</td>\n",
       "      <td>2014-03-23</td>\n",
       "      <td>2014-03-30</td>\n",
       "      <td>NaT</td>\n",
       "      <td>NaT</td>\n",
       "      <td>NaN</td>\n",
       "      <td>2014-03-21 00:00:00</td>\n",
       "      <td>2014-03-21 00:00:00</td>\n",
       "      <td>NaT</td>\n",
       "      <td>NaN</td>\n",
       "      <td>NaN</td>\n",
       "      <td>2014-03-26 00:00:00</td>\n",
       "      <td>NaT</td>\n",
       "    </tr>\n",
       "    <tr>\n",
       "      <th>3</th>\n",
       "      <td>2014-06-05 00:00:00</td>\n",
       "      <td>2014-06-08</td>\n",
       "      <td>2014-06-15</td>\n",
       "      <td>NaT</td>\n",
       "      <td>NaT</td>\n",
       "      <td>NaN</td>\n",
       "      <td>2014-07-01 00:00:00</td>\n",
       "      <td>2014-06-11 00:00:00</td>\n",
       "      <td>NaT</td>\n",
       "      <td>NaN</td>\n",
       "      <td>NaN</td>\n",
       "      <td>2014-06-13 00:00:00</td>\n",
       "      <td>NaT</td>\n",
       "    </tr>\n",
       "    <tr>\n",
       "      <th>4</th>\n",
       "      <td>2014-04-01 00:00:00</td>\n",
       "      <td>2014-04-27</td>\n",
       "      <td>2014-05-04</td>\n",
       "      <td>NaT</td>\n",
       "      <td>NaT</td>\n",
       "      <td>2014-04-22 00:00:00</td>\n",
       "      <td>NaN</td>\n",
       "      <td>2014-04-27 00:00:00</td>\n",
       "      <td>NaT</td>\n",
       "      <td>2014-06-16 00:00:00</td>\n",
       "      <td>NaN</td>\n",
       "      <td>NaN</td>\n",
       "      <td>NaT</td>\n",
       "    </tr>\n",
       "    <tr>\n",
       "      <th>5</th>\n",
       "      <td>2014-05-22 00:00:00</td>\n",
       "      <td>2014-02-02</td>\n",
       "      <td>2014-02-09</td>\n",
       "      <td>NaT</td>\n",
       "      <td>NaT</td>\n",
       "      <td>NaN</td>\n",
       "      <td>2014-03-01 00:00:00</td>\n",
       "      <td>2014-05-22 00:00:00</td>\n",
       "      <td>NaT</td>\n",
       "      <td>NaN</td>\n",
       "      <td>NaN</td>\n",
       "      <td>2014-02-03 00:00:00</td>\n",
       "      <td>NaT</td>\n",
       "    </tr>\n",
       "    <tr>\n",
       "      <th>6</th>\n",
       "      <td>2014-05-17 00:00:00</td>\n",
       "      <td>2014-06-01</td>\n",
       "      <td>2014-06-08</td>\n",
       "      <td>NaT</td>\n",
       "      <td>NaT</td>\n",
       "      <td>2014-05-14 00:00:00</td>\n",
       "      <td>NaN</td>\n",
       "      <td>2014-05-13 00:00:00</td>\n",
       "      <td>NaT</td>\n",
       "      <td>2014-05-12 00:00:00</td>\n",
       "      <td>NaN</td>\n",
       "      <td>NaN</td>\n",
       "      <td>NaT</td>\n",
       "    </tr>\n",
       "    <tr>\n",
       "      <th>7</th>\n",
       "      <td>2014-02-20 00:00:00</td>\n",
       "      <td>2014-06-08</td>\n",
       "      <td>2014-06-15</td>\n",
       "      <td>NaT</td>\n",
       "      <td>NaT</td>\n",
       "      <td>2014-06-05 00:00:00</td>\n",
       "      <td>NaN</td>\n",
       "      <td>2014-06-08 00:00:00</td>\n",
       "      <td>NaT</td>\n",
       "      <td>NaN</td>\n",
       "      <td>NaN</td>\n",
       "      <td>2014-06-08 00:00:00</td>\n",
       "      <td>NaT</td>\n",
       "    </tr>\n",
       "    <tr>\n",
       "      <th>8</th>\n",
       "      <td>2014-06-13 00:00:00</td>\n",
       "      <td>2014-06-15</td>\n",
       "      <td>2014-06-22</td>\n",
       "      <td>NaT</td>\n",
       "      <td>NaT</td>\n",
       "      <td>2014-06-16 00:00:00</td>\n",
       "      <td>NaN</td>\n",
       "      <td>2014-06-16 00:00:00</td>\n",
       "      <td>NaT</td>\n",
       "      <td>NaN</td>\n",
       "      <td>NaN</td>\n",
       "      <td>2014-08-21 00:00:00</td>\n",
       "      <td>NaT</td>\n",
       "    </tr>\n",
       "    <tr>\n",
       "      <th>9</th>\n",
       "      <td>2014-05-15 00:00:00</td>\n",
       "      <td>2014-06-15</td>\n",
       "      <td>2014-06-22</td>\n",
       "      <td>NaT</td>\n",
       "      <td>NaT</td>\n",
       "      <td>NaN</td>\n",
       "      <td>2014-06-16 00:00:00</td>\n",
       "      <td>2014-06-16 00:00:00</td>\n",
       "      <td>NaT</td>\n",
       "      <td>NaN</td>\n",
       "      <td>NaN</td>\n",
       "      <td>2014-06-19 00:00:00</td>\n",
       "      <td>NaT</td>\n",
       "    </tr>\n",
       "  </tbody>\n",
       "</table>\n",
       "</div>"
      ],
      "text/plain": [
       "  RECR_INFO_SWA_JOB_ORDER_START RECR_INFO_FIRST_AD_START  \\\n",
       "0           2014-05-15 00:00:00               2014-05-25   \n",
       "1           2014-05-29 00:00:00               2014-06-01   \n",
       "2           2014-03-10 00:00:00               2014-03-23   \n",
       "3           2014-06-05 00:00:00               2014-06-08   \n",
       "4           2014-04-01 00:00:00               2014-04-27   \n",
       "5           2014-05-22 00:00:00               2014-02-02   \n",
       "6           2014-05-17 00:00:00               2014-06-01   \n",
       "7           2014-02-20 00:00:00               2014-06-08   \n",
       "8           2014-06-13 00:00:00               2014-06-15   \n",
       "9           2014-05-15 00:00:00               2014-06-15   \n",
       "\n",
       "  RECR_INFO_SECOND_AD_START RECR_INFO_JOB_FAIR_FROM  \\\n",
       "0                2014-06-01                     NaT   \n",
       "1                2014-06-08                     NaT   \n",
       "2                2014-03-30                     NaT   \n",
       "3                2014-06-15                     NaT   \n",
       "4                2014-05-04                     NaT   \n",
       "5                2014-02-09                     NaT   \n",
       "6                2014-06-08                     NaT   \n",
       "7                2014-06-15                     NaT   \n",
       "8                2014-06-22                     NaT   \n",
       "9                2014-06-22                     NaT   \n",
       "\n",
       "  RECR_INFO_ON_CAMPUS_RECR_FROM RI_EMPLOYER_WEB_POST_FROM  \\\n",
       "0                           NaT       2014-05-15 00:00:00   \n",
       "1                           NaT       2014-05-30 00:00:00   \n",
       "2                           NaT                       NaN   \n",
       "3                           NaT                       NaN   \n",
       "4                           NaT       2014-04-22 00:00:00   \n",
       "5                           NaT                       NaN   \n",
       "6                           NaT       2014-05-14 00:00:00   \n",
       "7                           NaT       2014-06-05 00:00:00   \n",
       "8                           NaT       2014-06-16 00:00:00   \n",
       "9                           NaT                       NaN   \n",
       "\n",
       "  RECR_INFO_PRO_ORG_ADVERT_FROM RI_JOB_SEARCH_WEBSITE_FROM  \\\n",
       "0                           NaN        2014-05-16 00:00:00   \n",
       "1                           NaN        2014-05-29 00:00:00   \n",
       "2           2014-03-21 00:00:00        2014-03-21 00:00:00   \n",
       "3           2014-07-01 00:00:00        2014-06-11 00:00:00   \n",
       "4                           NaN        2014-04-27 00:00:00   \n",
       "5           2014-03-01 00:00:00        2014-05-22 00:00:00   \n",
       "6                           NaN        2014-05-13 00:00:00   \n",
       "7                           NaN        2014-06-08 00:00:00   \n",
       "8                           NaN        2014-06-16 00:00:00   \n",
       "9           2014-06-16 00:00:00        2014-06-16 00:00:00   \n",
       "\n",
       "  RI_PVT_EMPLOYMENT_FIRM_FROM RI_EMPLOYEE_REFERRAL_PROG_FROM  \\\n",
       "0                         NaT                            NaN   \n",
       "1                         NaT                            NaN   \n",
       "2                         NaT                            NaN   \n",
       "3                         NaT                            NaN   \n",
       "4                         NaT            2014-06-16 00:00:00   \n",
       "5                         NaT                            NaN   \n",
       "6                         NaT            2014-05-12 00:00:00   \n",
       "7                         NaT                            NaN   \n",
       "8                         NaT                            NaN   \n",
       "9                         NaT                            NaN   \n",
       "\n",
       "  RI_CAMPUS_PLACEMENT_FROM RI_LOCAL_ETHNIC_PAPER_FROM  \\\n",
       "0      2014-05-23 00:00:00                        NaN   \n",
       "1                      NaN        2014-06-04 00:00:00   \n",
       "2                      NaN        2014-03-26 00:00:00   \n",
       "3                      NaN        2014-06-13 00:00:00   \n",
       "4                      NaN                        NaN   \n",
       "5                      NaN        2014-02-03 00:00:00   \n",
       "6                      NaN                        NaN   \n",
       "7                      NaN        2014-06-08 00:00:00   \n",
       "8                      NaN        2014-08-21 00:00:00   \n",
       "9                      NaN        2014-06-19 00:00:00   \n",
       "\n",
       "  RECR_INFO_RADIO_TV_AD_FROM  \n",
       "0                        NaT  \n",
       "1                        NaT  \n",
       "2                        NaT  \n",
       "3                        NaT  \n",
       "4                        NaT  \n",
       "5                        NaT  \n",
       "6                        NaT  \n",
       "7                        NaT  \n",
       "8                        NaT  \n",
       "9                        NaT  "
      ]
     },
     "execution_count": 353,
     "metadata": {},
     "output_type": "execute_result"
    }
   ],
   "source": [
    "recr_count.head(n=10)"
   ]
  },
  {
   "cell_type": "code",
   "execution_count": 356,
   "metadata": {
    "collapsed": false,
    "deletable": true,
    "editable": true
   },
   "outputs": [
    {
     "name": "stderr",
     "output_type": "stream",
     "text": [
      "/anaconda3/envs/py36/lib/python3.6/site-packages/ipykernel_launcher.py:1: SettingWithCopyWarning: \n",
      "A value is trying to be set on a copy of a slice from a DataFrame.\n",
      "Try using .loc[row_indexer,col_indexer] = value instead\n",
      "\n",
      "See the caveats in the documentation: http://pandas.pydata.org/pandas-docs/stable/indexing.html#indexing-view-versus-copy\n",
      "  \"\"\"Entry point for launching an IPython kernel.\n"
     ]
    }
   ],
   "source": [
    "recr_count['Recr_Trials'] = recr_count.count(axis = 1)"
   ]
  },
  {
   "cell_type": "markdown",
   "metadata": {
    "deletable": true,
    "editable": true
   },
   "source": [
    "## Final data"
   ]
  },
  {
   "cell_type": "code",
   "execution_count": 432,
   "metadata": {
    "collapsed": true,
    "deletable": true,
    "editable": true
   },
   "outputs": [],
   "source": [
    "data_fin = data[['CASE_NUMBER','CASE_STATUS']]"
   ]
  },
  {
   "cell_type": "code",
   "execution_count": 433,
   "metadata": {
    "collapsed": false,
    "deletable": true,
    "editable": true
   },
   "outputs": [
    {
     "name": "stderr",
     "output_type": "stream",
     "text": [
      "/anaconda3/envs/py36/lib/python3.6/site-packages/ipykernel_launcher.py:1: SettingWithCopyWarning: \n",
      "A value is trying to be set on a copy of a slice from a DataFrame.\n",
      "Try using .loc[row_indexer,col_indexer] = value instead\n",
      "\n",
      "See the caveats in the documentation: http://pandas.pydata.org/pandas-docs/stable/indexing.html#indexing-view-versus-copy\n",
      "  \"\"\"Entry point for launching an IPython kernel.\n"
     ]
    }
   ],
   "source": [
    "data_fin['CASE_STATUS'] = pd.DataFrame(np.where(data['CASE_STATUS'] == 'Certified-Expired' , 'Certified', data['CASE_STATUS']))"
   ]
  },
  {
   "cell_type": "code",
   "execution_count": 392,
   "metadata": {
    "collapsed": false,
    "deletable": true,
    "editable": true
   },
   "outputs": [
    {
     "name": "stderr",
     "output_type": "stream",
     "text": [
      "/anaconda3/envs/py36/lib/python3.6/site-packages/ipykernel_launcher.py:1: SettingWithCopyWarning: \n",
      "A value is trying to be set on a copy of a slice from a DataFrame.\n",
      "Try using .loc[row_indexer,col_indexer] = value instead\n",
      "\n",
      "See the caveats in the documentation: http://pandas.pydata.org/pandas-docs/stable/indexing.html#indexing-view-versus-copy\n",
      "  \"\"\"Entry point for launching an IPython kernel.\n"
     ]
    }
   ],
   "source": [
    "data_fin['DEC_YEAR'] = pd.DatetimeIndex(data['DECISION_DATE']).year"
   ]
  },
  {
   "cell_type": "code",
   "execution_count": 434,
   "metadata": {
    "collapsed": false,
    "deletable": true,
    "editable": true
   },
   "outputs": [
    {
     "name": "stderr",
     "output_type": "stream",
     "text": [
      "/anaconda3/envs/py36/lib/python3.6/site-packages/ipykernel_launcher.py:1: SettingWithCopyWarning: \n",
      "A value is trying to be set on a copy of a slice from a DataFrame.\n",
      "Try using .loc[row_indexer,col_indexer] = value instead\n",
      "\n",
      "See the caveats in the documentation: http://pandas.pydata.org/pandas-docs/stable/indexing.html#indexing-view-versus-copy\n",
      "  \"\"\"Entry point for launching an IPython kernel.\n"
     ]
    }
   ],
   "source": [
    "data_fin['LAWYER'] = np.where(pd.isnull(data['AGENT_FIRM_NAME']), 0, 1)"
   ]
  },
  {
   "cell_type": "code",
   "execution_count": 444,
   "metadata": {
    "collapsed": false,
    "deletable": true,
    "editable": true
   },
   "outputs": [
    {
     "data": {
      "text/plain": [
       "CASE_STATUS  LAWYER\n",
       "Certified    0          39876\n",
       "             1         264626\n",
       "Denied       0           3174\n",
       "             1          17857\n",
       "Withdrawn    0           2111\n",
       "             1          13941\n",
       "Name: CASE_STATUS, dtype: int64"
      ]
     },
     "execution_count": 444,
     "metadata": {},
     "output_type": "execute_result"
    }
   ],
   "source": [
    "data_fin.groupby(['CASE_STATUS','LAWYER'])['CASE_STATUS'].count()"
   ]
  },
  {
   "cell_type": "code",
   "execution_count": 447,
   "metadata": {
    "collapsed": false,
    "deletable": true,
    "editable": true
   },
   "outputs": [
    {
     "data": {
      "text/plain": [
       "LAWYER\n",
       "0     45161\n",
       "1    296424\n",
       "Name: CASE_NUMBER, dtype: int64"
      ]
     },
     "execution_count": 447,
     "metadata": {},
     "output_type": "execute_result"
    }
   ],
   "source": [
    " data_fin.groupby(['LAWYER'])['CASE_NUMBER'].count() "
   ]
  },
  {
   "cell_type": "code",
   "execution_count": 382,
   "metadata": {
    "collapsed": true,
    "deletable": true,
    "editable": true
   },
   "outputs": [],
   "source": [
    "#data_fin['RECR_TRIALS'] = recr_count.count(axis = 1)"
   ]
  },
  {
   "cell_type": "code",
   "execution_count": 394,
   "metadata": {
    "collapsed": false,
    "deletable": true,
    "editable": true
   },
   "outputs": [
    {
     "name": "stderr",
     "output_type": "stream",
     "text": [
      "/anaconda3/envs/py36/lib/python3.6/site-packages/ipykernel_launcher.py:1: SettingWithCopyWarning: \n",
      "A value is trying to be set on a copy of a slice from a DataFrame.\n",
      "Try using .loc[row_indexer,col_indexer] = value instead\n",
      "\n",
      "See the caveats in the documentation: http://pandas.pydata.org/pandas-docs/stable/indexing.html#indexing-view-versus-copy\n",
      "  \"\"\"Entry point for launching an IPython kernel.\n"
     ]
    }
   ],
   "source": [
    "data_fin['HIGHER_EDU'] =  np.where(edu['FOREIGN_WORKER_INFO_EDUCATION'] > edu['JOB_INFO_EDUCATION'], 1,0)"
   ]
  },
  {
   "cell_type": "code",
   "execution_count": 395,
   "metadata": {
    "collapsed": false,
    "deletable": true,
    "editable": true
   },
   "outputs": [
    {
     "name": "stderr",
     "output_type": "stream",
     "text": [
      "/anaconda3/envs/py36/lib/python3.6/site-packages/ipykernel_launcher.py:1: SettingWithCopyWarning: \n",
      "A value is trying to be set on a copy of a slice from a DataFrame.\n",
      "Try using .loc[row_indexer,col_indexer] = value instead\n",
      "\n",
      "See the caveats in the documentation: http://pandas.pydata.org/pandas-docs/stable/indexing.html#indexing-view-versus-copy\n",
      "  \"\"\"Entry point for launching an IPython kernel.\n"
     ]
    }
   ],
   "source": [
    "data_fin['SAME_EDU'] = np.where(data['JOB_INFO_EDUCATION'] == data ['FOREIGN_WORKER_INFO_EDUCATION'], 1 , 0 )"
   ]
  },
  {
   "cell_type": "code",
   "execution_count": 402,
   "metadata": {
    "collapsed": false,
    "deletable": true,
    "editable": true
   },
   "outputs": [
    {
     "data": {
      "text/html": [
       "<div>\n",
       "<style>\n",
       "    .dataframe thead tr:only-child th {\n",
       "        text-align: right;\n",
       "    }\n",
       "\n",
       "    .dataframe thead th {\n",
       "        text-align: left;\n",
       "    }\n",
       "\n",
       "    .dataframe tbody tr th {\n",
       "        vertical-align: top;\n",
       "    }\n",
       "</style>\n",
       "<table border=\"1\" class=\"dataframe\">\n",
       "  <thead>\n",
       "    <tr style=\"text-align: right;\">\n",
       "      <th></th>\n",
       "      <th>CASE_NUMBER</th>\n",
       "      <th>CASE_STATUS</th>\n",
       "      <th>DEC_YEAR</th>\n",
       "      <th>LAWYER</th>\n",
       "      <th>HIGHER_EDU</th>\n",
       "      <th>SAME_EDU</th>\n",
       "      <th>CLASS_OF_ADMISSION</th>\n",
       "      <th>H1B_VISA</th>\n",
       "      <th>Other_Visa</th>\n",
       "      <th>No_US_Visa</th>\n",
       "    </tr>\n",
       "  </thead>\n",
       "  <tbody>\n",
       "    <tr>\n",
       "      <th>0</th>\n",
       "      <td>A-14220-96665</td>\n",
       "      <td>Certified</td>\n",
       "      <td>2015</td>\n",
       "      <td>1</td>\n",
       "      <td>0</td>\n",
       "      <td>0</td>\n",
       "      <td>H-1B</td>\n",
       "      <td>1</td>\n",
       "      <td>0</td>\n",
       "      <td>0</td>\n",
       "    </tr>\n",
       "    <tr>\n",
       "      <th>1</th>\n",
       "      <td>A-14220-96720</td>\n",
       "      <td>Certified</td>\n",
       "      <td>2015</td>\n",
       "      <td>1</td>\n",
       "      <td>0</td>\n",
       "      <td>1</td>\n",
       "      <td>H-1B</td>\n",
       "      <td>1</td>\n",
       "      <td>0</td>\n",
       "      <td>0</td>\n",
       "    </tr>\n",
       "    <tr>\n",
       "      <th>2</th>\n",
       "      <td>A-14203-91167</td>\n",
       "      <td>Certified</td>\n",
       "      <td>2014</td>\n",
       "      <td>1</td>\n",
       "      <td>0</td>\n",
       "      <td>1</td>\n",
       "      <td>L-1</td>\n",
       "      <td>0</td>\n",
       "      <td>1</td>\n",
       "      <td>0</td>\n",
       "    </tr>\n",
       "    <tr>\n",
       "      <th>3</th>\n",
       "      <td>A-14206-92509</td>\n",
       "      <td>Certified</td>\n",
       "      <td>2015</td>\n",
       "      <td>1</td>\n",
       "      <td>0</td>\n",
       "      <td>1</td>\n",
       "      <td>H-1B</td>\n",
       "      <td>1</td>\n",
       "      <td>0</td>\n",
       "      <td>0</td>\n",
       "    </tr>\n",
       "    <tr>\n",
       "      <th>4</th>\n",
       "      <td>A-14202-90786</td>\n",
       "      <td>Certified</td>\n",
       "      <td>2015</td>\n",
       "      <td>1</td>\n",
       "      <td>1</td>\n",
       "      <td>0</td>\n",
       "      <td>H-1B</td>\n",
       "      <td>1</td>\n",
       "      <td>0</td>\n",
       "      <td>0</td>\n",
       "    </tr>\n",
       "    <tr>\n",
       "      <th>5</th>\n",
       "      <td>A-14202-90819</td>\n",
       "      <td>Certified</td>\n",
       "      <td>2014</td>\n",
       "      <td>1</td>\n",
       "      <td>0</td>\n",
       "      <td>1</td>\n",
       "      <td>H-1B</td>\n",
       "      <td>1</td>\n",
       "      <td>0</td>\n",
       "      <td>0</td>\n",
       "    </tr>\n",
       "    <tr>\n",
       "      <th>6</th>\n",
       "      <td>A-14202-90920</td>\n",
       "      <td>Certified</td>\n",
       "      <td>2015</td>\n",
       "      <td>1</td>\n",
       "      <td>0</td>\n",
       "      <td>1</td>\n",
       "      <td>H-1B</td>\n",
       "      <td>1</td>\n",
       "      <td>0</td>\n",
       "      <td>0</td>\n",
       "    </tr>\n",
       "    <tr>\n",
       "      <th>7</th>\n",
       "      <td>A-14220-96712</td>\n",
       "      <td>Certified</td>\n",
       "      <td>2015</td>\n",
       "      <td>1</td>\n",
       "      <td>0</td>\n",
       "      <td>1</td>\n",
       "      <td>H-1B</td>\n",
       "      <td>1</td>\n",
       "      <td>0</td>\n",
       "      <td>0</td>\n",
       "    </tr>\n",
       "    <tr>\n",
       "      <th>8</th>\n",
       "      <td>A-14226-98150</td>\n",
       "      <td>Certified</td>\n",
       "      <td>2015</td>\n",
       "      <td>1</td>\n",
       "      <td>0</td>\n",
       "      <td>1</td>\n",
       "      <td>H-1B</td>\n",
       "      <td>1</td>\n",
       "      <td>0</td>\n",
       "      <td>0</td>\n",
       "    </tr>\n",
       "    <tr>\n",
       "      <th>9</th>\n",
       "      <td>A-14226-98245</td>\n",
       "      <td>Certified</td>\n",
       "      <td>2015</td>\n",
       "      <td>1</td>\n",
       "      <td>0</td>\n",
       "      <td>1</td>\n",
       "      <td>None</td>\n",
       "      <td>0</td>\n",
       "      <td>0</td>\n",
       "      <td>1</td>\n",
       "    </tr>\n",
       "    <tr>\n",
       "      <th>10</th>\n",
       "      <td>A-14224-97486</td>\n",
       "      <td>Certified</td>\n",
       "      <td>2015</td>\n",
       "      <td>1</td>\n",
       "      <td>0</td>\n",
       "      <td>1</td>\n",
       "      <td>H-1B</td>\n",
       "      <td>1</td>\n",
       "      <td>0</td>\n",
       "      <td>0</td>\n",
       "    </tr>\n",
       "    <tr>\n",
       "      <th>11</th>\n",
       "      <td>A-14224-97503</td>\n",
       "      <td>Certified</td>\n",
       "      <td>2015</td>\n",
       "      <td>1</td>\n",
       "      <td>0</td>\n",
       "      <td>1</td>\n",
       "      <td>H-1B</td>\n",
       "      <td>1</td>\n",
       "      <td>0</td>\n",
       "      <td>0</td>\n",
       "    </tr>\n",
       "    <tr>\n",
       "      <th>12</th>\n",
       "      <td>A-14218-95841</td>\n",
       "      <td>Certified</td>\n",
       "      <td>2015</td>\n",
       "      <td>1</td>\n",
       "      <td>0</td>\n",
       "      <td>1</td>\n",
       "      <td>H-1B</td>\n",
       "      <td>1</td>\n",
       "      <td>0</td>\n",
       "      <td>0</td>\n",
       "    </tr>\n",
       "    <tr>\n",
       "      <th>13</th>\n",
       "      <td>A-14218-95919</td>\n",
       "      <td>Certified</td>\n",
       "      <td>2015</td>\n",
       "      <td>1</td>\n",
       "      <td>0</td>\n",
       "      <td>1</td>\n",
       "      <td>H-1B</td>\n",
       "      <td>1</td>\n",
       "      <td>0</td>\n",
       "      <td>0</td>\n",
       "    </tr>\n",
       "    <tr>\n",
       "      <th>14</th>\n",
       "      <td>A-14233-00479</td>\n",
       "      <td>Certified</td>\n",
       "      <td>2015</td>\n",
       "      <td>0</td>\n",
       "      <td>0</td>\n",
       "      <td>1</td>\n",
       "      <td>H-1B</td>\n",
       "      <td>1</td>\n",
       "      <td>0</td>\n",
       "      <td>0</td>\n",
       "    </tr>\n",
       "    <tr>\n",
       "      <th>15</th>\n",
       "      <td>A-14233-00480</td>\n",
       "      <td>Certified</td>\n",
       "      <td>2015</td>\n",
       "      <td>1</td>\n",
       "      <td>0</td>\n",
       "      <td>1</td>\n",
       "      <td>H-1B</td>\n",
       "      <td>1</td>\n",
       "      <td>0</td>\n",
       "      <td>0</td>\n",
       "    </tr>\n",
       "    <tr>\n",
       "      <th>16</th>\n",
       "      <td>A-14233-00487</td>\n",
       "      <td>Certified</td>\n",
       "      <td>2015</td>\n",
       "      <td>1</td>\n",
       "      <td>0</td>\n",
       "      <td>1</td>\n",
       "      <td>J-1</td>\n",
       "      <td>0</td>\n",
       "      <td>1</td>\n",
       "      <td>0</td>\n",
       "    </tr>\n",
       "    <tr>\n",
       "      <th>17</th>\n",
       "      <td>A-14233-00533</td>\n",
       "      <td>Certified</td>\n",
       "      <td>2015</td>\n",
       "      <td>1</td>\n",
       "      <td>0</td>\n",
       "      <td>1</td>\n",
       "      <td>H-1B</td>\n",
       "      <td>1</td>\n",
       "      <td>0</td>\n",
       "      <td>0</td>\n",
       "    </tr>\n",
       "    <tr>\n",
       "      <th>18</th>\n",
       "      <td>A-14233-00565</td>\n",
       "      <td>Certified</td>\n",
       "      <td>2015</td>\n",
       "      <td>1</td>\n",
       "      <td>0</td>\n",
       "      <td>1</td>\n",
       "      <td>L-1</td>\n",
       "      <td>0</td>\n",
       "      <td>1</td>\n",
       "      <td>0</td>\n",
       "    </tr>\n",
       "    <tr>\n",
       "      <th>19</th>\n",
       "      <td>A-14238-01616</td>\n",
       "      <td>Certified</td>\n",
       "      <td>2015</td>\n",
       "      <td>1</td>\n",
       "      <td>0</td>\n",
       "      <td>1</td>\n",
       "      <td>H-1B</td>\n",
       "      <td>1</td>\n",
       "      <td>0</td>\n",
       "      <td>0</td>\n",
       "    </tr>\n",
       "    <tr>\n",
       "      <th>20</th>\n",
       "      <td>A-14238-01636</td>\n",
       "      <td>Certified</td>\n",
       "      <td>2015</td>\n",
       "      <td>1</td>\n",
       "      <td>0</td>\n",
       "      <td>1</td>\n",
       "      <td>F-1</td>\n",
       "      <td>0</td>\n",
       "      <td>1</td>\n",
       "      <td>0</td>\n",
       "    </tr>\n",
       "    <tr>\n",
       "      <th>21</th>\n",
       "      <td>A-14245-03117</td>\n",
       "      <td>Certified</td>\n",
       "      <td>2015</td>\n",
       "      <td>1</td>\n",
       "      <td>0</td>\n",
       "      <td>1</td>\n",
       "      <td>H-1B</td>\n",
       "      <td>1</td>\n",
       "      <td>0</td>\n",
       "      <td>0</td>\n",
       "    </tr>\n",
       "    <tr>\n",
       "      <th>22</th>\n",
       "      <td>A-14245-03216</td>\n",
       "      <td>Certified</td>\n",
       "      <td>2015</td>\n",
       "      <td>1</td>\n",
       "      <td>0</td>\n",
       "      <td>1</td>\n",
       "      <td>H-1B</td>\n",
       "      <td>1</td>\n",
       "      <td>0</td>\n",
       "      <td>0</td>\n",
       "    </tr>\n",
       "    <tr>\n",
       "      <th>23</th>\n",
       "      <td>A-14245-03304</td>\n",
       "      <td>Certified</td>\n",
       "      <td>2015</td>\n",
       "      <td>1</td>\n",
       "      <td>0</td>\n",
       "      <td>1</td>\n",
       "      <td>H-1B</td>\n",
       "      <td>1</td>\n",
       "      <td>0</td>\n",
       "      <td>0</td>\n",
       "    </tr>\n",
       "    <tr>\n",
       "      <th>24</th>\n",
       "      <td>A-14246-03493</td>\n",
       "      <td>Certified</td>\n",
       "      <td>2015</td>\n",
       "      <td>1</td>\n",
       "      <td>0</td>\n",
       "      <td>1</td>\n",
       "      <td>H-1B</td>\n",
       "      <td>1</td>\n",
       "      <td>0</td>\n",
       "      <td>0</td>\n",
       "    </tr>\n",
       "    <tr>\n",
       "      <th>25</th>\n",
       "      <td>A-14246-03533</td>\n",
       "      <td>Certified</td>\n",
       "      <td>2015</td>\n",
       "      <td>1</td>\n",
       "      <td>0</td>\n",
       "      <td>1</td>\n",
       "      <td>H-1B</td>\n",
       "      <td>1</td>\n",
       "      <td>0</td>\n",
       "      <td>0</td>\n",
       "    </tr>\n",
       "    <tr>\n",
       "      <th>26</th>\n",
       "      <td>A-14246-03571</td>\n",
       "      <td>Certified</td>\n",
       "      <td>2015</td>\n",
       "      <td>1</td>\n",
       "      <td>0</td>\n",
       "      <td>1</td>\n",
       "      <td>H-1B</td>\n",
       "      <td>1</td>\n",
       "      <td>0</td>\n",
       "      <td>0</td>\n",
       "    </tr>\n",
       "    <tr>\n",
       "      <th>27</th>\n",
       "      <td>A-14198-89632</td>\n",
       "      <td>Certified</td>\n",
       "      <td>2015</td>\n",
       "      <td>1</td>\n",
       "      <td>0</td>\n",
       "      <td>1</td>\n",
       "      <td>H-1B</td>\n",
       "      <td>1</td>\n",
       "      <td>0</td>\n",
       "      <td>0</td>\n",
       "    </tr>\n",
       "    <tr>\n",
       "      <th>28</th>\n",
       "      <td>A-14198-89806</td>\n",
       "      <td>Certified</td>\n",
       "      <td>2015</td>\n",
       "      <td>0</td>\n",
       "      <td>0</td>\n",
       "      <td>1</td>\n",
       "      <td>H-1B</td>\n",
       "      <td>1</td>\n",
       "      <td>0</td>\n",
       "      <td>0</td>\n",
       "    </tr>\n",
       "    <tr>\n",
       "      <th>29</th>\n",
       "      <td>A-14202-90634</td>\n",
       "      <td>Certified</td>\n",
       "      <td>2014</td>\n",
       "      <td>0</td>\n",
       "      <td>1</td>\n",
       "      <td>0</td>\n",
       "      <td>H-1B</td>\n",
       "      <td>1</td>\n",
       "      <td>0</td>\n",
       "      <td>0</td>\n",
       "    </tr>\n",
       "    <tr>\n",
       "      <th>...</th>\n",
       "      <td>...</td>\n",
       "      <td>...</td>\n",
       "      <td>...</td>\n",
       "      <td>...</td>\n",
       "      <td>...</td>\n",
       "      <td>...</td>\n",
       "      <td>...</td>\n",
       "      <td>...</td>\n",
       "      <td>...</td>\n",
       "      <td>...</td>\n",
       "    </tr>\n",
       "    <tr>\n",
       "      <th>596445</th>\n",
       "      <td>A-16209-36592</td>\n",
       "      <td>Certified</td>\n",
       "      <td>2016</td>\n",
       "      <td>1</td>\n",
       "      <td>0</td>\n",
       "      <td>1</td>\n",
       "      <td>None</td>\n",
       "      <td>0</td>\n",
       "      <td>0</td>\n",
       "      <td>1</td>\n",
       "    </tr>\n",
       "    <tr>\n",
       "      <th>596446</th>\n",
       "      <td>A-16209-36592</td>\n",
       "      <td>Certified</td>\n",
       "      <td>2016</td>\n",
       "      <td>1</td>\n",
       "      <td>0</td>\n",
       "      <td>1</td>\n",
       "      <td>None</td>\n",
       "      <td>0</td>\n",
       "      <td>0</td>\n",
       "      <td>1</td>\n",
       "    </tr>\n",
       "    <tr>\n",
       "      <th>596447</th>\n",
       "      <td>A-16209-36593</td>\n",
       "      <td>Certified</td>\n",
       "      <td>2016</td>\n",
       "      <td>1</td>\n",
       "      <td>0</td>\n",
       "      <td>1</td>\n",
       "      <td>F-1</td>\n",
       "      <td>0</td>\n",
       "      <td>1</td>\n",
       "      <td>0</td>\n",
       "    </tr>\n",
       "    <tr>\n",
       "      <th>596448</th>\n",
       "      <td>A-16209-36593</td>\n",
       "      <td>Certified</td>\n",
       "      <td>2016</td>\n",
       "      <td>1</td>\n",
       "      <td>0</td>\n",
       "      <td>1</td>\n",
       "      <td>F-1</td>\n",
       "      <td>0</td>\n",
       "      <td>1</td>\n",
       "      <td>0</td>\n",
       "    </tr>\n",
       "    <tr>\n",
       "      <th>596449</th>\n",
       "      <td>A-16209-36593</td>\n",
       "      <td>Certified</td>\n",
       "      <td>2016</td>\n",
       "      <td>1</td>\n",
       "      <td>0</td>\n",
       "      <td>1</td>\n",
       "      <td>F-1</td>\n",
       "      <td>0</td>\n",
       "      <td>1</td>\n",
       "      <td>0</td>\n",
       "    </tr>\n",
       "    <tr>\n",
       "      <th>596450</th>\n",
       "      <td>A-16209-36593</td>\n",
       "      <td>Certified</td>\n",
       "      <td>2016</td>\n",
       "      <td>1</td>\n",
       "      <td>0</td>\n",
       "      <td>1</td>\n",
       "      <td>F-1</td>\n",
       "      <td>0</td>\n",
       "      <td>1</td>\n",
       "      <td>0</td>\n",
       "    </tr>\n",
       "    <tr>\n",
       "      <th>596451</th>\n",
       "      <td>A-16209-36596</td>\n",
       "      <td>Certified</td>\n",
       "      <td>2016</td>\n",
       "      <td>1</td>\n",
       "      <td>0</td>\n",
       "      <td>1</td>\n",
       "      <td>F-1</td>\n",
       "      <td>0</td>\n",
       "      <td>1</td>\n",
       "      <td>0</td>\n",
       "    </tr>\n",
       "    <tr>\n",
       "      <th>596452</th>\n",
       "      <td>A-16209-36596</td>\n",
       "      <td>Certified</td>\n",
       "      <td>2016</td>\n",
       "      <td>1</td>\n",
       "      <td>0</td>\n",
       "      <td>1</td>\n",
       "      <td>F-1</td>\n",
       "      <td>0</td>\n",
       "      <td>1</td>\n",
       "      <td>0</td>\n",
       "    </tr>\n",
       "    <tr>\n",
       "      <th>596453</th>\n",
       "      <td>A-16209-36596</td>\n",
       "      <td>Certified</td>\n",
       "      <td>2016</td>\n",
       "      <td>1</td>\n",
       "      <td>0</td>\n",
       "      <td>1</td>\n",
       "      <td>F-1</td>\n",
       "      <td>0</td>\n",
       "      <td>1</td>\n",
       "      <td>0</td>\n",
       "    </tr>\n",
       "    <tr>\n",
       "      <th>596454</th>\n",
       "      <td>A-16209-36596</td>\n",
       "      <td>Certified</td>\n",
       "      <td>2016</td>\n",
       "      <td>1</td>\n",
       "      <td>0</td>\n",
       "      <td>1</td>\n",
       "      <td>F-1</td>\n",
       "      <td>0</td>\n",
       "      <td>1</td>\n",
       "      <td>0</td>\n",
       "    </tr>\n",
       "    <tr>\n",
       "      <th>596455</th>\n",
       "      <td>A-16209-36597</td>\n",
       "      <td>Certified</td>\n",
       "      <td>2016</td>\n",
       "      <td>1</td>\n",
       "      <td>0</td>\n",
       "      <td>1</td>\n",
       "      <td>None</td>\n",
       "      <td>0</td>\n",
       "      <td>0</td>\n",
       "      <td>1</td>\n",
       "    </tr>\n",
       "    <tr>\n",
       "      <th>596456</th>\n",
       "      <td>A-16209-36597</td>\n",
       "      <td>Certified</td>\n",
       "      <td>2016</td>\n",
       "      <td>1</td>\n",
       "      <td>0</td>\n",
       "      <td>1</td>\n",
       "      <td>None</td>\n",
       "      <td>0</td>\n",
       "      <td>0</td>\n",
       "      <td>1</td>\n",
       "    </tr>\n",
       "    <tr>\n",
       "      <th>596457</th>\n",
       "      <td>A-16209-36597</td>\n",
       "      <td>Certified</td>\n",
       "      <td>2016</td>\n",
       "      <td>1</td>\n",
       "      <td>0</td>\n",
       "      <td>1</td>\n",
       "      <td>None</td>\n",
       "      <td>0</td>\n",
       "      <td>0</td>\n",
       "      <td>1</td>\n",
       "    </tr>\n",
       "    <tr>\n",
       "      <th>596458</th>\n",
       "      <td>A-16209-36597</td>\n",
       "      <td>Certified</td>\n",
       "      <td>2016</td>\n",
       "      <td>1</td>\n",
       "      <td>0</td>\n",
       "      <td>1</td>\n",
       "      <td>None</td>\n",
       "      <td>0</td>\n",
       "      <td>0</td>\n",
       "      <td>1</td>\n",
       "    </tr>\n",
       "    <tr>\n",
       "      <th>596459</th>\n",
       "      <td>A-16209-36598</td>\n",
       "      <td>Certified</td>\n",
       "      <td>2016</td>\n",
       "      <td>1</td>\n",
       "      <td>0</td>\n",
       "      <td>1</td>\n",
       "      <td>F-1</td>\n",
       "      <td>0</td>\n",
       "      <td>1</td>\n",
       "      <td>0</td>\n",
       "    </tr>\n",
       "    <tr>\n",
       "      <th>596460</th>\n",
       "      <td>A-16209-36598</td>\n",
       "      <td>Certified</td>\n",
       "      <td>2016</td>\n",
       "      <td>1</td>\n",
       "      <td>0</td>\n",
       "      <td>1</td>\n",
       "      <td>F-1</td>\n",
       "      <td>0</td>\n",
       "      <td>1</td>\n",
       "      <td>0</td>\n",
       "    </tr>\n",
       "    <tr>\n",
       "      <th>596461</th>\n",
       "      <td>A-16209-36598</td>\n",
       "      <td>Certified</td>\n",
       "      <td>2016</td>\n",
       "      <td>1</td>\n",
       "      <td>0</td>\n",
       "      <td>1</td>\n",
       "      <td>F-1</td>\n",
       "      <td>0</td>\n",
       "      <td>1</td>\n",
       "      <td>0</td>\n",
       "    </tr>\n",
       "    <tr>\n",
       "      <th>596462</th>\n",
       "      <td>A-16209-36598</td>\n",
       "      <td>Certified</td>\n",
       "      <td>2016</td>\n",
       "      <td>1</td>\n",
       "      <td>0</td>\n",
       "      <td>1</td>\n",
       "      <td>F-1</td>\n",
       "      <td>0</td>\n",
       "      <td>1</td>\n",
       "      <td>0</td>\n",
       "    </tr>\n",
       "    <tr>\n",
       "      <th>596463</th>\n",
       "      <td>A-16054-75755</td>\n",
       "      <td>Certified</td>\n",
       "      <td>2016</td>\n",
       "      <td>1</td>\n",
       "      <td>0</td>\n",
       "      <td>1</td>\n",
       "      <td>None</td>\n",
       "      <td>0</td>\n",
       "      <td>0</td>\n",
       "      <td>1</td>\n",
       "    </tr>\n",
       "    <tr>\n",
       "      <th>596464</th>\n",
       "      <td>A-16054-75755</td>\n",
       "      <td>Certified</td>\n",
       "      <td>2016</td>\n",
       "      <td>1</td>\n",
       "      <td>0</td>\n",
       "      <td>1</td>\n",
       "      <td>None</td>\n",
       "      <td>0</td>\n",
       "      <td>0</td>\n",
       "      <td>1</td>\n",
       "    </tr>\n",
       "    <tr>\n",
       "      <th>596465</th>\n",
       "      <td>A-16054-75755</td>\n",
       "      <td>Certified</td>\n",
       "      <td>2016</td>\n",
       "      <td>1</td>\n",
       "      <td>0</td>\n",
       "      <td>1</td>\n",
       "      <td>None</td>\n",
       "      <td>0</td>\n",
       "      <td>0</td>\n",
       "      <td>1</td>\n",
       "    </tr>\n",
       "    <tr>\n",
       "      <th>596466</th>\n",
       "      <td>A-16054-75755</td>\n",
       "      <td>Certified</td>\n",
       "      <td>2016</td>\n",
       "      <td>1</td>\n",
       "      <td>0</td>\n",
       "      <td>1</td>\n",
       "      <td>None</td>\n",
       "      <td>0</td>\n",
       "      <td>0</td>\n",
       "      <td>1</td>\n",
       "    </tr>\n",
       "    <tr>\n",
       "      <th>596467</th>\n",
       "      <td>A-16038-70210</td>\n",
       "      <td>Certified</td>\n",
       "      <td>2016</td>\n",
       "      <td>1</td>\n",
       "      <td>0</td>\n",
       "      <td>1</td>\n",
       "      <td>None</td>\n",
       "      <td>0</td>\n",
       "      <td>0</td>\n",
       "      <td>1</td>\n",
       "    </tr>\n",
       "    <tr>\n",
       "      <th>596468</th>\n",
       "      <td>A-16038-70210</td>\n",
       "      <td>Certified</td>\n",
       "      <td>2016</td>\n",
       "      <td>1</td>\n",
       "      <td>0</td>\n",
       "      <td>1</td>\n",
       "      <td>None</td>\n",
       "      <td>0</td>\n",
       "      <td>0</td>\n",
       "      <td>1</td>\n",
       "    </tr>\n",
       "    <tr>\n",
       "      <th>596469</th>\n",
       "      <td>A-16038-70210</td>\n",
       "      <td>Certified</td>\n",
       "      <td>2016</td>\n",
       "      <td>1</td>\n",
       "      <td>0</td>\n",
       "      <td>1</td>\n",
       "      <td>None</td>\n",
       "      <td>0</td>\n",
       "      <td>0</td>\n",
       "      <td>1</td>\n",
       "    </tr>\n",
       "    <tr>\n",
       "      <th>596470</th>\n",
       "      <td>A-16038-70210</td>\n",
       "      <td>Certified</td>\n",
       "      <td>2016</td>\n",
       "      <td>1</td>\n",
       "      <td>0</td>\n",
       "      <td>1</td>\n",
       "      <td>None</td>\n",
       "      <td>0</td>\n",
       "      <td>0</td>\n",
       "      <td>1</td>\n",
       "    </tr>\n",
       "    <tr>\n",
       "      <th>596471</th>\n",
       "      <td>A-16270-56339</td>\n",
       "      <td>Certified</td>\n",
       "      <td>2016</td>\n",
       "      <td>0</td>\n",
       "      <td>0</td>\n",
       "      <td>1</td>\n",
       "      <td>None</td>\n",
       "      <td>0</td>\n",
       "      <td>0</td>\n",
       "      <td>1</td>\n",
       "    </tr>\n",
       "    <tr>\n",
       "      <th>596472</th>\n",
       "      <td>A-16270-56339</td>\n",
       "      <td>Certified</td>\n",
       "      <td>2016</td>\n",
       "      <td>0</td>\n",
       "      <td>0</td>\n",
       "      <td>1</td>\n",
       "      <td>None</td>\n",
       "      <td>0</td>\n",
       "      <td>0</td>\n",
       "      <td>1</td>\n",
       "    </tr>\n",
       "    <tr>\n",
       "      <th>596473</th>\n",
       "      <td>A-16270-56339</td>\n",
       "      <td>Certified</td>\n",
       "      <td>2016</td>\n",
       "      <td>0</td>\n",
       "      <td>0</td>\n",
       "      <td>1</td>\n",
       "      <td>None</td>\n",
       "      <td>0</td>\n",
       "      <td>0</td>\n",
       "      <td>1</td>\n",
       "    </tr>\n",
       "    <tr>\n",
       "      <th>596474</th>\n",
       "      <td>A-16270-56339</td>\n",
       "      <td>Certified</td>\n",
       "      <td>2016</td>\n",
       "      <td>0</td>\n",
       "      <td>0</td>\n",
       "      <td>1</td>\n",
       "      <td>None</td>\n",
       "      <td>0</td>\n",
       "      <td>0</td>\n",
       "      <td>1</td>\n",
       "    </tr>\n",
       "  </tbody>\n",
       "</table>\n",
       "<p>596475 rows × 10 columns</p>\n",
       "</div>"
      ],
      "text/plain": [
       "          CASE_NUMBER CASE_STATUS  DEC_YEAR  LAWYER  HIGHER_EDU  SAME_EDU  \\\n",
       "0       A-14220-96665   Certified      2015       1           0         0   \n",
       "1       A-14220-96720   Certified      2015       1           0         1   \n",
       "2       A-14203-91167   Certified      2014       1           0         1   \n",
       "3       A-14206-92509   Certified      2015       1           0         1   \n",
       "4       A-14202-90786   Certified      2015       1           1         0   \n",
       "5       A-14202-90819   Certified      2014       1           0         1   \n",
       "6       A-14202-90920   Certified      2015       1           0         1   \n",
       "7       A-14220-96712   Certified      2015       1           0         1   \n",
       "8       A-14226-98150   Certified      2015       1           0         1   \n",
       "9       A-14226-98245   Certified      2015       1           0         1   \n",
       "10      A-14224-97486   Certified      2015       1           0         1   \n",
       "11      A-14224-97503   Certified      2015       1           0         1   \n",
       "12      A-14218-95841   Certified      2015       1           0         1   \n",
       "13      A-14218-95919   Certified      2015       1           0         1   \n",
       "14      A-14233-00479   Certified      2015       0           0         1   \n",
       "15      A-14233-00480   Certified      2015       1           0         1   \n",
       "16      A-14233-00487   Certified      2015       1           0         1   \n",
       "17      A-14233-00533   Certified      2015       1           0         1   \n",
       "18      A-14233-00565   Certified      2015       1           0         1   \n",
       "19      A-14238-01616   Certified      2015       1           0         1   \n",
       "20      A-14238-01636   Certified      2015       1           0         1   \n",
       "21      A-14245-03117   Certified      2015       1           0         1   \n",
       "22      A-14245-03216   Certified      2015       1           0         1   \n",
       "23      A-14245-03304   Certified      2015       1           0         1   \n",
       "24      A-14246-03493   Certified      2015       1           0         1   \n",
       "25      A-14246-03533   Certified      2015       1           0         1   \n",
       "26      A-14246-03571   Certified      2015       1           0         1   \n",
       "27      A-14198-89632   Certified      2015       1           0         1   \n",
       "28      A-14198-89806   Certified      2015       0           0         1   \n",
       "29      A-14202-90634   Certified      2014       0           1         0   \n",
       "...               ...         ...       ...     ...         ...       ...   \n",
       "596445  A-16209-36592   Certified      2016       1           0         1   \n",
       "596446  A-16209-36592   Certified      2016       1           0         1   \n",
       "596447  A-16209-36593   Certified      2016       1           0         1   \n",
       "596448  A-16209-36593   Certified      2016       1           0         1   \n",
       "596449  A-16209-36593   Certified      2016       1           0         1   \n",
       "596450  A-16209-36593   Certified      2016       1           0         1   \n",
       "596451  A-16209-36596   Certified      2016       1           0         1   \n",
       "596452  A-16209-36596   Certified      2016       1           0         1   \n",
       "596453  A-16209-36596   Certified      2016       1           0         1   \n",
       "596454  A-16209-36596   Certified      2016       1           0         1   \n",
       "596455  A-16209-36597   Certified      2016       1           0         1   \n",
       "596456  A-16209-36597   Certified      2016       1           0         1   \n",
       "596457  A-16209-36597   Certified      2016       1           0         1   \n",
       "596458  A-16209-36597   Certified      2016       1           0         1   \n",
       "596459  A-16209-36598   Certified      2016       1           0         1   \n",
       "596460  A-16209-36598   Certified      2016       1           0         1   \n",
       "596461  A-16209-36598   Certified      2016       1           0         1   \n",
       "596462  A-16209-36598   Certified      2016       1           0         1   \n",
       "596463  A-16054-75755   Certified      2016       1           0         1   \n",
       "596464  A-16054-75755   Certified      2016       1           0         1   \n",
       "596465  A-16054-75755   Certified      2016       1           0         1   \n",
       "596466  A-16054-75755   Certified      2016       1           0         1   \n",
       "596467  A-16038-70210   Certified      2016       1           0         1   \n",
       "596468  A-16038-70210   Certified      2016       1           0         1   \n",
       "596469  A-16038-70210   Certified      2016       1           0         1   \n",
       "596470  A-16038-70210   Certified      2016       1           0         1   \n",
       "596471  A-16270-56339   Certified      2016       0           0         1   \n",
       "596472  A-16270-56339   Certified      2016       0           0         1   \n",
       "596473  A-16270-56339   Certified      2016       0           0         1   \n",
       "596474  A-16270-56339   Certified      2016       0           0         1   \n",
       "\n",
       "       CLASS_OF_ADMISSION  H1B_VISA  Other_Visa  No_US_Visa  \n",
       "0                    H-1B         1           0           0  \n",
       "1                    H-1B         1           0           0  \n",
       "2                     L-1         0           1           0  \n",
       "3                    H-1B         1           0           0  \n",
       "4                    H-1B         1           0           0  \n",
       "5                    H-1B         1           0           0  \n",
       "6                    H-1B         1           0           0  \n",
       "7                    H-1B         1           0           0  \n",
       "8                    H-1B         1           0           0  \n",
       "9                    None         0           0           1  \n",
       "10                   H-1B         1           0           0  \n",
       "11                   H-1B         1           0           0  \n",
       "12                   H-1B         1           0           0  \n",
       "13                   H-1B         1           0           0  \n",
       "14                   H-1B         1           0           0  \n",
       "15                   H-1B         1           0           0  \n",
       "16                    J-1         0           1           0  \n",
       "17                   H-1B         1           0           0  \n",
       "18                    L-1         0           1           0  \n",
       "19                   H-1B         1           0           0  \n",
       "20                    F-1         0           1           0  \n",
       "21                   H-1B         1           0           0  \n",
       "22                   H-1B         1           0           0  \n",
       "23                   H-1B         1           0           0  \n",
       "24                   H-1B         1           0           0  \n",
       "25                   H-1B         1           0           0  \n",
       "26                   H-1B         1           0           0  \n",
       "27                   H-1B         1           0           0  \n",
       "28                   H-1B         1           0           0  \n",
       "29                   H-1B         1           0           0  \n",
       "...                   ...       ...         ...         ...  \n",
       "596445               None         0           0           1  \n",
       "596446               None         0           0           1  \n",
       "596447                F-1         0           1           0  \n",
       "596448                F-1         0           1           0  \n",
       "596449                F-1         0           1           0  \n",
       "596450                F-1         0           1           0  \n",
       "596451                F-1         0           1           0  \n",
       "596452                F-1         0           1           0  \n",
       "596453                F-1         0           1           0  \n",
       "596454                F-1         0           1           0  \n",
       "596455               None         0           0           1  \n",
       "596456               None         0           0           1  \n",
       "596457               None         0           0           1  \n",
       "596458               None         0           0           1  \n",
       "596459                F-1         0           1           0  \n",
       "596460                F-1         0           1           0  \n",
       "596461                F-1         0           1           0  \n",
       "596462                F-1         0           1           0  \n",
       "596463               None         0           0           1  \n",
       "596464               None         0           0           1  \n",
       "596465               None         0           0           1  \n",
       "596466               None         0           0           1  \n",
       "596467               None         0           0           1  \n",
       "596468               None         0           0           1  \n",
       "596469               None         0           0           1  \n",
       "596470               None         0           0           1  \n",
       "596471               None         0           0           1  \n",
       "596472               None         0           0           1  \n",
       "596473               None         0           0           1  \n",
       "596474               None         0           0           1  \n",
       "\n",
       "[596475 rows x 10 columns]"
      ]
     },
     "execution_count": 402,
     "metadata": {},
     "output_type": "execute_result"
    }
   ],
   "source": [
    "data_fin.merge(visa_info, left_on = \"CASE_NUMBER\", right_on = \"CASE_NUMBER\")"
   ]
  },
  {
   "cell_type": "code",
   "execution_count": null,
   "metadata": {
    "collapsed": true,
    "deletable": true,
    "editable": true
   },
   "outputs": [],
   "source": []
  }
 ],
 "metadata": {
  "kernelspec": {
   "display_name": "Python 3",
   "language": "python",
   "name": "python3"
  },
  "language_info": {
   "codemirror_mode": {
    "name": "ipython",
    "version": 3
   },
   "file_extension": ".py",
   "mimetype": "text/x-python",
   "name": "python",
   "nbconvert_exporter": "python",
   "pygments_lexer": "ipython3",
   "version": "3.5.4"
  },
  "toc": {
   "nav_menu": {},
   "number_sections": true,
   "sideBar": true,
   "skip_h1_title": false,
   "toc_cell": false,
   "toc_position": {},
   "toc_section_display": "block",
   "toc_window_display": false
  }
 },
 "nbformat": 4,
 "nbformat_minor": 2
}
