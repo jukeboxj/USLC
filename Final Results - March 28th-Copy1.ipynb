{
 "cells": [
  {
   "cell_type": "code",
   "execution_count": 1,
   "metadata": {},
   "outputs": [
    {
     "name": "stderr",
     "output_type": "stream",
     "text": [
      "/anaconda3/envs/py36/lib/python3.6/site-packages/sklearn/cross_validation.py:41: DeprecationWarning: This module was deprecated in version 0.18 in favor of the model_selection module into which all the refactored classes and functions are moved. Also note that the interface of the new CV iterators are different from that of this module. This module will be removed in 0.20.\n",
      "  \"This module will be removed in 0.20.\", DeprecationWarning)\n",
      "/anaconda3/envs/py36/lib/python3.6/site-packages/sklearn/grid_search.py:42: DeprecationWarning: This module was deprecated in version 0.18 in favor of the model_selection module into which all the refactored classes and functions are moved. This module will be removed in 0.20.\n",
      "  DeprecationWarning)\n"
     ]
    }
   ],
   "source": [
    "# import required libraries\n",
    "# pandas:Data framework library for Python\n",
    "# sklearn: Library to perform machine learning tasks\n",
    "import pandas as pd\n",
    "import pandas\n",
    "import numpy as np\n",
    "import scipy\n",
    "import scipy.stats as st\n",
    "import sklearn \n",
    "import sklearn.datasets\n",
    "import sklearn.metrics as metrics \n",
    "from sklearn.linear_model import LogisticRegression\n",
    "from sklearn.cross_validation import StratifiedKFold\n",
    "from sklearn.svm import SVC\n",
    "from sklearn.naive_bayes import GaussianNB\n",
    "from sklearn.grid_search import GridSearchCV\n",
    "from sklearn.metrics import classification_report\n",
    "from sklearn.cross_validation import train_test_split\n",
    "from sklearn.preprocessing import label_binarize\n",
    "from sklearn.feature_selection import mutual_info_classif\n",
    "from scipy import stats\n",
    "from datetime import datetime"
   ]
  },
  {
   "cell_type": "code",
   "execution_count": 2,
   "metadata": {
    "collapsed": true
   },
   "outputs": [],
   "source": [
    "Data_2017 = pd.read_excel(\"PERM_Disclosure_Data_FY17.xlsx\")\n",
    "Data_2015 = pd.read_excel(\"PERM_Disclosure_Data_FY15_Q4.xlsx\")\n",
    "Data_2016 = pd.read_excel(\"PERM_Data_FY16.xlsx\")"
   ]
  },
  {
   "cell_type": "code",
   "execution_count": 4,
   "metadata": {
    "collapsed": true
   },
   "outputs": [],
   "source": [
    "frames = [Data_2015, Data_2016, Data_2017]\n",
    "\n",
    "data = pd.concat(frames)\n",
    "data = data.drop_duplicates()\n",
    "df = data.copy()"
   ]
  },
  {
   "cell_type": "code",
   "execution_count": 213,
   "metadata": {
    "collapsed": true
   },
   "outputs": [],
   "source": [
    "def cart(target,features):\n",
    "    from sklearn import tree\n",
    "    X_train, X_test, y_train, y_test = train_test_split(features, target, test_size=0.3)\n",
    "    clf = tree.DecisionTreeClassifier()\n",
    "    clf = clf.fit(X_train, y_train)\n",
    "    pred = clf.predict(X_test)\n",
    "    print(pandas.DataFrame(metrics.confusion_matrix(y_test, pred)))\n",
    "    prob = clf.predict_proba(X_test)\n",
    "    print(\"The accuracy score for this training is\",metrics.accuracy_score(y_test, pred))\n",
    "    print(classification_report(y_test, pred))\n",
    "    fpr, tpr, thresholds = metrics.roc_curve(y_test, prob[:,1], pos_label=1)\n",
    "    print(metrics.auc(fpr, tpr))\n",
    "    print(clf.n_features_)\n",
    "    #return(coef)"
   ]
  },
  {
   "cell_type": "code",
   "execution_count": 55,
   "metadata": {},
   "outputs": [
    {
     "name": "stdout",
     "output_type": "stream",
     "text": [
      "0 Column: 'AGENT_CITY' contains  88.37 % non-null values\n",
      "1 Column: 'AGENT_FIRM_NAME' contains  86.53 % non-null values\n",
      "2 Column: 'AGENT_STATE' contains  87.04 % non-null values\n",
      "3 Column: 'CASE_NUMBER' contains  100.0 % non-null values\n",
      "4 Column: 'CASE_RECEIVED_DATE' contains  100.0 % non-null values\n",
      "5 Column: 'CASE_STATUS' contains  100.0 % non-null values\n",
      "6 Column: 'CLASS_OF_ADMISSION' contains  93.32 % non-null values\n",
      "7 Column: 'COUNTRY_OF_CITIZENSHIP' contains  99.98 % non-null values\n",
      "8 Column: 'DECISION_DATE' contains  100.0 % non-null values\n",
      "9 Column: 'EMPLOYER_ADDRESS_1' contains  99.99 % non-null values\n",
      "10 Column: 'EMPLOYER_ADDRESS_2' contains  32.78 % non-null values\n",
      "11 Column: 'EMPLOYER_CITY' contains  100.0 % non-null values\n",
      "12 Column: 'EMPLOYER_COUNTRY' contains  99.97 % non-null values\n",
      "13 Column: 'EMPLOYER_DECL_INFO_TITLE' contains  99.98 % non-null values\n",
      "14 Column: 'EMPLOYER_NAME' contains  100.0 % non-null values\n",
      "15 Column: 'EMPLOYER_NUM_EMPLOYEES' contains  99.97 % non-null values\n",
      "16 Column: 'EMPLOYER_PHONE' contains  99.99 % non-null values\n",
      "17 Column: 'EMPLOYER_PHONE_EXT' contains  9.77 % non-null values\n",
      "18 Column: 'EMPLOYER_POSTAL_CODE' contains  99.99 % non-null values\n",
      "19 Column: 'EMPLOYER_STATE' contains  99.99 % non-null values\n",
      "20 Column: 'EMPLOYER_YR_ESTAB' contains  99.94 % non-null values\n",
      "21 Column: 'FOREIGN_WORKER_INFO_CITY' contains  99.93 % non-null values\n",
      "22 Column: 'FOREIGN_WORKER_INFO_EDUCATION' contains  99.93 % non-null values\n",
      "23 Column: 'FOREIGN_WORKER_INFO_INST' contains  92.01 % non-null values\n",
      "24 Column: 'FOREIGN_WORKER_INFO_MAJOR' contains  91.59 % non-null values\n",
      "25 Column: 'FOREIGN_WORKER_INFO_STATE' contains  92.82 % non-null values\n",
      "26 Column: 'FW_INFO_ALT_EDU_EXPERIENCE' contains  99.94 % non-null values\n",
      "27 Column: 'FW_INFO_BIRTH_COUNTRY' contains  99.94 % non-null values\n",
      "28 Column: 'FW_INFO_EDUCATION_OTHER' contains  4.26 % non-null values\n",
      "29 Column: 'FW_INFO_POSTAL_CODE' contains  98.3 % non-null values\n",
      "30 Column: 'FW_INFO_REL_OCCUP_EXP' contains  59.49 % non-null values\n",
      "31 Column: 'FW_INFO_REL_OCCUP_EXPERIENCE' contains  40.45 % non-null values\n",
      "32 Column: 'FW_INFO_REQ_EXPERIENCE' contains  99.94 % non-null values\n",
      "33 Column: 'FW_INFO_TRAINING_COMP' contains  99.94 % non-null values\n",
      "34 Column: 'FW_INFO_YR_REL_EDU_COMPLETED' contains  92.09 % non-null values\n",
      "35 Column: 'FW_OWNERSHIP_INTEREST' contains  99.94 % non-null values\n",
      "36 Column: 'JI_FOREIGN_WORKER_LIVE_ON_PREMISES' contains  28.18 % non-null values\n",
      "37 Column: 'JI_FW_LIVE_ON_PREMISES' contains  71.76 % non-null values\n",
      "38 Column: 'JI_LIVE_IN_DOMESTIC_SERVICE' contains  99.94 % non-null values\n",
      "39 Column: 'JI_LIVE_IN_DOM_SVC_CONTRACT' contains  1.04 % non-null values\n",
      "40 Column: 'JI_OFFERED_TO_SEC_J_FOREIGN_WORKER' contains  28.23 % non-null values\n",
      "41 Column: 'JI_OFFERED_TO_SEC_J_FW' contains  71.76 % non-null values\n",
      "42 Column: 'JOB_INFO_ALT_CMB_ED_OTH_YRS' contains  29.69 % non-null values\n",
      "43 Column: 'JOB_INFO_ALT_COMBO_ED' contains  29.87 % non-null values\n",
      "44 Column: 'JOB_INFO_ALT_COMBO_ED_EXP' contains  99.99 % non-null values\n",
      "45 Column: 'JOB_INFO_ALT_COMBO_ED_OTHER' contains  3.96 % non-null values\n",
      "46 Column: 'JOB_INFO_ALT_FIELD' contains  99.99 % non-null values\n",
      "47 Column: 'JOB_INFO_ALT_FIELD_NAME' contains  39.37 % non-null values\n",
      "48 Column: 'JOB_INFO_ALT_OCC' contains  57.05 % non-null values\n",
      "49 Column: 'JOB_INFO_ALT_OCC_JOB_TITLE' contains  61.78 % non-null values\n",
      "50 Column: 'JOB_INFO_ALT_OCC_NUM_MONTHS' contains  61.69 % non-null values\n",
      "51 Column: 'JOB_INFO_COMBO_OCCUPATION' contains  100.0 % non-null values\n",
      "52 Column: 'JOB_INFO_EDUCATION' contains  100.0 % non-null values\n",
      "53 Column: 'JOB_INFO_EDUCATION_OTHER' contains  3.18 % non-null values\n",
      "54 Column: 'JOB_INFO_EXPERIENCE' contains  100.0 % non-null values\n",
      "55 Column: 'JOB_INFO_EXPERIENCE_NUM_MONTHS' contains  56.59 % non-null values\n",
      "56 Column: 'JOB_INFO_FOREIGN_ED' contains  99.92 % non-null values\n",
      "57 Column: 'JOB_INFO_FOREIGN_LANG_REQ' contains  99.99 % non-null values\n",
      "58 Column: 'JOB_INFO_JOB_REQ_NORMAL' contains  100.0 % non-null values\n",
      "59 Column: 'JOB_INFO_JOB_TITLE' contains  99.98 % non-null values\n",
      "60 Column: 'JOB_INFO_MAJOR' contains  88.83 % non-null values\n",
      "61 Column: 'JOB_INFO_TRAINING' contains  100.0 % non-null values\n",
      "62 Column: 'JOB_INFO_TRAINING_FIELD' contains  1.84 % non-null values\n",
      "63 Column: 'JOB_INFO_TRAINING_NUM_MONTHS' contains  1.93 % non-null values\n",
      "64 Column: 'JOB_INFO_WORK_CITY' contains  99.98 % non-null values\n",
      "65 Column: 'JOB_INFO_WORK_POSTAL_CODE' contains  99.97 % non-null values\n",
      "66 Column: 'JOB_INFO_WORK_STATE' contains  99.98 % non-null values\n",
      "67 Column: 'NAICS_US_CODE' contains  99.79 % non-null values\n",
      "68 Column: 'NAICS_US_TITLE' contains  99.79 % non-null values\n",
      "69 Column: 'ORIG_CASE_NO' contains  0.12 % non-null values\n",
      "70 Column: 'ORIG_FILE_DATE' contains  0.12 % non-null values\n",
      "71 Column: 'PREPARER_INFO_EMP_COMPLETED' contains  99.98 % non-null values\n",
      "72 Column: 'PREPARER_INFO_TITLE' contains  87.83 % non-null values\n",
      "73 Column: 'PW_AMOUNT_9089' contains  99.95 % non-null values\n",
      "74 Column: 'PW_DETERM_DATE' contains  99.87 % non-null values\n",
      "75 Column: 'PW_EXPIRE_DATE' contains  99.84 % non-null values\n",
      "76 Column: 'PW_JOB_TITLE_9089' contains  31.3 % non-null values\n",
      "77 Column: 'PW_Job_Title_9089' contains  68.66 % non-null values\n",
      "78 Column: 'PW_LEVEL_9089' contains  93.31 % non-null values\n",
      "79 Column: 'PW_SOC_CODE' contains  99.87 % non-null values\n",
      "80 Column: 'PW_SOC_TITLE' contains  99.87 % non-null values\n",
      "81 Column: 'PW_SOURCE_NAME_9089' contains  99.93 % non-null values\n",
      "82 Column: 'PW_SOURCE_NAME_OTHER_9089' contains  6.57 % non-null values\n",
      "83 Column: 'PW_TRACK_NUM' contains  99.24 % non-null values\n",
      "84 Column: 'PW_UNIT_OF_PAY_9089' contains  99.59 % non-null values\n",
      "85 Column: 'RECR_INFO_BARG_REP_NOTIFIED' contains  71.75 % non-null values\n",
      "86 Column: 'RECR_INFO_COLL_TEACH_COMP_PROC' contains  3.02 % non-null values\n",
      "87 Column: 'RECR_INFO_COLL_UNIV_TEACHER' contains  99.99 % non-null values\n",
      "88 Column: 'RECR_INFO_EMPLOYER_REC_PAYMENT' contains  99.99 % non-null values\n",
      "89 Column: 'RECR_INFO_FIRST_AD_START' contains  97.41 % non-null values\n",
      "90 Column: 'RECR_INFO_JOB_FAIR_FROM' contains  0.73 % non-null values\n",
      "91 Column: 'RECR_INFO_JOB_FAIR_TO' contains  0.73 % non-null values\n",
      "92 Column: 'RECR_INFO_ON_CAMPUS_RECR_FROM' contains  0.74 % non-null values\n",
      "93 Column: 'RECR_INFO_ON_CAMPUS_RECR_TO' contains  0.73 % non-null values\n",
      "94 Column: 'RECR_INFO_PROFESSIONAL_OCC' contains  99.99 % non-null values\n",
      "95 Column: 'RECR_INFO_PRO_ORG_ADVERT_FROM' contains  17.84 % non-null values\n",
      "96 Column: 'RECR_INFO_PRO_ORG_ADVERT_TO' contains  17.84 % non-null values\n",
      "97 Column: 'RECR_INFO_RADIO_TV_AD_FROM' contains  8.69 % non-null values\n",
      "98 Column: 'RECR_INFO_RADIO_TV_AD_TO' contains  8.69 % non-null values\n",
      "99 Column: 'RECR_INFO_SECOND_AD_START' contains  97.39 % non-null values\n",
      "100 Column: 'RECR_INFO_SUNDAY_NEWSPAPER' contains  97.45 % non-null values\n",
      "101 Column: 'RECR_INFO_SWA_JOB_ORDER_END' contains  97.39 % non-null values\n",
      "102 Column: 'RECR_INFO_SWA_JOB_ORDER_START' contains  97.4 % non-null values\n",
      "103 Column: 'REC_INFO_BARG_REP_NOTIFIED' contains  28.21 % non-null values\n",
      "104 Column: 'REFILE' contains  59.54 % non-null values\n",
      "105 Column: 'RI_1ST_AD_NEWSPAPER_NAME' contains  97.37 % non-null values\n",
      "106 Column: 'RI_2ND_AD_NEWSPAPER_NAME' contains  97.39 % non-null values\n",
      "107 Column: 'RI_2ND_AD_NEWSPAPER_OR_JOURNAL' contains  97.41 % non-null values\n",
      "108 Column: 'RI_CAMPUS_PLACEMENT_FROM' contains  12.3 % non-null values\n",
      "109 Column: 'RI_CAMPUS_PLACEMENT_TO' contains  12.3 % non-null values\n",
      "110 Column: 'RI_COLL_TCH_BASIC_PROCESS' contains  3.02 % non-null values\n",
      "111 Column: 'RI_COLL_TEACH_PRO_JNL' contains  2.43 % non-null values\n",
      "112 Column: 'RI_COLL_TEACH_SELECT_DATE' contains  2.43 % non-null values\n",
      "113 Column: 'RI_EMPLOYEE_REFERRAL_PROG_FROM' contains  28.07 % non-null values\n",
      "114 Column: 'RI_EMPLOYEE_REFERRAL_PROG_TO' contains  28.07 % non-null values\n",
      "115 Column: 'RI_EMPLOYER_WEB_POST_FROM' contains  55.86 % non-null values\n",
      "116 Column: 'RI_EMPLOYER_WEB_POST_TO' contains  55.85 % non-null values\n",
      "117 Column: 'RI_JOB_SEARCH_WEBSITE_FROM' contains  82.41 % non-null values\n",
      "118 Column: 'RI_JOB_SEARCH_WEBSITE_TO' contains  82.41 % non-null values\n",
      "119 Column: 'RI_LAYOFF_IN_PAST_SIX_MONTHS' contains  99.99 % non-null values\n",
      "120 Column: 'RI_LOCAL_ETHNIC_PAPER_FROM' contains  51.18 % non-null values\n",
      "121 Column: 'RI_LOCAL_ETHNIC_PAPER_TO' contains  51.18 % non-null values\n",
      "122 Column: 'RI_POSTED_NOTICE_AT_WORKSITE' contains  99.97 % non-null values\n",
      "123 Column: 'RI_PVT_EMPLOYMENT_FIRM_FROM' contains  7.43 % non-null values\n",
      "124 Column: 'RI_PVT_EMPLOYMENT_FIRM_TO' contains  7.43 % non-null values\n",
      "125 Column: 'RI_US_WORKERS_CONSIDERED' contains  6.91 % non-null values\n",
      "126 Column: 'SCHD_A_SHEEPHERDER' contains  99.99 % non-null values\n",
      "127 Column: 'WAGE_OFFER_FROM_9089' contains  99.97 % non-null values\n",
      "128 Column: 'WAGE_OFFER_TO_9089' contains  29.17 % non-null values\n",
      "129 Column: 'WAGE_OFFER_UNIT_OF_PAY_9089' contains  99.61 % non-null values\n",
      "130 Column: 'remuneration' contains  99.95 % non-null values\n",
      "131 Column: 'YEAR' contains  100.0 % non-null values\n"
     ]
    }
   ],
   "source": [
    "i = 0;\n",
    "for col in df.columns:\n",
    "    i = i+1;\n",
    "    print (i-1,\"Column: '{}'\".format(col),\"contains \", np.round(100*df[col].count()/len(df['CASE_STATUS']),decimals=2),\"% non-null values\" )"
   ]
  },
  {
   "cell_type": "code",
   "execution_count": 7,
   "metadata": {
    "collapsed": true
   },
   "outputs": [],
   "source": [
    "df['PW_AMOUNT_9089'] = df['PW_AMOUNT_9089'].apply(lambda word: str(word).replace(\"#\", \"\"))\n",
    "df['PW_AMOUNT_9089'] = df['PW_AMOUNT_9089'].apply(lambda word: str(word).replace(\",\", \"\"))\n",
    "df['PW_AMOUNT_9089'] = df['PW_AMOUNT_9089'].replace({\"nan\": np.NaN})\n",
    "df['PW_AMOUNT_9089'] = pd.to_numeric(df['PW_AMOUNT_9089'])"
   ]
  },
  {
   "cell_type": "code",
   "execution_count": 8,
   "metadata": {},
   "outputs": [
    {
     "data": {
      "text/plain": [
       "0-30k        27066\n",
       "30-60k       38541\n",
       "60-90k      105890\n",
       "90-120k      99953\n",
       "120-150k     30911\n",
       "150-180k      6563\n",
       "180-210k      3055\n",
       "210-240k       698\n",
       "240-270k        36\n",
       "270k+           20\n",
       "Name: remuneration, dtype: int64"
      ]
     },
     "execution_count": 8,
     "metadata": {},
     "output_type": "execute_result"
    }
   ],
   "source": [
    "#Dividing our continuous income values into some categories to facilitate their visualization\n",
    "df['remuneration'] = pd.cut(df['PW_AMOUNT_9089'], [0, 30000, 60000,90000,120000,150000,180000,210000,240000,270000,495748000], right=False, labels=[\"0-30k\", \"30-60k\",\"60-90k\",\"90-120k\",\"120-150k\",\"150-180k\",\"180-210k\",\"210-240k\",\"240-270k\",\"270k+\"])\n",
    "salary = df['remuneration'].value_counts()\n",
    "salary.iloc[np.argsort(salary.index)]"
   ]
  },
  {
   "cell_type": "code",
   "execution_count": 18,
   "metadata": {},
   "outputs": [],
   "source": [
    "df['YEAR'] = df['DECISION_DATE'].dt.year"
   ]
  },
  {
   "cell_type": "code",
   "execution_count": 321,
   "metadata": {},
   "outputs": [],
   "source": [
    "#Importing Logistic Regression Classifier, GridSearchCV, train_test_split and accuracy metrics from sklearn\n",
    "from sklearn.linear_model import LogisticRegression\n",
    "from sklearn.model_selection import GridSearchCV\n",
    "from sklearn.model_selection import train_test_split\n",
    "from sklearn.metrics import precision_score, recall_score, f1_score, confusion_matrix, roc_curve\n",
    "\n",
    "#Defining fit_algorithm function\n",
    "def fit_algorithm(alg, X, y, parameters, cv = 5):\n",
    "    \"\"\"\n",
    "    This function will split our dataset into training and testing subsets, fit cross-validated \n",
    "    GridSearch object, test it on the holdout set and return some statistics\n",
    "    \"\"\"\n",
    "    X_train, X_test, y_train, y_test = train_test_split(X, y, random_state = 123, test_size=0.3)\n",
    "    grid = GridSearchCV(alg, parameters, cv = cv)\n",
    "    grid.fit(X_train, y_train)\n",
    "    y_pred = grid.predict(X_test)\n",
    "    confmat = confusion_matrix(y_test,y_pred)\n",
    "    print(confmat)\n",
    "    \n",
    "    #print(grid.best_estimator_.coef_)\n",
    "    fpr, tpr, thresholds = metrics.roc_curve(y_test, grid.predict_proba(X_test)[:,1], pos_label=1)\n",
    "    print(metrics.auc(fpr, tpr))\n",
    "    print([grid.best_params_])\n",
    "    plt.figure()\n",
    "    lw = 2\n",
    "    plt.plot(fpr, tpr, color='darkorange',\n",
    "             lw=lw, label='ROC curve (area = %0.2f)' % metrics.auc(fpr, tpr))\n",
    "    plt.plot([0, 1], [0, 1], color='navy', lw=lw, linestyle='--')\n",
    "    plt.xlim([0.0, 1.0])\n",
    "    plt.ylim([0.0, 1.05])\n",
    "    plt.xlabel('False Positive Rate')\n",
    "    plt.ylabel('True Positive Rate')\n",
    "    plt.title('Receiver operating characteristic example')\n",
    "    plt.legend(loc=\"lower right\")\n",
    "    plt.show()\n",
    "    return pd.Series({\n",
    "        \"Train_ACC\": np.around(grid.best_score_, decimals=2).astype(str),\n",
    "        \"Test_ACC\": np.around(grid.score(X_test, y_test), decimals=2).astype(str),\n",
    "        \"P\": np.around(precision_score(y_pred, y_test), decimals=2).astype(str),\n",
    "        \"R\": np.around(recall_score(y_pred, y_test),decimals=2).astype(str),\n",
    "        \"F1\": np.around(f1_score(y_pred, y_test),decimals=2).astype(str),\n",
    "        \"Best_params\": [grid.best_params_],\n",
    "        \"True negatives\": confmat[0,0],\n",
    "        \"False negatives\": confmat[1,0],\n",
    "        \"True positives\": confmat[1,1],\n",
    "        \"False positives\": confmat[0,1]\n",
    "        })"
   ]
  },
  {
   "cell_type": "code",
   "execution_count": 325,
   "metadata": {},
   "outputs": [],
   "source": [
    "#Importing Logistic Regression Classifier, GridSearchCV, train_test_split and accuracy metrics from sklearn\n",
    "from sklearn.linear_model import LogisticRegression\n",
    "from sklearn.model_selection import GridSearchCV\n",
    "from sklearn.model_selection import train_test_split\n",
    "from sklearn.metrics import precision_score, recall_score, f1_score, confusion_matrix, roc_curve\n",
    "\n",
    "#Defining fit_algorithm function\n",
    "def fit_algorithm_imp(alg, X, y, parameters, alg_name,cv = 5):\n",
    "    \"\"\"\n",
    "    This function will split our dataset into training and testing subsets, fit cross-validated \n",
    "    GridSearch object, test it on the holdout set and return some statistics\n",
    "    \"\"\"\n",
    "    X_train, X_test, y_train, y_test = train_test_split(X, y, random_state = 123, test_size=0.3)\n",
    "    grid = GridSearchCV(alg, parameters, cv = cv)\n",
    "    grid.fit(X_train, y_train)\n",
    "    y_pred = grid.predict(X_test)\n",
    "    confmat = confusion_matrix(y_test,y_pred)\n",
    "    print(confmat)\n",
    "    if alg_name == \"random_forest\":\n",
    "        print(grid.best_estimator_.feature_importances_)\n",
    "    else:\n",
    "        print(grid.best_estimator_.coef_)\n",
    "    \n",
    "    fpr, tpr, thresholds = metrics.roc_curve(y_test, grid.predict_proba(X_test)[:,1], pos_label=1)\n",
    "    print(metrics.auc(fpr, tpr))\n",
    "    print([grid.best_params_])\n",
    "    plt.figure()\n",
    "    lw = 2\n",
    "    plt.plot(fpr, tpr, color='darkorange',\n",
    "             lw=lw, label='ROC curve (area = %0.2f)' % metrics.auc(fpr, tpr))\n",
    "    plt.plot([0, 1], [0, 1], color='navy', lw=lw, linestyle='--')\n",
    "    plt.xlim([0.0, 1.0])\n",
    "    plt.ylim([0.0, 1.05])\n",
    "    plt.xlabel('False Positive Rate')\n",
    "    plt.ylabel('True Positive Rate')\n",
    "    plt.title('Receiver operating characteristic example')\n",
    "    plt.legend(loc=\"lower right\")\n",
    "    plt.show()\n",
    "    return pd.Series({\n",
    "        \"Train_ACC\": np.around(grid.best_score_, decimals=2).astype(str),\n",
    "        \"Test_ACC\": np.around(grid.score(X_test, y_test), decimals=2).astype(str),\n",
    "        \"P\": np.around(precision_score(y_pred, y_test), decimals=2).astype(str),\n",
    "        \"R\": np.around(recall_score(y_pred, y_test),decimals=2).astype(str),\n",
    "        \"F1\": np.around(f1_score(y_pred, y_test),decimals=2).astype(str),\n",
    "        \"Best_params\": [grid.best_params_],\n",
    "        \"True negatives\": confmat[0,0],\n",
    "        \"False negatives\": confmat[1,0],\n",
    "        \"True positives\": confmat[1,1],\n",
    "        \"False positives\": confmat[0,1]\n",
    "        })"
   ]
  },
  {
   "cell_type": "code",
   "execution_count": 258,
   "metadata": {
    "collapsed": true
   },
   "outputs": [],
   "source": [
    "def logit_regr(target, features):\n",
    "    from sklearn.metrics import confusion_matrix\n",
    "    from sklearn.metrics import classification_report\n",
    "    X_train, X_test, y_train, y_test = train_test_split(features, target, test_size=0.3)\n",
    "    clf = LogisticRegression()\n",
    "    clfModel = clf.fit(X_train, y_train)\n",
    "    # predict target with feature test set using trained model\n",
    "    target_pred = clfModel.predict(X_test)\n",
    "    print(pandas.DataFrame(metrics.confusion_matrix(y_test, target_pred), columns=[\"Denied\",\"Certified\"], index=[\"Denied\",\"Certified\"]))\n",
    "    coef = clf.coef_[0]\n",
    "    #print (coef)\n",
    "    print(\"The accuracy score for this training is\",metrics.accuracy_score(y_test, target_pred))\n",
    "    print(classification_report(y_test, target_pred))\n",
    "    fpr, tpr, thresholds = metrics.roc_curve(y_test, clf.predict_proba(X_test)[:,1], pos_label=1)\n",
    "    print(metrics.auc(fpr, tpr))"
   ]
  },
  {
   "cell_type": "code",
   "execution_count": 263,
   "metadata": {
    "collapsed": true
   },
   "outputs": [],
   "source": [
    "from sklearn.linear_model import LogisticRegression\n",
    "from sklearn.model_selection import GridSearchCV\n",
    "from sklearn.model_selection import train_test_split\n",
    "from sklearn.metrics import precision_score, recall_score, f1_score, confusion_matrix, roc_curve\n",
    "from sklearn.ensemble import RandomForestClassifier\n",
    "#Defining fit_algorithm function\n",
    "def random_forest(target, features):\n",
    "    X_train, X_test, y_train, y_test = train_test_split(features, target, random_state = 123, test_size=0.3)\n",
    "    clf = RandomForestClassifier()\n",
    "    clf.fit(X_train, y_train)\n",
    "    y_pred = clf.predict(X_test)\n",
    "    confmat = confusion_matrix(y_test,y_pred)\n",
    "    print(confmat)\n",
    "    #print(grid.best_estimator_.coef_)\n",
    "    fpr, tpr, thresholds = metrics.roc_curve(y_test, clf.predict_proba(X_test)[:,1], pos_label=1)\n",
    "    print(metrics.auc(fpr, tpr))\n",
    "    return pd.Series({\n",
    "      #  \"Train_ACC\": np.around(clf.best_score_, decimals=2).astype(str),\n",
    "      #  \"Test_ACC\": np.around(clf.score(X_test, y_test), decimals=2).astype(str),\n",
    "        \"P\": np.around(precision_score(y_pred, y_test), decimals=2).astype(str),\n",
    "        \"R\": np.around(recall_score(y_pred, y_test),decimals=2).astype(str),\n",
    "        \"F1\": np.around(f1_score(y_pred, y_test),decimals=2).astype(str),\n",
    "        #\"Best_params\": [grid.best_params_],\n",
    "        \"True negatives\": confmat[0,0],\n",
    "        \"False negatives\": confmat[1,0],\n",
    "        \"True positives\": confmat[1,1],\n",
    "        \"False positives\": confmat[0,1]\n",
    "        })"
   ]
  },
  {
   "cell_type": "code",
   "execution_count": 292,
   "metadata": {
    "collapsed": true
   },
   "outputs": [],
   "source": [
    "def k_folds(target, features, method, folds, *hyperparameters):\n",
    "    from sklearn.model_selection import StratifiedKFold\n",
    "    from sklearn import tree\n",
    "# initialize\n",
    "    cms = {}\n",
    "    accuracy_scores   = []\n",
    "    auc_scores = []\n",
    "    cv = StratifiedKFold(n_splits = folds)\n",
    "    for train, test in cv.split(features,target):\n",
    "        # train then immediately predict the test set\n",
    "        if method == \"cart\":\n",
    "            model = tree.DecisionTreeClassifier()\n",
    "        elif method == \"logit\":\n",
    "            model = LogisticRegression(C = hyperparameters[0])\n",
    "        elif method == \"svc\":\n",
    "            model =  SVC(probability=True)\n",
    "        elif method == \"nb\":\n",
    "            model = GaussianNB()\n",
    "        elif method == \"random_forest\":\n",
    "            model = RandomForestClassifier(n_estimators = hyperparameters[0] ,  max_features = hyperparameters[2] , max_depth = hyperparameters[1], n_jobs = -1, random_state = 123 )\n",
    "        model = model.fit(features.iloc[train],target[train])\n",
    "        target_pred = model.predict(features.iloc[test])\n",
    "        # compute the confusion matrix on each fold, convert it to a DataFrame and stash it for later compute\n",
    "        #cms[i] = pandas.DataFrame(metrics.confusion_matrix(target[test], target_pred), columns=labels, index=labels)\n",
    "        # stash the overall accuracy on the test set for the fold too\n",
    "        accuracy_scores.append(metrics.accuracy_score(target[test], target_pred))\n",
    "        fpr, tpr, thresholds = metrics.roc_curve(target[test], model.predict_proba(features.iloc[test])[:,1], pos_label=1)\n",
    "        auc_scores.append(metrics.auc(fpr, tpr))\n",
    "\n",
    "    # Panel of all test set confusion matrices\n",
    "    #pl = pandas.Panel(cms)\n",
    "    #cm = pl.sum(axis=0) #Sum the confusion matrices to get one view of how well the classifiers perform\n",
    "    print(\"Average accuracy: \", np.mean(accuracy_scores))\n",
    "    print(\"Average auc score: \", np.mean(auc_scores))\n",
    "    plt.figure()\n",
    "    lw = 2\n",
    "    plt.plot(fpr, tpr, color='darkorange',\n",
    "             lw=lw, label='ROC curve (area = %0.2f)' % np.mean(auc_scores))\n",
    "    plt.plot([0, 1], [0, 1], color='navy', lw=lw, linestyle='--')\n",
    "    plt.xlim([0.0, 1.0])\n",
    "    plt.ylim([0.0, 1.05])\n",
    "    plt.xlabel('False Positive Rate')\n",
    "    plt.ylabel('True Positive Rate')\n",
    "    plt.title('Receiver operating characteristic example')\n",
    "    plt.legend(loc=\"lower right\")\n",
    "    plt.show()"
   ]
  },
  {
   "cell_type": "markdown",
   "metadata": {},
   "source": [
    "## Trying different features"
   ]
  },
  {
   "cell_type": "code",
   "execution_count": 167,
   "metadata": {
    "collapsed": true
   },
   "outputs": [],
   "source": [
    "percent_non_null = 300304 * 0.9\n",
    "split_data =  df.loc[:,df.count() >= percent_non_null]"
   ]
  },
  {
   "cell_type": "code",
   "execution_count": 168,
   "metadata": {},
   "outputs": [
    {
     "name": "stderr",
     "output_type": "stream",
     "text": [
      "/anaconda3/envs/py36/lib/python3.6/site-packages/ipykernel_launcher.py:1: SettingWithCopyWarning: \n",
      "A value is trying to be set on a copy of a slice from a DataFrame.\n",
      "Try using .loc[row_indexer,col_indexer] = value instead\n",
      "\n",
      "See the caveats in the documentation: http://pandas.pydata.org/pandas-docs/stable/indexing.html#indexing-view-versus-copy\n",
      "  \"\"\"Entry point for launching an IPython kernel.\n",
      "/anaconda3/envs/py36/lib/python3.6/site-packages/ipykernel_launcher.py:2: SettingWithCopyWarning: \n",
      "A value is trying to be set on a copy of a slice from a DataFrame.\n",
      "Try using .loc[row_indexer,col_indexer] = value instead\n",
      "\n",
      "See the caveats in the documentation: http://pandas.pydata.org/pandas-docs/stable/indexing.html#indexing-view-versus-copy\n",
      "  \n",
      "/anaconda3/envs/py36/lib/python3.6/site-packages/ipykernel_launcher.py:3: SettingWithCopyWarning: \n",
      "A value is trying to be set on a copy of a slice from a DataFrame.\n",
      "Try using .loc[row_indexer,col_indexer] = value instead\n",
      "\n",
      "See the caveats in the documentation: http://pandas.pydata.org/pandas-docs/stable/indexing.html#indexing-view-versus-copy\n",
      "  This is separate from the ipykernel package so we can avoid doing imports until\n"
     ]
    }
   ],
   "source": [
    "split_data['PW_SOC_CODE'] = split_data['PW_SOC_CODE'].apply(lambda word: str(word).replace(\".\", \"\"))\n",
    "split_data['PW_SOC_CODE'] = split_data['PW_SOC_CODE'].apply(lambda word: str(word).replace(\"-\", \"\"))\n",
    "split_data['PW_SOC_CODE'] = split_data['PW_SOC_CODE'].astype(str).str[0:6]"
   ]
  },
  {
   "cell_type": "code",
   "execution_count": 170,
   "metadata": {},
   "outputs": [
    {
     "name": "stderr",
     "output_type": "stream",
     "text": [
      "/anaconda3/envs/py36/lib/python3.6/site-packages/pandas/core/indexing.py:517: SettingWithCopyWarning: \n",
      "A value is trying to be set on a copy of a slice from a DataFrame.\n",
      "Try using .loc[row_indexer,col_indexer] = value instead\n",
      "\n",
      "See the caveats in the documentation: http://pandas.pydata.org/pandas-docs/stable/indexing.html#indexing-view-versus-copy\n",
      "  self.obj[item] = s\n"
     ]
    }
   ],
   "source": [
    "split_data.loc[split_data.CASE_STATUS == 'Certified', 'CASE_STATUS'] = 1\n",
    "split_data.loc[split_data.CASE_STATUS == 'Denied', 'CASE_STATUS'] = 0\n",
    "split_data.loc[split_data.CASE_STATUS == 'Certified-Expired', 'CASE_STATUS'] = 1"
   ]
  },
  {
   "cell_type": "code",
   "execution_count": 171,
   "metadata": {
    "collapsed": true
   },
   "outputs": [],
   "source": [
    "test3 = split_data.copy()"
   ]
  },
  {
   "cell_type": "code",
   "execution_count": 99,
   "metadata": {},
   "outputs": [],
   "source": [
    "from sklearn.preprocessing import LabelEncoder\n",
    "categorical_variables = {}\n",
    "\n",
    "#Creating categories denoted by integers from column values\n",
    "for col in split_data.columns:\n",
    "    cat_var_name = \"cat_\"+ col\n",
    "    cat_var_name = LabelEncoder()\n",
    "    cat_var_name.fit(split_data[col])\n",
    "    split_data[col] = cat_var_name.transform(split_data[col])\n",
    "    categorical_variables[col] = cat_var_name\n"
   ]
  },
  {
   "cell_type": "code",
   "execution_count": 139,
   "metadata": {
    "collapsed": true
   },
   "outputs": [],
   "source": [
    "test = df.copy()\n",
    "test =  test.loc[:,test.count() >= percent_non_null]"
   ]
  },
  {
   "cell_type": "code",
   "execution_count": 140,
   "metadata": {},
   "outputs": [],
   "source": [
    "#dropped all of the date columns + all the address columns that didn't make sense\n",
    "\n",
    "test.drop(test[['CASE_NUMBER', 'CASE_RECEIVED_DATE', 'DECISION_DATE', 'EMPLOYER_ADDRESS_1','EMPLOYER_PHONE','EMPLOYER_POSTAL_CODE','FW_INFO_POSTAL_CODE','JOB_INFO_JOB_TITLE','JOB_INFO_WORK_POSTAL_CODE','NAICS_US_CODE','NAICS_US_TITLE','EMPLOYER_DECL_INFO_TITLE']], axis=1, inplace = True)\n",
    "test.drop(test[['PW_DETERM_DATE','PW_EXPIRE_DATE','PW_SOC_TITLE','RECR_INFO_FIRST_AD_START','RECR_INFO_SECOND_AD_START','RECR_INFO_SUNDAY_NEWSPAPER','RECR_INFO_SWA_JOB_ORDER_END','RECR_INFO_SWA_JOB_ORDER_START','RI_1ST_AD_NEWSPAPER_NAME','RI_2ND_AD_NEWSPAPER_NAME','RI_2ND_AD_NEWSPAPER_OR_JOURNAL']], axis=1, inplace = True)\n"
   ]
  },
  {
   "cell_type": "code",
   "execution_count": 117,
   "metadata": {},
   "outputs": [
    {
     "data": {
      "text/plain": [
       "Index(['CASE_STATUS', 'CLASS_OF_ADMISSION', 'COUNTRY_OF_CITIZENSHIP',\n",
       "       'EMPLOYER_CITY', 'EMPLOYER_COUNTRY', 'EMPLOYER_NAME',\n",
       "       'EMPLOYER_NUM_EMPLOYEES', 'EMPLOYER_STATE', 'EMPLOYER_YR_ESTAB',\n",
       "       'FOREIGN_WORKER_INFO_CITY', 'FOREIGN_WORKER_INFO_EDUCATION',\n",
       "       'FOREIGN_WORKER_INFO_INST', 'FOREIGN_WORKER_INFO_MAJOR',\n",
       "       'FOREIGN_WORKER_INFO_STATE', 'FW_INFO_ALT_EDU_EXPERIENCE',\n",
       "       'FW_INFO_BIRTH_COUNTRY', 'FW_INFO_REQ_EXPERIENCE',\n",
       "       'FW_INFO_TRAINING_COMP', 'FW_INFO_YR_REL_EDU_COMPLETED',\n",
       "       'FW_OWNERSHIP_INTEREST', 'JI_LIVE_IN_DOMESTIC_SERVICE',\n",
       "       'JOB_INFO_ALT_COMBO_ED_EXP', 'JOB_INFO_ALT_FIELD',\n",
       "       'JOB_INFO_COMBO_OCCUPATION', 'JOB_INFO_EDUCATION',\n",
       "       'JOB_INFO_EXPERIENCE', 'JOB_INFO_FOREIGN_ED',\n",
       "       'JOB_INFO_FOREIGN_LANG_REQ', 'JOB_INFO_JOB_REQ_NORMAL',\n",
       "       'JOB_INFO_TRAINING', 'JOB_INFO_WORK_CITY', 'JOB_INFO_WORK_STATE',\n",
       "       'PREPARER_INFO_EMP_COMPLETED', 'PW_AMOUNT_9089', 'PW_LEVEL_9089',\n",
       "       'PW_SOC_CODE', 'PW_SOURCE_NAME_9089', 'PW_TRACK_NUM',\n",
       "       'PW_UNIT_OF_PAY_9089', 'RECR_INFO_COLL_UNIV_TEACHER',\n",
       "       'RECR_INFO_EMPLOYER_REC_PAYMENT', 'RECR_INFO_PROFESSIONAL_OCC',\n",
       "       'RI_LAYOFF_IN_PAST_SIX_MONTHS', 'RI_POSTED_NOTICE_AT_WORKSITE',\n",
       "       'SCHD_A_SHEEPHERDER', 'WAGE_OFFER_FROM_9089',\n",
       "       'WAGE_OFFER_UNIT_OF_PAY_9089', 'remuneration', 'YEAR'],\n",
       "      dtype='object')"
      ]
     },
     "execution_count": 117,
     "metadata": {},
     "output_type": "execute_result"
    }
   ],
   "source": [
    "test.columns"
   ]
  },
  {
   "cell_type": "code",
   "execution_count": 142,
   "metadata": {},
   "outputs": [],
   "source": [
    "test.dropna(axis = 0, how = 'any', inplace = True)"
   ]
  },
  {
   "cell_type": "code",
   "execution_count": 128,
   "metadata": {},
   "outputs": [
    {
     "data": {
      "text/plain": [
       "(245295, 49)"
      ]
     },
     "execution_count": 128,
     "metadata": {},
     "output_type": "execute_result"
    }
   ],
   "source": [
    "test.shape"
   ]
  },
  {
   "cell_type": "code",
   "execution_count": 143,
   "metadata": {
    "collapsed": true
   },
   "outputs": [],
   "source": [
    "test.loc[test.CASE_STATUS == 'Certified', 'CASE_STATUS'] = 1\n",
    "test.loc[test.CASE_STATUS == 'Denied', 'CASE_STATUS'] = 0\n",
    "test.loc[test.CASE_STATUS == 'Certified-Expired', 'CASE_STATUS'] = 1"
   ]
  },
  {
   "cell_type": "markdown",
   "metadata": {},
   "source": [
    "Used test dataframe to drop rows with any nulls (was quite a bit since there were still 49 columns), then used that to run mutual information on. Had to categorize all of the data using the function below and ended up doing the final column pick manually on excel."
   ]
  },
  {
   "cell_type": "code",
   "execution_count": 144,
   "metadata": {
    "scrolled": true
   },
   "outputs": [
    {
     "name": "stdout",
     "output_type": "stream",
     "text": [
      "CASE_STATUS\n",
      "CLASS_OF_ADMISSION\n",
      "COUNTRY_OF_CITIZENSHIP\n",
      "EMPLOYER_CITY\n",
      "EMPLOYER_COUNTRY\n",
      "EMPLOYER_NAME\n",
      "EMPLOYER_NUM_EMPLOYEES\n",
      "EMPLOYER_STATE\n",
      "EMPLOYER_YR_ESTAB\n",
      "FOREIGN_WORKER_INFO_CITY\n",
      "FOREIGN_WORKER_INFO_EDUCATION\n",
      "FOREIGN_WORKER_INFO_INST\n",
      "FOREIGN_WORKER_INFO_MAJOR\n",
      "FOREIGN_WORKER_INFO_STATE\n",
      "FW_INFO_ALT_EDU_EXPERIENCE\n",
      "FW_INFO_BIRTH_COUNTRY\n",
      "FW_INFO_REQ_EXPERIENCE\n",
      "FW_INFO_TRAINING_COMP\n",
      "FW_INFO_YR_REL_EDU_COMPLETED\n",
      "FW_OWNERSHIP_INTEREST\n",
      "JI_LIVE_IN_DOMESTIC_SERVICE\n",
      "JOB_INFO_ALT_COMBO_ED_EXP\n",
      "JOB_INFO_ALT_FIELD\n",
      "JOB_INFO_COMBO_OCCUPATION\n",
      "JOB_INFO_EDUCATION\n",
      "JOB_INFO_EXPERIENCE\n",
      "JOB_INFO_FOREIGN_ED\n",
      "JOB_INFO_FOREIGN_LANG_REQ\n",
      "JOB_INFO_JOB_REQ_NORMAL\n",
      "JOB_INFO_TRAINING\n",
      "JOB_INFO_WORK_CITY\n",
      "JOB_INFO_WORK_STATE\n",
      "PREPARER_INFO_EMP_COMPLETED\n",
      "PW_AMOUNT_9089\n",
      "PW_LEVEL_9089\n",
      "PW_SOC_CODE\n",
      "PW_SOURCE_NAME_9089\n",
      "PW_TRACK_NUM\n",
      "PW_UNIT_OF_PAY_9089\n",
      "RECR_INFO_COLL_UNIV_TEACHER\n",
      "RECR_INFO_EMPLOYER_REC_PAYMENT\n",
      "RECR_INFO_PROFESSIONAL_OCC\n",
      "RI_LAYOFF_IN_PAST_SIX_MONTHS\n",
      "RI_POSTED_NOTICE_AT_WORKSITE\n",
      "SCHD_A_SHEEPHERDER\n",
      "WAGE_OFFER_FROM_9089\n",
      "WAGE_OFFER_UNIT_OF_PAY_9089\n",
      "remuneration\n",
      "YEAR\n"
     ]
    }
   ],
   "source": [
    "from sklearn.preprocessing import LabelEncoder\n",
    "categorical_variables = {}\n",
    "\n",
    "#Creating categories denoted by integers from column values\n",
    "for col in test.columns:\n",
    "    print(col)\n",
    "    cat_var_name = \"cat_\"+ col\n",
    "    cat_var_name = LabelEncoder()\n",
    "    test[col] = cat_var_name.fit_transform(test[col].astype(str))\n",
    "   # cat_var_name.fit(test[col])\n",
    "   # test[col] = cat_var_name.transform(test[col].astype(str))\n",
    "    categorical_variables[col] = cat_var_name\n"
   ]
  },
  {
   "cell_type": "code",
   "execution_count": null,
   "metadata": {
    "collapsed": true
   },
   "outputs": [],
   "source": []
  },
  {
   "cell_type": "code",
   "execution_count": 145,
   "metadata": {
    "collapsed": true
   },
   "outputs": [
    {
     "data": {
      "text/plain": [
       "[0.039432186361427979,\n",
       " 0.024787407959043106,\n",
       " 0.011997274745046749,\n",
       " 0.058910356584715995,\n",
       " 0.024736098825659747,\n",
       " 0.020890288674033419,\n",
       " 0.0041439724028085045,\n",
       " 0.0053227484395927949,\n",
       " 0.0041981570982965177,\n",
       " 0.02409219223334258,\n",
       " 0.0071606941824935433,\n",
       " 0.0096790848587555711,\n",
       " 0.0034115111487182936,\n",
       " 0.0044626391962649947,\n",
       " 0.024380176941549037,\n",
       " 0.017780462158458077,\n",
       " 0.0,\n",
       " 0.0057838285304612214,\n",
       " 0.00086087570237713962,\n",
       " 0.0,\n",
       " 0.0061416779760545825,\n",
       " 0.010810389775572249,\n",
       " 0.0,\n",
       " 0.026314441508955344,\n",
       " 0.01985154824275992,\n",
       " 0.05243177396187737,\n",
       " 0.00092444857074558406,\n",
       " 0.026610458291028261,\n",
       " 0.0,\n",
       " 0.015603877269393607,\n",
       " 0.0045560888578433101,\n",
       " 0.00023856795666410413,\n",
       " 0.020393385506167983,\n",
       " 0.01552347417994393,\n",
       " 0.028316669101410064,\n",
       " 0.047792604244296211,\n",
       " 0.042040413511743369,\n",
       " 0.055088693418975376,\n",
       " 0.0,\n",
       " 0.0,\n",
       " 0.050981454964292183,\n",
       " 0.0003182114993860452,\n",
       " 0.055960220403130201,\n",
       " 0.0,\n",
       " 0.02327266505018355,\n",
       " 0.055567932548464816,\n",
       " 0.022204345994831565,\n",
       " 0.01690057994796379]"
      ]
     },
     "execution_count": 145,
     "metadata": {},
     "output_type": "execute_result"
    }
   ],
   "source": [
    "list(mutual_info_classif(test.loc[:, test.columns != 'CASE_STATUS'], test.CASE_STATUS))"
   ]
  },
  {
   "cell_type": "code",
   "execution_count": 147,
   "metadata": {},
   "outputs": [
    {
     "data": {
      "text/html": [
       "<div>\n",
       "<style>\n",
       "    .dataframe thead tr:only-child th {\n",
       "        text-align: right;\n",
       "    }\n",
       "\n",
       "    .dataframe thead th {\n",
       "        text-align: left;\n",
       "    }\n",
       "\n",
       "    .dataframe tbody tr th {\n",
       "        vertical-align: top;\n",
       "    }\n",
       "</style>\n",
       "<table border=\"1\" class=\"dataframe\">\n",
       "  <thead>\n",
       "    <tr style=\"text-align: right;\">\n",
       "      <th></th>\n",
       "      <th>CASE_STATUS</th>\n",
       "      <th>CLASS_OF_ADMISSION</th>\n",
       "      <th>COUNTRY_OF_CITIZENSHIP</th>\n",
       "      <th>EMPLOYER_CITY</th>\n",
       "      <th>EMPLOYER_COUNTRY</th>\n",
       "      <th>EMPLOYER_NAME</th>\n",
       "      <th>EMPLOYER_NUM_EMPLOYEES</th>\n",
       "      <th>EMPLOYER_STATE</th>\n",
       "      <th>EMPLOYER_YR_ESTAB</th>\n",
       "      <th>FOREIGN_WORKER_INFO_CITY</th>\n",
       "      <th>...</th>\n",
       "      <th>RECR_INFO_COLL_UNIV_TEACHER</th>\n",
       "      <th>RECR_INFO_EMPLOYER_REC_PAYMENT</th>\n",
       "      <th>RECR_INFO_PROFESSIONAL_OCC</th>\n",
       "      <th>RI_LAYOFF_IN_PAST_SIX_MONTHS</th>\n",
       "      <th>RI_POSTED_NOTICE_AT_WORKSITE</th>\n",
       "      <th>SCHD_A_SHEEPHERDER</th>\n",
       "      <th>WAGE_OFFER_FROM_9089</th>\n",
       "      <th>WAGE_OFFER_UNIT_OF_PAY_9089</th>\n",
       "      <th>remuneration</th>\n",
       "      <th>YEAR</th>\n",
       "    </tr>\n",
       "  </thead>\n",
       "  <tbody>\n",
       "    <tr>\n",
       "      <th>0</th>\n",
       "      <td>1</td>\n",
       "      <td>16</td>\n",
       "      <td>75</td>\n",
       "      <td>3980</td>\n",
       "      <td>5</td>\n",
       "      <td>41608</td>\n",
       "      <td>3266</td>\n",
       "      <td>62</td>\n",
       "      <td>104</td>\n",
       "      <td>4106</td>\n",
       "      <td>...</td>\n",
       "      <td>0</td>\n",
       "      <td>0</td>\n",
       "      <td>1</td>\n",
       "      <td>0</td>\n",
       "      <td>2</td>\n",
       "      <td>0</td>\n",
       "      <td>35369</td>\n",
       "      <td>4</td>\n",
       "      <td>8</td>\n",
       "      <td>1</td>\n",
       "    </tr>\n",
       "    <tr>\n",
       "      <th>1</th>\n",
       "      <td>1</td>\n",
       "      <td>16</td>\n",
       "      <td>75</td>\n",
       "      <td>2543</td>\n",
       "      <td>5</td>\n",
       "      <td>42989</td>\n",
       "      <td>4411</td>\n",
       "      <td>65</td>\n",
       "      <td>245</td>\n",
       "      <td>3843</td>\n",
       "      <td>...</td>\n",
       "      <td>0</td>\n",
       "      <td>0</td>\n",
       "      <td>1</td>\n",
       "      <td>0</td>\n",
       "      <td>2</td>\n",
       "      <td>0</td>\n",
       "      <td>34257</td>\n",
       "      <td>4</td>\n",
       "      <td>9</td>\n",
       "      <td>1</td>\n",
       "    </tr>\n",
       "    <tr>\n",
       "      <th>2</th>\n",
       "      <td>1</td>\n",
       "      <td>25</td>\n",
       "      <td>152</td>\n",
       "      <td>3399</td>\n",
       "      <td>5</td>\n",
       "      <td>16091</td>\n",
       "      <td>3625</td>\n",
       "      <td>11</td>\n",
       "      <td>240</td>\n",
       "      <td>4217</td>\n",
       "      <td>...</td>\n",
       "      <td>0</td>\n",
       "      <td>0</td>\n",
       "      <td>1</td>\n",
       "      <td>0</td>\n",
       "      <td>2</td>\n",
       "      <td>0</td>\n",
       "      <td>11792</td>\n",
       "      <td>4</td>\n",
       "      <td>9</td>\n",
       "      <td>0</td>\n",
       "    </tr>\n",
       "    <tr>\n",
       "      <th>4</th>\n",
       "      <td>1</td>\n",
       "      <td>16</td>\n",
       "      <td>75</td>\n",
       "      <td>3220</td>\n",
       "      <td>5</td>\n",
       "      <td>27467</td>\n",
       "      <td>4455</td>\n",
       "      <td>102</td>\n",
       "      <td>241</td>\n",
       "      <td>3331</td>\n",
       "      <td>...</td>\n",
       "      <td>0</td>\n",
       "      <td>0</td>\n",
       "      <td>1</td>\n",
       "      <td>0</td>\n",
       "      <td>2</td>\n",
       "      <td>0</td>\n",
       "      <td>35751</td>\n",
       "      <td>4</td>\n",
       "      <td>8</td>\n",
       "      <td>1</td>\n",
       "    </tr>\n",
       "    <tr>\n",
       "      <th>5</th>\n",
       "      <td>1</td>\n",
       "      <td>16</td>\n",
       "      <td>75</td>\n",
       "      <td>3399</td>\n",
       "      <td>5</td>\n",
       "      <td>37263</td>\n",
       "      <td>1578</td>\n",
       "      <td>11</td>\n",
       "      <td>224</td>\n",
       "      <td>1445</td>\n",
       "      <td>...</td>\n",
       "      <td>0</td>\n",
       "      <td>0</td>\n",
       "      <td>1</td>\n",
       "      <td>0</td>\n",
       "      <td>2</td>\n",
       "      <td>0</td>\n",
       "      <td>10229</td>\n",
       "      <td>4</td>\n",
       "      <td>9</td>\n",
       "      <td>0</td>\n",
       "    </tr>\n",
       "  </tbody>\n",
       "</table>\n",
       "<p>5 rows × 49 columns</p>\n",
       "</div>"
      ],
      "text/plain": [
       "   CASE_STATUS  CLASS_OF_ADMISSION  COUNTRY_OF_CITIZENSHIP  EMPLOYER_CITY  \\\n",
       "0            1                  16                      75           3980   \n",
       "1            1                  16                      75           2543   \n",
       "2            1                  25                     152           3399   \n",
       "4            1                  16                      75           3220   \n",
       "5            1                  16                      75           3399   \n",
       "\n",
       "   EMPLOYER_COUNTRY  EMPLOYER_NAME  EMPLOYER_NUM_EMPLOYEES  EMPLOYER_STATE  \\\n",
       "0                 5          41608                    3266              62   \n",
       "1                 5          42989                    4411              65   \n",
       "2                 5          16091                    3625              11   \n",
       "4                 5          27467                    4455             102   \n",
       "5                 5          37263                    1578              11   \n",
       "\n",
       "   EMPLOYER_YR_ESTAB  FOREIGN_WORKER_INFO_CITY  ...   \\\n",
       "0                104                      4106  ...    \n",
       "1                245                      3843  ...    \n",
       "2                240                      4217  ...    \n",
       "4                241                      3331  ...    \n",
       "5                224                      1445  ...    \n",
       "\n",
       "   RECR_INFO_COLL_UNIV_TEACHER  RECR_INFO_EMPLOYER_REC_PAYMENT  \\\n",
       "0                            0                               0   \n",
       "1                            0                               0   \n",
       "2                            0                               0   \n",
       "4                            0                               0   \n",
       "5                            0                               0   \n",
       "\n",
       "   RECR_INFO_PROFESSIONAL_OCC  RI_LAYOFF_IN_PAST_SIX_MONTHS  \\\n",
       "0                           1                             0   \n",
       "1                           1                             0   \n",
       "2                           1                             0   \n",
       "4                           1                             0   \n",
       "5                           1                             0   \n",
       "\n",
       "   RI_POSTED_NOTICE_AT_WORKSITE  SCHD_A_SHEEPHERDER  WAGE_OFFER_FROM_9089  \\\n",
       "0                             2                   0                 35369   \n",
       "1                             2                   0                 34257   \n",
       "2                             2                   0                 11792   \n",
       "4                             2                   0                 35751   \n",
       "5                             2                   0                 10229   \n",
       "\n",
       "   WAGE_OFFER_UNIT_OF_PAY_9089  remuneration  YEAR  \n",
       "0                            4             8     1  \n",
       "1                            4             9     1  \n",
       "2                            4             9     0  \n",
       "4                            4             8     1  \n",
       "5                            4             9     0  \n",
       "\n",
       "[5 rows x 49 columns]"
      ]
     },
     "execution_count": 147,
     "metadata": {},
     "output_type": "execute_result"
    }
   ],
   "source": [
    "test.head()"
   ]
  },
  {
   "cell_type": "code",
   "execution_count": 172,
   "metadata": {
    "collapsed": true
   },
   "outputs": [],
   "source": [
    "test3.drop(test3[['CASE_NUMBER', 'CASE_RECEIVED_DATE', 'DECISION_DATE', 'EMPLOYER_ADDRESS_1','EMPLOYER_PHONE','EMPLOYER_POSTAL_CODE','FW_INFO_POSTAL_CODE','JOB_INFO_JOB_TITLE','JOB_INFO_WORK_POSTAL_CODE','NAICS_US_CODE','NAICS_US_TITLE','EMPLOYER_DECL_INFO_TITLE']], axis=1, inplace = True)\n",
    "test3.drop(test3[['PW_DETERM_DATE','PW_EXPIRE_DATE','PW_SOC_TITLE','RECR_INFO_FIRST_AD_START','RECR_INFO_SECOND_AD_START','RECR_INFO_SUNDAY_NEWSPAPER','RECR_INFO_SWA_JOB_ORDER_END','RECR_INFO_SWA_JOB_ORDER_START','RI_1ST_AD_NEWSPAPER_NAME','RI_2ND_AD_NEWSPAPER_NAME','RI_2ND_AD_NEWSPAPER_OR_JOURNAL']], axis=1, inplace = True)\n"
   ]
  },
  {
   "cell_type": "code",
   "execution_count": 173,
   "metadata": {},
   "outputs": [],
   "source": [
    "#Picking only the columns that had high mutual information and made snse\n",
    "chosen_attrs = [0,4,43,26,41,36,1,35,28,24,2]\n",
    "test3 = test3.iloc[:,chosen_attrs]"
   ]
  },
  {
   "cell_type": "code",
   "execution_count": 174,
   "metadata": {
    "collapsed": true
   },
   "outputs": [],
   "source": [
    "#dropping the rows that have any nulls in them\n",
    "test3.dropna(axis = 0 , how = 'any', inplace = True)\n"
   ]
  },
  {
   "cell_type": "code",
   "execution_count": 329,
   "metadata": {},
   "outputs": [
    {
     "data": {
      "text/plain": [
       "Index(['EMPLOYER_COUNTRY', 'RI_POSTED_NOTICE_AT_WORKSITE',\n",
       "       'JOB_INFO_FOREIGN_ED', 'RECR_INFO_PROFESSIONAL_OCC',\n",
       "       'PW_SOURCE_NAME_9089', 'CLASS_OF_ADMISSION', 'PW_SOC_CODE',\n",
       "       'JOB_INFO_JOB_REQ_NORMAL', 'JOB_INFO_EDUCATION',\n",
       "       'COUNTRY_OF_CITIZENSHIP'],\n",
       "      dtype='object')"
      ]
     },
     "execution_count": 329,
     "metadata": {},
     "output_type": "execute_result"
    }
   ],
   "source": [
    "test3.loc[:, test3.columns != 'CASE_STATUS'].columns"
   ]
  },
  {
   "cell_type": "code",
   "execution_count": 257,
   "metadata": {},
   "outputs": [
    {
     "data": {
      "text/plain": [
       "(279925, 11)"
      ]
     },
     "execution_count": 257,
     "metadata": {},
     "output_type": "execute_result"
    }
   ],
   "source": [
    "test3.shape"
   ]
  },
  {
   "cell_type": "code",
   "execution_count": 277,
   "metadata": {},
   "outputs": [],
   "source": [
    "test3.reset_index(inplace = True)\n",
    "del test3['index']"
   ]
  },
  {
   "cell_type": "code",
   "execution_count": 176,
   "metadata": {
    "collapsed": true
   },
   "outputs": [],
   "source": [
    "#making the leftover columns into categorical data\n",
    "\n",
    "from sklearn.preprocessing import LabelEncoder\n",
    "categorical_variables = {}\n",
    "\n",
    "#Creating categories denoted by integers from column values\n",
    "for col in test3.columns:\n",
    "    cat_var_name = \"cat_\"+ col\n",
    "    cat_var_name = LabelEncoder()\n",
    "    cat_var_name.fit(test3[col])\n",
    "    test3[col] = cat_var_name.transform(test3[col])\n",
    "    categorical_variables[col] = cat_var_name\n"
   ]
  },
  {
   "cell_type": "code",
   "execution_count": 259,
   "metadata": {},
   "outputs": [
    {
     "name": "stdout",
     "output_type": "stream",
     "text": [
      "           Denied  Certified\n",
      "Denied          4       4114\n",
      "Certified       2      79858\n",
      "The accuracy score for this training is 0.950987163305\n",
      "             precision    recall  f1-score   support\n",
      "\n",
      "          0       0.67      0.00      0.00      4118\n",
      "          1       0.95      1.00      0.97     79860\n",
      "\n",
      "avg / total       0.94      0.95      0.93     83978\n",
      "\n",
      "0.68643898678\n"
     ]
    }
   ],
   "source": [
    "#raw logisitic regression, no hyperparameter, no undersampling\n",
    "logit_regr(test3.CASE_STATUS,test3.loc[:, test3.columns != 'CASE_STATUS'])"
   ]
  },
  {
   "cell_type": "code",
   "execution_count": 177,
   "metadata": {},
   "outputs": [
    {
     "name": "stdout",
     "output_type": "stream",
     "text": [
      "[[    5  4059]\n",
      " [    4 79910]]\n",
      "[[ 0.28546215  0.51001324  0.67385131  0.25828011 -0.09977036  0.02253532\n",
      "  -0.00175717 -0.78057472  0.03866618 -0.00221121]]\n",
      "0.69490390685\n"
     ]
    },
    {
     "data": {
      "text/plain": [
       "Best_params        [{'C': 0.1}]\n",
       "F1                         0.98\n",
       "False negatives               4\n",
       "False positives            4059\n",
       "P                           1.0\n",
       "R                          0.95\n",
       "Test_ACC                   0.95\n",
       "Train_ACC                  0.95\n",
       "True negatives                5\n",
       "True positives            79910\n",
       "dtype: object"
      ]
     },
     "execution_count": 177,
     "metadata": {},
     "output_type": "execute_result"
    }
   ],
   "source": [
    "logreg_params = {'C': [0.001, 0.01, 0.1, 1, 10, 100] }\n",
    "\n",
    "logreg = fit_algorithm(LogisticRegression(),test3.loc[:, test3.columns != 'CASE_STATUS'],test3.CASE_STATUS,logreg_params)\n",
    "logreg"
   ]
  },
  {
   "cell_type": "code",
   "execution_count": 313,
   "metadata": {},
   "outputs": [
    {
     "name": "stdout",
     "output_type": "stream",
     "text": [
      "[[    5  4059]\n",
      " [    4 79910]]\n",
      "0.694903592782\n",
      "[{'C': 0.1}]\n"
     ]
    },
    {
     "data": {
      "image/png": "[encoded data removed]",
      "text/plain": [
       "<matplotlib.figure.Figure at 0x1a2dc23c18>"
      ]
     },
     "metadata": {},
     "output_type": "display_data"
    },
    {
     "data": {
      "text/plain": [
       "Best_params        [{'C': 0.1}]\n",
       "F1                         0.98\n",
       "False negatives               4\n",
       "False positives            4059\n",
       "P                           1.0\n",
       "R                          0.95\n",
       "Test_ACC                   0.95\n",
       "Train_ACC                  0.95\n",
       "True negatives                5\n",
       "True positives            79910\n",
       "dtype: object"
      ]
     },
     "execution_count": 313,
     "metadata": {},
     "output_type": "execute_result"
    }
   ],
   "source": [
    "logreg_params = {'C': [0.001, 0.01, 0.1, 1, 10, 100] }\n",
    "\n",
    "logreg = fit_algorithm(LogisticRegression(),test3.loc[:, test3.columns != 'CASE_STATUS'],test3.CASE_STATUS,logreg_params)\n",
    "logreg"
   ]
  },
  {
   "cell_type": "code",
   "execution_count": 328,
   "metadata": {},
   "outputs": [
    {
     "name": "stdout",
     "output_type": "stream",
     "text": [
      "[[    5  4059]\n",
      " [    4 79910]]\n",
      "[[ 0.28548312  0.51028714  0.67383171  0.25834187 -0.09994118  0.02253419\n",
      "  -0.00175694 -0.78086016  0.03866086 -0.00221113]]\n",
      "0.694906508687\n",
      "[{'C': 0.1}]\n"
     ]
    },
    {
     "data": {
      "image/png": "[encoded data removed]",
      "text/plain": [
       "<matplotlib.figure.Figure at 0x1a2ed1cfd0>"
      ]
     },
     "metadata": {},
     "output_type": "display_data"
    },
    {
     "data": {
      "text/plain": [
       "Best_params        [{'C': 0.1}]\n",
       "F1                         0.98\n",
       "False negatives               4\n",
       "False positives            4059\n",
       "P                           1.0\n",
       "R                          0.95\n",
       "Test_ACC                   0.95\n",
       "Train_ACC                  0.95\n",
       "True negatives                5\n",
       "True positives            79910\n",
       "dtype: object"
      ]
     },
     "execution_count": 328,
     "metadata": {},
     "output_type": "execute_result"
    }
   ],
   "source": [
    "#rerunning logit with hyperparmeter and no undersampling to see if importance changes when rows are cut\n",
    "#rerunning logit with the selected hyperparameter to get feature importance\n",
    "logreg_params = {'C': [0.1] }\n",
    "\n",
    "logreg = fit_algorithm_imp(LogisticRegression(),test3.loc[:, test3.columns != 'CASE_STATUS'],test3.CASE_STATUS,logreg_params, \"logit\")\n",
    "logreg"
   ]
  },
  {
   "cell_type": "code",
   "execution_count": 214,
   "metadata": {},
   "outputs": [
    {
     "name": "stdout",
     "output_type": "stream",
     "text": [
      "      0      1\n",
      "0   706   3449\n",
      "1  1424  78399\n",
      "The accuracy score for this training is 0.941972897664\n",
      "             precision    recall  f1-score   support\n",
      "\n",
      "          0       0.33      0.17      0.22      4155\n",
      "          1       0.96      0.98      0.97     79823\n",
      "\n",
      "avg / total       0.93      0.94      0.93     83978\n",
      "\n",
      "0.636230700437\n",
      "10\n"
     ]
    }
   ],
   "source": [
    "cart(test3.CASE_STATUS,test3.loc[:, test3.columns != 'CASE_STATUS'])"
   ]
  },
  {
   "cell_type": "code",
   "execution_count": 318,
   "metadata": {},
   "outputs": [
    {
     "name": "stdout",
     "output_type": "stream",
     "text": [
      "[[  568  3496]\n",
      " [  686 79228]]\n",
      "0.69498503337\n"
     ]
    },
    {
     "data": {
      "text/plain": [
       "F1                  0.97\n",
       "False negatives      686\n",
       "False positives     3496\n",
       "P                   0.99\n",
       "R                   0.96\n",
       "True negatives       568\n",
       "True positives     79228\n",
       "dtype: object"
      ]
     },
     "execution_count": 318,
     "metadata": {},
     "output_type": "execute_result"
    }
   ],
   "source": [
    "#raw random forest, no hyperperameters, no under sampling\n",
    "random_forest(test3.CASE_STATUS,test3.loc[:, test3.columns != 'CASE_STATUS'])"
   ]
  },
  {
   "cell_type": "code",
   "execution_count": 317,
   "metadata": {},
   "outputs": [
    {
     "name": "stdout",
     "output_type": "stream",
     "text": [
      "[[  379  3685]\n",
      " [  114 79800]]\n",
      "0.781271724572\n",
      "[{'max_depth': 15, 'max_features': 4, 'n_estimators': 40, 'n_jobs': -1, 'random_state': 123}]\n"
     ]
    },
    {
     "data": {
      "image/png": "[encoded data removed]",
      "text/plain": [
       "<matplotlib.figure.Figure at 0x1a2e9ed438>"
      ]
     },
     "metadata": {},
     "output_type": "display_data"
    },
    {
     "data": {
      "text/plain": [
       "Best_params        [{'max_depth': 15, 'max_features': 4, 'n_estim...\n",
       "F1                                                              0.98\n",
       "False negatives                                                  114\n",
       "False positives                                                 3685\n",
       "P                                                                1.0\n",
       "R                                                               0.96\n",
       "Test_ACC                                                        0.95\n",
       "Train_ACC                                                       0.95\n",
       "True negatives                                                   379\n",
       "True positives                                                 79800\n",
       "dtype: object"
      ]
     },
     "execution_count": 317,
     "metadata": {},
     "output_type": "execute_result"
    }
   ],
   "source": [
    "forest_params = {'n_estimators': [10,20,30,40,50],\n",
    "     'max_depth': [15,20,25,30],\n",
    "     'max_features': [2,3,4,5],\n",
    "     'random_state': [123],\n",
    "     'n_jobs': [-1]\n",
    "    }\n",
    "    \n",
    "# #Importing RandomForestClassifier from sklearn\n",
    "from sklearn.ensemble import RandomForestClassifier\n",
    "\n",
    "forest = fit_algorithm(RandomForestClassifier(),test3.loc[:, test3.columns != 'CASE_STATUS'],test3.CASE_STATUS, forest_params)\n",
    "forest"
   ]
  },
  {
   "cell_type": "code",
   "execution_count": 209,
   "metadata": {},
   "outputs": [
    {
     "name": "stdout",
     "output_type": "stream",
     "text": [
      "1    0.950837\n",
      "0    0.049163\n",
      "Name: CASE_STATUS, dtype: float64\n",
      "1    0.855247\n",
      "0    0.144753\n",
      "Name: CASE_STATUS, dtype: float64\n"
     ]
    }
   ],
   "source": [
    "print(test3['CASE_STATUS'].value_counts() /  test3['CASE_STATUS'].value_counts().sum())\n",
    "test3_cut = test3.drop(test3.query('CASE_STATUS == 1').sample(frac=.70).index)\n",
    "print(test3_cut['CASE_STATUS'].value_counts() /  test3_cut['CASE_STATUS'].value_counts().sum())"
   ]
  },
  {
   "cell_type": "code",
   "execution_count": 282,
   "metadata": {
    "collapsed": true
   },
   "outputs": [],
   "source": [
    "test3_cut.reset_index(inplace = True)\n",
    "del test3_cut['index']"
   ]
  },
  {
   "cell_type": "code",
   "execution_count": 260,
   "metadata": {},
   "outputs": [
    {
     "name": "stdout",
     "output_type": "stream",
     "text": [
      "           Denied  Certified\n",
      "Denied         52       1000\n",
      "Certified      53       6060\n",
      "The accuracy score for this training is 0.853035589672\n",
      "             precision    recall  f1-score   support\n",
      "\n",
      "          0       0.50      0.05      0.09      1052\n",
      "          1       0.86      0.99      0.92      6113\n",
      "\n",
      "avg / total       0.81      0.85      0.80      7165\n",
      "\n",
      "0.697226707528\n"
     ]
    }
   ],
   "source": [
    "#logistic regr, no hyperparameter, under sampled data\n",
    "logit_regr(test3_cut.CASE_STATUS,test3_cut.loc[:, test3_cut.columns != 'CASE_STATUS'])"
   ]
  },
  {
   "cell_type": "code",
   "execution_count": 314,
   "metadata": {},
   "outputs": [
    {
     "name": "stdout",
     "output_type": "stream",
     "text": [
      "[[  63  950]\n",
      " [  60 6092]]\n",
      "0.704916546534\n",
      "[{'C': 10}]\n"
     ]
    },
    {
     "data": {
      "image/png": "[encoded data removed]",
      "text/plain": [
       "<matplotlib.figure.Figure at 0x1a2e7db550>"
      ]
     },
     "metadata": {},
     "output_type": "display_data"
    },
    {
     "data": {
      "text/plain": [
       "Best_params        [{'C': 10}]\n",
       "F1                        0.92\n",
       "False negatives             60\n",
       "False positives            950\n",
       "P                         0.99\n",
       "R                         0.87\n",
       "Test_ACC                  0.86\n",
       "Train_ACC                 0.86\n",
       "True negatives              63\n",
       "True positives            6092\n",
       "dtype: object"
      ]
     },
     "execution_count": 314,
     "metadata": {},
     "output_type": "execute_result"
    }
   ],
   "source": [
    "logreg_params = {'C': [0.001, 0.01, 0.1, 1, 10, 100] }\n",
    "\n",
    "logreg = fit_algorithm(LogisticRegression(),test3_cut.loc[:, test3_cut.columns != 'CASE_STATUS'],test3_cut.CASE_STATUS,logreg_params)\n",
    "logreg"
   ]
  },
  {
   "cell_type": "code",
   "execution_count": 326,
   "metadata": {},
   "outputs": [
    {
     "name": "stdout",
     "output_type": "stream",
     "text": [
      "[[  63  950]\n",
      " [  60 6092]]\n",
      "[[ 0.04717119  0.41383787  0.750703    0.21815688  0.08378645  0.02636557\n",
      "  -0.00185426 -0.69284444  0.03820422 -0.00222886]]\n",
      "0.704916706996\n",
      "[{'C': 10}]\n"
     ]
    },
    {
     "data": {
      "image/png": "[encoded data removed]",
      "text/plain": [
       "<matplotlib.figure.Figure at 0x1a344f6898>"
      ]
     },
     "metadata": {},
     "output_type": "display_data"
    },
    {
     "data": {
      "text/plain": [
       "Best_params        [{'C': 10}]\n",
       "F1                        0.92\n",
       "False negatives             60\n",
       "False positives            950\n",
       "P                         0.99\n",
       "R                         0.87\n",
       "Test_ACC                  0.86\n",
       "Train_ACC                 0.86\n",
       "True negatives              63\n",
       "True positives            6092\n",
       "dtype: object"
      ]
     },
     "execution_count": 326,
     "metadata": {},
     "output_type": "execute_result"
    }
   ],
   "source": [
    "#rerunning logit with the selected hyperparameter to get feature importance\n",
    "logreg_params = {'C': [10] }\n",
    "\n",
    "logreg = fit_algorithm_imp(LogisticRegression(),test3_cut.loc[:, test3_cut.columns != 'CASE_STATUS'],test3_cut.CASE_STATUS,logreg_params, \"logit\")\n",
    "logreg"
   ]
  },
  {
   "cell_type": "code",
   "execution_count": 215,
   "metadata": {},
   "outputs": [
    {
     "name": "stdout",
     "output_type": "stream",
     "text": [
      "     0     1\n",
      "0  359   683\n",
      "1  508  5615\n",
      "The accuracy score for this training is 0.833775296581\n",
      "             precision    recall  f1-score   support\n",
      "\n",
      "          0       0.41      0.34      0.38      1042\n",
      "          1       0.89      0.92      0.90      6123\n",
      "\n",
      "avg / total       0.82      0.83      0.83      7165\n",
      "\n",
      "0.632051109642\n",
      "10\n"
     ]
    }
   ],
   "source": [
    "cart(test3_cut.CASE_STATUS,test3_cut.loc[:, test3_cut.columns != 'CASE_STATUS'])"
   ]
  },
  {
   "cell_type": "code",
   "execution_count": 316,
   "metadata": {},
   "outputs": [
    {
     "name": "stdout",
     "output_type": "stream",
     "text": [
      "[[ 289  724]\n",
      " [ 317 5835]]\n",
      "0.715388987377\n"
     ]
    },
    {
     "data": {
      "text/plain": [
       "F1                 0.92\n",
       "False negatives     317\n",
       "False positives     724\n",
       "P                  0.95\n",
       "R                  0.89\n",
       "True negatives      289\n",
       "True positives     5835\n",
       "dtype: object"
      ]
     },
     "execution_count": 316,
     "metadata": {},
     "output_type": "execute_result"
    }
   ],
   "source": [
    "#random forest, no hyperparameter, undersampling\n",
    "random_forest(test3_cut.CASE_STATUS,test3_cut.loc[:, test3_cut.columns != 'CASE_STATUS'])"
   ]
  },
  {
   "cell_type": "code",
   "execution_count": 315,
   "metadata": {},
   "outputs": [
    {
     "name": "stdout",
     "output_type": "stream",
     "text": [
      "[[ 241  772]\n",
      " [ 147 6005]]\n",
      "0.764518027669\n",
      "[{'max_depth': 15, 'max_features': 4, 'n_estimators': 40, 'n_jobs': -1, 'random_state': 123}]\n"
     ]
    },
    {
     "data": {
      "image/png": "[encoded data removed]",
      "text/plain": [
       "<matplotlib.figure.Figure at 0x1a49ec3a58>"
      ]
     },
     "metadata": {},
     "output_type": "display_data"
    },
    {
     "data": {
      "text/plain": [
       "Best_params        [{'max_depth': 15, 'max_features': 4, 'n_estim...\n",
       "F1                                                              0.93\n",
       "False negatives                                                  147\n",
       "False positives                                                  772\n",
       "P                                                               0.98\n",
       "R                                                               0.89\n",
       "Test_ACC                                                        0.87\n",
       "Train_ACC                                                       0.87\n",
       "True negatives                                                   241\n",
       "True positives                                                  6005\n",
       "dtype: object"
      ]
     },
     "execution_count": 315,
     "metadata": {},
     "output_type": "execute_result"
    }
   ],
   "source": [
    "forest_params = {'n_estimators': [10,20,30,40,50],\n",
    "     'max_depth': [15,20,25,30],\n",
    "     'max_features': [2,3,4,5],\n",
    "     'random_state': [123],\n",
    "     'n_jobs': [-1]\n",
    "    }\n",
    "    \n",
    "# #Importing RandomForestClassifier from sklearn\n",
    "from sklearn.ensemble import RandomForestClassifier\n",
    "\n",
    "forest = fit_algorithm(RandomForestClassifier(),test3_cut.loc[:, test3_cut.columns != 'CASE_STATUS'],test3_cut.CASE_STATUS, forest_params)\n",
    "forest"
   ]
  },
  {
   "cell_type": "code",
   "execution_count": 327,
   "metadata": {},
   "outputs": [
    {
     "name": "stdout",
     "output_type": "stream",
     "text": [
      "[[ 241  772]\n",
      " [ 147 6005]]\n",
      "[  7.86079241e-06   1.87526055e-02   4.26322336e-02   5.58047134e-02\n",
      "   2.41826323e-02   1.18459260e-01   4.34645387e-01   2.65642018e-02\n",
      "   7.93801577e-02   1.99570948e-01]\n",
      "0.764518027669\n",
      "[{'max_depth': 15, 'max_features': 4, 'n_estimators': 40, 'n_jobs': -1, 'random_state': 123}]\n"
     ]
    },
    {
     "data": {
      "image/png": "[encoded data removed]",
      "text/plain": [
       "<matplotlib.figure.Figure at 0x1a4d590048>"
      ]
     },
     "metadata": {},
     "output_type": "display_data"
    },
    {
     "data": {
      "text/plain": [
       "Best_params        [{'max_depth': 15, 'max_features': 4, 'n_estim...\n",
       "F1                                                              0.93\n",
       "False negatives                                                  147\n",
       "False positives                                                  772\n",
       "P                                                               0.98\n",
       "R                                                               0.89\n",
       "Test_ACC                                                        0.87\n",
       "Train_ACC                                                       0.87\n",
       "True negatives                                                   241\n",
       "True positives                                                  6005\n",
       "dtype: object"
      ]
     },
     "execution_count": 327,
     "metadata": {},
     "output_type": "execute_result"
    }
   ],
   "source": [
    "#getting feature importances\n",
    "forest_params = {'n_estimators': [40],\n",
    "     'max_depth': [15],\n",
    "     'max_features': [4],\n",
    "     'random_state': [123],\n",
    "     'n_jobs': [-1]\n",
    "    }\n",
    "    \n",
    "# #Importing RandomForestClassifier from sklearn\n",
    "from sklearn.ensemble import RandomForestClassifier\n",
    "\n",
    "forest = fit_algorithm_imp(RandomForestClassifier(),test3_cut.loc[:, test3_cut.columns != 'CASE_STATUS'],test3_cut.CASE_STATUS, forest_params, \"random_forest\")\n",
    "forest"
   ]
  },
  {
   "cell_type": "markdown",
   "metadata": {},
   "source": [
    "## Clustering"
   ]
  },
  {
   "cell_type": "markdown",
   "metadata": {},
   "source": [
    "Using test3_cut to cluster on"
   ]
  },
  {
   "cell_type": "code",
   "execution_count": 220,
   "metadata": {},
   "outputs": [
    {
     "data": {
      "image/png": "[encoded data removed]",
      "text/plain": [
       "<matplotlib.figure.Figure at 0x1a2e948240>"
      ]
     },
     "metadata": {},
     "output_type": "display_data"
    }
   ],
   "source": [
    "# <help:scikit_k_means_cluster>\n",
    "import warnings\n",
    "warnings.filterwarnings('ignore') #notebook outputs warnings, let's ignore them\n",
    "from time import time\n",
    "import numpy as np\n",
    "import matplotlib.pyplot as plt\n",
    "import sklearn.datasets\n",
    "from sklearn.cluster import KMeans\n",
    "\n",
    "# set the number of clusters, must be >=1\n",
    "n = 10\n",
    "inertia = [np.NaN]\n",
    "\n",
    "# perform k-means clustering over i=0...k\n",
    "for k in range(1,n):\n",
    "    k_means_ = KMeans(n_clusters=k)\n",
    "    k_means_.fit(test3_cut.loc[:, test3_cut.columns != 'CASE_STATUS'])\n",
    "    #labels = kmeans.labels_\n",
    "    #print('k = %d, inertia= %f' % (k, k_means_.inertia_ ))\n",
    "    inertia.append(k_means_.inertia_) \n",
    "    \n",
    "# plot the SSE of the clusters for each value of i\n",
    "ax = plt.subplot(111)\n",
    "ax.plot(inertia, '-o')\n",
    "plt.xticks(range(n))\n",
    "plt.title(\"Inertia\")\n",
    "ax.set_ylabel('Inertia')\n",
    "ax.set_xlabel('# Clustears')\n",
    "plt.show() "
   ]
  },
  {
   "cell_type": "code",
   "execution_count": 235,
   "metadata": {
    "collapsed": true
   },
   "outputs": [],
   "source": [
    "clust_t3 = test3_cut.copy()"
   ]
  },
  {
   "cell_type": "code",
   "execution_count": 236,
   "metadata": {
    "collapsed": true
   },
   "outputs": [],
   "source": [
    "# <help:scikit_k_means_cluster>\n",
    "import warnings\n",
    "warnings.filterwarnings('ignore') #notebook outputs warnings, let's ignore them\n",
    "from time import time\n",
    "import numpy as np\n",
    "import matplotlib.pyplot as plt\n",
    "import sklearn.datasets\n",
    "from sklearn.cluster import KMeans\n",
    "\n",
    "# set the number of clusters, must be >=1\n",
    "n = 2\n",
    "inertia = [np.NaN]\n",
    "\n",
    "# perform k-means clustering over i=0...k\n",
    "\n",
    "k_means_ = KMeans(n_clusters=2)\n",
    "k_means_.fit(clust_t3.loc[:, clust_t3.columns != 'CASE_STATUS'])\n",
    "labels = k_means_.labels_\n",
    "#print('k = %d, inertia= %f' % (k, k_means_.inertia_ ))\n",
    "inertia.append(k_means_.inertia_) \n",
    "    "
   ]
  },
  {
   "cell_type": "code",
   "execution_count": 237,
   "metadata": {
    "collapsed": true
   },
   "outputs": [],
   "source": [
    "clust_t3['Cluster_Label'] = labels"
   ]
  },
  {
   "cell_type": "code",
   "execution_count": 238,
   "metadata": {},
   "outputs": [
    {
     "data": {
      "text/plain": [
       "0    20258\n",
       "1     3624\n",
       "Name: Cluster_Label, dtype: int64"
      ]
     },
     "execution_count": 238,
     "metadata": {},
     "output_type": "execute_result"
    }
   ],
   "source": [
    "clust_t3['Cluster_Label'].value_counts()"
   ]
  },
  {
   "cell_type": "code",
   "execution_count": 228,
   "metadata": {},
   "outputs": [
    {
     "data": {
      "text/plain": [
       "Index(['CASE_STATUS', 'EMPLOYER_COUNTRY', 'RI_POSTED_NOTICE_AT_WORKSITE',\n",
       "       'JOB_INFO_FOREIGN_ED', 'RECR_INFO_PROFESSIONAL_OCC',\n",
       "       'PW_SOURCE_NAME_9089', 'CLASS_OF_ADMISSION', 'PW_SOC_CODE',\n",
       "       'JOB_INFO_JOB_REQ_NORMAL', 'JOB_INFO_EDUCATION',\n",
       "       'COUNTRY_OF_CITIZENSHIP', 'Cluster_Label'],\n",
       "      dtype='object')"
      ]
     },
     "execution_count": 228,
     "metadata": {},
     "output_type": "execute_result"
    }
   ],
   "source": [
    "clust_t3.columns"
   ]
  },
  {
   "cell_type": "code",
   "execution_count": 239,
   "metadata": {
    "collapsed": true
   },
   "outputs": [],
   "source": [
    "clust1 = clust_t3.loc[clust_t3['Cluster_Label'] ==0]\n",
    "clust2 = clust_t3.loc[clust_t3['Cluster_Label'] ==1]\n"
   ]
  },
  {
   "cell_type": "code",
   "execution_count": 240,
   "metadata": {
    "collapsed": true
   },
   "outputs": [],
   "source": [
    "clust1.drop('Cluster_Label', axis = 1, inplace = True)\n",
    "clust2.drop('Cluster_Label', axis = 1, inplace = True)"
   ]
  },
  {
   "cell_type": "code",
   "execution_count": 241,
   "metadata": {},
   "outputs": [
    {
     "name": "stdout",
     "output_type": "stream",
     "text": [
      "[[   0  724]\n",
      " [   0 5354]]\n",
      "0.604371673371\n"
     ]
    },
    {
     "data": {
      "text/plain": [
       "Best_params        [{'C': 0.001}]\n",
       "F1                           0.94\n",
       "False negatives                 0\n",
       "False positives               724\n",
       "P                             1.0\n",
       "R                            0.88\n",
       "Test_ACC                     0.88\n",
       "Train_ACC                    0.89\n",
       "True negatives                  0\n",
       "True positives               5354\n",
       "dtype: object"
      ]
     },
     "execution_count": 241,
     "metadata": {},
     "output_type": "execute_result"
    }
   ],
   "source": [
    "logreg_params = {'C': [0.001, 0.01, 0.1, 1, 10, 100] }\n",
    "\n",
    "logreg = fit_algorithm(LogisticRegression(),clust1.loc[:, clust1.columns != 'CASE_STATUS'],clust1.CASE_STATUS,logreg_params)\n",
    "logreg"
   ]
  },
  {
   "cell_type": "code",
   "execution_count": 242,
   "metadata": {},
   "outputs": [
    {
     "name": "stdout",
     "output_type": "stream",
     "text": [
      "[[ 44 299]\n",
      " [ 37 708]]\n",
      "0.688107304283\n"
     ]
    },
    {
     "data": {
      "text/plain": [
       "Best_params        [{'C': 1}]\n",
       "F1                       0.81\n",
       "False negatives            37\n",
       "False positives           299\n",
       "P                        0.95\n",
       "R                         0.7\n",
       "Test_ACC                 0.69\n",
       "Train_ACC                0.71\n",
       "True negatives             44\n",
       "True positives            708\n",
       "dtype: object"
      ]
     },
     "execution_count": 242,
     "metadata": {},
     "output_type": "execute_result"
    }
   ],
   "source": [
    "logreg_params = {'C': [0.001, 0.01, 0.1, 1, 10, 100] }\n",
    "\n",
    "logreg = fit_algorithm(LogisticRegression(),clust2.loc[:, clust2.columns != 'CASE_STATUS'],clust2.CASE_STATUS,logreg_params)\n",
    "logreg"
   ]
  },
  {
   "cell_type": "code",
   "execution_count": 248,
   "metadata": {},
   "outputs": [
    {
     "name": "stdout",
     "output_type": "stream",
     "text": [
      "[[  63  950]\n",
      " [  56 6096]]\n",
      "0.704188206116\n"
     ]
    },
    {
     "data": {
      "text/plain": [
       "Best_params        [{'C': 1}]\n",
       "F1                       0.92\n",
       "False negatives            56\n",
       "False positives           950\n",
       "P                        0.99\n",
       "R                        0.87\n",
       "Test_ACC                 0.86\n",
       "Train_ACC                0.86\n",
       "True negatives             63\n",
       "True positives           6096\n",
       "dtype: object"
      ]
     },
     "execution_count": 248,
     "metadata": {},
     "output_type": "execute_result"
    }
   ],
   "source": [
    "#testing out logit with using the cluster label as a feature\n",
    "logreg_params = {'C': [0.001, 0.01, 0.1, 1, 10, 100] }\n",
    "\n",
    "logreg = fit_algorithm(LogisticRegression(),clust_t3.loc[:, clust_t3.columns != 'CASE_STATUS'],clust_t3.CASE_STATUS,logreg_params)\n",
    "logreg"
   ]
  },
  {
   "cell_type": "code",
   "execution_count": 246,
   "metadata": {},
   "outputs": [
    {
     "name": "stdout",
     "output_type": "stream",
     "text": [
      "[[ 124  600]\n",
      " [  65 5289]]\n",
      "0.711060894214\n"
     ]
    },
    {
     "data": {
      "text/plain": [
       "Best_params        [{'max_depth': 15, 'max_features': 3, 'n_estim...\n",
       "F1                                                              0.94\n",
       "False negatives                                                   65\n",
       "False positives                                                  600\n",
       "P                                                               0.99\n",
       "R                                                                0.9\n",
       "Test_ACC                                                        0.89\n",
       "Train_ACC                                                       0.89\n",
       "True negatives                                                   124\n",
       "True positives                                                  5289\n",
       "dtype: object"
      ]
     },
     "execution_count": 246,
     "metadata": {},
     "output_type": "execute_result"
    }
   ],
   "source": [
    "forest_params = {'n_estimators': [10,20,30,40,50],\n",
    "     'max_depth': [15,20,25,30],\n",
    "     'max_features': [2,3,4,5,6,7,8,9,10],\n",
    "     'random_state': [123],\n",
    "     'n_jobs': [-1]\n",
    "    }\n",
    "    \n",
    "# #Importing RandomForestClassifier from sklearn\n",
    "from sklearn.ensemble import RandomForestClassifier\n",
    "\n",
    "forest = fit_algorithm(RandomForestClassifier(),clust1.loc[:, clust1.columns != 'CASE_STATUS'],clust1.CASE_STATUS, forest_params)\n",
    "forest"
   ]
  },
  {
   "cell_type": "code",
   "execution_count": 247,
   "metadata": {},
   "outputs": [
    {
     "name": "stdout",
     "output_type": "stream",
     "text": [
      "[[101 242]\n",
      " [ 88 657]]\n",
      "0.72553661925\n"
     ]
    },
    {
     "data": {
      "text/plain": [
       "Best_params        [{'max_depth': 15, 'max_features': 2, 'n_estim...\n",
       "F1                                                               0.8\n",
       "False negatives                                                   88\n",
       "False positives                                                  242\n",
       "P                                                               0.88\n",
       "R                                                               0.73\n",
       "Test_ACC                                                         0.7\n",
       "Train_ACC                                                       0.73\n",
       "True negatives                                                   101\n",
       "True positives                                                   657\n",
       "dtype: object"
      ]
     },
     "execution_count": 247,
     "metadata": {},
     "output_type": "execute_result"
    }
   ],
   "source": [
    "forest_params = {'n_estimators': [10,20,30,40,50],\n",
    "     'max_depth': [15,20,25,30],\n",
    "     'max_features': [2,3,4,5,6,7,8,9,10],\n",
    "     'random_state': [123],\n",
    "     'n_jobs': [-1]\n",
    "    }\n",
    "    \n",
    "# #Importing RandomForestClassifier from sklearn\n",
    "from sklearn.ensemble import RandomForestClassifier\n",
    "\n",
    "forest = fit_algorithm(RandomForestClassifier(),clust2.loc[:, clust2.columns != 'CASE_STATUS'],clust2.CASE_STATUS, forest_params)\n",
    "forest"
   ]
  },
  {
   "cell_type": "code",
   "execution_count": 249,
   "metadata": {},
   "outputs": [
    {
     "name": "stdout",
     "output_type": "stream",
     "text": [
      "[[ 243  770]\n",
      " [ 155 5997]]\n",
      "0.764113661542\n"
     ]
    },
    {
     "data": {
      "text/plain": [
       "Best_params        [{'max_depth': 15, 'max_features': 4, 'n_estim...\n",
       "F1                                                              0.93\n",
       "False negatives                                                  155\n",
       "False positives                                                  770\n",
       "P                                                               0.97\n",
       "R                                                               0.89\n",
       "Test_ACC                                                        0.87\n",
       "Train_ACC                                                       0.87\n",
       "True negatives                                                   243\n",
       "True positives                                                  5997\n",
       "dtype: object"
      ]
     },
     "execution_count": 249,
     "metadata": {},
     "output_type": "execute_result"
    }
   ],
   "source": [
    "#testing out random forest with the cluster label as a feature\n",
    "forest_params = {'n_estimators': [10,20,30,40,50],\n",
    "     'max_depth': [15,20,25,30],\n",
    "     'max_features': [2,3,4,5,6,7,8,9,10],\n",
    "     'random_state': [123],\n",
    "     'n_jobs': [-1]\n",
    "    }\n",
    "    \n",
    "# #Importing RandomForestClassifier from sklearn\n",
    "from sklearn.ensemble import RandomForestClassifier\n",
    "\n",
    "forest = fit_algorithm(RandomForestClassifier(),clust_t3.loc[:, clust_t3.columns != 'CASE_STATUS'],clust_t3.CASE_STATUS, forest_params)\n",
    "forest"
   ]
  },
  {
   "cell_type": "markdown",
   "metadata": {},
   "source": [
    "Trying 3 clusters"
   ]
  },
  {
   "cell_type": "code",
   "execution_count": 295,
   "metadata": {
    "collapsed": true
   },
   "outputs": [],
   "source": [
    "clust_t4 = test3_cut.copy()"
   ]
  },
  {
   "cell_type": "code",
   "execution_count": 298,
   "metadata": {
    "collapsed": true
   },
   "outputs": [],
   "source": [
    "# <help:scikit_k_means_cluster>\n",
    "import warnings\n",
    "warnings.filterwarnings('ignore') #notebook outputs warnings, let's ignore them\n",
    "from time import time\n",
    "import numpy as np\n",
    "import matplotlib.pyplot as plt\n",
    "import sklearn.datasets\n",
    "from sklearn.cluster import KMeans\n",
    "\n",
    "# set the number of clusters, must be >=1\n",
    "n = 2\n",
    "inertia = [np.NaN]\n",
    "\n",
    "# perform k-means clustering over i=0...k\n",
    "\n",
    "k_means_ = KMeans(n_clusters=3)\n",
    "k_means_.fit(clust_t4.loc[:, clust_t4.columns != 'CASE_STATUS'])\n",
    "labels = k_means_.labels_\n",
    "#print('k = %d, inertia= %f' % (k, k_means_.inertia_ ))\n",
    "inertia.append(k_means_.inertia_) \n",
    "    "
   ]
  },
  {
   "cell_type": "code",
   "execution_count": 299,
   "metadata": {},
   "outputs": [
    {
     "data": {
      "text/plain": [
       "1    19154\n",
       "2     3037\n",
       "0     1691\n",
       "Name: Cluster_Label, dtype: int64"
      ]
     },
     "execution_count": 299,
     "metadata": {},
     "output_type": "execute_result"
    }
   ],
   "source": [
    "clust_t4['Cluster_Label'] = labels\n",
    "clust_t4.Cluster_Label.value_counts()"
   ]
  },
  {
   "cell_type": "code",
   "execution_count": 300,
   "metadata": {
    "collapsed": true
   },
   "outputs": [],
   "source": [
    "clust3 = clust_t4.loc[clust_t4['Cluster_Label'] ==0]\n",
    "clust4 = clust_t4.loc[clust_t4['Cluster_Label'] ==1]\n",
    "clust5 = clust_t4.loc[clust_t4['Cluster_Label'] ==1]"
   ]
  },
  {
   "cell_type": "code",
   "execution_count": 301,
   "metadata": {
    "collapsed": true
   },
   "outputs": [],
   "source": [
    "clust3.drop('Cluster_Label', axis = 1, inplace = True)\n",
    "clust4.drop('Cluster_Label', axis = 1, inplace = True)\n",
    "clust5.drop('Cluster_Label', axis = 1, inplace = True)"
   ]
  },
  {
   "cell_type": "code",
   "execution_count": 302,
   "metadata": {},
   "outputs": [
    {
     "name": "stdout",
     "output_type": "stream",
     "text": [
      "[[ 56 155]\n",
      " [ 36 261]]\n",
      "0.652640145531\n",
      "[{'C': 10}]\n"
     ]
    },
    {
     "data": {
      "text/plain": [
       "Best_params        [{'C': 10}]\n",
       "F1                        0.73\n",
       "False negatives             36\n",
       "False positives            155\n",
       "P                         0.88\n",
       "R                         0.63\n",
       "Test_ACC                  0.62\n",
       "Train_ACC                 0.65\n",
       "True negatives              56\n",
       "True positives             261\n",
       "dtype: object"
      ]
     },
     "execution_count": 302,
     "metadata": {},
     "output_type": "execute_result"
    }
   ],
   "source": [
    "logreg_params = {'C': [0.001, 0.01, 0.1, 1, 10, 100] }\n",
    "\n",
    "logreg = fit_algorithm(LogisticRegression(),clust3.loc[:, clust3.columns != 'CASE_STATUS'],clust3.CASE_STATUS,logreg_params)\n",
    "logreg"
   ]
  },
  {
   "cell_type": "code",
   "execution_count": 303,
   "metadata": {},
   "outputs": [
    {
     "name": "stdout",
     "output_type": "stream",
     "text": [
      "[[  20  555]\n",
      " [  18 5154]]\n",
      "0.632749083695\n",
      "[{'C': 10}]\n"
     ]
    },
    {
     "data": {
      "text/plain": [
       "Best_params        [{'C': 10}]\n",
       "F1                        0.95\n",
       "False negatives             18\n",
       "False positives            555\n",
       "P                          1.0\n",
       "R                          0.9\n",
       "Test_ACC                   0.9\n",
       "Train_ACC                 0.89\n",
       "True negatives              20\n",
       "True positives            5154\n",
       "dtype: object"
      ]
     },
     "execution_count": 303,
     "metadata": {},
     "output_type": "execute_result"
    }
   ],
   "source": [
    "logreg_params = {'C': [0.001, 0.01, 0.1, 1, 10, 100] }\n",
    "\n",
    "logreg = fit_algorithm(LogisticRegression(),clust4.loc[:, clust4.columns != 'CASE_STATUS'],clust4.CASE_STATUS,logreg_params)\n",
    "logreg"
   ]
  },
  {
   "cell_type": "code",
   "execution_count": 304,
   "metadata": {},
   "outputs": [
    {
     "name": "stdout",
     "output_type": "stream",
     "text": [
      "[[  20  555]\n",
      " [  18 5154]]\n",
      "0.632817007969\n",
      "[{'C': 100}]\n"
     ]
    },
    {
     "data": {
      "text/plain": [
       "Best_params        [{'C': 100}]\n",
       "F1                         0.95\n",
       "False negatives              18\n",
       "False positives             555\n",
       "P                           1.0\n",
       "R                           0.9\n",
       "Test_ACC                    0.9\n",
       "Train_ACC                  0.89\n",
       "True negatives               20\n",
       "True positives             5154\n",
       "dtype: object"
      ]
     },
     "execution_count": 304,
     "metadata": {},
     "output_type": "execute_result"
    }
   ],
   "source": [
    "logreg_params = {'C': [0.001, 0.01, 0.1, 1, 10, 100] }\n",
    "\n",
    "logreg = fit_algorithm(LogisticRegression(),clust5.loc[:, clust5.columns != 'CASE_STATUS'],clust5.CASE_STATUS,logreg_params)\n",
    "logreg"
   ]
  },
  {
   "cell_type": "code",
   "execution_count": 309,
   "metadata": {},
   "outputs": [
    {
     "name": "stdout",
     "output_type": "stream",
     "text": [
      "[[  62  951]\n",
      " [  60 6092]]\n",
      "0.703866959693\n",
      "[{'C': 0.1}]\n"
     ]
    },
    {
     "data": {
      "text/plain": [
       "Best_params        [{'C': 0.1}]\n",
       "F1                         0.92\n",
       "False negatives              60\n",
       "False positives             951\n",
       "P                          0.99\n",
       "R                          0.86\n",
       "Test_ACC                   0.86\n",
       "Train_ACC                  0.86\n",
       "True negatives               62\n",
       "True positives             6092\n",
       "dtype: object"
      ]
     },
     "execution_count": 309,
     "metadata": {},
     "output_type": "execute_result"
    }
   ],
   "source": [
    "#trying logit with cluster label as a feature\n",
    "logreg_params = {'C': [0.001, 0.01, 0.1, 1, 10, 100] }\n",
    "\n",
    "logreg = fit_algorithm(LogisticRegression(),clust_t4.loc[:, clust_t4.columns != 'CASE_STATUS'],clust_t4.CASE_STATUS,logreg_params)\n",
    "logreg"
   ]
  },
  {
   "cell_type": "code",
   "execution_count": 305,
   "metadata": {
    "collapsed": true
   },
   "outputs": [],
   "source": [
    "forest_params = {'n_estimators': [10,20,30,40,50],\n",
    "     'max_depth': [15,20,25,30],\n",
    "     'max_features': [2,3,4,5,6,7,8,9,10],\n",
    "     'random_state': [123],\n",
    "     'n_jobs': [-1]\n",
    "    }"
   ]
  },
  {
   "cell_type": "code",
   "execution_count": 306,
   "metadata": {},
   "outputs": [
    {
     "name": "stdout",
     "output_type": "stream",
     "text": [
      "[[127  84]\n",
      " [ 91 206]]\n",
      "0.720530741858\n",
      "[{'max_depth': 15, 'max_features': 4, 'n_estimators': 20, 'n_jobs': -1, 'random_state': 123}]\n"
     ]
    },
    {
     "data": {
      "text/plain": [
       "Best_params        [{'max_depth': 15, 'max_features': 4, 'n_estim...\n",
       "F1                                                               0.7\n",
       "False negatives                                                   91\n",
       "False positives                                                   84\n",
       "P                                                               0.69\n",
       "R                                                               0.71\n",
       "Test_ACC                                                        0.66\n",
       "Train_ACC                                                       0.65\n",
       "True negatives                                                   127\n",
       "True positives                                                   206\n",
       "dtype: object"
      ]
     },
     "execution_count": 306,
     "metadata": {},
     "output_type": "execute_result"
    }
   ],
   "source": [
    "forest = fit_algorithm(RandomForestClassifier(),clust3.loc[:, clust3.columns != 'CASE_STATUS'],clust3.CASE_STATUS, forest_params)\n",
    "forest"
   ]
  },
  {
   "cell_type": "code",
   "execution_count": 307,
   "metadata": {},
   "outputs": [
    {
     "name": "stdout",
     "output_type": "stream",
     "text": [
      "[[  60  515]\n",
      " [  30 5142]]\n",
      "0.702613235146\n",
      "[{'max_depth': 15, 'max_features': 2, 'n_estimators': 50, 'n_jobs': -1, 'random_state': 123}]\n"
     ]
    },
    {
     "data": {
      "text/plain": [
       "Best_params        [{'max_depth': 15, 'max_features': 2, 'n_estim...\n",
       "F1                                                              0.95\n",
       "False negatives                                                   30\n",
       "False positives                                                  515\n",
       "P                                                               0.99\n",
       "R                                                               0.91\n",
       "Test_ACC                                                        0.91\n",
       "Train_ACC                                                        0.9\n",
       "True negatives                                                    60\n",
       "True positives                                                  5142\n",
       "dtype: object"
      ]
     },
     "execution_count": 307,
     "metadata": {},
     "output_type": "execute_result"
    }
   ],
   "source": [
    "forest = fit_algorithm(RandomForestClassifier(),clust4.loc[:, clust4.columns != 'CASE_STATUS'],clust4.CASE_STATUS, forest_params)\n",
    "forest"
   ]
  },
  {
   "cell_type": "code",
   "execution_count": 308,
   "metadata": {},
   "outputs": [
    {
     "name": "stdout",
     "output_type": "stream",
     "text": [
      "[[  60  515]\n",
      " [  30 5142]]\n",
      "0.702613235146\n",
      "[{'max_depth': 15, 'max_features': 2, 'n_estimators': 50, 'n_jobs': -1, 'random_state': 123}]\n"
     ]
    },
    {
     "data": {
      "text/plain": [
       "Best_params        [{'max_depth': 15, 'max_features': 2, 'n_estim...\n",
       "F1                                                              0.95\n",
       "False negatives                                                   30\n",
       "False positives                                                  515\n",
       "P                                                               0.99\n",
       "R                                                               0.91\n",
       "Test_ACC                                                        0.91\n",
       "Train_ACC                                                        0.9\n",
       "True negatives                                                    60\n",
       "True positives                                                  5142\n",
       "dtype: object"
      ]
     },
     "execution_count": 308,
     "metadata": {},
     "output_type": "execute_result"
    }
   ],
   "source": [
    "forest = fit_algorithm(RandomForestClassifier(),clust5.loc[:, clust5.columns != 'CASE_STATUS'],clust5.CASE_STATUS, forest_params)\n",
    "forest"
   ]
  },
  {
   "cell_type": "code",
   "execution_count": 310,
   "metadata": {},
   "outputs": [
    {
     "name": "stdout",
     "output_type": "stream",
     "text": [
      "[[ 240  773]\n",
      " [ 151 6001]]\n",
      "0.766751428439\n",
      "[{'max_depth': 15, 'max_features': 2, 'n_estimators': 50, 'n_jobs': -1, 'random_state': 123}]\n"
     ]
    },
    {
     "data": {
      "text/plain": [
       "Best_params        [{'max_depth': 15, 'max_features': 2, 'n_estim...\n",
       "F1                                                              0.93\n",
       "False negatives                                                  151\n",
       "False positives                                                  773\n",
       "P                                                               0.98\n",
       "R                                                               0.89\n",
       "Test_ACC                                                        0.87\n",
       "Train_ACC                                                       0.87\n",
       "True negatives                                                   240\n",
       "True positives                                                  6001\n",
       "dtype: object"
      ]
     },
     "execution_count": 310,
     "metadata": {},
     "output_type": "execute_result"
    }
   ],
   "source": [
    "#trying random forest with cluster label as a feature\n",
    "forest = fit_algorithm(RandomForestClassifier(),clust_t4.loc[:, clust_t4.columns != 'CASE_STATUS'],clust_t4.CASE_STATUS, forest_params)\n",
    "forest"
   ]
  }
 ],
 "metadata": {
  "kernelspec": {
   "display_name": "Python 3",
   "language": "python",
   "name": "python3"
  },
  "language_info": {
   "codemirror_mode": {
    "name": "ipython",
    "version": 3
   },
   "file_extension": ".py",
   "mimetype": "text/x-python",
   "name": "python",
   "nbconvert_exporter": "python",
   "pygments_lexer": "ipython3",
   "version": "3.6.3"
  }
 },
 "nbformat": 4,
 "nbformat_minor": 2
}
