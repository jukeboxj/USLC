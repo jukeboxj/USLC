{
 "cells": [
  {
   "cell_type": "code",
   "execution_count": 57,
   "metadata": {},
   "outputs": [],
   "source": [
    "# import required libraries\n",
    "# pandas:Data framework library for Python\n",
    "# sklearn: Library to perform machine learning tasks\n",
    "import pandas as pd\n",
    "import pandas\n",
    "import numpy as np\n",
    "import scipy\n",
    "import scipy.stats as st\n",
    "import sklearn \n",
    "import sklearn.datasets\n",
    "import sklearn.metrics as metrics \n",
    "from sklearn.linear_model import LogisticRegression\n",
    "from sklearn.cross_validation import StratifiedKFold\n",
    "from sklearn.svm import SVC\n",
    "from sklearn.naive_bayes import GaussianNB\n",
    "from sklearn.grid_search import GridSearchCV\n",
    "from sklearn.metrics import classification_report\n",
    "from sklearn.cross_validation import train_test_split\n",
    "from sklearn.preprocessing import label_binarize\n",
    "from sklearn.feature_selection import mutual_info_classif\n",
    "from scipy import stats\n",
    "from datetime import datetime"
   ]
  },
  {
   "cell_type": "code",
   "execution_count": 5,
   "metadata": {
    "collapsed": true
   },
   "outputs": [],
   "source": [
    "Data_2017 = pd.read_excel(\"PERM_Disclosure_Data_FY17.xlsx\")\n",
    "Data_2015 = pd.read_excel(\"PERM_Disclosure_Data_FY15_Q4.xlsx\")\n",
    "Data_2016 = pd.read_excel(\"PERM_Data_FY16.xlsx\")"
   ]
  },
  {
   "cell_type": "code",
   "execution_count": 6,
   "metadata": {
    "collapsed": true
   },
   "outputs": [],
   "source": [
    "Data_2015.at[8809, 'RI_LOCAL_ETHNIC_PAPER_FROM'] = datetime.strptime('10/22/2014', '%m/%d/%Y')\n",
    "Data_2015.at[29257, 'RI_LOCAL_ETHNIC_PAPER_FROM'] = datetime.strptime('10/06/2014', '%m/%d/%Y')\n",
    "Data_2015.at[86322, 'RI_LOCAL_ETHNIC_PAPER_FROM'] = datetime.strptime('03/09/2015', '%m/%d/%Y')\n",
    "Data_2015['RI_LOCAL_ETHNIC_PAPER_FROM'] = pandas.to_datetime(Data_2015['RI_LOCAL_ETHNIC_PAPER_FROM'])\n",
    "Data_2015['RECR_INFO_SWA_JOB_ORDER_START'] = pandas.to_datetime(Data_2015['RECR_INFO_SWA_JOB_ORDER_START'])\n",
    "Data_2015.at[6306, 'RECR_INFO_SWA_JOB_ORDER_END'] = datetime.strptime('05/26/2014', '%m/%d/%Y')\n",
    "Data_2015.at[8602, 'RECR_INFO_SWA_JOB_ORDER_END'] = datetime.strptime('11/08/2014', '%m/%d/%Y')\n",
    "Data_2015.at[12210, 'RECR_INFO_SWA_JOB_ORDER_END'] = datetime.strptime('05/25/2014', '%m/%d/%Y')\n",
    "Data_2015.at[35208, 'RECR_INFO_SWA_JOB_ORDER_END'] = datetime.strptime('08/30/2013', '%m/%d/%Y')\n",
    "Data_2015.at[41211, 'RECR_INFO_SWA_JOB_ORDER_END'] = datetime.strptime('03/25/2014', '%m/%d/%Y')\n",
    "Data_2015.at[79773, 'RECR_INFO_SWA_JOB_ORDER_END'] = datetime.strptime('05/19/2014', '%m/%d/%Y')\n",
    "Data_2015.at[80176, 'RECR_INFO_SWA_JOB_ORDER_END'] = datetime.strptime('06/14/2015', '%m/%d/%Y')\n",
    "Data_2015.at[80177, 'RECR_INFO_SWA_JOB_ORDER_END'] = datetime.strptime('06/14/2015', '%m/%d/%Y')\n",
    "Data_2015.at[83651, 'RECR_INFO_SWA_JOB_ORDER_END'] = datetime.strptime('05/26/2013', '%m/%d/%Y')\n",
    "Data_2015['RECR_INFO_SWA_JOB_ORDER_END'] = pandas.to_datetime(Data_2015['RECR_INFO_SWA_JOB_ORDER_END'])\n",
    "Data_2015.at[76114, 'RI_EMPLOYER_WEB_POST_FROM'] = datetime.strptime('04/22/2014', '%m/%d/%Y')\n",
    "Data_2015.at[89154, 'RI_EMPLOYER_WEB_POST_FROM'] = datetime.strptime('05/01/2015', '%m/%d/%Y')\n",
    "Data_2015['RI_EMPLOYER_WEB_POST_FROM'] = pandas.to_datetime(Data_2015['RI_EMPLOYER_WEB_POST_FROM'])\n",
    "Data_2015.at[29489, 'RECR_INFO_PRO_ORG_ADVERT_FROM'] = datetime.strptime('01/01/2013', '%m/%d/%Y')\n",
    "Data_2015['RECR_INFO_PRO_ORG_ADVERT_FROM'] = pandas.to_datetime(Data_2015['RECR_INFO_PRO_ORG_ADVERT_FROM'])\n",
    "Data_2015.at[26192, 'RI_JOB_SEARCH_WEBSITE_FROM'] = datetime.strptime('01/13/2014', '%m/%d/%Y')\n",
    "Data_2015.at[70342, 'RI_JOB_SEARCH_WEBSITE_FROM'] = datetime.strptime('05/02/2014', '%m/%d/%Y')\n",
    "Data_2015.at[83733, 'RI_JOB_SEARCH_WEBSITE_FROM'] = datetime.strptime('11/15/2011', '%m/%d/%Y')\n",
    "Data_2015['RI_JOB_SEARCH_WEBSITE_FROM'] = pandas.to_datetime(Data_2015['RI_JOB_SEARCH_WEBSITE_FROM'])\n",
    "Data_2015.at[24138, 'RI_EMPLOYEE_REFERRAL_PROG_FROM'] = datetime.strptime('12/23/2014', '%m/%d/%Y')\n",
    "Data_2015.at[38262, 'RI_EMPLOYEE_REFERRAL_PROG_FROM'] = datetime.strptime('06/04/2014', '%m/%d/%Y')\n",
    "Data_2015.at[47808, 'RI_EMPLOYEE_REFERRAL_PROG_FROM'] = datetime.strptime('06/25/2014', '%m/%d/%Y')\n",
    "Data_2015['RI_EMPLOYEE_REFERRAL_PROG_FROM'] = pandas.to_datetime(Data_2015['RI_EMPLOYEE_REFERRAL_PROG_FROM'])\n",
    "Data_2015.at[14771, 'RI_CAMPUS_PLACEMENT_FROM'] = datetime.strptime('04/01/2013', '%m/%d/%Y')\n",
    "Data_2015.at[49525, 'RI_CAMPUS_PLACEMENT_FROM'] = datetime.strptime('05/02/2013', '%m/%d/%Y')\n",
    "Data_2015.at[73061, 'RI_CAMPUS_PLACEMENT_FROM'] = datetime.strptime('09/23/2014', '%m/%d/%Y')\n",
    "Data_2015['RI_CAMPUS_PLACEMENT_FROM'] = pandas.to_datetime(Data_2015['RI_CAMPUS_PLACEMENT_FROM'])\n",
    "Data_2017.at[31198, 'RECR_INFO_SWA_JOB_ORDER_START'] = datetime.strptime('03/30/2016', '%m/%d/%Y')\n",
    "Data_2017.at[77798, 'RECR_INFO_SWA_JOB_ORDER_START'] = datetime.strptime('04/26/2017', '%m/%d/%Y')\n",
    "Data_2017.at[92988, 'RECR_INFO_SWA_JOB_ORDER_START'] = datetime.strptime('03/30/2017', '%m/%d/%Y')\n",
    "\n",
    "Data_2017['RECR_INFO_SWA_JOB_ORDER_START'] = pandas.to_datetime(Data_2017['RECR_INFO_SWA_JOB_ORDER_START'])\n",
    "#Data_2017.at[31198, 'RECR_INFO_SWA_JOB_ORDER_START'] = datetime.strptime('03/30/2016', '%m/%d/%Y')\n",
    "#Data_2017.at[77798, 'RECR_INFO_SWA_JOB_ORDER_START'] = datetime.strptime('04/26/2017', '%m/%d/%Y')\n",
    "Data_2017.at[704, 'RECR_INFO_SWA_JOB_ORDER_END'] = datetime.strptime('03/17/2016', '%m/%d/%Y')\n",
    "Data_2017.at[2932, 'RECR_INFO_SWA_JOB_ORDER_END'] = datetime.strptime('04/13/2016', '%m/%d/%Y')\n",
    "Data_2017.at[18749, 'RECR_INFO_SWA_JOB_ORDER_END'] = datetime.strptime('05/13/2016', '%m/%d/%Y')\n",
    "Data_2017.at[73589, 'RECR_INFO_SWA_JOB_ORDER_END'] = datetime.strptime('03/05/2017', '%m/%d/%Y')\n",
    "Data_2017.at[82743, 'RECR_INFO_SWA_JOB_ORDER_END'] = datetime.strptime('03/06/2017', '%m/%d/%Y')\n",
    "Data_2017.at[92390, 'RECR_INFO_SWA_JOB_ORDER_END'] = datetime.strptime('03/27/2017', '%m/%d/%Y')\n",
    "Data_2017.at[93721, 'RECR_INFO_SWA_JOB_ORDER_END'] = datetime.strptime('03/27/2017', '%m/%d/%Y')\n",
    "Data_2017.at[96292, 'RECR_INFO_SWA_JOB_ORDER_END'] = datetime.strptime('03/05/2017', '%m/%d/%Y')\n",
    "Data_2017['RECR_INFO_SWA_JOB_ORDER_END'] = pandas.to_datetime(Data_2017['RECR_INFO_SWA_JOB_ORDER_END'])\n",
    "Data_2016.at[96389, 'RECR_INFO_SWA_JOB_ORDER_START'] = datetime.strptime('03/30/2016', '%m/%d/%Y')\n",
    "Data_2016['RECR_INFO_SWA_JOB_ORDER_START'] = pandas.to_datetime(Data_2016['RECR_INFO_SWA_JOB_ORDER_START'])\n",
    "Data_2016.at[29552, 'RECR_INFO_SWA_JOB_ORDER_END'] = datetime.strptime('06/04/2015', '%m/%d/%Y')\n",
    "Data_2016.at[33362, 'RECR_INFO_SWA_JOB_ORDER_END'] = datetime.strptime('03/06/2015', '%m/%d/%Y')\n",
    "Data_2016.at[49878, 'RECR_INFO_SWA_JOB_ORDER_END'] = datetime.strptime('03/02/2015', '%m/%d/%Y')\n",
    "Data_2016.at[60593, 'RECR_INFO_SWA_JOB_ORDER_END'] = datetime.strptime('08/03/2015', '%m/%d/%Y')\n",
    "Data_2016.at[91218, 'RECR_INFO_SWA_JOB_ORDER_END'] = datetime.strptime('11/30/2015', '%m/%d/%Y')\n",
    "Data_2016.at[113096, 'RECR_INFO_SWA_JOB_ORDER_END'] = datetime.strptime('03/15/2016', '%m/%d/%Y')\n",
    "Data_2016.at[114287, 'RECR_INFO_SWA_JOB_ORDER_END'] = datetime.strptime('03/30/2016', '%m/%d/%Y')\n",
    "Data_2016.at[120997, 'RECR_INFO_SWA_JOB_ORDER_END'] = datetime.strptime('03/30/2016', '%m/%d/%Y')\n",
    "Data_2016['RECR_INFO_SWA_JOB_ORDER_END'] = pandas.to_datetime(Data_2016['RECR_INFO_SWA_JOB_ORDER_END'])"
   ]
  },
  {
   "cell_type": "code",
   "execution_count": 7,
   "metadata": {
    "collapsed": true
   },
   "outputs": [],
   "source": [
    "frames = [Data_2015, Data_2016, Data_2017]\n",
    "\n",
    "data = pd.concat(frames)\n",
    "data = data.drop_duplicates()\n",
    "data_raw = data.copy()"
   ]
  },
  {
   "cell_type": "markdown",
   "metadata": {},
   "source": [
    "## Transforming the columns"
   ]
  },
  {
   "cell_type": "code",
   "execution_count": 8,
   "metadata": {
    "collapsed": true
   },
   "outputs": [],
   "source": [
    "#For wages that have a to and from, Im just gonna take the average\n",
    "data_wage = data[['WAGE_OFFER_UNIT_OF_PAY_9089','WAGE_OFFER_FROM_9089','WAGE_OFFER_TO_9089','CASE_STATUS']]\n",
    "#cleaning up the wages of the offer\n",
    "#pd.to_numeric(data_wage['WAGE_OFFER_FROM_9089'])\n",
    "data['WAGE_OFFER_FROM_9089'] = data['WAGE_OFFER_FROM_9089'].apply(lambda word: str(word).replace(\"#\", \"\"))\n",
    "data['WAGE_OFFER_FROM_9089'] = data['WAGE_OFFER_FROM_9089'].apply(lambda word: str(word).replace(\",\", \"\"))\n",
    "data['WAGE_OFFER_FROM_9089'] = data['WAGE_OFFER_FROM_9089'].replace({\"nan\": np.NaN})\n",
    "data['WAGE_OFFER_FROM_9089'] = pd.to_numeric(data['WAGE_OFFER_FROM_9089'])\n",
    "data['WAGE_OFFER_TO_9089'] = data['WAGE_OFFER_TO_9089'].apply(lambda word: str(word).replace(\"#\", \"\"))\n",
    "data['WAGE_OFFER_TO_9089'] = data['WAGE_OFFER_TO_9089'].apply(lambda word: str(word).replace(\",\", \"\"))\n",
    "data['WAGE_OFFER_TO_9089'] = data['WAGE_OFFER_TO_9089'].replace({\"nan\": np.NaN})\n",
    "data['WAGE_OFFER_TO_9089'] = pd.to_numeric(data['WAGE_OFFER_TO_9089'])"
   ]
  },
  {
   "cell_type": "code",
   "execution_count": 9,
   "metadata": {
    "collapsed": true
   },
   "outputs": [],
   "source": [
    "#Getting average wage for to - from\n",
    "data['Avg_Wage'] = np.where(pd.isnull(data['WAGE_OFFER_TO_9089']) == True,data['WAGE_OFFER_FROM_9089'], ((data['WAGE_OFFER_TO_9089']+ data['WAGE_OFFER_FROM_9089']) / 2)) \n",
    "data.WAGE_OFFER_UNIT_OF_PAY_9089.fillna('None', inplace=True)\n",
    "data['WAGE_OFFER_UNIT_OF_PAY_9089'] = data['WAGE_OFFER_UNIT_OF_PAY_9089'].astype('str') "
   ]
  },
  {
   "cell_type": "code",
   "execution_count": 10,
   "metadata": {
    "collapsed": true
   },
   "outputs": [],
   "source": [
    "#Transforming units to yearly equivalents\n",
    "data['unit'] = data['WAGE_OFFER_UNIT_OF_PAY_9089']\n",
    "data['unit'] = data['unit'].replace({\"Hour\": 2080, \"Week\":52,\"Month\":12,\"Bi-Weekly\":26,\"Year\":1,\"None\":np.NaN})\n",
    "data['unit'] = pd.to_numeric(data['unit'])\n",
    "#calculating yearly wage\n",
    "data['Year_wage_offer'] = data['Avg_Wage'] * data['unit']"
   ]
  },
  {
   "cell_type": "code",
   "execution_count": 11,
   "metadata": {
    "collapsed": true
   },
   "outputs": [],
   "source": [
    "#Changing over prevailing wage amounts\n",
    "data['PW_AMOUNT_9089'] = data['PW_AMOUNT_9089'].apply(lambda word: str(word).replace(\"#\", \"\"))\n",
    "data['PW_AMOUNT_9089'] = data['PW_AMOUNT_9089'].apply(lambda word: str(word).replace(\",\", \"\"))\n",
    "data['PW_AMOUNT_9089'] = data['PW_AMOUNT_9089'].replace({\"nan\": np.NaN})\n",
    "data['PW_AMOUNT_9089'] = pd.to_numeric(data['PW_AMOUNT_9089'])\n",
    "data['unit_pw'] = data['PW_UNIT_OF_PAY_9089']\n",
    "data['unit_pw'] = data['unit_pw'].replace({\"Hour\": 2080, \"Week\":52,\"Month\":12,\"Bi-Weekly\":26,\"Year\":1,\"None\":np.NaN})\n",
    "data['unit_pw'] = pd.to_numeric(data['unit_pw'])\n",
    "data['Year_wage_pw'] = data['PW_AMOUNT_9089'] * data['unit_pw']"
   ]
  },
  {
   "cell_type": "code",
   "execution_count": 12,
   "metadata": {
    "collapsed": true
   },
   "outputs": [],
   "source": [
    "#Filling up the nulls with the medians from the industry / level for both prevailing wage and offer\n",
    "data['Ind_code'] = data['PW_SOC_CODE'].apply(lambda num: str(num)[:2])\n",
    "data['Wage_level'] =  data['PW_LEVEL_9089'].replace({\"Level I\": 1, \"Level II\": 2, \"Level III\":3,\"Level IV\":4}) \n",
    "data['Wage_level'] = data['Wage_level'].fillna(\"None\")\n",
    "norm_wage = pd.DataFrame(data.groupby(['Ind_code','Wage_level'])['Year_wage_pw'].median())\n",
    "norm_wage.columns= [\"Median_pw\"]\n",
    "data['Year_wage_pw'] = data['Year_wage_pw'].fillna(data.merge(norm_wage, how = \"left\", left_on = ['Ind_code','Wage_level'], right_index = True)['Median_pw'])\n",
    "norm_wage_off = pd.DataFrame(data.groupby(['Ind_code','Wage_level'])['Year_wage_offer'].median())\n",
    "norm_wage_off.columns= [\"Median_offer\"]\n",
    "data['Year_wage_offer'] = data['Year_wage_offer'].fillna(data.merge(norm_wage_off, how = \"left\", left_on = ['Ind_code','Wage_level'], right_index = True)['Median_offer'])"
   ]
  },
  {
   "cell_type": "code",
   "execution_count": 13,
   "metadata": {
    "collapsed": true
   },
   "outputs": [],
   "source": [
    "#visa information transformation\n",
    "#making the VISA column into booleans, if have H1B, if have other, if have none\n",
    "data['CLASS_OF_ADMISSION'] = np.where(data['CLASS_OF_ADMISSION'].isnull(), \"None\", data['CLASS_OF_ADMISSION'])\n",
    "data['H1B_VISA'] = np.where(data['CLASS_OF_ADMISSION'] == \"H-1B\", 1, 0)\n",
    "tmp = np.isin(data['CLASS_OF_ADMISSION'], ['H-1B','None','Not in USA','Parolee'])\n",
    "data['Other_Visa'] = np.where(tmp , 0, 1)\n",
    "tmp = np.isin(data['CLASS_OF_ADMISSION'], ['None','Not in USA','Parolee'])\n",
    "data['No_US_Visa'] = np.where(tmp , 1, 0)\n",
    "#visa_info['No_US_Visa'] = np.where(visa_info['CLASS_OF_ADMISSION']  in ['H-1B','NaN','Not in USA','Parolee'] , 1, 0)"
   ]
  },
  {
   "cell_type": "code",
   "execution_count": 14,
   "metadata": {
    "collapsed": true
   },
   "outputs": [],
   "source": [
    "#education level transformation\n",
    "data['Same_education'] = np.where(data['JOB_INFO_EDUCATION'] == data ['FOREIGN_WORKER_INFO_EDUCATION'], 1 , 0 )\n",
    "mapping = {\"Master's\" : 4, \"Bachelor's\": 3, \"None\":0, \"Doctorate\":5 , \"Other\": np.NaN, \"High School\":1, \"Associate's\":2, \"NaN\":np.NaN}\n",
    "\n",
    "data = data.replace({'FOREIGN_WORKER_INFO_EDUCATION': mapping, 'JOB_INFO_EDUCATION': mapping})\n",
    "data['Higher education'] = np.where(data['FOREIGN_WORKER_INFO_EDUCATION'] > data['JOB_INFO_EDUCATION'], 1,0)\n",
    "data['Lower education'] = np.where(data['FOREIGN_WORKER_INFO_EDUCATION'] < data['JOB_INFO_EDUCATION'], 1,0)\n"
   ]
  },
  {
   "cell_type": "code",
   "execution_count": 15,
   "metadata": {
    "collapsed": true
   },
   "outputs": [],
   "source": [
    "def is_outlier(points, thresh=3.5):\n",
    "    \"\"\"\n",
    "    Returns a boolean array with True if points are outliers and False \n",
    "    otherwise.\n",
    "\n",
    "    Parameters:\n",
    "    -----------\n",
    "        points : An numobservations by numdimensions array of observations\n",
    "        thresh : The modified z-score to use as a threshold. Observations with\n",
    "            a modified z-score (based on the median absolute deviation) greater\n",
    "            than this value will be classified as outliers.\n",
    "\n",
    "    Returns:\n",
    "    --------\n",
    "        mask : A numobservations-length boolean array.\n",
    "\n",
    "    References:\n",
    "    ----------\n",
    "        Boris Iglewicz and David Hoaglin (1993), \"Volume 16: How to Detect and\n",
    "        Handle Outliers\", The ASQC Basic References in Quality Control:\n",
    "        Statistical Techniques, Edward F. Mykytka, Ph.D., Editor. \n",
    "    \"\"\"\n",
    "    if len(points.shape) == 1:\n",
    "        points = points[:,None]\n",
    "    median = np.median(points, axis=0)\n",
    "    diff = np.sum((points - median)**2, axis=-1)\n",
    "    diff = np.sqrt(diff)\n",
    "    med_abs_deviation = np.median(diff)\n",
    "\n",
    "    modified_z_score = 0.6745 * diff / med_abs_deviation\n",
    "\n",
    "    return modified_z_score > thresh"
   ]
  },
  {
   "cell_type": "code",
   "execution_count": 16,
   "metadata": {},
   "outputs": [
    {
     "name": "stderr",
     "output_type": "stream",
     "text": [
      "/anaconda3/envs/py36/lib/python3.6/site-packages/pandas/core/indexing.py:179: SettingWithCopyWarning: \n",
      "A value is trying to be set on a copy of a slice from a DataFrame\n",
      "\n",
      "See the caveats in the documentation: http://pandas.pydata.org/pandas-docs/stable/indexing.html#indexing-view-versus-copy\n",
      "  self._setitem_with_indexer(indexer, value)\n"
     ]
    }
   ],
   "source": [
    "#Getting rid of the outliers for the wages\n",
    "data['PW_outlier'] = is_outlier(data['Year_wage_pw'])\n",
    "data['Offer_outlier'] = is_outlier(data['Year_wage_offer'])\n",
    "\n",
    "data.Year_wage_pw.loc[data['PW_outlier'] == True] = (data.loc[data['PW_outlier'] == True].merge(norm_wage, how = \"left\", left_on = ['Ind_code','Wage_level'], right_index = True))['Median_pw']\n",
    "data.Year_wage_offer.loc[data['Offer_outlier'] == True] = (data.loc[data['Offer_outlier'] == True].merge(norm_wage_off, how = \"left\", left_on = ['Ind_code','Wage_level'], right_index = True))['Median_offer']"
   ]
  },
  {
   "cell_type": "code",
   "execution_count": 17,
   "metadata": {
    "collapsed": true
   },
   "outputs": [],
   "source": [
    "#recruitment dates transformation\n",
    "data['swa'] = (data['RECR_INFO_SWA_JOB_ORDER_END'] - data['RECR_INFO_SWA_JOB_ORDER_START']).dt.days\n",
    "data['job_fair'] = (data['RECR_INFO_JOB_FAIR_TO'] - data['RECR_INFO_JOB_FAIR_FROM']).dt.days\n",
    "data['campus_fair'] = (data['RECR_INFO_ON_CAMPUS_RECR_TO'] - data['RECR_INFO_ON_CAMPUS_RECR_FROM']).dt.days\n",
    "data['web_post'] = (data['RI_EMPLOYER_WEB_POST_TO'] - data['RI_EMPLOYER_WEB_POST_FROM']).dt.days\n",
    "data['org_ad'] = (data['RECR_INFO_PRO_ORG_ADVERT_TO'] - data['RECR_INFO_PRO_ORG_ADVERT_FROM']).dt.days\n",
    "data['searc_web'] =  (data['RI_JOB_SEARCH_WEBSITE_TO'] - data['RI_JOB_SEARCH_WEBSITE_FROM']).dt.days\n",
    "data['emp_frm'] =  (data['RI_PVT_EMPLOYMENT_FIRM_TO'] - data['RI_PVT_EMPLOYMENT_FIRM_FROM']).dt.days\n",
    "data['ref_prof'] = (data['RI_EMPLOYEE_REFERRAL_PROG_TO'] - data['RI_EMPLOYEE_REFERRAL_PROG_FROM']).dt.days\n",
    "data['campus_pl'] = (data['RI_CAMPUS_PLACEMENT_TO'] - data['RI_CAMPUS_PLACEMENT_FROM']).dt.days\n",
    "data['eth_pp'] = (data['RI_LOCAL_ETHNIC_PAPER_TO'] - data['RI_LOCAL_ETHNIC_PAPER_FROM']).dt.days\n",
    "data['tv_ad'] = (data['RECR_INFO_RADIO_TV_AD_TO'] - data['RECR_INFO_RADIO_TV_AD_FROM']).dt.days\n",
    "data['RECR_INFO_FIRST_AD_START'] = np.where(np.isnat(data['RECR_INFO_FIRST_AD_START']),0,1)\n",
    "data['RECR_INFO_SECOND_AD_START'] = np.where(np.isnat(data['RECR_INFO_SECOND_AD_START']),0,1)\n",
    "data[['job_fair','campus_fair','web_post','org_ad','searc_web','emp_frm','ref_prof','campus_pl','eth_pp','tv_ad']] = data[['job_fair','campus_fair','web_post','org_ad','searc_web','emp_frm','ref_prof','campus_pl','eth_pp','tv_ad']].replace({0.0:1.0})\n",
    "data['Total_rec'] = data[['swa','RECR_INFO_SECOND_AD_START','RECR_INFO_FIRST_AD_START','job_fair','campus_fair','web_post','org_ad','searc_web','emp_frm','ref_prof','campus_pl','eth_pp','tv_ad']].sum(axis=1)"
   ]
  },
  {
   "cell_type": "code",
   "execution_count": 18,
   "metadata": {
    "collapsed": true
   },
   "outputs": [],
   "source": [
    "#transforming the leftover columns\n",
    "data['JOB_INFO_JOB_REQ_NORMAL'] = np.where((data['JOB_INFO_JOB_REQ_NORMAL']) == \"Y\", 1,0)\n",
    "data['DEC_YEAR'] = pd.DatetimeIndex(data['DECISION_DATE']).year\n",
    "data['LAWYER'] = np.where(pd.isnull(data['AGENT_FIRM_NAME']), 0, 1)\n",
    "data['CASE_STATUS'] = pd.DataFrame(np.where(data['CASE_STATUS'] == 'Certified-Expired' , 'Certified', data['CASE_STATUS']))\n",
    "data['JOB_INFO_FOREIGN_LANG_REQ'] = np.where(data['JOB_INFO_FOREIGN_LANG_REQ'] == \"Y\", 1,0)\n",
    "data['JOB_INFO_COMBO_OCCUPATION'] = np.where((data['JOB_INFO_COMBO_OCCUPATION']) == \"Y\", 1,0)"
   ]
  },
  {
   "cell_type": "code",
   "execution_count": 19,
   "metadata": {
    "collapsed": true
   },
   "outputs": [],
   "source": [
    "#GEtting final data\n",
    "data_fin = data[['CASE_STATUS','JOB_INFO_JOB_REQ_NORMAL','DEC_YEAR','LAWYER','JOB_INFO_FOREIGN_LANG_REQ','JOB_INFO_COMBO_OCCUPATION','Wage_level','Year_wage_offer','Year_wage_pw','Ind_code','Higher education','Lower education','Total_rec','EMPLOYER_YR_ESTAB','H1B_VISA','Other_Visa','No_US_Visa','Same_education']]"
   ]
  },
  {
   "cell_type": "code",
   "execution_count": 20,
   "metadata": {
    "collapsed": true
   },
   "outputs": [],
   "source": [
    "#Remove rows with withdrawn status\n",
    "data_fin = data_fin[data_fin.CASE_STATUS != \"Withdrawn\"]"
   ]
  },
  {
   "cell_type": "code",
   "execution_count": 21,
   "metadata": {
    "collapsed": true
   },
   "outputs": [],
   "source": [
    "#binarize case status\n",
    "data_fin['CASE_STATUS'] = np.where(data_fin['CASE_STATUS'] == \"Certified\",1,0)"
   ]
  },
  {
   "cell_type": "code",
   "execution_count": 24,
   "metadata": {
    "collapsed": true
   },
   "outputs": [],
   "source": [
    "data_fin = data_fin.reset_index()\n",
    "del data_fin['index']"
   ]
  },
  {
   "cell_type": "code",
   "execution_count": 23,
   "metadata": {
    "collapsed": true
   },
   "outputs": [],
   "source": [
    "#taking out the last string values to make them all floats\n",
    "data_fin['Ind_code'] =  np.where(data_fin['Ind_code'] == 'na', -99, data_fin['Ind_code'])\n",
    "data_fin['Wage_level'] =  np.where(data_fin['Wage_level'] == 'None', 0.0, data_fin['Wage_level'])\n",
    "data_fin['Wage_level'] = pd.to_numeric(data_fin['Wage_level'])\n",
    "data_fin['Ind_code'] = pd.to_numeric(data_fin['Ind_code'])\n",
    "data_fin['EMPLOYER_YR_ESTAB'] = data_fin['EMPLOYER_YR_ESTAB'].fillna(0)"
   ]
  },
  {
   "cell_type": "markdown",
   "metadata": {},
   "source": [
    "## Final data: data_fin"
   ]
  },
  {
   "cell_type": "code",
   "execution_count": 26,
   "metadata": {},
   "outputs": [
    {
     "data": {
      "image/png": "[encoded data removed]",
      "text/plain": [
       "<matplotlib.figure.Figure at 0x1a23022908>"
      ]
     },
     "metadata": {},
     "output_type": "display_data"
    }
   ],
   "source": [
    "#Getting correlation between all of the variables\n",
    "import seaborn as sns\n",
    "import matplotlib.pyplot as plt\n",
    "fig, ax = plt.subplots(figsize=(10,10)) \n",
    "sns.heatmap(data_fin.corr(), annot = round(data_fin.corr(), ndigits=2))\n",
    "plt.show()"
   ]
  },
  {
   "cell_type": "code",
   "execution_count": 22,
   "metadata": {
    "collapsed": true
   },
   "outputs": [],
   "source": []
  },
  {
   "cell_type": "code",
   "execution_count": 38,
   "metadata": {
    "collapsed": true
   },
   "outputs": [],
   "source": [
    "#splitting features from target\n",
    "status = data_fin['CASE_STATUS'].as_matrix()\n",
    "data_ftr = data_fin.iloc[:,1:]"
   ]
  },
  {
   "cell_type": "code",
   "execution_count": 260,
   "metadata": {
    "collapsed": true
   },
   "outputs": [],
   "source": []
  },
  {
   "cell_type": "markdown",
   "metadata": {},
   "source": [
    "## Importing final excel"
   ]
  },
  {
   "cell_type": "code",
   "execution_count": 27,
   "metadata": {
    "collapsed": true
   },
   "outputs": [],
   "source": [
    "input = pd.read_excel(\"finalSheet.xlsx\")"
   ]
  },
  {
   "cell_type": "code",
   "execution_count": 151,
   "metadata": {},
   "outputs": [
    {
     "data": {
      "text/plain": [
       "Index(['CASE_STATUS', 'FOREIGN_WORKER_INFO_EDUCATION',\n",
       "       'JOB_INFO_JOB_REQ_NORMAL', 'CitizenRegion', 'postalValue', 'DEC_YEAR',\n",
       "       'LAWYER', 'JOB_INFO_FOREIGN_LANG_REQ', 'JOB_INFO_COMBO_OCCUPATION',\n",
       "       'Wage_level', 'Year_wage_offer', 'Year_wage_pw', 'Ind_code',\n",
       "       'Higher education', 'Lower education', 'Total_rec', 'EMPLOYER_YR_ESTAB',\n",
       "       'H1B_VISA', 'Other_Visa', 'No_US_Visa', 'Same_education'],\n",
       "      dtype='object')"
      ]
     },
     "execution_count": 151,
     "metadata": {},
     "output_type": "execute_result"
    }
   ],
   "source": [
    "input.columns"
   ]
  },
  {
   "cell_type": "code",
   "execution_count": 276,
   "metadata": {
    "collapsed": true
   },
   "outputs": [],
   "source": [
    "df = input.copy()"
   ]
  },
  {
   "cell_type": "code",
   "execution_count": 277,
   "metadata": {},
   "outputs": [],
   "source": [
    "norm_wage = pd.DataFrame(df.groupby(['Ind_code','Wage_level'])['Year_wage_pw'].median())\n",
    "norm_wage_off = pd.DataFrame(df.groupby(['Ind_code','Wage_level'])['Year_wage_offer'].median())\n",
    "norm_wage.columns= [\"Median_pw\"]\n",
    "norm_wage_off.columns= [\"Median_offer\"]\n",
    "\n",
    "#Getting rid of the outliers for the wages\n",
    "df['PW_outlier'] = is_outlier(df['Year_wage_pw'])\n",
    "df['Offer_outlier'] = is_outlier(df['Year_wage_offer'])\n",
    "\n",
    "df.Year_wage_pw.loc[df['PW_outlier'] == True] = (df.loc[df['PW_outlier'] == True].merge(norm_wage, how = \"left\", left_on = ['Ind_code','Wage_level'], right_index = True))['Median_pw']\n",
    "df.Year_wage_offer.loc[df['Offer_outlier'] == True] = (df.loc[df['Offer_outlier'] == True].merge(norm_wage_off, how = \"left\", left_on = ['Ind_code','Wage_level'], right_index = True))['Median_offer']"
   ]
  },
  {
   "cell_type": "code",
   "execution_count": 278,
   "metadata": {},
   "outputs": [],
   "source": [
    "df['EducationNA'] = np.where(df['FOREIGN_WORKER_INFO_EDUCATION']==0, 1, 0)\n",
    "df['Education1'] = np.where(df['FOREIGN_WORKER_INFO_EDUCATION']==1, 1, 0)\n",
    "df['Education2'] = np.where(df['FOREIGN_WORKER_INFO_EDUCATION']==2, 1, 0)\n",
    "df['Education3'] = np.where(df['FOREIGN_WORKER_INFO_EDUCATION']==3, 1, 0)\n",
    "df['Education4'] = np.where(df['FOREIGN_WORKER_INFO_EDUCATION']==4, 1, 0)\n",
    "df['Education5'] = np.where(df['FOREIGN_WORKER_INFO_EDUCATION']==5, 1, 0)\n",
    "df['Education6'] = np.where(df['FOREIGN_WORKER_INFO_EDUCATION']==6, 1, 0)\n",
    "df['CitizenRegion1'] = np.where(df['CitizenRegion']==1, 1, 0)\n",
    "df['CitizenRegion2'] = np.where(df['CitizenRegion']==2, 1, 0)\n",
    "df['CitizenRegion3'] = np.where(df['CitizenRegion']==3, 1, 0)\n",
    "df['CitizenRegion4'] = np.where(df['CitizenRegion']==4, 1, 0)\n",
    "df['CitizenRegion5'] = np.where(df['CitizenRegion']==5, 1, 0)\n",
    "df['CitizenRegion6'] = np.where(df['CitizenRegion']==6, 1, 0)\n",
    "df['CitizenRegion7'] = np.where(df['CitizenRegion']==7, 1, 0)\n",
    "df['CitizenRegion8'] = np.where(df['CitizenRegion']==8, 1, 0)\n",
    "df['CitizenRegion9'] = np.where(df['CitizenRegion']==9, 1, 0)\n",
    "df['CitizenRegion10'] = np.where(df['CitizenRegion']==10, 1, 0)\n",
    "df['CitizenRegion11'] = np.where(df['CitizenRegion']==11, 1, 0)\n",
    "df['CitizenRegion12'] = np.where(df['CitizenRegion']==12, 1, 0)\n",
    "df['CitizenRegion13'] = np.where(df['CitizenRegion']==13, 1, 0)\n",
    "df['CitizenRegion14'] = np.where(df['CitizenRegion']==14, 1, 0)\n",
    "df['CitizenRegion15'] = np.where(df['CitizenRegion']==15, 1, 0)\n",
    "df['CitizenRegion16'] = np.where(df['CitizenRegion']==16, 1, 0)\n",
    "df['CitizenRegion17'] = np.where(df['CitizenRegion']==17, 1, 0)\n",
    "df['CitizenRegion18'] = np.where(df['CitizenRegion']==18, 1, 0)\n",
    "df['CitizenRegion19'] = np.where(df['CitizenRegion']==19, 1, 0)\n",
    "df['CitizenRegion20'] = np.where(df['CitizenRegion']==20, 1, 0)\n",
    "df['CitizenRegion21'] = np.where(df['CitizenRegion']==21, 1, 0)\n",
    "df['CitizenRegion22'] = np.where(df['CitizenRegion']==22, 1, 0)\n",
    "df['CitizenRegion23'] = np.where(df['CitizenRegion']==23, 1, 0)\n",
    "df['postalValue0'] = np.where(df['postalValue']==0, 1, 0)\n",
    "df['postalValue1'] = np.where(df['postalValue']==1, 1, 0)\n",
    "df['postalValue2'] = np.where(df['postalValue']==2, 1, 0)\n",
    "df['postalValue3'] = np.where(df['postalValue']==3, 1, 0)\n",
    "df['postalValue4'] = np.where(df['postalValue']==4, 1, 0)\n",
    "df['postalValue5'] = np.where(df['postalValue']==5, 1, 0)\n",
    "df['postalValue6'] = np.where(df['postalValue']==6, 1, 0)\n",
    "df['postalValue7'] = np.where(df['postalValue']==7, 1, 0)\n",
    "df['postalValue8'] = np.where(df['postalValue']==8, 1, 0)\n",
    "df['postalValue9'] = np.where(df['postalValue']==9, 1, 0)\n",
    "df['Ind_Code11'] = np.where(df['Ind_code']==11, 1, 0)\n",
    "df['Ind_Code13'] = np.where(df['Ind_code']==13, 1, 0)\n",
    "df['Ind_Code15'] = np.where(df['Ind_code']==15, 1, 0)\n",
    "df['Ind_Code17'] = np.where(df['Ind_code']==17, 1, 0)\n",
    "df['Ind_Code19'] = np.where(df['Ind_code']==19, 1, 0)\n",
    "df['Ind_Code20'] = np.where(df['Ind_code']==20, 1, 0)\n",
    "df['Ind_Code21'] = np.where(df['Ind_code']==21, 1, 0)\n",
    "df['Ind_Code23'] = np.where(df['Ind_code']==23, 1, 0)\n",
    "df['Ind_Code25'] = np.where(df['Ind_code']==25, 1, 0)\n",
    "df['Ind_Code27'] = np.where(df['Ind_code']==27, 1, 0)\n",
    "df['Ind_Code29'] = np.where(df['Ind_code']==29, 1, 0)\n",
    "df['Ind_Code30'] = np.where(df['Ind_code']==30, 1, 0)\n",
    "df['Ind_Code31'] = np.where(df['Ind_code']==31, 1, 0)\n",
    "df['Ind_Code33'] = np.where(df['Ind_code']==33, 1, 0)\n",
    "df['Ind_Code35'] = np.where(df['Ind_code']==35, 1, 0)\n",
    "df['Ind_Code37'] = np.where(df['Ind_code']==37, 1, 0)\n",
    "df['Ind_Code39'] = np.where(df['Ind_code']==39, 1, 0)\n",
    "df['Ind_Code41'] = np.where(df['Ind_code']==41, 1, 0)\n",
    "df['Ind_Code43'] = np.where(df['Ind_code']==43, 1, 0)\n",
    "df['Ind_Code45'] = np.where(df['Ind_code']==45, 1, 0)\n",
    "df['Ind_Code47'] = np.where(df['Ind_code']==47, 1, 0)\n",
    "df['Ind_Code49'] = np.where(df['Ind_code']==49, 1, 0)\n",
    "df['Ind_Code51'] = np.where(df['Ind_code']==51, 1, 0)\n",
    "df['Ind_Code53'] = np.where(df['Ind_code']==53, 1, 0)\n",
    "df['Ind_Code90'] = np.where(df['Ind_code']==90, 1, 0)\n",
    "df['Ind_Code91'] = np.where(df['Ind_code']==91, 1, 0)\n",
    "df['upperWage'] = np.where(df['Year_wage_offer']>=150000, 1, 0)\n",
    "df['upperMiddleWage'] = np.where((df['Year_wage_offer']>=100000) & (df['Year_wage_offer']<=150000), 1, 0)\n",
    "df['middleWage'] = np.where((df['Year_wage_offer']>=30000) & (df['Year_wage_offer']<=99999), 1, 0)\n",
    "df['povertyWage'] = np.where(df['Year_wage_offer']<=30000, 1, 0)"
   ]
  },
  {
   "cell_type": "code",
   "execution_count": 218,
   "metadata": {},
   "outputs": [
    {
     "data": {
      "image/png": "[encoded data removed]",
      "text/plain": [
       "<matplotlib.figure.Figure at 0x1a335c0d68>"
      ]
     },
     "metadata": {},
     "output_type": "display_data"
    },
    {
     "data": {
      "image/png": "[encoded data removed]",
      "text/plain": [
       "<matplotlib.figure.Figure at 0x1a33c7f3c8>"
      ]
     },
     "metadata": {},
     "output_type": "display_data"
    }
   ],
   "source": [
    "import seaborn as sns\n",
    "import matplotlib.pyplot as plt\n",
    "fig, ax = plt.subplots(figsize=(10,10)) \n",
    "sns.heatmap(df.corr())#, annot = round(df.corr(), ndigits=2))\n",
    "plt.show()"
   ]
  },
  {
   "cell_type": "code",
   "execution_count": 279,
   "metadata": {
    "collapsed": true
   },
   "outputs": [],
   "source": [
    "df = df.drop([ 'Lower education','Other_Visa','PW_outlier','Offer_outlier','CitizenRegion','postalValue','FOREIGN_WORKER_INFO_EDUCATION','DEC_YEAR','Wage_level','Year_wage_offer','Year_wage_pw','Ind_code', 'Same_education'], axis=1)"
   ]
  },
  {
   "cell_type": "code",
   "execution_count": 280,
   "metadata": {
    "collapsed": true
   },
   "outputs": [],
   "source": [
    "df = df.drop(['EMPLOYER_YR_ESTAB'], axis=1)"
   ]
  },
  {
   "cell_type": "code",
   "execution_count": 281,
   "metadata": {
    "collapsed": true
   },
   "outputs": [],
   "source": [
    "df = df.drop(['Total_rec'], axis=1)"
   ]
  },
  {
   "cell_type": "code",
   "execution_count": 283,
   "metadata": {
    "collapsed": true
   },
   "outputs": [],
   "source": [
    "#splitting features from target\n",
    "status_bin = df['CASE_STATUS'].as_matrix()\n",
    "data_ftr_bin = df.iloc[:,1:]"
   ]
  },
  {
   "cell_type": "markdown",
   "metadata": {},
   "source": [
    "## Trying mutual information"
   ]
  },
  {
   "cell_type": "code",
   "execution_count": 284,
   "metadata": {
    "collapsed": true
   },
   "outputs": [
    {
     "ename": "KeyboardInterrupt",
     "evalue": "",
     "output_type": "error",
     "traceback": [
      "\u001b[0;31m---------------------------------------------------------------------------\u001b[0m",
      "\u001b[0;31mKeyboardInterrupt\u001b[0m                         Traceback (most recent call last)",
      "\u001b[0;32m<ipython-input-284-0636caa3e9e7>\u001b[0m in \u001b[0;36m<module>\u001b[0;34m()\u001b[0m\n\u001b[0;32m----> 1\u001b[0;31m \u001b[0mmutual_info_classif\u001b[0m\u001b[0;34m(\u001b[0m\u001b[0mdata_ftr_bin\u001b[0m\u001b[0;34m,\u001b[0m \u001b[0mstatus_bin\u001b[0m\u001b[0;34m)\u001b[0m\u001b[0;34m\u001b[0m\u001b[0m\n\u001b[0m",
      "\u001b[0;32m/anaconda3/envs/py36/lib/python3.6/site-packages/sklearn/feature_selection/mutual_info_.py\u001b[0m in \u001b[0;36mmutual_info_classif\u001b[0;34m(X, y, discrete_features, n_neighbors, copy, random_state)\u001b[0m\n\u001b[1;32m    448\u001b[0m     \u001b[0mcheck_classification_targets\u001b[0m\u001b[0;34m(\u001b[0m\u001b[0my\u001b[0m\u001b[0;34m)\u001b[0m\u001b[0;34m\u001b[0m\u001b[0m\n\u001b[1;32m    449\u001b[0m     return _estimate_mi(X, y, discrete_features, True, n_neighbors,\n\u001b[0;32m--> 450\u001b[0;31m                         copy, random_state)\n\u001b[0m",
      "\u001b[0;32m/anaconda3/envs/py36/lib/python3.6/site-packages/sklearn/feature_selection/mutual_info_.py\u001b[0m in \u001b[0;36m_estimate_mi\u001b[0;34m(X, y, discrete_features, discrete_target, n_neighbors, copy, random_state)\u001b[0m\n\u001b[1;32m    280\u001b[0m         \u001b[0mmeans\u001b[0m \u001b[0;34m=\u001b[0m \u001b[0mnp\u001b[0m\u001b[0;34m.\u001b[0m\u001b[0mmaximum\u001b[0m\u001b[0;34m(\u001b[0m\u001b[0;36m1\u001b[0m\u001b[0;34m,\u001b[0m \u001b[0mnp\u001b[0m\u001b[0;34m.\u001b[0m\u001b[0mmean\u001b[0m\u001b[0;34m(\u001b[0m\u001b[0mnp\u001b[0m\u001b[0;34m.\u001b[0m\u001b[0mabs\u001b[0m\u001b[0;34m(\u001b[0m\u001b[0mX\u001b[0m\u001b[0;34m[\u001b[0m\u001b[0;34m:\u001b[0m\u001b[0;34m,\u001b[0m \u001b[0mcontinuous_mask\u001b[0m\u001b[0;34m]\u001b[0m\u001b[0;34m)\u001b[0m\u001b[0;34m,\u001b[0m \u001b[0maxis\u001b[0m\u001b[0;34m=\u001b[0m\u001b[0;36m0\u001b[0m\u001b[0;34m)\u001b[0m\u001b[0;34m)\u001b[0m\u001b[0;34m\u001b[0m\u001b[0m\n\u001b[1;32m    281\u001b[0m         X[:, continuous_mask] += 1e-10 * means * rng.randn(\n\u001b[0;32m--> 282\u001b[0;31m                 n_samples, np.sum(continuous_mask))\n\u001b[0m\u001b[1;32m    283\u001b[0m \u001b[0;34m\u001b[0m\u001b[0m\n\u001b[1;32m    284\u001b[0m     \u001b[0;32mif\u001b[0m \u001b[0;32mnot\u001b[0m \u001b[0mdiscrete_target\u001b[0m\u001b[0;34m:\u001b[0m\u001b[0;34m\u001b[0m\u001b[0m\n",
      "\u001b[0;31mKeyboardInterrupt\u001b[0m: "
     ]
    }
   ],
   "source": [
    "mutual_info_classif(data_ftr_bin, status_bin)"
   ]
  },
  {
   "cell_type": "markdown",
   "metadata": {},
   "source": [
    "## Functions for different classifications"
   ]
  },
  {
   "cell_type": "code",
   "execution_count": 62,
   "metadata": {
    "collapsed": true
   },
   "outputs": [],
   "source": [
    "def logit_regr(target, features):\n",
    "    from sklearn.metrics import confusion_matrix\n",
    "    from sklearn.metrics import classification_report\n",
    "    X_train, X_test, y_train, y_test = train_test_split(features, target, test_size=0.3)\n",
    "    clf = LogisticRegression()\n",
    "    clfModel = clf.fit(X_train, y_train)\n",
    "    # predict target with feature test set using trained model\n",
    "    target_pred = clfModel.predict(X_test)\n",
    "    print(pandas.DataFrame(metrics.confusion_matrix(y_test, target_pred), columns=[\"Denied\",\"Certified\"], index=[\"Denied\",\"Certified\"]))\n",
    "    coef = clf.coef_[0]\n",
    "    #print (coef)\n",
    "    print(\"The accuracy score for this training is\",metrics.accuracy_score(y_test, target_pred))\n",
    "    print(classification_report(y_test, target_pred))\n",
    "    fpr, tpr, thresholds = metrics.roc_curve(y_test, clf.predict_proba(X_test)[:,1], pos_label=1)\n",
    "    print(metrics.auc(fpr, tpr))"
   ]
  },
  {
   "cell_type": "code",
   "execution_count": 63,
   "metadata": {
    "collapsed": true
   },
   "outputs": [],
   "source": [
    "def gaussian_nb(target, features):\n",
    "    from sklearn.metrics import confusion_matrix\n",
    "    from sklearn.metrics import classification_report\n",
    "    X_train, X_test, y_train, y_test = train_test_split(features, target, test_size=0.3)\n",
    "    gnb = GaussianNB()\n",
    "    gnbModel = gnb.fit(X_train, y_train)\n",
    "    # predict target with feature test set using trained model\n",
    "    target_pred = gnbModel.predict(X_test)\n",
    "    print(pandas.DataFrame(metrics.confusion_matrix(y_test, target_pred)))\n",
    "    #coef = gnb.coef_[0]\n",
    "    #print (coef)\n",
    "    print(\"The accuracy score for this training is\",metrics.accuracy_score(y_test, target_pred))\n",
    "    print(classification_report(y_test, target_pred))\n",
    "    fpr, tpr, thresholds = metrics.roc_curve(y_test, gnb.predict_proba(X_test)[:,1], pos_label=1)\n",
    "    print(metrics.auc(fpr, tpr))"
   ]
  },
  {
   "cell_type": "code",
   "execution_count": 64,
   "metadata": {
    "collapsed": true
   },
   "outputs": [],
   "source": [
    "def svc(target, features):\n",
    "    from sklearn.metrics import confusion_matrix\n",
    "    from sklearn.metrics import classification_report\n",
    "    X_train, X_test, y_train, y_test = train_test_split(features, target, test_size=0.3)\n",
    "    svc = SVC()\n",
    "    gnbModel = svc.fit(X_train, y_train)\n",
    "    # predict target with feature test set using trained model\n",
    "    target_pred = gnbModel.predict(X_test)\n",
    "    print(pandas.DataFrame(metrics.confusion_matrix(y_test, target_pred)))\n",
    "    #coef = gnb.coef_[0]\n",
    "    #print (coef)\n",
    "    print(\"The accuracy score for this training is\",metrics.accuracy_score(y_test, target_pred))\n",
    "    print(classification_report(y_test, target_pred))\n",
    "    fpr, tpr, thresholds = metrics.roc_curve(y_test, svc.predict_proba(X_test)[:,1], pos_label=2)\n",
    "    print(metrics.auc(fpr, tpr))"
   ]
  },
  {
   "cell_type": "code",
   "execution_count": 146,
   "metadata": {
    "collapsed": true
   },
   "outputs": [],
   "source": [
    "def cart(target,features):\n",
    "    from sklearn import tree\n",
    "    X_train, X_test, y_train, y_test = train_test_split(features, target, test_size=0.3)\n",
    "    clf = tree.DecisionTreeClassifier()\n",
    "    clf = clf.fit(X_train, y_train)\n",
    "    pred = clf.predict(X_test)\n",
    "    print(pandas.DataFrame(metrics.confusion_matrix(y_test, pred)))\n",
    "    coef = clf.feature_importances_\n",
    "    prob = clf.predict_proba(X_test)\n",
    "    print(\"The accuracy score for this training is\",metrics.accuracy_score(y_test, pred))\n",
    "    print(classification_report(y_test, pred))\n",
    "    fpr, tpr, thresholds = metrics.roc_curve(y_test, prob[:,1], pos_label=1)\n",
    "    print(metrics.auc(fpr, tpr))\n",
    "    print(clf.n_features_)\n",
    "    return(coef)"
   ]
  },
  {
   "cell_type": "markdown",
   "metadata": {},
   "source": [
    "## Raw classifications"
   ]
  },
  {
   "cell_type": "code",
   "execution_count": 285,
   "metadata": {},
   "outputs": [
    {
     "name": "stdout",
     "output_type": "stream",
     "text": [
      "           Denied  Certified\n",
      "Denied         43       5833\n",
      "Certified      10      83493\n",
      "The accuracy score for this training is 0.934626702022\n",
      "             precision    recall  f1-score   support\n",
      "\n",
      "          0       0.81      0.01      0.01      5876\n",
      "          1       0.93      1.00      0.97     83503\n",
      "\n",
      "avg / total       0.93      0.93      0.90     89379\n",
      "\n",
      "0.579819235144\n"
     ]
    }
   ],
   "source": [
    "logit_regr(status_bin, data_ftr_bin)"
   ]
  },
  {
   "cell_type": "code",
   "execution_count": 286,
   "metadata": {},
   "outputs": [
    {
     "name": "stdout",
     "output_type": "stream",
     "text": [
      "       0      1\n",
      "0   1319   4607\n",
      "1  12360  71093\n",
      "The accuracy score for this training is 0.81016793654\n",
      "             precision    recall  f1-score   support\n",
      "\n",
      "          0       0.10      0.22      0.13      5926\n",
      "          1       0.94      0.85      0.89     83453\n",
      "\n",
      "avg / total       0.88      0.81      0.84     89379\n",
      "\n",
      "0.557447781058\n"
     ]
    }
   ],
   "source": [
    "gaussian_nb(status_bin, data_ftr_bin)"
   ]
  },
  {
   "cell_type": "code",
   "execution_count": 287,
   "metadata": {},
   "outputs": [
    {
     "name": "stdout",
     "output_type": "stream",
     "text": [
      "      0      1\n",
      "0   255   5647\n",
      "1  1359  82118\n",
      "The accuracy score for this training is 0.921614696965\n",
      "             precision    recall  f1-score   support\n",
      "\n",
      "          0       0.16      0.04      0.07      5902\n",
      "          1       0.94      0.98      0.96     83477\n",
      "\n",
      "avg / total       0.88      0.92      0.90     89379\n",
      "\n",
      "0.543278394148\n",
      "77\n"
     ]
    }
   ],
   "source": [
    "coef = cart(status_bin, data_ftr_bin)"
   ]
  },
  {
   "cell_type": "code",
   "execution_count": 226,
   "metadata": {},
   "outputs": [
    {
     "data": {
      "text/plain": [
       "array([  2.08666894e-02,   1.12558622e-02,   2.77579411e-02,\n",
       "         7.81634895e-03,   5.91950446e-02,   7.16098413e-03,\n",
       "         4.13412934e-02,   0.00000000e+00,   2.03836678e-02,\n",
       "         1.89553610e-02,   8.76162127e-03,   3.98657193e-02,\n",
       "         2.98321699e-02,   2.14035760e-02,   1.28837750e-02,\n",
       "         3.73472307e-03,   9.21989501e-04,   4.91540594e-03,\n",
       "         3.33319349e-03,   6.40313722e-03,   6.00231128e-03,\n",
       "         1.14546989e-02,   1.79475615e-02,   1.59732815e-02,\n",
       "         1.53612655e-03,   2.53704420e-02,   2.73613651e-02,\n",
       "         1.75846634e-02,   1.58165715e-02,   1.09679507e-02,\n",
       "         1.26506681e-02,   1.43643436e-02,   1.17716113e-02,\n",
       "         5.04111204e-03,   1.73478247e-05,   0.00000000e+00,\n",
       "         3.44588114e-04,   2.37971429e-02,   3.16711960e-02,\n",
       "         2.52044500e-02,   1.81720284e-02,   1.24070591e-02,\n",
       "         8.33282651e-03,   1.64666892e-02,   2.35529030e-02,\n",
       "         8.91000556e-03,   1.99654734e-02,   1.81050106e-02,\n",
       "         1.83876784e-02,   1.82490501e-02,   2.44125988e-02,\n",
       "         7.93371405e-03,   6.17323669e-03,   2.98773211e-03,\n",
       "         4.25475494e-03,   4.80963744e-03,   1.05688255e-02,\n",
       "         8.61905084e-03,   6.27227445e-03,   4.06008336e-03,\n",
       "         3.20952500e-04,   8.40545691e-03,   4.81940635e-03,\n",
       "         5.31485543e-03,   1.11563082e-02,   9.33804681e-03,\n",
       "         2.83352917e-03,   3.82207630e-03,   7.35803884e-03,\n",
       "         7.33118016e-03,   4.85840027e-03,   6.29369302e-03,\n",
       "         2.69702790e-03,   1.55317985e-02,   1.56032194e-02,\n",
       "         1.72647334e-02,   1.27447086e-02])"
      ]
     },
     "execution_count": 226,
     "metadata": {},
     "output_type": "execute_result"
    }
   ],
   "source": [
    "coef"
   ]
  },
  {
   "cell_type": "markdown",
   "metadata": {},
   "source": [
    "## Getting rid of + rows"
   ]
  },
  {
   "cell_type": "code",
   "execution_count": 290,
   "metadata": {
    "collapsed": true
   },
   "outputs": [],
   "source": [
    "row_test = df.copy()"
   ]
  },
  {
   "cell_type": "code",
   "execution_count": 291,
   "metadata": {
    "collapsed": true
   },
   "outputs": [],
   "source": [
    "row_test_cut = row_test.drop(row_test.query('CASE_STATUS == 1').sample(frac=.66).index)"
   ]
  },
  {
   "cell_type": "code",
   "execution_count": 292,
   "metadata": {},
   "outputs": [
    {
     "data": {
      "text/plain": [
       "1    0.934608\n",
       "0    0.065392\n",
       "Name: CASE_STATUS, dtype: float64"
      ]
     },
     "execution_count": 292,
     "metadata": {},
     "output_type": "execute_result"
    }
   ],
   "source": [
    "row_test['CASE_STATUS'].value_counts() / row_test['CASE_STATUS'].value_counts().sum()"
   ]
  },
  {
   "cell_type": "code",
   "execution_count": 293,
   "metadata": {},
   "outputs": [
    {
     "data": {
      "text/plain": [
       "1    0.505206\n",
       "0    0.494794\n",
       "Name: CASE_STATUS, dtype: float64"
      ]
     },
     "execution_count": 293,
     "metadata": {},
     "output_type": "execute_result"
    }
   ],
   "source": [
    "row_test_cut['CASE_STATUS'].value_counts() / row_test_cut['CASE_STATUS'].value_counts().sum()"
   ]
  },
  {
   "cell_type": "code",
   "execution_count": 294,
   "metadata": {
    "collapsed": true
   },
   "outputs": [],
   "source": [
    "status_cut = row_test_cut['CASE_STATUS'].as_matrix()\n",
    "data_ftr_cut = row_test_cut.iloc[:,1:]"
   ]
  },
  {
   "cell_type": "code",
   "execution_count": 295,
   "metadata": {},
   "outputs": [
    {
     "name": "stdout",
     "output_type": "stream",
     "text": [
      "           Denied  Certified\n",
      "Denied       2555       3373\n",
      "Certified    1846       4039\n",
      "The accuracy score for this training is 0.558198594768\n",
      "             precision    recall  f1-score   support\n",
      "\n",
      "          0       0.58      0.43      0.49      5928\n",
      "          1       0.54      0.69      0.61      5885\n",
      "\n",
      "avg / total       0.56      0.56      0.55     11813\n",
      "\n",
      "0.577904264943\n"
     ]
    }
   ],
   "source": [
    "logit_regr(status_cut, data_ftr_cut)"
   ]
  },
  {
   "cell_type": "code",
   "execution_count": 296,
   "metadata": {},
   "outputs": [
    {
     "name": "stdout",
     "output_type": "stream",
     "text": [
      "     0     1\n",
      "0  913  4929\n",
      "1  578  5393\n",
      "The accuracy score for this training is 0.533818674342\n",
      "             precision    recall  f1-score   support\n",
      "\n",
      "          0       0.61      0.16      0.25      5842\n",
      "          1       0.52      0.90      0.66      5971\n",
      "\n",
      "avg / total       0.57      0.53      0.46     11813\n",
      "\n",
      "0.555359778127\n"
     ]
    }
   ],
   "source": [
    "gaussian_nb(status_cut, data_ftr_cut)"
   ]
  },
  {
   "cell_type": "code",
   "execution_count": 297,
   "metadata": {},
   "outputs": [
    {
     "name": "stdout",
     "output_type": "stream",
     "text": [
      "      0     1\n",
      "0  2966  2839\n",
      "1  2312  3696\n",
      "The accuracy score for this training is 0.563954964869\n",
      "             precision    recall  f1-score   support\n",
      "\n",
      "          0       0.56      0.51      0.54      5805\n",
      "          1       0.57      0.62      0.59      6008\n",
      "\n",
      "avg / total       0.56      0.56      0.56     11813\n",
      "\n",
      "0.570381509695\n",
      "77\n"
     ]
    },
    {
     "data": {
      "text/plain": [
       "array([ 0.01847325,  0.01673136,  0.01831207,  0.00674934,  0.03838106,\n",
       "        0.05084507,  0.03736826,  0.        ,  0.01688895,  0.0093283 ,\n",
       "        0.00894446,  0.02544181,  0.02311248,  0.00905855,  0.01630255,\n",
       "        0.00373754,  0.00097633,  0.00497743,  0.00340188,  0.00379292,\n",
       "        0.00563914,  0.00863191,  0.01294923,  0.01895188,  0.002352  ,\n",
       "        0.03905818,  0.02917815,  0.01275196,  0.01729699,  0.01274029,\n",
       "        0.01703519,  0.0154117 ,  0.013576  ,  0.00736891,  0.        ,\n",
       "        0.        ,  0.        ,  0.02191875,  0.02524467,  0.02275818,\n",
       "        0.0211237 ,  0.01578482,  0.00740982,  0.01790552,  0.01979053,\n",
       "        0.01704779,  0.0296687 ,  0.01516358,  0.0214108 ,  0.02249443,\n",
       "        0.01758297,  0.00721568,  0.0033591 ,  0.00498975,  0.00508435,\n",
       "        0.01095132,  0.01153182,  0.01024653,  0.00572523,  0.00577048,\n",
       "        0.00027679,  0.00602875,  0.00428081,  0.00235897,  0.01136963,\n",
       "        0.00726662,  0.0032032 ,  0.00445769,  0.00414535,  0.01114396,\n",
       "        0.00211184,  0.0040599 ,  0.00244608,  0.01694697,  0.022477  ,\n",
       "        0.02392709,  0.00755572])"
      ]
     },
     "execution_count": 297,
     "metadata": {},
     "output_type": "execute_result"
    }
   ],
   "source": [
    "cart(status_cut, data_ftr_cut)"
   ]
  },
  {
   "cell_type": "markdown",
   "metadata": {},
   "source": [
    "## Clustering on uncut data and running classification"
   ]
  },
  {
   "cell_type": "code",
   "execution_count": 298,
   "metadata": {},
   "outputs": [
    {
     "data": {
      "image/png": "[encoded data removed]",
      "text/plain": [
       "<matplotlib.figure.Figure at 0x1a331172b0>"
      ]
     },
     "metadata": {},
     "output_type": "display_data"
    }
   ],
   "source": [
    "# <help:scikit_k_means_cluster>\n",
    "import warnings\n",
    "warnings.filterwarnings('ignore') #notebook outputs warnings, let's ignore them\n",
    "from time import time\n",
    "import numpy as np\n",
    "import matplotlib.pyplot as plt\n",
    "import sklearn.datasets\n",
    "from sklearn.cluster import KMeans\n",
    "\n",
    "# set the number of clusters, must be >=1\n",
    "n = 10\n",
    "inertia = [np.NaN]\n",
    "\n",
    "# perform k-means clustering over i=0...k\n",
    "for k in range(1,n):\n",
    "    k_means_ = KMeans(n_clusters=k)\n",
    "    k_means_.fit(data_ftr_bin)\n",
    "    #labels = kmeans.labels_\n",
    "    #print('k = %d, inertia= %f' % (k, k_means_.inertia_ ))\n",
    "    inertia.append(k_means_.inertia_) \n",
    "    \n",
    "# plot the SSE of the clusters for each value of i\n",
    "ax = plt.subplot(111)\n",
    "ax.plot(inertia, '-o')\n",
    "plt.xticks(range(n))\n",
    "plt.title(\"Inertia\")\n",
    "ax.set_ylabel('Inertia')\n",
    "ax.set_xlabel('# Clustears')\n",
    "plt.show() "
   ]
  },
  {
   "cell_type": "code",
   "execution_count": 299,
   "metadata": {
    "collapsed": true
   },
   "outputs": [],
   "source": [
    "# <help:scikit_k_means_cluster>\n",
    "import warnings\n",
    "warnings.filterwarnings('ignore') #notebook outputs warnings, let's ignore them\n",
    "from time import time\n",
    "import numpy as np\n",
    "import matplotlib.pyplot as plt\n",
    "import sklearn.datasets\n",
    "from sklearn.cluster import KMeans\n",
    "\n",
    "# set the number of clusters, must be >=1\n",
    "n = 8\n",
    "inertia = [np.NaN]\n",
    "\n",
    "# perform k-means clustering over i=0...k\n",
    "\n",
    "k_means_ = KMeans(n_clusters=8)\n",
    "k_means_.fit(data_ftr_bin)\n",
    "labels = k_means_.labels_\n",
    "#print('k = %d, inertia= %f' % (k, k_means_.inertia_ ))\n",
    "inertia.append(k_means_.inertia_) \n",
    "    "
   ]
  },
  {
   "cell_type": "code",
   "execution_count": 300,
   "metadata": {
    "collapsed": true
   },
   "outputs": [],
   "source": [
    "data_ftr_bin['Cluster_Label'] = labels"
   ]
  },
  {
   "cell_type": "code",
   "execution_count": 301,
   "metadata": {},
   "outputs": [
    {
     "data": {
      "text/plain": [
       "1    50278\n",
       "3    48352\n",
       "6    47328\n",
       "2    43262\n",
       "5    35995\n",
       "0    26089\n",
       "4    24444\n",
       "7    22180\n",
       "Name: Cluster_Label, dtype: int64"
      ]
     },
     "execution_count": 301,
     "metadata": {},
     "output_type": "execute_result"
    }
   ],
   "source": [
    "data_ftr_bin['Cluster_Label'].value_counts()"
   ]
  },
  {
   "cell_type": "code",
   "execution_count": 302,
   "metadata": {
    "collapsed": true
   },
   "outputs": [],
   "source": [
    "data_ftr_bin['CASE_STATUS'] =  status_bin"
   ]
  },
  {
   "cell_type": "markdown",
   "metadata": {},
   "source": [
    "Running classification on the clusters, with 75% of the + data taken out"
   ]
  },
  {
   "cell_type": "code",
   "execution_count": 305,
   "metadata": {},
   "outputs": [],
   "source": [
    "sub_df = {}\n",
    "for k in range(0,8):\n",
    "    sub_df[k] = data_ftr_bin.loc[data_ftr_bin['Cluster_Label'] ==k]"
   ]
  },
  {
   "cell_type": "code",
   "execution_count": 307,
   "metadata": {},
   "outputs": [],
   "source": [
    "sub_df_cut = {}\n",
    "for key, value in sub_df.items():\n",
    "    sub_df_cut[key] = value.drop(value.query('CASE_STATUS == 1').sample(frac=.75).index)"
   ]
  },
  {
   "cell_type": "code",
   "execution_count": 308,
   "metadata": {},
   "outputs": [
    {
     "name": "stdout",
     "output_type": "stream",
     "text": [
      "           Denied  Certified\n",
      "Denied          4        445\n",
      "Certified       2       1638\n",
      "The accuracy score for this training is 0.786022020105\n",
      "             precision    recall  f1-score   support\n",
      "\n",
      "          0       0.67      0.01      0.02       449\n",
      "          1       0.79      1.00      0.88      1640\n",
      "\n",
      "avg / total       0.76      0.79      0.69      2089\n",
      "\n",
      "0.552552420012\n",
      "           Denied  Certified\n",
      "Denied          0        853\n",
      "Certified       3       2822\n",
      "The accuracy score for this training is 0.767264817836\n",
      "             precision    recall  f1-score   support\n",
      "\n",
      "          0       0.00      0.00      0.00       853\n",
      "          1       0.77      1.00      0.87      2825\n",
      "\n",
      "avg / total       0.59      0.77      0.67      3678\n",
      "\n",
      "0.536117191796\n",
      "           Denied  Certified\n",
      "Denied          0        681\n",
      "Certified       0       2517\n",
      "The accuracy score for this training is 0.787054409006\n",
      "             precision    recall  f1-score   support\n",
      "\n",
      "          0       0.00      0.00      0.00       681\n",
      "          1       0.79      1.00      0.88      2517\n",
      "\n",
      "avg / total       0.62      0.79      0.69      3198\n",
      "\n",
      "0.536477649487\n",
      "           Denied  Certified\n",
      "Denied          3        891\n",
      "Certified       2       2703\n",
      "The accuracy score for this training is 0.751875520978\n",
      "             precision    recall  f1-score   support\n",
      "\n",
      "          0       0.60      0.00      0.01       894\n",
      "          1       0.75      1.00      0.86      2705\n",
      "\n",
      "avg / total       0.71      0.75      0.65      3599\n",
      "\n",
      "0.54222377981\n",
      "           Denied  Certified\n",
      "Denied         94        570\n",
      "Certified      62       1473\n",
      "The accuracy score for this training is 0.712596634834\n",
      "             precision    recall  f1-score   support\n",
      "\n",
      "          0       0.60      0.14      0.23       664\n",
      "          1       0.72      0.96      0.82      1535\n",
      "\n",
      "avg / total       0.69      0.71      0.64      2199\n",
      "\n",
      "0.629194301637\n",
      "           Denied  Certified\n",
      "Denied         13        677\n",
      "Certified      15       2120\n",
      "The accuracy score for this training is 0.755044247788\n",
      "             precision    recall  f1-score   support\n",
      "\n",
      "          0       0.46      0.02      0.04       690\n",
      "          1       0.76      0.99      0.86      2135\n",
      "\n",
      "avg / total       0.69      0.76      0.66      2825\n",
      "\n",
      "0.593503037708\n",
      "           Denied  Certified\n",
      "Denied         92       1110\n",
      "Certified      71       2534\n",
      "The accuracy score for this training is 0.689781980562\n",
      "             precision    recall  f1-score   support\n",
      "\n",
      "          0       0.56      0.08      0.13      1202\n",
      "          1       0.70      0.97      0.81      2605\n",
      "\n",
      "avg / total       0.65      0.69      0.60      3807\n",
      "\n",
      "0.592162614453\n",
      "           Denied  Certified\n",
      "Denied          0        390\n",
      "Certified       0       1415\n",
      "The accuracy score for this training is 0.783933518006\n",
      "             precision    recall  f1-score   support\n",
      "\n",
      "          0       0.00      0.00      0.00       390\n",
      "          1       0.78      1.00      0.88      1415\n",
      "\n",
      "avg / total       0.61      0.78      0.69      1805\n",
      "\n",
      "0.508176134819\n"
     ]
    }
   ],
   "source": [
    "for key, value in sub_df_cut.items():\n",
    "    logit_regr(value.iloc[:,-1], value.iloc[:,0:77])"
   ]
  },
  {
   "cell_type": "code",
   "execution_count": 309,
   "metadata": {
    "scrolled": false
   },
   "outputs": [
    {
     "name": "stdout",
     "output_type": "stream",
     "text": [
      "     0     1\n",
      "0   47   365\n",
      "1  119  1558\n",
      "The accuracy score for this training is 0.768310196266\n",
      "             precision    recall  f1-score   support\n",
      "\n",
      "          0       0.28      0.11      0.16       412\n",
      "          1       0.81      0.93      0.87      1677\n",
      "\n",
      "avg / total       0.71      0.77      0.73      2089\n",
      "\n",
      "0.529597321847\n",
      "     0     1\n",
      "0   72   770\n",
      "1  195  2641\n",
      "The accuracy score for this training is 0.737629146275\n",
      "             precision    recall  f1-score   support\n",
      "\n",
      "          0       0.27      0.09      0.13       842\n",
      "          1       0.77      0.93      0.85      2836\n",
      "\n",
      "avg / total       0.66      0.74      0.68      3678\n",
      "\n",
      "0.531324646804\n",
      "      0    1\n",
      "0   660   50\n",
      "1  2330  158\n",
      "The accuracy score for this training is 0.255784865541\n",
      "             precision    recall  f1-score   support\n",
      "\n",
      "          0       0.22      0.93      0.36       710\n",
      "          1       0.76      0.06      0.12      2488\n",
      "\n",
      "avg / total       0.64      0.26      0.17      3198\n",
      "\n",
      "0.513698994611\n",
      "     0     1\n",
      "0   93   749\n",
      "1  223  2534\n",
      "The accuracy score for this training is 0.729924979161\n",
      "             precision    recall  f1-score   support\n",
      "\n",
      "          0       0.29      0.11      0.16       842\n",
      "          1       0.77      0.92      0.84      2757\n",
      "\n",
      "avg / total       0.66      0.73      0.68      3599\n",
      "\n",
      "0.523964479963\n",
      "     0     1\n",
      "0  121   588\n",
      "1  148  1342\n",
      "The accuracy score for this training is 0.665302410186\n",
      "             precision    recall  f1-score   support\n",
      "\n",
      "          0       0.45      0.17      0.25       709\n",
      "          1       0.70      0.90      0.78      1490\n",
      "\n",
      "avg / total       0.62      0.67      0.61      2199\n",
      "\n",
      "0.609882053369\n",
      "      0   1\n",
      "0   652  11\n",
      "1  2141  21\n",
      "The accuracy score for this training is 0.238230088496\n",
      "             precision    recall  f1-score   support\n",
      "\n",
      "          0       0.23      0.98      0.38       663\n",
      "          1       0.66      0.01      0.02      2162\n",
      "\n",
      "avg / total       0.56      0.24      0.10      2825\n",
      "\n",
      "0.572477720897\n",
      "     0     1\n",
      "0  358   790\n",
      "1  535  2124\n",
      "The accuracy score for this training is 0.65195692146\n",
      "             precision    recall  f1-score   support\n",
      "\n",
      "          0       0.40      0.31      0.35      1148\n",
      "          1       0.73      0.80      0.76      2659\n",
      "\n",
      "avg / total       0.63      0.65      0.64      3807\n",
      "\n",
      "0.584715573825\n",
      "      0   1\n",
      "0   374   6\n",
      "1  1401  24\n",
      "The accuracy score for this training is 0.220498614958\n",
      "             precision    recall  f1-score   support\n",
      "\n",
      "          0       0.21      0.98      0.35       380\n",
      "          1       0.80      0.02      0.03      1425\n",
      "\n",
      "avg / total       0.68      0.22      0.10      1805\n",
      "\n",
      "0.5032677747\n"
     ]
    }
   ],
   "source": [
    "for key, value in sub_df_cut.items():\n",
    "    gaussian_nb(value.iloc[:,-1], value.iloc[:,0:77])"
   ]
  },
  {
   "cell_type": "code",
   "execution_count": 310,
   "metadata": {
    "scrolled": false
   },
   "outputs": [
    {
     "name": "stdout",
     "output_type": "stream",
     "text": [
      "     0     1\n",
      "0   81   373\n",
      "1  233  1402\n",
      "The accuracy score for this training is 0.709909047391\n",
      "             precision    recall  f1-score   support\n",
      "\n",
      "          0       0.26      0.18      0.21       454\n",
      "          1       0.79      0.86      0.82      1635\n",
      "\n",
      "avg / total       0.67      0.71      0.69      2089\n",
      "\n",
      "0.532708914306\n",
      "77\n",
      "     0     1\n",
      "0   54   793\n",
      "1  168  2663\n",
      "The accuracy score for this training is 0.738716693855\n",
      "             precision    recall  f1-score   support\n",
      "\n",
      "          0       0.24      0.06      0.10       847\n",
      "          1       0.77      0.94      0.85      2831\n",
      "\n",
      "avg / total       0.65      0.74      0.68      3678\n",
      "\n",
      "0.525913346793\n",
      "77\n",
      "    0     1\n",
      "0  28   668\n",
      "1  68  2434\n",
      "The accuracy score for this training is 0.7698561601\n",
      "             precision    recall  f1-score   support\n",
      "\n",
      "          0       0.29      0.04      0.07       696\n",
      "          1       0.78      0.97      0.87      2502\n",
      "\n",
      "avg / total       0.68      0.77      0.70      3198\n",
      "\n",
      "0.548883594274\n",
      "77\n",
      "     0     1\n",
      "0   75   795\n",
      "1  174  2555\n",
      "The accuracy score for this training is 0.73075854404\n",
      "             precision    recall  f1-score   support\n",
      "\n",
      "          0       0.30      0.09      0.13       870\n",
      "          1       0.76      0.94      0.84      2729\n",
      "\n",
      "avg / total       0.65      0.73      0.67      3599\n",
      "\n",
      "0.54039414884\n",
      "77\n",
      "     0     1\n",
      "0  245   444\n",
      "1  225  1285\n",
      "The accuracy score for this training is 0.695770804911\n",
      "             precision    recall  f1-score   support\n",
      "\n",
      "          0       0.52      0.36      0.42       689\n",
      "          1       0.74      0.85      0.79      1510\n",
      "\n",
      "avg / total       0.67      0.70      0.68      2199\n",
      "\n",
      "0.650399850056\n",
      "77\n",
      "     0     1\n",
      "0  119   560\n",
      "1  157  1989\n",
      "The accuracy score for this training is 0.746194690265\n",
      "             precision    recall  f1-score   support\n",
      "\n",
      "          0       0.43      0.18      0.25       679\n",
      "          1       0.78      0.93      0.85      2146\n",
      "\n",
      "avg / total       0.70      0.75      0.70      2825\n",
      "\n",
      "0.583549625498\n",
      "77\n",
      "     0     1\n",
      "0  453   731\n",
      "1  733  1890\n",
      "The accuracy score for this training is 0.615445232467\n",
      "             precision    recall  f1-score   support\n",
      "\n",
      "          0       0.38      0.38      0.38      1184\n",
      "          1       0.72      0.72      0.72      2623\n",
      "\n",
      "avg / total       0.62      0.62      0.62      3807\n",
      "\n",
      "0.542331802351\n",
      "77\n",
      "     0     1\n",
      "0   66   326\n",
      "1  228  1185\n",
      "The accuracy score for this training is 0.693074792244\n",
      "             precision    recall  f1-score   support\n",
      "\n",
      "          0       0.22      0.17      0.19       392\n",
      "          1       0.78      0.84      0.81      1413\n",
      "\n",
      "avg / total       0.66      0.69      0.68      1805\n",
      "\n",
      "0.511416403079\n",
      "77\n"
     ]
    }
   ],
   "source": [
    "for key, value in sub_df_cut.items():\n",
    "    cart(value.iloc[:,-1], value.iloc[:,0:77])"
   ]
  },
  {
   "cell_type": "markdown",
   "metadata": {},
   "source": [
    "## Clustering on cut data and running classification"
   ]
  },
  {
   "cell_type": "code",
   "execution_count": null,
   "metadata": {
    "collapsed": true
   },
   "outputs": [],
   "source": []
  },
  {
   "cell_type": "code",
   "execution_count": 255,
   "metadata": {},
   "outputs": [
    {
     "data": {
      "image/png": "[encoded data removed]",
      "text/plain": [
       "<matplotlib.figure.Figure at 0x1a2324cdd8>"
      ]
     },
     "metadata": {},
     "output_type": "display_data"
    }
   ],
   "source": [
    "# <help:scikit_k_means_cluster>\n",
    "import warnings\n",
    "warnings.filterwarnings('ignore') #notebook outputs warnings, let's ignore them\n",
    "from time import time\n",
    "import numpy as np\n",
    "import matplotlib.pyplot as plt\n",
    "import sklearn.datasets\n",
    "from sklearn.cluster import KMeans\n",
    "\n",
    "# set the number of clusters, must be >=1\n",
    "n = 10\n",
    "inertia = [np.NaN]\n",
    "\n",
    "# perform k-means clustering over i=0...k\n",
    "for k in range(1,n):\n",
    "    k_means_ = KMeans(n_clusters=k)\n",
    "    k_means_.fit(data_ftr_cut)\n",
    "    #labels = kmeans.labels_\n",
    "    #print('k = %d, inertia= %f' % (k, k_means_.inertia_ ))\n",
    "    inertia.append(k_means_.inertia_) \n",
    "    \n",
    "# plot the SSE of the clusters for each value of i\n",
    "ax = plt.subplot(111)\n",
    "ax.plot(inertia, '-o')\n",
    "plt.xticks(range(n))\n",
    "plt.title(\"Inertia\")\n",
    "ax.set_ylabel('Inertia')\n",
    "ax.set_xlabel('# Clustears')\n",
    "plt.show() "
   ]
  },
  {
   "cell_type": "code",
   "execution_count": 311,
   "metadata": {
    "collapsed": true
   },
   "outputs": [],
   "source": [
    "# <help:scikit_k_means_cluster>\n",
    "import warnings\n",
    "warnings.filterwarnings('ignore') #notebook outputs warnings, let's ignore them\n",
    "from time import time\n",
    "import numpy as np\n",
    "import matplotlib.pyplot as plt\n",
    "import sklearn.datasets\n",
    "from sklearn.cluster import KMeans\n",
    "\n",
    "# set the number of clusters, must be >=1\n",
    "n = 8\n",
    "inertia = [np.NaN]\n",
    "\n",
    "# perform k-means clustering over i=0...k\n",
    "\n",
    "k_means_ = KMeans(n_clusters=8)\n",
    "k_means_.fit(data_ftr_cut)\n",
    "labels = k_means_.labels_\n",
    "#print('k = %d, inertia= %f' % (k, k_means_.inertia_ ))\n",
    "inertia.append(k_means_.inertia_) \n",
    "    "
   ]
  },
  {
   "cell_type": "code",
   "execution_count": 312,
   "metadata": {
    "collapsed": true
   },
   "outputs": [],
   "source": [
    "data_ftr_cut['Cluster_Label'] = labels"
   ]
  },
  {
   "cell_type": "code",
   "execution_count": 313,
   "metadata": {},
   "outputs": [
    {
     "data": {
      "text/plain": [
       "2    7742\n",
       "4    5720\n",
       "0    5226\n",
       "6    4886\n",
       "1    4629\n",
       "7    4381\n",
       "5    3637\n",
       "3    3153\n",
       "Name: Cluster_Label, dtype: int64"
      ]
     },
     "execution_count": 313,
     "metadata": {},
     "output_type": "execute_result"
    }
   ],
   "source": [
    "data_ftr_cut['Cluster_Label'].value_counts()"
   ]
  },
  {
   "cell_type": "code",
   "execution_count": 314,
   "metadata": {
    "collapsed": true
   },
   "outputs": [],
   "source": [
    "data_ftr_cut['CASE_STATUS'] =  status_cut"
   ]
  },
  {
   "cell_type": "markdown",
   "metadata": {},
   "source": [
    "Running classification on the clusters, with 75% of the + data taken out"
   ]
  },
  {
   "cell_type": "code",
   "execution_count": 315,
   "metadata": {
    "collapsed": true
   },
   "outputs": [],
   "source": [
    "sub_df_precut = {}\n",
    "for k in range(0,8):\n",
    "    sub_df_precut[k] = data_ftr_cut.loc[data_ftr_cut['Cluster_Label'] ==k]"
   ]
  },
  {
   "cell_type": "code",
   "execution_count": 316,
   "metadata": {},
   "outputs": [],
   "source": [
    "sub_df_cut_precut = {}\n",
    "for key, value in sub_df.items():\n",
    "    sub_df_cut_precut[key] = value.drop(value.query('CASE_STATUS == 1').sample(frac=.75).index)"
   ]
  },
  {
   "cell_type": "code",
   "execution_count": 320,
   "metadata": {},
   "outputs": [
    {
     "name": "stdout",
     "output_type": "stream",
     "text": [
      "           Denied  Certified\n",
      "Denied          2        455\n",
      "Certified       2       1638\n",
      "The accuracy score for this training is 0.782069623271\n",
      "             precision    recall  f1-score   support\n",
      "\n",
      "          0       0.50      0.00      0.01       457\n",
      "          1       0.78      1.00      0.88      1640\n",
      "\n",
      "avg / total       0.72      0.78      0.69      2097\n",
      "\n",
      "0.560103671879\n",
      "           Denied  Certified\n",
      "Denied          1        871\n",
      "Certified       2       2804\n",
      "The accuracy score for this training is 0.76264274062\n",
      "             precision    recall  f1-score   support\n",
      "\n",
      "          0       0.33      0.00      0.00       872\n",
      "          1       0.76      1.00      0.87      2806\n",
      "\n",
      "avg / total       0.66      0.76      0.66      3678\n",
      "\n",
      "0.53194273248\n",
      "           Denied  Certified\n",
      "Denied          0        695\n",
      "Certified       0       2529\n",
      "The accuracy score for this training is 0.784429280397\n",
      "             precision    recall  f1-score   support\n",
      "\n",
      "          0       0.00      0.00      0.00       695\n",
      "          1       0.78      1.00      0.88      2529\n",
      "\n",
      "avg / total       0.62      0.78      0.69      3224\n",
      "\n",
      "0.546598166307\n",
      "           Denied  Certified\n",
      "Denied          0        858\n",
      "Certified       5       2749\n",
      "The accuracy score for this training is 0.761074197121\n",
      "             precision    recall  f1-score   support\n",
      "\n",
      "          0       0.00      0.00      0.00       858\n",
      "          1       0.76      1.00      0.86      2754\n",
      "\n",
      "avg / total       0.58      0.76      0.66      3612\n",
      "\n",
      "0.540738582405\n",
      "           Denied  Certified\n",
      "Denied         75        614\n",
      "Certified      71       1442\n",
      "The accuracy score for this training is 0.688919164396\n",
      "             precision    recall  f1-score   support\n",
      "\n",
      "          0       0.51      0.11      0.18       689\n",
      "          1       0.70      0.95      0.81      1513\n",
      "\n",
      "avg / total       0.64      0.69      0.61      2202\n",
      "\n",
      "0.624006553748\n",
      "           Denied  Certified\n",
      "Denied         21        636\n",
      "Certified      20       2140\n",
      "The accuracy score for this training is 0.767128150515\n",
      "             precision    recall  f1-score   support\n",
      "\n",
      "          0       0.51      0.03      0.06       657\n",
      "          1       0.77      0.99      0.87      2160\n",
      "\n",
      "avg / total       0.71      0.77      0.68      2817\n",
      "\n",
      "0.603091704718\n",
      "           Denied  Certified\n",
      "Denied        101       1060\n",
      "Certified      75       2578\n",
      "The accuracy score for this training is 0.702412165705\n",
      "             precision    recall  f1-score   support\n",
      "\n",
      "          0       0.57      0.09      0.15      1161\n",
      "          1       0.71      0.97      0.82      2653\n",
      "\n",
      "avg / total       0.67      0.70      0.62      3814\n",
      "\n",
      "0.602213605711\n",
      "           Denied  Certified\n",
      "Denied          0        383\n",
      "Certified       1       1423\n",
      "The accuracy score for this training is 0.787493082457\n",
      "             precision    recall  f1-score   support\n",
      "\n",
      "          0       0.00      0.00      0.00       383\n",
      "          1       0.79      1.00      0.88      1424\n",
      "\n",
      "avg / total       0.62      0.79      0.69      1807\n",
      "\n",
      "0.519810521606\n"
     ]
    }
   ],
   "source": [
    "for key, value in sub_df_cut_precut.items():\n",
    "    logit_regr(value.iloc[:,-1], value.iloc[:,0:77])"
   ]
  },
  {
   "cell_type": "code",
   "execution_count": 321,
   "metadata": {
    "scrolled": false
   },
   "outputs": [
    {
     "name": "stdout",
     "output_type": "stream",
     "text": [
      "      0   1\n",
      "0   430  16\n",
      "1  1585  66\n",
      "The accuracy score for this training is 0.236528373867\n",
      "             precision    recall  f1-score   support\n",
      "\n",
      "          0       0.21      0.96      0.35       446\n",
      "          1       0.80      0.04      0.08      1651\n",
      "\n",
      "avg / total       0.68      0.24      0.13      2097\n",
      "\n",
      "0.51913366814\n",
      "    0     1\n",
      "0  29   830\n",
      "1  71  2748\n",
      "The accuracy score for this training is 0.755029907558\n",
      "             precision    recall  f1-score   support\n",
      "\n",
      "          0       0.29      0.03      0.06       859\n",
      "          1       0.77      0.97      0.86      2819\n",
      "\n",
      "avg / total       0.66      0.76      0.67      3678\n",
      "\n",
      "0.518782822862\n",
      "      0    1\n",
      "0   643   43\n",
      "1  2368  170\n",
      "The accuracy score for this training is 0.252171215881\n",
      "             precision    recall  f1-score   support\n",
      "\n",
      "          0       0.21      0.94      0.35       686\n",
      "          1       0.80      0.07      0.12      2538\n",
      "\n",
      "avg / total       0.67      0.25      0.17      3224\n",
      "\n",
      "0.54348480358\n",
      "     0     1\n",
      "0   78   808\n",
      "1  195  2531\n",
      "The accuracy score for this training is 0.722314507198\n",
      "             precision    recall  f1-score   support\n",
      "\n",
      "          0       0.29      0.09      0.13       886\n",
      "          1       0.76      0.93      0.83      2726\n",
      "\n",
      "avg / total       0.64      0.72      0.66      3612\n",
      "\n",
      "0.532023785667\n",
      "     0     1\n",
      "0  108   577\n",
      "1  132  1385\n",
      "The accuracy score for this training is 0.678019981835\n",
      "             precision    recall  f1-score   support\n",
      "\n",
      "          0       0.45      0.16      0.23       685\n",
      "          1       0.71      0.91      0.80      1517\n",
      "\n",
      "avg / total       0.63      0.68      0.62      2202\n",
      "\n",
      "0.588847562179\n",
      "     0     1\n",
      "0   57   589\n",
      "1  135  2036\n",
      "The accuracy score for this training is 0.742988995385\n",
      "             precision    recall  f1-score   support\n",
      "\n",
      "          0       0.30      0.09      0.14       646\n",
      "          1       0.78      0.94      0.85      2171\n",
      "\n",
      "avg / total       0.67      0.74      0.69      2817\n",
      "\n",
      "0.574173990671\n",
      "      0   1\n",
      "0  1197  24\n",
      "1  2543  50\n",
      "The accuracy score for this training is 0.326953329837\n",
      "             precision    recall  f1-score   support\n",
      "\n",
      "          0       0.32      0.98      0.48      1221\n",
      "          1       0.68      0.02      0.04      2593\n",
      "\n",
      "avg / total       0.56      0.33      0.18      3814\n",
      "\n",
      "0.575179253158\n",
      "      0   1\n",
      "0   367   6\n",
      "1  1424  10\n",
      "The accuracy score for this training is 0.208633093525\n",
      "             precision    recall  f1-score   support\n",
      "\n",
      "          0       0.20      0.98      0.34       373\n",
      "          1       0.62      0.01      0.01      1434\n",
      "\n",
      "avg / total       0.54      0.21      0.08      1807\n",
      "\n",
      "0.510808926081\n"
     ]
    }
   ],
   "source": [
    "for key, value in sub_df_cut_precut.items():\n",
    "    gaussian_nb(value.iloc[:,-1], value.iloc[:,0:77])"
   ]
  },
  {
   "cell_type": "code",
   "execution_count": 322,
   "metadata": {
    "scrolled": false
   },
   "outputs": [
    {
     "name": "stdout",
     "output_type": "stream",
     "text": [
      "     0     1\n",
      "0   78   403\n",
      "1  230  1386\n",
      "The accuracy score for this training is 0.698140200286\n",
      "             precision    recall  f1-score   support\n",
      "\n",
      "          0       0.25      0.16      0.20       481\n",
      "          1       0.77      0.86      0.81      1616\n",
      "\n",
      "avg / total       0.66      0.70      0.67      2097\n",
      "\n",
      "0.517456027048\n",
      "77\n",
      "     0     1\n",
      "0   55   778\n",
      "1  127  2718\n",
      "The accuracy score for this training is 0.753942359978\n",
      "             precision    recall  f1-score   support\n",
      "\n",
      "          0       0.30      0.07      0.11       833\n",
      "          1       0.78      0.96      0.86      2845\n",
      "\n",
      "avg / total       0.67      0.75      0.69      3678\n",
      "\n",
      "0.521856756762\n",
      "77\n",
      "    0     1\n",
      "0  36   690\n",
      "1  63  2435\n",
      "The accuracy score for this training is 0.766439205955\n",
      "             precision    recall  f1-score   support\n",
      "\n",
      "          0       0.36      0.05      0.09       726\n",
      "          1       0.78      0.97      0.87      2498\n",
      "\n",
      "avg / total       0.69      0.77      0.69      3224\n",
      "\n",
      "0.565628811589\n",
      "77\n",
      "     0     1\n",
      "0   71   802\n",
      "1  128  2611\n",
      "The accuracy score for this training is 0.742524916944\n",
      "             precision    recall  f1-score   support\n",
      "\n",
      "          0       0.36      0.08      0.13       873\n",
      "          1       0.77      0.95      0.85      2739\n",
      "\n",
      "avg / total       0.67      0.74      0.68      3612\n",
      "\n",
      "0.523411776859\n",
      "77\n",
      "     0     1\n",
      "0  234   465\n",
      "1  249  1254\n",
      "The accuracy score for this training is 0.675749318801\n",
      "             precision    recall  f1-score   support\n",
      "\n",
      "          0       0.48      0.33      0.40       699\n",
      "          1       0.73      0.83      0.78      1503\n",
      "\n",
      "avg / total       0.65      0.68      0.66      2202\n",
      "\n",
      "0.62005079017\n",
      "77\n",
      "     0     1\n",
      "0  128   551\n",
      "1  157  1981\n",
      "The accuracy score for this training is 0.748668796592\n",
      "             precision    recall  f1-score   support\n",
      "\n",
      "          0       0.45      0.19      0.27       679\n",
      "          1       0.78      0.93      0.85      2138\n",
      "\n",
      "avg / total       0.70      0.75      0.71      2817\n",
      "\n",
      "0.583613234672\n",
      "77\n",
      "     0     1\n",
      "0  427   775\n",
      "1  712  1900\n",
      "The accuracy score for this training is 0.610120608285\n",
      "             precision    recall  f1-score   support\n",
      "\n",
      "          0       0.37      0.36      0.36      1202\n",
      "          1       0.71      0.73      0.72      2612\n",
      "\n",
      "avg / total       0.60      0.61      0.61      3814\n",
      "\n",
      "0.5406254061\n",
      "77\n",
      "     0     1\n",
      "0   53   366\n",
      "1  194  1194\n",
      "The accuracy score for this training is 0.690094078583\n",
      "             precision    recall  f1-score   support\n",
      "\n",
      "          0       0.21      0.13      0.16       419\n",
      "          1       0.77      0.86      0.81      1388\n",
      "\n",
      "avg / total       0.64      0.69      0.66      1807\n",
      "\n",
      "0.487813202836\n",
      "77\n"
     ]
    }
   ],
   "source": [
    "for key, value in sub_df_cut_precut.items():\n",
    "    cart(value.iloc[:,-1], value.iloc[:,0:77])"
   ]
  },
  {
   "cell_type": "code",
   "execution_count": null,
   "metadata": {
    "collapsed": true
   },
   "outputs": [],
   "source": []
  }
 ],
 "metadata": {
  "kernelspec": {
   "display_name": "Python 3",
   "language": "python",
   "name": "python3"
  },
  "language_info": {
   "codemirror_mode": {
    "name": "ipython",
    "version": 3
   },
   "file_extension": ".py",
   "mimetype": "text/x-python",
   "name": "python",
   "nbconvert_exporter": "python",
   "pygments_lexer": "ipython3",
   "version": "3.6.3"
  }
 },
 "nbformat": 4,
 "nbformat_minor": 2
}
