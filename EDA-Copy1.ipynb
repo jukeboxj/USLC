{
 "cells": [
  {
   "cell_type": "code",
   "execution_count": 3,
   "metadata": {},
   "outputs": [],
   "source": [
    "# import required libraries\n",
    "# pandas:Data framework library for Python\n",
    "# sklearn: Library to perform machine learning tasks\n",
    "import pandas as pd\n",
    "import numpy as np\n",
    "import scipy\n",
    "import scipy.stats as st\n",
    "import sklearn \n",
    "import sklearn.datasets\n",
    "import sklearn.metrics as metrics \n",
    "from sklearn.linear_model import LogisticRegression\n",
    "from sklearn.cross_validation import StratifiedKFold\n",
    "from sklearn.svm import SVC\n",
    "from sklearn.grid_search import GridSearchCV\n",
    "from sklearn.metrics import classification_report\n",
    "from sklearn.cross_validation import train_test_split\n",
    "from sklearn.preprocessing import label_binarize\n",
    "from sklearn.feature_selection import mutual_info_classif\n",
    "from scipy import stats"
   ]
  },
  {
   "cell_type": "code",
   "execution_count": 133,
   "metadata": {
    "collapsed": true
   },
   "outputs": [],
   "source": [
    "from datetime import datetime"
   ]
  },
  {
   "cell_type": "code",
   "execution_count": 1186,
   "metadata": {},
   "outputs": [],
   "source": [
    "Data_2017 = pd.read_excel(\"PERM_Disclosure_Data_FY17.xlsx\")"
   ]
  },
  {
   "cell_type": "code",
   "execution_count": 1187,
   "metadata": {},
   "outputs": [],
   "source": [
    "Data_2015 = pd.read_excel(\"PERM_Disclosure_Data_FY15_Q4.xlsx\")"
   ]
  },
  {
   "cell_type": "code",
   "execution_count": 1188,
   "metadata": {},
   "outputs": [],
   "source": [
    "Data_2016 = pd.read_excel(\"PERM_Data_FY16.xlsx\")"
   ]
  },
  {
   "cell_type": "code",
   "execution_count": 1189,
   "metadata": {},
   "outputs": [],
   "source": [
    "Data_2015.at[8809, 'RI_LOCAL_ETHNIC_PAPER_FROM'] = datetime.strptime('10/22/2014', '%m/%d/%Y')\n",
    "Data_2015.at[29257, 'RI_LOCAL_ETHNIC_PAPER_FROM'] = datetime.strptime('10/06/2014', '%m/%d/%Y')\n",
    "Data_2015.at[86322, 'RI_LOCAL_ETHNIC_PAPER_FROM'] = datetime.strptime('03/09/2015', '%m/%d/%Y')\n",
    "Data_2015['RI_LOCAL_ETHNIC_PAPER_FROM'] = pandas.to_datetime(Data_2015['RI_LOCAL_ETHNIC_PAPER_FROM'])\n",
    "Data_2015['RECR_INFO_SWA_JOB_ORDER_START'] = pandas.to_datetime(Data_2015['RECR_INFO_SWA_JOB_ORDER_START'])\n",
    "Data_2015.at[6306, 'RECR_INFO_SWA_JOB_ORDER_END'] = datetime.strptime('05/26/2014', '%m/%d/%Y')\n",
    "Data_2015.at[8602, 'RECR_INFO_SWA_JOB_ORDER_END'] = datetime.strptime('11/08/2014', '%m/%d/%Y')\n",
    "Data_2015.at[12210, 'RECR_INFO_SWA_JOB_ORDER_END'] = datetime.strptime('05/25/2014', '%m/%d/%Y')\n",
    "Data_2015.at[35208, 'RECR_INFO_SWA_JOB_ORDER_END'] = datetime.strptime('08/30/2013', '%m/%d/%Y')\n",
    "Data_2015.at[41211, 'RECR_INFO_SWA_JOB_ORDER_END'] = datetime.strptime('03/25/2014', '%m/%d/%Y')\n",
    "Data_2015.at[79773, 'RECR_INFO_SWA_JOB_ORDER_END'] = datetime.strptime('05/19/2014', '%m/%d/%Y')\n",
    "Data_2015.at[80176, 'RECR_INFO_SWA_JOB_ORDER_END'] = datetime.strptime('06/14/2015', '%m/%d/%Y')\n",
    "Data_2015.at[80177, 'RECR_INFO_SWA_JOB_ORDER_END'] = datetime.strptime('06/14/2015', '%m/%d/%Y')\n",
    "Data_2015.at[83651, 'RECR_INFO_SWA_JOB_ORDER_END'] = datetime.strptime('05/26/2013', '%m/%d/%Y')\n",
    "Data_2015['RECR_INFO_SWA_JOB_ORDER_END'] = pandas.to_datetime(Data_2015['RECR_INFO_SWA_JOB_ORDER_END'])\n",
    "Data_2015.at[76114, 'RI_EMPLOYER_WEB_POST_FROM'] = datetime.strptime('04/22/2014', '%m/%d/%Y')\n",
    "Data_2015.at[89154, 'RI_EMPLOYER_WEB_POST_FROM'] = datetime.strptime('05/01/2015', '%m/%d/%Y')\n",
    "Data_2015['RI_EMPLOYER_WEB_POST_FROM'] = pandas.to_datetime(Data_2015['RI_EMPLOYER_WEB_POST_FROM'])\n",
    "Data_2015.at[29489, 'RECR_INFO_PRO_ORG_ADVERT_FROM'] = datetime.strptime('01/01/2013', '%m/%d/%Y')\n",
    "Data_2015['RECR_INFO_PRO_ORG_ADVERT_FROM'] = pandas.to_datetime(Data_2015['RECR_INFO_PRO_ORG_ADVERT_FROM'])\n",
    "Data_2015.at[26192, 'RI_JOB_SEARCH_WEBSITE_FROM'] = datetime.strptime('01/13/2014', '%m/%d/%Y')\n",
    "Data_2015.at[70342, 'RI_JOB_SEARCH_WEBSITE_FROM'] = datetime.strptime('05/02/2014', '%m/%d/%Y')\n",
    "Data_2015.at[83733, 'RI_JOB_SEARCH_WEBSITE_FROM'] = datetime.strptime('11/15/2011', '%m/%d/%Y')\n",
    "Data_2015['RI_JOB_SEARCH_WEBSITE_FROM'] = pandas.to_datetime(Data_2015['RI_JOB_SEARCH_WEBSITE_FROM'])\n",
    "Data_2015.at[24138, 'RI_EMPLOYEE_REFERRAL_PROG_FROM'] = datetime.strptime('12/23/2014', '%m/%d/%Y')\n",
    "Data_2015.at[38262, 'RI_EMPLOYEE_REFERRAL_PROG_FROM'] = datetime.strptime('06/04/2014', '%m/%d/%Y')\n",
    "Data_2015.at[47808, 'RI_EMPLOYEE_REFERRAL_PROG_FROM'] = datetime.strptime('06/25/2014', '%m/%d/%Y')\n",
    "Data_2015['RI_EMPLOYEE_REFERRAL_PROG_FROM'] = pandas.to_datetime(Data_2015['RI_EMPLOYEE_REFERRAL_PROG_FROM'])\n",
    "Data_2015.at[14771, 'RI_CAMPUS_PLACEMENT_FROM'] = datetime.strptime('04/01/2013', '%m/%d/%Y')\n",
    "Data_2015.at[49525, 'RI_CAMPUS_PLACEMENT_FROM'] = datetime.strptime('05/02/2013', '%m/%d/%Y')\n",
    "Data_2015.at[73061, 'RI_CAMPUS_PLACEMENT_FROM'] = datetime.strptime('09/23/2014', '%m/%d/%Y')\n",
    "Data_2015['RI_CAMPUS_PLACEMENT_FROM'] = pandas.to_datetime(Data_2015['RI_CAMPUS_PLACEMENT_FROM'])\n",
    "Data_2017.at[31198, 'RECR_INFO_SWA_JOB_ORDER_START'] = datetime.strptime('03/30/2016', '%m/%d/%Y')\n",
    "Data_2017.at[77798, 'RECR_INFO_SWA_JOB_ORDER_START'] = datetime.strptime('04/26/2017', '%m/%d/%Y')\n",
    "Data_2017.at[92988, 'RECR_INFO_SWA_JOB_ORDER_START'] = datetime.strptime('03/30/2017', '%m/%d/%Y')\n",
    "\n",
    "Data_2017['RECR_INFO_SWA_JOB_ORDER_START'] = pandas.to_datetime(Data_2017['RECR_INFO_SWA_JOB_ORDER_START'])"
   ]
  },
  {
   "cell_type": "code",
   "execution_count": 1190,
   "metadata": {},
   "outputs": [],
   "source": [
    "#Data_2017.at[31198, 'RECR_INFO_SWA_JOB_ORDER_START'] = datetime.strptime('03/30/2016', '%m/%d/%Y')\n",
    "#Data_2017.at[77798, 'RECR_INFO_SWA_JOB_ORDER_START'] = datetime.strptime('04/26/2017', '%m/%d/%Y')\n",
    "Data_2017.at[704, 'RECR_INFO_SWA_JOB_ORDER_END'] = datetime.strptime('03/17/2016', '%m/%d/%Y')\n",
    "Data_2017.at[2932, 'RECR_INFO_SWA_JOB_ORDER_END'] = datetime.strptime('04/13/2016', '%m/%d/%Y')\n",
    "Data_2017.at[18749, 'RECR_INFO_SWA_JOB_ORDER_END'] = datetime.strptime('05/13/2016', '%m/%d/%Y')\n",
    "Data_2017.at[73589, 'RECR_INFO_SWA_JOB_ORDER_END'] = datetime.strptime('03/05/2017', '%m/%d/%Y')\n",
    "Data_2017.at[82743, 'RECR_INFO_SWA_JOB_ORDER_END'] = datetime.strptime('03/06/2017', '%m/%d/%Y')\n",
    "Data_2017.at[92390, 'RECR_INFO_SWA_JOB_ORDER_END'] = datetime.strptime('03/27/2017', '%m/%d/%Y')\n",
    "Data_2017.at[93721, 'RECR_INFO_SWA_JOB_ORDER_END'] = datetime.strptime('03/27/2017', '%m/%d/%Y')\n",
    "Data_2017.at[96292, 'RECR_INFO_SWA_JOB_ORDER_END'] = datetime.strptime('03/05/2017', '%m/%d/%Y')\n",
    "Data_2017['RECR_INFO_SWA_JOB_ORDER_END'] = pandas.to_datetime(Data_2017['RECR_INFO_SWA_JOB_ORDER_END'])\n",
    "Data_2016.at[96389, 'RECR_INFO_SWA_JOB_ORDER_START'] = datetime.strptime('03/30/2016', '%m/%d/%Y')\n",
    "Data_2016['RECR_INFO_SWA_JOB_ORDER_START'] = pandas.to_datetime(Data_2016['RECR_INFO_SWA_JOB_ORDER_START'])"
   ]
  },
  {
   "cell_type": "code",
   "execution_count": 1191,
   "metadata": {},
   "outputs": [],
   "source": [
    "Data_2016.at[29552, 'RECR_INFO_SWA_JOB_ORDER_END'] = datetime.strptime('06/04/2015', '%m/%d/%Y')\n",
    "Data_2016.at[33362, 'RECR_INFO_SWA_JOB_ORDER_END'] = datetime.strptime('03/06/2015', '%m/%d/%Y')\n",
    "Data_2016.at[49878, 'RECR_INFO_SWA_JOB_ORDER_END'] = datetime.strptime('03/02/2015', '%m/%d/%Y')\n",
    "Data_2016.at[60593, 'RECR_INFO_SWA_JOB_ORDER_END'] = datetime.strptime('08/03/2015', '%m/%d/%Y')\n",
    "Data_2016.at[91218, 'RECR_INFO_SWA_JOB_ORDER_END'] = datetime.strptime('11/30/2015', '%m/%d/%Y')\n",
    "Data_2016.at[113096, 'RECR_INFO_SWA_JOB_ORDER_END'] = datetime.strptime('03/15/2016', '%m/%d/%Y')\n",
    "Data_2016.at[114287, 'RECR_INFO_SWA_JOB_ORDER_END'] = datetime.strptime('03/30/2016', '%m/%d/%Y')\n",
    "Data_2016.at[120997, 'RECR_INFO_SWA_JOB_ORDER_END'] = datetime.strptime('03/30/2016', '%m/%d/%Y')\n",
    "Data_2016['RECR_INFO_SWA_JOB_ORDER_END'] = pandas.to_datetime(Data_2016['RECR_INFO_SWA_JOB_ORDER_END'])"
   ]
  },
  {
   "cell_type": "markdown",
   "metadata": {},
   "source": [
    "#used to check for messed up dates\n",
    "for i, row in Data_2016.iterrows():\n",
    "    if i > 114287:\n",
    "        print(i)\n",
    "        print(row['RECR_INFO_SWA_JOB_ORDER_END'])\n",
    "        ifor_val = pd.to_datetime(row['RECR_INFO_SWA_JOB_ORDER_END'])\n",
    "        Data_2016.set_value(i,'RECR_INFO_SWA_JOB_ORDER_END',ifor_val)"
   ]
  },
  {
   "cell_type": "code",
   "execution_count": 749,
   "metadata": {},
   "outputs": [],
   "source": [
    "nm15 = list(Data_2015.columns.values)\n",
    "nm16 = list(Data_2016.columns.values)\n",
    "nm17 = list(Data_2017.columns.values)"
   ]
  },
  {
   "cell_type": "code",
   "execution_count": 1192,
   "metadata": {
    "collapsed": true
   },
   "outputs": [],
   "source": [
    "#Change the column names so they match between years\n",
    "Data_2016=Data_2016.rename(columns = {'FW_INFO_REL_OCCUP_EXPERIENCE':'FW_INFO_REL_OCCUP_EXP'})\n",
    "Data_2015=Data_2015.rename(columns = {'JI_FOREIGN_WORKER_LIVE_ON_PREMISES':'JI_FW_LIVE_ON_PREMISES'})\n",
    "Data_2015=Data_2015.rename(columns = {'REC_INFO_BARG_REP_NOTIFIED':'RECR_INFO_BARG_REP_NOTIFIED'})\n",
    "Data_2015=Data_2015.rename(columns = {'JI_OFFERED_TO_SEC_J_FOREIGN_WORKER':'JI_OFFERED_TO_SEC_J_FW'})\n",
    "Data_2017=Data_2017.rename(columns = {'PW_JOB_TITLE_9089':'PW_Job_Title_9089'})"
   ]
  },
  {
   "cell_type": "code",
   "execution_count": 1193,
   "metadata": {},
   "outputs": [],
   "source": [
    "frames = [Data_2015, Data_2016, Data_2017]\n",
    "\n",
    "data = pd.concat(frames)"
   ]
  },
  {
   "cell_type": "code",
   "execution_count": 1194,
   "metadata": {},
   "outputs": [],
   "source": [
    "data = data.drop_duplicates()"
   ]
  },
  {
   "cell_type": "code",
   "execution_count": 1195,
   "metadata": {
    "collapsed": true
   },
   "outputs": [],
   "source": [
    "data_raw = data.copy()"
   ]
  },
  {
   "cell_type": "code",
   "execution_count": 1196,
   "metadata": {
    "scrolled": true
   },
   "outputs": [
    {
     "data": {
      "text/plain": [
       "CASE_NUMBER                               object\n",
       "DECISION_DATE                     datetime64[ns]\n",
       "CASE_STATUS                               object\n",
       "CASE_RECEIVED_DATE                datetime64[ns]\n",
       "REFILE                                    object\n",
       "ORIG_FILE_DATE                    datetime64[ns]\n",
       "ORIG_CASE_NO                              object\n",
       "SCHD_A_SHEEPHERDER                        object\n",
       "EMPLOYER_NAME                             object\n",
       "EMPLOYER_ADDRESS_1                        object\n",
       "EMPLOYER_ADDRESS_2                        object\n",
       "EMPLOYER_CITY                             object\n",
       "EMPLOYER_STATE                            object\n",
       "EMPLOYER_COUNTRY                          object\n",
       "EMPLOYER_POSTAL_CODE                      object\n",
       "EMPLOYER_PHONE                            object\n",
       "EMPLOYER_PHONE_EXT                        object\n",
       "EMPLOYER_NUM_EMPLOYEES                   float64\n",
       "EMPLOYER_YR_ESTAB                        float64\n",
       "FW_OWNERSHIP_INTEREST                     object\n",
       "AGENT_FIRM_NAME                           object\n",
       "AGENT_CITY                                object\n",
       "AGENT_STATE                               object\n",
       "PW_TRACK_NUM                              object\n",
       "PW_SOC_CODE                               object\n",
       "PW_SOC_TITLE                              object\n",
       "PW_LEVEL_9089                             object\n",
       "PW_AMOUNT_9089                            object\n",
       "PW_UNIT_OF_PAY_9089                       object\n",
       "PW_SOURCE_NAME_9089                       object\n",
       "                                       ...      \n",
       "RI_LOCAL_ETHNIC_PAPER_FROM        datetime64[ns]\n",
       "RI_LOCAL_ETHNIC_PAPER_TO          datetime64[ns]\n",
       "RECR_INFO_RADIO_TV_AD_FROM        datetime64[ns]\n",
       "RECR_INFO_RADIO_TV_AD_TO          datetime64[ns]\n",
       "RECR_INFO_EMPLOYER_REC_PAYMENT            object\n",
       "RECR_INFO_BARG_REP_NOTIFIED               object\n",
       "RI_POSTED_NOTICE_AT_WORKSITE              object\n",
       "RI_LAYOFF_IN_PAST_SIX_MONTHS              object\n",
       "RI_US_WORKERS_CONSIDERED                  object\n",
       "FOREIGN_WORKER_INFO_CITY                  object\n",
       "FOREIGN_WORKER_INFO_STATE                 object\n",
       "FW_INFO_POSTAL_CODE                       object\n",
       "COUNTRY_OF_CITIZENSHIP                    object\n",
       "FW_INFO_BIRTH_COUNTRY                     object\n",
       "CLASS_OF_ADMISSION                        object\n",
       "FOREIGN_WORKER_INFO_EDUCATION             object\n",
       "FW_INFO_EDUCATION_OTHER                   object\n",
       "FOREIGN_WORKER_INFO_MAJOR                 object\n",
       "FW_INFO_YR_REL_EDU_COMPLETED             float64\n",
       "FOREIGN_WORKER_INFO_INST                  object\n",
       "FW_INFO_TRAINING_COMP                     object\n",
       "FW_INFO_REQ_EXPERIENCE                    object\n",
       "FW_INFO_ALT_EDU_EXPERIENCE                object\n",
       "FW_INFO_REL_OCCUP_EXP                     object\n",
       "PREPARER_INFO_EMP_COMPLETED               object\n",
       "PREPARER_INFO_TITLE                       object\n",
       "EMPLOYER_DECL_INFO_TITLE                  object\n",
       "NAICS_US_CODE                             object\n",
       "NAICS_US_TITLE                            object\n",
       "PW_Job_Title_9089                         object\n",
       "Length: 125, dtype: object"
      ]
     },
     "execution_count": 1196,
     "metadata": {},
     "output_type": "execute_result"
    }
   ],
   "source": [
    "data.dtypes"
   ]
  },
  {
   "cell_type": "markdown",
   "metadata": {},
   "source": [
    "## General EDA"
   ]
  },
  {
   "cell_type": "code",
   "execution_count": 778,
   "metadata": {},
   "outputs": [
    {
     "data": {
      "text/plain": [
       "214756"
      ]
     },
     "execution_count": 778,
     "metadata": {},
     "output_type": "execute_result"
    }
   ],
   "source": [
    "data.CASE_NUMBER.unique().size"
   ]
  },
  {
   "cell_type": "code",
   "execution_count": 71,
   "metadata": {},
   "outputs": [
    {
     "data": {
      "text/plain": [
       "array(['Certified-Expired', 'Certified', 'Denied', 'Withdrawn'], dtype=object)"
      ]
     },
     "execution_count": 71,
     "metadata": {},
     "output_type": "execute_result"
    }
   ],
   "source": [
    "data.CASE_STATUS.unique()"
   ]
  },
  {
   "cell_type": "code",
   "execution_count": 802,
   "metadata": {},
   "outputs": [
    {
     "data": {
      "text/plain": [
       "Certified            45.399285\n",
       "Certified-Expired    44.879625\n",
       "Denied                5.696443\n",
       "Withdrawn             4.024647\n",
       "Name: CASE_STATUS, dtype: float64"
      ]
     },
     "execution_count": 802,
     "metadata": {},
     "output_type": "execute_result"
    }
   ],
   "source": [
    "(data['CASE_STATUS'].value_counts(dropna=False) / data['CASE_STATUS'].value_counts(dropna=False).sum()) * 100"
   ]
  },
  {
   "cell_type": "code",
   "execution_count": 803,
   "metadata": {
    "collapsed": true
   },
   "outputs": [
    {
     "data": {
      "text/plain": [
       "N      61.091669\n",
       "NaN    38.830670\n",
       "Y       0.077661\n",
       "Name: REFILE, dtype: float64"
      ]
     },
     "execution_count": 803,
     "metadata": {},
     "output_type": "execute_result"
    }
   ],
   "source": [
    "(data['REFILE'].value_counts(dropna=False) / data['REFILE'].value_counts(dropna=False).sum()) * 100\n",
    "#small percentage of refile, no need"
   ]
  },
  {
   "cell_type": "code",
   "execution_count": 804,
   "metadata": {},
   "outputs": [
    {
     "data": {
      "text/plain": [
       "N      99.991691\n",
       "NaN     0.008309\n",
       "Name: SCHD_A_SHEEPHERDER, dtype: float64"
      ]
     },
     "execution_count": 804,
     "metadata": {},
     "output_type": "execute_result"
    }
   ],
   "source": [
    "(data['SCHD_A_SHEEPHERDER'].value_counts(dropna=False) / data['SCHD_A_SHEEPHERDER'].value_counts(dropna=False).sum()) * 100"
   ]
  },
  {
   "cell_type": "code",
   "execution_count": 1107,
   "metadata": {},
   "outputs": [
    {
     "data": {
      "text/plain": [
       "Y      68.846971\n",
       "N      31.147599\n",
       "NaN     0.005431\n",
       "Name: JOB_INFO_JOB_REQ_NORMAL, dtype: float64"
      ]
     },
     "execution_count": 1107,
     "metadata": {},
     "output_type": "execute_result"
    }
   ],
   "source": [
    "(data['JOB_INFO_JOB_REQ_NORMAL'].value_counts(dropna=False) / data['JOB_INFO_JOB_REQ_NORMAL'].value_counts(dropna=False).sum()) * 100"
   ]
  },
  {
   "cell_type": "code",
   "execution_count": 805,
   "metadata": {},
   "outputs": [
    {
     "data": {
      "text/plain": [
       "312791"
      ]
     },
     "execution_count": 805,
     "metadata": {},
     "output_type": "execute_result"
    }
   ],
   "source": [
    "data['EMPLOYER_NUM_EMPLOYEES'].count()"
   ]
  },
  {
   "cell_type": "code",
   "execution_count": 806,
   "metadata": {},
   "outputs": [
    {
     "data": {
      "text/plain": [
       "N      99.457649\n",
       "Y       0.486422\n",
       "NaN     0.055929\n",
       "Name: FW_OWNERSHIP_INTEREST, dtype: float64"
      ]
     },
     "execution_count": 806,
     "metadata": {},
     "output_type": "execute_result"
    }
   ],
   "source": [
    "(data['FW_OWNERSHIP_INTEREST'].value_counts(dropna=False) / data['FW_OWNERSHIP_INTEREST'].value_counts(dropna=False).sum()) * 100"
   ]
  },
  {
   "cell_type": "code",
   "execution_count": 807,
   "metadata": {},
   "outputs": [
    {
     "data": {
      "text/plain": [
       "12.370566623241652"
      ]
     },
     "execution_count": 807,
     "metadata": {},
     "output_type": "execute_result"
    }
   ],
   "source": [
    "data['AGENT_FIRM_NAME'].isnull().sum() / 341585 * 100"
   ]
  },
  {
   "cell_type": "code",
   "execution_count": 808,
   "metadata": {},
   "outputs": [
    {
     "data": {
      "text/plain": [
       "Y      99.980185\n",
       "N       0.015660\n",
       "NaN     0.004155\n",
       "Name: JI_OFFERED_TO_SEC_J_FW, dtype: float64"
      ]
     },
     "execution_count": 808,
     "metadata": {},
     "output_type": "execute_result"
    }
   ],
   "source": [
    "(data['JI_OFFERED_TO_SEC_J_FW'].value_counts(dropna=False) / data['JI_OFFERED_TO_SEC_J_FW'].value_counts(dropna=False).sum()) * 100"
   ]
  },
  {
   "cell_type": "code",
   "execution_count": 809,
   "metadata": {},
   "outputs": [
    {
     "data": {
      "text/plain": [
       "N      99.803130\n",
       "Y       0.137425\n",
       "NaN     0.059444\n",
       "Name: JI_FW_LIVE_ON_PREMISES, dtype: float64"
      ]
     },
     "execution_count": 809,
     "metadata": {},
     "output_type": "execute_result"
    }
   ],
   "source": [
    "(data['JI_FW_LIVE_ON_PREMISES'].value_counts(dropna=False) / data['JI_FW_LIVE_ON_PREMISES'].value_counts(dropna=False).sum()) * 100"
   ]
  },
  {
   "cell_type": "code",
   "execution_count": 810,
   "metadata": {},
   "outputs": [
    {
     "data": {
      "text/plain": [
       "N      99.86641\n",
       "Y       0.07862\n",
       "NaN     0.05497\n",
       "Name: JI_LIVE_IN_DOMESTIC_SERVICE, dtype: float64"
      ]
     },
     "execution_count": 810,
     "metadata": {},
     "output_type": "execute_result"
    }
   ],
   "source": [
    "(data['JI_LIVE_IN_DOMESTIC_SERVICE'].value_counts(dropna=False) / data['JI_LIVE_IN_DOMESTIC_SERVICE'].value_counts(dropna=False).sum()) * 100"
   ]
  },
  {
   "cell_type": "code",
   "execution_count": 811,
   "metadata": {},
   "outputs": [
    {
     "data": {
      "text/plain": [
       "NaN    98.966433\n",
       "A       0.909245\n",
       "Y       0.078301\n",
       "N       0.046022\n",
       "Name: JI_LIVE_IN_DOM_SVC_CONTRACT, dtype: float64"
      ]
     },
     "execution_count": 811,
     "metadata": {},
     "output_type": "execute_result"
    }
   ],
   "source": [
    "(data['JI_LIVE_IN_DOM_SVC_CONTRACT'].value_counts(dropna=False) / data['JI_LIVE_IN_DOM_SVC_CONTRACT'].value_counts(dropna=False).sum()) * 100"
   ]
  },
  {
   "cell_type": "code",
   "execution_count": 813,
   "metadata": {},
   "outputs": [
    {
     "data": {
      "text/plain": [
       "N      99.985938\n",
       "NaN     0.009907\n",
       "Y       0.004155\n",
       "Name: RECR_INFO_EMPLOYER_REC_PAYMENT, dtype: float64"
      ]
     },
     "execution_count": 813,
     "metadata": {},
     "output_type": "execute_result"
    }
   ],
   "source": [
    "(data['RECR_INFO_EMPLOYER_REC_PAYMENT'].value_counts(dropna=False) / data['RECR_INFO_EMPLOYER_REC_PAYMENT'].value_counts(dropna=False).sum()) * 100"
   ]
  },
  {
   "cell_type": "code",
   "execution_count": 814,
   "metadata": {},
   "outputs": [
    {
     "data": {
      "text/plain": [
       "N      96.258194\n",
       "Y       3.727105\n",
       "NaN     0.014701\n",
       "Name: RI_LAYOFF_IN_PAST_SIX_MONTHS, dtype: float64"
      ]
     },
     "execution_count": 814,
     "metadata": {},
     "output_type": "execute_result"
    }
   ],
   "source": [
    "(data['RI_LAYOFF_IN_PAST_SIX_MONTHS'].value_counts(dropna=False) / data['RI_LAYOFF_IN_PAST_SIX_MONTHS'].value_counts(dropna=False).sum()) * 100"
   ]
  },
  {
   "cell_type": "code",
   "execution_count": 815,
   "metadata": {},
   "outputs": [
    {
     "data": {
      "text/plain": [
       "NaN    93.128090\n",
       "Y       3.447780\n",
       "A       3.367881\n",
       "N       0.056249\n",
       "Name: RI_US_WORKERS_CONSIDERED, dtype: float64"
      ]
     },
     "execution_count": 815,
     "metadata": {},
     "output_type": "execute_result"
    }
   ],
   "source": [
    "(data['RI_US_WORKERS_CONSIDERED'].value_counts(dropna=False) / data['RI_US_WORKERS_CONSIDERED'].value_counts(dropna=False).sum()) * 100"
   ]
  },
  {
   "cell_type": "code",
   "execution_count": 816,
   "metadata": {},
   "outputs": [
    {
     "data": {
      "text/plain": [
       "NaN    97.007002\n",
       "N       2.667971\n",
       "Y       0.325027\n",
       "Name: RI_COLL_TCH_BASIC_PROCESS, dtype: float64"
      ]
     },
     "execution_count": 816,
     "metadata": {},
     "output_type": "execute_result"
    }
   ],
   "source": [
    "(data['RI_COLL_TCH_BASIC_PROCESS'].value_counts(dropna=False) / data['RI_COLL_TCH_BASIC_PROCESS'].value_counts(dropna=False).sum()) * 100"
   ]
  },
  {
   "cell_type": "markdown",
   "metadata": {},
   "source": [
    "## Education: required and of FW"
   ]
  },
  {
   "cell_type": "code",
   "execution_count": 817,
   "metadata": {},
   "outputs": [],
   "source": [
    "job_info = (data['JOB_INFO_EDUCATION'].value_counts(dropna=False) / data['JOB_INFO_EDUCATION'].value_counts(dropna=False).sum()) * 100"
   ]
  },
  {
   "cell_type": "code",
   "execution_count": 818,
   "metadata": {},
   "outputs": [],
   "source": [
    "tmp_pivot = pd.pivot_table(pd.DataFrame(job_info).reset_index(), columns = ['index'])"
   ]
  },
  {
   "cell_type": "code",
   "execution_count": 819,
   "metadata": {},
   "outputs": [],
   "source": [
    "tmp_pivot = tmp_pivot.reset_index()\n",
    "del tmp_pivot['index']"
   ]
  },
  {
   "cell_type": "code",
   "execution_count": 820,
   "metadata": {},
   "outputs": [
    {
     "data": {
      "image/png": "[encoded data removed]",
      "text/plain": [
       "<matplotlib.figure.Figure at 0x1a836234a8>"
      ]
     },
     "metadata": {},
     "output_type": "display_data"
    }
   ],
   "source": [
    "%matplotlib inline\n",
    "import matplotlib.pyplot as plt\n",
    "#ind_code_det = ind_code_det.set_index('Name')\n",
    "tmp_pivot.plot.bar(stacked=True)\n",
    "plt.xlabel(\"\")\n",
    "plt.savefig('Education degree mins.png')"
   ]
  },
  {
   "cell_type": "code",
   "execution_count": 821,
   "metadata": {},
   "outputs": [],
   "source": [
    "fw_info = (data['FOREIGN_WORKER_INFO_EDUCATION'].value_counts(dropna=False) / data['FOREIGN_WORKER_INFO_EDUCATION'].value_counts(dropna=False).sum()) * 100"
   ]
  },
  {
   "cell_type": "code",
   "execution_count": 822,
   "metadata": {},
   "outputs": [
    {
     "data": {
      "text/plain": [
       "Master's       42.759119\n",
       "Bachelor's     36.784309\n",
       "None            8.170420\n",
       "Doctorate       4.965532\n",
       "Other           4.241012\n",
       "High School     2.057226\n",
       "Associate's     0.957823\n",
       "NaN             0.064558\n",
       "Name: FOREIGN_WORKER_INFO_EDUCATION, dtype: float64"
      ]
     },
     "execution_count": 822,
     "metadata": {},
     "output_type": "execute_result"
    }
   ],
   "source": [
    "fw_info"
   ]
  },
  {
   "cell_type": "code",
   "execution_count": 823,
   "metadata": {},
   "outputs": [
    {
     "data": {
      "image/png": "[encoded data removed]",
      "text/plain": [
       "<matplotlib.figure.Figure at 0x1ac1e97400>"
      ]
     },
     "metadata": {},
     "output_type": "display_data"
    }
   ],
   "source": [
    "tmp_pivot2 = pd.pivot_table(pd.DataFrame(fw_info).reset_index(), columns = ['index'])\n",
    "tmp_pivot2 = tmp_pivot2.reset_index()\n",
    "del tmp_pivot2['index']\n",
    "%matplotlib inline\n",
    "import matplotlib.pyplot as plt\n",
    "#ind_code_det = ind_code_det.set_index('Name')\n",
    "tmp_pivot2.plot.bar(stacked=True)\n",
    "plt.xlabel(\"\")\n",
    "plt.savefig('Education degree of FW.png')"
   ]
  },
  {
   "cell_type": "markdown",
   "metadata": {},
   "source": [
    "## Prevailing wage and pay"
   ]
  },
  {
   "cell_type": "code",
   "execution_count": 824,
   "metadata": {
    "collapsed": true
   },
   "outputs": [],
   "source": [
    "tmp_wage = (data['PW_LEVEL_9089'].value_counts(dropna=False) / data['PW_LEVEL_9089'].value_counts(dropna=False).sum()) * 100\n",
    "#Level I entry\n",
    "#LEvel II qualified\n",
    "#Level III experienced\n",
    "#LEvel IV fully qualified"
   ]
  },
  {
   "cell_type": "code",
   "execution_count": 825,
   "metadata": {},
   "outputs": [
    {
     "data": {
      "text/plain": [
       "<matplotlib.axes._subplots.AxesSubplot at 0x1a149b6b38>"
      ]
     },
     "execution_count": 825,
     "metadata": {},
     "output_type": "execute_result"
    },
    {
     "data": {
      "image/png": "[encoded data removed]",
      "text/plain": [
       "<matplotlib.figure.Figure at 0x1a22b4e710>"
      ]
     },
     "metadata": {},
     "output_type": "display_data"
    }
   ],
   "source": [
    "%matplotlib inline\n",
    "import matplotlib.pyplot as plt\n",
    "#ind_code_det = ind_code_det.set_index('Name')\n",
    "tmp_wage.plot.barh()\n",
    "#plt.savefig('Industries.png')"
   ]
  },
  {
   "cell_type": "code",
   "execution_count": 826,
   "metadata": {},
   "outputs": [
    {
     "data": {
      "text/plain": [
       "Year         96.412877\n",
       "Hour          3.085360\n",
       "NaN           0.401090\n",
       "Week          0.057847\n",
       "Month         0.034197\n",
       "Bi-Weekly     0.008629\n",
       "Name: WAGE_OFFER_UNIT_OF_PAY_9089, dtype: float64"
      ]
     },
     "execution_count": 826,
     "metadata": {},
     "output_type": "execute_result"
    }
   ],
   "source": [
    "(data['WAGE_OFFER_UNIT_OF_PAY_9089'].value_counts(dropna=False) / data['WAGE_OFFER_UNIT_OF_PAY_9089'].value_counts(dropna=False).sum()) * 100"
   ]
  },
  {
   "cell_type": "code",
   "execution_count": 1198,
   "metadata": {},
   "outputs": [],
   "source": [
    "#For wages that have a to and from, Im just gonna take the average\n",
    "data_wage = data[['WAGE_OFFER_UNIT_OF_PAY_9089','WAGE_OFFER_FROM_9089','WAGE_OFFER_TO_9089','CASE_STATUS']]\n",
    "#cleaning up the wages\n",
    "#pd.to_numeric(data_wage['WAGE_OFFER_FROM_9089'])\n",
    "data['WAGE_OFFER_FROM_9089'] = data['WAGE_OFFER_FROM_9089'].apply(lambda word: str(word).replace(\"#\", \"\"))\n",
    "data['WAGE_OFFER_FROM_9089'] = data['WAGE_OFFER_FROM_9089'].apply(lambda word: str(word).replace(\",\", \"\"))\n",
    "data['WAGE_OFFER_FROM_9089'] = data['WAGE_OFFER_FROM_9089'].replace({\"nan\": np.NaN})\n",
    "data['WAGE_OFFER_FROM_9089'] = pd.to_numeric(data['WAGE_OFFER_FROM_9089'])\n",
    "data['WAGE_OFFER_TO_9089'] = data['WAGE_OFFER_TO_9089'].apply(lambda word: str(word).replace(\"#\", \"\"))\n",
    "data['WAGE_OFFER_TO_9089'] = data['WAGE_OFFER_TO_9089'].apply(lambda word: str(word).replace(\",\", \"\"))\n",
    "data['WAGE_OFFER_TO_9089'] = data['WAGE_OFFER_TO_9089'].replace({\"nan\": np.NaN})\n",
    "data['WAGE_OFFER_TO_9089'] = pd.to_numeric(data['WAGE_OFFER_TO_9089'])"
   ]
  },
  {
   "cell_type": "code",
   "execution_count": 1201,
   "metadata": {},
   "outputs": [],
   "source": [
    "#Getting average wage for to - from\n",
    "data['Avg_Wage'] = np.where(pd.isnull(data['WAGE_OFFER_TO_9089']) == True,data['WAGE_OFFER_FROM_9089'], ((data['WAGE_OFFER_TO_9089']+ data['WAGE_OFFER_FROM_9089']) / 2)) "
   ]
  },
  {
   "cell_type": "code",
   "execution_count": 1202,
   "metadata": {},
   "outputs": [],
   "source": [
    "data.WAGE_OFFER_UNIT_OF_PAY_9089.fillna('None', inplace=True)"
   ]
  },
  {
   "cell_type": "code",
   "execution_count": 1203,
   "metadata": {},
   "outputs": [],
   "source": [
    "data['WAGE_OFFER_UNIT_OF_PAY_9089'] = data['WAGE_OFFER_UNIT_OF_PAY_9089'].astype('str') "
   ]
  },
  {
   "cell_type": "code",
   "execution_count": 1204,
   "metadata": {},
   "outputs": [],
   "source": [
    "data['unit'] = data['WAGE_OFFER_UNIT_OF_PAY_9089']\n",
    "data['unit'] = data['unit'].replace({\"Hour\": 2080, \"Week\":52,\"Month\":12,\"Bi-Weekly\":26,\"Year\":1,\"None\":np.NaN})\n",
    "data['unit'] = pd.to_numeric(data['unit'])"
   ]
  },
  {
   "cell_type": "code",
   "execution_count": 1205,
   "metadata": {},
   "outputs": [],
   "source": [
    "data['Year_wage_offer'] = data['Avg_Wage'] * data['unit']"
   ]
  },
  {
   "cell_type": "code",
   "execution_count": 1162,
   "metadata": {
    "collapsed": true
   },
   "outputs": [],
   "source": [
    "prev_wage = data[['CASE_NUMBER','PW_AMOUNT_9089','PW_UNIT_OF_PAY_9089','PW_LEVEL_9089','PW_SOC_CODE']]"
   ]
  },
  {
   "cell_type": "code",
   "execution_count": 1208,
   "metadata": {},
   "outputs": [],
   "source": [
    "data['PW_AMOUNT_9089'] = data['PW_AMOUNT_9089'].apply(lambda word: str(word).replace(\"#\", \"\"))\n",
    "data['PW_AMOUNT_9089'] = data['PW_AMOUNT_9089'].apply(lambda word: str(word).replace(\",\", \"\"))\n",
    "data['PW_AMOUNT_9089'] = data['PW_AMOUNT_9089'].replace({\"nan\": np.NaN})\n",
    "data['PW_AMOUNT_9089'] = pd.to_numeric(data['PW_AMOUNT_9089'])"
   ]
  },
  {
   "cell_type": "code",
   "execution_count": 1209,
   "metadata": {
    "collapsed": true
   },
   "outputs": [],
   "source": [
    "data['unit_pw'] = data['PW_UNIT_OF_PAY_9089']\n",
    "data['unit_pw'] = data['unit_pw'].replace({\"Hour\": 2080, \"Week\":52,\"Month\":12,\"Bi-Weekly\":26,\"Year\":1,\"None\":np.NaN})\n",
    "data['unit_pw'] = pd.to_numeric(data['unit_pw'])"
   ]
  },
  {
   "cell_type": "code",
   "execution_count": 1210,
   "metadata": {
    "collapsed": true
   },
   "outputs": [],
   "source": [
    "data['Year_wage_pw'] = data['PW_AMOUNT_9089'] * data['unit_pw']"
   ]
  },
  {
   "cell_type": "code",
   "execution_count": 1211,
   "metadata": {},
   "outputs": [],
   "source": [
    "data['Ind_code'] = data['PW_SOC_CODE'].apply(lambda num: str(num)[:2])"
   ]
  },
  {
   "cell_type": "code",
   "execution_count": 1335,
   "metadata": {
    "collapsed": true
   },
   "outputs": [],
   "source": [
    "data['Wage_level'] =  data['PW_LEVEL_9089'].replace({\"Level I\": 1, \"Level II\": 2, \"Level III\":3,\"Level IV\":4}) \n",
    "data['Wage_level'] = data['Wage_level'].fillna(\"None\")\n"
   ]
  },
  {
   "cell_type": "code",
   "execution_count": 1338,
   "metadata": {},
   "outputs": [],
   "source": [
    "norm_wage = pd.DataFrame(data.groupby(['Ind_code','Wage_level'])['Year_wage_pw'].median())\n",
    "norm_wage.columns= [\"Median_pw\"]\n",
    "data['Year_wage_pw'] = data['Year_wage_pw'].fillna(data.merge(norm_wage, how = \"left\", left_on = ['Ind_code','Wage_level'], right_index = True)['Median_pw'])"
   ]
  },
  {
   "cell_type": "code",
   "execution_count": 1347,
   "metadata": {
    "scrolled": true
   },
   "outputs": [],
   "source": [
    "norm_wage_off = pd.DataFrame(data.groupby(['Ind_code','Wage_level'])['Year_wage_offer'].median())\n",
    "norm_wage_off.columns= [\"Median_offer\"]\n",
    "data['Year_wage_offer'] = data['Year_wage_offer'].fillna(data.merge(norm_wage_off, how = \"left\", left_on = ['Ind_code','Wage_level'], right_index = True)['Median_offer'])"
   ]
  },
  {
   "cell_type": "code",
   "execution_count": 1350,
   "metadata": {},
   "outputs": [],
   "source": [
    "wage_graph = data[['Ind_code','Wage_level','Year_wage_offer','Year_wage_pw']]"
   ]
  },
  {
   "cell_type": "code",
   "execution_count": 1361,
   "metadata": {
    "collapsed": true
   },
   "outputs": [],
   "source": [
    "wage_graph['Wage_diff'] = wage_graph['Year_wage_offer'] - wage_graph['Year_wage_pw']"
   ]
  },
  {
   "cell_type": "code",
   "execution_count": 1384,
   "metadata": {
    "collapsed": true
   },
   "outputs": [],
   "source": [
    "wage_dif = pd.DataFrame(wage_graph.groupby(['Ind_code','Wage_level'])['Wage_diff'].median())"
   ]
  },
  {
   "cell_type": "code",
   "execution_count": 1385,
   "metadata": {},
   "outputs": [],
   "source": [
    "wage_dif = wage_dif.reset_index()"
   ]
  },
  {
   "cell_type": "code",
   "execution_count": 1380,
   "metadata": {
    "collapsed": true
   },
   "outputs": [
    {
     "data": {
      "text/html": [
       "<div>\n",
       "<style>\n",
       "    .dataframe thead tr:only-child th {\n",
       "        text-align: right;\n",
       "    }\n",
       "\n",
       "    .dataframe thead th {\n",
       "        text-align: left;\n",
       "    }\n",
       "\n",
       "    .dataframe tbody tr th {\n",
       "        vertical-align: top;\n",
       "    }\n",
       "</style>\n",
       "<table border=\"1\" class=\"dataframe\">\n",
       "  <thead>\n",
       "    <tr style=\"text-align: right;\">\n",
       "      <th></th>\n",
       "      <th>Wage_level</th>\n",
       "      <th>Ind_code</th>\n",
       "    </tr>\n",
       "  </thead>\n",
       "  <tbody>\n",
       "    <tr>\n",
       "      <th>0</th>\n",
       "      <td>1</td>\n",
       "      <td>11</td>\n",
       "    </tr>\n",
       "    <tr>\n",
       "      <th>1</th>\n",
       "      <td>2</td>\n",
       "      <td>11</td>\n",
       "    </tr>\n",
       "    <tr>\n",
       "      <th>2</th>\n",
       "      <td>3</td>\n",
       "      <td>11</td>\n",
       "    </tr>\n",
       "    <tr>\n",
       "      <th>3</th>\n",
       "      <td>4</td>\n",
       "      <td>11</td>\n",
       "    </tr>\n",
       "    <tr>\n",
       "      <th>4</th>\n",
       "      <td>None</td>\n",
       "      <td>11</td>\n",
       "    </tr>\n",
       "    <tr>\n",
       "      <th>5</th>\n",
       "      <td>1</td>\n",
       "      <td>13</td>\n",
       "    </tr>\n",
       "    <tr>\n",
       "      <th>6</th>\n",
       "      <td>2</td>\n",
       "      <td>13</td>\n",
       "    </tr>\n",
       "    <tr>\n",
       "      <th>7</th>\n",
       "      <td>3</td>\n",
       "      <td>13</td>\n",
       "    </tr>\n",
       "    <tr>\n",
       "      <th>8</th>\n",
       "      <td>4</td>\n",
       "      <td>13</td>\n",
       "    </tr>\n",
       "    <tr>\n",
       "      <th>9</th>\n",
       "      <td>None</td>\n",
       "      <td>13</td>\n",
       "    </tr>\n",
       "    <tr>\n",
       "      <th>10</th>\n",
       "      <td>1</td>\n",
       "      <td>15</td>\n",
       "    </tr>\n",
       "    <tr>\n",
       "      <th>11</th>\n",
       "      <td>2</td>\n",
       "      <td>15</td>\n",
       "    </tr>\n",
       "    <tr>\n",
       "      <th>12</th>\n",
       "      <td>3</td>\n",
       "      <td>15</td>\n",
       "    </tr>\n",
       "    <tr>\n",
       "      <th>13</th>\n",
       "      <td>4</td>\n",
       "      <td>15</td>\n",
       "    </tr>\n",
       "    <tr>\n",
       "      <th>14</th>\n",
       "      <td>None</td>\n",
       "      <td>15</td>\n",
       "    </tr>\n",
       "    <tr>\n",
       "      <th>15</th>\n",
       "      <td>1</td>\n",
       "      <td>17</td>\n",
       "    </tr>\n",
       "    <tr>\n",
       "      <th>16</th>\n",
       "      <td>2</td>\n",
       "      <td>17</td>\n",
       "    </tr>\n",
       "    <tr>\n",
       "      <th>17</th>\n",
       "      <td>3</td>\n",
       "      <td>17</td>\n",
       "    </tr>\n",
       "    <tr>\n",
       "      <th>18</th>\n",
       "      <td>4</td>\n",
       "      <td>17</td>\n",
       "    </tr>\n",
       "    <tr>\n",
       "      <th>19</th>\n",
       "      <td>None</td>\n",
       "      <td>17</td>\n",
       "    </tr>\n",
       "    <tr>\n",
       "      <th>20</th>\n",
       "      <td>1</td>\n",
       "      <td>19</td>\n",
       "    </tr>\n",
       "    <tr>\n",
       "      <th>21</th>\n",
       "      <td>2</td>\n",
       "      <td>19</td>\n",
       "    </tr>\n",
       "    <tr>\n",
       "      <th>22</th>\n",
       "      <td>3</td>\n",
       "      <td>19</td>\n",
       "    </tr>\n",
       "    <tr>\n",
       "      <th>23</th>\n",
       "      <td>4</td>\n",
       "      <td>19</td>\n",
       "    </tr>\n",
       "    <tr>\n",
       "      <th>24</th>\n",
       "      <td>None</td>\n",
       "      <td>19</td>\n",
       "    </tr>\n",
       "    <tr>\n",
       "      <th>25</th>\n",
       "      <td>1</td>\n",
       "      <td>20</td>\n",
       "    </tr>\n",
       "    <tr>\n",
       "      <th>26</th>\n",
       "      <td>2</td>\n",
       "      <td>20</td>\n",
       "    </tr>\n",
       "    <tr>\n",
       "      <th>27</th>\n",
       "      <td>3</td>\n",
       "      <td>20</td>\n",
       "    </tr>\n",
       "    <tr>\n",
       "      <th>28</th>\n",
       "      <td>4</td>\n",
       "      <td>20</td>\n",
       "    </tr>\n",
       "    <tr>\n",
       "      <th>29</th>\n",
       "      <td>None</td>\n",
       "      <td>20</td>\n",
       "    </tr>\n",
       "    <tr>\n",
       "      <th>...</th>\n",
       "      <td>...</td>\n",
       "      <td>...</td>\n",
       "    </tr>\n",
       "    <tr>\n",
       "      <th>103</th>\n",
       "      <td>1</td>\n",
       "      <td>49</td>\n",
       "    </tr>\n",
       "    <tr>\n",
       "      <th>104</th>\n",
       "      <td>2</td>\n",
       "      <td>49</td>\n",
       "    </tr>\n",
       "    <tr>\n",
       "      <th>105</th>\n",
       "      <td>3</td>\n",
       "      <td>49</td>\n",
       "    </tr>\n",
       "    <tr>\n",
       "      <th>106</th>\n",
       "      <td>4</td>\n",
       "      <td>49</td>\n",
       "    </tr>\n",
       "    <tr>\n",
       "      <th>107</th>\n",
       "      <td>None</td>\n",
       "      <td>49</td>\n",
       "    </tr>\n",
       "    <tr>\n",
       "      <th>108</th>\n",
       "      <td>1</td>\n",
       "      <td>51</td>\n",
       "    </tr>\n",
       "    <tr>\n",
       "      <th>109</th>\n",
       "      <td>2</td>\n",
       "      <td>51</td>\n",
       "    </tr>\n",
       "    <tr>\n",
       "      <th>110</th>\n",
       "      <td>3</td>\n",
       "      <td>51</td>\n",
       "    </tr>\n",
       "    <tr>\n",
       "      <th>111</th>\n",
       "      <td>4</td>\n",
       "      <td>51</td>\n",
       "    </tr>\n",
       "    <tr>\n",
       "      <th>112</th>\n",
       "      <td>None</td>\n",
       "      <td>51</td>\n",
       "    </tr>\n",
       "    <tr>\n",
       "      <th>113</th>\n",
       "      <td>1</td>\n",
       "      <td>53</td>\n",
       "    </tr>\n",
       "    <tr>\n",
       "      <th>114</th>\n",
       "      <td>2</td>\n",
       "      <td>53</td>\n",
       "    </tr>\n",
       "    <tr>\n",
       "      <th>115</th>\n",
       "      <td>3</td>\n",
       "      <td>53</td>\n",
       "    </tr>\n",
       "    <tr>\n",
       "      <th>116</th>\n",
       "      <td>4</td>\n",
       "      <td>53</td>\n",
       "    </tr>\n",
       "    <tr>\n",
       "      <th>117</th>\n",
       "      <td>None</td>\n",
       "      <td>53</td>\n",
       "    </tr>\n",
       "    <tr>\n",
       "      <th>118</th>\n",
       "      <td>1</td>\n",
       "      <td>90</td>\n",
       "    </tr>\n",
       "    <tr>\n",
       "      <th>119</th>\n",
       "      <td>2</td>\n",
       "      <td>90</td>\n",
       "    </tr>\n",
       "    <tr>\n",
       "      <th>120</th>\n",
       "      <td>3</td>\n",
       "      <td>90</td>\n",
       "    </tr>\n",
       "    <tr>\n",
       "      <th>121</th>\n",
       "      <td>4</td>\n",
       "      <td>90</td>\n",
       "    </tr>\n",
       "    <tr>\n",
       "      <th>122</th>\n",
       "      <td>None</td>\n",
       "      <td>90</td>\n",
       "    </tr>\n",
       "    <tr>\n",
       "      <th>123</th>\n",
       "      <td>1</td>\n",
       "      <td>91</td>\n",
       "    </tr>\n",
       "    <tr>\n",
       "      <th>124</th>\n",
       "      <td>2</td>\n",
       "      <td>91</td>\n",
       "    </tr>\n",
       "    <tr>\n",
       "      <th>125</th>\n",
       "      <td>3</td>\n",
       "      <td>91</td>\n",
       "    </tr>\n",
       "    <tr>\n",
       "      <th>126</th>\n",
       "      <td>4</td>\n",
       "      <td>91</td>\n",
       "    </tr>\n",
       "    <tr>\n",
       "      <th>127</th>\n",
       "      <td>None</td>\n",
       "      <td>91</td>\n",
       "    </tr>\n",
       "    <tr>\n",
       "      <th>128</th>\n",
       "      <td>1</td>\n",
       "      <td>na</td>\n",
       "    </tr>\n",
       "    <tr>\n",
       "      <th>129</th>\n",
       "      <td>2</td>\n",
       "      <td>na</td>\n",
       "    </tr>\n",
       "    <tr>\n",
       "      <th>130</th>\n",
       "      <td>3</td>\n",
       "      <td>na</td>\n",
       "    </tr>\n",
       "    <tr>\n",
       "      <th>131</th>\n",
       "      <td>4</td>\n",
       "      <td>na</td>\n",
       "    </tr>\n",
       "    <tr>\n",
       "      <th>132</th>\n",
       "      <td>None</td>\n",
       "      <td>na</td>\n",
       "    </tr>\n",
       "  </tbody>\n",
       "</table>\n",
       "<p>133 rows × 2 columns</p>\n",
       "</div>"
      ],
      "text/plain": [
       "    Wage_level Ind_code\n",
       "0            1       11\n",
       "1            2       11\n",
       "2            3       11\n",
       "3            4       11\n",
       "4         None       11\n",
       "5            1       13\n",
       "6            2       13\n",
       "7            3       13\n",
       "8            4       13\n",
       "9         None       13\n",
       "10           1       15\n",
       "11           2       15\n",
       "12           3       15\n",
       "13           4       15\n",
       "14        None       15\n",
       "15           1       17\n",
       "16           2       17\n",
       "17           3       17\n",
       "18           4       17\n",
       "19        None       17\n",
       "20           1       19\n",
       "21           2       19\n",
       "22           3       19\n",
       "23           4       19\n",
       "24        None       19\n",
       "25           1       20\n",
       "26           2       20\n",
       "27           3       20\n",
       "28           4       20\n",
       "29        None       20\n",
       "..         ...      ...\n",
       "103          1       49\n",
       "104          2       49\n",
       "105          3       49\n",
       "106          4       49\n",
       "107       None       49\n",
       "108          1       51\n",
       "109          2       51\n",
       "110          3       51\n",
       "111          4       51\n",
       "112       None       51\n",
       "113          1       53\n",
       "114          2       53\n",
       "115          3       53\n",
       "116          4       53\n",
       "117       None       53\n",
       "118          1       90\n",
       "119          2       90\n",
       "120          3       90\n",
       "121          4       90\n",
       "122       None       90\n",
       "123          1       91\n",
       "124          2       91\n",
       "125          3       91\n",
       "126          4       91\n",
       "127       None       91\n",
       "128          1       na\n",
       "129          2       na\n",
       "130          3       na\n",
       "131          4       na\n",
       "132       None       na\n",
       "\n",
       "[133 rows x 2 columns]"
      ]
     },
     "execution_count": 1380,
     "metadata": {},
     "output_type": "execute_result"
    }
   ],
   "source": [
    "wage_dif[['Wage_level','Ind_code']]"
   ]
  },
  {
   "cell_type": "code",
   "execution_count": 1386,
   "metadata": {},
   "outputs": [],
   "source": [
    "wage_dif['Wage_level'] = np.where(wage_dif['Wage_level'] == 'None', 0,wage_dif['Wage_level'])"
   ]
  },
  {
   "cell_type": "code",
   "execution_count": 1409,
   "metadata": {},
   "outputs": [],
   "source": [
    "a = wage_dif[wage_dif['Ind_code'] == '11']\n",
    "b = wage_dif[wage_dif['Ind_code'] == '13']\n",
    "c = wage_dif[wage_dif['Ind_code'] == '15']\n",
    "d = wage_dif[wage_dif['Ind_code'] == '17']\n",
    "e = wage_dif[wage_dif['Ind_code'] == '19']\n",
    "f = wage_dif[wage_dif['Ind_code'] == '20']\n",
    "g = wage_dif[wage_dif['Ind_code'] == '21']\n",
    "h = wage_dif[wage_dif['Ind_code'] == '23']\n",
    "i = wage_dif[wage_dif['Ind_code'] == '25']\n",
    "j = wage_dif[wage_dif['Ind_code'] == '27']\n",
    "k = wage_dif[wage_dif['Ind_code'] == '29']\n",
    "l = wage_dif[wage_dif['Ind_code'] == '30']\n",
    "m = wage_dif[wage_dif['Ind_code'] == '31']\n",
    "n = wage_dif[wage_dif['Ind_code'] == '33']\n",
    "o = wage_dif[wage_dif['Ind_code'] == '35']\n",
    "p = wage_dif[wage_dif['Ind_code'] == '37']\n",
    "q = wage_dif[wage_dif['Ind_code'] == '39']\n",
    "r = wage_dif[wage_dif['Ind_code'] == '41']\n",
    "s = wage_dif[wage_dif['Ind_code'] == '43']\n",
    "t = wage_dif[wage_dif['Ind_code'] == '45']\n",
    "u = wage_dif[wage_dif['Ind_code'] == '47']\n",
    "v = wage_dif[wage_dif['Ind_code'] == '49']\n",
    "w = wage_dif[wage_dif['Ind_code'] == '51']\n",
    "x = wage_dif[wage_dif['Ind_code'] == '53']\n",
    "y = wage_dif[wage_dif['Ind_code'] == '90']\n",
    "z = wage_dif[wage_dif['Ind_code'] == '91']\n",
    "aa = wage_dif[wage_dif['Ind_code'] == 'na']\n"
   ]
  },
  {
   "cell_type": "code",
   "execution_count": 1388,
   "metadata": {},
   "outputs": [
    {
     "data": {
      "text/html": [
       "<div>\n",
       "<style>\n",
       "    .dataframe thead tr:only-child th {\n",
       "        text-align: right;\n",
       "    }\n",
       "\n",
       "    .dataframe thead th {\n",
       "        text-align: left;\n",
       "    }\n",
       "\n",
       "    .dataframe tbody tr th {\n",
       "        vertical-align: top;\n",
       "    }\n",
       "</style>\n",
       "<table border=\"1\" class=\"dataframe\">\n",
       "  <thead>\n",
       "    <tr style=\"text-align: right;\">\n",
       "      <th></th>\n",
       "      <th>Ind_code</th>\n",
       "      <th>Wage_level</th>\n",
       "      <th>Wage_diff</th>\n",
       "    </tr>\n",
       "  </thead>\n",
       "  <tbody>\n",
       "    <tr>\n",
       "      <th>0</th>\n",
       "      <td>11</td>\n",
       "      <td>1</td>\n",
       "      <td>0.0</td>\n",
       "    </tr>\n",
       "    <tr>\n",
       "      <th>1</th>\n",
       "      <td>11</td>\n",
       "      <td>2</td>\n",
       "      <td>309.0</td>\n",
       "    </tr>\n",
       "    <tr>\n",
       "      <th>2</th>\n",
       "      <td>11</td>\n",
       "      <td>3</td>\n",
       "      <td>0.0</td>\n",
       "    </tr>\n",
       "    <tr>\n",
       "      <th>3</th>\n",
       "      <td>11</td>\n",
       "      <td>4</td>\n",
       "      <td>1.0</td>\n",
       "    </tr>\n",
       "    <tr>\n",
       "      <th>4</th>\n",
       "      <td>11</td>\n",
       "      <td>0</td>\n",
       "      <td>13177.0</td>\n",
       "    </tr>\n",
       "  </tbody>\n",
       "</table>\n",
       "</div>"
      ],
      "text/plain": [
       "  Ind_code Wage_level  Wage_diff\n",
       "0       11          1        0.0\n",
       "1       11          2      309.0\n",
       "2       11          3        0.0\n",
       "3       11          4        1.0\n",
       "4       11          0    13177.0"
      ]
     },
     "execution_count": 1388,
     "metadata": {},
     "output_type": "execute_result"
    }
   ],
   "source": [
    "el"
   ]
  },
  {
   "cell_type": "code",
   "execution_count": 1400,
   "metadata": {},
   "outputs": [],
   "source": [
    "wage_dif['Wage_level'] = wage_dif['Wage_level'].replace({1:'Level 1', 2:'Level 2',3:'Level 3',4:'Level 4',0:\"No level\"})"
   ]
  },
  {
   "cell_type": "code",
   "execution_count": 1408,
   "metadata": {},
   "outputs": [
    {
     "data": {
      "text/plain": [
       "array(['11', '13', '15', '17', '19', '20', '21', '23', '25', '27', '29',\n",
       "       '30', '31', '33', '35', '37', '39', '41', '43', '45', '47', '49',\n",
       "       '51', '53', '90', '91', 'na'], dtype=object)"
      ]
     },
     "execution_count": 1408,
     "metadata": {},
     "output_type": "execute_result"
    }
   ],
   "source": [
    "wage_dif['Ind_code'].unique()"
   ]
  },
  {
   "cell_type": "code",
   "execution_count": 1422,
   "metadata": {},
   "outputs": [
    {
     "data": {
      "image/png": "[encoded data removed]",
      "text/plain": [
       "<matplotlib.figure.Figure at 0x1b14a8c470>"
      ]
     },
     "metadata": {},
     "output_type": "display_data"
    }
   ],
   "source": [
    "import matplotlib.pyplot as plt\n",
    "import numpy as np\n",
    "\n",
    "\n",
    "fig, ax = plt.subplots()\n",
    "ax.plot(a['Wage_level'], a['Wage_diff'], label = '11')\n",
    "ax.plot(b['Wage_level'], b['Wage_diff'], label = '13')\n",
    "ax.plot(c['Wage_level'], c['Wage_diff'], label = '15')\n",
    "ax.plot(d['Wage_level'], d['Wage_diff'], label = '17')\n",
    "ax.plot(e['Wage_level'], e['Wage_diff'], label = '19')\n",
    "ax.plot(f['Wage_level'], f['Wage_diff'], label = '20')\n",
    "ax.plot(g['Wage_level'], g['Wage_diff'], label = '21')\n",
    "ax.plot(h['Wage_level'], h['Wage_diff'], label = '23')\n",
    "ax.plot(i['Wage_level'], i['Wage_diff'], label = '25')\n",
    "ax.plot(j['Wage_level'], j['Wage_diff'], label = '27')\n",
    "ax.plot(k['Wage_level'], k['Wage_diff'], label = '29')\n",
    "ax.plot(l['Wage_level'], l['Wage_diff'], label = '30')\n",
    "ax.plot(m['Wage_level'], m['Wage_diff'], label = '31')\n",
    "ax.plot(n['Wage_level'], n['Wage_diff'], label = '33')\n",
    "ax.plot(o['Wage_level'], o['Wage_diff'], label = '35')\n",
    "ax.plot(p['Wage_level'], p['Wage_diff'], label = '37')\n",
    "ax.plot(q['Wage_level'], q['Wage_diff'], label = '39')\n",
    "ax.plot(r['Wage_level'], r['Wage_diff'], label = '41')\n",
    "ax.plot(s['Wage_level'], s['Wage_diff'], label = '43')\n",
    "ax.plot(t['Wage_level'], t['Wage_diff'], label = '45')\n",
    "ax.plot(u['Wage_level'], a['Wage_diff'], label = '47')\n",
    "ax.plot(v['Wage_level'], a['Wage_diff'], label = '49')\n",
    "ax.plot(w['Wage_level'], a['Wage_diff'], label = '51')\n",
    "ax.plot(x['Wage_level'], a['Wage_diff'], label = '53')\n",
    "ax.plot(y['Wage_level'], a['Wage_diff'], label = '90')\n",
    "ax.plot(z['Wage_level'], a['Wage_diff'], label = '91')\n",
    "ax.plot(aa['Wage_level'], a['Wage_diff'], label = 'na')\n",
    "\n",
    "\n",
    "\n",
    "fig_size = plt.rcParams[\"figure.figsize\"]\n",
    "fig_size[0] = 12\n",
    "fig_size[1] = 9\n",
    "plt.rcParams[\"figure.figsize\"] = fig_size\n",
    "#plt.xticks(el['Wage_level'].unique(), x_axis, size='small')\n",
    "ax.legend()\n",
    "#legend(ncols = 3)\n",
    "plt.show()"
   ]
  },
  {
   "cell_type": "code",
   "execution_count": 862,
   "metadata": {},
   "outputs": [],
   "source": [
    "def is_outlier(points, thresh=3.5):\n",
    "    \"\"\"\n",
    "    Returns a boolean array with True if points are outliers and False \n",
    "    otherwise.\n",
    "\n",
    "    Parameters:\n",
    "    -----------\n",
    "        points : An numobservations by numdimensions array of observations\n",
    "        thresh : The modified z-score to use as a threshold. Observations with\n",
    "            a modified z-score (based on the median absolute deviation) greater\n",
    "            than this value will be classified as outliers.\n",
    "\n",
    "    Returns:\n",
    "    --------\n",
    "        mask : A numobservations-length boolean array.\n",
    "\n",
    "    References:\n",
    "    ----------\n",
    "        Boris Iglewicz and David Hoaglin (1993), \"Volume 16: How to Detect and\n",
    "        Handle Outliers\", The ASQC Basic References in Quality Control:\n",
    "        Statistical Techniques, Edward F. Mykytka, Ph.D., Editor. \n",
    "    \"\"\"\n",
    "    if len(points.shape) == 1:\n",
    "        points = points[:,None]\n",
    "    median = np.median(points, axis=0)\n",
    "    diff = np.sum((points - median)**2, axis=-1)\n",
    "    diff = np.sqrt(diff)\n",
    "    med_abs_deviation = np.median(diff)\n",
    "\n",
    "    modified_z_score = 0.6745 * diff / med_abs_deviation\n",
    "\n",
    "    return modified_z_score > thresh"
   ]
  },
  {
   "cell_type": "code",
   "execution_count": 863,
   "metadata": {},
   "outputs": [],
   "source": [
    "dolas = np.asarray(list(data_wage['Year_wage'].dropna()))\n",
    "filtered = dolas[~is_outlier(dolas)]"
   ]
  },
  {
   "cell_type": "code",
   "execution_count": 626,
   "metadata": {},
   "outputs": [
    {
     "data": {
      "text/plain": [
       "(340280,)"
      ]
     },
     "execution_count": 626,
     "metadata": {},
     "output_type": "execute_result"
    }
   ],
   "source": [
    "dolas.shape"
   ]
  },
  {
   "cell_type": "code",
   "execution_count": 1174,
   "metadata": {},
   "outputs": [
    {
     "data": {
      "text/plain": [
       "array([  93000.,   90459.,  175000., ...,  155147.,  155147.,   40082.])"
      ]
     },
     "execution_count": 1174,
     "metadata": {},
     "output_type": "execute_result"
    }
   ],
   "source": [
    "filtered"
   ]
  },
  {
   "cell_type": "code",
   "execution_count": 864,
   "metadata": {
    "collapsed": true
   },
   "outputs": [],
   "source": [
    "\n",
    "def to_percent(y, position):\n",
    "    # Ignore the passed in position. This has the effect of scaling the default\n",
    "    # tick locations.\n",
    "    s = str(np.round(( y / 335941) * 100))\n",
    "\n",
    "    # The percent symbol needs escaping in latex\n",
    "    if matplotlib.rcParams['text.usetex'] is True:\n",
    "        return s + r'$\\%$'\n",
    "    else:\n",
    "        return s + '%'\n",
    "\n",
    "# Create the formatter using the function to_percent. This multiplies all the\n",
    "# default labels by 100, making them all percentages\n",
    "\n",
    "\n",
    "# Set the formatter\n"
   ]
  },
  {
   "cell_type": "code",
   "execution_count": 865,
   "metadata": {
    "collapsed": true
   },
   "outputs": [],
   "source": [
    "import matplotlib\n",
    "from numpy.random import randn\n",
    "import matplotlib.pyplot as plt\n",
    "def getHistogram(title):\n",
    "    plt.hist(filtered)\n",
    "    plt.title(title)\n",
    "    plt.xlabel(\"Yearly wage\")\n",
    "    plt.ylabel(\"Frequency\")\n",
    "    formatter = FuncFormatter(to_percent)\n",
    "    plt.gca().yaxis.set_major_formatter(formatter)\n",
    "    fig = plt.gcf()"
   ]
  },
  {
   "cell_type": "code",
   "execution_count": 866,
   "metadata": {},
   "outputs": [
    {
     "data": {
      "image/png": "[encoded data removed]",
      "text/plain": [
       "<matplotlib.figure.Figure at 0x1ac1fa3080>"
      ]
     },
     "metadata": {},
     "output_type": "display_data"
    }
   ],
   "source": [
    "getHistogram(\"Wages\")"
   ]
  },
  {
   "cell_type": "markdown",
   "metadata": {},
   "source": [
    "## Country of Applicant"
   ]
  },
  {
   "cell_type": "code",
   "execution_count": 829,
   "metadata": {},
   "outputs": [],
   "source": [
    "tmp_ctry = (data['COUNTRY_OF_CITIZENSHIP'].value_counts(dropna=False) / data['COUNTRY_OF_CITIZENSHIP'].value_counts(dropna=False).sum()) * 100"
   ]
  },
  {
   "cell_type": "code",
   "execution_count": 830,
   "metadata": {},
   "outputs": [
    {
     "data": {
      "image/png": "[encoded data removed]",
      "text/plain": [
       "<matplotlib.figure.Figure at 0x1ad722ebe0>"
      ]
     },
     "metadata": {},
     "output_type": "display_data"
    }
   ],
   "source": [
    "%matplotlib inline\n",
    "import matplotlib.pyplot as plt\n",
    "#ind_code_det = ind_code_det.set_index('Name')\n",
    "tmp_ctry.head(n=10).plot.barh()\n",
    "plt.tight_layout()\n",
    "plt.savefig(\"Country.png\")"
   ]
  },
  {
   "cell_type": "code",
   "execution_count": 164,
   "metadata": {
    "collapsed": true
   },
   "outputs": [
    {
     "data": {
      "text/plain": [
       "NaN                                                                                                     96.784988\n",
       "MD                                                                                                       0.318515\n",
       "Medical Degree                                                                                           0.316759\n",
       "M.D.                                                                                                     0.241521\n",
       "Medical Degree or foreign equivalent                                                                     0.091924\n",
       "Medical degree                                                                                           0.091632\n",
       "Doctor of Medicine                                                                                       0.055330\n",
       "Juris Doctor                                                                                             0.052403\n",
       "Medical Degree (MD)                                                                                      0.050646\n",
       "MEDICAL DEGREE                                                                                           0.046255\n",
       "M.D. or D.O.                                                                                             0.041571\n",
       "Medical Degree (M.D.)                                                                                    0.038936\n",
       "DDS or DMD                                                                                               0.033374\n",
       "M.D. or foreign equivalent                                                                               0.033081\n",
       "MD or DO                                                                                                 0.032203\n",
       "Medical Doctor                                                                                           0.031617\n",
       "JD                                                                                                       0.030446\n",
       "M.D. Degree                                                                                              0.030154\n",
       "M.D. (Doctor of Medicine)                                                                                0.029861\n",
       "DVM                                                                                                      0.025470\n",
       "MEDICAL DEGREE OR EQUIVALENT                                                                             0.020493\n",
       "MD, DO                                                                                                   0.020200\n",
       "Doctor of Pharmacy                                                                                       0.019614\n",
       "Bachelor's Degree or equivalent in education,training and/or experience                                  0.019614\n",
       "Doctor of Medicine (MD)                                                                                  0.019029\n",
       "M.D., D.O. or foreign equivalent                                                                         0.018736\n",
       "DDS                                                                                                      0.018443\n",
       "First Professional Medical Degree                                                                        0.017565\n",
       "Doctor of Dental Surgery                                                                                 0.014345\n",
       "See H.14                                                                                                 0.014052\n",
       "                                                                                                          ...    \n",
       "LL. M. (ABA approved U.S. law school                                                                     0.000293\n",
       "Doctor (DDS or DMD)                                                                                      0.000293\n",
       "See H-14                                                                                                 0.000293\n",
       "Continued in H.14                                                                                        0.000293\n",
       "Pharm. D.                                                                                                0.000293\n",
       "Medical degree (MD)                                                                                      0.000293\n",
       "Three years of College Education                                                                         0.000293\n",
       "ABD by date of hire                                                                                      0.000293\n",
       "LL.M. or J.D.                                                                                            0.000293\n",
       "Juris Doctor (J.D.) or foreign equivalent                                                                0.000293\n",
       "Bachelor's and Master's                                                                                  0.000293\n",
       "JD, or Master of Laws                                                                                    0.000293\n",
       "Doctor of Medicine, Doctor of Osteopathic Medicine, or FDE                                               0.000293\n",
       "Doctorate                                                                                                0.000293\n",
       "Doctor of Pharmacy Degree or BS Pharmacy with 5-years exp.                                               0.000293\n",
       "Two (2) years of academic study                                                                          0.000293\n",
       "D.D.S (Doctor of Dental Surgery) or D.M.D (Doctor of Dental Medicine)                                    0.000293\n",
       "LLM from an accredited US law school                                                                     0.000293\n",
       "LICENSED IN COSMETOLOGY                                                                                  0.000293\n",
       "-------------                                                                                            0.000293\n",
       "Juris Doctor or LLM                                                                                      0.000293\n",
       "Doctorate of Optometry (O.D.)                                                                            0.000293\n",
       "JD, LLM or related                                                                                       0.000293\n",
       "Bachelors degree or equiv. in a CS or quantitative field (Will accept 3 or 4 year degree as equiv.)      0.000293\n",
       "BS/Emp will accept 2 yrs work exp as sr/lead func cons part of SAP impl team on int'l proj to satisf     0.000293\n",
       "Juris Doctor in Law                                                                                      0.000293\n",
       "DOCTOR OF MEDICAL SCIENCE                                                                                0.000293\n",
       "2 years of college (or foreign equivalent)                                                               0.000293\n",
       "JD/LL.M.                                                                                                 0.000293\n",
       "DDS/ DMD                                                                                                 0.000293\n",
       "Name: JOB_INFO_EDUCATION_OTHER, Length: 1433, dtype: float64"
      ]
     },
     "execution_count": 164,
     "metadata": {},
     "output_type": "execute_result"
    }
   ],
   "source": [
    "(data['JOB_INFO_EDUCATION_OTHER'].value_counts(dropna=False) / data['JOB_INFO_EDUCATION_OTHER'].value_counts(dropna=False).sum()) * 100"
   ]
  },
  {
   "cell_type": "code",
   "execution_count": 831,
   "metadata": {},
   "outputs": [
    {
     "data": {
      "text/plain": [
       "Y      56.041445\n",
       "N      43.952802\n",
       "NaN     0.005753\n",
       "Name: JOB_INFO_EXPERIENCE, dtype: float64"
      ]
     },
     "execution_count": 831,
     "metadata": {},
     "output_type": "execute_result"
    }
   ],
   "source": [
    "(data['JOB_INFO_EXPERIENCE'].value_counts(dropna=False) / data['JOB_INFO_EXPERIENCE'].value_counts(dropna=False).sum()) * 100"
   ]
  },
  {
   "cell_type": "code",
   "execution_count": 832,
   "metadata": {
    "collapsed": true
   },
   "outputs": [
    {
     "data": {
      "text/plain": [
       "NaN       43.916688\n",
       " 24.0     15.418812\n",
       " 12.0     13.641550\n",
       " 60.0     13.411762\n",
       " 36.0      6.133009\n",
       " 6.0       3.059793\n",
       " 48.0      1.175147\n",
       " 72.0      0.757757\n",
       " 84.0      0.546506\n",
       " 96.0      0.503041\n",
       " 3.0       0.384472\n",
       " 120.0     0.324388\n",
       " 18.0      0.156921\n",
       " 0.0       0.086930\n",
       " 1.0       0.086610\n",
       " 2.0       0.072548\n",
       " 9.0       0.050496\n",
       " 108.0     0.042506\n",
       " 4.0       0.042506\n",
       " 5.0       0.032599\n",
       " 144.0     0.030681\n",
       " 10.0      0.025568\n",
       " 180.0     0.017258\n",
       " 30.0      0.016938\n",
       " 8.0       0.009268\n",
       " 20.0      0.007351\n",
       " 156.0     0.004794\n",
       " 15.0      0.004474\n",
       " 42.0      0.004155\n",
       " 240.0     0.003835\n",
       " 27.0      0.003835\n",
       " 132.0     0.003516\n",
       " 168.0     0.003196\n",
       " 23.0      0.002876\n",
       " 22.0      0.002237\n",
       " 13.0      0.002237\n",
       " 25.0      0.001918\n",
       " 16.0      0.001918\n",
       " 21.0      0.000959\n",
       " 33.0      0.000959\n",
       " 11.0      0.000959\n",
       " 26.0      0.000639\n",
       " 14.0      0.000639\n",
       " 45.0      0.000639\n",
       " 85.0      0.000639\n",
       " 50.0      0.000639\n",
       " 39.0      0.000320\n",
       " 47.0      0.000320\n",
       " 19.0      0.000320\n",
       " 40.0      0.000320\n",
       " 244.0     0.000320\n",
       " 192.0     0.000320\n",
       " 35.0      0.000320\n",
       " 80.0      0.000320\n",
       " 34.0      0.000320\n",
       " 66.0      0.000320\n",
       " 44.0      0.000320\n",
       " 7.0       0.000320\n",
       "Name: JOB_INFO_EXPERIENCE_NUM_MONTHS, dtype: float64"
      ]
     },
     "execution_count": 832,
     "metadata": {},
     "output_type": "execute_result"
    }
   ],
   "source": [
    "(data['JOB_INFO_EXPERIENCE_NUM_MONTHS'].value_counts(dropna=False) / data['JOB_INFO_EXPERIENCE_NUM_MONTHS'].value_counts(dropna=False).sum()) * 100"
   ]
  },
  {
   "cell_type": "code",
   "execution_count": 1108,
   "metadata": {},
   "outputs": [
    {
     "data": {
      "text/plain": [
       "NaN    93.084061\n",
       "Y       3.446469\n",
       "A       3.379386\n",
       "N       0.090083\n",
       "Name: RI_US_WORKERS_CONSIDERED, dtype: float64"
      ]
     },
     "execution_count": 1108,
     "metadata": {},
     "output_type": "execute_result"
    }
   ],
   "source": [
    "\n",
    "(data['RI_US_WORKERS_CONSIDERED'].value_counts(dropna=False) / data['RI_US_WORKERS_CONSIDERED'].value_counts(dropna=False).sum()) * 100"
   ]
  },
  {
   "cell_type": "code",
   "execution_count": 252,
   "metadata": {
    "collapsed": true
   },
   "outputs": [
    {
     "data": {
      "text/plain": [
       "Custom Computer Programming Services                                                     20.334324\n",
       "Computer Systems Design Services                                                          9.592342\n",
       "Software Publishers                                                                       4.203639\n",
       "Colleges, Universities, and Professional Schools                                          3.133042\n",
       "Poultry Processing                                                                        2.806915\n",
       "Other Computer Related Services                                                           2.614283\n",
       "Semiconductor and Other Electronic Component Manufacturing                                2.532313\n",
       "Computer Systems Design and Related Services                                              2.500695\n",
       "Engineering Services                                                                      2.097575\n",
       "Electronic Computer Manufacturing                                                         2.029363\n",
       "Electronic Shopping                                                                       1.719631\n",
       "Full-Service Restaurants                                                                  1.416924\n",
       "Web Search Portals                                                                        1.341394\n",
       "Investment Banking and Securities Dealing                                                 1.159887\n",
       "General Medical and Surgical Hospitals                                                    1.107191\n",
       "Semiconductor and Related Device Manufacturing                                            1.052154\n",
       "Elementary and Secondary Schools                                                          1.049226\n",
       "Limited-Service Restaurants                                                               0.973111\n",
       "Offices of Physicians (except Mental Health Specialists)                                  0.944714\n",
       "Research and Development in the Physical, Engineering, and Life Sciences                  0.825856\n",
       "Radio and Television Broadcasting and Wireless Communications Equipment Manufacturing     0.786042\n",
       "Administrative Management and General Management Consulting Services                      0.776381\n",
       "Management Consulting Services                                                            0.692361\n",
       "Offices of Certified Public Accountants                                                   0.619172\n",
       "Janitorial Services                                                                       0.616830\n",
       "Financial Transactions Processing, Reserve, and Clearinghouse Activities                  0.555938\n",
       "Commercial Banking                                                                        0.548912\n",
       "Management, Scientific, and Technical Consulting Services                                 0.548326\n",
       "Data Processing, Hosting, and Related Services                                            0.502364\n",
       "Accounting, Tax Preparation, Bookkeeping, and Payroll Services                            0.427126\n",
       "                                                                                           ...    \n",
       "Specialized Freight Trucking                                                              0.000293\n",
       "Fiber, Yarn, and Thread Mills                                                             0.000293\n",
       "Household Furniture (except Wood and Metal) Manufacturing                                 0.000293\n",
       "Petroleum and Coal Products Manufacturing                                                 0.000293\n",
       "Aluminum Sheet, Plate, and Foil Manufacturing                                             0.000293\n",
       "Forging and Stamping                                                                      0.000293\n",
       "Solid Waste Combustors and Incinerators                                                   0.000293\n",
       "Nonfolding Sanitary Food Container Manufacturing                                          0.000293\n",
       "Foundries                                                                                 0.000293\n",
       "Uranium-Radium-Vanadium Ore Mining                                                        0.000293\n",
       "Fabricated Metal Product Manufacturing                                                    0.000293\n",
       "Tire Retreading                                                                           0.000293\n",
       "Softwood Veneer and Plywood Manufacturing                                                 0.000293\n",
       "Plate Work Manufacturing                                                                  0.000293\n",
       "Merchant Wholesalers, Nondurable Goods                                                    0.000293\n",
       "Mixed Mode Transit Systems                                                                0.000293\n",
       "Industrial Pattern Manufacturing                                                          0.000293\n",
       "Special Needs Transportation                                                              0.000293\n",
       "Other Chemical and Fertilizer Mineral Mining                                              0.000293\n",
       "Port and Harbor Operations                                                                0.000293\n",
       "Community Food Services                                                                   0.000293\n",
       "Aluminum Foundries (except Die-Casting)                                                   0.000293\n",
       "Canvas and Related Product Mills                                                          0.000293\n",
       "Soybean Processing                                                                        0.000293\n",
       "Metal Household Furniture Manufacturing                                                   0.000293\n",
       "Wiring Device Manufacturing                                                               0.000293\n",
       "Beverage and Tobacco Product Manufacturing                                                0.000293\n",
       "Oilseed and Grain Farming                                                                 0.000293\n",
       "Fishing                                                                                   0.000293\n",
       "Real Estate and Rental and Leasing                                                        0.000293\n",
       "Name: NAICS_US_TITLE, Length: 1462, dtype: float64"
      ]
     },
     "execution_count": 252,
     "metadata": {},
     "output_type": "execute_result"
    }
   ],
   "source": [
    "(data['NAICS_US_TITLE'].value_counts(dropna=False) / data['NAICS_US_TITLE'].value_counts(dropna=False).sum()) * 100"
   ]
  },
  {
   "cell_type": "code",
   "execution_count": 961,
   "metadata": {},
   "outputs": [],
   "source": [
    "(data['NAICS_US_CODE'].value_counts(dropna=False) / data['NAICS_US_CODE'].value_counts(dropna=False).sum()) * 100\n",
    "\n",
    "#the first 2 numbers are the industry (there are 92), so gonna truncate it\n",
    "ind_code = data['NAICS_US_CODE'].apply(lambda word: str(word).replace(\"-\", \"\"))\n",
    "    \n",
    "\n",
    "ind_code = ind_code.apply(lambda num: num[:2])\n",
    "ind_code.value_counts()\n",
    "#counts for each industry\n",
    "ind_code = pd.DataFrame(ind_code.value_counts())\n",
    "ind_code = ind_code.reset_index()\n",
    "ind_code.columns = ['sector code','count']"
   ]
  },
  {
   "cell_type": "code",
   "execution_count": 962,
   "metadata": {},
   "outputs": [],
   "source": [
    "ind_code.at[22,'sector code'] = -99\n",
    "#df.at['C', 'x'] = 10"
   ]
  },
  {
   "cell_type": "code",
   "execution_count": 963,
   "metadata": {},
   "outputs": [],
   "source": [
    "naics_codes = pd.read_excel(\"NAICS sector codes.xlsx\")"
   ]
  },
  {
   "cell_type": "code",
   "execution_count": 964,
   "metadata": {},
   "outputs": [],
   "source": [
    "ind_code['sector code'] = pandas.to_numeric(ind_code['sector code'])\n",
    "naics_codes['Sector'] = pandas.to_numeric(naics_codes['Sector'])"
   ]
  },
  {
   "cell_type": "code",
   "execution_count": 965,
   "metadata": {},
   "outputs": [],
   "source": [
    "ind_code_det = ind_code.merge(naics_codes, how =\"left\", left_on = \"sector code\", right_on = \"Sector\")\n",
    "ind_code_det = ind_code_det[['Name','count']]"
   ]
  },
  {
   "cell_type": "code",
   "execution_count": 839,
   "metadata": {},
   "outputs": [
    {
     "data": {
      "image/png": "[encoded data removed]",
      "text/plain": [
       "<matplotlib.figure.Figure at 0x1ad6bfbf28>"
      ]
     },
     "metadata": {},
     "output_type": "display_data"
    }
   ],
   "source": [
    "%matplotlib inline\n",
    "import matplotlib.pyplot as plt\n",
    "ind_code_det = ind_code_det.set_index('Name')\n",
    "ind_code_det.plot.bar()\n",
    "#plt.tight_layout()\n",
    "plt.savefig('Industries.png')"
   ]
  },
  {
   "cell_type": "code",
   "execution_count": 840,
   "metadata": {},
   "outputs": [
    {
     "data": {
      "text/plain": [
       "Y      86.376028\n",
       "N      13.616621\n",
       "NaN     0.007351\n",
       "Name: RECR_INFO_PROFESSIONAL_OCC, dtype: float64"
      ]
     },
     "execution_count": 840,
     "metadata": {},
     "output_type": "execute_result"
    }
   ],
   "source": [
    "#Is this for profession, not college / uni professor\n",
    "(data['RECR_INFO_PROFESSIONAL_OCC'].value_counts(dropna=False) / data['RECR_INFO_PROFESSIONAL_OCC'].value_counts(dropna=False).sum()) * 100"
   ]
  },
  {
   "cell_type": "code",
   "execution_count": 841,
   "metadata": {},
   "outputs": [
    {
     "data": {
      "text/plain": [
       "N      97.379649\n",
       "Y       2.607248\n",
       "NaN     0.013103\n",
       "Name: RECR_INFO_COLL_UNIV_TEACHER, dtype: float64"
      ]
     },
     "execution_count": 841,
     "metadata": {},
     "output_type": "execute_result"
    }
   ],
   "source": [
    "#Is this for college / uni professor\n",
    "(data['RECR_INFO_COLL_UNIV_TEACHER'].value_counts(dropna=False) / data['RECR_INFO_COLL_UNIV_TEACHER'].value_counts(dropna=False).sum()) * 100"
   ]
  },
  {
   "cell_type": "code",
   "execution_count": 842,
   "metadata": {},
   "outputs": [
    {
     "data": {
      "text/plain": [
       "NaN    97.003806\n",
       "Y       2.457039\n",
       "N       0.539155\n",
       "Name: RECR_INFO_COLL_TEACH_COMP_PROC, dtype: float64"
      ]
     },
     "execution_count": 842,
     "metadata": {},
     "output_type": "execute_result"
    }
   ],
   "source": [
    "(data['RECR_INFO_COLL_TEACH_COMP_PROC'].value_counts(dropna=False) / data['RECR_INFO_COLL_TEACH_COMP_PROC'].value_counts(dropna=False).sum()) * 100"
   ]
  },
  {
   "cell_type": "code",
   "execution_count": 843,
   "metadata": {},
   "outputs": [
    {
     "data": {
      "text/plain": [
       "Y      89.380531\n",
       "N      10.539251\n",
       "NaN     0.080218\n",
       "Name: JOB_INFO_FOREIGN_ED, dtype: float64"
      ]
     },
     "execution_count": 843,
     "metadata": {},
     "output_type": "execute_result"
    }
   ],
   "source": [
    "(data['JOB_INFO_FOREIGN_ED'].value_counts(dropna=False) / data['JOB_INFO_FOREIGN_ED'].value_counts(dropna=False).sum()) * 100\n",
    "#since there are 10% no, would be interesting to see if the nos experiences for the other people would still be accepted"
   ]
  },
  {
   "cell_type": "markdown",
   "metadata": {},
   "source": [
    "## VISA informaiton"
   ]
  },
  {
   "cell_type": "code",
   "execution_count": 966,
   "metadata": {
    "collapsed": true
   },
   "outputs": [
    {
     "data": {
      "text/plain": [
       "H-1B          71.812449\n",
       "NaN            6.901313\n",
       "L-1            6.109998\n",
       "F-1            5.055977\n",
       "Not in USA     3.282550\n",
       "TN             1.368501\n",
       "E-2            1.244819\n",
       "B-2            0.940885\n",
       "EWI            0.392142\n",
       "Parolee        0.324707\n",
       "J-1            0.315439\n",
       "F-2            0.308408\n",
       "E-3            0.278686\n",
       "O-1            0.239376\n",
       "H-4            0.203581\n",
       "B-1            0.169385\n",
       "L-2            0.157879\n",
       "E-1            0.153405\n",
       "H-2B           0.139023\n",
       "H-1B1          0.116971\n",
       "TPS            0.081177\n",
       "P-1            0.060084\n",
       "H-2A           0.046661\n",
       "A1/A2          0.046022\n",
       "J-2            0.037392\n",
       "R-1            0.031001\n",
       "G-4            0.029722\n",
       "I              0.023650\n",
       "P-3            0.014701\n",
       "VWT            0.014701\n",
       "G-5            0.013423\n",
       "H-3            0.012145\n",
       "H-1A           0.010547\n",
       "C-1            0.009268\n",
       "M-1            0.008949\n",
       "A-3            0.007031\n",
       "O-2            0.006072\n",
       "TD             0.004474\n",
       "VWB            0.003835\n",
       "G-1            0.003516\n",
       "O-3            0.003516\n",
       "R-2            0.003196\n",
       "C-3            0.003196\n",
       "M-2            0.001598\n",
       "D-1            0.001598\n",
       "P-4            0.001598\n",
       "Q              0.001278\n",
       "P-2            0.000959\n",
       "N              0.000639\n",
       "V-1            0.000639\n",
       "T-1            0.000639\n",
       "V-2            0.000639\n",
       "K-1            0.000320\n",
       "U-1            0.000320\n",
       "Name: CLASS_OF_ADMISSION, dtype: float64"
      ]
     },
     "execution_count": 966,
     "metadata": {},
     "output_type": "execute_result"
    }
   ],
   "source": [
    "#what was their previous class of admission\n",
    "(data['CLASS_OF_ADMISSION'].value_counts(dropna=False) / data['CLASS_OF_ADMISSION'].value_counts(dropna=False).sum()) * 100"
   ]
  },
  {
   "cell_type": "code",
   "execution_count": 1221,
   "metadata": {
    "collapsed": true
   },
   "outputs": [
    {
     "data": {
      "text/html": [
       "<div>\n",
       "<style>\n",
       "    .dataframe thead tr:only-child th {\n",
       "        text-align: right;\n",
       "    }\n",
       "\n",
       "    .dataframe thead th {\n",
       "        text-align: left;\n",
       "    }\n",
       "\n",
       "    .dataframe tbody tr th {\n",
       "        vertical-align: top;\n",
       "    }\n",
       "</style>\n",
       "<table border=\"1\" class=\"dataframe\">\n",
       "  <thead>\n",
       "    <tr style=\"text-align: right;\">\n",
       "      <th></th>\n",
       "      <th>CASE_NUMBER</th>\n",
       "      <th>CLASS_OF_ADMISSION</th>\n",
       "      <th>CASE_STATUS</th>\n",
       "    </tr>\n",
       "  </thead>\n",
       "  <tbody>\n",
       "    <tr>\n",
       "      <th>0</th>\n",
       "      <td>A-14220-96665</td>\n",
       "      <td>H-1B</td>\n",
       "      <td>Certified-Expired</td>\n",
       "    </tr>\n",
       "    <tr>\n",
       "      <th>1</th>\n",
       "      <td>A-14220-96720</td>\n",
       "      <td>H-1B</td>\n",
       "      <td>Certified-Expired</td>\n",
       "    </tr>\n",
       "    <tr>\n",
       "      <th>2</th>\n",
       "      <td>A-14203-91167</td>\n",
       "      <td>L-1</td>\n",
       "      <td>Certified-Expired</td>\n",
       "    </tr>\n",
       "    <tr>\n",
       "      <th>3</th>\n",
       "      <td>A-14206-92509</td>\n",
       "      <td>H-1B</td>\n",
       "      <td>Certified-Expired</td>\n",
       "    </tr>\n",
       "    <tr>\n",
       "      <th>4</th>\n",
       "      <td>A-14202-90786</td>\n",
       "      <td>H-1B</td>\n",
       "      <td>Certified-Expired</td>\n",
       "    </tr>\n",
       "    <tr>\n",
       "      <th>5</th>\n",
       "      <td>A-14202-90819</td>\n",
       "      <td>H-1B</td>\n",
       "      <td>Certified-Expired</td>\n",
       "    </tr>\n",
       "    <tr>\n",
       "      <th>6</th>\n",
       "      <td>A-14202-90920</td>\n",
       "      <td>H-1B</td>\n",
       "      <td>Certified-Expired</td>\n",
       "    </tr>\n",
       "    <tr>\n",
       "      <th>7</th>\n",
       "      <td>A-14220-96712</td>\n",
       "      <td>H-1B</td>\n",
       "      <td>Certified-Expired</td>\n",
       "    </tr>\n",
       "    <tr>\n",
       "      <th>8</th>\n",
       "      <td>A-14226-98150</td>\n",
       "      <td>H-1B</td>\n",
       "      <td>Certified-Expired</td>\n",
       "    </tr>\n",
       "    <tr>\n",
       "      <th>9</th>\n",
       "      <td>A-14226-98245</td>\n",
       "      <td>NaN</td>\n",
       "      <td>Certified-Expired</td>\n",
       "    </tr>\n",
       "    <tr>\n",
       "      <th>10</th>\n",
       "      <td>A-14224-97486</td>\n",
       "      <td>H-1B</td>\n",
       "      <td>Certified-Expired</td>\n",
       "    </tr>\n",
       "    <tr>\n",
       "      <th>11</th>\n",
       "      <td>A-14224-97503</td>\n",
       "      <td>H-1B</td>\n",
       "      <td>Certified-Expired</td>\n",
       "    </tr>\n",
       "    <tr>\n",
       "      <th>12</th>\n",
       "      <td>A-14218-95841</td>\n",
       "      <td>H-1B</td>\n",
       "      <td>Certified-Expired</td>\n",
       "    </tr>\n",
       "    <tr>\n",
       "      <th>13</th>\n",
       "      <td>A-14218-95919</td>\n",
       "      <td>H-1B</td>\n",
       "      <td>Certified-Expired</td>\n",
       "    </tr>\n",
       "    <tr>\n",
       "      <th>14</th>\n",
       "      <td>A-14233-00479</td>\n",
       "      <td>H-1B</td>\n",
       "      <td>Certified-Expired</td>\n",
       "    </tr>\n",
       "    <tr>\n",
       "      <th>15</th>\n",
       "      <td>A-14233-00480</td>\n",
       "      <td>H-1B</td>\n",
       "      <td>Certified-Expired</td>\n",
       "    </tr>\n",
       "    <tr>\n",
       "      <th>16</th>\n",
       "      <td>A-14233-00487</td>\n",
       "      <td>J-1</td>\n",
       "      <td>Certified-Expired</td>\n",
       "    </tr>\n",
       "    <tr>\n",
       "      <th>17</th>\n",
       "      <td>A-14233-00533</td>\n",
       "      <td>H-1B</td>\n",
       "      <td>Certified-Expired</td>\n",
       "    </tr>\n",
       "    <tr>\n",
       "      <th>18</th>\n",
       "      <td>A-14233-00565</td>\n",
       "      <td>L-1</td>\n",
       "      <td>Certified-Expired</td>\n",
       "    </tr>\n",
       "    <tr>\n",
       "      <th>19</th>\n",
       "      <td>A-14238-01616</td>\n",
       "      <td>H-1B</td>\n",
       "      <td>Certified-Expired</td>\n",
       "    </tr>\n",
       "    <tr>\n",
       "      <th>20</th>\n",
       "      <td>A-14238-01636</td>\n",
       "      <td>F-1</td>\n",
       "      <td>Certified-Expired</td>\n",
       "    </tr>\n",
       "    <tr>\n",
       "      <th>21</th>\n",
       "      <td>A-14245-03117</td>\n",
       "      <td>H-1B</td>\n",
       "      <td>Certified-Expired</td>\n",
       "    </tr>\n",
       "    <tr>\n",
       "      <th>22</th>\n",
       "      <td>A-14245-03216</td>\n",
       "      <td>H-1B</td>\n",
       "      <td>Certified-Expired</td>\n",
       "    </tr>\n",
       "    <tr>\n",
       "      <th>23</th>\n",
       "      <td>A-14245-03304</td>\n",
       "      <td>H-1B</td>\n",
       "      <td>Certified-Expired</td>\n",
       "    </tr>\n",
       "    <tr>\n",
       "      <th>24</th>\n",
       "      <td>A-14246-03493</td>\n",
       "      <td>H-1B</td>\n",
       "      <td>Certified-Expired</td>\n",
       "    </tr>\n",
       "    <tr>\n",
       "      <th>25</th>\n",
       "      <td>A-14246-03533</td>\n",
       "      <td>H-1B</td>\n",
       "      <td>Certified</td>\n",
       "    </tr>\n",
       "    <tr>\n",
       "      <th>26</th>\n",
       "      <td>A-14246-03571</td>\n",
       "      <td>H-1B</td>\n",
       "      <td>Certified-Expired</td>\n",
       "    </tr>\n",
       "    <tr>\n",
       "      <th>27</th>\n",
       "      <td>A-14198-89632</td>\n",
       "      <td>H-1B</td>\n",
       "      <td>Certified-Expired</td>\n",
       "    </tr>\n",
       "    <tr>\n",
       "      <th>28</th>\n",
       "      <td>A-14198-89806</td>\n",
       "      <td>H-1B</td>\n",
       "      <td>Certified</td>\n",
       "    </tr>\n",
       "    <tr>\n",
       "      <th>29</th>\n",
       "      <td>A-14202-90634</td>\n",
       "      <td>H-1B</td>\n",
       "      <td>Certified-Expired</td>\n",
       "    </tr>\n",
       "    <tr>\n",
       "      <th>...</th>\n",
       "      <td>...</td>\n",
       "      <td>...</td>\n",
       "      <td>...</td>\n",
       "    </tr>\n",
       "    <tr>\n",
       "      <th>97573</th>\n",
       "      <td>A-17041-01782</td>\n",
       "      <td>F-2</td>\n",
       "      <td>Certified</td>\n",
       "    </tr>\n",
       "    <tr>\n",
       "      <th>97574</th>\n",
       "      <td>A-17040-01185</td>\n",
       "      <td>Not in USA</td>\n",
       "      <td>Denied</td>\n",
       "    </tr>\n",
       "    <tr>\n",
       "      <th>97575</th>\n",
       "      <td>A-17040-01445</td>\n",
       "      <td>O-1</td>\n",
       "      <td>Certified</td>\n",
       "    </tr>\n",
       "    <tr>\n",
       "      <th>97576</th>\n",
       "      <td>A-16328-74343</td>\n",
       "      <td>J-1</td>\n",
       "      <td>Certified</td>\n",
       "    </tr>\n",
       "    <tr>\n",
       "      <th>97577</th>\n",
       "      <td>A-17039-01010</td>\n",
       "      <td>H-1B</td>\n",
       "      <td>Certified</td>\n",
       "    </tr>\n",
       "    <tr>\n",
       "      <th>97578</th>\n",
       "      <td>A-17039-00894</td>\n",
       "      <td>F-2</td>\n",
       "      <td>Certified</td>\n",
       "    </tr>\n",
       "    <tr>\n",
       "      <th>97579</th>\n",
       "      <td>A-17033-98552</td>\n",
       "      <td>NaN</td>\n",
       "      <td>Certified</td>\n",
       "    </tr>\n",
       "    <tr>\n",
       "      <th>97580</th>\n",
       "      <td>A-17038-00048</td>\n",
       "      <td>B-2</td>\n",
       "      <td>Certified</td>\n",
       "    </tr>\n",
       "    <tr>\n",
       "      <th>97581</th>\n",
       "      <td>A-17032-97797</td>\n",
       "      <td>NaN</td>\n",
       "      <td>Certified</td>\n",
       "    </tr>\n",
       "    <tr>\n",
       "      <th>97582</th>\n",
       "      <td>A-17018-92542</td>\n",
       "      <td>H-1B</td>\n",
       "      <td>Certified</td>\n",
       "    </tr>\n",
       "    <tr>\n",
       "      <th>97583</th>\n",
       "      <td>A-17038-00447</td>\n",
       "      <td>NaN</td>\n",
       "      <td>Certified</td>\n",
       "    </tr>\n",
       "    <tr>\n",
       "      <th>97584</th>\n",
       "      <td>A-16331-74510</td>\n",
       "      <td>P-3</td>\n",
       "      <td>Certified</td>\n",
       "    </tr>\n",
       "    <tr>\n",
       "      <th>97585</th>\n",
       "      <td>A-16285-60706</td>\n",
       "      <td>B-2</td>\n",
       "      <td>Certified</td>\n",
       "    </tr>\n",
       "    <tr>\n",
       "      <th>97586</th>\n",
       "      <td>A-16364-85874</td>\n",
       "      <td>H-1B</td>\n",
       "      <td>Certified</td>\n",
       "    </tr>\n",
       "    <tr>\n",
       "      <th>97587</th>\n",
       "      <td>A-17030-96974</td>\n",
       "      <td>H-1B</td>\n",
       "      <td>Certified</td>\n",
       "    </tr>\n",
       "    <tr>\n",
       "      <th>97588</th>\n",
       "      <td>A-17024-94531</td>\n",
       "      <td>F-1</td>\n",
       "      <td>Certified</td>\n",
       "    </tr>\n",
       "    <tr>\n",
       "      <th>97589</th>\n",
       "      <td>A-17006-88117</td>\n",
       "      <td>B-2</td>\n",
       "      <td>Certified</td>\n",
       "    </tr>\n",
       "    <tr>\n",
       "      <th>97590</th>\n",
       "      <td>A-16320-71558</td>\n",
       "      <td>H-1B</td>\n",
       "      <td>Certified</td>\n",
       "    </tr>\n",
       "    <tr>\n",
       "      <th>97591</th>\n",
       "      <td>A-16342-78005</td>\n",
       "      <td>H-1B</td>\n",
       "      <td>Certified</td>\n",
       "    </tr>\n",
       "    <tr>\n",
       "      <th>97592</th>\n",
       "      <td>A-16320-71290</td>\n",
       "      <td>H-1B</td>\n",
       "      <td>Withdrawn</td>\n",
       "    </tr>\n",
       "    <tr>\n",
       "      <th>97593</th>\n",
       "      <td>A-16314-69768</td>\n",
       "      <td>H-1B</td>\n",
       "      <td>Withdrawn</td>\n",
       "    </tr>\n",
       "    <tr>\n",
       "      <th>97594</th>\n",
       "      <td>A-16309-68645</td>\n",
       "      <td>H-1B</td>\n",
       "      <td>Certified</td>\n",
       "    </tr>\n",
       "    <tr>\n",
       "      <th>97595</th>\n",
       "      <td>A-16119-03184</td>\n",
       "      <td>E-2</td>\n",
       "      <td>Certified</td>\n",
       "    </tr>\n",
       "    <tr>\n",
       "      <th>97596</th>\n",
       "      <td>A-16249-49588</td>\n",
       "      <td>H-1B</td>\n",
       "      <td>Certified</td>\n",
       "    </tr>\n",
       "    <tr>\n",
       "      <th>97597</th>\n",
       "      <td>A-16211-37304</td>\n",
       "      <td>F-1</td>\n",
       "      <td>Certified</td>\n",
       "    </tr>\n",
       "    <tr>\n",
       "      <th>97598</th>\n",
       "      <td>A-16252-50679</td>\n",
       "      <td>E-2</td>\n",
       "      <td>Certified</td>\n",
       "    </tr>\n",
       "    <tr>\n",
       "      <th>97599</th>\n",
       "      <td>A-17264-89554</td>\n",
       "      <td>H-1B</td>\n",
       "      <td>Withdrawn</td>\n",
       "    </tr>\n",
       "    <tr>\n",
       "      <th>97600</th>\n",
       "      <td>A-17264-89549</td>\n",
       "      <td>H-1B</td>\n",
       "      <td>Withdrawn</td>\n",
       "    </tr>\n",
       "    <tr>\n",
       "      <th>97601</th>\n",
       "      <td>A-17264-89484</td>\n",
       "      <td>H-1B</td>\n",
       "      <td>Withdrawn</td>\n",
       "    </tr>\n",
       "    <tr>\n",
       "      <th>97602</th>\n",
       "      <td>A-17258-87753</td>\n",
       "      <td>R-1</td>\n",
       "      <td>Withdrawn</td>\n",
       "    </tr>\n",
       "  </tbody>\n",
       "</table>\n",
       "<p>312897 rows × 3 columns</p>\n",
       "</div>"
      ],
      "text/plain": [
       "         CASE_NUMBER CLASS_OF_ADMISSION        CASE_STATUS\n",
       "0      A-14220-96665               H-1B  Certified-Expired\n",
       "1      A-14220-96720               H-1B  Certified-Expired\n",
       "2      A-14203-91167                L-1  Certified-Expired\n",
       "3      A-14206-92509               H-1B  Certified-Expired\n",
       "4      A-14202-90786               H-1B  Certified-Expired\n",
       "5      A-14202-90819               H-1B  Certified-Expired\n",
       "6      A-14202-90920               H-1B  Certified-Expired\n",
       "7      A-14220-96712               H-1B  Certified-Expired\n",
       "8      A-14226-98150               H-1B  Certified-Expired\n",
       "9      A-14226-98245                NaN  Certified-Expired\n",
       "10     A-14224-97486               H-1B  Certified-Expired\n",
       "11     A-14224-97503               H-1B  Certified-Expired\n",
       "12     A-14218-95841               H-1B  Certified-Expired\n",
       "13     A-14218-95919               H-1B  Certified-Expired\n",
       "14     A-14233-00479               H-1B  Certified-Expired\n",
       "15     A-14233-00480               H-1B  Certified-Expired\n",
       "16     A-14233-00487                J-1  Certified-Expired\n",
       "17     A-14233-00533               H-1B  Certified-Expired\n",
       "18     A-14233-00565                L-1  Certified-Expired\n",
       "19     A-14238-01616               H-1B  Certified-Expired\n",
       "20     A-14238-01636                F-1  Certified-Expired\n",
       "21     A-14245-03117               H-1B  Certified-Expired\n",
       "22     A-14245-03216               H-1B  Certified-Expired\n",
       "23     A-14245-03304               H-1B  Certified-Expired\n",
       "24     A-14246-03493               H-1B  Certified-Expired\n",
       "25     A-14246-03533               H-1B          Certified\n",
       "26     A-14246-03571               H-1B  Certified-Expired\n",
       "27     A-14198-89632               H-1B  Certified-Expired\n",
       "28     A-14198-89806               H-1B          Certified\n",
       "29     A-14202-90634               H-1B  Certified-Expired\n",
       "...              ...                ...                ...\n",
       "97573  A-17041-01782                F-2          Certified\n",
       "97574  A-17040-01185         Not in USA             Denied\n",
       "97575  A-17040-01445                O-1          Certified\n",
       "97576  A-16328-74343                J-1          Certified\n",
       "97577  A-17039-01010               H-1B          Certified\n",
       "97578  A-17039-00894                F-2          Certified\n",
       "97579  A-17033-98552                NaN          Certified\n",
       "97580  A-17038-00048                B-2          Certified\n",
       "97581  A-17032-97797                NaN          Certified\n",
       "97582  A-17018-92542               H-1B          Certified\n",
       "97583  A-17038-00447                NaN          Certified\n",
       "97584  A-16331-74510                P-3          Certified\n",
       "97585  A-16285-60706                B-2          Certified\n",
       "97586  A-16364-85874               H-1B          Certified\n",
       "97587  A-17030-96974               H-1B          Certified\n",
       "97588  A-17024-94531                F-1          Certified\n",
       "97589  A-17006-88117                B-2          Certified\n",
       "97590  A-16320-71558               H-1B          Certified\n",
       "97591  A-16342-78005               H-1B          Certified\n",
       "97592  A-16320-71290               H-1B          Withdrawn\n",
       "97593  A-16314-69768               H-1B          Withdrawn\n",
       "97594  A-16309-68645               H-1B          Certified\n",
       "97595  A-16119-03184                E-2          Certified\n",
       "97596  A-16249-49588               H-1B          Certified\n",
       "97597  A-16211-37304                F-1          Certified\n",
       "97598  A-16252-50679                E-2          Certified\n",
       "97599  A-17264-89554               H-1B          Withdrawn\n",
       "97600  A-17264-89549               H-1B          Withdrawn\n",
       "97601  A-17264-89484               H-1B          Withdrawn\n",
       "97602  A-17258-87753                R-1          Withdrawn\n",
       "\n",
       "[312897 rows x 3 columns]"
      ]
     },
     "execution_count": 1221,
     "metadata": {},
     "output_type": "execute_result"
    }
   ],
   "source": [
    "#making the VISA column into booleans, if have H1B, if have other, if have none\n",
    "visa_info = pd.DataFrame(data[['CASE_NUMBER','CLASS_OF_ADMISSION','CASE_STATUS']])\n",
    "data['CLASS_OF_ADMISSION'] = np.where(data['CLASS_OF_ADMISSION'].isnull(), \"None\", data['CLASS_OF_ADMISSION'])\n",
    "data['H1B_VISA'] = np.where(data['CLASS_OF_ADMISSION'] == \"H-1B\", 1, 0)\n",
    "tmp = np.isin(data['CLASS_OF_ADMISSION'], ['H-1B','None','Not in USA','Parolee'])\n",
    "data['Other_Visa'] = np.where(tmp , 0, 1)\n",
    "tmp = np.isin(data['CLASS_OF_ADMISSION'], ['None','Not in USA','Parolee'])\n",
    "data['No_US_Visa'] = np.where(tmp , 1, 0)\n",
    "#visa_info['No_US_Visa'] = np.where(visa_info['CLASS_OF_ADMISSION']  in ['H-1B','NaN','Not in USA','Parolee'] , 1, 0)\n",
    "visa_info"
   ]
  },
  {
   "cell_type": "code",
   "execution_count": null,
   "metadata": {
    "collapsed": true
   },
   "outputs": [],
   "source": [
    "df2 = df.groupby(['Name', 'Abuse/NFF'])['Name'].count().unstack('Abuse/NFF').fillna(0)\n",
    "df2[['abuse','nff']].plot(kind='bar', stacked=True)"
   ]
  },
  {
   "cell_type": "code",
   "execution_count": null,
   "metadata": {
    "collapsed": true
   },
   "outputs": [],
   "source": [
    "visa_info['Visa_group'] = visa_info['CLASS_OF_ADMISSION']"
   ]
  },
  {
   "cell_type": "code",
   "execution_count": 846,
   "metadata": {},
   "outputs": [
    {
     "data": {
      "image/png": "[encoded data removed]",
      "text/plain": [
       "<matplotlib.figure.Figure at 0x1a7ea45940>"
      ]
     },
     "metadata": {},
     "output_type": "display_data"
    }
   ],
   "source": [
    "tmp_visa = pd.DataFrame(data[['H1B_VISA','Other_Visa','No_US_Visa']].sum())\n",
    "%matplotlib inline\n",
    "import matplotlib.pyplot as plt\n",
    "tmp_visa.plot(kind = 'barh')\n",
    "plt.savefig(\"Visa.png\")"
   ]
  },
  {
   "cell_type": "code",
   "execution_count": 847,
   "metadata": {},
   "outputs": [
    {
     "data": {
      "text/plain": [
       "Y      98.427278\n",
       "A       1.488349\n",
       "N       0.049537\n",
       "NaN     0.034836\n",
       "Name: RI_POSTED_NOTICE_AT_WORKSITE, dtype: float64"
      ]
     },
     "execution_count": 847,
     "metadata": {},
     "output_type": "execute_result"
    }
   ],
   "source": [
    "#this is a requirement now I believe\n",
    "(data['RI_POSTED_NOTICE_AT_WORKSITE'].value_counts(dropna=False) / data['RI_POSTED_NOTICE_AT_WORKSITE'].value_counts(dropna=False).sum()) * 100"
   ]
  },
  {
   "cell_type": "markdown",
   "metadata": {},
   "source": [
    "## Education comparison"
   ]
  },
  {
   "cell_type": "code",
   "execution_count": 848,
   "metadata": {},
   "outputs": [
    {
     "data": {
      "text/plain": [
       "Master's       42.759119\n",
       "Bachelor's     36.784309\n",
       "None            8.170420\n",
       "Doctorate       4.965532\n",
       "Other           4.241012\n",
       "High School     2.057226\n",
       "Associate's     0.957823\n",
       "NaN             0.064558\n",
       "Name: FOREIGN_WORKER_INFO_EDUCATION, dtype: float64"
      ]
     },
     "execution_count": 848,
     "metadata": {},
     "output_type": "execute_result"
    }
   ],
   "source": [
    "(data['FOREIGN_WORKER_INFO_EDUCATION'].value_counts(dropna=False) / data['FOREIGN_WORKER_INFO_EDUCATION'].value_counts(dropna=False).sum()) * 100\n",
    "#standardized, just like JOB_INFO_EDUCATION, going to combine the two columns to check if they have same or above degrees "
   ]
  },
  {
   "cell_type": "markdown",
   "metadata": {},
   "source": [
    "Should probably redo this excluding the Other and Nulls (and maybe none?)"
   ]
  },
  {
   "cell_type": "code",
   "execution_count": 1222,
   "metadata": {
    "collapsed": true
   },
   "outputs": [],
   "source": [
    "data['Same_education'] = np.where(data['JOB_INFO_EDUCATION'] == data ['FOREIGN_WORKER_INFO_EDUCATION'], 1 , 0 )"
   ]
  },
  {
   "cell_type": "code",
   "execution_count": 1223,
   "metadata": {},
   "outputs": [],
   "source": [
    "mapping = {\"Master's\" : 4, \"Bachelor's\": 3, \"None\":0, \"Doctorate\":5 , \"Other\": np.NaN, \"High School\":1, \"Associate's\":2, \"NaN\":np.NaN}\n",
    "\n",
    "edu = data[['CASE_NUMBER','JOB_INFO_EDUCATION','FOREIGN_WORKER_INFO_EDUCATION']]\n",
    "data = data.replace({'FOREIGN_WORKER_INFO_EDUCATION': mapping, 'JOB_INFO_EDUCATION': mapping})"
   ]
  },
  {
   "cell_type": "code",
   "execution_count": 1224,
   "metadata": {},
   "outputs": [],
   "source": [
    "data['Higher education'] = np.where(data['FOREIGN_WORKER_INFO_EDUCATION'] > data['JOB_INFO_EDUCATION'], 1,0)"
   ]
  },
  {
   "cell_type": "code",
   "execution_count": 1225,
   "metadata": {
    "collapsed": true
   },
   "outputs": [],
   "source": [
    "data['Lower education'] = np.where(data['FOREIGN_WORKER_INFO_EDUCATION'] < data['JOB_INFO_EDUCATION'], 1,0)"
   ]
  },
  {
   "cell_type": "code",
   "execution_count": 511,
   "metadata": {},
   "outputs": [],
   "source": [
    "mapping = {4.0: \"Master's\"  , 3:\"Bachelor's\",0: \"None\", 5:\"Doctorate\" , -1:\"Other\" , 1:\"High School\", 2:\"Associate's\", -1:\"Null\"}\n",
    "\n",
    "edu = edu.replace({'FOREIGN_WORKER_INFO_EDUCATION': mapping, 'JOB_INFO_EDUCATION': mapping})"
   ]
  },
  {
   "cell_type": "code",
   "execution_count": 512,
   "metadata": {},
   "outputs": [],
   "source": [
    "edu[\"Transition\"] = edu.JOB_INFO_EDUCATION.astype(str) + \" to \" + edu.FOREIGN_WORKER_INFO_EDUCATION.astype(str)"
   ]
  },
  {
   "cell_type": "code",
   "execution_count": 514,
   "metadata": {
    "collapsed": true
   },
   "outputs": [
    {
     "data": {
      "text/html": [
       "<div>\n",
       "<style>\n",
       "    .dataframe thead tr:only-child th {\n",
       "        text-align: right;\n",
       "    }\n",
       "\n",
       "    .dataframe thead th {\n",
       "        text-align: left;\n",
       "    }\n",
       "\n",
       "    .dataframe tbody tr th {\n",
       "        vertical-align: top;\n",
       "    }\n",
       "</style>\n",
       "<table border=\"1\" class=\"dataframe\">\n",
       "  <thead>\n",
       "    <tr style=\"text-align: right;\">\n",
       "      <th></th>\n",
       "      <th>Transition</th>\n",
       "    </tr>\n",
       "    <tr>\n",
       "      <th>Transition</th>\n",
       "      <th></th>\n",
       "    </tr>\n",
       "  </thead>\n",
       "  <tbody>\n",
       "    <tr>\n",
       "      <th>Bachelor's to Master's</th>\n",
       "      <td>29596</td>\n",
       "    </tr>\n",
       "    <tr>\n",
       "      <th>Master's to Bachelor's</th>\n",
       "      <td>25157</td>\n",
       "    </tr>\n",
       "    <tr>\n",
       "      <th>Master's to Doctorate</th>\n",
       "      <td>4948</td>\n",
       "    </tr>\n",
       "    <tr>\n",
       "      <th>Bachelor's to NaN</th>\n",
       "      <td>3358</td>\n",
       "    </tr>\n",
       "    <tr>\n",
       "      <th>None to Bachelor's</th>\n",
       "      <td>2760</td>\n",
       "    </tr>\n",
       "    <tr>\n",
       "      <th>None to High School</th>\n",
       "      <td>2333</td>\n",
       "    </tr>\n",
       "    <tr>\n",
       "      <th>Bachelor's to None</th>\n",
       "      <td>1185</td>\n",
       "    </tr>\n",
       "    <tr>\n",
       "      <th>None to Associate's</th>\n",
       "      <td>1070</td>\n",
       "    </tr>\n",
       "    <tr>\n",
       "      <th>None to NaN</th>\n",
       "      <td>960</td>\n",
       "    </tr>\n",
       "    <tr>\n",
       "      <th>Bachelor's to Doctorate</th>\n",
       "      <td>768</td>\n",
       "    </tr>\n",
       "    <tr>\n",
       "      <th>Associate's to Bachelor's</th>\n",
       "      <td>662</td>\n",
       "    </tr>\n",
       "    <tr>\n",
       "      <th>High School to Bachelor's</th>\n",
       "      <td>660</td>\n",
       "    </tr>\n",
       "    <tr>\n",
       "      <th>NaN to Bachelor's</th>\n",
       "      <td>502</td>\n",
       "    </tr>\n",
       "    <tr>\n",
       "      <th>None to Master's</th>\n",
       "      <td>443</td>\n",
       "    </tr>\n",
       "    <tr>\n",
       "      <th>Bachelor's to Associate's</th>\n",
       "      <td>365</td>\n",
       "    </tr>\n",
       "    <tr>\n",
       "      <th>High School to Associate's</th>\n",
       "      <td>318</td>\n",
       "    </tr>\n",
       "    <tr>\n",
       "      <th>NaN to Doctorate</th>\n",
       "      <td>304</td>\n",
       "    </tr>\n",
       "    <tr>\n",
       "      <th>Master's to NaN</th>\n",
       "      <td>279</td>\n",
       "    </tr>\n",
       "    <tr>\n",
       "      <th>NaN to Master's</th>\n",
       "      <td>263</td>\n",
       "    </tr>\n",
       "    <tr>\n",
       "      <th>High School to NaN</th>\n",
       "      <td>212</td>\n",
       "    </tr>\n",
       "    <tr>\n",
       "      <th>Bachelor's to High School</th>\n",
       "      <td>171</td>\n",
       "    </tr>\n",
       "    <tr>\n",
       "      <th>NaN to High School</th>\n",
       "      <td>100</td>\n",
       "    </tr>\n",
       "    <tr>\n",
       "      <th>Associate's to NaN</th>\n",
       "      <td>82</td>\n",
       "    </tr>\n",
       "    <tr>\n",
       "      <th>Associate's to Master's</th>\n",
       "      <td>63</td>\n",
       "    </tr>\n",
       "    <tr>\n",
       "      <th>Doctorate to Master's</th>\n",
       "      <td>61</td>\n",
       "    </tr>\n",
       "    <tr>\n",
       "      <th>Doctorate to NaN</th>\n",
       "      <td>59</td>\n",
       "    </tr>\n",
       "    <tr>\n",
       "      <th>High School to Master's</th>\n",
       "      <td>59</td>\n",
       "    </tr>\n",
       "    <tr>\n",
       "      <th>NaN to Associate's</th>\n",
       "      <td>30</td>\n",
       "    </tr>\n",
       "    <tr>\n",
       "      <th>Master's to None</th>\n",
       "      <td>27</td>\n",
       "    </tr>\n",
       "    <tr>\n",
       "      <th>NaN to None</th>\n",
       "      <td>17</td>\n",
       "    </tr>\n",
       "    <tr>\n",
       "      <th>None to Doctorate</th>\n",
       "      <td>12</td>\n",
       "    </tr>\n",
       "    <tr>\n",
       "      <th>Associate's to High School</th>\n",
       "      <td>12</td>\n",
       "    </tr>\n",
       "    <tr>\n",
       "      <th>Associate's to None</th>\n",
       "      <td>8</td>\n",
       "    </tr>\n",
       "    <tr>\n",
       "      <th>High School to None</th>\n",
       "      <td>7</td>\n",
       "    </tr>\n",
       "    <tr>\n",
       "      <th>Doctorate to Bachelor's</th>\n",
       "      <td>6</td>\n",
       "    </tr>\n",
       "    <tr>\n",
       "      <th>Associate's to Doctorate</th>\n",
       "      <td>6</td>\n",
       "    </tr>\n",
       "    <tr>\n",
       "      <th>Master's to Associate's</th>\n",
       "      <td>4</td>\n",
       "    </tr>\n",
       "    <tr>\n",
       "      <th>Master's to High School</th>\n",
       "      <td>2</td>\n",
       "    </tr>\n",
       "  </tbody>\n",
       "</table>\n",
       "</div>"
      ],
      "text/plain": [
       "                            Transition\n",
       "Transition                            \n",
       "Bachelor's to Master's           29596\n",
       "Master's to Bachelor's           25157\n",
       "Master's to Doctorate             4948\n",
       "Bachelor's to NaN                 3358\n",
       "None to Bachelor's                2760\n",
       "None to High School               2333\n",
       "Bachelor's to None                1185\n",
       "None to Associate's               1070\n",
       "None to NaN                        960\n",
       "Bachelor's to Doctorate            768\n",
       "Associate's to Bachelor's          662\n",
       "High School to Bachelor's          660\n",
       "NaN to Bachelor's                  502\n",
       "None to Master's                   443\n",
       "Bachelor's to Associate's          365\n",
       "High School to Associate's         318\n",
       "NaN to Doctorate                   304\n",
       "Master's to NaN                    279\n",
       "NaN to Master's                    263\n",
       "High School to NaN                 212\n",
       "Bachelor's to High School          171\n",
       "NaN to High School                 100\n",
       "Associate's to NaN                  82\n",
       "Associate's to Master's             63\n",
       "Doctorate to Master's               61\n",
       "Doctorate to NaN                    59\n",
       "High School to Master's             59\n",
       "NaN to Associate's                  30\n",
       "Master's to None                    27\n",
       "NaN to None                         17\n",
       "None to Doctorate                   12\n",
       "Associate's to High School          12\n",
       "Associate's to None                  8\n",
       "High School to None                  7\n",
       "Doctorate to Bachelor's              6\n",
       "Associate's to Doctorate             6\n",
       "Master's to Associate's              4\n",
       "Master's to High School              2"
      ]
     },
     "execution_count": 514,
     "metadata": {},
     "output_type": "execute_result"
    }
   ],
   "source": [
    "#edu[['Higher education','Lower education']].sum()\n",
    "ed = edu.loc[(edu['Lower education']  == 1.0) | (edu['Higher education'] == 1.0)]\n",
    "ed = ed.loc[(~ed['FOREIGN_WORKER_INFO_EDUCATION'].isin(['Null','Other','None']) ) |(~ed['JOB_INFO_EDUCATION'].isin(['Null','Other','None']) ) ]\n",
    "ed = ed.loc[(pd.notnull(ed['FOREIGN_WORKER_INFO_EDUCATION'])  ) |(pd.notnull(ed['JOB_INFO_EDUCATION'])) ]\n",
    "\n",
    "pd.DataFrame(ed.groupby(['Transition'])['Transition'].count().sort_values(ascending=False))\n",
    "#341585"
   ]
  },
  {
   "cell_type": "code",
   "execution_count": 361,
   "metadata": {},
   "outputs": [
    {
     "data": {
      "text/plain": [
       "Int64Index([2015, 2015, 2014, 2015, 2015, 2014, 2015, 2015, 2015, 2015,\n",
       "            ...\n",
       "            2016, 2016, 2016, 2016, 2016, 2016, 2016, 2016, 2016, 2016],\n",
       "           dtype='int64', name='DECISION_DATE', length=341585)"
      ]
     },
     "execution_count": 361,
     "metadata": {},
     "output_type": "execute_result"
    }
   ],
   "source": [
    "#Getting decision date year\n",
    "pd.DatetimeIndex(data['DECISION_DATE']).year"
   ]
  },
  {
   "cell_type": "code",
   "execution_count": 363,
   "metadata": {},
   "outputs": [
    {
     "data": {
      "text/plain": [
       "array([1, 1, 1, ..., 1, 1, 0])"
      ]
     },
     "execution_count": 363,
     "metadata": {},
     "output_type": "execute_result"
    }
   ],
   "source": [
    "#Getting agent firm boolean\n",
    "np.where(pd.isnull(data['AGENT_FIRM_NAME']), 0, 1)"
   ]
  },
  {
   "cell_type": "markdown",
   "metadata": {},
   "source": [
    "## Dealing with the recruitment date fields"
   ]
  },
  {
   "cell_type": "code",
   "execution_count": 1226,
   "metadata": {
    "collapsed": true
   },
   "outputs": [],
   "source": [
    "recr_dates = data[[\"RECR_INFO_SWA_JOB_ORDER_START\",\"RECR_INFO_SWA_JOB_ORDER_END\",\"RECR_INFO_FIRST_AD_START\",\"RECR_INFO_SECOND_AD_START\",\"RECR_INFO_JOB_FAIR_FROM\",\"RECR_INFO_JOB_FAIR_TO\",\"RECR_INFO_ON_CAMPUS_RECR_FROM\",\"RECR_INFO_ON_CAMPUS_RECR_TO\",\"RI_EMPLOYER_WEB_POST_FROM\",\"RI_EMPLOYER_WEB_POST_TO\",\"RECR_INFO_PRO_ORG_ADVERT_FROM\",\"RECR_INFO_PRO_ORG_ADVERT_TO\",\"RI_JOB_SEARCH_WEBSITE_FROM\",\"RI_JOB_SEARCH_WEBSITE_TO\",\"RI_PVT_EMPLOYMENT_FIRM_FROM\",\"RI_PVT_EMPLOYMENT_FIRM_TO\",\"RI_EMPLOYEE_REFERRAL_PROG_FROM\",\"RI_EMPLOYEE_REFERRAL_PROG_TO\",\"RI_CAMPUS_PLACEMENT_FROM\",\"RI_CAMPUS_PLACEMENT_TO\",\"RI_LOCAL_ETHNIC_PAPER_FROM\",\"RI_LOCAL_ETHNIC_PAPER_TO\",\"RECR_INFO_RADIO_TV_AD_FROM\",\"RECR_INFO_RADIO_TV_AD_TO\"]]"
   ]
  },
  {
   "cell_type": "code",
   "execution_count": 1227,
   "metadata": {},
   "outputs": [
    {
     "data": {
      "text/plain": [
       "RECR_INFO_SWA_JOB_ORDER_START     datetime64[ns]\n",
       "RECR_INFO_SWA_JOB_ORDER_END       datetime64[ns]\n",
       "RECR_INFO_FIRST_AD_START          datetime64[ns]\n",
       "RECR_INFO_SECOND_AD_START         datetime64[ns]\n",
       "RECR_INFO_JOB_FAIR_FROM           datetime64[ns]\n",
       "RECR_INFO_JOB_FAIR_TO             datetime64[ns]\n",
       "RECR_INFO_ON_CAMPUS_RECR_FROM     datetime64[ns]\n",
       "RECR_INFO_ON_CAMPUS_RECR_TO       datetime64[ns]\n",
       "RI_EMPLOYER_WEB_POST_FROM         datetime64[ns]\n",
       "RI_EMPLOYER_WEB_POST_TO           datetime64[ns]\n",
       "RECR_INFO_PRO_ORG_ADVERT_FROM     datetime64[ns]\n",
       "RECR_INFO_PRO_ORG_ADVERT_TO       datetime64[ns]\n",
       "RI_JOB_SEARCH_WEBSITE_FROM        datetime64[ns]\n",
       "RI_JOB_SEARCH_WEBSITE_TO          datetime64[ns]\n",
       "RI_PVT_EMPLOYMENT_FIRM_FROM       datetime64[ns]\n",
       "RI_PVT_EMPLOYMENT_FIRM_TO         datetime64[ns]\n",
       "RI_EMPLOYEE_REFERRAL_PROG_FROM    datetime64[ns]\n",
       "RI_EMPLOYEE_REFERRAL_PROG_TO      datetime64[ns]\n",
       "RI_CAMPUS_PLACEMENT_FROM          datetime64[ns]\n",
       "RI_CAMPUS_PLACEMENT_TO            datetime64[ns]\n",
       "RI_LOCAL_ETHNIC_PAPER_FROM        datetime64[ns]\n",
       "RI_LOCAL_ETHNIC_PAPER_TO          datetime64[ns]\n",
       "RECR_INFO_RADIO_TV_AD_FROM        datetime64[ns]\n",
       "RECR_INFO_RADIO_TV_AD_TO          datetime64[ns]\n",
       "dtype: object"
      ]
     },
     "execution_count": 1227,
     "metadata": {},
     "output_type": "execute_result"
    }
   ],
   "source": [
    "recr_dates.dtypes"
   ]
  },
  {
   "cell_type": "code",
   "execution_count": 313,
   "metadata": {
    "collapsed": true
   },
   "outputs": [],
   "source": [
    "import datetime as dt"
   ]
  },
  {
   "cell_type": "code",
   "execution_count": 1228,
   "metadata": {},
   "outputs": [],
   "source": [
    "data['swa'] = (data['RECR_INFO_SWA_JOB_ORDER_END'] - data['RECR_INFO_SWA_JOB_ORDER_START']).dt.days\n",
    "data['job_fair'] = (data['RECR_INFO_JOB_FAIR_TO'] - data['RECR_INFO_JOB_FAIR_FROM']).dt.days\n",
    "data['campus_fair'] = (data['RECR_INFO_ON_CAMPUS_RECR_TO'] - data['RECR_INFO_ON_CAMPUS_RECR_FROM']).dt.days\n",
    "data['web_post'] = (data['RI_EMPLOYER_WEB_POST_TO'] - data['RI_EMPLOYER_WEB_POST_FROM']).dt.days\n",
    "data['org_ad'] = (data['RECR_INFO_PRO_ORG_ADVERT_TO'] - data['RECR_INFO_PRO_ORG_ADVERT_FROM']).dt.days\n",
    "data['searc_web'] =  (data['RI_JOB_SEARCH_WEBSITE_TO'] - data['RI_JOB_SEARCH_WEBSITE_FROM']).dt.days\n",
    "data['emp_frm'] =  (data['RI_PVT_EMPLOYMENT_FIRM_TO'] - data['RI_PVT_EMPLOYMENT_FIRM_FROM']).dt.days\n",
    "data['ref_prof'] = (data['RI_EMPLOYEE_REFERRAL_PROG_TO'] - data['RI_EMPLOYEE_REFERRAL_PROG_FROM']).dt.days\n",
    "data['campus_pl'] = (data['RI_CAMPUS_PLACEMENT_TO'] - data['RI_CAMPUS_PLACEMENT_FROM']).dt.days\n",
    "data['eth_pp'] = (data['RI_LOCAL_ETHNIC_PAPER_TO'] - data['RI_LOCAL_ETHNIC_PAPER_FROM']).dt.days\n",
    "data['tv_ad'] = (data['RECR_INFO_RADIO_TV_AD_TO'] - data['RECR_INFO_RADIO_TV_AD_FROM']).dt.days"
   ]
  },
  {
   "cell_type": "code",
   "execution_count": 1233,
   "metadata": {},
   "outputs": [
    {
     "ename": "ValueError",
     "evalue": "ufunc 'isnat' is only defined for datetime and timedelta.",
     "output_type": "error",
     "traceback": [
      "\u001b[0;31m---------------------------------------------------------------------------\u001b[0m",
      "\u001b[0;31mValueError\u001b[0m                                Traceback (most recent call last)",
      "\u001b[0;32m<ipython-input-1233-a8032243cebd>\u001b[0m in \u001b[0;36m<module>\u001b[0;34m()\u001b[0m\n\u001b[0;32m----> 1\u001b[0;31m \u001b[0mdata\u001b[0m\u001b[0;34m[\u001b[0m\u001b[0;34m'RECR_INFO_FIRST_AD_START'\u001b[0m\u001b[0;34m]\u001b[0m \u001b[0;34m=\u001b[0m \u001b[0mnp\u001b[0m\u001b[0;34m.\u001b[0m\u001b[0mwhere\u001b[0m\u001b[0;34m(\u001b[0m\u001b[0mnp\u001b[0m\u001b[0;34m.\u001b[0m\u001b[0misnat\u001b[0m\u001b[0;34m(\u001b[0m\u001b[0mdata\u001b[0m\u001b[0;34m[\u001b[0m\u001b[0;34m'RECR_INFO_FIRST_AD_START'\u001b[0m\u001b[0;34m]\u001b[0m\u001b[0;34m)\u001b[0m\u001b[0;34m,\u001b[0m\u001b[0;36m0\u001b[0m\u001b[0;34m,\u001b[0m\u001b[0;36m1\u001b[0m\u001b[0;34m)\u001b[0m\u001b[0;34m\u001b[0m\u001b[0m\n\u001b[0m",
      "\u001b[0;31mValueError\u001b[0m: ufunc 'isnat' is only defined for datetime and timedelta."
     ]
    }
   ],
   "source": [
    "data['RECR_INFO_FIRST_AD_START'] = np.where(np.isnat(data['RECR_INFO_FIRST_AD_START']),0,1)"
   ]
  },
  {
   "cell_type": "code",
   "execution_count": 1234,
   "metadata": {
    "collapsed": true
   },
   "outputs": [],
   "source": [
    "data['RECR_INFO_SECOND_AD_START'] = np.where(np.isnat(data['RECR_INFO_SECOND_AD_START']),0,1)"
   ]
  },
  {
   "cell_type": "code",
   "execution_count": 1235,
   "metadata": {
    "collapsed": true
   },
   "outputs": [],
   "source": [
    "data[['job_fair','campus_fair','web_post','org_ad','searc_web','emp_frm','ref_prof','campus_pl','eth_pp','tv_ad']] = data[['job_fair','campus_fair','web_post','org_ad','searc_web','emp_frm','ref_prof','campus_pl','eth_pp','tv_ad']].replace({0.0:1.0})"
   ]
  },
  {
   "cell_type": "code",
   "execution_count": 1236,
   "metadata": {
    "collapsed": true
   },
   "outputs": [],
   "source": [
    "data['Total_rec'] = data[['swa','RECR_INFO_SECOND_AD_START','RECR_INFO_FIRST_AD_START','job_fair','campus_fair','web_post','org_ad','searc_web','emp_frm','ref_prof','campus_pl','eth_pp','tv_ad']].sum(axis=1)"
   ]
  },
  {
   "cell_type": "code",
   "execution_count": 352,
   "metadata": {
    "collapsed": true
   },
   "outputs": [],
   "source": [
    "#GOing to try and just do a full count of how many recruitments options they tried\n",
    "recr_count = recr_dates[[\"RECR_INFO_SWA_JOB_ORDER_START\",\"RECR_INFO_FIRST_AD_START\",\"RECR_INFO_SECOND_AD_START\",\"RECR_INFO_JOB_FAIR_FROM\", \"RECR_INFO_ON_CAMPUS_RECR_FROM\",\"RI_EMPLOYER_WEB_POST_FROM\",\"RECR_INFO_PRO_ORG_ADVERT_FROM\",\"RI_JOB_SEARCH_WEBSITE_FROM\",\"RI_PVT_EMPLOYMENT_FIRM_FROM\",\"RI_EMPLOYEE_REFERRAL_PROG_FROM\",\"RI_CAMPUS_PLACEMENT_FROM\",\"RI_LOCAL_ETHNIC_PAPER_FROM\",\"RECR_INFO_RADIO_TV_AD_FROM\"]]"
   ]
  },
  {
   "cell_type": "markdown",
   "metadata": {},
   "source": [
    "## Final data"
   ]
  },
  {
   "cell_type": "code",
   "execution_count": 1238,
   "metadata": {},
   "outputs": [
    {
     "name": "stdout",
     "output_type": "stream",
     "text": [
      "['CASE_NUMBER' 'DECISION_DATE' 'CASE_STATUS' 'CASE_RECEIVED_DATE' 'REFILE'\n",
      " 'ORIG_FILE_DATE' 'ORIG_CASE_NO' 'SCHD_A_SHEEPHERDER' 'EMPLOYER_NAME'\n",
      " 'EMPLOYER_ADDRESS_1' 'EMPLOYER_ADDRESS_2' 'EMPLOYER_CITY' 'EMPLOYER_STATE'\n",
      " 'EMPLOYER_COUNTRY' 'EMPLOYER_POSTAL_CODE' 'EMPLOYER_PHONE'\n",
      " 'EMPLOYER_PHONE_EXT' 'EMPLOYER_NUM_EMPLOYEES' 'EMPLOYER_YR_ESTAB'\n",
      " 'FW_OWNERSHIP_INTEREST' 'AGENT_FIRM_NAME' 'AGENT_CITY' 'AGENT_STATE'\n",
      " 'PW_TRACK_NUM' 'PW_SOC_CODE' 'PW_SOC_TITLE' 'PW_LEVEL_9089'\n",
      " 'PW_AMOUNT_9089' 'PW_UNIT_OF_PAY_9089' 'PW_SOURCE_NAME_9089'\n",
      " 'PW_SOURCE_NAME_OTHER_9089' 'PW_DETERM_DATE' 'PW_EXPIRE_DATE'\n",
      " 'WAGE_OFFER_FROM_9089' 'WAGE_OFFER_TO_9089' 'WAGE_OFFER_UNIT_OF_PAY_9089'\n",
      " 'JOB_INFO_WORK_CITY' 'JOB_INFO_WORK_STATE' 'JOB_INFO_WORK_POSTAL_CODE'\n",
      " 'JOB_INFO_JOB_TITLE' 'JOB_INFO_EDUCATION' 'JOB_INFO_EDUCATION_OTHER'\n",
      " 'JOB_INFO_MAJOR' 'JOB_INFO_TRAINING' 'JOB_INFO_TRAINING_NUM_MONTHS'\n",
      " 'JOB_INFO_TRAINING_FIELD' 'JOB_INFO_EXPERIENCE'\n",
      " 'JOB_INFO_EXPERIENCE_NUM_MONTHS' 'JOB_INFO_ALT_FIELD'\n",
      " 'JOB_INFO_ALT_FIELD_NAME' 'JOB_INFO_ALT_COMBO_ED_EXP'\n",
      " 'JOB_INFO_ALT_COMBO_ED' 'JOB_INFO_ALT_COMBO_ED_OTHER'\n",
      " 'JOB_INFO_ALT_CMB_ED_OTH_YRS' 'JOB_INFO_FOREIGN_ED' 'JOB_INFO_ALT_OCC'\n",
      " 'JOB_INFO_ALT_OCC_NUM_MONTHS' 'JOB_INFO_ALT_OCC_JOB_TITLE'\n",
      " 'JOB_INFO_JOB_REQ_NORMAL' 'JOB_INFO_FOREIGN_LANG_REQ'\n",
      " 'JOB_INFO_COMBO_OCCUPATION' 'JI_OFFERED_TO_SEC_J_FW'\n",
      " 'JI_FW_LIVE_ON_PREMISES' 'JI_LIVE_IN_DOMESTIC_SERVICE'\n",
      " 'JI_LIVE_IN_DOM_SVC_CONTRACT' 'RECR_INFO_PROFESSIONAL_OCC'\n",
      " 'RECR_INFO_COLL_UNIV_TEACHER' 'RECR_INFO_COLL_TEACH_COMP_PROC'\n",
      " 'RI_COLL_TCH_BASIC_PROCESS' 'RI_COLL_TEACH_SELECT_DATE'\n",
      " 'RI_COLL_TEACH_PRO_JNL' 'RECR_INFO_SWA_JOB_ORDER_START'\n",
      " 'RECR_INFO_SWA_JOB_ORDER_END' 'RECR_INFO_SUNDAY_NEWSPAPER'\n",
      " 'RI_1ST_AD_NEWSPAPER_NAME' 'RECR_INFO_FIRST_AD_START'\n",
      " 'RI_2ND_AD_NEWSPAPER_NAME' 'RI_2ND_AD_NEWSPAPER_OR_JOURNAL'\n",
      " 'RECR_INFO_SECOND_AD_START' 'RECR_INFO_JOB_FAIR_FROM'\n",
      " 'RECR_INFO_JOB_FAIR_TO' 'RECR_INFO_ON_CAMPUS_RECR_FROM'\n",
      " 'RECR_INFO_ON_CAMPUS_RECR_TO' 'RI_EMPLOYER_WEB_POST_FROM'\n",
      " 'RI_EMPLOYER_WEB_POST_TO' 'RECR_INFO_PRO_ORG_ADVERT_FROM'\n",
      " 'RECR_INFO_PRO_ORG_ADVERT_TO' 'RI_JOB_SEARCH_WEBSITE_FROM'\n",
      " 'RI_JOB_SEARCH_WEBSITE_TO' 'RI_PVT_EMPLOYMENT_FIRM_FROM'\n",
      " 'RI_PVT_EMPLOYMENT_FIRM_TO' 'RI_EMPLOYEE_REFERRAL_PROG_FROM'\n",
      " 'RI_EMPLOYEE_REFERRAL_PROG_TO' 'RI_CAMPUS_PLACEMENT_FROM'\n",
      " 'RI_CAMPUS_PLACEMENT_TO' 'RI_LOCAL_ETHNIC_PAPER_FROM'\n",
      " 'RI_LOCAL_ETHNIC_PAPER_TO' 'RECR_INFO_RADIO_TV_AD_FROM'\n",
      " 'RECR_INFO_RADIO_TV_AD_TO' 'RECR_INFO_EMPLOYER_REC_PAYMENT'\n",
      " 'RECR_INFO_BARG_REP_NOTIFIED' 'RI_POSTED_NOTICE_AT_WORKSITE'\n",
      " 'RI_LAYOFF_IN_PAST_SIX_MONTHS' 'RI_US_WORKERS_CONSIDERED'\n",
      " 'FOREIGN_WORKER_INFO_CITY' 'FOREIGN_WORKER_INFO_STATE'\n",
      " 'FW_INFO_POSTAL_CODE' 'COUNTRY_OF_CITIZENSHIP' 'FW_INFO_BIRTH_COUNTRY'\n",
      " 'CLASS_OF_ADMISSION' 'FOREIGN_WORKER_INFO_EDUCATION'\n",
      " 'FW_INFO_EDUCATION_OTHER' 'FOREIGN_WORKER_INFO_MAJOR'\n",
      " 'FW_INFO_YR_REL_EDU_COMPLETED' 'FOREIGN_WORKER_INFO_INST'\n",
      " 'FW_INFO_TRAINING_COMP' 'FW_INFO_REQ_EXPERIENCE'\n",
      " 'FW_INFO_ALT_EDU_EXPERIENCE' 'FW_INFO_REL_OCCUP_EXP'\n",
      " 'PREPARER_INFO_EMP_COMPLETED' 'PREPARER_INFO_TITLE'\n",
      " 'EMPLOYER_DECL_INFO_TITLE' 'NAICS_US_CODE' 'NAICS_US_TITLE'\n",
      " 'PW_Job_Title_9089' 'Avg_Wage' 'unit' 'Year_wage_offer' 'unit_pw'\n",
      " 'Year_wage_pw' 'Ind_code' 'Wage_level' 'H1B_VISA' 'Other_Visa'\n",
      " 'No_US_Visa' 'Same_education' 'Higher education' 'Lower education' 'swa'\n",
      " 'job_fair' 'campus_fair' 'web_post' 'org_ad' 'searc_web' 'emp_frm'\n",
      " 'ref_prof' 'campus_pl' 'eth_pp' 'tv_ad' 'Total_rec']\n"
     ]
    }
   ],
   "source": [
    "print(data.columns.values)"
   ]
  },
  {
   "cell_type": "code",
   "execution_count": 1261,
   "metadata": {
    "collapsed": true
   },
   "outputs": [],
   "source": [
    "data['JOB_INFO_JOB_REQ_NORMAL'] = np.where((data['JOB_INFO_JOB_REQ_NORMAL']) == \"Y\", 1,0)"
   ]
  },
  {
   "cell_type": "code",
   "execution_count": 1240,
   "metadata": {
    "collapsed": true
   },
   "outputs": [],
   "source": [
    "data['DEC_YEAR'] = pd.DatetimeIndex(data['DECISION_DATE']).year"
   ]
  },
  {
   "cell_type": "code",
   "execution_count": 1241,
   "metadata": {
    "collapsed": true
   },
   "outputs": [],
   "source": [
    "data['LAWYER'] = np.where(pd.isnull(data['AGENT_FIRM_NAME']), 0, 1)"
   ]
  },
  {
   "cell_type": "code",
   "execution_count": 1242,
   "metadata": {},
   "outputs": [],
   "source": [
    "data['CASE_STATUS'] = pd.DataFrame(np.where(data['CASE_STATUS'] == 'Certified-Expired' , 'Certified', data['CASE_STATUS']))"
   ]
  },
  {
   "cell_type": "code",
   "execution_count": 1263,
   "metadata": {},
   "outputs": [],
   "source": [
    "data['JOB_INFO_FOREIGN_LANG_REQ'] = np.where(data['JOB_INFO_FOREIGN_LANG_REQ'] == \"Y\", 1,0)"
   ]
  },
  {
   "cell_type": "code",
   "execution_count": 1265,
   "metadata": {
    "collapsed": true
   },
   "outputs": [],
   "source": [
    "data['JOB_INFO_COMBO_OCCUPATION'] = np.where((data['JOB_INFO_COMBO_OCCUPATION']) == \"Y\", 1,0)"
   ]
  },
  {
   "cell_type": "code",
   "execution_count": 1316,
   "metadata": {
    "collapsed": true
   },
   "outputs": [],
   "source": [
    "data['Year_wage_offer'] = data['Year_wage_offer'].fillna(data['Year_wage_pw'])"
   ]
  },
  {
   "cell_type": "code",
   "execution_count": 1312,
   "metadata": {},
   "outputs": [],
   "source": [
    "#GEtting final data\n",
    "data_fin = data[['CASE_STATUS','JOB_INFO_JOB_REQ_NORMAL','DEC_YEAR','LAWYER','JOB_INFO_FOREIGN_LANG_REQ','JOB_INFO_COMBO_OCCUPATION','Wage_level','Year_wage_offer','Year_wage_pw','Ind_code','Higher education','Lower education','Total_rec','EMPLOYER_YR_ESTAB','H1B_VISA','Other_Visa','No_US_Visa','Same_education']]"
   ]
  },
  {
   "cell_type": "code",
   "execution_count": null,
   "metadata": {
    "collapsed": true
   },
   "outputs": [],
   "source": []
  },
  {
   "cell_type": "code",
   "execution_count": 1313,
   "metadata": {
    "collapsed": true
   },
   "outputs": [],
   "source": [
    "#Remove rows with withdrawn status\n",
    "data_fin = data_fin[data_fin.CASE_STATUS != \"Withdrawn\"]"
   ]
  },
  {
   "cell_type": "code",
   "execution_count": 1314,
   "metadata": {},
   "outputs": [],
   "source": [
    "#binarize case status\n",
    "data_fin['CASE_STATUS'] = np.where(data_fin['CASE_STATUS'] == \"Certified\",1,0)"
   ]
  },
  {
   "cell_type": "code",
   "execution_count": 1300,
   "metadata": {},
   "outputs": [
    {
     "data": {
      "text/plain": [
       "<matplotlib.axes._subplots.AxesSubplot at 0x1ae7ae87b8>"
      ]
     },
     "execution_count": 1300,
     "metadata": {},
     "output_type": "execute_result"
    },
    {
     "data": {
      "image/png": "[encoded data removed]",
      "text/plain": [
       "<matplotlib.figure.Figure at 0x1adef2b198>"
      ]
     },
     "metadata": {},
     "output_type": "display_data"
    }
   ],
   "source": [
    "graph_visa = data_fin.groupby(['CASE_STATUS', 'No_US_Visa'])['No_US_Visa'].count().unstack('CASE_STATUS')\n",
    "graph_visa.plot(kind='bar', stacked=True)`"
   ]
  },
  {
   "cell_type": "code",
   "execution_count": 1315,
   "metadata": {},
   "outputs": [
    {
     "data": {
      "image/png": "[encoded data removed]",
      "text/plain": [
       "<matplotlib.figure.Figure at 0x1aeb036c50>"
      ]
     },
     "metadata": {},
     "output_type": "display_data"
    }
   ],
   "source": [
    "import seaborn as sns\n",
    "fig, ax = plt.subplots(figsize=(10,10)) \n",
    "sns.heatmap(data_fin.corr(), annot = round(data_fin.corr(), ndigits=2))\n",
    "plt.show()"
   ]
  },
  {
   "cell_type": "code",
   "execution_count": 1317,
   "metadata": {},
   "outputs": [],
   "source": [
    "status = data_fin['CASE_STATUS'].as_matrix()\n",
    "data_ftr = data_fin.iloc[:,1:]"
   ]
  },
  {
   "cell_type": "code",
   "execution_count": 1318,
   "metadata": {},
   "outputs": [
    {
     "data": {
      "text/plain": [
       "['Wage_level', 'Year_wage_offer', 'Year_wage_pw', 'EMPLOYER_YR_ESTAB']"
      ]
     },
     "execution_count": 1318,
     "metadata": {},
     "output_type": "execute_result"
    }
   ],
   "source": [
    "data_ftr.columns[data_ftr.isnull().any()].tolist()"
   ]
  },
  {
   "cell_type": "code",
   "execution_count": 1286,
   "metadata": {},
   "outputs": [],
   "source": [
    "del data_ftr['Ind_code']"
   ]
  },
  {
   "cell_type": "code",
   "execution_count": 1285,
   "metadata": {},
   "outputs": [
    {
     "data": {
      "text/html": [
       "<div>\n",
       "<style>\n",
       "    .dataframe thead tr:only-child th {\n",
       "        text-align: right;\n",
       "    }\n",
       "\n",
       "    .dataframe thead th {\n",
       "        text-align: left;\n",
       "    }\n",
       "\n",
       "    .dataframe tbody tr th {\n",
       "        vertical-align: top;\n",
       "    }\n",
       "</style>\n",
       "<table border=\"1\" class=\"dataframe\">\n",
       "  <thead>\n",
       "    <tr style=\"text-align: right;\">\n",
       "      <th></th>\n",
       "      <th>JOB_INFO_JOB_REQ_NORMAL</th>\n",
       "      <th>DEC_YEAR</th>\n",
       "      <th>LAWYER</th>\n",
       "      <th>JOB_INFO_FOREIGN_LANG_REQ</th>\n",
       "      <th>JOB_INFO_COMBO_OCCUPATION</th>\n",
       "      <th>Year_wage_offer</th>\n",
       "      <th>Ind_code</th>\n",
       "      <th>Higher education</th>\n",
       "      <th>Lower education</th>\n",
       "      <th>Total_rec</th>\n",
       "      <th>EMPLOYER_YR_ESTAB</th>\n",
       "      <th>H1B_VISA</th>\n",
       "      <th>Other_Visa</th>\n",
       "      <th>No_US_Visa</th>\n",
       "      <th>Same_education</th>\n",
       "    </tr>\n",
       "  </thead>\n",
       "  <tbody>\n",
       "    <tr>\n",
       "      <th>0</th>\n",
       "      <td>1</td>\n",
       "      <td>2015</td>\n",
       "      <td>1</td>\n",
       "      <td>0</td>\n",
       "      <td>0</td>\n",
       "      <td>93000.000000</td>\n",
       "      <td>15</td>\n",
       "      <td>0</td>\n",
       "      <td>1</td>\n",
       "      <td>165.0</td>\n",
       "      <td>1862.0</td>\n",
       "      <td>1</td>\n",
       "      <td>0</td>\n",
       "      <td>0</td>\n",
       "      <td>0</td>\n",
       "    </tr>\n",
       "    <tr>\n",
       "      <th>1</th>\n",
       "      <td>1</td>\n",
       "      <td>2015</td>\n",
       "      <td>1</td>\n",
       "      <td>0</td>\n",
       "      <td>0</td>\n",
       "      <td>90459.000000</td>\n",
       "      <td>15</td>\n",
       "      <td>0</td>\n",
       "      <td>0</td>\n",
       "      <td>95.0</td>\n",
       "      <td>2002.0</td>\n",
       "      <td>1</td>\n",
       "      <td>0</td>\n",
       "      <td>0</td>\n",
       "      <td>1</td>\n",
       "    </tr>\n",
       "    <tr>\n",
       "      <th>2</th>\n",
       "      <td>0</td>\n",
       "      <td>2014</td>\n",
       "      <td>1</td>\n",
       "      <td>0</td>\n",
       "      <td>0</td>\n",
       "      <td>175000.000000</td>\n",
       "      <td>15</td>\n",
       "      <td>0</td>\n",
       "      <td>0</td>\n",
       "      <td>57.0</td>\n",
       "      <td>1998.0</td>\n",
       "      <td>0</td>\n",
       "      <td>1</td>\n",
       "      <td>0</td>\n",
       "      <td>1</td>\n",
       "    </tr>\n",
       "    <tr>\n",
       "      <th>3</th>\n",
       "      <td>1</td>\n",
       "      <td>2015</td>\n",
       "      <td>1</td>\n",
       "      <td>0</td>\n",
       "      <td>0</td>\n",
       "      <td>112958.500000</td>\n",
       "      <td>17</td>\n",
       "      <td>0</td>\n",
       "      <td>0</td>\n",
       "      <td>43.0</td>\n",
       "      <td>1968.0</td>\n",
       "      <td>1</td>\n",
       "      <td>0</td>\n",
       "      <td>0</td>\n",
       "      <td>1</td>\n",
       "    </tr>\n",
       "    <tr>\n",
       "      <th>4</th>\n",
       "      <td>1</td>\n",
       "      <td>2015</td>\n",
       "      <td>1</td>\n",
       "      <td>0</td>\n",
       "      <td>0</td>\n",
       "      <td>94016.000000</td>\n",
       "      <td>15</td>\n",
       "      <td>1</td>\n",
       "      <td>0</td>\n",
       "      <td>133.0</td>\n",
       "      <td>1999.0</td>\n",
       "      <td>1</td>\n",
       "      <td>0</td>\n",
       "      <td>0</td>\n",
       "      <td>0</td>\n",
       "    </tr>\n",
       "    <tr>\n",
       "      <th>5</th>\n",
       "      <td>0</td>\n",
       "      <td>2014</td>\n",
       "      <td>1</td>\n",
       "      <td>0</td>\n",
       "      <td>0</td>\n",
       "      <td>148540.000000</td>\n",
       "      <td>15</td>\n",
       "      <td>0</td>\n",
       "      <td>0</td>\n",
       "      <td>51.0</td>\n",
       "      <td>1982.0</td>\n",
       "      <td>1</td>\n",
       "      <td>0</td>\n",
       "      <td>0</td>\n",
       "      <td>1</td>\n",
       "    </tr>\n",
       "    <tr>\n",
       "      <th>6</th>\n",
       "      <td>1</td>\n",
       "      <td>2015</td>\n",
       "      <td>1</td>\n",
       "      <td>0</td>\n",
       "      <td>0</td>\n",
       "      <td>104000.000000</td>\n",
       "      <td>29</td>\n",
       "      <td>0</td>\n",
       "      <td>0</td>\n",
       "      <td>144.0</td>\n",
       "      <td>1978.0</td>\n",
       "      <td>1</td>\n",
       "      <td>0</td>\n",
       "      <td>0</td>\n",
       "      <td>1</td>\n",
       "    </tr>\n",
       "    <tr>\n",
       "      <th>7</th>\n",
       "      <td>1</td>\n",
       "      <td>2015</td>\n",
       "      <td>1</td>\n",
       "      <td>0</td>\n",
       "      <td>0</td>\n",
       "      <td>111717.000000</td>\n",
       "      <td>15</td>\n",
       "      <td>0</td>\n",
       "      <td>0</td>\n",
       "      <td>96.0</td>\n",
       "      <td>2004.0</td>\n",
       "      <td>1</td>\n",
       "      <td>0</td>\n",
       "      <td>0</td>\n",
       "      <td>1</td>\n",
       "    </tr>\n",
       "    <tr>\n",
       "      <th>8</th>\n",
       "      <td>1</td>\n",
       "      <td>2015</td>\n",
       "      <td>1</td>\n",
       "      <td>0</td>\n",
       "      <td>0</td>\n",
       "      <td>105144.000000</td>\n",
       "      <td>15</td>\n",
       "      <td>0</td>\n",
       "      <td>0</td>\n",
       "      <td>66.0</td>\n",
       "      <td>2007.0</td>\n",
       "      <td>1</td>\n",
       "      <td>0</td>\n",
       "      <td>0</td>\n",
       "      <td>1</td>\n",
       "    </tr>\n",
       "    <tr>\n",
       "      <th>9</th>\n",
       "      <td>0</td>\n",
       "      <td>2015</td>\n",
       "      <td>1</td>\n",
       "      <td>0</td>\n",
       "      <td>0</td>\n",
       "      <td>122179.000000</td>\n",
       "      <td>15</td>\n",
       "      <td>0</td>\n",
       "      <td>0</td>\n",
       "      <td>63.0</td>\n",
       "      <td>1989.0</td>\n",
       "      <td>0</td>\n",
       "      <td>0</td>\n",
       "      <td>1</td>\n",
       "      <td>1</td>\n",
       "    </tr>\n",
       "    <tr>\n",
       "      <th>10</th>\n",
       "      <td>0</td>\n",
       "      <td>2015</td>\n",
       "      <td>1</td>\n",
       "      <td>0</td>\n",
       "      <td>0</td>\n",
       "      <td>122179.000000</td>\n",
       "      <td>15</td>\n",
       "      <td>0</td>\n",
       "      <td>0</td>\n",
       "      <td>155.0</td>\n",
       "      <td>1992.0</td>\n",
       "      <td>1</td>\n",
       "      <td>0</td>\n",
       "      <td>0</td>\n",
       "      <td>1</td>\n",
       "    </tr>\n",
       "    <tr>\n",
       "      <th>11</th>\n",
       "      <td>1</td>\n",
       "      <td>2015</td>\n",
       "      <td>1</td>\n",
       "      <td>0</td>\n",
       "      <td>0</td>\n",
       "      <td>90000.000000</td>\n",
       "      <td>15</td>\n",
       "      <td>0</td>\n",
       "      <td>0</td>\n",
       "      <td>93.0</td>\n",
       "      <td>2010.0</td>\n",
       "      <td>1</td>\n",
       "      <td>0</td>\n",
       "      <td>0</td>\n",
       "      <td>1</td>\n",
       "    </tr>\n",
       "    <tr>\n",
       "      <th>12</th>\n",
       "      <td>1</td>\n",
       "      <td>2015</td>\n",
       "      <td>1</td>\n",
       "      <td>0</td>\n",
       "      <td>0</td>\n",
       "      <td>132607.000000</td>\n",
       "      <td>17</td>\n",
       "      <td>0</td>\n",
       "      <td>0</td>\n",
       "      <td>44.0</td>\n",
       "      <td>1968.0</td>\n",
       "      <td>1</td>\n",
       "      <td>0</td>\n",
       "      <td>0</td>\n",
       "      <td>1</td>\n",
       "    </tr>\n",
       "    <tr>\n",
       "      <th>13</th>\n",
       "      <td>1</td>\n",
       "      <td>2015</td>\n",
       "      <td>1</td>\n",
       "      <td>0</td>\n",
       "      <td>0</td>\n",
       "      <td>112403.000000</td>\n",
       "      <td>29</td>\n",
       "      <td>0</td>\n",
       "      <td>0</td>\n",
       "      <td>51.0</td>\n",
       "      <td>2013.0</td>\n",
       "      <td>1</td>\n",
       "      <td>0</td>\n",
       "      <td>0</td>\n",
       "      <td>1</td>\n",
       "    </tr>\n",
       "    <tr>\n",
       "      <th>14</th>\n",
       "      <td>1</td>\n",
       "      <td>2015</td>\n",
       "      <td>0</td>\n",
       "      <td>0</td>\n",
       "      <td>0</td>\n",
       "      <td>110000.000000</td>\n",
       "      <td>25</td>\n",
       "      <td>0</td>\n",
       "      <td>0</td>\n",
       "      <td>72.0</td>\n",
       "      <td>1850.0</td>\n",
       "      <td>1</td>\n",
       "      <td>0</td>\n",
       "      <td>0</td>\n",
       "      <td>1</td>\n",
       "    </tr>\n",
       "    <tr>\n",
       "      <th>15</th>\n",
       "      <td>1</td>\n",
       "      <td>2015</td>\n",
       "      <td>1</td>\n",
       "      <td>0</td>\n",
       "      <td>0</td>\n",
       "      <td>45780.000000</td>\n",
       "      <td>25</td>\n",
       "      <td>0</td>\n",
       "      <td>0</td>\n",
       "      <td>0.0</td>\n",
       "      <td>1890.0</td>\n",
       "      <td>1</td>\n",
       "      <td>0</td>\n",
       "      <td>0</td>\n",
       "      <td>1</td>\n",
       "    </tr>\n",
       "    <tr>\n",
       "      <th>16</th>\n",
       "      <td>1</td>\n",
       "      <td>2015</td>\n",
       "      <td>1</td>\n",
       "      <td>0</td>\n",
       "      <td>0</td>\n",
       "      <td>107897.891418</td>\n",
       "      <td>29</td>\n",
       "      <td>0</td>\n",
       "      <td>0</td>\n",
       "      <td>67.0</td>\n",
       "      <td>2000.0</td>\n",
       "      <td>0</td>\n",
       "      <td>1</td>\n",
       "      <td>0</td>\n",
       "      <td>1</td>\n",
       "    </tr>\n",
       "    <tr>\n",
       "      <th>17</th>\n",
       "      <td>1</td>\n",
       "      <td>2015</td>\n",
       "      <td>1</td>\n",
       "      <td>0</td>\n",
       "      <td>0</td>\n",
       "      <td>116147.500000</td>\n",
       "      <td>30</td>\n",
       "      <td>0</td>\n",
       "      <td>0</td>\n",
       "      <td>175.0</td>\n",
       "      <td>1977.0</td>\n",
       "      <td>1</td>\n",
       "      <td>0</td>\n",
       "      <td>0</td>\n",
       "      <td>1</td>\n",
       "    </tr>\n",
       "    <tr>\n",
       "      <th>18</th>\n",
       "      <td>0</td>\n",
       "      <td>2015</td>\n",
       "      <td>1</td>\n",
       "      <td>0</td>\n",
       "      <td>0</td>\n",
       "      <td>120450.000000</td>\n",
       "      <td>17</td>\n",
       "      <td>0</td>\n",
       "      <td>0</td>\n",
       "      <td>68.0</td>\n",
       "      <td>1988.0</td>\n",
       "      <td>0</td>\n",
       "      <td>1</td>\n",
       "      <td>0</td>\n",
       "      <td>1</td>\n",
       "    </tr>\n",
       "    <tr>\n",
       "      <th>19</th>\n",
       "      <td>0</td>\n",
       "      <td>2015</td>\n",
       "      <td>1</td>\n",
       "      <td>0</td>\n",
       "      <td>0</td>\n",
       "      <td>114941.000000</td>\n",
       "      <td>15</td>\n",
       "      <td>0</td>\n",
       "      <td>0</td>\n",
       "      <td>101.0</td>\n",
       "      <td>1999.0</td>\n",
       "      <td>1</td>\n",
       "      <td>0</td>\n",
       "      <td>0</td>\n",
       "      <td>1</td>\n",
       "    </tr>\n",
       "  </tbody>\n",
       "</table>\n",
       "</div>"
      ],
      "text/plain": [
       "    JOB_INFO_JOB_REQ_NORMAL  DEC_YEAR  LAWYER  JOB_INFO_FOREIGN_LANG_REQ  \\\n",
       "0                         1      2015       1                          0   \n",
       "1                         1      2015       1                          0   \n",
       "2                         0      2014       1                          0   \n",
       "3                         1      2015       1                          0   \n",
       "4                         1      2015       1                          0   \n",
       "5                         0      2014       1                          0   \n",
       "6                         1      2015       1                          0   \n",
       "7                         1      2015       1                          0   \n",
       "8                         1      2015       1                          0   \n",
       "9                         0      2015       1                          0   \n",
       "10                        0      2015       1                          0   \n",
       "11                        1      2015       1                          0   \n",
       "12                        1      2015       1                          0   \n",
       "13                        1      2015       1                          0   \n",
       "14                        1      2015       0                          0   \n",
       "15                        1      2015       1                          0   \n",
       "16                        1      2015       1                          0   \n",
       "17                        1      2015       1                          0   \n",
       "18                        0      2015       1                          0   \n",
       "19                        0      2015       1                          0   \n",
       "\n",
       "    JOB_INFO_COMBO_OCCUPATION  Year_wage_offer Ind_code  Higher education  \\\n",
       "0                           0     93000.000000       15                 0   \n",
       "1                           0     90459.000000       15                 0   \n",
       "2                           0    175000.000000       15                 0   \n",
       "3                           0    112958.500000       17                 0   \n",
       "4                           0     94016.000000       15                 1   \n",
       "5                           0    148540.000000       15                 0   \n",
       "6                           0    104000.000000       29                 0   \n",
       "7                           0    111717.000000       15                 0   \n",
       "8                           0    105144.000000       15                 0   \n",
       "9                           0    122179.000000       15                 0   \n",
       "10                          0    122179.000000       15                 0   \n",
       "11                          0     90000.000000       15                 0   \n",
       "12                          0    132607.000000       17                 0   \n",
       "13                          0    112403.000000       29                 0   \n",
       "14                          0    110000.000000       25                 0   \n",
       "15                          0     45780.000000       25                 0   \n",
       "16                          0    107897.891418       29                 0   \n",
       "17                          0    116147.500000       30                 0   \n",
       "18                          0    120450.000000       17                 0   \n",
       "19                          0    114941.000000       15                 0   \n",
       "\n",
       "    Lower education  Total_rec  EMPLOYER_YR_ESTAB  H1B_VISA  Other_Visa  \\\n",
       "0                 1      165.0             1862.0         1           0   \n",
       "1                 0       95.0             2002.0         1           0   \n",
       "2                 0       57.0             1998.0         0           1   \n",
       "3                 0       43.0             1968.0         1           0   \n",
       "4                 0      133.0             1999.0         1           0   \n",
       "5                 0       51.0             1982.0         1           0   \n",
       "6                 0      144.0             1978.0         1           0   \n",
       "7                 0       96.0             2004.0         1           0   \n",
       "8                 0       66.0             2007.0         1           0   \n",
       "9                 0       63.0             1989.0         0           0   \n",
       "10                0      155.0             1992.0         1           0   \n",
       "11                0       93.0             2010.0         1           0   \n",
       "12                0       44.0             1968.0         1           0   \n",
       "13                0       51.0             2013.0         1           0   \n",
       "14                0       72.0             1850.0         1           0   \n",
       "15                0        0.0             1890.0         1           0   \n",
       "16                0       67.0             2000.0         0           1   \n",
       "17                0      175.0             1977.0         1           0   \n",
       "18                0       68.0             1988.0         0           1   \n",
       "19                0      101.0             1999.0         1           0   \n",
       "\n",
       "    No_US_Visa  Same_education  \n",
       "0            0               0  \n",
       "1            0               1  \n",
       "2            0               1  \n",
       "3            0               1  \n",
       "4            0               0  \n",
       "5            0               1  \n",
       "6            0               1  \n",
       "7            0               1  \n",
       "8            0               1  \n",
       "9            1               1  \n",
       "10           0               1  \n",
       "11           0               1  \n",
       "12           0               1  \n",
       "13           0               1  \n",
       "14           0               1  \n",
       "15           0               1  \n",
       "16           0               1  \n",
       "17           0               1  \n",
       "18           0               1  \n",
       "19           0               1  "
      ]
     },
     "execution_count": 1285,
     "metadata": {},
     "output_type": "execute_result"
    }
   ],
   "source": [
    "data_ftr.head(n=20)"
   ]
  },
  {
   "cell_type": "code",
   "execution_count": 1287,
   "metadata": {},
   "outputs": [
    {
     "data": {
      "text/plain": [
       "array([  3.14891080e-02,   1.59019464e-02,   4.84258806e-02,\n",
       "         7.38643088e-04,   7.16784668e-05,   1.93038381e-02,\n",
       "         1.21703937e-03,   2.38179253e-04,   4.73439122e-03,\n",
       "         3.11376070e-03,   3.40168882e-02,   1.86060731e-03,\n",
       "         1.41267737e-03,   3.81150124e-02])"
      ]
     },
     "execution_count": 1287,
     "metadata": {},
     "output_type": "execute_result"
    }
   ],
   "source": [
    "mutual_info_classif(data_ftr, status)"
   ]
  },
  {
   "cell_type": "code",
   "execution_count": 1289,
   "metadata": {},
   "outputs": [
    {
     "name": "stdout",
     "output_type": "stream",
     "text": [
      "[ -2.39474877e-07   6.15590642e-04   4.69631952e-07  -7.95735360e-08\n",
      "  -4.63632434e-08   2.23901229e-06  -3.71491306e-08   6.39306997e-08\n",
      "  -1.70711302e-05   6.07239132e-04   6.49394069e-07  -1.52401718e-07\n",
      "  -1.90497648e-07   4.39593741e-07]\n"
     ]
    }
   ],
   "source": [
    "X_train, X_test, y_train, y_test = train_test_split(data_ftr, status, random_state=0)\n",
    "classifier = LogisticRegression(random_state=0)\n",
    "classifier.fit(X_train, y_train)\n",
    "coef = classifier.coef_[0]\n",
    "print (coef)"
   ]
  },
  {
   "cell_type": "code",
   "execution_count": 1290,
   "metadata": {},
   "outputs": [
    {
     "name": "stdout",
     "output_type": "stream",
     "text": [
      "[[    0  4885]\n",
      " [    0 69597]]\n"
     ]
    }
   ],
   "source": [
    "y_pred = classifier.predict(X_test)\n",
    "from sklearn.metrics import confusion_matrix\n",
    "confusion_matrix = confusion_matrix(y_test, y_pred)\n",
    "print(confusion_matrix)"
   ]
  },
  {
   "cell_type": "code",
   "execution_count": 1291,
   "metadata": {},
   "outputs": [
    {
     "name": "stdout",
     "output_type": "stream",
     "text": [
      "Accuracy of logistic regression classifier on test set: 0.934413684\n"
     ]
    }
   ],
   "source": [
    "print('Accuracy of logistic regression classifier on test set: {:.9f}'.format(classifier.score(X_test, y_test)))"
   ]
  },
  {
   "cell_type": "code",
   "execution_count": 1292,
   "metadata": {},
   "outputs": [
    {
     "name": "stdout",
     "output_type": "stream",
     "text": [
      "             precision    recall  f1-score   support\n",
      "\n",
      "          0       0.00      0.00      0.00      4885\n",
      "          1       0.93      1.00      0.97     69597\n",
      "\n",
      "avg / total       0.87      0.93      0.90     74482\n",
      "\n"
     ]
    }
   ],
   "source": [
    "from sklearn.metrics import classification_report\n",
    "print(classification_report(y_test, y_pred))"
   ]
  },
  {
   "cell_type": "code",
   "execution_count": 1294,
   "metadata": {},
   "outputs": [
    {
     "name": "stdout",
     "output_type": "stream",
     "text": [
      "Optimization terminated successfully.\n",
      "         Current function value: 0.238042\n",
      "         Iterations 12\n"
     ]
    }
   ],
   "source": [
    "import statsmodels.api as sm\n",
    "logit = sm.Logit(y_train, X_train)\n",
    "result = logit.fit()"
   ]
  },
  {
   "cell_type": "code",
   "execution_count": 1295,
   "metadata": {},
   "outputs": [
    {
     "data": {
      "text/html": [
       "<table class=\"simpletable\">\n",
       "<caption>Logit Regression Results</caption>\n",
       "<tr>\n",
       "  <th>Dep. Variable:</th>         <td>y</td>        <th>  No. Observations:  </th>   <td>223446</td>  \n",
       "</tr>\n",
       "<tr>\n",
       "  <th>Model:</th>               <td>Logit</td>      <th>  Df Residuals:      </th>   <td>223432</td>  \n",
       "</tr>\n",
       "<tr>\n",
       "  <th>Method:</th>               <td>MLE</td>       <th>  Df Model:          </th>   <td>    13</td>  \n",
       "</tr>\n",
       "<tr>\n",
       "  <th>Date:</th>          <td>Thu, 08 Mar 2018</td> <th>  Pseudo R-squ.:     </th>   <td>0.01382</td> \n",
       "</tr>\n",
       "<tr>\n",
       "  <th>Time:</th>              <td>20:39:41</td>     <th>  Log-Likelihood:    </th>  <td> -53190.</td> \n",
       "</tr>\n",
       "<tr>\n",
       "  <th>converged:</th>           <td>True</td>       <th>  LL-Null:           </th>  <td> -53935.</td> \n",
       "</tr>\n",
       "<tr>\n",
       "  <th> </th>                      <td> </td>        <th>  LLR p-value:       </th> <td>3.346e-311</td>\n",
       "</tr>\n",
       "</table>\n",
       "<table class=\"simpletable\">\n",
       "<tr>\n",
       "              <td></td>                 <th>coef</th>     <th>std err</th>      <th>z</th>      <th>P>|z|</th>  <th>[0.025</th>    <th>0.975]</th>  \n",
       "</tr>\n",
       "<tr>\n",
       "  <th>JOB_INFO_JOB_REQ_NORMAL</th>   <td>   -0.2428</td> <td>    0.021</td> <td>  -11.599</td> <td> 0.000</td> <td>   -0.284</td> <td>   -0.202</td>\n",
       "</tr>\n",
       "<tr>\n",
       "  <th>DEC_YEAR</th>                  <td>   -0.2716</td> <td>    0.010</td> <td>  -26.288</td> <td> 0.000</td> <td>   -0.292</td> <td>   -0.251</td>\n",
       "</tr>\n",
       "<tr>\n",
       "  <th>LAWYER</th>                    <td>    0.1568</td> <td>    0.024</td> <td>    6.483</td> <td> 0.000</td> <td>    0.109</td> <td>    0.204</td>\n",
       "</tr>\n",
       "<tr>\n",
       "  <th>JOB_INFO_FOREIGN_LANG_REQ</th> <td>   -0.3159</td> <td>    0.053</td> <td>   -5.942</td> <td> 0.000</td> <td>   -0.420</td> <td>   -0.212</td>\n",
       "</tr>\n",
       "<tr>\n",
       "  <th>JOB_INFO_COMBO_OCCUPATION</th> <td>   -0.5255</td> <td>    0.099</td> <td>   -5.307</td> <td> 0.000</td> <td>   -0.720</td> <td>   -0.331</td>\n",
       "</tr>\n",
       "<tr>\n",
       "  <th>Year_wage_offer</th>           <td>  1.62e-07</td> <td> 1.48e-07</td> <td>    1.097</td> <td> 0.273</td> <td>-1.27e-07</td> <td> 4.52e-07</td>\n",
       "</tr>\n",
       "<tr>\n",
       "  <th>Higher education</th>          <td>    0.4892</td> <td>    0.054</td> <td>    9.087</td> <td> 0.000</td> <td>    0.384</td> <td>    0.595</td>\n",
       "</tr>\n",
       "<tr>\n",
       "  <th>Lower education</th>           <td>    0.5907</td> <td>    0.058</td> <td>   10.143</td> <td> 0.000</td> <td>    0.477</td> <td>    0.705</td>\n",
       "</tr>\n",
       "<tr>\n",
       "  <th>Total_rec</th>                 <td>-1.748e-05</td> <td> 1.48e-05</td> <td>   -1.180</td> <td> 0.238</td> <td>-4.65e-05</td> <td> 1.15e-05</td>\n",
       "</tr>\n",
       "<tr>\n",
       "  <th>EMPLOYER_YR_ESTAB</th>         <td>    0.0005</td> <td>    0.000</td> <td>    2.368</td> <td> 0.018</td> <td>  7.8e-05</td> <td>    0.001</td>\n",
       "</tr>\n",
       "<tr>\n",
       "  <th>H1B_VISA</th>                  <td>  548.8079</td> <td>   20.827</td> <td>   26.351</td> <td> 0.000</td> <td>  507.989</td> <td>  589.627</td>\n",
       "</tr>\n",
       "<tr>\n",
       "  <th>Other_Visa</th>                <td>  548.6508</td> <td>   20.828</td> <td>   26.342</td> <td> 0.000</td> <td>  507.829</td> <td>  589.472</td>\n",
       "</tr>\n",
       "<tr>\n",
       "  <th>No_US_Visa</th>                <td>  548.4930</td> <td>   20.828</td> <td>   26.334</td> <td> 0.000</td> <td>  507.671</td> <td>  589.315</td>\n",
       "</tr>\n",
       "<tr>\n",
       "  <th>Same_education</th>            <td>    0.5867</td> <td>    0.049</td> <td>   11.884</td> <td> 0.000</td> <td>    0.490</td> <td>    0.683</td>\n",
       "</tr>\n",
       "</table>"
      ],
      "text/plain": [
       "<class 'statsmodels.iolib.summary.Summary'>\n",
       "\"\"\"\n",
       "                           Logit Regression Results                           \n",
       "==============================================================================\n",
       "Dep. Variable:                      y   No. Observations:               223446\n",
       "Model:                          Logit   Df Residuals:                   223432\n",
       "Method:                           MLE   Df Model:                           13\n",
       "Date:                Thu, 08 Mar 2018   Pseudo R-squ.:                 0.01382\n",
       "Time:                        20:39:41   Log-Likelihood:                -53190.\n",
       "converged:                       True   LL-Null:                       -53935.\n",
       "                                        LLR p-value:                3.346e-311\n",
       "=============================================================================================\n",
       "                                coef    std err          z      P>|z|      [0.025      0.975]\n",
       "---------------------------------------------------------------------------------------------\n",
       "JOB_INFO_JOB_REQ_NORMAL      -0.2428      0.021    -11.599      0.000      -0.284      -0.202\n",
       "DEC_YEAR                     -0.2716      0.010    -26.288      0.000      -0.292      -0.251\n",
       "LAWYER                        0.1568      0.024      6.483      0.000       0.109       0.204\n",
       "JOB_INFO_FOREIGN_LANG_REQ    -0.3159      0.053     -5.942      0.000      -0.420      -0.212\n",
       "JOB_INFO_COMBO_OCCUPATION    -0.5255      0.099     -5.307      0.000      -0.720      -0.331\n",
       "Year_wage_offer             1.62e-07   1.48e-07      1.097      0.273   -1.27e-07    4.52e-07\n",
       "Higher education              0.4892      0.054      9.087      0.000       0.384       0.595\n",
       "Lower education               0.5907      0.058     10.143      0.000       0.477       0.705\n",
       "Total_rec                 -1.748e-05   1.48e-05     -1.180      0.238   -4.65e-05    1.15e-05\n",
       "EMPLOYER_YR_ESTAB             0.0005      0.000      2.368      0.018     7.8e-05       0.001\n",
       "H1B_VISA                    548.8079     20.827     26.351      0.000     507.989     589.627\n",
       "Other_Visa                  548.6508     20.828     26.342      0.000     507.829     589.472\n",
       "No_US_Visa                  548.4930     20.828     26.334      0.000     507.671     589.315\n",
       "Same_education                0.5867      0.049     11.884      0.000       0.490       0.683\n",
       "=============================================================================================\n",
       "\"\"\""
      ]
     },
     "execution_count": 1295,
     "metadata": {},
     "output_type": "execute_result"
    }
   ],
   "source": [
    "result.summary()"
   ]
  },
  {
   "cell_type": "code",
   "execution_count": 1061,
   "metadata": {},
   "outputs": [
    {
     "data": {
      "image/png": "[encoded data removed]",
      "text/plain": [
       "<matplotlib.figure.Figure at 0x1b120901d0>"
      ]
     },
     "metadata": {},
     "output_type": "display_data"
    }
   ],
   "source": [
    "# <help:scikit_k_means_cluster>\n",
    "import warnings\n",
    "warnings.filterwarnings('ignore') #notebook outputs warnings, let's ignore them\n",
    "from time import time\n",
    "import numpy as np\n",
    "import matplotlib.pyplot as plt\n",
    "import sklearn.datasets\n",
    "from sklearn.cluster import KMeans\n",
    "\n",
    "# set the number of clusters, must be >=1\n",
    "n = 3\n",
    "inertia = [np.NaN]\n",
    "\n",
    "# perform k-means clustering over i=0...k\n",
    "for k in range(1,n):\n",
    "    k_means_ = KMeans(n_clusters=k)\n",
    "    k_means_.fit(data_ftr)\n",
    "    #print('k = %d, inertia= %f' % (k, k_means_.inertia_ ))\n",
    "    inertia.append(k_means_.inertia_) \n",
    "    \n",
    "# plot the SSE of the clusters for each value of i\n",
    "ax = plt.subplot(111)\n",
    "ax.plot(inertia, '-o')\n",
    "plt.xticks(range(n))\n",
    "plt.title(\"Inertia\")\n",
    "ax.set_ylabel('Inertia')\n",
    "ax.set_xlabel('# Clusters')\n",
    "plt.show() "
   ]
  },
  {
   "cell_type": "code",
   "execution_count": null,
   "metadata": {
    "collapsed": true
   },
   "outputs": [],
   "source": [
    "X = test.iloc[:,1:]\n",
    "y = test.iloc[:,0]\n",
    "X_train, X_test, y_train, y_test = train_test_split(, y, random_state=0)\n",
    "X_train.shape\n",
    "classifier = LogisticRegression(random_state=0)\n",
    "classifier.fit(X_train, y_train)\n",
    "coef = classifier.coef_[0]\n",
    "print (coef)"
   ]
  }
 ],
 "metadata": {
  "kernelspec": {
   "display_name": "Python 3",
   "language": "python",
   "name": "python3"
  },
  "language_info": {
   "codemirror_mode": {
    "name": "ipython",
    "version": 3
   },
   "file_extension": ".py",
   "mimetype": "text/x-python",
   "name": "python",
   "nbconvert_exporter": "python",
   "pygments_lexer": "ipython3",
   "version": "3.6.3"
  }
 },
 "nbformat": 4,
 "nbformat_minor": 2
}
