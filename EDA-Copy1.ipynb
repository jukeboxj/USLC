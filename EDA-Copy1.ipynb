{
 "cells": [
  {
   "cell_type": "code",
   "execution_count": 3,
   "metadata": {},
   "outputs": [],
   "source": [
    "# import required libraries\n",
    "# pandas:Data framework library for Python\n",
    "# sklearn: Library to perform machine learning tasks\n",
    "import pandas as pd\n",
    "import numpy as np\n",
    "import scipy\n",
    "import scipy.stats as st\n",
    "import sklearn \n",
    "import sklearn.datasets\n",
    "import sklearn.metrics as metrics \n",
    "from sklearn.linear_model import LogisticRegression\n",
    "from sklearn.cross_validation import StratifiedKFold\n",
    "from sklearn.svm import SVC\n",
    "from sklearn.grid_search import GridSearchCV\n",
    "from sklearn.metrics import classification_report\n",
    "from sklearn.cross_validation import train_test_split\n",
    "from sklearn.preprocessing import label_binarize\n",
    "from sklearn.feature_selection import mutual_info_classif\n",
    "from scipy import stats"
   ]
  },
  {
   "cell_type": "code",
   "execution_count": 5,
   "metadata": {},
   "outputs": [],
   "source": [
    "Data_2017 = pd.read_excel(\"PERM_Disclosure_Data_FY17.xlsx\")"
   ]
  },
  {
   "cell_type": "code",
   "execution_count": 8,
   "metadata": {},
   "outputs": [],
   "source": [
    "Data_2015 = pd.read_excel(\"PERM_Disclosure_Data_FY15_Q4.xlsx\")"
   ]
  },
  {
   "cell_type": "code",
   "execution_count": 14,
   "metadata": {},
   "outputs": [],
   "source": [
    "Data_2016 = pd.read_excel(\"PERM_Data_FY16.xlsx\")"
   ]
  },
  {
   "cell_type": "code",
   "execution_count": 60,
   "metadata": {},
   "outputs": [],
   "source": [
    "nm15 = list(Data_2015.columns.values)\n",
    "nm16 = list(Data_2016.columns.values)\n",
    "nm17 = list(Data_2017.columns.values)"
   ]
  },
  {
   "cell_type": "code",
   "execution_count": 36,
   "metadata": {
    "collapsed": true
   },
   "outputs": [],
   "source": [
    "#Change the column names so they match between years\n",
    "Data_2016=Data_2016.rename(columns = {'FW_INFO_REL_OCCUP_EXPERIENCE':'FW_INFO_REL_OCCUP_EXP'})\n",
    "Data_2015=Data_2015.rename(columns = {'JI_FOREIGN_WORKER_LIVE_ON_PREMISES':'JI_FW_LIVE_ON_PREMISES'})\n",
    "Data_2015=Data_2015.rename(columns = {'REC_INFO_BARG_REP_NOTIFIED':'RECR_INFO_BARG_REP_NOTIFIED'})\n",
    "Data_2015=Data_2015.rename(columns = {'JI_OFFERED_TO_SEC_J_FOREIGN_WORKER':'JI_OFFERED_TO_SEC_J_FW'})\n",
    "Data_2017=Data_2017.rename(columns = {'PW_JOB_TITLE_9089':'PW_Job_Title_9089'})"
   ]
  },
  {
   "cell_type": "code",
   "execution_count": 65,
   "metadata": {},
   "outputs": [],
   "source": [
    "frames = [Data_2015, Data_2016, Data_2016]\n",
    "\n",
    "data = pd.concat(frames)"
   ]
  },
  {
   "cell_type": "code",
   "execution_count": 77,
   "metadata": {},
   "outputs": [
    {
     "data": {
      "text/plain": [
       "(341585, 125)"
      ]
     },
     "execution_count": 77,
     "metadata": {},
     "output_type": "execute_result"
    }
   ],
   "source": [
    "data.shape\n",
    "#number of rows, cols"
   ]
  },
  {
   "cell_type": "code",
   "execution_count": 71,
   "metadata": {},
   "outputs": [
    {
     "data": {
      "text/plain": [
       "array(['Certified-Expired', 'Certified', 'Denied', 'Withdrawn'], dtype=object)"
      ]
     },
     "execution_count": 71,
     "metadata": {},
     "output_type": "execute_result"
    }
   ],
   "source": [
    "data.CASE_STATUS.unique()"
   ]
  },
  {
   "cell_type": "code",
   "execution_count": 86,
   "metadata": {},
   "outputs": [
    {
     "data": {
      "text/plain": [
       "Certified            46.466619\n",
       "Certified-Expired    44.522154\n",
       "Denied                5.011637\n",
       "Withdrawn             3.999590\n",
       "Name: CASE_STATUS, dtype: float64"
      ]
     },
     "execution_count": 86,
     "metadata": {},
     "output_type": "execute_result"
    }
   ],
   "source": [
    "(data['CASE_STATUS'].value_counts() / data['CASE_STATUS'].value_counts().sum()) * 100"
   ]
  },
  {
   "cell_type": "code",
   "execution_count": 87,
   "metadata": {},
   "outputs": [
    {
     "data": {
      "text/plain": [
       "N    99.857999\n",
       "Y     0.142001\n",
       "Name: REFILE, dtype: float64"
      ]
     },
     "execution_count": 87,
     "metadata": {},
     "output_type": "execute_result"
    }
   ],
   "source": [
    "(data['REFILE'].value_counts() / data['REFILE'].value_counts().sum()) * 100\n",
    "#small percentage of refile, no need"
   ]
  },
  {
   "cell_type": "code",
   "execution_count": 88,
   "metadata": {},
   "outputs": [
    {
     "data": {
      "text/plain": [
       "N    100.0\n",
       "Name: SCHD_A_SHEEPHERDER, dtype: float64"
      ]
     },
     "execution_count": 88,
     "metadata": {},
     "output_type": "execute_result"
    }
   ],
   "source": [
    "(data['SCHD_A_SHEEPHERDER'].value_counts() / data['SCHD_A_SHEEPHERDER'].value_counts().sum()) * 100"
   ]
  },
  {
   "cell_type": "code",
   "execution_count": 92,
   "metadata": {},
   "outputs": [
    {
     "data": {
      "text/plain": [
       "341462"
      ]
     },
     "execution_count": 92,
     "metadata": {},
     "output_type": "execute_result"
    }
   ],
   "source": [
    "data['EMPLOYER_NUM_EMPLOYEES'].count()"
   ]
  },
  {
   "cell_type": "code",
   "execution_count": 93,
   "metadata": {},
   "outputs": [
    {
     "data": {
      "text/plain": [
       "N    99.511522\n",
       "Y     0.488478\n",
       "Name: FW_OWNERSHIP_INTEREST, dtype: float64"
      ]
     },
     "execution_count": 93,
     "metadata": {},
     "output_type": "execute_result"
    }
   ],
   "source": [
    "(data['FW_OWNERSHIP_INTEREST'].value_counts() / data['FW_OWNERSHIP_INTEREST'].value_counts().sum()) * 100"
   ]
  },
  {
   "cell_type": "code",
   "execution_count": 95,
   "metadata": {},
   "outputs": [
    {
     "data": {
      "text/plain": [
       "0.13221013803299325"
      ]
     },
     "execution_count": 95,
     "metadata": {},
     "output_type": "execute_result"
    }
   ],
   "source": [
    "data['AGENT_FIRM_NAME'].isnull().sum() / 341585"
   ]
  },
  {
   "cell_type": "code",
   "execution_count": 96,
   "metadata": {},
   "outputs": [
    {
     "data": {
      "text/plain": [
       "Y    99.98624\n",
       "N     0.01376\n",
       "Name: JI_OFFERED_TO_SEC_J_FW, dtype: float64"
      ]
     },
     "execution_count": 96,
     "metadata": {},
     "output_type": "execute_result"
    }
   ],
   "source": [
    "(data['JI_OFFERED_TO_SEC_J_FW'].value_counts() / data['JI_OFFERED_TO_SEC_J_FW'].value_counts().sum()) * 100"
   ]
  },
  {
   "cell_type": "code",
   "execution_count": 97,
   "metadata": {},
   "outputs": [
    {
     "data": {
      "text/plain": [
       "N    99.863742\n",
       "Y     0.136258\n",
       "Name: JI_FW_LIVE_ON_PREMISES, dtype: float64"
      ]
     },
     "execution_count": 97,
     "metadata": {},
     "output_type": "execute_result"
    }
   ],
   "source": [
    "(data['JI_FW_LIVE_ON_PREMISES'].value_counts() / data['JI_FW_LIVE_ON_PREMISES'].value_counts().sum()) * 100"
   ]
  },
  {
   "cell_type": "code",
   "execution_count": 98,
   "metadata": {},
   "outputs": [
    {
     "data": {
      "text/plain": [
       "N    99.923519\n",
       "Y     0.076481\n",
       "Name: JI_LIVE_IN_DOMESTIC_SERVICE, dtype: float64"
      ]
     },
     "execution_count": 98,
     "metadata": {},
     "output_type": "execute_result"
    }
   ],
   "source": [
    "(data['JI_LIVE_IN_DOMESTIC_SERVICE'].value_counts() / data['JI_LIVE_IN_DOMESTIC_SERVICE'].value_counts().sum()) * 100"
   ]
  },
  {
   "cell_type": "code",
   "execution_count": 99,
   "metadata": {},
   "outputs": [
    {
     "data": {
      "text/plain": [
       "A    85.752979\n",
       "Y     7.123510\n",
       "N     7.123510\n",
       "Name: JI_LIVE_IN_DOM_SVC_CONTRACT, dtype: float64"
      ]
     },
     "execution_count": 99,
     "metadata": {},
     "output_type": "execute_result"
    }
   ],
   "source": [
    "(data['JI_LIVE_IN_DOM_SVC_CONTRACT'].value_counts() / data['JI_LIVE_IN_DOM_SVC_CONTRACT'].value_counts().sum()) * 100"
   ]
  },
  {
   "cell_type": "code",
   "execution_count": null,
   "metadata": {
    "collapsed": true
   },
   "outputs": [],
   "source": [
    "RI_LAYOFF_IN_PAST_SIX_MONTHS"
   ]
  },
  {
   "cell_type": "code",
   "execution_count": 100,
   "metadata": {},
   "outputs": [
    {
     "data": {
      "text/plain": [
       "N    99.993266\n",
       "Y     0.006734\n",
       "Name: RECR_INFO_EMPLOYER_REC_PAYMENT, dtype: float64"
      ]
     },
     "execution_count": 100,
     "metadata": {},
     "output_type": "execute_result"
    }
   ],
   "source": [
    "(data['RECR_INFO_EMPLOYER_REC_PAYMENT'].value_counts() / data['RECR_INFO_EMPLOYER_REC_PAYMENT'].value_counts().sum()) * 100"
   ]
  },
  {
   "cell_type": "code",
   "execution_count": 101,
   "metadata": {},
   "outputs": [
    {
     "data": {
      "text/plain": [
       "N    95.91722\n",
       "Y     4.08278\n",
       "Name: RI_LAYOFF_IN_PAST_SIX_MONTHS, dtype: float64"
      ]
     },
     "execution_count": 101,
     "metadata": {},
     "output_type": "execute_result"
    }
   ],
   "source": [
    "(data['RI_LAYOFF_IN_PAST_SIX_MONTHS'].value_counts() / data['RI_LAYOFF_IN_PAST_SIX_MONTHS'].value_counts().sum()) * 100"
   ]
  },
  {
   "cell_type": "code",
   "execution_count": 102,
   "metadata": {},
   "outputs": [
    {
     "data": {
      "text/plain": [
       "Y    50.050251\n",
       "A    48.840356\n",
       "N     1.109393\n",
       "Name: RI_US_WORKERS_CONSIDERED, dtype: float64"
      ]
     },
     "execution_count": 102,
     "metadata": {},
     "output_type": "execute_result"
    }
   ],
   "source": [
    "(data['RI_US_WORKERS_CONSIDERED'].value_counts() / data['RI_US_WORKERS_CONSIDERED'].value_counts().sum()) * 100"
   ]
  },
  {
   "cell_type": "code",
   "execution_count": 103,
   "metadata": {},
   "outputs": [
    {
     "data": {
      "text/plain": [
       "N    88.816934\n",
       "Y    11.183066\n",
       "Name: RI_COLL_TCH_BASIC_PROCESS, dtype: float64"
      ]
     },
     "execution_count": 103,
     "metadata": {},
     "output_type": "execute_result"
    }
   ],
   "source": [
    "(data['RI_COLL_TCH_BASIC_PROCESS'].value_counts() / data['RI_COLL_TCH_BASIC_PROCESS'].value_counts().sum()) * 100"
   ]
  },
  {
   "cell_type": "code",
   "execution_count": null,
   "metadata": {
    "collapsed": true
   },
   "outputs": [],
   "source": []
  },
  {
   "cell_type": "code",
   "execution_count": 104,
   "metadata": {},
   "outputs": [
    {
     "data": {
      "text/plain": [
       "Y    81.268707\n",
       "N    18.731293\n",
       "Name: RECR_INFO_COLL_TEACH_COMP_PROC, dtype: float64"
      ]
     },
     "execution_count": 104,
     "metadata": {},
     "output_type": "execute_result"
    }
   ],
   "source": [
    "(data['RECR_INFO_COLL_TEACH_COMP_PROC'].value_counts() / data['RECR_INFO_COLL_TEACH_COMP_PROC'].value_counts().sum()) * 100"
   ]
  },
  {
   "cell_type": "code",
   "execution_count": 105,
   "metadata": {
    "collapsed": true
   },
   "outputs": [],
   "source": [
    "recr_dates = data[[\"RECR_INFO_SWA_JOB_ORDER_START\",\"RECR_INFO_SWA_JOB_ORDER_END\",\"RECR_INFO_FIRST_AD_START\",\"RECR_INFO_SECOND_AD_START\",\"RECR_INFO_JOB_FAIR_FROM\",\"RECR_INFO_JOB_FAIR_TO\",\"RECR_INFO_ON_CAMPUS_RECR_FROM\",\"RECR_INFO_ON_CAMPUS_RECR_TO\",\"RI_EMPLOYER_WEB_POST_FROM\",\"RI_EMPLOYER_WEB_POST_TO\",\"RECR_INFO_PRO_ORG_ADVERT_FROM\",\"RECR_INFO_PRO_ORG_ADVERT_TO\",\"RI_JOB_SEARCH_WEBSITE_FROM\",\"RI_JOB_SEARCH_WEBSITE_TO\",\"RI_PVT_EMPLOYMENT_FIRM_FROM\",\"RI_PVT_EMPLOYMENT_FIRM_TO\",\"RI_EMPLOYEE_REFERRAL_PROG_FROM\",\"RI_EMPLOYEE_REFERRAL_PROG_TO\",\"RI_CAMPUS_PLACEMENT_FROM\",\"RI_CAMPUS_PLACEMENT_TO\",\"RI_LOCAL_ETHNIC_PAPER_FROM\",\"RI_LOCAL_ETHNIC_PAPER_TO\",\"RECR_INFO_RADIO_TV_AD_FROM\",\"RECR_INFO_RADIO_TV_AD_TO\"]]"
   ]
  },
  {
   "cell_type": "code",
   "execution_count": 108,
   "metadata": {},
   "outputs": [
    {
     "data": {
      "text/html": [
       "<div>\n",
       "<style>\n",
       "    .dataframe thead tr:only-child th {\n",
       "        text-align: right;\n",
       "    }\n",
       "\n",
       "    .dataframe thead th {\n",
       "        text-align: left;\n",
       "    }\n",
       "\n",
       "    .dataframe tbody tr th {\n",
       "        vertical-align: top;\n",
       "    }\n",
       "</style>\n",
       "<table border=\"1\" class=\"dataframe\">\n",
       "  <thead>\n",
       "    <tr style=\"text-align: right;\">\n",
       "      <th></th>\n",
       "      <th>RECR_INFO_SWA_JOB_ORDER_START</th>\n",
       "      <th>RECR_INFO_SWA_JOB_ORDER_END</th>\n",
       "      <th>RECR_INFO_FIRST_AD_START</th>\n",
       "      <th>RECR_INFO_SECOND_AD_START</th>\n",
       "      <th>RECR_INFO_JOB_FAIR_FROM</th>\n",
       "      <th>RECR_INFO_JOB_FAIR_TO</th>\n",
       "      <th>RECR_INFO_ON_CAMPUS_RECR_FROM</th>\n",
       "      <th>RECR_INFO_ON_CAMPUS_RECR_TO</th>\n",
       "      <th>RI_EMPLOYER_WEB_POST_FROM</th>\n",
       "      <th>RI_EMPLOYER_WEB_POST_TO</th>\n",
       "      <th>...</th>\n",
       "      <th>RI_PVT_EMPLOYMENT_FIRM_FROM</th>\n",
       "      <th>RI_PVT_EMPLOYMENT_FIRM_TO</th>\n",
       "      <th>RI_EMPLOYEE_REFERRAL_PROG_FROM</th>\n",
       "      <th>RI_EMPLOYEE_REFERRAL_PROG_TO</th>\n",
       "      <th>RI_CAMPUS_PLACEMENT_FROM</th>\n",
       "      <th>RI_CAMPUS_PLACEMENT_TO</th>\n",
       "      <th>RI_LOCAL_ETHNIC_PAPER_FROM</th>\n",
       "      <th>RI_LOCAL_ETHNIC_PAPER_TO</th>\n",
       "      <th>RECR_INFO_RADIO_TV_AD_FROM</th>\n",
       "      <th>RECR_INFO_RADIO_TV_AD_TO</th>\n",
       "    </tr>\n",
       "  </thead>\n",
       "  <tbody>\n",
       "    <tr>\n",
       "      <th>0</th>\n",
       "      <td>2014-05-15 00:00:00</td>\n",
       "      <td>2014-06-27 00:00:00</td>\n",
       "      <td>2014-05-25</td>\n",
       "      <td>2014-06-01</td>\n",
       "      <td>NaT</td>\n",
       "      <td>NaT</td>\n",
       "      <td>NaT</td>\n",
       "      <td>NaT</td>\n",
       "      <td>2014-05-15 00:00:00</td>\n",
       "      <td>2014-06-27</td>\n",
       "      <td>...</td>\n",
       "      <td>NaT</td>\n",
       "      <td>NaT</td>\n",
       "      <td>NaN</td>\n",
       "      <td>NaT</td>\n",
       "      <td>2014-05-23 00:00:00</td>\n",
       "      <td>2014-06-27</td>\n",
       "      <td>NaN</td>\n",
       "      <td>NaT</td>\n",
       "      <td>NaT</td>\n",
       "      <td>NaT</td>\n",
       "    </tr>\n",
       "    <tr>\n",
       "      <th>1</th>\n",
       "      <td>2014-05-29 00:00:00</td>\n",
       "      <td>2014-07-03 00:00:00</td>\n",
       "      <td>2014-06-01</td>\n",
       "      <td>2014-06-08</td>\n",
       "      <td>NaT</td>\n",
       "      <td>NaT</td>\n",
       "      <td>NaT</td>\n",
       "      <td>NaT</td>\n",
       "      <td>2014-05-30 00:00:00</td>\n",
       "      <td>2014-06-27</td>\n",
       "      <td>...</td>\n",
       "      <td>NaT</td>\n",
       "      <td>NaT</td>\n",
       "      <td>NaN</td>\n",
       "      <td>NaT</td>\n",
       "      <td>NaN</td>\n",
       "      <td>NaT</td>\n",
       "      <td>2014-06-04 00:00:00</td>\n",
       "      <td>2014-06-04</td>\n",
       "      <td>NaT</td>\n",
       "      <td>NaT</td>\n",
       "    </tr>\n",
       "    <tr>\n",
       "      <th>2</th>\n",
       "      <td>2014-03-10 00:00:00</td>\n",
       "      <td>2014-04-11 00:00:00</td>\n",
       "      <td>2014-03-23</td>\n",
       "      <td>2014-03-30</td>\n",
       "      <td>NaT</td>\n",
       "      <td>NaT</td>\n",
       "      <td>NaT</td>\n",
       "      <td>NaT</td>\n",
       "      <td>NaN</td>\n",
       "      <td>NaT</td>\n",
       "      <td>...</td>\n",
       "      <td>NaT</td>\n",
       "      <td>NaT</td>\n",
       "      <td>NaN</td>\n",
       "      <td>NaT</td>\n",
       "      <td>NaN</td>\n",
       "      <td>NaT</td>\n",
       "      <td>2014-03-26 00:00:00</td>\n",
       "      <td>2014-03-26</td>\n",
       "      <td>NaT</td>\n",
       "      <td>NaT</td>\n",
       "    </tr>\n",
       "    <tr>\n",
       "      <th>3</th>\n",
       "      <td>2014-06-05 00:00:00</td>\n",
       "      <td>2014-07-07 00:00:00</td>\n",
       "      <td>2014-06-08</td>\n",
       "      <td>2014-06-15</td>\n",
       "      <td>NaT</td>\n",
       "      <td>NaT</td>\n",
       "      <td>NaT</td>\n",
       "      <td>NaT</td>\n",
       "      <td>NaN</td>\n",
       "      <td>NaT</td>\n",
       "      <td>...</td>\n",
       "      <td>NaT</td>\n",
       "      <td>NaT</td>\n",
       "      <td>NaN</td>\n",
       "      <td>NaT</td>\n",
       "      <td>NaN</td>\n",
       "      <td>NaT</td>\n",
       "      <td>2014-06-13 00:00:00</td>\n",
       "      <td>2014-06-13</td>\n",
       "      <td>NaT</td>\n",
       "      <td>NaT</td>\n",
       "    </tr>\n",
       "    <tr>\n",
       "      <th>4</th>\n",
       "      <td>2014-04-01 00:00:00</td>\n",
       "      <td>2014-05-06 00:00:00</td>\n",
       "      <td>2014-04-27</td>\n",
       "      <td>2014-05-04</td>\n",
       "      <td>NaT</td>\n",
       "      <td>NaT</td>\n",
       "      <td>NaT</td>\n",
       "      <td>NaT</td>\n",
       "      <td>2014-04-22 00:00:00</td>\n",
       "      <td>2014-06-26</td>\n",
       "      <td>...</td>\n",
       "      <td>NaT</td>\n",
       "      <td>NaT</td>\n",
       "      <td>2014-06-16 00:00:00</td>\n",
       "      <td>2014-07-03</td>\n",
       "      <td>NaN</td>\n",
       "      <td>NaT</td>\n",
       "      <td>NaN</td>\n",
       "      <td>NaT</td>\n",
       "      <td>NaT</td>\n",
       "      <td>NaT</td>\n",
       "    </tr>\n",
       "    <tr>\n",
       "      <th>5</th>\n",
       "      <td>2014-05-22 00:00:00</td>\n",
       "      <td>2014-06-24 00:00:00</td>\n",
       "      <td>2014-02-02</td>\n",
       "      <td>2014-02-09</td>\n",
       "      <td>NaT</td>\n",
       "      <td>NaT</td>\n",
       "      <td>NaT</td>\n",
       "      <td>NaT</td>\n",
       "      <td>NaN</td>\n",
       "      <td>NaT</td>\n",
       "      <td>...</td>\n",
       "      <td>NaT</td>\n",
       "      <td>NaT</td>\n",
       "      <td>NaN</td>\n",
       "      <td>NaT</td>\n",
       "      <td>NaN</td>\n",
       "      <td>NaT</td>\n",
       "      <td>2014-02-03 00:00:00</td>\n",
       "      <td>2014-02-03</td>\n",
       "      <td>NaT</td>\n",
       "      <td>NaT</td>\n",
       "    </tr>\n",
       "    <tr>\n",
       "      <th>6</th>\n",
       "      <td>2014-05-17 00:00:00</td>\n",
       "      <td>2014-06-21 00:00:00</td>\n",
       "      <td>2014-06-01</td>\n",
       "      <td>2014-06-08</td>\n",
       "      <td>NaT</td>\n",
       "      <td>NaT</td>\n",
       "      <td>NaT</td>\n",
       "      <td>NaT</td>\n",
       "      <td>2014-05-14 00:00:00</td>\n",
       "      <td>2014-06-17</td>\n",
       "      <td>...</td>\n",
       "      <td>NaT</td>\n",
       "      <td>NaT</td>\n",
       "      <td>2014-05-12 00:00:00</td>\n",
       "      <td>2014-06-16</td>\n",
       "      <td>NaN</td>\n",
       "      <td>NaT</td>\n",
       "      <td>NaN</td>\n",
       "      <td>NaT</td>\n",
       "      <td>NaT</td>\n",
       "      <td>NaT</td>\n",
       "    </tr>\n",
       "    <tr>\n",
       "      <th>7</th>\n",
       "      <td>2014-02-20 00:00:00</td>\n",
       "      <td>2014-03-22 00:00:00</td>\n",
       "      <td>2014-06-08</td>\n",
       "      <td>2014-06-15</td>\n",
       "      <td>NaT</td>\n",
       "      <td>NaT</td>\n",
       "      <td>NaT</td>\n",
       "      <td>NaT</td>\n",
       "      <td>2014-06-05 00:00:00</td>\n",
       "      <td>2014-07-09</td>\n",
       "      <td>...</td>\n",
       "      <td>NaT</td>\n",
       "      <td>NaT</td>\n",
       "      <td>NaN</td>\n",
       "      <td>NaT</td>\n",
       "      <td>NaN</td>\n",
       "      <td>NaT</td>\n",
       "      <td>2014-06-08 00:00:00</td>\n",
       "      <td>2014-06-08</td>\n",
       "      <td>NaT</td>\n",
       "      <td>NaT</td>\n",
       "    </tr>\n",
       "    <tr>\n",
       "      <th>8</th>\n",
       "      <td>2014-06-13 00:00:00</td>\n",
       "      <td>2014-07-15 00:00:00</td>\n",
       "      <td>2014-06-15</td>\n",
       "      <td>2014-06-22</td>\n",
       "      <td>NaT</td>\n",
       "      <td>NaT</td>\n",
       "      <td>NaT</td>\n",
       "      <td>NaT</td>\n",
       "      <td>2014-06-16 00:00:00</td>\n",
       "      <td>2014-07-16</td>\n",
       "      <td>...</td>\n",
       "      <td>NaT</td>\n",
       "      <td>NaT</td>\n",
       "      <td>NaN</td>\n",
       "      <td>NaT</td>\n",
       "      <td>NaN</td>\n",
       "      <td>NaT</td>\n",
       "      <td>2014-08-21 00:00:00</td>\n",
       "      <td>2014-08-21</td>\n",
       "      <td>NaT</td>\n",
       "      <td>NaT</td>\n",
       "    </tr>\n",
       "    <tr>\n",
       "      <th>9</th>\n",
       "      <td>2014-05-15 00:00:00</td>\n",
       "      <td>2014-06-16 00:00:00</td>\n",
       "      <td>2014-06-15</td>\n",
       "      <td>2014-06-22</td>\n",
       "      <td>NaT</td>\n",
       "      <td>NaT</td>\n",
       "      <td>NaT</td>\n",
       "      <td>NaT</td>\n",
       "      <td>NaN</td>\n",
       "      <td>NaT</td>\n",
       "      <td>...</td>\n",
       "      <td>NaT</td>\n",
       "      <td>NaT</td>\n",
       "      <td>NaN</td>\n",
       "      <td>NaT</td>\n",
       "      <td>NaN</td>\n",
       "      <td>NaT</td>\n",
       "      <td>2014-06-19 00:00:00</td>\n",
       "      <td>2014-06-19</td>\n",
       "      <td>NaT</td>\n",
       "      <td>NaT</td>\n",
       "    </tr>\n",
       "  </tbody>\n",
       "</table>\n",
       "<p>10 rows × 24 columns</p>\n",
       "</div>"
      ],
      "text/plain": [
       "  RECR_INFO_SWA_JOB_ORDER_START RECR_INFO_SWA_JOB_ORDER_END  \\\n",
       "0           2014-05-15 00:00:00         2014-06-27 00:00:00   \n",
       "1           2014-05-29 00:00:00         2014-07-03 00:00:00   \n",
       "2           2014-03-10 00:00:00         2014-04-11 00:00:00   \n",
       "3           2014-06-05 00:00:00         2014-07-07 00:00:00   \n",
       "4           2014-04-01 00:00:00         2014-05-06 00:00:00   \n",
       "5           2014-05-22 00:00:00         2014-06-24 00:00:00   \n",
       "6           2014-05-17 00:00:00         2014-06-21 00:00:00   \n",
       "7           2014-02-20 00:00:00         2014-03-22 00:00:00   \n",
       "8           2014-06-13 00:00:00         2014-07-15 00:00:00   \n",
       "9           2014-05-15 00:00:00         2014-06-16 00:00:00   \n",
       "\n",
       "  RECR_INFO_FIRST_AD_START RECR_INFO_SECOND_AD_START RECR_INFO_JOB_FAIR_FROM  \\\n",
       "0               2014-05-25                2014-06-01                     NaT   \n",
       "1               2014-06-01                2014-06-08                     NaT   \n",
       "2               2014-03-23                2014-03-30                     NaT   \n",
       "3               2014-06-08                2014-06-15                     NaT   \n",
       "4               2014-04-27                2014-05-04                     NaT   \n",
       "5               2014-02-02                2014-02-09                     NaT   \n",
       "6               2014-06-01                2014-06-08                     NaT   \n",
       "7               2014-06-08                2014-06-15                     NaT   \n",
       "8               2014-06-15                2014-06-22                     NaT   \n",
       "9               2014-06-15                2014-06-22                     NaT   \n",
       "\n",
       "  RECR_INFO_JOB_FAIR_TO RECR_INFO_ON_CAMPUS_RECR_FROM  \\\n",
       "0                   NaT                           NaT   \n",
       "1                   NaT                           NaT   \n",
       "2                   NaT                           NaT   \n",
       "3                   NaT                           NaT   \n",
       "4                   NaT                           NaT   \n",
       "5                   NaT                           NaT   \n",
       "6                   NaT                           NaT   \n",
       "7                   NaT                           NaT   \n",
       "8                   NaT                           NaT   \n",
       "9                   NaT                           NaT   \n",
       "\n",
       "  RECR_INFO_ON_CAMPUS_RECR_TO RI_EMPLOYER_WEB_POST_FROM  \\\n",
       "0                         NaT       2014-05-15 00:00:00   \n",
       "1                         NaT       2014-05-30 00:00:00   \n",
       "2                         NaT                       NaN   \n",
       "3                         NaT                       NaN   \n",
       "4                         NaT       2014-04-22 00:00:00   \n",
       "5                         NaT                       NaN   \n",
       "6                         NaT       2014-05-14 00:00:00   \n",
       "7                         NaT       2014-06-05 00:00:00   \n",
       "8                         NaT       2014-06-16 00:00:00   \n",
       "9                         NaT                       NaN   \n",
       "\n",
       "  RI_EMPLOYER_WEB_POST_TO           ...             \\\n",
       "0              2014-06-27           ...              \n",
       "1              2014-06-27           ...              \n",
       "2                     NaT           ...              \n",
       "3                     NaT           ...              \n",
       "4              2014-06-26           ...              \n",
       "5                     NaT           ...              \n",
       "6              2014-06-17           ...              \n",
       "7              2014-07-09           ...              \n",
       "8              2014-07-16           ...              \n",
       "9                     NaT           ...              \n",
       "\n",
       "  RI_PVT_EMPLOYMENT_FIRM_FROM RI_PVT_EMPLOYMENT_FIRM_TO  \\\n",
       "0                         NaT                       NaT   \n",
       "1                         NaT                       NaT   \n",
       "2                         NaT                       NaT   \n",
       "3                         NaT                       NaT   \n",
       "4                         NaT                       NaT   \n",
       "5                         NaT                       NaT   \n",
       "6                         NaT                       NaT   \n",
       "7                         NaT                       NaT   \n",
       "8                         NaT                       NaT   \n",
       "9                         NaT                       NaT   \n",
       "\n",
       "  RI_EMPLOYEE_REFERRAL_PROG_FROM RI_EMPLOYEE_REFERRAL_PROG_TO  \\\n",
       "0                            NaN                          NaT   \n",
       "1                            NaN                          NaT   \n",
       "2                            NaN                          NaT   \n",
       "3                            NaN                          NaT   \n",
       "4            2014-06-16 00:00:00                   2014-07-03   \n",
       "5                            NaN                          NaT   \n",
       "6            2014-05-12 00:00:00                   2014-06-16   \n",
       "7                            NaN                          NaT   \n",
       "8                            NaN                          NaT   \n",
       "9                            NaN                          NaT   \n",
       "\n",
       "  RI_CAMPUS_PLACEMENT_FROM RI_CAMPUS_PLACEMENT_TO RI_LOCAL_ETHNIC_PAPER_FROM  \\\n",
       "0      2014-05-23 00:00:00             2014-06-27                        NaN   \n",
       "1                      NaN                    NaT        2014-06-04 00:00:00   \n",
       "2                      NaN                    NaT        2014-03-26 00:00:00   \n",
       "3                      NaN                    NaT        2014-06-13 00:00:00   \n",
       "4                      NaN                    NaT                        NaN   \n",
       "5                      NaN                    NaT        2014-02-03 00:00:00   \n",
       "6                      NaN                    NaT                        NaN   \n",
       "7                      NaN                    NaT        2014-06-08 00:00:00   \n",
       "8                      NaN                    NaT        2014-08-21 00:00:00   \n",
       "9                      NaN                    NaT        2014-06-19 00:00:00   \n",
       "\n",
       "  RI_LOCAL_ETHNIC_PAPER_TO RECR_INFO_RADIO_TV_AD_FROM RECR_INFO_RADIO_TV_AD_TO  \n",
       "0                      NaT                        NaT                      NaT  \n",
       "1               2014-06-04                        NaT                      NaT  \n",
       "2               2014-03-26                        NaT                      NaT  \n",
       "3               2014-06-13                        NaT                      NaT  \n",
       "4                      NaT                        NaT                      NaT  \n",
       "5               2014-02-03                        NaT                      NaT  \n",
       "6                      NaT                        NaT                      NaT  \n",
       "7               2014-06-08                        NaT                      NaT  \n",
       "8               2014-08-21                        NaT                      NaT  \n",
       "9               2014-06-19                        NaT                      NaT  \n",
       "\n",
       "[10 rows x 24 columns]"
      ]
     },
     "execution_count": 108,
     "metadata": {},
     "output_type": "execute_result"
    }
   ],
   "source": [
    "recr_dates.head(n=10)"
   ]
  },
  {
   "cell_type": "code",
   "execution_count": 129,
   "metadata": {},
   "outputs": [
    {
     "data": {
      "text/plain": [
       "datetime.datetime(2015, 11, 2, 0, 0)"
      ]
     },
     "execution_count": 129,
     "metadata": {},
     "output_type": "execute_result"
    }
   ],
   "source": [
    "#recr_dates['RECR_INFO_SWA_JOB_ORDER_START'] = pd.to_datetime(recr_dates['RECR_INFO_SWA_JOB_ORDER_START'])\n",
    "#df['col'] = pd.to_datetime(df['col'])\n",
    "tmp = recr_dates['RECR_INFO_SWA_JOB_ORDER_START'][126141]\n",
    "tmp.iloc[0]"
   ]
  },
  {
   "cell_type": "code",
   "execution_count": 107,
   "metadata": {},
   "outputs": [
    {
     "ename": "TypeError",
     "evalue": "unsupported operand type(s) for -: 'datetime.datetime' and 'float'",
     "output_type": "error",
     "traceback": [
      "\u001b[0;31m---------------------------------------------------------------------------\u001b[0m",
      "\u001b[0;31mOutOfBoundsDatetime\u001b[0m                       Traceback (most recent call last)",
      "\u001b[0;32m/anaconda3/envs/py36/lib/python3.6/site-packages/pandas/core/ops.py\u001b[0m in \u001b[0;36msafe_na_op\u001b[0;34m(lvalues, rvalues)\u001b[0m\n\u001b[1;32m    681\u001b[0m             \u001b[0;32mwith\u001b[0m \u001b[0mnp\u001b[0m\u001b[0;34m.\u001b[0m\u001b[0merrstate\u001b[0m\u001b[0;34m(\u001b[0m\u001b[0mall\u001b[0m\u001b[0;34m=\u001b[0m\u001b[0;34m'ignore'\u001b[0m\u001b[0;34m)\u001b[0m\u001b[0;34m:\u001b[0m\u001b[0;34m\u001b[0m\u001b[0m\n\u001b[0;32m--> 682\u001b[0;31m                 \u001b[0;32mreturn\u001b[0m \u001b[0mna_op\u001b[0m\u001b[0;34m(\u001b[0m\u001b[0mlvalues\u001b[0m\u001b[0;34m,\u001b[0m \u001b[0mrvalues\u001b[0m\u001b[0;34m)\u001b[0m\u001b[0;34m\u001b[0m\u001b[0m\n\u001b[0m\u001b[1;32m    683\u001b[0m         \u001b[0;32mexcept\u001b[0m \u001b[0mException\u001b[0m\u001b[0;34m:\u001b[0m\u001b[0;34m\u001b[0m\u001b[0m\n",
      "\u001b[0;32m/anaconda3/envs/py36/lib/python3.6/site-packages/pandas/core/ops.py\u001b[0m in \u001b[0;36mna_op\u001b[0;34m(x, y)\u001b[0m\n\u001b[1;32m    657\u001b[0m             result = expressions.evaluate(op, str_rep, x, y,\n\u001b[0;32m--> 658\u001b[0;31m                                           raise_on_error=True, **eval_kwargs)\n\u001b[0m\u001b[1;32m    659\u001b[0m         \u001b[0;32mexcept\u001b[0m \u001b[0mTypeError\u001b[0m\u001b[0;34m:\u001b[0m\u001b[0;34m\u001b[0m\u001b[0m\n",
      "\u001b[0;32m/anaconda3/envs/py36/lib/python3.6/site-packages/pandas/core/computation/expressions.py\u001b[0m in \u001b[0;36mevaluate\u001b[0;34m(op, op_str, a, b, raise_on_error, use_numexpr, **eval_kwargs)\u001b[0m\n\u001b[1;32m    210\u001b[0m         return _evaluate(op, op_str, a, b, raise_on_error=raise_on_error,\n\u001b[0;32m--> 211\u001b[0;31m                          **eval_kwargs)\n\u001b[0m\u001b[1;32m    212\u001b[0m     \u001b[0;32mreturn\u001b[0m \u001b[0m_evaluate_standard\u001b[0m\u001b[0;34m(\u001b[0m\u001b[0mop\u001b[0m\u001b[0;34m,\u001b[0m \u001b[0mop_str\u001b[0m\u001b[0;34m,\u001b[0m \u001b[0ma\u001b[0m\u001b[0;34m,\u001b[0m \u001b[0mb\u001b[0m\u001b[0;34m,\u001b[0m \u001b[0mraise_on_error\u001b[0m\u001b[0;34m=\u001b[0m\u001b[0mraise_on_error\u001b[0m\u001b[0;34m)\u001b[0m\u001b[0;34m\u001b[0m\u001b[0m\n",
      "\u001b[0;32m/anaconda3/envs/py36/lib/python3.6/site-packages/pandas/core/computation/expressions.py\u001b[0m in \u001b[0;36m_evaluate_standard\u001b[0;34m(op, op_str, a, b, raise_on_error, **eval_kwargs)\u001b[0m\n\u001b[1;32m     63\u001b[0m     \u001b[0;32mwith\u001b[0m \u001b[0mnp\u001b[0m\u001b[0;34m.\u001b[0m\u001b[0merrstate\u001b[0m\u001b[0;34m(\u001b[0m\u001b[0mall\u001b[0m\u001b[0;34m=\u001b[0m\u001b[0;34m'ignore'\u001b[0m\u001b[0;34m)\u001b[0m\u001b[0;34m:\u001b[0m\u001b[0;34m\u001b[0m\u001b[0m\n\u001b[0;32m---> 64\u001b[0;31m         \u001b[0;32mreturn\u001b[0m \u001b[0mop\u001b[0m\u001b[0;34m(\u001b[0m\u001b[0ma\u001b[0m\u001b[0;34m,\u001b[0m \u001b[0mb\u001b[0m\u001b[0;34m)\u001b[0m\u001b[0;34m\u001b[0m\u001b[0m\n\u001b[0m\u001b[1;32m     65\u001b[0m \u001b[0;34m\u001b[0m\u001b[0m\n",
      "\u001b[0;32mpandas/_libs/tslib.pyx\u001b[0m in \u001b[0;36mpandas._libs.tslib._Timestamp.__sub__ (pandas/_libs/tslib.c:23272)\u001b[0;34m()\u001b[0m\n",
      "\u001b[0;32mpandas/_libs/tslib.pyx\u001b[0m in \u001b[0;36mpandas._libs.tslib.Timestamp.__new__ (pandas/_libs/tslib.c:10051)\u001b[0;34m()\u001b[0m\n",
      "\u001b[0;32mpandas/_libs/tslib.pyx\u001b[0m in \u001b[0;36mpandas._libs.tslib.convert_to_tsobject (pandas/_libs/tslib.c:28598)\u001b[0;34m()\u001b[0m\n",
      "\u001b[0;32mpandas/_libs/tslib.pyx\u001b[0m in \u001b[0;36mpandas._libs.tslib._check_dts_bounds (pandas/_libs/tslib.c:32752)\u001b[0;34m()\u001b[0m\n",
      "\u001b[0;31mOutOfBoundsDatetime\u001b[0m: Out of bounds nanosecond timestamp: 5014-05-26 00:00:00",
      "\nDuring handling of the above exception, another exception occurred:\n",
      "\u001b[0;31mTypeError\u001b[0m                                 Traceback (most recent call last)",
      "\u001b[0;32m<ipython-input-107-d465f76209ef>\u001b[0m in \u001b[0;36m<module>\u001b[0;34m()\u001b[0m\n\u001b[0;32m----> 1\u001b[0;31m \u001b[0mrecr_dates\u001b[0m\u001b[0;34m[\u001b[0m\u001b[0;34m\"RECR_INFO_SWA_JOB_ORDER_END\"\u001b[0m\u001b[0;34m]\u001b[0m \u001b[0;34m-\u001b[0m \u001b[0mrecr_dates\u001b[0m\u001b[0;34m[\u001b[0m\u001b[0;34m\"RECR_INFO_SWA_JOB_ORDER_START\"\u001b[0m\u001b[0;34m]\u001b[0m\u001b[0;34m\u001b[0m\u001b[0m\n\u001b[0m",
      "\u001b[0;32m/anaconda3/envs/py36/lib/python3.6/site-packages/pandas/core/ops.py\u001b[0m in \u001b[0;36mwrapper\u001b[0;34m(left, right, name, na_op)\u001b[0m\n\u001b[1;32m    719\u001b[0m                 \u001b[0mlvalues\u001b[0m \u001b[0;34m=\u001b[0m \u001b[0mlvalues\u001b[0m\u001b[0;34m.\u001b[0m\u001b[0mvalues\u001b[0m\u001b[0;34m\u001b[0m\u001b[0m\n\u001b[1;32m    720\u001b[0m \u001b[0;34m\u001b[0m\u001b[0m\n\u001b[0;32m--> 721\u001b[0;31m         \u001b[0mresult\u001b[0m \u001b[0;34m=\u001b[0m \u001b[0mwrap_results\u001b[0m\u001b[0;34m(\u001b[0m\u001b[0msafe_na_op\u001b[0m\u001b[0;34m(\u001b[0m\u001b[0mlvalues\u001b[0m\u001b[0;34m,\u001b[0m \u001b[0mrvalues\u001b[0m\u001b[0;34m)\u001b[0m\u001b[0;34m)\u001b[0m\u001b[0;34m\u001b[0m\u001b[0m\n\u001b[0m\u001b[1;32m    722\u001b[0m         return construct_result(\n\u001b[1;32m    723\u001b[0m             \u001b[0mleft\u001b[0m\u001b[0;34m,\u001b[0m\u001b[0;34m\u001b[0m\u001b[0m\n",
      "\u001b[0;32m/anaconda3/envs/py36/lib/python3.6/site-packages/pandas/core/ops.py\u001b[0m in \u001b[0;36msafe_na_op\u001b[0;34m(lvalues, rvalues)\u001b[0m\n\u001b[1;32m    690\u001b[0m                 \u001b[0;32mif\u001b[0m \u001b[0mis_object_dtype\u001b[0m\u001b[0;34m(\u001b[0m\u001b[0mlvalues\u001b[0m\u001b[0;34m)\u001b[0m\u001b[0;34m:\u001b[0m\u001b[0;34m\u001b[0m\u001b[0m\n\u001b[1;32m    691\u001b[0m                     return libalgos.arrmap_object(lvalues,\n\u001b[0;32m--> 692\u001b[0;31m                                                   lambda x: op(x, rvalues))\n\u001b[0m\u001b[1;32m    693\u001b[0m             \u001b[0;32mraise\u001b[0m\u001b[0;34m\u001b[0m\u001b[0m\n\u001b[1;32m    694\u001b[0m \u001b[0;34m\u001b[0m\u001b[0m\n",
      "\u001b[0;32mpandas/_libs/algos_common_helper.pxi\u001b[0m in \u001b[0;36mpandas._libs.algos.arrmap_object\u001b[0;34m()\u001b[0m\n",
      "\u001b[0;32m/anaconda3/envs/py36/lib/python3.6/site-packages/pandas/core/ops.py\u001b[0m in \u001b[0;36m<lambda>\u001b[0;34m(x)\u001b[0m\n\u001b[1;32m    690\u001b[0m                 \u001b[0;32mif\u001b[0m \u001b[0mis_object_dtype\u001b[0m\u001b[0;34m(\u001b[0m\u001b[0mlvalues\u001b[0m\u001b[0;34m)\u001b[0m\u001b[0;34m:\u001b[0m\u001b[0;34m\u001b[0m\u001b[0m\n\u001b[1;32m    691\u001b[0m                     return libalgos.arrmap_object(lvalues,\n\u001b[0;32m--> 692\u001b[0;31m                                                   lambda x: op(x, rvalues))\n\u001b[0m\u001b[1;32m    693\u001b[0m             \u001b[0;32mraise\u001b[0m\u001b[0;34m\u001b[0m\u001b[0m\n\u001b[1;32m    694\u001b[0m \u001b[0;34m\u001b[0m\u001b[0m\n",
      "\u001b[0;31mTypeError\u001b[0m: unsupported operand type(s) for -: 'datetime.datetime' and 'float'"
     ]
    }
   ],
   "source": [
    "recr_dates[\"RECR_INFO_SWA_JOB_ORDER_END\"] - recr_dates[\"RECR_INFO_SWA_JOB_ORDER_START\"]"
   ]
  }
 ],
 "metadata": {
  "kernelspec": {
   "display_name": "Python 3",
   "language": "python",
   "name": "python3"
  },
  "language_info": {
   "codemirror_mode": {
    "name": "ipython",
    "version": 3
   },
   "file_extension": ".py",
   "mimetype": "text/x-python",
   "name": "python",
   "nbconvert_exporter": "python",
   "pygments_lexer": "ipython3",
   "version": "3.6.3"
  }
 },
 "nbformat": 4,
 "nbformat_minor": 2
}
