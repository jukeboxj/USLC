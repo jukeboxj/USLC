{
 "cells": [
  {
   "cell_type": "code",
   "execution_count": 4,
   "metadata": {},
   "outputs": [],
   "source": [
    "# import required libraries\n",
    "# pandas:Data framework library for Python\n",
    "# sklearn: Library to perform machine learning tasks\n",
    "import pandas as pd\n",
    "import pandas\n",
    "import numpy as np\n",
    "import scipy\n",
    "import scipy.stats as st\n",
    "import sklearn \n",
    "import sklearn.datasets\n",
    "import sklearn.metrics as metrics \n",
    "from sklearn.linear_model import LogisticRegression\n",
    "from sklearn.cross_validation import StratifiedKFold\n",
    "from sklearn.svm import SVC\n",
    "from sklearn.grid_search import GridSearchCV\n",
    "from sklearn.metrics import classification_report\n",
    "from sklearn.cross_validation import train_test_split\n",
    "from sklearn.preprocessing import label_binarize\n",
    "from sklearn.feature_selection import mutual_info_classif\n",
    "from scipy import stats\n",
    "from datetime import datetime"
   ]
  },
  {
   "cell_type": "code",
   "execution_count": 2,
   "metadata": {
    "collapsed": true
   },
   "outputs": [],
   "source": [
    "Data_2017 = pd.read_excel(\"PERM_Disclosure_Data_FY17.xlsx\")\n",
    "Data_2015 = pd.read_excel(\"PERM_Disclosure_Data_FY15_Q4.xlsx\")\n",
    "Data_2016 = pd.read_excel(\"PERM_Data_FY16.xlsx\")"
   ]
  },
  {
   "cell_type": "code",
   "execution_count": 5,
   "metadata": {},
   "outputs": [],
   "source": [
    "Data_2015.at[8809, 'RI_LOCAL_ETHNIC_PAPER_FROM'] = datetime.strptime('10/22/2014', '%m/%d/%Y')\n",
    "Data_2015.at[29257, 'RI_LOCAL_ETHNIC_PAPER_FROM'] = datetime.strptime('10/06/2014', '%m/%d/%Y')\n",
    "Data_2015.at[86322, 'RI_LOCAL_ETHNIC_PAPER_FROM'] = datetime.strptime('03/09/2015', '%m/%d/%Y')\n",
    "Data_2015['RI_LOCAL_ETHNIC_PAPER_FROM'] = pandas.to_datetime(Data_2015['RI_LOCAL_ETHNIC_PAPER_FROM'])\n",
    "Data_2015['RECR_INFO_SWA_JOB_ORDER_START'] = pandas.to_datetime(Data_2015['RECR_INFO_SWA_JOB_ORDER_START'])\n",
    "Data_2015.at[6306, 'RECR_INFO_SWA_JOB_ORDER_END'] = datetime.strptime('05/26/2014', '%m/%d/%Y')\n",
    "Data_2015.at[8602, 'RECR_INFO_SWA_JOB_ORDER_END'] = datetime.strptime('11/08/2014', '%m/%d/%Y')\n",
    "Data_2015.at[12210, 'RECR_INFO_SWA_JOB_ORDER_END'] = datetime.strptime('05/25/2014', '%m/%d/%Y')\n",
    "Data_2015.at[35208, 'RECR_INFO_SWA_JOB_ORDER_END'] = datetime.strptime('08/30/2013', '%m/%d/%Y')\n",
    "Data_2015.at[41211, 'RECR_INFO_SWA_JOB_ORDER_END'] = datetime.strptime('03/25/2014', '%m/%d/%Y')\n",
    "Data_2015.at[79773, 'RECR_INFO_SWA_JOB_ORDER_END'] = datetime.strptime('05/19/2014', '%m/%d/%Y')\n",
    "Data_2015.at[80176, 'RECR_INFO_SWA_JOB_ORDER_END'] = datetime.strptime('06/14/2015', '%m/%d/%Y')\n",
    "Data_2015.at[80177, 'RECR_INFO_SWA_JOB_ORDER_END'] = datetime.strptime('06/14/2015', '%m/%d/%Y')\n",
    "Data_2015.at[83651, 'RECR_INFO_SWA_JOB_ORDER_END'] = datetime.strptime('05/26/2013', '%m/%d/%Y')\n",
    "Data_2015['RECR_INFO_SWA_JOB_ORDER_END'] = pandas.to_datetime(Data_2015['RECR_INFO_SWA_JOB_ORDER_END'])\n",
    "Data_2015.at[76114, 'RI_EMPLOYER_WEB_POST_FROM'] = datetime.strptime('04/22/2014', '%m/%d/%Y')\n",
    "Data_2015.at[89154, 'RI_EMPLOYER_WEB_POST_FROM'] = datetime.strptime('05/01/2015', '%m/%d/%Y')\n",
    "Data_2015['RI_EMPLOYER_WEB_POST_FROM'] = pandas.to_datetime(Data_2015['RI_EMPLOYER_WEB_POST_FROM'])\n",
    "Data_2015.at[29489, 'RECR_INFO_PRO_ORG_ADVERT_FROM'] = datetime.strptime('01/01/2013', '%m/%d/%Y')\n",
    "Data_2015['RECR_INFO_PRO_ORG_ADVERT_FROM'] = pandas.to_datetime(Data_2015['RECR_INFO_PRO_ORG_ADVERT_FROM'])\n",
    "Data_2015.at[26192, 'RI_JOB_SEARCH_WEBSITE_FROM'] = datetime.strptime('01/13/2014', '%m/%d/%Y')\n",
    "Data_2015.at[70342, 'RI_JOB_SEARCH_WEBSITE_FROM'] = datetime.strptime('05/02/2014', '%m/%d/%Y')\n",
    "Data_2015.at[83733, 'RI_JOB_SEARCH_WEBSITE_FROM'] = datetime.strptime('11/15/2011', '%m/%d/%Y')\n",
    "Data_2015['RI_JOB_SEARCH_WEBSITE_FROM'] = pandas.to_datetime(Data_2015['RI_JOB_SEARCH_WEBSITE_FROM'])\n",
    "Data_2015.at[24138, 'RI_EMPLOYEE_REFERRAL_PROG_FROM'] = datetime.strptime('12/23/2014', '%m/%d/%Y')\n",
    "Data_2015.at[38262, 'RI_EMPLOYEE_REFERRAL_PROG_FROM'] = datetime.strptime('06/04/2014', '%m/%d/%Y')\n",
    "Data_2015.at[47808, 'RI_EMPLOYEE_REFERRAL_PROG_FROM'] = datetime.strptime('06/25/2014', '%m/%d/%Y')\n",
    "Data_2015['RI_EMPLOYEE_REFERRAL_PROG_FROM'] = pandas.to_datetime(Data_2015['RI_EMPLOYEE_REFERRAL_PROG_FROM'])\n",
    "Data_2015.at[14771, 'RI_CAMPUS_PLACEMENT_FROM'] = datetime.strptime('04/01/2013', '%m/%d/%Y')\n",
    "Data_2015.at[49525, 'RI_CAMPUS_PLACEMENT_FROM'] = datetime.strptime('05/02/2013', '%m/%d/%Y')\n",
    "Data_2015.at[73061, 'RI_CAMPUS_PLACEMENT_FROM'] = datetime.strptime('09/23/2014', '%m/%d/%Y')\n",
    "Data_2015['RI_CAMPUS_PLACEMENT_FROM'] = pandas.to_datetime(Data_2015['RI_CAMPUS_PLACEMENT_FROM'])\n",
    "Data_2017.at[31198, 'RECR_INFO_SWA_JOB_ORDER_START'] = datetime.strptime('03/30/2016', '%m/%d/%Y')\n",
    "Data_2017.at[77798, 'RECR_INFO_SWA_JOB_ORDER_START'] = datetime.strptime('04/26/2017', '%m/%d/%Y')\n",
    "Data_2017.at[92988, 'RECR_INFO_SWA_JOB_ORDER_START'] = datetime.strptime('03/30/2017', '%m/%d/%Y')\n",
    "\n",
    "Data_2017['RECR_INFO_SWA_JOB_ORDER_START'] = pandas.to_datetime(Data_2017['RECR_INFO_SWA_JOB_ORDER_START'])\n",
    "#Data_2017.at[31198, 'RECR_INFO_SWA_JOB_ORDER_START'] = datetime.strptime('03/30/2016', '%m/%d/%Y')\n",
    "#Data_2017.at[77798, 'RECR_INFO_SWA_JOB_ORDER_START'] = datetime.strptime('04/26/2017', '%m/%d/%Y')\n",
    "Data_2017.at[704, 'RECR_INFO_SWA_JOB_ORDER_END'] = datetime.strptime('03/17/2016', '%m/%d/%Y')\n",
    "Data_2017.at[2932, 'RECR_INFO_SWA_JOB_ORDER_END'] = datetime.strptime('04/13/2016', '%m/%d/%Y')\n",
    "Data_2017.at[18749, 'RECR_INFO_SWA_JOB_ORDER_END'] = datetime.strptime('05/13/2016', '%m/%d/%Y')\n",
    "Data_2017.at[73589, 'RECR_INFO_SWA_JOB_ORDER_END'] = datetime.strptime('03/05/2017', '%m/%d/%Y')\n",
    "Data_2017.at[82743, 'RECR_INFO_SWA_JOB_ORDER_END'] = datetime.strptime('03/06/2017', '%m/%d/%Y')\n",
    "Data_2017.at[92390, 'RECR_INFO_SWA_JOB_ORDER_END'] = datetime.strptime('03/27/2017', '%m/%d/%Y')\n",
    "Data_2017.at[93721, 'RECR_INFO_SWA_JOB_ORDER_END'] = datetime.strptime('03/27/2017', '%m/%d/%Y')\n",
    "Data_2017.at[96292, 'RECR_INFO_SWA_JOB_ORDER_END'] = datetime.strptime('03/05/2017', '%m/%d/%Y')\n",
    "Data_2017['RECR_INFO_SWA_JOB_ORDER_END'] = pandas.to_datetime(Data_2017['RECR_INFO_SWA_JOB_ORDER_END'])\n",
    "Data_2016.at[96389, 'RECR_INFO_SWA_JOB_ORDER_START'] = datetime.strptime('03/30/2016', '%m/%d/%Y')\n",
    "Data_2016['RECR_INFO_SWA_JOB_ORDER_START'] = pandas.to_datetime(Data_2016['RECR_INFO_SWA_JOB_ORDER_START'])\n",
    "Data_2016.at[29552, 'RECR_INFO_SWA_JOB_ORDER_END'] = datetime.strptime('06/04/2015', '%m/%d/%Y')\n",
    "Data_2016.at[33362, 'RECR_INFO_SWA_JOB_ORDER_END'] = datetime.strptime('03/06/2015', '%m/%d/%Y')\n",
    "Data_2016.at[49878, 'RECR_INFO_SWA_JOB_ORDER_END'] = datetime.strptime('03/02/2015', '%m/%d/%Y')\n",
    "Data_2016.at[60593, 'RECR_INFO_SWA_JOB_ORDER_END'] = datetime.strptime('08/03/2015', '%m/%d/%Y')\n",
    "Data_2016.at[91218, 'RECR_INFO_SWA_JOB_ORDER_END'] = datetime.strptime('11/30/2015', '%m/%d/%Y')\n",
    "Data_2016.at[113096, 'RECR_INFO_SWA_JOB_ORDER_END'] = datetime.strptime('03/15/2016', '%m/%d/%Y')\n",
    "Data_2016.at[114287, 'RECR_INFO_SWA_JOB_ORDER_END'] = datetime.strptime('03/30/2016', '%m/%d/%Y')\n",
    "Data_2016.at[120997, 'RECR_INFO_SWA_JOB_ORDER_END'] = datetime.strptime('03/30/2016', '%m/%d/%Y')\n",
    "Data_2016['RECR_INFO_SWA_JOB_ORDER_END'] = pandas.to_datetime(Data_2016['RECR_INFO_SWA_JOB_ORDER_END'])"
   ]
  },
  {
   "cell_type": "code",
   "execution_count": 6,
   "metadata": {
    "collapsed": true
   },
   "outputs": [],
   "source": [
    "frames = [Data_2015, Data_2016, Data_2017]\n",
    "\n",
    "data = pd.concat(frames)\n",
    "data = data.drop_duplicates()\n",
    "data_raw = data.copy()"
   ]
  },
  {
   "cell_type": "markdown",
   "metadata": {},
   "source": [
    "## Transforming the columns"
   ]
  },
  {
   "cell_type": "code",
   "execution_count": 7,
   "metadata": {
    "collapsed": true
   },
   "outputs": [],
   "source": [
    "#For wages that have a to and from, Im just gonna take the average\n",
    "data_wage = data[['WAGE_OFFER_UNIT_OF_PAY_9089','WAGE_OFFER_FROM_9089','WAGE_OFFER_TO_9089','CASE_STATUS']]\n",
    "#cleaning up the wages of the offer\n",
    "#pd.to_numeric(data_wage['WAGE_OFFER_FROM_9089'])\n",
    "data['WAGE_OFFER_FROM_9089'] = data['WAGE_OFFER_FROM_9089'].apply(lambda word: str(word).replace(\"#\", \"\"))\n",
    "data['WAGE_OFFER_FROM_9089'] = data['WAGE_OFFER_FROM_9089'].apply(lambda word: str(word).replace(\",\", \"\"))\n",
    "data['WAGE_OFFER_FROM_9089'] = data['WAGE_OFFER_FROM_9089'].replace({\"nan\": np.NaN})\n",
    "data['WAGE_OFFER_FROM_9089'] = pd.to_numeric(data['WAGE_OFFER_FROM_9089'])\n",
    "data['WAGE_OFFER_TO_9089'] = data['WAGE_OFFER_TO_9089'].apply(lambda word: str(word).replace(\"#\", \"\"))\n",
    "data['WAGE_OFFER_TO_9089'] = data['WAGE_OFFER_TO_9089'].apply(lambda word: str(word).replace(\",\", \"\"))\n",
    "data['WAGE_OFFER_TO_9089'] = data['WAGE_OFFER_TO_9089'].replace({\"nan\": np.NaN})\n",
    "data['WAGE_OFFER_TO_9089'] = pd.to_numeric(data['WAGE_OFFER_TO_9089'])"
   ]
  },
  {
   "cell_type": "code",
   "execution_count": 8,
   "metadata": {
    "collapsed": true
   },
   "outputs": [],
   "source": [
    "#Getting average wage for to - from\n",
    "data['Avg_Wage'] = np.where(pd.isnull(data['WAGE_OFFER_TO_9089']) == True,data['WAGE_OFFER_FROM_9089'], ((data['WAGE_OFFER_TO_9089']+ data['WAGE_OFFER_FROM_9089']) / 2)) \n",
    "data.WAGE_OFFER_UNIT_OF_PAY_9089.fillna('None', inplace=True)\n",
    "data['WAGE_OFFER_UNIT_OF_PAY_9089'] = data['WAGE_OFFER_UNIT_OF_PAY_9089'].astype('str') "
   ]
  },
  {
   "cell_type": "code",
   "execution_count": 9,
   "metadata": {
    "collapsed": true
   },
   "outputs": [],
   "source": [
    "#Transforming units to yearly equivalents\n",
    "data['unit'] = data['WAGE_OFFER_UNIT_OF_PAY_9089']\n",
    "data['unit'] = data['unit'].replace({\"Hour\": 2080, \"Week\":52,\"Month\":12,\"Bi-Weekly\":26,\"Year\":1,\"None\":np.NaN})\n",
    "data['unit'] = pd.to_numeric(data['unit'])\n",
    "#calculating yearly wage\n",
    "data['Year_wage_offer'] = data['Avg_Wage'] * data['unit']"
   ]
  },
  {
   "cell_type": "code",
   "execution_count": 10,
   "metadata": {
    "collapsed": true
   },
   "outputs": [],
   "source": [
    "#Changing over prevailing wage amounts\n",
    "data['PW_AMOUNT_9089'] = data['PW_AMOUNT_9089'].apply(lambda word: str(word).replace(\"#\", \"\"))\n",
    "data['PW_AMOUNT_9089'] = data['PW_AMOUNT_9089'].apply(lambda word: str(word).replace(\",\", \"\"))\n",
    "data['PW_AMOUNT_9089'] = data['PW_AMOUNT_9089'].replace({\"nan\": np.NaN})\n",
    "data['PW_AMOUNT_9089'] = pd.to_numeric(data['PW_AMOUNT_9089'])\n",
    "data['unit_pw'] = data['PW_UNIT_OF_PAY_9089']\n",
    "data['unit_pw'] = data['unit_pw'].replace({\"Hour\": 2080, \"Week\":52,\"Month\":12,\"Bi-Weekly\":26,\"Year\":1,\"None\":np.NaN})\n",
    "data['unit_pw'] = pd.to_numeric(data['unit_pw'])\n",
    "data['Year_wage_pw'] = data['PW_AMOUNT_9089'] * data['unit_pw']"
   ]
  },
  {
   "cell_type": "code",
   "execution_count": 11,
   "metadata": {
    "collapsed": true
   },
   "outputs": [],
   "source": [
    "#Filling up the nulls with the medians from the industry / level for both prevailing wage and offer\n",
    "data['Ind_code'] = data['PW_SOC_CODE'].apply(lambda num: str(num)[:2])\n",
    "data['Wage_level'] =  data['PW_LEVEL_9089'].replace({\"Level I\": 1, \"Level II\": 2, \"Level III\":3,\"Level IV\":4}) \n",
    "data['Wage_level'] = data['Wage_level'].fillna(\"None\")\n",
    "norm_wage = pd.DataFrame(data.groupby(['Ind_code','Wage_level'])['Year_wage_pw'].median())\n",
    "norm_wage.columns= [\"Median_pw\"]\n",
    "data['Year_wage_pw'] = data['Year_wage_pw'].fillna(data.merge(norm_wage, how = \"left\", left_on = ['Ind_code','Wage_level'], right_index = True)['Median_pw'])\n",
    "norm_wage_off = pd.DataFrame(data.groupby(['Ind_code','Wage_level'])['Year_wage_offer'].median())\n",
    "norm_wage_off.columns= [\"Median_offer\"]\n",
    "data['Year_wage_offer'] = data['Year_wage_offer'].fillna(data.merge(norm_wage_off, how = \"left\", left_on = ['Ind_code','Wage_level'], right_index = True)['Median_offer'])"
   ]
  },
  {
   "cell_type": "code",
   "execution_count": 12,
   "metadata": {
    "collapsed": true
   },
   "outputs": [],
   "source": [
    "#visa information transformation\n",
    "#making the VISA column into booleans, if have H1B, if have other, if have none\n",
    "data['CLASS_OF_ADMISSION'] = np.where(data['CLASS_OF_ADMISSION'].isnull(), \"None\", data['CLASS_OF_ADMISSION'])\n",
    "data['H1B_VISA'] = np.where(data['CLASS_OF_ADMISSION'] == \"H-1B\", 1, 0)\n",
    "tmp = np.isin(data['CLASS_OF_ADMISSION'], ['H-1B','None','Not in USA','Parolee'])\n",
    "data['Other_Visa'] = np.where(tmp , 0, 1)\n",
    "tmp = np.isin(data['CLASS_OF_ADMISSION'], ['None','Not in USA','Parolee'])\n",
    "data['No_US_Visa'] = np.where(tmp , 1, 0)\n",
    "#visa_info['No_US_Visa'] = np.where(visa_info['CLASS_OF_ADMISSION']  in ['H-1B','NaN','Not in USA','Parolee'] , 1, 0)"
   ]
  },
  {
   "cell_type": "code",
   "execution_count": 13,
   "metadata": {
    "collapsed": true
   },
   "outputs": [],
   "source": [
    "#education level transformation\n",
    "data['Same_education'] = np.where(data['JOB_INFO_EDUCATION'] == data ['FOREIGN_WORKER_INFO_EDUCATION'], 1 , 0 )\n",
    "mapping = {\"Master's\" : 4, \"Bachelor's\": 3, \"None\":0, \"Doctorate\":5 , \"Other\": np.NaN, \"High School\":1, \"Associate's\":2, \"NaN\":np.NaN}\n",
    "\n",
    "data = data.replace({'FOREIGN_WORKER_INFO_EDUCATION': mapping, 'JOB_INFO_EDUCATION': mapping})\n",
    "data['Higher education'] = np.where(data['FOREIGN_WORKER_INFO_EDUCATION'] > data['JOB_INFO_EDUCATION'], 1,0)\n",
    "data['Lower education'] = np.where(data['FOREIGN_WORKER_INFO_EDUCATION'] < data['JOB_INFO_EDUCATION'], 1,0)\n"
   ]
  },
  {
   "cell_type": "code",
   "execution_count": 75,
   "metadata": {},
   "outputs": [],
   "source": [
    "def is_outlier(points, thresh=3.5):\n",
    "    \"\"\"\n",
    "    Returns a boolean array with True if points are outliers and False \n",
    "    otherwise.\n",
    "\n",
    "    Parameters:\n",
    "    -----------\n",
    "        points : An numobservations by numdimensions array of observations\n",
    "        thresh : The modified z-score to use as a threshold. Observations with\n",
    "            a modified z-score (based on the median absolute deviation) greater\n",
    "            than this value will be classified as outliers.\n",
    "\n",
    "    Returns:\n",
    "    --------\n",
    "        mask : A numobservations-length boolean array.\n",
    "\n",
    "    References:\n",
    "    ----------\n",
    "        Boris Iglewicz and David Hoaglin (1993), \"Volume 16: How to Detect and\n",
    "        Handle Outliers\", The ASQC Basic References in Quality Control:\n",
    "        Statistical Techniques, Edward F. Mykytka, Ph.D., Editor. \n",
    "    \"\"\"\n",
    "    if len(points.shape) == 1:\n",
    "        points = points[:,None]\n",
    "    median = np.median(points, axis=0)\n",
    "    diff = np.sum((points - median)**2, axis=-1)\n",
    "    diff = np.sqrt(diff)\n",
    "    med_abs_deviation = np.median(diff)\n",
    "\n",
    "    modified_z_score = 0.6745 * diff / med_abs_deviation\n",
    "\n",
    "    return modified_z_score > thresh"
   ]
  },
  {
   "cell_type": "code",
   "execution_count": 177,
   "metadata": {},
   "outputs": [],
   "source": [
    "#Getting rid of the outliers for the wages\n",
    "data['PW_outlier'] = is_outlier(data['Year_wage_pw'])\n",
    "data['Offer_outlier'] = is_outlier(data['Year_wage_offer'])\n",
    "\n",
    "data.Year_wage_pw.loc[data['PW_outlier'] == True] = (data.loc[data['PW_outlier'] == True].merge(norm_wage, how = \"left\", left_on = ['Ind_code','Wage_level'], right_index = True))['Median_pw']\n",
    "data.Year_wage_offer.loc[data['Offer_outlier'] == True] = (data.loc[data['Offer_outlier'] == True].merge(norm_wage_off, how = \"left\", left_on = ['Ind_code','Wage_level'], right_index = True))['Median_offer']"
   ]
  },
  {
   "cell_type": "code",
   "execution_count": 14,
   "metadata": {
    "collapsed": true
   },
   "outputs": [],
   "source": [
    "#recruitment dates transformation\n",
    "data['swa'] = (data['RECR_INFO_SWA_JOB_ORDER_END'] - data['RECR_INFO_SWA_JOB_ORDER_START']).dt.days\n",
    "data['job_fair'] = (data['RECR_INFO_JOB_FAIR_TO'] - data['RECR_INFO_JOB_FAIR_FROM']).dt.days\n",
    "data['campus_fair'] = (data['RECR_INFO_ON_CAMPUS_RECR_TO'] - data['RECR_INFO_ON_CAMPUS_RECR_FROM']).dt.days\n",
    "data['web_post'] = (data['RI_EMPLOYER_WEB_POST_TO'] - data['RI_EMPLOYER_WEB_POST_FROM']).dt.days\n",
    "data['org_ad'] = (data['RECR_INFO_PRO_ORG_ADVERT_TO'] - data['RECR_INFO_PRO_ORG_ADVERT_FROM']).dt.days\n",
    "data['searc_web'] =  (data['RI_JOB_SEARCH_WEBSITE_TO'] - data['RI_JOB_SEARCH_WEBSITE_FROM']).dt.days\n",
    "data['emp_frm'] =  (data['RI_PVT_EMPLOYMENT_FIRM_TO'] - data['RI_PVT_EMPLOYMENT_FIRM_FROM']).dt.days\n",
    "data['ref_prof'] = (data['RI_EMPLOYEE_REFERRAL_PROG_TO'] - data['RI_EMPLOYEE_REFERRAL_PROG_FROM']).dt.days\n",
    "data['campus_pl'] = (data['RI_CAMPUS_PLACEMENT_TO'] - data['RI_CAMPUS_PLACEMENT_FROM']).dt.days\n",
    "data['eth_pp'] = (data['RI_LOCAL_ETHNIC_PAPER_TO'] - data['RI_LOCAL_ETHNIC_PAPER_FROM']).dt.days\n",
    "data['tv_ad'] = (data['RECR_INFO_RADIO_TV_AD_TO'] - data['RECR_INFO_RADIO_TV_AD_FROM']).dt.days\n",
    "data['RECR_INFO_FIRST_AD_START'] = np.where(np.isnat(data['RECR_INFO_FIRST_AD_START']),0,1)\n",
    "data['RECR_INFO_SECOND_AD_START'] = np.where(np.isnat(data['RECR_INFO_SECOND_AD_START']),0,1)\n",
    "data[['job_fair','campus_fair','web_post','org_ad','searc_web','emp_frm','ref_prof','campus_pl','eth_pp','tv_ad']] = data[['job_fair','campus_fair','web_post','org_ad','searc_web','emp_frm','ref_prof','campus_pl','eth_pp','tv_ad']].replace({0.0:1.0})\n",
    "data['Total_rec'] = data[['swa','RECR_INFO_SECOND_AD_START','RECR_INFO_FIRST_AD_START','job_fair','campus_fair','web_post','org_ad','searc_web','emp_frm','ref_prof','campus_pl','eth_pp','tv_ad']].sum(axis=1)"
   ]
  },
  {
   "cell_type": "code",
   "execution_count": 15,
   "metadata": {
    "collapsed": true
   },
   "outputs": [],
   "source": [
    "#transforming the leftover columns\n",
    "data['JOB_INFO_JOB_REQ_NORMAL'] = np.where((data['JOB_INFO_JOB_REQ_NORMAL']) == \"Y\", 1,0)\n",
    "data['DEC_YEAR'] = pd.DatetimeIndex(data['DECISION_DATE']).year\n",
    "data['LAWYER'] = np.where(pd.isnull(data['AGENT_FIRM_NAME']), 0, 1)\n",
    "data['CASE_STATUS'] = pd.DataFrame(np.where(data['CASE_STATUS'] == 'Certified-Expired' , 'Certified', data['CASE_STATUS']))\n",
    "data['JOB_INFO_FOREIGN_LANG_REQ'] = np.where(data['JOB_INFO_FOREIGN_LANG_REQ'] == \"Y\", 1,0)\n",
    "data['JOB_INFO_COMBO_OCCUPATION'] = np.where((data['JOB_INFO_COMBO_OCCUPATION']) == \"Y\", 1,0)"
   ]
  },
  {
   "cell_type": "code",
   "execution_count": 255,
   "metadata": {
    "collapsed": true
   },
   "outputs": [],
   "source": [
    "#GEtting final data\n",
    "data_fin = data[['CASE_STATUS','JOB_INFO_JOB_REQ_NORMAL','DEC_YEAR','LAWYER','JOB_INFO_FOREIGN_LANG_REQ','JOB_INFO_COMBO_OCCUPATION','Wage_level','Year_wage_offer','Year_wage_pw','Ind_code','Higher education','Lower education','Total_rec','EMPLOYER_YR_ESTAB','H1B_VISA','Other_Visa','No_US_Visa','Same_education']]"
   ]
  },
  {
   "cell_type": "code",
   "execution_count": 256,
   "metadata": {},
   "outputs": [],
   "source": [
    "#Remove rows with withdrawn status\n",
    "data_fin = data_fin[data_fin.CASE_STATUS != \"Withdrawn\"]"
   ]
  },
  {
   "cell_type": "code",
   "execution_count": 257,
   "metadata": {
    "collapsed": true
   },
   "outputs": [],
   "source": [
    "#binarize case status\n",
    "data_fin['CASE_STATUS'] = np.where(data_fin['CASE_STATUS'] == \"Certified\",1,0)"
   ]
  },
  {
   "cell_type": "code",
   "execution_count": null,
   "metadata": {
    "collapsed": true
   },
   "outputs": [],
   "source": [
    "#Getting correlation between all of the variables\n",
    "import seaborn as sns\n",
    "fig, ax = plt.subplots(figsize=(10,10)) \n",
    "sns.heatmap(data_fin.corr(), annot = round(data_fin.corr(), ndigits=2))\n",
    "plt.show()"
   ]
  },
  {
   "cell_type": "code",
   "execution_count": 258,
   "metadata": {},
   "outputs": [],
   "source": [
    "data_fin = data_fin.reset_index()\n",
    "del data_fin['index']"
   ]
  },
  {
   "cell_type": "code",
   "execution_count": 259,
   "metadata": {
    "collapsed": true
   },
   "outputs": [],
   "source": [
    "#splitting features from target\n",
    "status = data_fin['CASE_STATUS'].as_matrix()\n",
    "data_ftr = data_fin.iloc[:,1:]"
   ]
  },
  {
   "cell_type": "code",
   "execution_count": 260,
   "metadata": {
    "collapsed": true
   },
   "outputs": [],
   "source": [
    "#taking out the last string values to make them all floats\n",
    "data_ftr['Ind_code'] =  np.where(data_ftr['Ind_code'] == 'na', -99, data_ftr['Ind_code'])\n",
    "data_ftr['Wage_level'] =  np.where(data_ftr['Wage_level'] == 'None', 0.0, data_ftr['Wage_level'])\n",
    "data_ftr['Wage_level'] = pd.to_numeric(data_ftr['Wage_level'])\n",
    "data_ftr['Ind_code'] = pd.to_numeric(data_ftr['Ind_code'])\n",
    "data_ftr['EMPLOYER_YR_ESTAB'] = data_ftr['EMPLOYER_YR_ESTAB'].fillna(0)"
   ]
  },
  {
   "cell_type": "markdown",
   "metadata": {},
   "source": [
    "## Trying mutual information"
   ]
  },
  {
   "cell_type": "code",
   "execution_count": 206,
   "metadata": {},
   "outputs": [
    {
     "data": {
      "text/plain": [
       "array([ 0.03052952,  0.01590449,  0.04925277,  0.        ,  0.        ,\n",
       "        0.015143  ,  0.01956274,  0.02130273,  0.01388966,  0.00124905,\n",
       "        0.        ,  0.00356287,  0.00402321,  0.03422744,  0.00103157,\n",
       "        0.00098141,  0.03838599])"
      ]
     },
     "execution_count": 206,
     "metadata": {},
     "output_type": "execute_result"
    }
   ],
   "source": [
    "mutual_info_classif(data_ftr, status)"
   ]
  },
  {
   "cell_type": "markdown",
   "metadata": {},
   "source": [
    "## Raw Logistic regression"
   ]
  },
  {
   "cell_type": "code",
   "execution_count": 207,
   "metadata": {},
   "outputs": [
    {
     "name": "stdout",
     "output_type": "stream",
     "text": [
      "[  6.19606225e-06  -2.68648278e-04  -3.02709067e-06   1.26940361e-06\n",
      "   7.01265175e-07  -5.30616226e-06  -2.93360988e-06  -1.70662086e-06\n",
      "   1.19645711e-05   1.19749308e-06  -5.17444036e-07   3.01767167e-05\n",
      "  -8.60492815e-04  -6.36494075e-06   3.15161656e-06   3.06235296e-06\n",
      "  -3.35506353e-06]\n",
      "Accuracy of logistic regression classifier on test set: 0.934413684\n",
      "[[69597     0]\n",
      " [ 4885     0]]\n",
      "             precision    recall  f1-score   support\n",
      "\n",
      "  Certified       0.93      1.00      0.97     69597\n",
      "     Denied       0.00      0.00      0.00      4885\n",
      "\n",
      "avg / total       0.87      0.93      0.90     74482\n",
      "\n"
     ]
    }
   ],
   "source": [
    "X_train, X_test, y_train, y_test = train_test_split(data_ftr, status, random_state=0)\n",
    "classifier = LogisticRegression(random_state=0)\n",
    "classifier.fit(X_train, y_train)\n",
    "coef = classifier.coef_[0]\n",
    "print (coef)\n",
    "print('Accuracy of logistic regression classifier on test set: {:.9f}'.format(classifier.score(X_test, y_test)))\n",
    "y_pred = classifier.predict(X_test)\n",
    "from sklearn.metrics import confusion_matrix\n",
    "confusion_matrix = confusion_matrix(y_test, y_pred)\n",
    "print(confusion_matrix)\n",
    "from sklearn.metrics import classification_report\n",
    "print(classification_report(y_test, y_pred))"
   ]
  },
  {
   "cell_type": "code",
   "execution_count": 298,
   "metadata": {},
   "outputs": [
    {
     "name": "stdout",
     "output_type": "stream",
     "text": [
      "Accuracy of logistic NB on test set: 0.927955748\n"
     ]
    },
    {
     "data": {
      "text/html": [
       "<div>\n",
       "<style>\n",
       "    .dataframe thead tr:only-child th {\n",
       "        text-align: right;\n",
       "    }\n",
       "\n",
       "    .dataframe thead th {\n",
       "        text-align: left;\n",
       "    }\n",
       "\n",
       "    .dataframe tbody tr th {\n",
       "        vertical-align: top;\n",
       "    }\n",
       "</style>\n",
       "<table border=\"1\" class=\"dataframe\">\n",
       "  <thead>\n",
       "    <tr style=\"text-align: right;\">\n",
       "      <th></th>\n",
       "      <th>0</th>\n",
       "      <th>1</th>\n",
       "    </tr>\n",
       "  </thead>\n",
       "  <tbody>\n",
       "    <tr>\n",
       "      <th>0</th>\n",
       "      <td>123</td>\n",
       "      <td>4762</td>\n",
       "    </tr>\n",
       "    <tr>\n",
       "      <th>1</th>\n",
       "      <td>604</td>\n",
       "      <td>68993</td>\n",
       "    </tr>\n",
       "  </tbody>\n",
       "</table>\n",
       "</div>"
      ],
      "text/plain": [
       "     0      1\n",
       "0  123   4762\n",
       "1  604  68993"
      ]
     },
     "execution_count": 298,
     "metadata": {},
     "output_type": "execute_result"
    }
   ],
   "source": [
    "from sklearn.naive_bayes import GaussianNB\n",
    "X_train, X_test, y_train, y_test = train_test_split(data_ftr, status, random_state=0)\n",
    "gnb = GaussianNB()\n",
    "gnbModel = gnb.fit(X_train, y_train)\n",
    "target_predNB = gnbModel.predict(X_test)\n",
    "print('Accuracy of logistic NB on test set: {:.9f}'.format(gnb.score(X_test, y_test)))\n",
    "pandas.DataFrame(metrics.confusion_matrix(y_test, target_predNB))"
   ]
  },
  {
   "cell_type": "code",
   "execution_count": 216,
   "metadata": {},
   "outputs": [],
   "source": [
    "flipped_data = data_fin.copy()\n",
    "flipped_data['CASE_STATUS'] = flipped_data['CASE_STATUS'].replace({1:0,0:1})\n",
    "#taking out the last string values to make them all floats\n",
    "flipped_data['Ind_code'] =  np.where(flipped_data['Ind_code'] == 'na', -99, flipped_data['Ind_code'])\n",
    "flipped_data['Wage_level'] =  np.where(flipped_data['Wage_level'] == 'None', 0.0, flipped_data['Wage_level'])\n",
    "flipped_data['Wage_level'] = pd.to_numeric(flipped_data['Wage_level'])\n",
    "flipped_data['Ind_code'] = pd.to_numeric(flipped_data['Ind_code'])\n",
    "flipped_data['EMPLOYER_YR_ESTAB'] = flipped_data['EMPLOYER_YR_ESTAB'].fillna(0)\n",
    "status_flp = flipped_data['CASE_STATUS'].as_matrix()\n",
    "data_ftr_flp = flipped_data.iloc[:,1:]"
   ]
  },
  {
   "cell_type": "code",
   "execution_count": 217,
   "metadata": {},
   "outputs": [
    {
     "name": "stdout",
     "output_type": "stream",
     "text": [
      "[  6.19606071e-06  -2.68648275e-04  -3.02708998e-06   1.26940331e-06\n",
      "   7.01265014e-07  -5.30616109e-06  -2.93360443e-06  -1.70660551e-06\n",
      "   1.19645640e-05   1.19749279e-06  -5.17443919e-07   3.01767018e-05\n",
      "  -8.60492815e-04  -6.36493920e-06   3.15161577e-06   3.06235221e-06\n",
      "  -3.35506276e-06]\n",
      "Accuracy of logistic regression classifier on test set: 0.934413684\n",
      "[[69597     0]\n",
      " [ 4885     0]]\n",
      "             precision    recall  f1-score   support\n",
      "\n",
      "  Certified       0.93      1.00      0.97     69597\n",
      "     Denied       0.00      0.00      0.00      4885\n",
      "\n",
      "avg / total       0.87      0.93      0.90     74482\n",
      "\n"
     ]
    }
   ],
   "source": [
    "X_train, X_test, y_train, y_test = train_test_split(data_ftr_flp, status_flp, random_state=0)\n",
    "classifier = LogisticRegression(random_state=0)\n",
    "classifier.fit(X_train, y_train)\n",
    "coef = classifier.coef_[0]\n",
    "print (coef)\n",
    "print('Accuracy of logistic regression classifier on test set: {:.9f}'.format(classifier.score(X_test, y_test)))\n",
    "y_pred = classifier.predict(X_test)\n",
    "from sklearn.metrics import confusion_matrix\n",
    "confusion_matrix = confusion_matrix(y_test, y_pred)\n",
    "print(confusion_matrix)\n",
    "from sklearn.metrics import classification_report\n",
    "print(classification_report(y_test, y_pred))"
   ]
  },
  {
   "cell_type": "markdown",
   "metadata": {},
   "source": [
    "## Getting rid of + rows"
   ]
  },
  {
   "cell_type": "code",
   "execution_count": 223,
   "metadata": {
    "collapsed": true
   },
   "outputs": [],
   "source": [
    "row_test = data_fin.copy()\n",
    "#taking out the last string values to make them all floats\n",
    "row_test['Ind_code'] =  np.where(row_test['Ind_code'] == 'na', -99, row_test['Ind_code'])\n",
    "row_test['Wage_level'] =  np.where(row_test['Wage_level'] == 'None', 0.0, row_test['Wage_level'])\n",
    "row_test['Wage_level'] = pd.to_numeric(row_test['Wage_level'])\n",
    "row_test['Ind_code'] = pd.to_numeric(row_test['Ind_code'])\n",
    "row_test['EMPLOYER_YR_ESTAB'] = row_test['EMPLOYER_YR_ESTAB'].fillna(0)"
   ]
  },
  {
   "cell_type": "code",
   "execution_count": 239,
   "metadata": {},
   "outputs": [],
   "source": [
    "row_test_cut = row_test.drop(row_test.query('CASE_STATUS == 1').sample(frac=.80).index)"
   ]
  },
  {
   "cell_type": "code",
   "execution_count": 233,
   "metadata": {},
   "outputs": [
    {
     "data": {
      "text/plain": [
       "1    0.934608\n",
       "0    0.065392\n",
       "Name: CASE_STATUS, dtype: float64"
      ]
     },
     "execution_count": 233,
     "metadata": {},
     "output_type": "execute_result"
    }
   ],
   "source": [
    "row_test['CASE_STATUS'].value_counts() / row_test['CASE_STATUS'].value_counts().sum()"
   ]
  },
  {
   "cell_type": "code",
   "execution_count": 240,
   "metadata": {},
   "outputs": [
    {
     "data": {
      "text/plain": [
       "0    0.716013\n",
       "1    0.283987\n",
       "Name: CASE_STATUS, dtype: float64"
      ]
     },
     "execution_count": 240,
     "metadata": {},
     "output_type": "execute_result"
    }
   ],
   "source": [
    "row_test_cut['CASE_STATUS'].value_counts() / row_test_cut['CASE_STATUS'].value_counts().sum()"
   ]
  },
  {
   "cell_type": "code",
   "execution_count": 241,
   "metadata": {
    "collapsed": true
   },
   "outputs": [],
   "source": [
    "status_cut = row_test_cut['CASE_STATUS'].as_matrix()\n",
    "data_ftr_cut = row_test_cut.iloc[:,1:]"
   ]
  },
  {
   "cell_type": "code",
   "execution_count": 251,
   "metadata": {},
   "outputs": [
    {
     "data": {
      "text/plain": [
       "Index(['JOB_INFO_JOB_REQ_NORMAL', 'DEC_YEAR', 'LAWYER',\n",
       "       'JOB_INFO_FOREIGN_LANG_REQ', 'JOB_INFO_COMBO_OCCUPATION', 'Wage_level',\n",
       "       'Ind_code', 'Higher education', 'Lower education', 'Total_rec',\n",
       "       'EMPLOYER_YR_ESTAB', 'H1B_VISA', 'Other_Visa', 'No_US_Visa',\n",
       "       'Same_education'],\n",
       "      dtype='object')"
      ]
     },
     "execution_count": 251,
     "metadata": {},
     "output_type": "execute_result"
    }
   ],
   "source": [
    "data_ftr_cut.columns"
   ]
  },
  {
   "cell_type": "code",
   "execution_count": 252,
   "metadata": {},
   "outputs": [],
   "source": [
    "del data_ftr_cut['Lower education']\n",
    "del data_ftr_cut['H1B_VISA']\n",
    "del data_ftr_cut['No_US_Visa']"
   ]
  },
  {
   "cell_type": "code",
   "execution_count": 338,
   "metadata": {},
   "outputs": [
    {
     "name": "stdout",
     "output_type": "stream",
     "text": [
      "      0     1\n",
      "0  3253  2563\n",
      "1   624  1723\n",
      "The accuracy score for this training is 0.609579811344\n",
      "             precision    recall  f1-score   support\n",
      "\n",
      "          0       0.84      0.56      0.67      5816\n",
      "          1       0.40      0.73      0.52      2347\n",
      "\n",
      "avg / total       0.71      0.61      0.63      8163\n",
      "\n"
     ]
    }
   ],
   "source": [
    "gaussian_nb(status_cut, data_ftr_cut)"
   ]
  },
  {
   "cell_type": "code",
   "execution_count": 339,
   "metadata": {},
   "outputs": [
    {
     "name": "stdout",
     "output_type": "stream",
     "text": [
      "      0    1\n",
      "0  5573  312\n",
      "1  1902  376\n",
      "The accuracy score for this training is 0.728776185226\n",
      "             precision    recall  f1-score   support\n",
      "\n",
      "          0       0.75      0.95      0.83      5885\n",
      "          1       0.55      0.17      0.25      2278\n",
      "\n",
      "avg / total       0.69      0.73      0.67      8163\n",
      "\n"
     ]
    }
   ],
   "source": [
    "svc(status_cut, data_ftr_cut)"
   ]
  },
  {
   "cell_type": "code",
   "execution_count": 253,
   "metadata": {},
   "outputs": [
    {
     "name": "stdout",
     "output_type": "stream",
     "text": [
      "      0  1\n",
      "0  5897  0\n",
      "1  2266  0\n",
      "[ -3.38370568e-01  -1.69588356e-03   1.56534411e-01  -9.80861567e-02\n",
      "  -1.09366303e-02   2.88234186e-02  -5.00856296e-03  -5.19030426e-02\n",
      "  -2.80832046e-05   1.30430317e-03  -4.10973699e-02   1.08098967e-01]\n",
      "The accuracy score for this training is 0.722405978194\n",
      "             precision    recall  f1-score   support\n",
      "\n",
      "          0       0.72      1.00      0.84      5897\n",
      "          1       0.00      0.00      0.00      2266\n",
      "\n",
      "avg / total       0.52      0.72      0.61      8163\n",
      "\n"
     ]
    }
   ],
   "source": [
    "from sklearn.metrics import confusion_matrix\n",
    "from sklearn.metrics import classification_report\n",
    "X_train, X_test, y_train, y_test = train_test_split(data_ftr_cut, status_cut, test_size=0.3)\n",
    "clf = LogisticRegression()\n",
    "\n",
    "clfModel = clf.fit(X_train, y_train)\n",
    "# predict target with feature test set using trained model\n",
    "target_pred = clfModel.predict(X_test)\n",
    "print(pandas.DataFrame(metrics.confusion_matrix(y_test, target_pred)))\n",
    "\n",
    "#classifier.fit(X_train, y_train)\n",
    "coef = clf.coef_[0]\n",
    "print (coef)\n",
    "print(\"The accuracy score for this training is\",metrics.accuracy_score(y_test, target_pred))\n",
    "print(classification_report(y_test, target_pred))"
   ]
  },
  {
   "cell_type": "markdown",
   "metadata": {},
   "source": [
    "## Functions for different classifications"
   ]
  },
  {
   "cell_type": "code",
   "execution_count": 318,
   "metadata": {
    "collapsed": true
   },
   "outputs": [],
   "source": [
    "def logit_regr(target, features):\n",
    "    from sklearn.metrics import confusion_matrix\n",
    "    from sklearn.metrics import classification_report\n",
    "    X_train, X_test, y_train, y_test = train_test_split(features, target, test_size=0.3)\n",
    "    clf = LogisticRegression()\n",
    "    clfModel = clf.fit(X_train, y_train)\n",
    "    # predict target with feature test set using trained model\n",
    "    target_pred = clfModel.predict(X_test)\n",
    "    print(pandas.DataFrame(metrics.confusion_matrix(y_test, target_pred), columns=[\"Denied\",\"Certified\"], index=[\"Denied\",\"Certified\"]))\n",
    "    coef = clf.coef_[0]\n",
    "    print (coef)\n",
    "    print(\"The accuracy score for this training is\",metrics.accuracy_score(y_test, target_pred))\n",
    "    print(classification_report(y_test, target_pred))"
   ]
  },
  {
   "cell_type": "code",
   "execution_count": 336,
   "metadata": {
    "collapsed": true
   },
   "outputs": [],
   "source": [
    "def gaussian_nb(target, features):\n",
    "    from sklearn.metrics import confusion_matrix\n",
    "    from sklearn.metrics import classification_report\n",
    "    X_train, X_test, y_train, y_test = train_test_split(features, target, test_size=0.3)\n",
    "    gnb = GaussianNB()\n",
    "    gnbModel = gnb.fit(X_train, y_train)\n",
    "    # predict target with feature test set using trained model\n",
    "    target_pred = gnbModel.predict(X_test)\n",
    "    print(pandas.DataFrame(metrics.confusion_matrix(y_test, target_pred)))\n",
    "    #coef = gnb.coef_[0]\n",
    "    #print (coef)\n",
    "    print(\"The accuracy score for this training is\",metrics.accuracy_score(y_test, target_pred))\n",
    "    print(classification_report(y_test, target_pred))"
   ]
  },
  {
   "cell_type": "code",
   "execution_count": 337,
   "metadata": {
    "collapsed": true
   },
   "outputs": [],
   "source": [
    "def svc(target, features):\n",
    "    from sklearn.metrics import confusion_matrix\n",
    "    from sklearn.metrics import classification_report\n",
    "    X_train, X_test, y_train, y_test = train_test_split(features, target, test_size=0.3)\n",
    "    svc = SVC()\n",
    "    gnbModel = svc.fit(X_train, y_train)\n",
    "    # predict target with feature test set using trained model\n",
    "    target_pred = gnbModel.predict(X_test)\n",
    "    print(pandas.DataFrame(metrics.confusion_matrix(y_test, target_pred)))\n",
    "    #coef = gnb.coef_[0]\n",
    "    #print (coef)\n",
    "    print(\"The accuracy score for this training is\",metrics.accuracy_score(y_test, target_pred))\n",
    "    print(classification_report(y_test, target_pred))"
   ]
  },
  {
   "cell_type": "markdown",
   "metadata": {},
   "source": [
    "## Clustering"
   ]
  },
  {
   "cell_type": "code",
   "execution_count": 185,
   "metadata": {},
   "outputs": [
    {
     "data": {
      "image/png": "[encoded data removed]",
      "text/plain": [
       "<matplotlib.figure.Figure at 0x1a2b2723c8>"
      ]
     },
     "metadata": {},
     "output_type": "display_data"
    }
   ],
   "source": [
    "# <help:scikit_k_means_cluster>\n",
    "import warnings\n",
    "warnings.filterwarnings('ignore') #notebook outputs warnings, let's ignore them\n",
    "from time import time\n",
    "import numpy as np\n",
    "import matplotlib.pyplot as plt\n",
    "import sklearn.datasets\n",
    "from sklearn.cluster import KMeans\n",
    "\n",
    "# set the number of clusters, must be >=1\n",
    "n = 6\n",
    "inertia = [np.NaN]\n",
    "\n",
    "# perform k-means clustering over i=0...k\n",
    "for k in range(1,n):\n",
    "    k_means_ = KMeans(n_clusters=k)\n",
    "    k_means_.fit(data_ftr)\n",
    "    #labels = kmeans.labels_\n",
    "    #print('k = %d, inertia= %f' % (k, k_means_.inertia_ ))\n",
    "    inertia.append(k_means_.inertia_) \n",
    "    \n",
    "# plot the SSE of the clusters for each value of i\n",
    "ax = plt.subplot(111)\n",
    "ax.plot(inertia, '-o')\n",
    "plt.xticks(range(n))\n",
    "plt.title(\"Inertia\")\n",
    "ax.set_ylabel('Inertia')\n",
    "ax.set_xlabel('# Clustears')\n",
    "plt.show() "
   ]
  },
  {
   "cell_type": "code",
   "execution_count": 261,
   "metadata": {},
   "outputs": [],
   "source": [
    "# <help:scikit_k_means_cluster>\n",
    "import warnings\n",
    "warnings.filterwarnings('ignore') #notebook outputs warnings, let's ignore them\n",
    "from time import time\n",
    "import numpy as np\n",
    "import matplotlib.pyplot as plt\n",
    "import sklearn.datasets\n",
    "from sklearn.cluster import KMeans\n",
    "\n",
    "# set the number of clusters, must be >=1\n",
    "n = 6\n",
    "inertia = [np.NaN]\n",
    "\n",
    "# perform k-means clustering over i=0...k\n",
    "\n",
    "k_means_ = KMeans(n_clusters=3)\n",
    "k_means_.fit(data_ftr)\n",
    "labels = k_means_.labels_\n",
    "#print('k = %d, inertia= %f' % (k, k_means_.inertia_ ))\n",
    "inertia.append(k_means_.inertia_) \n",
    "    "
   ]
  },
  {
   "cell_type": "code",
   "execution_count": 262,
   "metadata": {},
   "outputs": [],
   "source": [
    "data_ftr['Cluster_Label'] = labels"
   ]
  },
  {
   "cell_type": "code",
   "execution_count": 263,
   "metadata": {},
   "outputs": [
    {
     "data": {
      "text/plain": [
       "0    154476\n",
       "1     87502\n",
       "2     55950\n",
       "Name: Cluster_Label, dtype: int64"
      ]
     },
     "execution_count": 263,
     "metadata": {},
     "output_type": "execute_result"
    }
   ],
   "source": [
    "data_ftr['Cluster_Label'].value_counts()"
   ]
  },
  {
   "cell_type": "code",
   "execution_count": 264,
   "metadata": {},
   "outputs": [],
   "source": [
    "data_ftr['CASE_STATUS'] =  status"
   ]
  },
  {
   "cell_type": "markdown",
   "metadata": {},
   "source": [
    "Running classification on the clusters, with 75% of the + data taken out"
   ]
  },
  {
   "cell_type": "code",
   "execution_count": 313,
   "metadata": {},
   "outputs": [],
   "source": [
    "data_cl0 = data_ftr.loc[data_ftr['Cluster_Label'] ==0]\n",
    "data_cl0 = data_cl0.drop(data_cl0.query('CASE_STATUS == 1').sample(frac=.75).index)\n",
    "data_cl1 = data_ftr.loc[data_ftr['Cluster_Label'] ==1]\n",
    "data_cl1 = data_cl1.drop(data_cl1.query('CASE_STATUS == 1').sample(frac=.75).index)\n",
    "data_cl2 = data_ftr.loc[data_ftr['Cluster_Label'] ==2]\n",
    "data_cl2 = data_cl2.drop(data_cl2.query('CASE_STATUS == 1').sample(frac=.75).index)"
   ]
  },
  {
   "cell_type": "code",
   "execution_count": 340,
   "metadata": {},
   "outputs": [
    {
     "name": "stdout",
     "output_type": "stream",
     "text": [
      "     0      1\n",
      "0  531   2305\n",
      "1  236  10596\n",
      "The accuracy score for this training is 0.814091308165\n",
      "             precision    recall  f1-score   support\n",
      "\n",
      "          0       0.69      0.19      0.29      2836\n",
      "          1       0.82      0.98      0.89     10832\n",
      "\n",
      "avg / total       0.79      0.81      0.77     13668\n",
      "\n"
     ]
    }
   ],
   "source": [
    "svc(data_cl0.iloc[:,-1],data_cl0.iloc[:,0:17])"
   ]
  },
  {
   "cell_type": "code",
   "execution_count": 341,
   "metadata": {},
   "outputs": [
    {
     "name": "stdout",
     "output_type": "stream",
     "text": [
      "     0     1\n",
      "0  211  1317\n",
      "1  127  6043\n",
      "The accuracy score for this training is 0.812418810081\n",
      "             precision    recall  f1-score   support\n",
      "\n",
      "          0       0.62      0.14      0.23      1528\n",
      "          1       0.82      0.98      0.89      6170\n",
      "\n",
      "avg / total       0.78      0.81      0.76      7698\n",
      "\n"
     ]
    }
   ],
   "source": [
    "svc(data_cl1.iloc[:,-1],data_cl1.iloc[:,0:17])"
   ]
  },
  {
   "cell_type": "code",
   "execution_count": 342,
   "metadata": {},
   "outputs": [
    {
     "name": "stdout",
     "output_type": "stream",
     "text": [
      "     0     1\n",
      "0  448  1153\n",
      "1  103  3660\n",
      "The accuracy score for this training is 0.765846383296\n",
      "             precision    recall  f1-score   support\n",
      "\n",
      "          0       0.81      0.28      0.42      1601\n",
      "          1       0.76      0.97      0.85      3763\n",
      "\n",
      "avg / total       0.78      0.77      0.72      5364\n",
      "\n"
     ]
    }
   ],
   "source": [
    "svc(data_cl2.iloc[:,-1],data_cl2.iloc[:,0:17])"
   ]
  }
 ],
 "metadata": {
  "kernelspec": {
   "display_name": "Python 3",
   "language": "python",
   "name": "python3"
  },
  "language_info": {
   "codemirror_mode": {
    "name": "ipython",
    "version": 3
   },
   "file_extension": ".py",
   "mimetype": "text/x-python",
   "name": "python",
   "nbconvert_exporter": "python",
   "pygments_lexer": "ipython3",
   "version": "3.6.3"
  }
 },
 "nbformat": 4,
 "nbformat_minor": 2
}
